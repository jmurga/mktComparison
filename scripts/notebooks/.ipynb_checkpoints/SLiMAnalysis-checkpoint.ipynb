{
 "cells": [
  {
   "cell_type": "markdown",
   "metadata": {},
   "source": [
    "Loading libraries"
   ]
  },
  {
   "cell_type": "code",
   "execution_count": null,
   "metadata": {
    "ExecuteTime": {
     "end_time": "2019-10-01T14:09:19.427380Z",
     "start_time": "2019-10-01T14:09:18.273Z"
    }
   },
   "outputs": [],
   "source": [
    "library(repr)\n",
    "suppressMessages(library(dplyr))\n",
    "suppressMessages(library(iMKT))\n",
    "source('/home/jmurga/mkt/201902/scripts/src/plotStyle.R')\n",
    "source('/home/jmurga/mkt/201902/scripts/src/simulationsPlot.R')"
   ]
  },
  {
   "cell_type": "code",
   "execution_count": null,
   "metadata": {
    "ExecuteTime": {
     "end_time": "2019-10-01T14:13:05.159720Z",
     "start_time": "2019-10-01T14:13:05.117Z"
    }
   },
   "outputs": [],
   "source": [
    "options(repr.plot.width=20, repr.plot.height=10)"
   ]
  },
  {
   "cell_type": "markdown",
   "metadata": {
    "heading_collapsed": true
   },
   "source": [
    "## Ploting each simulated scenario"
   ]
  },
  {
   "cell_type": "markdown",
   "metadata": {
    "heading_collapsed": true,
    "hidden": true
   },
   "source": [
    "### Alpha baseline "
   ]
  },
  {
   "cell_type": "code",
   "execution_count": null,
   "metadata": {
    "ExecuteTime": {
     "end_time": "2019-10-01T10:48:53.594949Z",
     "start_time": "2019-10-01T10:46:43.348Z"
    },
    "code_folding": [],
    "hidden": true,
    "scrolled": true
   },
   "outputs": [],
   "source": [
    "baseline <- mktOnsimulatedData(scenario='baseline',simulationsPath='/home/jmurga/mkt/201902/rawData/simulations/alphaComparisons/')"
   ]
  },
  {
   "cell_type": "code",
   "execution_count": null,
   "metadata": {
    "ExecuteTime": {
     "end_time": "2019-10-01T10:48:54.827454Z",
     "start_time": "2019-10-01T10:46:43.350Z"
    },
    "hidden": true
   },
   "outputs": [],
   "source": [
    "print(baseline$table)\n",
    "print(baseline$plot)"
   ]
  },
  {
   "cell_type": "code",
   "execution_count": null,
   "metadata": {
    "ExecuteTime": {
     "end_time": "2019-10-01T10:48:57.665345Z",
     "start_time": "2019-10-01T10:46:43.353Z"
    },
    "hidden": true
   },
   "outputs": [],
   "source": [
    "ggsave(baseline[['plot']],file='/home/jmurga/mkt/201902/results/simulations/baseline.png',height = 15,width = 20)"
   ]
  },
  {
   "cell_type": "markdown",
   "metadata": {
    "hidden": true
   },
   "source": [
    "### r0"
   ]
  },
  {
   "cell_type": "code",
   "execution_count": null,
   "metadata": {
    "ExecuteTime": {
     "end_time": "2019-10-01T10:54:41.389159Z",
     "start_time": "2019-10-01T10:46:43.355Z"
    },
    "code_folding": [],
    "hidden": true,
    "scrolled": true
   },
   "outputs": [],
   "source": [
    "r0 <- mktOnsimulatedData(scenario='r0',simulationsPath='/home/jmurga/mkt/201902/rawData/simulations/alphaComparisons/')"
   ]
  },
  {
   "cell_type": "code",
   "execution_count": null,
   "metadata": {
    "ExecuteTime": {
     "end_time": "2019-10-01T10:54:42.807278Z",
     "start_time": "2019-10-01T10:46:43.358Z"
    },
    "hidden": true
   },
   "outputs": [],
   "source": [
    "print(r0$table)\n",
    "print(r0$plot)"
   ]
  },
  {
   "cell_type": "code",
   "execution_count": null,
   "metadata": {
    "ExecuteTime": {
     "end_time": "2019-10-01T10:54:45.949266Z",
     "start_time": "2019-10-01T10:46:43.361Z"
    },
    "hidden": true
   },
   "outputs": [],
   "source": [
    "ggsave(r0[['plot']],file='/home/jmurga/mkt/201902/results/simulations/r0.png',height = 15,width = 20)"
   ]
  },
  {
   "cell_type": "markdown",
   "metadata": {
    "hidden": true
   },
   "source": [
    "### r1e-5"
   ]
  },
  {
   "cell_type": "code",
   "execution_count": null,
   "metadata": {
    "ExecuteTime": {
     "end_time": "2019-05-20T15:12:55.696624Z",
     "start_time": "2019-05-20T15:06:32.838Z"
    },
    "code_folding": [],
    "hidden": true,
    "scrolled": false
   },
   "outputs": [],
   "source": [
    "r1 <- mktOnsimulatedData(scenario='r1e-5',simulationsPath='/home/jmurga/mkt/201902/rawData/simulations/alphaComparisions/')\n",
    "ggsave(r1[['plot']],file='/home/jmurga/mkt/201902/results/simulations/r1e-5.png',height = 15,width = 20)"
   ]
  },
  {
   "cell_type": "markdown",
   "metadata": {
    "hidden": true
   },
   "source": [
    "### r1e-10"
   ]
  },
  {
   "cell_type": "code",
   "execution_count": null,
   "metadata": {
    "hidden": true
   },
   "outputs": [],
   "source": [
    "r2 <- mktOnsimulatedData(scenario='r1e-10',simulationsPath='/home/jmurga/mkt/201902/rawData/simulations/alphaComparisions/')"
   ]
  },
  {
   "cell_type": "markdown",
   "metadata": {
    "hidden": true
   },
   "source": [
    "### Length 10e6"
   ]
  },
  {
   "cell_type": "code",
   "execution_count": null,
   "metadata": {
    "ExecuteTime": {
     "end_time": "2019-10-01T10:58:40.489064Z",
     "start_time": "2019-10-01T10:46:49.374Z"
    },
    "hidden": true,
    "scrolled": true
   },
   "outputs": [],
   "source": [
    "l1e6 <- mktOnsimulatedData(scenario = \"l1e6\", simulationsPath = \"/home/jmurga/mkt/201902/rawData/simulations/alphaComparisons\")"
   ]
  },
  {
   "cell_type": "code",
   "execution_count": null,
   "metadata": {
    "ExecuteTime": {
     "end_time": "2019-10-01T10:58:41.842715Z",
     "start_time": "2019-10-01T10:46:49.377Z"
    },
    "hidden": true
   },
   "outputs": [],
   "source": [
    "print(l1e6$table)\n",
    "print(l1e6$plot)"
   ]
  },
  {
   "cell_type": "code",
   "execution_count": null,
   "metadata": {
    "ExecuteTime": {
     "end_time": "2019-10-01T12:25:45.830430Z",
     "start_time": "2019-10-01T12:25:43.694Z"
    },
    "hidden": true
   },
   "outputs": [],
   "source": [
    "ggsave(l1e6[['plot']],file='/home/jmurga/mkt/201902/results/simulations/l1e6.png',height = 10,width = 20)"
   ]
  },
  {
   "cell_type": "markdown",
   "metadata": {
    "hidden": true
   },
   "source": [
    "### Length 10e8"
   ]
  },
  {
   "cell_type": "code",
   "execution_count": null,
   "metadata": {
    "ExecuteTime": {
     "end_time": "2019-10-01T10:58:41.969095Z",
     "start_time": "2019-10-01T10:46:49.383Z"
    },
    "hidden": true
   },
   "outputs": [],
   "source": [
    "l1e8 <- mktOnsimulatedData(scenario='l1e8',simulationsPath='/home/jmurga/mkt/201902/rawData/simulations/alphaComparisions/');length10e8[['plot']]\n",
    "ggsave(length10e8[['plot']],file='/home/jmurga/mkt/201902/results/simulations/length10e8.png',height = 15,width = 20)"
   ]
  },
  {
   "cell_type": "markdown",
   "metadata": {
    "hidden": true
   },
   "source": [
    "### Mutation rate 1e-10"
   ]
  },
  {
   "cell_type": "code",
   "execution_count": null,
   "metadata": {
    "ExecuteTime": {
     "end_time": "2019-10-01T12:30:13.511143Z",
     "start_time": "2019-10-01T12:26:01.358Z"
    },
    "hidden": true,
    "scrolled": true
   },
   "outputs": [],
   "source": [
    "mu1 <- mktOnsimulatedData(scenario='mu1e-10',simulationsPath='/home/jmurga/mkt/201902/rawData/simulations/alphaComparisons/');"
   ]
  },
  {
   "cell_type": "code",
   "execution_count": null,
   "metadata": {
    "ExecuteTime": {
     "end_time": "2019-10-01T12:30:21.062681Z",
     "start_time": "2019-10-01T12:26:02.254Z"
    },
    "hidden": true
   },
   "outputs": [],
   "source": [
    "print(mu1$table)\n",
    "print(mu1$plot)"
   ]
  },
  {
   "cell_type": "code",
   "execution_count": null,
   "metadata": {
    "ExecuteTime": {
     "end_time": "2019-10-01T12:30:30.660465Z",
     "start_time": "2019-10-01T12:26:03.164Z"
    },
    "hidden": true
   },
   "outputs": [],
   "source": [
    "ggsave(mu1[['plot']],file='/home/jmurga/mkt/201902/results/simulations/mu1.png',height = 15,width = 20)"
   ]
  },
  {
   "cell_type": "markdown",
   "metadata": {
    "hidden": true
   },
   "source": [
    "### Mutation rate 1e-8"
   ]
  },
  {
   "cell_type": "code",
   "execution_count": null,
   "metadata": {
    "ExecuteTime": {
     "end_time": "2019-10-01T14:11:57.434458Z",
     "start_time": "2019-10-01T14:09:22.574Z"
    },
    "hidden": true,
    "scrolled": true
   },
   "outputs": [],
   "source": [
    "mu2 <- mktOnsimulatedData(scenario='mu1e-8',simulationsPath='/home/jmurga/mkt/201902/rawData/simulations/alphaComparisons/');"
   ]
  },
  {
   "cell_type": "code",
   "execution_count": null,
   "metadata": {
    "ExecuteTime": {
     "end_time": "2019-10-01T14:13:14.194738Z",
     "start_time": "2019-10-01T14:13:12.942Z"
    },
    "hidden": true
   },
   "outputs": [],
   "source": [
    "print(mu2$table)\n",
    "print(mu2$plot)"
   ]
  },
  {
   "cell_type": "code",
   "execution_count": null,
   "metadata": {
    "ExecuteTime": {
     "end_time": "2019-10-01T14:00:33.655078Z",
     "start_time": "2019-10-01T14:00:21.059Z"
    },
    "hidden": true
   },
   "outputs": [],
   "source": [
    "ggsave(mu2[['plot']],file='/home/jmurga/mkt/201902/results/simulations/mu2.pdf',height = 10,width = 20)"
   ]
  },
  {
   "cell_type": "markdown",
   "metadata": {
    "hidden": true
   },
   "source": [
    "### Alpha Rb1e-5"
   ]
  },
  {
   "cell_type": "code",
   "execution_count": null,
   "metadata": {
    "ExecuteTime": {
     "end_time": "2019-10-01T12:35:46.863138Z",
     "start_time": "2019-10-01T12:26:11.788Z"
    },
    "hidden": true,
    "scrolled": true
   },
   "outputs": [],
   "source": [
    "rb1 <- mktOnsimulatedData(scenario='rb1e-5',simulationsPath='/home/jmurga/mkt/201902/rawData/simulations/alphaComparisons/')"
   ]
  },
  {
   "cell_type": "code",
   "execution_count": null,
   "metadata": {
    "ExecuteTime": {
     "end_time": "2019-10-01T12:36:00.597947Z",
     "start_time": "2019-10-01T12:26:12.430Z"
    },
    "hidden": true
   },
   "outputs": [],
   "source": [
    "print(rb1$table)\n",
    "print(rb1$plot)"
   ]
  },
  {
   "cell_type": "code",
   "execution_count": null,
   "metadata": {
    "ExecuteTime": {
     "end_time": "2019-10-01T12:36:14.773808Z",
     "start_time": "2019-10-01T12:26:15.006Z"
    },
    "hidden": true
   },
   "outputs": [],
   "source": [
    "ggsave(rb1[['plot']],file='/home/jmurga/mkt/201902/results/simulations/rb1.png',height = 15,width = 20)"
   ]
  },
  {
   "cell_type": "markdown",
   "metadata": {
    "hidden": true
   },
   "source": [
    "### Alpha Rb1e-3"
   ]
  },
  {
   "cell_type": "code",
   "execution_count": null,
   "metadata": {
    "ExecuteTime": {
     "end_time": "2019-10-01T12:38:35.115344Z",
     "start_time": "2019-10-01T12:26:16.364Z"
    },
    "hidden": true,
    "scrolled": true
   },
   "outputs": [],
   "source": [
    "rb2 <- mktOnsimulatedData(scenario='rb1e-3',simulationsPath='/home/jmurga/mkt/201902/rawData/simulations/alphaComparisons/');"
   ]
  },
  {
   "cell_type": "code",
   "execution_count": null,
   "metadata": {
    "ExecuteTime": {
     "end_time": "2019-10-01T12:38:49.353206Z",
     "start_time": "2019-10-01T12:26:17.037Z"
    },
    "hidden": true
   },
   "outputs": [],
   "source": [
    "print(rb2$table)\n",
    "print(rb2$plot)"
   ]
  },
  {
   "cell_type": "code",
   "execution_count": null,
   "metadata": {
    "ExecuteTime": {
     "end_time": "2019-10-01T12:39:06.297550Z",
     "start_time": "2019-10-01T12:26:18.124Z"
    },
    "hidden": true
   },
   "outputs": [],
   "source": [
    "ggsave(rb2[['plot']],file='/home/jmurga/mkt/201902/results/simulations/rb2.png',height = 15,width = 20)"
   ]
  },
  {
   "cell_type": "markdown",
   "metadata": {
    "hidden": true
   },
   "source": [
    "### Alpha Sb2e-2  "
   ]
  },
  {
   "cell_type": "code",
   "execution_count": null,
   "metadata": {
    "ExecuteTime": {
     "end_time": "2019-10-01T13:03:14.159874Z",
     "start_time": "2019-10-01T13:01:06.316Z"
    },
    "hidden": true,
    "scrolled": true
   },
   "outputs": [],
   "source": [
    "sb1 <- mktOnsimulatedData(scenario='sb2e-2',simulationsPath='/home/jmurga/mkt/201902/rawData/simulations/alphaComparisons/');"
   ]
  },
  {
   "cell_type": "code",
   "execution_count": null,
   "metadata": {
    "ExecuteTime": {
     "end_time": "2019-10-01T13:03:27.768221Z",
     "start_time": "2019-10-01T13:01:07.820Z"
    },
    "hidden": true
   },
   "outputs": [],
   "source": [
    "print(sb1$table)\n",
    "print(sb1$plot)"
   ]
  },
  {
   "cell_type": "code",
   "execution_count": null,
   "metadata": {
    "ExecuteTime": {
     "end_time": "2019-10-01T13:03:43.106057Z",
     "start_time": "2019-10-01T13:01:09.420Z"
    },
    "hidden": true
   },
   "outputs": [],
   "source": [
    "ggsave(sb1[['plot']],file='/home/jmurga/mkt/201902/results/simulations/sb1.png',height = 15,width = 20)"
   ]
  },
  {
   "cell_type": "markdown",
   "metadata": {
    "hidden": true
   },
   "source": [
    "### Alpha Sb2-e1"
   ]
  },
  {
   "cell_type": "code",
   "execution_count": null,
   "metadata": {
    "ExecuteTime": {
     "end_time": "2019-10-01T13:33:42.422948Z",
     "start_time": "2019-10-01T13:31:39.792Z"
    },
    "hidden": true
   },
   "outputs": [],
   "source": [
    "sb2 <- mktOnsimulatedData(scenario='sb2e-2',simulationsPath='/home/jmurga/mkt/201902/rawData/simulations/alphaComparisons/');"
   ]
  },
  {
   "cell_type": "code",
   "execution_count": null,
   "metadata": {
    "ExecuteTime": {
     "end_time": "2019-10-01T13:03:55.409373Z",
     "start_time": "2019-10-01T13:01:11.855Z"
    },
    "hidden": true
   },
   "outputs": [],
   "source": [
    "print(sb2$table)\n",
    "print(sb2$plot)"
   ]
  },
  {
   "cell_type": "code",
   "execution_count": null,
   "metadata": {
    "ExecuteTime": {
     "end_time": "2019-10-01T13:03:55.414673Z",
     "start_time": "2019-10-01T13:01:11.857Z"
    },
    "hidden": true
   },
   "outputs": [],
   "source": [
    "ggsave(sb2[['plot']],file='/home/jmurga/mkt/201902/results/simulations/sb2.png',height = 15,width = 20)"
   ]
  },
  {
   "cell_type": "markdown",
   "metadata": {
    "hidden": true
   },
   "source": [
    "### Alpha Sd (-2)e-3"
   ]
  },
  {
   "cell_type": "code",
   "execution_count": null,
   "metadata": {
    "ExecuteTime": {
     "end_time": "2019-10-01T13:03:55.461581Z",
     "start_time": "2019-10-01T13:01:17.307Z"
    },
    "hidden": true
   },
   "outputs": [],
   "source": [
    "sd1 <- mktOnsimulatedData(scenario='sd-2e-1',simulationsPath='/home/jmurga/mkt/201902/rawData/simulations/alphaComparisons/');"
   ]
  },
  {
   "cell_type": "code",
   "execution_count": null,
   "metadata": {
    "ExecuteTime": {
     "end_time": "2019-10-01T13:03:55.465288Z",
     "start_time": "2019-10-01T13:01:17.310Z"
    },
    "hidden": true
   },
   "outputs": [],
   "source": [
    "print(sd1$table)\n",
    "print(sd1$plot)"
   ]
  },
  {
   "cell_type": "code",
   "execution_count": null,
   "metadata": {
    "ExecuteTime": {
     "end_time": "2019-10-01T13:03:55.564758Z",
     "start_time": "2019-10-01T13:01:24.138Z"
    },
    "hidden": true
   },
   "outputs": [],
   "source": [
    "ggsave(sd1[['plot']],file='/home/jmurga/mkt/201902/results/simulations/sd1.png',height = 15,width = 20)"
   ]
  },
  {
   "cell_type": "markdown",
   "metadata": {
    "hidden": true
   },
   "source": [
    "### Alpha Sd (-2)e-1"
   ]
  },
  {
   "cell_type": "code",
   "execution_count": null,
   "metadata": {
    "ExecuteTime": {
     "end_time": "2019-10-01T13:03:55.500986Z",
     "start_time": "2019-10-01T13:01:20.491Z"
    },
    "hidden": true
   },
   "outputs": [],
   "source": [
    "sd2 <- mktOnsimulatedData(scenario='sd-2e-3',simulationsPath='/home/jmurga/mkt/201902/rawData/simulations/alphaComparisons/');"
   ]
  },
  {
   "cell_type": "code",
   "execution_count": null,
   "metadata": {
    "ExecuteTime": {
     "end_time": "2019-10-01T13:03:55.506455Z",
     "start_time": "2019-10-01T13:01:20.493Z"
    },
    "hidden": true
   },
   "outputs": [],
   "source": [
    "print(sd2$table)\n",
    "print(sd2$plot)"
   ]
  },
  {
   "cell_type": "code",
   "execution_count": null,
   "metadata": {
    "ExecuteTime": {
     "end_time": "2019-10-01T13:03:55.543717Z",
     "start_time": "2019-10-01T13:01:22.751Z"
    },
    "hidden": true
   },
   "outputs": [],
   "source": [
    "ggsave(sd2[['plot']],file='/home/jmurga/mkt/201902/results/simulations/sd2.png',height = 15,width = 20)"
   ]
  },
  {
   "cell_type": "markdown",
   "metadata": {
    "hidden": true
   },
   "source": [
    "### Alpha generation time 2e4"
   ]
  },
  {
   "cell_type": "code",
   "execution_count": null,
   "metadata": {
    "ExecuteTime": {
     "end_time": "2019-10-01T13:03:55.585788Z",
     "start_time": "2019-10-01T13:01:26.778Z"
    },
    "hidden": true,
    "scrolled": true
   },
   "outputs": [],
   "source": [
    "t2e4 <- mktOnsimulatedData(scenario='t2e4',simulationsPath='/home/jmurga/mkt/201902/rawData/simulations/alphaComparisons/');"
   ]
  },
  {
   "cell_type": "code",
   "execution_count": null,
   "metadata": {
    "ExecuteTime": {
     "end_time": "2019-10-01T13:03:55.591031Z",
     "start_time": "2019-10-01T13:01:26.780Z"
    },
    "hidden": true
   },
   "outputs": [],
   "source": [
    "print(t2e4$table)\n",
    "print(t2e4$plot)"
   ]
  },
  {
   "cell_type": "code",
   "execution_count": null,
   "metadata": {
    "ExecuteTime": {
     "end_time": "2019-10-01T13:03:55.596141Z",
     "start_time": "2019-10-01T13:01:26.784Z"
    },
    "hidden": true
   },
   "outputs": [],
   "source": [
    "ggsave(t2e4[['plot']],file='/home/jmurga/mkt/201902/results/simulations/t2e4.png',height = 15,width = 20)"
   ]
  },
  {
   "cell_type": "markdown",
   "metadata": {
    "hidden": true
   },
   "source": [
    "### Alpha generation time 2e6"
   ]
  },
  {
   "cell_type": "code",
   "execution_count": null,
   "metadata": {
    "ExecuteTime": {
     "start_time": "2019-05-20T15:06:32.905Z"
    },
    "hidden": true
   },
   "outputs": [],
   "source": [
    "t2e6 <- mktOnsimulatedData(scenario='t2e6',simulationsPath='/home/jmurga/mkt/201902/rawData/dmel/simulations/');\n",
    "ggsave(t2e6[['plot']],file='/home/jmurga/mkt/201902/results/simulations/t2e6.svg',height = 15,width = 20)"
   ]
  },
  {
   "cell_type": "code",
   "execution_count": null,
   "metadata": {
    "ExecuteTime": {
     "start_time": "2019-05-20T15:06:32.908Z"
    },
    "hidden": true
   },
   "outputs": [],
   "source": [
    "t2e6[['plot']]"
   ]
  },
  {
   "cell_type": "markdown",
   "metadata": {
    "heading_collapsed": true
   },
   "source": [
    "## Extract simulation table"
   ]
  },
  {
   "cell_type": "code",
   "execution_count": null,
   "metadata": {
    "ExecuteTime": {
     "end_time": "2019-05-21T09:28:10.353931Z",
     "start_time": "2019-05-21T09:28:10.283Z"
    },
    "hidden": true
   },
   "outputs": [],
   "source": [
    "output <- rbind(baseline$table,r0$table,r1$table,length10e6$table,length10e8$table,mu1$table,mu2$table,rb1$table,rb2$table,sb1$table,sb2$table,sd1$table,sd2$table,t2e4$table,t2e6$table)\n",
    "\n",
    "output <- output %>% select(scenario, everything())\n",
    "\n",
    "fwrite(output,file='/home/jmurga/mkt/201902/results/simulations/simulationsMetrics.tab',sep='\\t',row.names=T,col.names=T)"
   ]
  },
  {
   "cell_type": "code",
   "execution_count": null,
   "metadata": {
    "ExecuteTime": {
     "end_time": "2019-05-21T09:30:05.468617Z",
     "start_time": "2019-05-21T09:30:05.446Z"
    },
    "hidden": true
   },
   "outputs": [],
   "source": [
    "output <- rbind(baseline$table,r0$table,r1$table,length10e6$table,length10e8$table,mu1$table,mu2$table,rb1$table,rb2$table,sb1$table,sb2$table,sd1$table,sd2$table,t2e4$table,t2e6$table)"
   ]
  },
  {
   "cell_type": "code",
   "execution_count": null,
   "metadata": {
    "ExecuteTime": {
     "end_time": "2019-05-21T09:30:56.210479Z",
     "start_time": "2019-05-21T09:30:56.179Z"
    },
    "hidden": true
   },
   "outputs": [],
   "source": [
    "r0$table"
   ]
  },
  {
   "cell_type": "code",
   "execution_count": null,
   "metadata": {
    "ExecuteTime": {
     "end_time": "2019-05-21T09:30:28.741062Z",
     "start_time": "2019-05-21T09:30:28.556Z"
    },
    "hidden": true
   },
   "outputs": [],
   "source": [
    "output"
   ]
  },
  {
   "cell_type": "markdown",
   "metadata": {
    "heading_collapsed": true
   },
   "source": [
    "## Grid all scenarios"
   ]
  },
  {
   "cell_type": "code",
   "execution_count": null,
   "metadata": {
    "ExecuteTime": {
     "end_time": "2019-03-08T11:38:06.128168Z",
     "start_time": "2019-03-08T11:41:36.500Z"
    },
    "hidden": true,
    "scrolled": true
   },
   "outputs": [],
   "source": [
    "svg('/home/jmurga/mkt/201902/results/simulations/simulationsMKT.svg',height = 30, width = 25)\n",
    "plot_grid(baseline[['plot']],NULL,NULL,NULL,\n",
    "          length10e6[['plot']],length10e8[['plot']],\n",
    "          mu1[['plot']],mu2[['plot']],\n",
    "          rb1[['plot']],rb2[['plot']],\n",
    "          sb1[['plot']],sb2[['plot']],\n",
    "          sd1[['plot']],sd2[['plot']],\n",
    "          t2e4[['plot']],t2e6[['plot']],\n",
    "          NULL,r0[['plot']],r1[['plot']],NULL,\n",
    "          ncol=4,\n",
    "          labels=c(\"A\",\"\",LETTERS[2:15]))\n",
    "dev.off()"
   ]
  },
  {
   "cell_type": "markdown",
   "metadata": {},
   "source": [
    "## Weakly deleterious fraction on SLiM data"
   ]
  },
  {
   "cell_type": "code",
   "execution_count": null,
   "metadata": {},
   "outputs": [],
   "source": [
    "baseline <- wdOnsimulatedData(scenario='baseline',simulationsPath='/home/jmurga/mkt/201902/rawData/simulations/wdEstimation/')"
   ]
  },
  {
   "cell_type": "code",
   "execution_count": null,
   "metadata": {},
   "outputs": [],
   "source": [
    "f1 <- wdOnsimulatedData(scenario='fitnessDel1e-2',simulationsPath='/home/jmurga/mkt/201902/rawData/simulations/wdEstimation/')"
   ]
  },
  {
   "cell_type": "code",
   "execution_count": null,
   "metadata": {},
   "outputs": [],
   "source": [
    "f2 <- wdOnsimulatedData(scenario='fitnessDel-2',simulationsPath='/home/jmurga/mkt/201902/rawData/simulations/wdEstimation/')"
   ]
  },
  {
   "cell_type": "code",
   "execution_count": null,
   "metadata": {},
   "outputs": [],
   "source": [
    "f3 <- wdOnsimulatedData(scenario='fitnessDel2e-1',simulationsPath='/home/jmurga/mkt/201902/rawData/simulations/wdEstimation/')"
   ]
  },
  {
   "cell_type": "code",
   "execution_count": null,
   "metadata": {},
   "outputs": [],
   "source": [
    "g1 <- wdOnsimulatedData(scenario='gamma1',simulationsPath='/home/jmurga/mkt/201902/rawData/simulations/wdEstimation/')"
   ]
  },
  {
   "cell_type": "code",
   "execution_count": null,
   "metadata": {},
   "outputs": [],
   "source": [
    "g2 <- wdOnsimulatedData(scenario='gamma1e-1',simulationsPath='/home/jmurga/mkt/201902/rawData/simulations/wdEstimation/')"
   ]
  },
  {
   "cell_type": "code",
   "execution_count": null,
   "metadata": {},
   "outputs": [],
   "source": [
    "f1Pos <- wdOnsimulatedData(scenario='fitnessDelPos1e-2',simulationsPath='/home/jmurga/mkt/201902/rawData/simulations/wdEstimation/')"
   ]
  },
  {
   "cell_type": "code",
   "execution_count": null,
   "metadata": {},
   "outputs": [],
   "source": [
    "f2Pos <- wdOnsimulatedData(scenario='fitnessDelPos-2',simulationsPath='/home/jmurga/mkt/201902/rawData/simulations/wdEstimation/')"
   ]
  },
  {
   "cell_type": "code",
   "execution_count": null,
   "metadata": {},
   "outputs": [],
   "source": [
    "f3Pos <- wdOnsimulatedData(scenario='fitnessDelPos2e-1',simulationsPath='/home/jmurga/mkt/201902/rawData/simulations/wdEstimation/')"
   ]
  },
  {
   "cell_type": "code",
   "execution_count": null,
   "metadata": {},
   "outputs": [],
   "source": [
    "g1Pos <- wdOnsimulatedData(scenario='gammaPos1',simulationsPath='/home/jmurga/mkt/201902/rawData/simulations/wdEstimation/')"
   ]
  },
  {
   "cell_type": "code",
   "execution_count": null,
   "metadata": {},
   "outputs": [],
   "source": [
    "g2Pos <- wdOnsimulatedData(scenario='gammaPos1e-1',simulationsPath='/home/jmurga/mkt/201902/rawData/simulations/wdEstimation/')"
   ]
  },
  {
   "cell_type": "markdown",
   "metadata": {},
   "source": [
    "### Grid scenarios"
   ]
  },
  {
   "cell_type": "code",
   "execution_count": null,
   "metadata": {},
   "outputs": [],
   "source": [
    "svg('/home/jmurga/mkt/201902/results/simulations/simulationsMKT.svg',height = 30, width = 25)\n",
    "plot_grid(baseline[['plot']],NULL,NULL,NULL,f1[['plot']],f2[['plot']],f3[['plot']],g1[['plot']],g2[['plot']],f1Pos[['plot']],f2Pos[['plot']],f3Pos[['plot']],g1Pos[['plot']],g2Pos[['plot']],          ncol=4,labels=c(\"A\",\"\",LETTERS[2:15]))\n",
    "dev.off()"
   ]
  }
 ],
 "metadata": {
  "kernelspec": {
   "display_name": "R",
   "language": "R",
   "name": "ir"
  },
  "language_info": {
   "codemirror_mode": "r",
   "file_extension": ".r",
   "mimetype": "text/x-r-source",
   "name": "R",
   "pygments_lexer": "r",
   "version": "3.5.1"
  },
  "toc": {
   "base_numbering": 1,
   "nav_menu": {},
   "number_sections": true,
   "sideBar": true,
   "skip_h1_title": false,
   "title_cell": "Table of Contents",
   "title_sidebar": "Contents",
   "toc_cell": false,
   "toc_position": {
    "height": "calc(100% - 180px)",
    "left": "10px",
    "top": "150px",
    "width": "165px"
   },
   "toc_section_display": true,
   "toc_window_display": true
  },
  "varInspector": {
   "cols": {
    "lenName": 16,
    "lenType": 16,
    "lenVar": 40
   },
   "kernels_config": {
    "python": {
     "delete_cmd_postfix": "",
     "delete_cmd_prefix": "del ",
     "library": "var_list.py",
     "varRefreshCmd": "print(var_dic_list())"
    },
    "r": {
     "delete_cmd_postfix": ") ",
     "delete_cmd_prefix": "rm(",
     "library": "var_list.r",
     "varRefreshCmd": "cat(var_dic_list()) "
    }
   },
   "types_to_exclude": [
    "module",
    "function",
    "builtin_function_or_method",
    "instance",
    "_Feature"
   ],
   "window_display": false
  }
 },
 "nbformat": 4,
 "nbformat_minor": 2
}
