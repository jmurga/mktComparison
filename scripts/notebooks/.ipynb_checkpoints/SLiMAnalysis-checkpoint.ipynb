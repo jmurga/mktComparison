{
 "cells": [
  {
   "cell_type": "markdown",
   "metadata": {},
   "source": [
    "Loading libraries"
   ]
  },
  {
   "cell_type": "code",
   "execution_count": 1,
   "metadata": {
    "ExecuteTime": {
     "end_time": "2019-09-30T10:12:31.460258Z",
     "start_time": "2019-09-30T10:12:30.806Z"
    }
   },
   "outputs": [],
   "source": [
    "library(repr)\n",
    "suppressMessages(library(ggplot2))\n",
    "suppressMessages(library(dplyr))\n",
    "suppressMessages(library(iMKT))\n",
    "suppressMessages(library(forcats))\n",
    "suppressMessages(library(cowplot))\n",
    "suppressMessages(library(reshape2))\n",
    "suppressMessages(library(data.table))\n",
    "source('/home/jmurga/mkt/201902/scripts/src/plotStyle.R')\n",
    "source('/home/jmurga/mkt/201902/scripts/src/simulationsPlot.R')"
   ]
  },
  {
   "cell_type": "code",
   "execution_count": null,
   "metadata": {
    "ExecuteTime": {
     "end_time": "2019-05-20T15:06:02.263925Z",
     "start_time": "2019-05-20T15:06:02.242Z"
    }
   },
   "outputs": [],
   "source": [
    "options(repr.plot.width=20, repr.plot.height=15)"
   ]
  },
  {
   "cell_type": "markdown",
   "metadata": {
    "heading_collapsed": true
   },
   "source": [
    "## Ploting each simulated scenario"
   ]
  },
  {
   "cell_type": "markdown",
   "metadata": {
    "heading_collapsed": true,
    "hidden": true
   },
   "source": [
    "### Alpha baseline "
   ]
  },
  {
   "cell_type": "code",
   "execution_count": null,
   "metadata": {
    "ExecuteTime": {
     "end_time": "2019-05-20T15:07:53.090862Z",
     "start_time": "2019-05-20T15:06:10.415Z"
    },
    "code_folding": [],
    "hidden": true,
    "scrolled": false
   },
   "outputs": [],
   "source": [
    "baseline <- mktOnsimulatedData(scenario='baseline',simulationsPath='/home/jmurga/mkt/201902/rawData/simulations/mktComparisions/')\n",
    "ggsave(baseline[['plot']],file='/home/jmurga/mkt/201902/results/simulations/baseline.png',height = 15,width = 20)"
   ]
  },
  {
   "cell_type": "code",
   "execution_count": null,
   "metadata": {
    "ExecuteTime": {
     "end_time": "2019-05-20T15:07:53.459937Z",
     "start_time": "2019-05-20T15:06:12.268Z"
    },
    "hidden": true
   },
   "outputs": [],
   "source": [
    "baseline$table"
   ]
  },
  {
   "cell_type": "code",
   "execution_count": null,
   "metadata": {
    "ExecuteTime": {
     "end_time": "2019-05-20T15:07:54.644633Z",
     "start_time": "2019-05-20T15:06:14.069Z"
    },
    "code_folding": [],
    "hidden": true
   },
   "outputs": [],
   "source": [
    "baseline[['plot']]"
   ]
  },
  {
   "cell_type": "markdown",
   "metadata": {
    "heading_collapsed": true,
    "hidden": true
   },
   "source": [
    "### r0"
   ]
  },
  {
   "cell_type": "code",
   "execution_count": null,
   "metadata": {
    "ExecuteTime": {
     "end_time": "2019-05-20T15:11:17.334143Z",
     "start_time": "2019-05-20T15:06:32.835Z"
    },
    "code_folding": [],
    "hidden": true,
    "scrolled": false
   },
   "outputs": [],
   "source": [
    "r0 <- mktOnsimulatedData(scenario='r0',simulationsPath='/home/jmurga/mkt/201902/rawData/simulations/mktComparisions/')\n",
    "ggsave(r0[['plot']],file='/home/jmurga/mkt/201902/results/simulations/r0.png',height = 15,width = 20)"
   ]
  },
  {
   "cell_type": "markdown",
   "metadata": {
    "heading_collapsed": true,
    "hidden": true
   },
   "source": [
    "### r1e-5"
   ]
  },
  {
   "cell_type": "code",
   "execution_count": null,
   "metadata": {
    "ExecuteTime": {
     "end_time": "2019-05-20T15:12:55.696624Z",
     "start_time": "2019-05-20T15:06:32.838Z"
    },
    "code_folding": [],
    "hidden": true,
    "scrolled": false
   },
   "outputs": [],
   "source": [
    "r1 <- mktOnsimulatedData(scenario='r1e-5',simulationsPath='/home/jmurga/mkt/201902/rawData/simulations/mktComparisions/')\n",
    "ggsave(r1[['plot']],file='/home/jmurga/mkt/201902/results/simulations/r1e-5.png',height = 15,width = 20)"
   ]
  },
  {
   "cell_type": "markdown",
   "metadata": {
    "heading_collapsed": true,
    "hidden": true
   },
   "source": [
    "### Length 10e6"
   ]
  },
  {
   "cell_type": "code",
   "execution_count": null,
   "metadata": {
    "ExecuteTime": {
     "end_time": "2019-07-18T14:46:26.214670Z",
     "start_time": "2019-07-18T14:46:26.173Z"
    },
    "hidden": true
   },
   "outputs": [],
   "source": [
    "l1e6 <- mktOnsimulatedData(scenario = \"l1e6\", simulationsPath = \"/home/jmurga/mkt/201902/rawData/simulations/alphaComparisons\")\n",
    "ggsave(length10e6[['plot']],file='/home/jmurga/length10e6.pdf',height = 10,width = 20)"
   ]
  },
  {
   "cell_type": "code",
   "execution_count": null,
   "metadata": {
    "ExecuteTime": {
     "end_time": "2019-05-20T15:15:40.748021Z",
     "start_time": "2019-05-20T15:06:32.843Z"
    },
    "hidden": true
   },
   "outputs": [],
   "source": [
    "l1e6[[\"plot\"]]"
   ]
  },
  {
   "cell_type": "markdown",
   "metadata": {
    "heading_collapsed": true,
    "hidden": true
   },
   "source": [
    "### Length 10e8"
   ]
  },
  {
   "cell_type": "code",
   "execution_count": null,
   "metadata": {
    "ExecuteTime": {
     "end_time": "2019-05-20T15:17:16.312279Z",
     "start_time": "2019-05-20T15:06:32.845Z"
    },
    "hidden": true
   },
   "outputs": [],
   "source": [
    "length10e8 <- mktOnsimulatedData(scenario='length10e8',simulationsPath='/home/jmurga/mkt/201902/rawData/simulations/mktComparisions/');length10e8[['plot']]\n",
    "ggsave(length10e8[['plot']],file='/home/jmurga/mkt/201902/results/simulations/length10e8.png',height = 15,width = 20)"
   ]
  },
  {
   "cell_type": "markdown",
   "metadata": {
    "heading_collapsed": true,
    "hidden": true
   },
   "source": [
    "### Mutation rate 1e-10"
   ]
  },
  {
   "cell_type": "code",
   "execution_count": null,
   "metadata": {
    "ExecuteTime": {
     "end_time": "2019-05-20T15:20:12.876815Z",
     "start_time": "2019-05-20T15:06:32.848Z"
    },
    "hidden": true
   },
   "outputs": [],
   "source": [
    "mu1 <- mktOnsimulatedData(scenario='mu1e-10',simulationsPath='/home/jmurga/mkt/201902/rawData/simulations/mktComparisions/');\n",
    "ggsave(mu1[['plot']],file='/home/jmurga/mkt/201902/results/simulations/mu2.png',height = 15,width = 20)"
   ]
  },
  {
   "cell_type": "code",
   "execution_count": null,
   "metadata": {
    "ExecuteTime": {
     "end_time": "2019-05-20T15:20:13.725008Z",
     "start_time": "2019-05-20T15:06:32.849Z"
    },
    "hidden": true
   },
   "outputs": [],
   "source": [
    "mu1[['plot']]"
   ]
  },
  {
   "cell_type": "markdown",
   "metadata": {
    "heading_collapsed": true,
    "hidden": true
   },
   "source": [
    "### Mutation rate 1e-8"
   ]
  },
  {
   "cell_type": "code",
   "execution_count": null,
   "metadata": {
    "ExecuteTime": {
     "end_time": "2019-05-20T15:21:53.756092Z",
     "start_time": "2019-05-20T15:06:32.851Z"
    },
    "hidden": true
   },
   "outputs": [],
   "source": [
    "mu2 <- mktOnsimulatedData(scenario='mu1e-8',simulationsPath='/home/jmurga/mkt/201902/rawData/simulations/mktComparisions/');\n",
    "ggsave(mu2[['plot']],file='/home/jmurga/mkt/201902/results/simulations/mu2.pdf',height = 10,width = 20)"
   ]
  },
  {
   "cell_type": "code",
   "execution_count": null,
   "metadata": {
    "ExecuteTime": {
     "end_time": "2019-05-20T15:21:54.739389Z",
     "start_time": "2019-05-20T15:06:32.854Z"
    },
    "hidden": true
   },
   "outputs": [],
   "source": [
    "mu2[['plot']]"
   ]
  },
  {
   "cell_type": "markdown",
   "metadata": {
    "heading_collapsed": true,
    "hidden": true
   },
   "source": [
    "### Alpha Rb1e-4"
   ]
  },
  {
   "cell_type": "code",
   "execution_count": null,
   "metadata": {
    "ExecuteTime": {
     "end_time": "2019-05-20T15:23:36.932924Z",
     "start_time": "2019-05-20T15:06:32.856Z"
    },
    "hidden": true
   },
   "outputs": [],
   "source": [
    "rb1 <- mktOnsimulatedData(scenario='rb1e-4',simulationsPath='/home/jmurga/mkt/201902/rawData/simulations/mktComparisions/')\n",
    "ggsave(rb1[['plot']],file='/home/jmurga/mkt/201902/results/simulations/rb1.png',height = 15,width = 20)"
   ]
  },
  {
   "cell_type": "code",
   "execution_count": null,
   "metadata": {
    "ExecuteTime": {
     "end_time": "2019-05-20T15:23:37.986203Z",
     "start_time": "2019-05-20T15:06:32.859Z"
    },
    "hidden": true
   },
   "outputs": [],
   "source": [
    "rb1[['plot']]"
   ]
  },
  {
   "cell_type": "markdown",
   "metadata": {
    "heading_collapsed": true,
    "hidden": true
   },
   "source": [
    "### Alpha Rb1e-3"
   ]
  },
  {
   "cell_type": "code",
   "execution_count": null,
   "metadata": {
    "ExecuteTime": {
     "end_time": "2019-05-20T15:24:57.741083Z",
     "start_time": "2019-05-20T15:06:32.862Z"
    },
    "hidden": true
   },
   "outputs": [],
   "source": [
    "rb2 <- mktOnsimulatedData(scenario='rb1e-3',simulationsPath='/home/jmurga/mkt/201902/rawData/simulations/mktComparisions/');\n",
    "ggsave(rb2[['plot']],file='/home/jmurga/mkt/201902/results/simulations/rb2.png',height = 15,width = 20)"
   ]
  },
  {
   "cell_type": "code",
   "execution_count": null,
   "metadata": {
    "ExecuteTime": {
     "end_time": "2019-05-20T15:24:58.662977Z",
     "start_time": "2019-05-20T15:06:32.865Z"
    },
    "hidden": true
   },
   "outputs": [],
   "source": [
    "rb2[['plot']]"
   ]
  },
  {
   "cell_type": "markdown",
   "metadata": {
    "heading_collapsed": true,
    "hidden": true
   },
   "source": [
    "### Alpha Sb2e-2  "
   ]
  },
  {
   "cell_type": "code",
   "execution_count": null,
   "metadata": {
    "ExecuteTime": {
     "end_time": "2019-05-20T15:26:43.372381Z",
     "start_time": "2019-05-20T15:06:32.870Z"
    },
    "hidden": true
   },
   "outputs": [],
   "source": [
    "sb1 <- mktOnsimulatedData(scenario='sb2e-1',simulationsPath='/home/jmurga/mkt/201902/rawData/simulations/mktComparisions/');\n",
    "ggsave(sb1[['plot']],file='/home/jmurga/mkt/201902/results/simulations/sb1.png',height = 15,width = 20)"
   ]
  },
  {
   "cell_type": "code",
   "execution_count": null,
   "metadata": {
    "ExecuteTime": {
     "end_time": "2019-05-20T15:26:44.253051Z",
     "start_time": "2019-05-20T15:06:32.873Z"
    },
    "hidden": true
   },
   "outputs": [],
   "source": [
    "sb1[['plot']]"
   ]
  },
  {
   "cell_type": "markdown",
   "metadata": {
    "heading_collapsed": true,
    "hidden": true
   },
   "source": [
    "### Alpha Sb2-e1"
   ]
  },
  {
   "cell_type": "code",
   "execution_count": null,
   "metadata": {
    "ExecuteTime": {
     "end_time": "2019-05-20T15:28:18.507746Z",
     "start_time": "2019-05-20T15:06:32.876Z"
    },
    "hidden": true
   },
   "outputs": [],
   "source": [
    "sb2 <- mktOnsimulatedData(scenario='sb2e-2',simulationsPath='/home/jmurga/mkt/201902/rawData/simulations/mktComparisions/');\n",
    "ggsave(sb2[['plot']],file='/home/jmurga/mkt/201902/results/simulations/sb2.png',height = 15,width = 20)"
   ]
  },
  {
   "cell_type": "code",
   "execution_count": null,
   "metadata": {
    "ExecuteTime": {
     "end_time": "2019-05-20T15:28:19.532777Z",
     "start_time": "2019-05-20T15:06:32.885Z"
    },
    "hidden": true
   },
   "outputs": [],
   "source": [
    "sb2[['plot']]"
   ]
  },
  {
   "cell_type": "markdown",
   "metadata": {
    "heading_collapsed": true,
    "hidden": true
   },
   "source": [
    "### Alpha Sd (-2)e-3"
   ]
  },
  {
   "cell_type": "code",
   "execution_count": null,
   "metadata": {
    "ExecuteTime": {
     "end_time": "2019-05-20T15:29:54.696614Z",
     "start_time": "2019-05-20T15:06:32.888Z"
    },
    "hidden": true
   },
   "outputs": [],
   "source": [
    "sd1 <- mktOnsimulatedData(scenario='sd-2e-1',simulationsPath='/home/jmurga/mkt/201902/rawData/simulations/mktComparisions/');\n",
    "ggsave(sd1[['plot']],file='/home/jmurga/mkt/201902/results/simulations/sd1.png',height = 15,width = 20)"
   ]
  },
  {
   "cell_type": "code",
   "execution_count": null,
   "metadata": {
    "ExecuteTime": {
     "end_time": "2019-05-20T15:29:55.608834Z",
     "start_time": "2019-05-20T15:06:32.892Z"
    },
    "hidden": true
   },
   "outputs": [],
   "source": [
    "sd1[['plot']]"
   ]
  },
  {
   "cell_type": "markdown",
   "metadata": {
    "heading_collapsed": true,
    "hidden": true
   },
   "source": [
    "### Alpha Sd (-2)e-1"
   ]
  },
  {
   "cell_type": "code",
   "execution_count": null,
   "metadata": {
    "ExecuteTime": {
     "start_time": "2019-05-20T15:06:32.895Z"
    },
    "hidden": true
   },
   "outputs": [],
   "source": [
    "sd2 <- mktOnsimulatedData(scenario='sd-2e-3',simulationsPath='/home/jmurga/mkt/201902/rawData/simulations/mktComparisions/');\n",
    "ggsave(sd2[['plot']],file='/home/jmurga/mkt/201902/results/simulations/sd2.png',height = 15,width = 20)"
   ]
  },
  {
   "cell_type": "code",
   "execution_count": null,
   "metadata": {
    "ExecuteTime": {
     "start_time": "2019-05-20T15:06:32.897Z"
    },
    "hidden": true
   },
   "outputs": [],
   "source": [
    "sd2[['plot']]"
   ]
  },
  {
   "cell_type": "markdown",
   "metadata": {
    "heading_collapsed": true,
    "hidden": true
   },
   "source": [
    "### Alpha generation time 2e4"
   ]
  },
  {
   "cell_type": "code",
   "execution_count": null,
   "metadata": {
    "ExecuteTime": {
     "start_time": "2019-05-20T15:06:32.900Z"
    },
    "hidden": true,
    "scrolled": true
   },
   "outputs": [],
   "source": [
    "t2e4 <- mktOnsimulatedData(scenario='t2e4',simulationsPath='/home/jmurga/mkt/201902/rawData/simulations/mktComparisions/');\n",
    "ggsave(t2e4[['plot']],file='/home/jmurga/mkt/201902/results/simulations/t2e4.png',height = 15,width = 20)"
   ]
  },
  {
   "cell_type": "code",
   "execution_count": null,
   "metadata": {
    "ExecuteTime": {
     "start_time": "2019-05-20T15:06:32.903Z"
    },
    "hidden": true
   },
   "outputs": [],
   "source": [
    "t2e4[['plot']]"
   ]
  },
  {
   "cell_type": "markdown",
   "metadata": {
    "heading_collapsed": true,
    "hidden": true
   },
   "source": [
    "### Alpha generation time 2e6"
   ]
  },
  {
   "cell_type": "code",
   "execution_count": null,
   "metadata": {
    "ExecuteTime": {
     "start_time": "2019-05-20T15:06:32.905Z"
    },
    "hidden": true
   },
   "outputs": [],
   "source": [
    "t2e6 <- mktOnsimulatedData(scenario='t2e6',simulationsPath='/home/jmurga/mkt/201902/rawData/dmel/simulations/');\n",
    "ggsave(t2e6[['plot']],file='/home/jmurga/mkt/201902/results/simulations/t2e6.svg',height = 15,width = 20)"
   ]
  },
  {
   "cell_type": "code",
   "execution_count": null,
   "metadata": {
    "ExecuteTime": {
     "start_time": "2019-05-20T15:06:32.908Z"
    },
    "hidden": true
   },
   "outputs": [],
   "source": [
    "t2e6[['plot']]"
   ]
  },
  {
   "cell_type": "markdown",
   "metadata": {
    "heading_collapsed": true
   },
   "source": [
    "## Extract simulation table"
   ]
  },
  {
   "cell_type": "code",
   "execution_count": null,
   "metadata": {
    "ExecuteTime": {
     "end_time": "2019-05-21T09:28:10.353931Z",
     "start_time": "2019-05-21T09:28:10.283Z"
    },
    "hidden": true
   },
   "outputs": [],
   "source": [
    "output <- rbind(baseline$table,r0$table,r1$table,length10e6$table,length10e8$table,mu1$table,mu2$table,rb1$table,rb2$table,sb1$table,sb2$table,sd1$table,sd2$table,t2e4$table,t2e6$table)\n",
    "\n",
    "output <- output %>% select(scenario, everything())\n",
    "\n",
    "fwrite(output,file='/home/jmurga/mkt/201902/results/simulations/simulationsMetrics.tab',sep='\\t',row.names=T,col.names=T)"
   ]
  },
  {
   "cell_type": "code",
   "execution_count": null,
   "metadata": {
    "ExecuteTime": {
     "end_time": "2019-05-21T09:30:05.468617Z",
     "start_time": "2019-05-21T09:30:05.446Z"
    },
    "hidden": true
   },
   "outputs": [],
   "source": [
    "output <- rbind(baseline$table,r0$table,r1$table,length10e6$table,length10e8$table,mu1$table,mu2$table,rb1$table,rb2$table,sb1$table,sb2$table,sd1$table,sd2$table,t2e4$table,t2e6$table)"
   ]
  },
  {
   "cell_type": "code",
   "execution_count": null,
   "metadata": {
    "ExecuteTime": {
     "end_time": "2019-05-21T09:30:56.210479Z",
     "start_time": "2019-05-21T09:30:56.179Z"
    },
    "hidden": true
   },
   "outputs": [],
   "source": [
    "r0$table"
   ]
  },
  {
   "cell_type": "code",
   "execution_count": null,
   "metadata": {
    "ExecuteTime": {
     "end_time": "2019-05-21T09:30:28.741062Z",
     "start_time": "2019-05-21T09:30:28.556Z"
    },
    "hidden": true
   },
   "outputs": [],
   "source": [
    "output"
   ]
  },
  {
   "cell_type": "markdown",
   "metadata": {
    "heading_collapsed": true
   },
   "source": [
    "## Grid all scenarios"
   ]
  },
  {
   "cell_type": "code",
   "execution_count": null,
   "metadata": {
    "ExecuteTime": {
     "end_time": "2019-03-08T11:38:06.128168Z",
     "start_time": "2019-03-08T11:41:36.500Z"
    },
    "hidden": true,
    "scrolled": true
   },
   "outputs": [],
   "source": [
    "svg('/home/jmurga/mkt/201902/results/simulations/simulationsMKT.svg',height = 30, width = 25)\n",
    "plot_grid(baseline[['plot']],NULL,NULL,NULL,\n",
    "          length10e6[['plot']],length10e8[['plot']],\n",
    "          mu1[['plot']],mu2[['plot']],\n",
    "          rb1[['plot']],rb2[['plot']],\n",
    "          sb1[['plot']],sb2[['plot']],\n",
    "          sd1[['plot']],sd2[['plot']],\n",
    "          t2e4[['plot']],t2e6[['plot']],\n",
    "          NULL,r0[['plot']],r1[['plot']],NULL,\n",
    "          ncol=4,\n",
    "          labels=c(\"A\",\"\",LETTERS[2:15]))\n",
    "dev.off()"
   ]
  },
  {
   "cell_type": "markdown",
   "metadata": {},
   "source": [
    "## Weakly deleterious fraction on SLiM data"
   ]
  },
  {
   "cell_type": "code",
   "execution_count": 1,
   "metadata": {
    "ExecuteTime": {
     "end_time": "2019-09-30T15:08:39.105440Z",
     "start_time": "2019-09-30T15:08:37.882Z"
    }
   },
   "outputs": [
    {
     "name": "stderr",
     "output_type": "stream",
     "text": [
      "Loading required package: ggplot2\n"
     ]
    }
   ],
   "source": [
    "library(data.table)\n",
    "library(iMKT)\n",
    "setwd('/home/jmurga/mkt/201902/rawData/simulations/wdEstimation/neutral1')\n",
    "listDaf <- lapply(list.files(pattern = 'daf',recursive=T),fread)\n",
    "listDiv <- lapply(list.files(pattern = 'div',recursive=T),fread,sep='\\t',header=T)"
   ]
  },
  {
   "cell_type": "code",
   "execution_count": 9,
   "metadata": {
    "ExecuteTime": {
     "end_time": "2019-09-30T15:10:12.938225Z",
     "start_time": "2019-09-30T15:10:07.683Z"
    }
   },
   "outputs": [],
   "source": [
    "m <- matrix(nrow = 2,ncol=length(listDaf))\n",
    "for(i in 1:length(listDaf))\n",
    "{\n",
    "    r <- aMKT(daf=listDaf[[i]][,1:3],divergence=listDiv[[i]][,1:4],xlow=0,xhigh=1,plot=F)\n",
    "    m[i,1] <- r$Fractions[3,2]\n",
    "    m[i,2] <- listDiv[[i]]$b\n",
    "    \n",
    "}"
   ]
  },
  {
   "cell_type": "code",
   "execution_count": 12,
   "metadata": {
    "ExecuteTime": {
     "end_time": "2019-09-30T15:10:43.144635Z",
     "start_time": "2019-09-30T15:10:40.579Z"
    }
   },
   "outputs": [],
   "source": [
    "r <- aMKT(daf=listDaf[[1]][,1:3],divergence=listDiv[[1]][,1:4],xlow=0,xhigh=1,plot=T)"
   ]
  },
  {
   "cell_type": "code",
   "execution_count": 13,
   "metadata": {
    "ExecuteTime": {
     "end_time": "2019-09-30T15:10:52.833405Z",
     "start_time": "2019-09-30T15:10:52.771Z"
    }
   },
   "outputs": [
    {
     "data": {
      "text/html": [
       "<table>\n",
       "<thead><tr><th scope=col>Fraction</th><th scope=col>Type</th></tr></thead>\n",
       "<tbody>\n",
       "\t<tr><td>0.2720752</td><td>d        </td></tr>\n",
       "\t<tr><td>0.4241283</td><td>f        </td></tr>\n",
       "\t<tr><td>0.3037965</td><td>b        </td></tr>\n",
       "</tbody>\n",
       "</table>\n"
      ],
      "text/latex": [
       "\\begin{tabular}{r|ll}\n",
       " Fraction & Type\\\\\n",
       "\\hline\n",
       "\t 0.2720752 & d        \\\\\n",
       "\t 0.4241283 & f        \\\\\n",
       "\t 0.3037965 & b        \\\\\n",
       "\\end{tabular}\n"
      ],
      "text/markdown": [
       "\n",
       "Fraction | Type | \n",
       "|---|---|---|\n",
       "| 0.2720752 | d         | \n",
       "| 0.4241283 | f         | \n",
       "| 0.3037965 | b         | \n",
       "\n",
       "\n"
      ],
      "text/plain": [
       "  Fraction  Type\n",
       "1 0.2720752 d   \n",
       "2 0.4241283 f   \n",
       "3 0.3037965 b   "
      ]
     },
     "metadata": {},
     "output_type": "display_data"
    }
   ],
   "source": [
    "r$Fractions"
   ]
  }
 ],
 "metadata": {
  "kernelspec": {
   "display_name": "R",
   "language": "R",
   "name": "ir"
  },
  "language_info": {
   "codemirror_mode": "r",
   "file_extension": ".r",
   "mimetype": "text/x-r-source",
   "name": "R",
   "pygments_lexer": "r",
   "version": "3.5.1"
  },
  "toc": {
   "base_numbering": 1,
   "nav_menu": {},
   "number_sections": true,
   "sideBar": true,
   "skip_h1_title": false,
   "title_cell": "Table of Contents",
   "title_sidebar": "Contents",
   "toc_cell": false,
   "toc_position": {
    "height": "calc(100% - 180px)",
    "left": "10px",
    "top": "150px",
    "width": "165px"
   },
   "toc_section_display": true,
   "toc_window_display": true
  },
  "varInspector": {
   "cols": {
    "lenName": 16,
    "lenType": 16,
    "lenVar": 40
   },
   "kernels_config": {
    "python": {
     "delete_cmd_postfix": "",
     "delete_cmd_prefix": "del ",
     "library": "var_list.py",
     "varRefreshCmd": "print(var_dic_list())"
    },
    "r": {
     "delete_cmd_postfix": ") ",
     "delete_cmd_prefix": "rm(",
     "library": "var_list.r",
     "varRefreshCmd": "cat(var_dic_list()) "
    }
   },
   "types_to_exclude": [
    "module",
    "function",
    "builtin_function_or_method",
    "instance",
    "_Feature"
   ],
   "window_display": false
  }
 },
 "nbformat": 4,
 "nbformat_minor": 2
}
