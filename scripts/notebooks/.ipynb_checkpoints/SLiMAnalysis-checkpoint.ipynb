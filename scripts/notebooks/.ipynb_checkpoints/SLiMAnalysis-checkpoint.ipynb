{
 "cells": [
  {
   "cell_type": "markdown",
   "metadata": {},
   "source": [
    "Loading libraries"
   ]
  },
  {
   "cell_type": "code",
   "execution_count": 4,
   "metadata": {
    "ExecuteTime": {
     "end_time": "2019-02-16T11:11:47.898999Z",
     "start_time": "2019-02-16T11:11:47.870Z"
    }
   },
   "outputs": [],
   "source": [
    "library(repr)\n",
    "suppressMessages(library(ggplot2))\n",
    "suppressMessages(library(dplyr))\n",
    "suppressMessages(library(iMKT))\n",
    "suppressMessages(library(forcats))\n",
    "suppressMessages(library(cowplot))\n",
    "suppressMessages(library(reshape2))\n",
    "suppressMessages(library(data.table))\n",
    "source('/home/jmurga/mkt/201902/scripts/src/plotStyle.R')"
   ]
  },
  {
   "cell_type": "markdown",
   "metadata": {},
   "source": [
    "#### Ploting each simulated scenario"
   ]
  },
  {
   "cell_type": "code",
   "execution_count": 10,
   "metadata": {
    "ExecuteTime": {
     "end_time": "2019-02-16T11:24:37.766052Z",
     "start_time": "2019-02-16T11:24:37.738Z"
    }
   },
   "outputs": [],
   "source": [
    "source('/home/jmurga/mkt/201902/scripts/src/simulationsPlot.R"
   ]
  },
  {
   "cell_type": "code",
   "execution_count": null,
   "metadata": {
    "code_folding": [
     21
    ]
   },
   "outputs": [],
   "source": [
    "mktOnsimulatedData <- function(scenario,simulationsPath){\n",
    "    output <-NULL\n",
    "    imkOutput<-NULL\n",
    "    \n",
    "    setwd(paste0(simulationsPath,scenario,'/'))\n",
    "    listDaf <- lapply(list.files(pattern = 'daf',recursive=T),fread)\n",
    "    listDiv <- lapply(list.files(pattern = 'div',recursive=T),fread,sep='\\t',header=T)\n",
    "    \n",
    "    for(simulation in 1:length(listDaf){\n",
    "        \n",
    "        # Format data from each replicate\n",
    "        colnames(listDaf[[simulation]]) <- c('daf','Pi','P0')\n",
    "        \n",
    "        if(scenario=='length1e8'){\n",
    "            listDiv[[simulation]]$m0<-1e8\n",
    "            listDiv[[simulation]]$mi <- 1e8\n",
    "        }\n",
    "        else if(scenario=='length1e6'){\n",
    "              listDiv[[simulation]]$m0<-1e6\n",
    "              listDiv[[simulation]]$mi<-1e6\n",
    "        }\n",
    "        else{\n",
    "              listDiv[[simulation]]$m0<-1e7\n",
    "              listDiv[[simulation]]$mi<-1e7\n",
    "        }\n",
    "        \n",
    "        colnames(listDiv[[simulation]]) <- c('Di', 'D0','trueAlpha','m0','mi')\n",
    "        trueAlpha <- listDiv[[simulation]]$trueAlpha\n",
    "        divergence <- listDiv[[simulation]][,c('Di','D0','m0','mi')]\n",
    "        # Execute each mkt test through iMKT package\n",
    "        ## StandardMKT\n",
    "        resultStandard <- standardMKT(listDaf[[simulation]],divergence)\n",
    "        alphaStandard <- resultStandard$alpha.symbol\n",
    "\n",
    "        ##DGRP\n",
    "        resultDGRP0.05 <- DGRP(listDaf[[simulation]],divergence,listCutoffs = c(0.025))\n",
    "        alphaDGRP0.05 <- resultDGRP0.05$Results$alpha.symbol\n",
    "\n",
    "        resultDGRP0.15 <- DGRP(listDaf[[simulation]],divergence,listCutoffs = c(0.075))\n",
    "        alphaDGRP0.15 <- resultDGRP0.15$Results$alpha.symbol\n",
    "        \n",
    "        ##FWW\n",
    "        resultFWW0.05 <- FWW(listDaf[[simulation]],divergence,listCutoffs = c(0.025))\n",
    "        alphaFWW0.05 <- resultFWW0.05$Results$alpha.symbol\n",
    "\n",
    "        resultFWW0.15 <- FWW(listDaf[[simulation]],divergence,listCutoffs = c(0.075))\n",
    "        alphaFWW0.15 <- resultFWW0.15$Results$alpha.symbol\n",
    "\n",
    "        ##Asymptotic\n",
    "        tryCatch({\n",
    "            resultiMK <- iMKT(listDaf[[simulation]],divergence,xlow = 0, xhigh = 1)\n",
    "\n",
    "            alphaiMK <- resultiMK$`Asymptotic MK table`$alpha_asymptotic\n",
    "            resultimk <- data.frame(simulation,alphaiMK)\n",
    "            outputimk<-rbind(outputimk,resultimk)}, error=function(e){cat(\"Error\\n\"); resultimk <- data.frame(simulation,NA)}\n",
    "        )\n",
    "        \n",
    "          \n",
    "        result <- data.frame(simulation,alphaStandard,alphaDGRP0.05,alphaDGRP0.15,alphaFWW0.05,alphaFWW0.15,trueAlpha)\n",
    "        output <- rbind(output,result)\n",
    " \n",
    "    }\n",
    "    \n",
    "    # Merging asympotic results if posible\n",
    "    output <- merge(output,resultimk,by='simulation',all=T)\n",
    "    \n",
    "    # Preparing data to plot\n",
    "    dataPlot<-melt(output,id=c('simulation'))\n",
    "    \n",
    "    \n",
    "    mean_sd <-sapply(output, function(cl) list(means=mean(cl,na.rm=TRUE), sds=sd(cl,na.rm=TRUE)))\n",
    "\n",
    "    # Ploting\n",
    "    plotAlpha <- ggplot(dataPlot, aes(x=variable, y=value, fill=variable)) + geom_boxplot(color=\"grey20\",alpha=0.7) + labs(x = \"MKT methods\", y=expression(italic(α))) + themePublication() + scaleFillPublication(name=\"Method\", labels=c(\"alpha_standard\"=\"MKT standard\", \"alpha_DGRP0.05\" = \"MKT DGRP cutoff 0.05\", \"alpha_DGRP0.15\" = \"MKT DGRP cutoff 0.15\", \"alpha_FWW0.05\" = \"MKT FWW cutoff 0.05\", \"alpha_FWW0.15\" = \"MKT FWW cutoff 0.15\",\"alpha_iMK\"=\"iMKT\", \"true_alpha\"=\"Real alpha\")) + scale_y_continuous(breaks = pretty(dataPlot$value, n = 5)) + scale_x_discrete(labels=c(\"alpha_standard\"=\"Standard\", \"alpha_DGRP0.05\" = \"DGRP 5%\", \"alpha_DGRP0.15\" = \"DGRP 10%\", \"alpha_FWW0.05\" = \"FWW 5%\", \"alpha_FWW0.15\" = \"FWW 10%\",\"alpha_iMK\"=\"iMKT\", \"true_alpha\"=\"Real alpha\")) +  guides(fill=FALSE) + ggtitle(\"Baseline\")\n",
    "\n",
    "    method <- rep(c(\"Standard\",\"MKT DGRP cutoff 12.5%\",\"MKT DGRP cutoff 17.5%\",\"FWW DGRP cutoff 12.5%\",\"MKT FWW cutoff 17.5%\",\"iMKT\",\"Real alpha\"),2)\n",
    "    type <- sort(rep(c(T,F),7), decreasing = T)\n",
    "                     \n",
    "    fractions <- c(1,1,1,1,1,0.9,1,0,0,0,0,0,0.1,0)\n",
    "    fraction <- data.frame(method,fractions,type)\n",
    "\n",
    "    fractionPlot<-ggplot(fraction) + geom_bar(stat=\"identity\", aes_string(x=fct_inorder(as.factor(method)), y=fractions, fill=type), color=\"black\") + themePublication() + ylab(label=\"Fraction\") + xlab(label=\"Bins\")  +     scaleFillPublication(name=\"Number of analyzable simulations\") + theme(axis.line=element_blank())\n",
    "                     \n",
    "    plot <- plot_grid(plotAlpha + theme(axis.title.x = element_blank(),axis.ticks.x = element_blank(),axis.text.x = element_blank()),fractionPlot,ncol = 1,rel_heights = c(1,0.25))\n",
    "\n",
    "    dataPlot$type<-scenario\n",
    "    \n",
    "    #  Printeado por pantalla, no sabemos si se guardó\n",
    "    # table(dataPlot$variable)\n",
    "    # mean_sd\n",
    "    # quantile(output_baseline$alpha_standard,c(0.025,0.975))\n",
    "    # quantile(output_baseline$alpha_DGRP0.05,c(0.025,0.975))   \n",
    "    # quantile(output_baseline$alpha_DGRP0.15,c(0.025,0.975))   \n",
    "    # quantile(output_baseline$alpha_FWW0.05,c(0.025,0.975))   \n",
    "    # quantile(output_baseline$alpha_FWW0.15,c(0.025,0.975))   \n",
    "    # quantile(output_baseline$alpha_iMK,c(0.025,0.975))\n",
    "    # quantile(output_baseline$true_alpha,c(0.025,0.975))\n",
    "                     \n",
    "    return(plot)\n",
    "\n",
    "}"
   ]
  }
 ],
 "metadata": {
  "kernelspec": {
   "display_name": "R",
   "language": "R",
   "name": "ir"
  },
  "language_info": {
   "codemirror_mode": "r",
   "file_extension": ".r",
   "mimetype": "text/x-r-source",
   "name": "R",
   "pygments_lexer": "r",
   "version": "3.5.1"
  },
  "toc": {
   "base_numbering": 1,
   "nav_menu": {},
   "number_sections": true,
   "sideBar": true,
   "skip_h1_title": false,
   "title_cell": "Table of Contents",
   "title_sidebar": "Contents",
   "toc_cell": false,
   "toc_position": {},
   "toc_section_display": true,
   "toc_window_display": false
  },
  "varInspector": {
   "cols": {
    "lenName": 16,
    "lenType": 16,
    "lenVar": 40
   },
   "kernels_config": {
    "python": {
     "delete_cmd_postfix": "",
     "delete_cmd_prefix": "del ",
     "library": "var_list.py",
     "varRefreshCmd": "print(var_dic_list())"
    },
    "r": {
     "delete_cmd_postfix": ") ",
     "delete_cmd_prefix": "rm(",
     "library": "var_list.r",
     "varRefreshCmd": "cat(var_dic_list()) "
    }
   },
   "types_to_exclude": [
    "module",
    "function",
    "builtin_function_or_method",
    "instance",
    "_Feature"
   ],
   "window_display": false
  }
 },
 "nbformat": 4,
 "nbformat_minor": 2
}
