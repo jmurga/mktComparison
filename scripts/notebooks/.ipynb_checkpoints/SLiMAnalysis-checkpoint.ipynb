{
 "cells": [
  {
   "cell_type": "markdown",
   "metadata": {},
   "source": [
    "Loading libraries"
   ]
  },
  {
   "cell_type": "code",
   "execution_count": 48,
   "metadata": {
    "ExecuteTime": {
     "end_time": "2019-03-07T17:32:20.281813Z",
     "start_time": "2019-03-07T17:35:57.255Z"
    }
   },
   "outputs": [],
   "source": [
    "library(repr)\n",
    "suppressMessages(library(ggplot2))\n",
    "suppressMessages(library(dplyr))\n",
    "suppressMessages(library(iMKT))\n",
    "suppressMessages(library(forcats))\n",
    "suppressMessages(library(cowplot))\n",
    "suppressMessages(library(reshape2))\n",
    "suppressMessages(library(data.table))\n",
    "source('/home/jmurga/mkt/201902/scripts/src/plotStyle.R')"
   ]
  },
  {
   "cell_type": "code",
   "execution_count": 49,
   "metadata": {
    "ExecuteTime": {
     "end_time": "2019-03-07T17:32:26.970296Z",
     "start_time": "2019-03-07T17:35:58.028Z"
    }
   },
   "outputs": [],
   "source": [
    "options(repr.plot.width=10, repr.plot.height=6)"
   ]
  },
  {
   "cell_type": "markdown",
   "metadata": {},
   "source": [
    "### Ploting each simulated scenario"
   ]
  },
  {
   "cell_type": "code",
   "execution_count": 50,
   "metadata": {
    "ExecuteTime": {
     "end_time": "2019-03-07T17:32:33.688630Z",
     "start_time": "2019-03-07T17:35:59.977Z"
    }
   },
   "outputs": [],
   "source": [
    "source('/home/jmurga/mkt/201902/scripts/src/simulationsPlot.R')"
   ]
  },
  {
   "cell_type": "markdown",
   "metadata": {
    "heading_collapsed": true
   },
   "source": [
    "#### Alpha baseline "
   ]
  },
  {
   "cell_type": "code",
   "execution_count": null,
   "metadata": {
    "ExecuteTime": {
     "start_time": "2019-03-07T17:36:13.000Z"
    },
    "code_folding": [],
    "hidden": true,
    "scrolled": false
   },
   "outputs": [],
   "source": [
    "baseline <- mktOnsimulatedData(scenario='baseline',simulationsPath='/home/jmurga/mkt/201902/rawData/simulations/');baseline[['plot']]"
   ]
  },
  {
   "cell_type": "code",
   "execution_count": null,
   "metadata": {
    "ExecuteTime": {
     "start_time": "2019-03-07T17:36:13.002Z"
    },
    "hidden": true
   },
   "outputs": [],
   "source": [
    "baseline$table"
   ]
  },
  {
   "cell_type": "markdown",
   "metadata": {
    "heading_collapsed": true
   },
   "source": [
    "#### Length 10e6"
   ]
  },
  {
   "cell_type": "code",
   "execution_count": null,
   "metadata": {
    "ExecuteTime": {
     "start_time": "2019-03-07T17:36:13.004Z"
    },
    "hidden": true
   },
   "outputs": [],
   "source": [
    "length10e6 <- mktOnsimulatedData(scenario='length10e6',simulationsPath='/home/jmurga/mkt/201902/rawData/simulations/');length10e6[['plot']]"
   ]
  },
  {
   "cell_type": "markdown",
   "metadata": {
    "heading_collapsed": true
   },
   "source": [
    "#### Length 10e8"
   ]
  },
  {
   "cell_type": "code",
   "execution_count": null,
   "metadata": {
    "ExecuteTime": {
     "start_time": "2019-03-07T17:36:13.006Z"
    },
    "hidden": true
   },
   "outputs": [],
   "source": [
    "length10e8 <- mktOnsimulatedData(scenario='length10e8',simulationsPath='/home/jmurga/mkt/201902/rawData/simulations/');length10e8[['plot']]"
   ]
  },
  {
   "cell_type": "markdown",
   "metadata": {
    "heading_collapsed": true
   },
   "source": [
    "#### Mutation rate 1e-10"
   ]
  },
  {
   "cell_type": "code",
   "execution_count": null,
   "metadata": {
    "ExecuteTime": {
     "start_time": "2019-03-07T17:36:13.007Z"
    },
    "hidden": true
   },
   "outputs": [],
   "source": [
    "mu1 <- mktOnsimulatedData(scenario='mu1e-10',simulationsPath='/home/jmurga/mkt/201902/rawData/simulations/');mu1[['plot']]"
   ]
  },
  {
   "cell_type": "markdown",
   "metadata": {
    "heading_collapsed": true
   },
   "source": [
    "#### Mutation rate 1e-8"
   ]
  },
  {
   "cell_type": "code",
   "execution_count": null,
   "metadata": {
    "ExecuteTime": {
     "start_time": "2019-03-07T17:36:13.008Z"
    },
    "hidden": true
   },
   "outputs": [],
   "source": [
    "mu2 <- mktOnsimulatedData(scenario='mu1e-8',simulationsPath='/home/jmurga/mkt/201902/rawData/simulations/');mu2[['plot']]"
   ]
  },
  {
   "cell_type": "markdown",
   "metadata": {
    "heading_collapsed": true
   },
   "source": [
    "#### Alpha Rb1e-4"
   ]
  },
  {
   "cell_type": "code",
   "execution_count": null,
   "metadata": {
    "ExecuteTime": {
     "start_time": "2019-03-07T17:36:13.010Z"
    },
    "hidden": true
   },
   "outputs": [],
   "source": [
    "rb1 <- mktOnsimulatedData(scenario='rb1e-4',simulationsPath='/home/jmurga/mkt/201902/rawData/simulations/')\n",
    "rb1[['plot']]"
   ]
  },
  {
   "cell_type": "markdown",
   "metadata": {
    "heading_collapsed": true
   },
   "source": [
    "#### Alpha Rb1e-3"
   ]
  },
  {
   "cell_type": "code",
   "execution_count": null,
   "metadata": {
    "ExecuteTime": {
     "start_time": "2019-03-07T17:36:13.014Z"
    },
    "hidden": true
   },
   "outputs": [],
   "source": [
    "rb2 <- mktOnsimulatedData(scenario='rb1e-3',simulationsPath='/home/jmurga/mkt/201902/rawData/simulations/');rb2[['plot']]"
   ]
  },
  {
   "cell_type": "markdown",
   "metadata": {
    "heading_collapsed": true
   },
   "source": [
    "#### Alpha Sb2e-2  "
   ]
  },
  {
   "cell_type": "code",
   "execution_count": null,
   "metadata": {
    "ExecuteTime": {
     "start_time": "2019-03-07T17:36:13.016Z"
    },
    "hidden": true
   },
   "outputs": [],
   "source": [
    "sb1 <- mktOnsimulatedData(scenario='sb2e-1',simulationsPath='/home/jmurga/mkt/201902/rawData/simulations/');sb1[['plot']]"
   ]
  },
  {
   "cell_type": "markdown",
   "metadata": {
    "heading_collapsed": true
   },
   "source": [
    "#### Alpha Sb2-e1"
   ]
  },
  {
   "cell_type": "code",
   "execution_count": null,
   "metadata": {
    "ExecuteTime": {
     "start_time": "2019-03-07T17:36:13.019Z"
    },
    "hidden": true
   },
   "outputs": [],
   "source": [
    "sb2 <- mktOnsimulatedData(scenario='sb2e-2',simulationsPath='/home/jmurga/mkt/201902/rawData/simulations/');sb2[['plot']]"
   ]
  },
  {
   "cell_type": "markdown",
   "metadata": {
    "heading_collapsed": true
   },
   "source": [
    "#### Alpha Sd (-2)e-3"
   ]
  },
  {
   "cell_type": "code",
   "execution_count": null,
   "metadata": {
    "ExecuteTime": {
     "start_time": "2019-03-07T17:36:13.020Z"
    },
    "hidden": true
   },
   "outputs": [],
   "source": [
    "sd1 <- mktOnsimulatedData(scenario='sd-2e-1',simulationsPath='/home/jmurga/mkt/201902/rawData/simulations/');sd1[['plot']]"
   ]
  },
  {
   "cell_type": "markdown",
   "metadata": {
    "heading_collapsed": true
   },
   "source": [
    "#### Alpha Sd (-2)e-1"
   ]
  },
  {
   "cell_type": "code",
   "execution_count": null,
   "metadata": {
    "ExecuteTime": {
     "start_time": "2019-03-07T17:36:13.022Z"
    },
    "hidden": true
   },
   "outputs": [],
   "source": [
    "sd2 <- mktOnsimulatedData(scenario='sd-2e-3',simulationsPath='/home/jmurga/mkt/201902/rawData/simulations/');sd2[['plot']]"
   ]
  },
  {
   "cell_type": "markdown",
   "metadata": {
    "heading_collapsed": true
   },
   "source": [
    "#### Alpha generation time 2e4"
   ]
  },
  {
   "cell_type": "code",
   "execution_count": null,
   "metadata": {
    "ExecuteTime": {
     "start_time": "2019-03-07T17:36:13.023Z"
    },
    "hidden": true,
    "scrolled": true
   },
   "outputs": [],
   "source": [
    "t2e4 <- mktOnsimulatedData(scenario='t2e4',simulationsPath='/home/jmurga/mkt/201902/rawData/simulations/');t2e4[['plot']]"
   ]
  },
  {
   "cell_type": "markdown",
   "metadata": {
    "heading_collapsed": true
   },
   "source": [
    "#### Alpha generation time 2e6"
   ]
  },
  {
   "cell_type": "code",
   "execution_count": 39,
   "metadata": {
    "ExecuteTime": {
     "end_time": "2019-02-18T11:01:25.590860Z",
     "start_time": "2019-02-18T10:51:08.946Z"
    },
    "hidden": true
   },
   "outputs": [
    {
     "data": {
      "image/png": "[encoded data removed]",
      "text/plain": [
       "plot without title"
      ]
     },
     "metadata": {},
     "output_type": "display_data"
    }
   ],
   "source": [
    "t2e6 <- mktOnsimulatedData(scenario='t2e6',simulationsPath='/home/jmurga/mkt/201902/rawData/simulations/');t2e6[['plot']]"
   ]
  },
  {
   "cell_type": "markdown",
   "metadata": {},
   "source": [
    "### Extract simulation table"
   ]
  },
  {
   "cell_type": "code",
   "execution_count": null,
   "metadata": {},
   "outputs": [],
   "source": [
    "output <- rbind(baseline,length10e6,length10e8,mu1,mu2,rb1,rb2,)"
   ]
  },
  {
   "cell_type": "markdown",
   "metadata": {
    "heading_collapsed": true
   },
   "source": [
    "### Grid all scenarios"
   ]
  },
  {
   "cell_type": "code",
   "execution_count": 47,
   "metadata": {
    "ExecuteTime": {
     "end_time": "2019-02-18T15:14:36.640173Z",
     "start_time": "2019-02-18T15:18:12.515Z"
    },
    "hidden": true
   },
   "outputs": [
    {
     "data": {
      "text/html": [
       "<strong>png:</strong> 2"
      ],
      "text/latex": [
       "\\textbf{png:} 2"
      ],
      "text/markdown": [
       "**png:** 2"
      ],
      "text/plain": [
       "png \n",
       "  2 "
      ]
     },
     "metadata": {},
     "output_type": "display_data"
    }
   ],
   "source": [
    "svg('/home/jmurga/mkt/201902/simulationsMKT.svg',height = 25, width = 17.5)\n",
    "plot_grid(baseline[['plot']],NULL,\n",
    "          length10e6[['plot']],length10e8[['plot']],\n",
    "          mu1[['plot']],mu2[['plot']],\n",
    "          rb1[['plot']],rb2[['plot']],\n",
    "          sb1[['plot']],sb2[['plot']],\n",
    "          sd1[['plot']],sd2[['plot']],\n",
    "          t2e4[['plot']],t2e6[['plot']],\n",
    "          ncol=2,\n",
    "          labels=c(\"A\",\"\",LETTERS[2:13]))\n",
    "dev.off()"
   ]
  }
 ],
 "metadata": {
  "kernelspec": {
   "display_name": "R",
   "language": "R",
   "name": "ir"
  },
  "language_info": {
   "codemirror_mode": "r",
   "file_extension": ".r",
   "mimetype": "text/x-r-source",
   "name": "R",
   "pygments_lexer": "r",
   "version": "3.5.2"
  },
  "toc": {
   "base_numbering": 1,
   "nav_menu": {},
   "number_sections": true,
   "sideBar": true,
   "skip_h1_title": false,
   "title_cell": "Table of Contents",
   "title_sidebar": "Contents",
   "toc_cell": false,
   "toc_position": {
    "height": "calc(100% - 180px)",
    "left": "10px",
    "top": "150px",
    "width": "237px"
   },
   "toc_section_display": true,
   "toc_window_display": false
  },
  "varInspector": {
   "cols": {
    "lenName": 16,
    "lenType": 16,
    "lenVar": 40
   },
   "kernels_config": {
    "python": {
     "delete_cmd_postfix": "",
     "delete_cmd_prefix": "del ",
     "library": "var_list.py",
     "varRefreshCmd": "print(var_dic_list())"
    },
    "r": {
     "delete_cmd_postfix": ") ",
     "delete_cmd_prefix": "rm(",
     "library": "var_list.r",
     "varRefreshCmd": "cat(var_dic_list()) "
    }
   },
   "types_to_exclude": [
    "module",
    "function",
    "builtin_function_or_method",
    "instance",
    "_Feature"
   ],
   "window_display": false
  }
 },
 "nbformat": 4,
 "nbformat_minor": 2
}
