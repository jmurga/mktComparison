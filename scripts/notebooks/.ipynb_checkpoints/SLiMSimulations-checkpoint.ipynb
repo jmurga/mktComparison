{
 "cells": [
  {
   "cell_type": "markdown",
   "metadata": {
    "ExecuteTime": {
     "end_time": "2018-12-10T11:08:38.587669Z",
     "start_time": "2018-12-10T11:08:38.581070Z"
    }
   },
   "source": [
    "Loading libraries and required functions"
   ]
  },
  {
   "cell_type": "code",
   "execution_count": 1,
   "metadata": {
    "ExecuteTime": {
     "end_time": "2019-02-15T10:44:01.831188Z",
     "start_time": "2019-02-15T10:44:01.826514Z"
    }
   },
   "outputs": [],
   "source": [
    "import os\n",
    "import numpy as np\n",
    "import pandas as pd"
   ]
  },
  {
   "cell_type": "markdown",
   "metadata": {},
   "source": [
    "### Compiling <a href=\"http://benhaller.com/slim/SLiM.zip\">SLiM</a>"
   ]
  },
  {
   "cell_type": "markdown",
   "metadata": {},
   "source": [
    "<h>Since SLiM is not at conda repositories we need to download and compile it.</h>\n",
    "<br>\n",
    "<h><b>Description retrieve from <a href=\"https://messerlab.org/slim/\">Messer's lab SLiM repository</a>:</b></h>\n",
    "<p style='text-align: justify;'><i>SLiM is an evolutionary simulation framework that combines a powerful engine for population genetic simulations with the capability of modeling arbitrarily complex evolutionary scenarios. Simulations are configured via the integrated Eidos scripting language that allows interactive control over practically every aspect of the simulated evolutionary scenarios. The underlying individual-based simulation engine is highly optimized to enable modeling of entire chromosomes in large populations.</i></p>\n",
    "\n",
    "<p style='text-align: justify;'>It  is  unclear  how  powerful  and  robust  simple  outlier  approaches  are in finding loci or genomic regions subject to selection, specially when evolution is a noisy and stochastic process and real signals are diluted in a background of neutral noise. This can be formalized by performing coalescent simulations. In our case we decided to implement SLiM software to perform forward simulations under differents demographic models. A complete description of SLiM installation could be consult <a href=\"http://benhaller.com/slim/SLiM_Manual.pdf\">in the manual</a></p>"
   ]
  },
  {
   "cell_type": "code",
   "execution_count": null,
   "metadata": {
    "ExecuteTime": {
     "end_time": "2019-02-15T15:13:01.710811Z",
     "start_time": "2019-02-15T15:12:59.810136Z"
    }
   },
   "outputs": [],
   "source": [
    "%%bash\n",
    "DIR='/home/jmurga/mkt/201902'\n",
    "cd $DIR\n",
    "\n",
    "mkdir -p $DIR/software\n",
    "\n",
    "wget http://benhaller.com/slim/SLiM.zip\n",
    "unzip SLiM.zip \n",
    "\n",
    "mv SLiM/ $DIR/software\n",
    "mkdir $DIR/software/SLiM/build\n",
    "cd $DIR/software/SLiM/build\n",
    "cmake ..\n",
    "make\n",
    "#BACK TO MAIN FOLDER\n",
    "cd $DIR/\n",
    "rm $DIR/SLiM.zip"
   ]
  },
  {
   "cell_type": "markdown",
   "metadata": {},
   "source": [
    "### SLiM scenarios"
   ]
  },
  {
   "cell_type": "code",
   "execution_count": 163,
   "metadata": {
    "ExecuteTime": {
     "end_time": "2019-02-15T17:27:12.677963Z",
     "start_time": "2019-02-15T17:27:10.024453Z"
    }
   },
   "outputs": [
    {
     "name": "stdout",
     "output_type": "stream",
     "text": [
      "usage: slimProcess.py [-h] --recipe {baseline} --length LENGTH --mutRate\r\n",
      "                      MUTRATE --recombRate RECOMBRATE --dominanceCoef\r\n",
      "                      DOMINANCECOEF --rb RB --sd SD --sb SB --ancSize ANCSIZE\r\n",
      "                      --burnin BURNIN --generations GENERATIONS --bins BINS\r\n",
      "                      --replica REPLICA [--output OUTPUT] [--path PATH]\r\n",
      "\r\n",
      "SLiM simulations based on baseline recipe extract from asymptoticMK github,\r\n",
      "based on Messer et al 2013.\r\n",
      "\r\n",
      "optional arguments:\r\n",
      "  -h, --help            show this help message and exit\r\n",
      "  --recipe {baseline}   Slim recipe to execute\r\n",
      "  --length LENGTH       0-based start and stop SLiM length to simulate.\r\n",
      "  --mutRate MUTRATE     Mutation rate in the simulated region\r\n",
      "  --recombRate RECOMBRATE\r\n",
      "                        Recombination rate in the simulated region\r\n",
      "  --dominanceCoef DOMINANCECOEF\r\n",
      "  --rb RB\r\n",
      "  --sd SD\r\n",
      "  --sb SB\r\n",
      "  --ancSize ANCSIZE     Effective population size of the ancestral population\r\n",
      "  --burnin BURNIN       Burnin period\r\n",
      "  --generations GENERATIONS\r\n",
      "                        Burnin period\r\n",
      "  --bins BINS           Burnin period\r\n",
      "  --replica REPLICA     Number of replica by scenario\r\n",
      "  --output OUTPUT       Output name without extension\r\n",
      "  --path PATH           Path to output file\r\n"
     ]
    }
   ],
   "source": [
    "!python '/home/jmurga/mkt/201902/scripts/src/slimProcess.py' --help"
   ]
  },
  {
   "cell_type": "code",
   "execution_count": null,
   "metadata": {},
   "outputs": [],
   "source": [
    "alphaSd-2e-3\n",
    "alphaSd-2e-1\n",
    "alphaT2e4\n",
    "alphaT2e6"
   ]
  },
  {
   "cell_type": "markdown",
   "metadata": {},
   "source": [
    "#### Alpha baseline "
   ]
  },
  {
   "cell_type": "code",
   "execution_count": null,
   "metadata": {
    "ExecuteTime": {
     "end_time": "2019-02-15T17:36:14.423813Z",
     "start_time": "2019-02-15T17:36:08.351540Z"
    },
    "code_folding": [],
    "scrolled": true
   },
   "outputs": [],
   "source": [
    "!python '/home/jmurga/mkt/201902/scripts/src/slimProcess.py' --recipe baseline --length 1e7 --mutRate 1e-9 --recombRate 1e-7 --ancSize 1000 --rb 0.0005 --sb 0.1 --sd -0.02 --dominanceCoef 0.5 --burnin 10000 --generations 210000 --bins 20 --output baseLine --replica 50"
   ]
  },
  {
   "cell_type": "markdown",
   "metadata": {},
   "source": [
    "#### Length 10e6"
   ]
  },
  {
   "cell_type": "code",
   "execution_count": null,
   "metadata": {},
   "outputs": [],
   "source": [
    "!python '/home/jmurga/mkt/201902/scripts/src/slimProcess.py' --recipe baseline --length 1e6 --mutRate 1e-9 --recombRate 1e-7 --ancSize 1000 --rb 0.0005 --sb 0.1 --sd -0.02 --dominanceCoef 0.5 --burnin 10000 --generations 210000 --bins 20 --output baseLine --replica 50"
   ]
  },
  {
   "cell_type": "markdown",
   "metadata": {},
   "source": [
    "#### Length 10e8"
   ]
  },
  {
   "cell_type": "code",
   "execution_count": null,
   "metadata": {},
   "outputs": [],
   "source": [
    "!python '/home/jmurga/mkt/201902/scripts/src/slimProcess.py' --recipe baseline --length 1e8 --mutRate 1e-9 --recombRate 1e-7 --ancSize 1000 --rb 0.0005 --sb 0.1 --sd -0.02 --dominanceCoef 0.5 --burnin 10000 --generations 210000 --bins 20 --output baseLine --replica 50"
   ]
  },
  {
   "cell_type": "markdown",
   "metadata": {},
   "source": [
    "#### Mutation rate 1e-10"
   ]
  },
  {
   "cell_type": "code",
   "execution_count": null,
   "metadata": {},
   "outputs": [],
   "source": [
    "!python '/home/jmurga/mkt/201902/scripts/src/slimProcess.py' --recipe baseline --length 1e7 --mutRate 1e-10 --recombRate 1e-7 --ancSize 1000 --rb 0.0005 --sb 0.1 --sd -0.02 --dominanceCoef 0.5 --burnin 10000 --generations 210000 --bins 20 --output baseLine --replica 50"
   ]
  },
  {
   "cell_type": "markdown",
   "metadata": {},
   "source": [
    "#### Mutation rate 1e-8"
   ]
  },
  {
   "cell_type": "code",
   "execution_count": null,
   "metadata": {},
   "outputs": [],
   "source": [
    "!python '/home/jmurga/mkt/201902/scripts/src/slimProcess.py' --recipe baseline --length 1e7 --mutRate 1e-8 --recombRate 1e-7 --ancSize 1000 --rb 0.0005 --sb 0.1 --sd -0.02 --dominanceCoef 0.5 --burnin 10000 --generations 210000 --bins 20 --output baseLine --replica 50"
   ]
  },
  {
   "cell_type": "markdown",
   "metadata": {},
   "source": [
    "#### Alpha Rb1e-4"
   ]
  },
  {
   "cell_type": "code",
   "execution_count": null,
   "metadata": {},
   "outputs": [],
   "source": [
    "!python '/home/jmurga/mkt/201902/scripts/src/slimProcess.py' --recipe baseline --length 1e7 --mutRate 1e-9 --recombRate 1e-7 --ancSize 1000 --rb 0.0001 --sb 0.1 --sd -0.02 --dominanceCoef 0.5 --burnin 10000 --generations 210000 --bins 20 --output baseLine --replica 50"
   ]
  },
  {
   "cell_type": "markdown",
   "metadata": {},
   "source": [
    "#### Alpha Rb1e-3"
   ]
  },
  {
   "cell_type": "code",
   "execution_count": null,
   "metadata": {},
   "outputs": [],
   "source": [
    "!python '/home/jmurga/mkt/201902/scripts/src/slimProcess.py' --recipe baseline --length 1e7 --mutRate 1e-9 --recombRate 1e-7 --ancSize 1000 --rb 0.001 --sb 0.1 --sd -0.02 --dominanceCoef 0.5 --burnin 10000 --generations 210000 --bins 20 --output baseLine --replica 50"
   ]
  },
  {
   "cell_type": "markdown",
   "metadata": {},
   "source": [
    "#### Alpha Sb2-e2  "
   ]
  },
  {
   "cell_type": "code",
   "execution_count": null,
   "metadata": {},
   "outputs": [],
   "source": [
    "!python '/home/jmurga/mkt/201902/scripts/src/slimProcess.py' --recipe baseline --length 1e7 --mutRate 1e-9 --recombRate 1e-7 --ancSize 1000 --rb 0.0005 --sb 0.02 --sd -0.02 --dominanceCoef 0.5 --burnin 10000 --generations 210000 --bins 20 --output baseLine --replica 50"
   ]
  },
  {
   "cell_type": "markdown",
   "metadata": {},
   "source": [
    "#### Alpha Sb2-e1"
   ]
  },
  {
   "cell_type": "code",
   "execution_count": null,
   "metadata": {},
   "outputs": [],
   "source": [
    "!python '/home/jmurga/mkt/201902/scripts/src/slimProcess.py' --recipe baseline --length 1e7 --mutRate 1e-9 --recombRate 1e-7 --ancSize 1000 --rb 0.0005 --sb 0.2 --sd -0.02 --dominanceCoef 0.5 --burnin 10000 --generations 210000 --bins 20 --output baseLine --replica 50"
   ]
  },
  {
   "cell_type": "markdown",
   "metadata": {},
   "source": [
    "#### Alpha Sd (-2)e-3"
   ]
  },
  {
   "cell_type": "code",
   "execution_count": null,
   "metadata": {},
   "outputs": [],
   "source": [
    "!python '/home/jmurga/mkt/201902/scripts/src/slimProcess.py' --recipe baseline --length 1e7 --mutRate 1e-9 --recombRate 1e-7 --ancSize 1000 --rb 0.0005 --sb 0.1 --sd -0.002 --dominanceCoef 0.5 --burnin 10000 --generations 210000 --bins 20 --output baseLine --replica 50"
   ]
  },
  {
   "cell_type": "markdown",
   "metadata": {},
   "source": [
    "#### Alpha Sd (-2)e-1"
   ]
  },
  {
   "cell_type": "code",
   "execution_count": null,
   "metadata": {},
   "outputs": [],
   "source": [
    "!python '/home/jmurga/mkt/201902/scripts/src/slimProcess.py' --recipe baseline --length 1e7 --mutRate 1e-9 --recombRate 1e-7 --ancSize 1000 --rb 0.0005 --sb 0.1 --sd -0.2 --dominanceCoef 0.5 --burnin 10000 --generations 210000 --bins 20 --output baseLine --replica 50"
   ]
  }
 ],
 "metadata": {
  "hide_input": false,
  "kernelspec": {
   "display_name": "Python 3",
   "language": "python",
   "name": "python3"
  },
  "language_info": {
   "codemirror_mode": {
    "name": "ipython",
    "version": 3
   },
   "file_extension": ".py",
   "mimetype": "text/x-python",
   "name": "python",
   "nbconvert_exporter": "python",
   "pygments_lexer": "ipython3",
   "version": "3.6.8"
  },
  "toc": {
   "base_numbering": 1,
   "nav_menu": {},
   "number_sections": true,
   "sideBar": true,
   "skip_h1_title": false,
   "title_cell": "Table of Contents",
   "title_sidebar": "Contents",
   "toc_cell": false,
   "toc_position": {},
   "toc_section_display": true,
   "toc_window_display": false
  },
  "varInspector": {
   "cols": {
    "lenName": 16,
    "lenType": 16,
    "lenVar": 40
   },
   "kernels_config": {
    "python": {
     "delete_cmd_postfix": "",
     "delete_cmd_prefix": "del ",
     "library": "var_list.py",
     "varRefreshCmd": "print(var_dic_list())"
    },
    "r": {
     "delete_cmd_postfix": ") ",
     "delete_cmd_prefix": "rm(",
     "library": "var_list.r",
     "varRefreshCmd": "cat(var_dic_list()) "
    }
   },
   "position": {
    "height": "410px",
    "left": "708px",
    "right": "49px",
    "top": "124px",
    "width": "523px"
   },
   "types_to_exclude": [
    "module",
    "function",
    "builtin_function_or_method",
    "instance",
    "_Feature"
   ],
   "window_display": false
  }
 },
 "nbformat": 4,
 "nbformat_minor": 2
}
