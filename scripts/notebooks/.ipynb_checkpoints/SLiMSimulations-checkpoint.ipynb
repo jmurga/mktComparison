{
 "cells": [
  {
   "cell_type": "markdown",
   "metadata": {
    "ExecuteTime": {
     "end_time": "2018-12-10T11:08:38.587669Z",
     "start_time": "2018-12-10T11:08:38.581070Z"
    }
   },
   "source": [
    "Loading libraries and required functions"
   ]
  },
  {
   "cell_type": "code",
   "execution_count": 1,
   "metadata": {
    "ExecuteTime": {
     "end_time": "2019-03-18T10:32:36.293025Z",
     "start_time": "2019-03-18T10:32:36.289379Z"
    }
   },
   "outputs": [],
   "source": [
    "import os\n",
    "import numpy as np\n",
    "import pandas as pd"
   ]
  },
  {
   "cell_type": "markdown",
   "metadata": {
    "heading_collapsed": true
   },
   "source": [
    "### Compiling <a href=\"http://benhaller.com/slim/SLiM.zip\">SLiM</a>"
   ]
  },
  {
   "cell_type": "markdown",
   "metadata": {
    "hidden": true
   },
   "source": [
    "<h>Since SLiM is not at conda repositories we need to download and compile it. We retrieve specific version due to changes in especific Eidos functions after first analisys</h>\n",
    "<br>\n",
    "<h><b>Description retrieve from <a href=\"https://messerlab.org/slim/\">Messer's lab SLiM repository</a>:</b></h>\n",
    "<p style='text-align: justify;'><i>SLiM is an evolutionary simulation framework that combines a powerful engine for population genetic simulations with the capability of modeling arbitrarily complex evolutionary scenarios. Simulations are configured via the integrated Eidos scripting language that allows interactive control over practically every aspect of the simulated evolutionary scenarios. The underlying individual-based simulation engine is highly optimized to enable modeling of entire chromosomes in large populations.</i></p>"
   ]
  },
  {
   "cell_type": "code",
   "execution_count": null,
   "metadata": {
    "ExecuteTime": {
     "end_time": "2019-02-15T15:13:01.710811Z",
     "start_time": "2019-02-15T15:12:59.810136Z"
    },
    "hidden": true
   },
   "outputs": [],
   "source": [
    "%%bash\n",
    "DIR='/home/jmurga/mkt/201902'\n",
    "cd $DIR\n",
    "\n",
    "mkdir -p $DIR/software\n",
    "\n",
    "wget https://github.com/MesserLab/SLiM/archive/v2.5.zip\n",
    "unzip SLiM.zip \n",
    "\n",
    "mv SLiM/ $DIR/software\n",
    "mkdir $DIR/software/SLiM/build\n",
    "cd $DIR/software/SLiM/build\n",
    "cmake ..\n",
    "make\n",
    "#BACK TO MAIN FOLDER\n",
    "cd $DIR/\n",
    "rm $DIR/SLiM.zip"
   ]
  },
  {
   "cell_type": "markdown",
   "metadata": {},
   "source": [
    "### SLiM scenarios"
   ]
  },
  {
   "cell_type": "code",
   "execution_count": 163,
   "metadata": {
    "ExecuteTime": {
     "end_time": "2019-02-15T17:27:12.677963Z",
     "start_time": "2019-02-15T17:27:10.024453Z"
    }
   },
   "outputs": [
    {
     "name": "stdout",
     "output_type": "stream",
     "text": [
      "usage: slimProcess.py [-h] --recipe {baseline} --length LENGTH --mutRate\r\n",
      "                      MUTRATE --recombRate RECOMBRATE --dominanceCoef\r\n",
      "                      DOMINANCECOEF --rb RB --sd SD --sb SB --ancSize ANCSIZE\r\n",
      "                      --burnin BURNIN --generations GENERATIONS --bins BINS\r\n",
      "                      --replica REPLICA [--output OUTPUT] [--path PATH]\r\n",
      "\r\n",
      "SLiM simulations based on baseline recipe extract from asymptoticMK github,\r\n",
      "based on Messer et al 2013.\r\n",
      "\r\n",
      "optional arguments:\r\n",
      "  -h, --help            show this help message and exit\r\n",
      "  --recipe {baseline}   Slim recipe to execute\r\n",
      "  --length LENGTH       0-based start and stop SLiM length to simulate.\r\n",
      "  --mutRate MUTRATE     Mutation rate in the simulated region\r\n",
      "  --recombRate RECOMBRATE\r\n",
      "                        Recombination rate in the simulated region\r\n",
      "  --dominanceCoef DOMINANCECOEF\r\n",
      "  --rb RB\r\n",
      "  --sd SD\r\n",
      "  --sb SB\r\n",
      "  --ancSize ANCSIZE     Effective population size of the ancestral population\r\n",
      "  --burnin BURNIN       Burnin period\r\n",
      "  --generations GENERATIONS\r\n",
      "                        Burnin period\r\n",
      "  --bins BINS           Burnin period\r\n",
      "  --replica REPLICA     Number of replica by scenario\r\n",
      "  --output OUTPUT       Output name without extension\r\n",
      "  --path PATH           Path to output file\r\n"
     ]
    }
   ],
   "source": [
    "!python '/home/jmurga/mkt/201902/scripts/src/slimProcess.py' --help"
   ]
  },
  {
   "cell_type": "markdown",
   "metadata": {},
   "source": [
    "#### Alpha baseline "
   ]
  },
  {
   "cell_type": "code",
   "execution_count": null,
   "metadata": {
    "ExecuteTime": {
     "end_time": "2019-02-15T17:36:14.423813Z",
     "start_time": "2019-02-15T17:36:08.351540Z"
    },
    "code_folding": [],
    "scrolled": true
   },
   "outputs": [],
   "source": [
    "!python '/home/jmurga/mkt/201902/scripts/src/slimProcess.py' --recipe baseline --length 1e7 --mutRate 1e-9 --recombRate 1e-7 --ancSize 1000 --rb 0.0005 --sb 0.1 --sd -0.02 --dominanceCoef 0.5 --burnin 10000 --generations 210000 --bins 20 --output baseLine --replica 50"
   ]
  },
  {
   "cell_type": "markdown",
   "metadata": {
    "heading_collapsed": true
   },
   "source": [
    "#### r0"
   ]
  },
  {
   "cell_type": "code",
   "execution_count": null,
   "metadata": {
    "ExecuteTime": {
     "end_time": "2019-02-15T17:36:14.423813Z",
     "start_time": "2019-02-15T17:36:08.351540Z"
    },
    "code_folding": [],
    "hidden": true,
    "scrolled": true
   },
   "outputs": [],
   "source": [
    "!python '/home/jmurga/mkt/201902/scripts/src/slimProcess.py' --recipe baseline --length 1e7 --mutRate 1e-9 --recombRate 0 --ancSize 1000 --rb 0.0005 --sb 0.1 --sd -0.02 --dominanceCoef 0.5 --burnin 10000 --generations 210000 --bins 20 --output baseLine --replica 50"
   ]
  },
  {
   "cell_type": "markdown",
   "metadata": {
    "heading_collapsed": true
   },
   "source": [
    "#### r1e-5"
   ]
  },
  {
   "cell_type": "code",
   "execution_count": null,
   "metadata": {
    "ExecuteTime": {
     "end_time": "2019-02-15T17:36:14.423813Z",
     "start_time": "2019-02-15T17:36:08.351540Z"
    },
    "code_folding": [],
    "hidden": true,
    "scrolled": true
   },
   "outputs": [],
   "source": [
    "!python '/home/jmurga/mkt/201902/scripts/src/slimProcess.py' --recipe baseline --length 1e7 --mutRate 1e-9 --recombRate 6e-5 --ancSize 1000 --rb 0.0005 --sb 0.1 --sd -0.02 --dominanceCoef 0.5 --burnin 10000 --generations 210000 --bins 20 --output r61e-5 --replica 50"
   ]
  },
  {
   "cell_type": "markdown",
   "metadata": {
    "heading_collapsed": true
   },
   "source": [
    "#### Length 10e6"
   ]
  },
  {
   "cell_type": "code",
   "execution_count": null,
   "metadata": {
    "hidden": true
   },
   "outputs": [],
   "source": [
    "!python '/home/jmurga/mkt/201902/scripts/src/slimProcess.py' --recipe baseline --length 1e6 --mutRate 1e-9 --recombRate 1e-7 --ancSize 1000 --rb 0.0005 --sb 0.1 --sd -0.02 --dominanceCoef 0.5 --burnin 10000 --generations 210000 --bins 20 --output length10e6 --replica 50"
   ]
  },
  {
   "cell_type": "markdown",
   "metadata": {
    "heading_collapsed": true
   },
   "source": [
    "#### Length 10e8"
   ]
  },
  {
   "cell_type": "code",
   "execution_count": null,
   "metadata": {
    "hidden": true
   },
   "outputs": [],
   "source": [
    "!python '/home/jmurga/mkt/201902/scripts/src/slimProcess.py' --recipe baseline --length 1e8 --mutRate 1e-9 --recombRate 1e-7 --ancSize 1000 --rb 0.0005 --sb 0.1 --sd -0.02 --dominanceCoef 0.5 --burnin 10000 --generations 210000 --bins 20 --output length10e8 --replica 50"
   ]
  },
  {
   "cell_type": "markdown",
   "metadata": {
    "heading_collapsed": true
   },
   "source": [
    "#### Mutation rate 1e-10"
   ]
  },
  {
   "cell_type": "code",
   "execution_count": null,
   "metadata": {
    "hidden": true
   },
   "outputs": [],
   "source": [
    "!python '/home/jmurga/mkt/201902/scripts/src/slimProcess.py' --recipe baseline --length 1e7 --mutRate 1e-10 --recombRate 1e-7 --ancSize 1000 --rb 0.0005 --sb 0.1 --sd -0.02 --dominanceCoef 0.5 --burnin 10000 --generations 210000 --bins 20 --output mu1e-10 --replica 50"
   ]
  },
  {
   "cell_type": "markdown",
   "metadata": {
    "heading_collapsed": true
   },
   "source": [
    "#### Mutation rate 1e-8"
   ]
  },
  {
   "cell_type": "code",
   "execution_count": null,
   "metadata": {
    "hidden": true
   },
   "outputs": [],
   "source": [
    "!python '/home/jmurga/mkt/201902/scripts/src/slimProcess.py' --recipe baseline --length 1e7 --mutRate 1e-8 --recombRate 1e-7 --ancSize 1000 --rb 0.0005 --sb 0.1 --sd -0.02 --dominanceCoef 0.5 --burnin 10000 --generations 210000 --bins 20 --output mu1e-8 --replica 50"
   ]
  },
  {
   "cell_type": "markdown",
   "metadata": {
    "heading_collapsed": true
   },
   "source": [
    "#### Alpha Rb1e-4"
   ]
  },
  {
   "cell_type": "code",
   "execution_count": null,
   "metadata": {
    "hidden": true
   },
   "outputs": [],
   "source": [
    "!python '/home/jmurga/mkt/201902/scripts/src/slimProcess.py' --recipe baseline --length 1e7 --mutRate 1e-9 --recombRate 1e-7 --ancSize 1000 --rb 0.0001 --sb 0.1 --sd -0.02 --dominanceCoef 0.5 --burnin 10000 --generations 210000 --bins 20 --output rb1e-4 --replica 50"
   ]
  },
  {
   "cell_type": "markdown",
   "metadata": {
    "heading_collapsed": true
   },
   "source": [
    "#### Alpha Rb1e-3"
   ]
  },
  {
   "cell_type": "code",
   "execution_count": null,
   "metadata": {
    "hidden": true
   },
   "outputs": [],
   "source": [
    "!python '/home/jmurga/mkt/201902/scripts/src/slimProcess.py' --recipe baseline --length 1e7 --mutRate 1e-9 --recombRate 1e-7 --ancSize 1000 --rb 0.001 --sb 0.1 --sd -0.02 --dominanceCoef 0.5 --burnin 10000 --generations 210000 --bins 20 --output rb1e-3 --replica 50"
   ]
  },
  {
   "cell_type": "markdown",
   "metadata": {
    "heading_collapsed": true
   },
   "source": [
    "#### Alpha Sb2e-2  "
   ]
  },
  {
   "cell_type": "code",
   "execution_count": null,
   "metadata": {
    "hidden": true
   },
   "outputs": [],
   "source": [
    "!python '/home/jmurga/mkt/201902/scripts/src/slimProcess.py' --recipe baseline --length 1e7 --mutRate 1e-9 --recombRate 1e-7 --ancSize 1000 --rb 0.0005 --sb 0.02 --sd -0.02 --dominanceCoef 0.5 --burnin 10000 --generations 210000 --bins 20 --output sb2e-2 --replica 50"
   ]
  },
  {
   "cell_type": "markdown",
   "metadata": {
    "heading_collapsed": true
   },
   "source": [
    "#### Alpha Sb2-e1"
   ]
  },
  {
   "cell_type": "code",
   "execution_count": null,
   "metadata": {
    "hidden": true
   },
   "outputs": [],
   "source": [
    "!python '/home/jmurga/mkt/201902/scripts/src/slimProcess.py' --recipe baseline --length 1e7 --mutRate 1e-9 --recombRate 1e-7 --ancSize 1000 --rb 0.0005 --sb 0.2 --sd -0.02 --dominanceCoef 0.5 --burnin 10000 --generations 210000 --bins 20 --output sb2e-1 --replica 50"
   ]
  },
  {
   "cell_type": "markdown",
   "metadata": {
    "heading_collapsed": true
   },
   "source": [
    "#### Alpha Sd (-2)e-3"
   ]
  },
  {
   "cell_type": "code",
   "execution_count": null,
   "metadata": {
    "hidden": true
   },
   "outputs": [],
   "source": [
    "!python '/home/jmurga/mkt/201902/scripts/src/slimProcess.py' --recipe baseline --length 1e7 --mutRate 1e-9 --recombRate 1e-7 --ancSize 1000 --rb 0.0005 --sb 0.1 --sd -0.002 --dominanceCoef 0.5 --burnin 10000 --generations 210000 --bins 20 --output sd-2e-3 --replica 50"
   ]
  },
  {
   "cell_type": "markdown",
   "metadata": {
    "heading_collapsed": true
   },
   "source": [
    "#### Alpha Sd (-2)e-1"
   ]
  },
  {
   "cell_type": "code",
   "execution_count": null,
   "metadata": {
    "hidden": true
   },
   "outputs": [],
   "source": [
    "!python '/home/jmurga/mkt/201902/scripts/src/slimProcess.py' --recipe baseline --length 1e7 --mutRate 1e-9 --recombRate 1e-7 --ancSize 1000 --rb 0.0005 --sb 0.1 --sd -0.2 --dominanceCoef 0.5 --burnin 10000 --generations 210000 --bins 20 --output sd-2e-1 --replica 50"
   ]
  },
  {
   "cell_type": "markdown",
   "metadata": {},
   "source": [
    "#### Alpha generation time 2e4"
   ]
  },
  {
   "cell_type": "code",
   "execution_count": null,
   "metadata": {},
   "outputs": [],
   "source": [
    "!python '/home/jmurga/mkt/201902/scripts/src/slimProcess.py' --recipe wdFraction --length 1e4 --mutRate 1e-9 --recombRate 1e-7 --ancSize 1000 --rb 0.0005 --sb 0.1 --sd -0.02 --dominanceCoef 0.5 --burnin 10000 --generations 210000 --bins 20 --output baseLine --replica 50"
   ]
  },
  {
   "cell_type": "markdown",
   "metadata": {},
   "source": [
    "#### Alpha generation time 2e6"
   ]
  },
  {
   "cell_type": "code",
   "execution_count": null,
   "metadata": {},
   "outputs": [],
   "source": [
    "!python '/home/jmurga/mkt/201902/scripts/src/slimProcess.py' --recipe baseline --length 1e7 --mutRate 1e-9 --recombRate 1e-7 --ancSize 1000 --rb 0.0005 --sb 0.1 --sd -0.02 --dominanceCoef 0.5 --burnin 10000 --generations 2100000 --bins 20 --output t2e6 --replica 50"
   ]
  },
  {
   "cell_type": "markdown",
   "metadata": {},
   "source": [
    "### Weakly deleterious fraction"
   ]
  },
  {
   "cell_type": "markdown",
   "metadata": {},
   "source": [
    "#### Alpha neutral"
   ]
  },
  {
   "cell_type": "code",
   "execution_count": null,
   "metadata": {},
   "outputs": [],
   "source": [
    "!python '/home/jmurga/mkt/201902/scripts/src/slimProcess.py' --recipe wdFraction --length 1e6 --mutRate 1e-9 --recombRate 1e-7 --ancSize 1000 --rb 0 --rd 0.5 --rf 0.5 --sb 0.1 --sd -0.02 --dominanceCoef 0.5 --burnin 10000 --generations 210000 --bins 20 --output alphaNeutral --replica 50"
   ]
  },
  {
   "cell_type": "markdown",
   "metadata": {},
   "source": [
    "#### Higher adaptive mutations"
   ]
  },
  {
   "cell_type": "code",
   "execution_count": 21,
   "metadata": {
    "ExecuteTime": {
     "end_time": "2019-07-04T13:15:53.292886Z",
     "start_time": "2019-07-04T13:15:36.524924Z"
    }
   },
   "outputs": [
    {
     "name": "stdout",
     "output_type": "stream",
     "text": [
      "0\r\n"
     ]
    }
   ],
   "source": [
    "!python '/home/jmurga/mkt/201902/scripts/src/slimProcess.py' --recipe wdFraction --length 1e6 --mutRate 1e-9 --recombRate 1e-7 --ancSize 1000 --rb 0.0005 --rd 0.5 --rf 0.5 --sb 0.1 --sd -0.02 --dominanceCoef 0.5 --burnin 10000 --generations 210000 --bins 20 --output adaptive1 --replica 50"
   ]
  },
  {
   "cell_type": "code",
   "execution_count": null,
   "metadata": {},
   "outputs": [],
   "source": [
    "!python '/home/jmurga/mkt/201902/scripts/src/slimProcess.py' --recipe wdFraction --length 1e6 --mutRate 1e-9 --recombRate 1e-6 --ancSize 1000 --rb 0.0005 --rd 0.5 --rf 0.5 --sb 0.2 --sd -0.02 --dominanceCoef 0.5 --burnin 10000 --generations 210000 --bins 20 --output adaptive2 --replica 10"
   ]
  },
  {
   "cell_type": "code",
   "execution_count": null,
   "metadata": {},
   "outputs": [],
   "source": [
    "!python '/home/jmurga/mkt/201902/scripts/src/slimProcess.py' --recipe wdFraction --length 1e6 --mutRate 1e-9 --recombRate 1e-6 --ancSize 1000 --rb 0.0005 --rd 0.5 --rf 0.5 --sb 0.1 --sd -0.02 --dominanceCoef 0.5 --burnin 10000 --generations 210000 --bins 20 --output adaptive1 --replica 10"
   ]
  }
 ],
 "metadata": {
  "hide_input": false,
  "kernelspec": {
   "display_name": "Python 3",
   "language": "python",
   "name": "python3"
  },
  "language_info": {
   "codemirror_mode": {
    "name": "ipython",
    "version": 3
   },
   "file_extension": ".py",
   "mimetype": "text/x-python",
   "name": "python",
   "nbconvert_exporter": "python",
   "pygments_lexer": "ipython3",
   "version": "3.6.8"
  },
  "toc": {
   "base_numbering": 1,
   "nav_menu": {},
   "number_sections": true,
   "sideBar": true,
   "skip_h1_title": false,
   "title_cell": "Table of Contents",
   "title_sidebar": "Contents",
   "toc_cell": false,
   "toc_position": {},
   "toc_section_display": true,
   "toc_window_display": false
  },
  "varInspector": {
   "cols": {
    "lenName": 16,
    "lenType": 16,
    "lenVar": 40
   },
   "kernels_config": {
    "python": {
     "delete_cmd_postfix": "",
     "delete_cmd_prefix": "del ",
     "library": "var_list.py",
     "varRefreshCmd": "print(var_dic_list())"
    },
    "r": {
     "delete_cmd_postfix": ") ",
     "delete_cmd_prefix": "rm(",
     "library": "var_list.r",
     "varRefreshCmd": "cat(var_dic_list()) "
    }
   },
   "position": {
    "height": "410px",
    "left": "708px",
    "right": "49px",
    "top": "124px",
    "width": "523px"
   },
   "types_to_exclude": [
    "module",
    "function",
    "builtin_function_or_method",
    "instance",
    "_Feature"
   ],
   "window_display": false
  }
 },
 "nbformat": 4,
 "nbformat_minor": 2
}
