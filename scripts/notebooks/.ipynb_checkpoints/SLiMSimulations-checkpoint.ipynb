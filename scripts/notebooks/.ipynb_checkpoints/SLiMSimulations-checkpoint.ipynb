{
 "cells": [
  {
   "cell_type": "markdown",
   "metadata": {
    "heading_collapsed": true
   },
   "source": [
    "### Compiling <a href=\"http://benhaller.com/slim/SLiM.zip\">SLiM</a>"
   ]
  },
  {
   "cell_type": "markdown",
   "metadata": {
    "hidden": true
   },
   "source": [
    "<h>Since SLiM is not at conda repositories we need to download and compile it. We retrieve specific version due to changes in especific Eidos functions after first analisys</h>\n",
    "<br>\n",
    "<h><b>Description retrieve from <a href=\"https://messerlab.org/slim/\">Messer's lab SLiM repository</a>:</b></h>\n",
    "<p style='text-align: justify;'><i>SLiM is an evolutionary simulation framework that combines a powerful engine for population genetic simulations with the capability of modeling arbitrarily complex evolutionary scenarios. Simulations are configured via the integrated Eidos scripting language that allows interactive control over practically every aspect of the simulated evolutionary scenarios. The underlying individual-based simulation engine is highly optimized to enable modeling of entire chromosomes in large populations.</i></p>"
   ]
  },
  {
   "cell_type": "code",
   "execution_count": null,
   "metadata": {
    "ExecuteTime": {
     "end_time": "2019-02-15T15:13:01.710811Z",
     "start_time": "2019-02-15T15:12:59.810136Z"
    },
    "hidden": true
   },
   "outputs": [],
   "source": [
    "%%bash\n",
    "DIR='/home/jmurga/mkt/201902'\n",
    "cd $DIR\n",
    "\n",
    "mkdir -p $DIR/software\n",
    "\n",
    "wget https://github.com/MesserLab/SLiM/archive/v2.5.zip\n",
    "unzip SLiM.zip \n",
    "\n",
    "mv SLiM/ $DIR/software\n",
    "mkdir $DIR/software/SLiM/build\n",
    "cd $DIR/software/SLiM/build\n",
    "cmake ..\n",
    "make\n",
    "#BACK TO MAIN FOLDER\n",
    "cd $DIR/\n",
    "rm $DIR/SLiM.zip"
   ]
  },
  {
   "cell_type": "markdown",
   "metadata": {},
   "source": [
    "### Alpha scenarios"
   ]
  },
  {
   "cell_type": "code",
   "execution_count": 3,
   "metadata": {
    "ExecuteTime": {
     "end_time": "2019-10-01T15:22:32.415513Z",
     "start_time": "2019-10-01T15:22:31.368263Z"
    },
    "scrolled": true
   },
   "outputs": [
    {
     "name": "stdout",
     "output_type": "stream",
     "text": [
      "usage: slimProcess.py [-h] --recipe RECIPE --lengthG1 LENGTHG1 --lengthG2\r\n",
      "                      LENGTHG2 --mutRate MUTRATE --recombRate RECOMBRATE\r\n",
      "                      --dominanceCoef DOMINANCECOEF --neutralFreq NEUTRALFREQ\r\n",
      "                      --deleteriousFreq DELETERIOUSFREQ --beneficialFreq\r\n",
      "                      BENEFICIALFREQ --deleteriousFitness DELETERIOUSFITNESS\r\n",
      "                      --beneficialFitness BENEFICIALFITNESS --ancSize ANCSIZE\r\n",
      "                      --burnin BURNIN --generations GENERATIONS --bins BINS\r\n",
      "                      --gammaShape GAMMASHAPE --replica REPLICA --scenario\r\n",
      "                      SCENARIO [--path PATH]\r\n",
      "\r\n",
      "SLiM simulations based on baseline recipe extract from asymptoticMK github,\r\n",
      "based on Messer et al 2013.\r\n",
      "\r\n",
      "optional arguments:\r\n",
      "  -h, --help            show this help message and exit\r\n",
      "  --recipe RECIPE       Slim recipe to execute\r\n",
      "  --lengthG1 LENGTHG1   0-based start and stop SLiM length to simulate.\r\n",
      "  --lengthG2 LENGTHG2   0-based start and stop SLiM length to simulate.\r\n",
      "  --mutRate MUTRATE     Mutation rate in the simulated region\r\n",
      "  --recombRate RECOMBRATE\r\n",
      "                        Recombination rate in the simulated region\r\n",
      "  --dominanceCoef DOMINANCECOEF\r\n",
      "  --neutralFreq NEUTRALFREQ\r\n",
      "  --deleteriousFreq DELETERIOUSFREQ\r\n",
      "  --beneficialFreq BENEFICIALFREQ\r\n",
      "  --deleteriousFitness DELETERIOUSFITNESS\r\n",
      "  --beneficialFitness BENEFICIALFITNESS\r\n",
      "  --ancSize ANCSIZE     Effective population size of the ancestral population\r\n",
      "  --burnin BURNIN       Burnin period\r\n",
      "  --generations GENERATIONS\r\n",
      "                        Burnin period\r\n",
      "  --bins BINS           Burnin period\r\n",
      "  --gammaShape GAMMASHAPE\r\n",
      "                        Burnin period\r\n",
      "  --replica REPLICA     Number of replica by scenario\r\n",
      "  --scenario SCENARIO   Output name without extension\r\n",
      "  --path PATH           Path to output file\r\n"
     ]
    }
   ],
   "source": [
    "!python '/home/jmurga/mkt/201902/scripts/src/slimProcess.py' --help"
   ]
  },
  {
   "cell_type": "markdown",
   "metadata": {},
   "source": [
    "#### Alpha baseline "
   ]
  },
  {
   "cell_type": "code",
   "execution_count": null,
   "metadata": {
    "ExecuteTime": {
     "end_time": "2019-02-15T17:36:14.423813Z",
     "start_time": "2019-02-15T17:36:08.351540Z"
    },
    "code_folding": [],
    "scrolled": true
   },
   "outputs": [],
   "source": [
    "python '/home/jmurga/mkt/201902/scripts/src/slimProcess.py' --recipe nucAlphaComparisons --lengthG1 1e7 --mutRate 1e-9 --recombRate 1e-7 --ancSize 1000 --neutralFreq 0.5 --deleteriousFreq 0.5 --beneficialFreq 0.0005 --beneficialFitness 0.1 --deleteriousFitness -0.02 --gammaShape 0.2 --dominanceCoef 0.5 --burnin 10000 --generations 210000 --bins 20 --scenario baseline  --replica 50"
   ]
  },
  {
   "cell_type": "markdown",
   "metadata": {},
   "source": [
    "#### r0"
   ]
  },
  {
   "cell_type": "code",
   "execution_count": null,
   "metadata": {
    "ExecuteTime": {
     "end_time": "2019-02-15T17:36:14.423813Z",
     "start_time": "2019-02-15T17:36:08.351540Z"
    },
    "code_folding": [],
    "scrolled": true
   },
   "outputs": [],
   "source": [
    "!python '/home/jmurga/mkt/201902/scripts/src/slimProcess.py' --recipe alphaComparisons --lengthG1 5e6 --lengthG2 5e6 --mutRate 1e-9 --recombRate r0 --ancSize 1000 --neutralFreq 1 --deleteriousFreq 1 --beneficialFreq 0.0005 --beneficialFitness 0.1 --deleteriousFitness -0.02 --gammaShape 0.2--dominanceCoef 0.5 --burnin 10000 --generations 210000 --bins 20 --scenario r0 --replica 50"
   ]
  },
  {
   "cell_type": "markdown",
   "metadata": {},
   "source": [
    "#### r1e-5"
   ]
  },
  {
   "cell_type": "code",
   "execution_count": null,
   "metadata": {
    "ExecuteTime": {
     "end_time": "2019-02-15T17:36:14.423813Z",
     "start_time": "2019-02-15T17:36:08.351540Z"
    },
    "code_folding": [],
    "scrolled": true
   },
   "outputs": [],
   "source": [
    "!python '/home/jmurga/mkt/201902/scripts/src/slimProcess.py' --recipe alphaComparisons --lengthG1 5e6 --lengthG2 5e6 --mutRate 1e-9 --recombRate 1e-5 --ancSize 1000 --neutralFreq 1 --deleteriousFreq 1 --beneficialFreq 0.0005 --beneficialFitness 0.1 --deleteriousFitness -0.02 --gammaShape 0.2 --dominanceCoef 0.5 --burnin 10000 --generations 210000 --bins 20 --scenario r1e-5 --replica 50"
   ]
  },
  {
   "cell_type": "markdown",
   "metadata": {},
   "source": [
    "#### Length 1e6"
   ]
  },
  {
   "cell_type": "code",
   "execution_count": null,
   "metadata": {},
   "outputs": [],
   "source": [
    "!python '/home/jmurga/mkt/201902/scripts/src/slimProcess.py' --recipe alphaComparisons --lengthG1 5e5 --lengthG2 5e5 --mutRate 1e-9 --recombRate 1e-7 --ancSize 1000 --neutralFreq 1 --deleteriousFreq 1 --beneficialFreq 0.0005 --beneficialFitness 0.1 --deleteriousFitness -0.02 --gammaShape 0.2 --dominanceCoef 0.5 --burnin 10000 --generations 210000 --bins 20 --scenario l1e6 --replica 50"
   ]
  },
  {
   "cell_type": "markdown",
   "metadata": {},
   "source": [
    "#### Length 1e8"
   ]
  },
  {
   "cell_type": "code",
   "execution_count": null,
   "metadata": {},
   "outputs": [],
   "source": [
    "!python '/home/jmurga/mkt/201902/scripts/src/slimProcess.py' --recipe alphaComparisons --lengthG1 5e7 --lengthG2 5e7 --mutRate 1e-9 --recombRate 1e-7 --ancSize 1000 --neutralFreq 1 --deleteriousFreq 1 --beneficialFreq 0.0005 --beneficialFitness 0.1 --deleteriousFitness -0.02 --gammaShape 0.2 --dominanceCoef 0.5 --burnin 10000 --generations 210000 --bins 20 --scenario l1e8 --replica 50"
   ]
  },
  {
   "cell_type": "markdown",
   "metadata": {},
   "source": [
    "#### Mutation rate 1e-10"
   ]
  },
  {
   "cell_type": "code",
   "execution_count": null,
   "metadata": {},
   "outputs": [],
   "source": [
    "!python '/home/jmurga/mkt/201902/scripts/src/slimProcess.py' --recipe alphaComparisons --lengthG1 5e6 --lengthG2 5e6 --mutRate 1e-10 --recombRate 1e-7 --ancSize 1000 --neutralFreq 1 --deleteriousFreq 1 --beneficialFreq 0.0005 --beneficialFitness 0.1 --deleteriousFitness -0.02 --gammaShape 0.2 --dominanceCoef 0.5 --burnin 10000 --generations 210000 --bins 20 --scenario mu1e-10 --replica 50"
   ]
  },
  {
   "cell_type": "markdown",
   "metadata": {},
   "source": [
    "#### Mutation rate 1e-8"
   ]
  },
  {
   "cell_type": "code",
   "execution_count": null,
   "metadata": {},
   "outputs": [],
   "source": [
    "!python '/home/jmurga/mkt/201902/scripts/src/slimProcess.py' --recipe alphaComparisons --lengthG1 5e6 --lengthG2 5e6 --mutRate 1e-8 --recombRate 1e-7 --ancSize 1000 --neutralFreq 1 --deleteriousFreq 1 --beneficialFreq 0.0005 --beneficialFitness 0.1 --deleteriousFitness -0.02 --gammaShape 0.2 --dominanceCoef 0.5 --burnin 10000 --generations 210000 --bins 20 --scenario mu1e-8 --replica 50"
   ]
  },
  {
   "cell_type": "markdown",
   "metadata": {},
   "source": [
    "#### Alpha Rb1e-4"
   ]
  },
  {
   "cell_type": "code",
   "execution_count": null,
   "metadata": {},
   "outputs": [],
   "source": [
    "python '/home/jmurga/mkt/201902/scripts/src/slimProcess.py' --recipe alphaComparisons --lengthG1 5e6 --lengthG2 5e6 --mutRate 1e-9 --recombRate 1e-7 --ancSize 1000 --neutralFreq 1 --deleteriousFreq 1 --beneficialFreq 0.0001 --beneficialFitness 0.1 --deleteriousFitness -0.02 --gammaShape 0.2 --dominanceCoef 0.5 --burnin 10000 --generations 210000 --bins 20 --scenario rb1e-4 --replica 50"
   ]
  },
  {
   "cell_type": "markdown",
   "metadata": {},
   "source": [
    "#### Alpha Rb1e-3"
   ]
  },
  {
   "cell_type": "code",
   "execution_count": null,
   "metadata": {},
   "outputs": [],
   "source": [
    "!python '/home/jmurga/mkt/201902/scripts/src/slimProcess.py' --recipe alphaComparisons --lengthG1 5e6 --lengthG2 5e6 --mutRate 1e-9 --recombRate 1e-7 --ancSize 1000 --neutralFreq 1 --deleteriousFreq 1 --beneficialFreq 0.001 --beneficialFitness 0.1 --deleteriousFitness -0.02 --gammaShape 0.2 --dominanceCoef 0.5 --burnin 10000 --generations 210000 --bins 20 --scenario rb1e-3 --replica 50"
   ]
  },
  {
   "cell_type": "markdown",
   "metadata": {},
   "source": [
    "#### Alpha Sb2e-2  "
   ]
  },
  {
   "cell_type": "code",
   "execution_count": null,
   "metadata": {},
   "outputs": [],
   "source": [
    "python '/home/jmurga/mkt/201902/scripts/src/slimProcess.py' --recipe alphaComparisons --lengthG1 5e6 --lengthG2 5e6 --mutRate 1e-9 --recombRate 1e-7 --ancSize 1000 --neutralFreq 1 --deleteriousFreq 1 --beneficialFreq 0.0005 --beneficialFitness 0.02 --deleteriousFitness -0.02 --gammaShape 0.2 --dominanceCoef 0.5 --burnin 10000 --generations 210000 --bins 20 --scenario Sb2e-2 --replica 50"
   ]
  },
  {
   "cell_type": "markdown",
   "metadata": {},
   "source": [
    "#### Alpha Sb2-e1"
   ]
  },
  {
   "cell_type": "code",
   "execution_count": null,
   "metadata": {},
   "outputs": [],
   "source": [
    "!python '/home/jmurga/mkt/201902/scripts/src/slimProcess.py' --recipe alphaComparisons --lengthG1 5e6 --lengthG2 5e6 --mutRate 1e-9 --recombRate 1e-7 --ancSize 1000 --neutralFreq 1 --deleteriousFreq 1 --beneficialFreq 0.0005 --beneficialFitness 0.2 --deleteriousFitness -0.02 --gammaShape 0.2 --dominanceCoef 0.5 --burnin 10000 --generations 210000 --bins 20 --scenario sb2-e1 --replica 50"
   ]
  },
  {
   "cell_type": "markdown",
   "metadata": {},
   "source": [
    "#### Alpha Sd (-2)e-3"
   ]
  },
  {
   "cell_type": "code",
   "execution_count": null,
   "metadata": {},
   "outputs": [],
   "source": [
    "!python '/home/jmurga/mkt/201902/scripts/src/slimProcess.py' --recipe alphaComparisons --lengthG1 5e6 --lengthG2 5e6 --mutRate 1e-9 --recombRate 1e-7 --ancSize 1000 --neutralFreq 1 --deleteriousFreq 1 --beneficialFreq 0.0005 --beneficialFitness 0.1 --deleteriousFitness -0.002 --gammaShape 0.2 --dominanceCoef 0.5 --burnin 10000 --generations 210000 --bins 20 --scenario sd-2e-3 --replica 50"
   ]
  },
  {
   "cell_type": "markdown",
   "metadata": {},
   "source": [
    "#### Alpha Sd (-2)e-1"
   ]
  },
  {
   "cell_type": "code",
   "execution_count": null,
   "metadata": {},
   "outputs": [],
   "source": [
    "python '/home/jmurga/mkt/201902/scripts/src/slimProcess.py' --recipe alphaComparisons --lengthG1 5e6 --lengthG2 5e6 --mutRate 1e-9 --recombRate 1e-7 --ancSize 1000 --neutralFreq 1 --deleteriousFreq 1 --beneficialFreq 0.0005 --beneficialFitness 0.1 --deleteriousFitness -0.2 --gammaShape 0.2 --dominanceCoef 0.5 --burnin 10000 --generations 210000 --bins 20 --scenario sd-2e-1 --replica 50"
   ]
  },
  {
   "cell_type": "markdown",
   "metadata": {},
   "source": [
    "#### Alpha generation time 2e4"
   ]
  },
  {
   "cell_type": "code",
   "execution_count": null,
   "metadata": {},
   "outputs": [],
   "source": [
    "!python '/home/jmurga/mkt/201902/scripts/src/slimProcess.py' --recipe alphaComparisons --lengthG1 5e6 --lengthG2 5e6 --mutRate 1e-9 --recombRate 1e-7 --ancSize 1000 --neutralFreq 1 --deleteriousFreq 1 --beneficialFreq 0.0005 --beneficialFitness 0.1 --deleteriousFitness -0.02 --gammaShape 0.2 --dominanceCoef 0.5 --burnin 10000 --generations 21000 --bins 20 --scenario t2e4 --replica 50"
   ]
  },
  {
   "cell_type": "markdown",
   "metadata": {},
   "source": [
    "#### Alpha generation time 2e6"
   ]
  },
  {
   "cell_type": "code",
   "execution_count": null,
   "metadata": {},
   "outputs": [],
   "source": [
    "!python '/home/jmurga/mkt/201902/scripts/src/slimProcess.py' --recipe alphaComparisons --lengthG1 5e6 --lengthG2 5e6 --mutRate 1e-9 --recombRate 1e-7 --ancSize 1000 --neutralFreq 1 --deleteriousFreq 1 --beneficialFreq 0.0005 --beneficialFitness 0.1 --deleteriousFitness -0.02 --gammaShape 0.2 --dominanceCoef 0.5 --burnin 10000 --generations 2100000 --bins 20 --scenario t2e6 --replica 50"
   ]
  },
  {
   "cell_type": "markdown",
   "metadata": {},
   "source": [
    "###  Weakly deleterious fraction"
   ]
  },
  {
   "cell_type": "markdown",
   "metadata": {},
   "source": [
    "#### Neutral"
   ]
  },
  {
   "cell_type": "markdown",
   "metadata": {
    "ExecuteTime": {
     "end_time": "2019-09-30T14:37:26.638839Z",
     "start_time": "2019-09-30T14:37:26.634297Z"
    },
    "heading_collapsed": true
   },
   "source": [
    "##### Changing gamma distribution shape"
   ]
  },
  {
   "cell_type": "markdown",
   "metadata": {
    "hidden": true
   },
   "source": [
    "Shape 0.1, fitness -0.02"
   ]
  },
  {
   "cell_type": "code",
   "execution_count": null,
   "metadata": {
    "hidden": true
   },
   "outputs": [],
   "source": [
    "!python '/home/jmurga/mkt/201902/scripts/src/slimProcess.py' --recipe wdEstimation --lengthG1 3333333 --lengthG2 6666667 --mutRate 1e-9 --recombRate 1e-7 --ancSize 1000 --neutralFreq 1 --deleteriousFreq 1 --beneficialFreq 0 --beneficialFitness 0.1 --deleteriousFitness -0.02 --gammaShape 0.1 --dominanceCoef 0.5 --burnin 10000 --generations 210000 --bins 20 --scenario neutral2 --replica 50"
   ]
  },
  {
   "cell_type": "markdown",
   "metadata": {
    "hidden": true
   },
   "source": [
    "Shape 0.2, fitness -0.02"
   ]
  },
  {
   "cell_type": "code",
   "execution_count": null,
   "metadata": {
    "hidden": true
   },
   "outputs": [],
   "source": [
    "!python '/home/jmurga/mkt/201902/scripts/src/slimProcess.py' --recipe wdEstimation --lengthG1 3333333 --lengthG2 6666667 --mutRate 1e-9 --recombRate 1e-7 --ancSize 1000 --neutralFreq 1 --deleteriousFreq 1 --beneficialFreq 0 --beneficialFitness 0.1 --deleteriousFitness -0.02 --gammaShape 0.2 --dominanceCoef 0.5 --burnin 10000 --generations 210000 --bins 20 --scenario neutral1 --replica 50"
   ]
  },
  {
   "cell_type": "markdown",
   "metadata": {
    "hidden": true
   },
   "source": [
    "Shape 1, fitness -0.02"
   ]
  },
  {
   "cell_type": "code",
   "execution_count": null,
   "metadata": {
    "hidden": true
   },
   "outputs": [],
   "source": [
    "!python '/home/jmurga/mkt/201902/scripts/src/slimProcess.py' --recipe wdEstimation --lengthG1 3333333 --lengthG2 6666667 --mutRate 1e-9 --recombRate 1e-7 --ancSize 1000 --neutralFreq 1 --deleteriousFreq 1 --beneficialFreq 0 --beneficialFitness 0.1 --deleteriousFitness -0.02 --gammaShape 1 --dominanceCoef 0.5 --burnin 10000 --generations 210000 --bins 20 --scenario neutral3 --replica 50"
   ]
  },
  {
   "cell_type": "markdown",
   "metadata": {
    "heading_collapsed": true
   },
   "source": [
    "##### Changing fitness coefficient"
   ]
  },
  {
   "cell_type": "markdown",
   "metadata": {
    "hidden": true
   },
   "source": [
    "Shape 0.2, fitness -0.2"
   ]
  },
  {
   "cell_type": "code",
   "execution_count": null,
   "metadata": {
    "hidden": true
   },
   "outputs": [],
   "source": [
    "!python '/home/jmurga/mkt/201902/scripts/src/slimProcess.py' --recipe wdEstimation --lengthG1 3333333 --lengthG2 6666667 --mutRate 1e-9 --recombRate 1e-7 --ancSize 1000 --neutralFreq 1 --deleteriousFreq 1 --beneficialFreq 0 --beneficialFitness 0.1 --deleteriousFitness -0.2 --gammaShape 0.2 --dominanceCoef 0.5 --burnin 10000 --generations 210000 --bins 20 --scenario neutral4 --replica 50"
   ]
  },
  {
   "cell_type": "markdown",
   "metadata": {
    "hidden": true
   },
   "source": [
    "Shape 0.2, fitness -0.01"
   ]
  },
  {
   "cell_type": "code",
   "execution_count": null,
   "metadata": {
    "hidden": true
   },
   "outputs": [],
   "source": [
    "!python '/home/jmurga/mkt/201902/scripts/src/slimProcess.py' --recipe wdEstimation --lengthG1 3333333 --lengthG2 6666667 --mutRate 1e-9 --recombRate 1e-7 --ancSize 1000 --neutralFreq 1 --deleteriousFreq 1 --beneficialFreq 0 --beneficialFitness 0.1 --deleteriousFitness -0.01 --gammaShape 0.2 --dominanceCoef 0.5 --burnin 10000 --generations 210000 --bins 20 --scenario neutral5 --replica 50"
   ]
  },
  {
   "cell_type": "markdown",
   "metadata": {
    "hidden": true
   },
   "source": [
    "Shape 1, fitness -0.002"
   ]
  },
  {
   "cell_type": "code",
   "execution_count": null,
   "metadata": {
    "hidden": true
   },
   "outputs": [],
   "source": [
    "!python '/home/jmurga/mkt/201902/scripts/src/slimProcess.py' --recipe wdEstimation --lengthG1 3333333 --lengthG2 6666667 --mutRate 1e-9 --recombRate 1e-7 --ancSize 1000 --neutralFreq 1 --deleteriousFreq 1 --beneficialFreq 0 --beneficialFitness 0.1 --deleteriousFitness -0.002 --gammaShape 0.2 --dominanceCoef 0.5 --burnin 10000 --generations 210000 --bins 20 --scenario neutral6 --replica 50"
   ]
  },
  {
   "cell_type": "markdown",
   "metadata": {
    "ExecuteTime": {
     "end_time": "2019-09-30T15:44:53.238679Z",
     "start_time": "2019-09-30T15:44:53.233032Z"
    }
   },
   "source": [
    "#### Adaptative 1"
   ]
  },
  {
   "cell_type": "markdown",
   "metadata": {
    "ExecuteTime": {
     "end_time": "2019-09-30T15:45:18.622526Z",
     "start_time": "2019-09-30T15:45:18.618479Z"
    }
   },
   "source": [
    "##### Changing gamma distribution shape"
   ]
  },
  {
   "cell_type": "markdown",
   "metadata": {},
   "source": [
    "Shape 0.1, fitness -0.02, beneficial frequency 0.0005"
   ]
  },
  {
   "cell_type": "code",
   "execution_count": null,
   "metadata": {},
   "outputs": [],
   "source": [
    "!python '/home/jmurga/mkt/201902/scripts/src/slimProcess.py' --recipe wdEstimation --lengthG1 3333333 --lengthG2 6666667 --mutRate 1e-9 --recombRate 1e-7 --ancSize 1000 --neutralFreq 1 --deleteriousFreq 1 --beneficialFreq 0.0005 --beneficialFitness 0.1 --deleteriousFitness -0.02 --gammaShape 0.1 --dominanceCoef 0.5 --burnin 10000 --generations 210000 --bins 20 --scenario adaptive1 --replica 50"
   ]
  },
  {
   "cell_type": "markdown",
   "metadata": {},
   "source": [
    "Shape 0.2, fitness -0.02, beneficial frequency 0.0005"
   ]
  },
  {
   "cell_type": "code",
   "execution_count": null,
   "metadata": {},
   "outputs": [],
   "source": [
    "!python '/home/jmurga/mkt/201902/scripts/src/slimProcess.py' --recipe wdEstimation --lengthG1 3333333 --lengthG2 6666667 --mutRate 1e-9 --recombRate 1e-7 --ancSize 1000 --neutralFreq 1 --deleteriousFreq 1 --beneficialFreq 0.0005 --beneficialFitness 0.1 --deleteriousFitness -0.02 --gammaShape 0.2 --dominanceCoef 0.5 --burnin 10000 --generations 210000 --bins 20 --scenario adaptive2 --replica 50"
   ]
  },
  {
   "cell_type": "markdown",
   "metadata": {},
   "source": [
    "Shape 1, fitness -0.02"
   ]
  },
  {
   "cell_type": "code",
   "execution_count": null,
   "metadata": {},
   "outputs": [],
   "source": [
    "!python '/home/jmurga/mkt/201902/scripts/src/slimProcess.py' --recipe wdEstimation --lengthG1 3333333 --lengthG2 6666667 --mutRate 1e-9 --recombRate 1e-7 --ancSize 1000 --neutralFreq 1 --deleteriousFreq 1 --beneficialFreq 0.0005 --beneficialFitness 0.1 --deleteriousFitness -0.02 --gammaShape 1 --dominanceCoef 0.5 --burnin 10000 --generations 210000 --bins 20 --scenario adaptive3 --replica 50"
   ]
  }
 ],
 "metadata": {
  "hide_input": false,
  "kernelspec": {
   "display_name": "Python 3",
   "language": "python",
   "name": "python3"
  },
  "language_info": {
   "codemirror_mode": {
    "name": "ipython",
    "version": 3
   },
   "file_extension": ".py",
   "mimetype": "text/x-python",
   "name": "python",
   "nbconvert_exporter": "python",
   "pygments_lexer": "ipython3",
   "version": "3.6.8"
  },
  "toc": {
   "base_numbering": 1,
   "nav_menu": {},
   "number_sections": true,
   "sideBar": true,
   "skip_h1_title": false,
   "title_cell": "Table of Contents",
   "title_sidebar": "Contents",
   "toc_cell": false,
   "toc_position": {},
   "toc_section_display": true,
   "toc_window_display": false
  },
  "varInspector": {
   "cols": {
    "lenName": 16,
    "lenType": 16,
    "lenVar": 40
   },
   "kernels_config": {
    "python": {
     "delete_cmd_postfix": "",
     "delete_cmd_prefix": "del ",
     "library": "var_list.py",
     "varRefreshCmd": "print(var_dic_list())"
    },
    "r": {
     "delete_cmd_postfix": ") ",
     "delete_cmd_prefix": "rm(",
     "library": "var_list.r",
     "varRefreshCmd": "cat(var_dic_list()) "
    }
   },
   "position": {
    "height": "410px",
    "left": "708px",
    "right": "49px",
    "top": "124px",
    "width": "523px"
   },
   "types_to_exclude": [
    "module",
    "function",
    "builtin_function_or_method",
    "instance",
    "_Feature"
   ],
   "window_display": false
  }
 },
 "nbformat": 4,
 "nbformat_minor": 2
}
