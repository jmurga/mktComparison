{
 "cells": [
  {
   "cell_type": "code",
   "execution_count": 1,
   "metadata": {
    "ExecuteTime": {
     "end_time": "2019-03-12T12:06:04.585875Z",
     "start_time": "2019-03-12T12:09:40.311Z"
    }
   },
   "outputs": [],
   "source": [
    "library(repr)\n",
    "suppressMessages(library(ggplot2))\n",
    "suppressMessages(library(dplyr))\n",
    "suppressMessages(library(iMKT))\n",
    "suppressMessages(library(data.table))\n",
    "source('/home/jmurga/mkt/201902/scripts/src/plotStyle.R')"
   ]
  },
  {
   "cell_type": "code",
   "execution_count": 2,
   "metadata": {
    "ExecuteTime": {
     "end_time": "2019-03-12T12:06:05.164564Z",
     "start_time": "2019-03-12T12:09:41.013Z"
    }
   },
   "outputs": [],
   "source": [
    "options(repr.plot.width=20, repr.plot.height=15)"
   ]
  },
  {
   "cell_type": "markdown",
   "metadata": {},
   "source": [
    "## *Drosophila melanogaster* alpha values\n",
    "We do not analyze genes which Pi, P0, Di or D0 are 0"
   ]
  },
  {
   "cell_type": "code",
   "execution_count": 17,
   "metadata": {
    "ExecuteTime": {
     "end_time": "2019-03-12T12:08:36.454254Z",
     "start_time": "2019-03-12T12:12:00.163Z"
    }
   },
   "outputs": [],
   "source": [
    "source('/home/jmurga/mkt/201902/scripts/src/geneAnalysis.R')"
   ]
  },
  {
   "cell_type": "code",
   "execution_count": 14,
   "metadata": {
    "ExecuteTime": {
     "end_time": "2019-03-12T12:08:12.281645Z",
     "start_time": "2019-03-12T12:11:40.463Z"
    }
   },
   "outputs": [
    {
     "data": {
      "text/html": [
       "<table>\n",
       "<thead><tr><th scope=col>id</th><th scope=col>pop</th><th scope=col>DAF0f</th><th scope=col>DAF4f</th><th scope=col>p0</th><th scope=col>pi</th><th scope=col>di</th><th scope=col>d0</th><th scope=col>chr</th><th scope=col>mi</th><th scope=col>m0</th><th scope=col>recomb</th></tr></thead>\n",
       "<tbody>\n",
       "\t<tr><td>FBgn0000008                             </td><td>RAL                                     </td><td>30;7;3;0;1;0;0;0;1;0;0;0;1;0;0;0;0;0;0;0</td><td>19;5;5;2;0;1;0;1;1;0;1;1;1;0;0;0;1;0;0;1</td><td>39                                      </td><td>43                                      </td><td> 26                                     </td><td>31                                      </td><td>2R                                      </td><td>2539                                    </td><td>667                                     </td><td>2.1692837                               </td></tr>\n",
       "\t<tr><td>FBgn0000014                             </td><td>RAL                                     </td><td>2;0;0;0;0;0;0;0;0;0;0;0;0;0;0;0;0;0;0;0 </td><td>1;0;1;1;0;0;0;0;0;0;0;0;0;0;0;0;0;1;0;0 </td><td> 4                                      </td><td> 2                                      </td><td>  1                                     </td><td>20                                      </td><td>3R                                      </td><td>1153                                    </td><td>292                                     </td><td>0.7616990                               </td></tr>\n",
       "\t<tr><td>FBgn0000015                             </td><td>RAL                                     </td><td>3;0;0;0;0;1;0;0;0;0;0;0;0;0;0;0;0;0;0;0 </td><td>4;0;3;1;0;0;1;0;0;0;1;0;0;1;1;0;0;0;0;0 </td><td>12                                      </td><td> 4                                      </td><td>  0                                     </td><td> 3                                      </td><td>3R                                      </td><td> 962                                    </td><td>232                                     </td><td>0.4352566                               </td></tr>\n",
       "\t<tr><td>FBgn0000017                             </td><td>RAL                                     </td><td>14;0;0;0;0;0;0;0;0;0;0;0;0;0;0;0;0;0;0;0</td><td>14;2;0;1;0;0;0;0;0;0;0;0;0;1;1;0;0;0;0;2</td><td>21                                      </td><td>14                                      </td><td>139                                     </td><td>93                                      </td><td>3L                                      </td><td>3325                                    </td><td>913                                     </td><td>0.8999361                               </td></tr>\n",
       "\t<tr><td>FBgn0000018                             </td><td>RAL                                     </td><td>6;0;0;0;0;1;0;0;1;0;0;0;2;1;0;0;0;0;0;0 </td><td>4;2;1;0;0;0;2;1;0;1;0;0;1;0;0;0;0;0;0;0 </td><td>12                                      </td><td>11                                      </td><td> 18                                     </td><td>18                                      </td><td>2L                                      </td><td>1026                                    </td><td>238                                     </td><td>2.9318767                               </td></tr>\n",
       "\t<tr><td>FBgn0000022                             </td><td>RAL                                     </td><td>0;0;0;0;0;0;0;0;0;0;0;0;0;0;0;0;0;0;0;0 </td><td>0;0;0;0;0;0;0;0;0;0;0;0;0;0;0;0;0;0;0;0 </td><td> 0                                      </td><td> 0                                      </td><td>  0                                     </td><td> 0                                      </td><td>X                                       </td><td> 392                                    </td><td> 75                                     </td><td>0.0000000                               </td></tr>\n",
       "</tbody>\n",
       "</table>\n"
      ],
      "text/latex": [
       "\\begin{tabular}{r|llllllllllll}\n",
       " id & pop & DAF0f & DAF4f & p0 & pi & di & d0 & chr & mi & m0 & recomb\\\\\n",
       "\\hline\n",
       "\t FBgn0000008                              & RAL                                      & 30;7;3;0;1;0;0;0;1;0;0;0;1;0;0;0;0;0;0;0 & 19;5;5;2;0;1;0;1;1;0;1;1;1;0;0;0;1;0;0;1 & 39                                       & 43                                       &  26                                      & 31                                       & 2R                                       & 2539                                     & 667                                      & 2.1692837                               \\\\\n",
       "\t FBgn0000014                              & RAL                                      & 2;0;0;0;0;0;0;0;0;0;0;0;0;0;0;0;0;0;0;0  & 1;0;1;1;0;0;0;0;0;0;0;0;0;0;0;0;0;1;0;0  &  4                                       &  2                                       &   1                                      & 20                                       & 3R                                       & 1153                                     & 292                                      & 0.7616990                               \\\\\n",
       "\t FBgn0000015                              & RAL                                      & 3;0;0;0;0;1;0;0;0;0;0;0;0;0;0;0;0;0;0;0  & 4;0;3;1;0;0;1;0;0;0;1;0;0;1;1;0;0;0;0;0  & 12                                       &  4                                       &   0                                      &  3                                       & 3R                                       &  962                                     & 232                                      & 0.4352566                               \\\\\n",
       "\t FBgn0000017                              & RAL                                      & 14;0;0;0;0;0;0;0;0;0;0;0;0;0;0;0;0;0;0;0 & 14;2;0;1;0;0;0;0;0;0;0;0;0;1;1;0;0;0;0;2 & 21                                       & 14                                       & 139                                      & 93                                       & 3L                                       & 3325                                     & 913                                      & 0.8999361                               \\\\\n",
       "\t FBgn0000018                              & RAL                                      & 6;0;0;0;0;1;0;0;1;0;0;0;2;1;0;0;0;0;0;0  & 4;2;1;0;0;0;2;1;0;1;0;0;1;0;0;0;0;0;0;0  & 12                                       & 11                                       &  18                                      & 18                                       & 2L                                       & 1026                                     & 238                                      & 2.9318767                               \\\\\n",
       "\t FBgn0000022                              & RAL                                      & 0;0;0;0;0;0;0;0;0;0;0;0;0;0;0;0;0;0;0;0  & 0;0;0;0;0;0;0;0;0;0;0;0;0;0;0;0;0;0;0;0  &  0                                       &  0                                       &   0                                      &  0                                       & X                                        &  392                                     &  75                                      & 0.0000000                               \\\\\n",
       "\\end{tabular}\n"
      ],
      "text/markdown": [
       "\n",
       "| id | pop | DAF0f | DAF4f | p0 | pi | di | d0 | chr | mi | m0 | recomb |\n",
       "|---|---|---|---|---|---|---|---|---|---|---|---|\n",
       "| FBgn0000008                              | RAL                                      | 30;7;3;0;1;0;0;0;1;0;0;0;1;0;0;0;0;0;0;0 | 19;5;5;2;0;1;0;1;1;0;1;1;1;0;0;0;1;0;0;1 | 39                                       | 43                                       |  26                                      | 31                                       | 2R                                       | 2539                                     | 667                                      | 2.1692837                                |\n",
       "| FBgn0000014                              | RAL                                      | 2;0;0;0;0;0;0;0;0;0;0;0;0;0;0;0;0;0;0;0  | 1;0;1;1;0;0;0;0;0;0;0;0;0;0;0;0;0;1;0;0  |  4                                       |  2                                       |   1                                      | 20                                       | 3R                                       | 1153                                     | 292                                      | 0.7616990                                |\n",
       "| FBgn0000015                              | RAL                                      | 3;0;0;0;0;1;0;0;0;0;0;0;0;0;0;0;0;0;0;0  | 4;0;3;1;0;0;1;0;0;0;1;0;0;1;1;0;0;0;0;0  | 12                                       |  4                                       |   0                                      |  3                                       | 3R                                       |  962                                     | 232                                      | 0.4352566                                |\n",
       "| FBgn0000017                              | RAL                                      | 14;0;0;0;0;0;0;0;0;0;0;0;0;0;0;0;0;0;0;0 | 14;2;0;1;0;0;0;0;0;0;0;0;0;1;1;0;0;0;0;2 | 21                                       | 14                                       | 139                                      | 93                                       | 3L                                       | 3325                                     | 913                                      | 0.8999361                                |\n",
       "| FBgn0000018                              | RAL                                      | 6;0;0;0;0;1;0;0;1;0;0;0;2;1;0;0;0;0;0;0  | 4;2;1;0;0;0;2;1;0;1;0;0;1;0;0;0;0;0;0;0  | 12                                       | 11                                       |  18                                      | 18                                       | 2L                                       | 1026                                     | 238                                      | 2.9318767                                |\n",
       "| FBgn0000022                              | RAL                                      | 0;0;0;0;0;0;0;0;0;0;0;0;0;0;0;0;0;0;0;0  | 0;0;0;0;0;0;0;0;0;0;0;0;0;0;0;0;0;0;0;0  |  0                                       |  0                                       |   0                                      |  0                                       | X                                        |  392                                     |  75                                      | 0.0000000                                |\n",
       "\n"
      ],
      "text/plain": [
       "  id          pop DAF0f                                   \n",
       "1 FBgn0000008 RAL 30;7;3;0;1;0;0;0;1;0;0;0;1;0;0;0;0;0;0;0\n",
       "2 FBgn0000014 RAL 2;0;0;0;0;0;0;0;0;0;0;0;0;0;0;0;0;0;0;0 \n",
       "3 FBgn0000015 RAL 3;0;0;0;0;1;0;0;0;0;0;0;0;0;0;0;0;0;0;0 \n",
       "4 FBgn0000017 RAL 14;0;0;0;0;0;0;0;0;0;0;0;0;0;0;0;0;0;0;0\n",
       "5 FBgn0000018 RAL 6;0;0;0;0;1;0;0;1;0;0;0;2;1;0;0;0;0;0;0 \n",
       "6 FBgn0000022 RAL 0;0;0;0;0;0;0;0;0;0;0;0;0;0;0;0;0;0;0;0 \n",
       "  DAF4f                                    p0 pi di  d0 chr mi   m0  recomb   \n",
       "1 19;5;5;2;0;1;0;1;1;0;1;1;1;0;0;0;1;0;0;1 39 43  26 31 2R  2539 667 2.1692837\n",
       "2 1;0;1;1;0;0;0;0;0;0;0;0;0;0;0;0;0;1;0;0   4  2   1 20 3R  1153 292 0.7616990\n",
       "3 4;0;3;1;0;0;1;0;0;0;1;0;0;1;1;0;0;0;0;0  12  4   0  3 3R   962 232 0.4352566\n",
       "4 14;2;0;1;0;0;0;0;0;0;0;0;0;1;1;0;0;0;0;2 21 14 139 93 3L  3325 913 0.8999361\n",
       "5 4;2;1;0;0;0;2;1;0;1;0;0;1;0;0;0;0;0;0;0  12 11  18 18 2L  1026 238 2.9318767\n",
       "6 0;0;0;0;0;0;0;0;0;0;0;0;0;0;0;0;0;0;0;0   0  0   0  0 X    392  75 0.0000000"
      ]
     },
     "metadata": {},
     "output_type": "display_data"
    }
   ],
   "source": [
    "dmelDataset <- fread('/home/jmurga/mkt/201902/results/dmelData.tab');dmelDataset %>%head"
   ]
  },
  {
   "cell_type": "code",
   "execution_count": 15,
   "metadata": {
    "ExecuteTime": {
     "end_time": "2019-03-12T12:08:20.089477Z",
     "start_time": "2019-03-12T12:11:41.314Z"
    }
   },
   "outputs": [
    {
     "data": {
      "text/html": [
       "<ol class=list-inline>\n",
       "\t<li>'FBgn0000008'</li>\n",
       "\t<li>'FBgn0000014'</li>\n",
       "\t<li>'FBgn0000015'</li>\n",
       "\t<li>'FBgn0000017'</li>\n",
       "\t<li>'FBgn0000018'</li>\n",
       "\t<li>'FBgn0000022'</li>\n",
       "</ol>\n"
      ],
      "text/latex": [
       "\\begin{enumerate*}\n",
       "\\item 'FBgn0000008'\n",
       "\\item 'FBgn0000014'\n",
       "\\item 'FBgn0000015'\n",
       "\\item 'FBgn0000017'\n",
       "\\item 'FBgn0000018'\n",
       "\\item 'FBgn0000022'\n",
       "\\end{enumerate*}\n"
      ],
      "text/markdown": [
       "1. 'FBgn0000008'\n",
       "2. 'FBgn0000014'\n",
       "3. 'FBgn0000015'\n",
       "4. 'FBgn0000017'\n",
       "5. 'FBgn0000018'\n",
       "6. 'FBgn0000022'\n",
       "\n",
       "\n"
      ],
      "text/plain": [
       "[1] \"FBgn0000008\" \"FBgn0000014\" \"FBgn0000015\" \"FBgn0000017\" \"FBgn0000018\"\n",
       "[6] \"FBgn0000022\""
      ]
     },
     "metadata": {},
     "output_type": "display_data"
    }
   ],
   "source": [
    "dmelGeneList <- unique(dmelDataset[['id']]);dmelGeneList %>% head"
   ]
  },
  {
   "cell_type": "markdown",
   "metadata": {
    "ExecuteTime": {
     "end_time": "2019-03-08T14:31:11.137794Z",
     "start_time": "2019-03-08T14:34:47.838Z"
    },
    "heading_collapsed": true
   },
   "source": [
    "### Raleigh"
   ]
  },
  {
   "cell_type": "code",
   "execution_count": 16,
   "metadata": {
    "ExecuteTime": {
     "end_time": "2019-03-12T12:08:28.294805Z",
     "start_time": "2019-03-12T12:11:42.510Z"
    },
    "hidden": true
   },
   "outputs": [
    {
     "data": {
      "text/html": [
       "<table>\n",
       "<thead><tr><th scope=col>id</th><th scope=col>pop</th><th scope=col>DAF0f</th><th scope=col>DAF4f</th><th scope=col>p0</th><th scope=col>pi</th><th scope=col>di</th><th scope=col>d0</th><th scope=col>chr</th><th scope=col>mi</th><th scope=col>m0</th><th scope=col>recomb</th></tr></thead>\n",
       "<tbody>\n",
       "\t<tr><td>FBgn0000008                             </td><td>RAL                                     </td><td>30;7;3;0;1;0;0;0;1;0;0;0;1;0;0;0;0;0;0;0</td><td>19;5;5;2;0;1;0;1;1;0;1;1;1;0;0;0;1;0;0;1</td><td>39                                      </td><td>43                                      </td><td> 26                                     </td><td>31                                      </td><td>2R                                      </td><td>2539                                    </td><td>667                                     </td><td>2.1692837                               </td></tr>\n",
       "\t<tr><td>FBgn0000014                             </td><td>RAL                                     </td><td>2;0;0;0;0;0;0;0;0;0;0;0;0;0;0;0;0;0;0;0 </td><td>1;0;1;1;0;0;0;0;0;0;0;0;0;0;0;0;0;1;0;0 </td><td> 4                                      </td><td> 2                                      </td><td>  1                                     </td><td>20                                      </td><td>3R                                      </td><td>1153                                    </td><td>292                                     </td><td>0.7616990                               </td></tr>\n",
       "\t<tr><td>FBgn0000015                             </td><td>RAL                                     </td><td>3;0;0;0;0;1;0;0;0;0;0;0;0;0;0;0;0;0;0;0 </td><td>4;0;3;1;0;0;1;0;0;0;1;0;0;1;1;0;0;0;0;0 </td><td>12                                      </td><td> 4                                      </td><td>  0                                     </td><td> 3                                      </td><td>3R                                      </td><td> 962                                    </td><td>232                                     </td><td>0.4352566                               </td></tr>\n",
       "\t<tr><td>FBgn0000017                             </td><td>RAL                                     </td><td>14;0;0;0;0;0;0;0;0;0;0;0;0;0;0;0;0;0;0;0</td><td>14;2;0;1;0;0;0;0;0;0;0;0;0;1;1;0;0;0;0;2</td><td>21                                      </td><td>14                                      </td><td>139                                     </td><td>93                                      </td><td>3L                                      </td><td>3325                                    </td><td>913                                     </td><td>0.8999361                               </td></tr>\n",
       "\t<tr><td>FBgn0000018                             </td><td>RAL                                     </td><td>6;0;0;0;0;1;0;0;1;0;0;0;2;1;0;0;0;0;0;0 </td><td>4;2;1;0;0;0;2;1;0;1;0;0;1;0;0;0;0;0;0;0 </td><td>12                                      </td><td>11                                      </td><td> 18                                     </td><td>18                                      </td><td>2L                                      </td><td>1026                                    </td><td>238                                     </td><td>2.9318767                               </td></tr>\n",
       "\t<tr><td>FBgn0000022                             </td><td>RAL                                     </td><td>0;0;0;0;0;0;0;0;0;0;0;0;0;0;0;0;0;0;0;0 </td><td>0;0;0;0;0;0;0;0;0;0;0;0;0;0;0;0;0;0;0;0 </td><td> 0                                      </td><td> 0                                      </td><td>  0                                     </td><td> 0                                      </td><td>X                                       </td><td> 392                                    </td><td> 75                                     </td><td>0.0000000                               </td></tr>\n",
       "</tbody>\n",
       "</table>\n"
      ],
      "text/latex": [
       "\\begin{tabular}{r|llllllllllll}\n",
       " id & pop & DAF0f & DAF4f & p0 & pi & di & d0 & chr & mi & m0 & recomb\\\\\n",
       "\\hline\n",
       "\t FBgn0000008                              & RAL                                      & 30;7;3;0;1;0;0;0;1;0;0;0;1;0;0;0;0;0;0;0 & 19;5;5;2;0;1;0;1;1;0;1;1;1;0;0;0;1;0;0;1 & 39                                       & 43                                       &  26                                      & 31                                       & 2R                                       & 2539                                     & 667                                      & 2.1692837                               \\\\\n",
       "\t FBgn0000014                              & RAL                                      & 2;0;0;0;0;0;0;0;0;0;0;0;0;0;0;0;0;0;0;0  & 1;0;1;1;0;0;0;0;0;0;0;0;0;0;0;0;0;1;0;0  &  4                                       &  2                                       &   1                                      & 20                                       & 3R                                       & 1153                                     & 292                                      & 0.7616990                               \\\\\n",
       "\t FBgn0000015                              & RAL                                      & 3;0;0;0;0;1;0;0;0;0;0;0;0;0;0;0;0;0;0;0  & 4;0;3;1;0;0;1;0;0;0;1;0;0;1;1;0;0;0;0;0  & 12                                       &  4                                       &   0                                      &  3                                       & 3R                                       &  962                                     & 232                                      & 0.4352566                               \\\\\n",
       "\t FBgn0000017                              & RAL                                      & 14;0;0;0;0;0;0;0;0;0;0;0;0;0;0;0;0;0;0;0 & 14;2;0;1;0;0;0;0;0;0;0;0;0;1;1;0;0;0;0;2 & 21                                       & 14                                       & 139                                      & 93                                       & 3L                                       & 3325                                     & 913                                      & 0.8999361                               \\\\\n",
       "\t FBgn0000018                              & RAL                                      & 6;0;0;0;0;1;0;0;1;0;0;0;2;1;0;0;0;0;0;0  & 4;2;1;0;0;0;2;1;0;1;0;0;1;0;0;0;0;0;0;0  & 12                                       & 11                                       &  18                                      & 18                                       & 2L                                       & 1026                                     & 238                                      & 2.9318767                               \\\\\n",
       "\t FBgn0000022                              & RAL                                      & 0;0;0;0;0;0;0;0;0;0;0;0;0;0;0;0;0;0;0;0  & 0;0;0;0;0;0;0;0;0;0;0;0;0;0;0;0;0;0;0;0  &  0                                       &  0                                       &   0                                      &  0                                       & X                                        &  392                                     &  75                                      & 0.0000000                               \\\\\n",
       "\\end{tabular}\n"
      ],
      "text/markdown": [
       "\n",
       "| id | pop | DAF0f | DAF4f | p0 | pi | di | d0 | chr | mi | m0 | recomb |\n",
       "|---|---|---|---|---|---|---|---|---|---|---|---|\n",
       "| FBgn0000008                              | RAL                                      | 30;7;3;0;1;0;0;0;1;0;0;0;1;0;0;0;0;0;0;0 | 19;5;5;2;0;1;0;1;1;0;1;1;1;0;0;0;1;0;0;1 | 39                                       | 43                                       |  26                                      | 31                                       | 2R                                       | 2539                                     | 667                                      | 2.1692837                                |\n",
       "| FBgn0000014                              | RAL                                      | 2;0;0;0;0;0;0;0;0;0;0;0;0;0;0;0;0;0;0;0  | 1;0;1;1;0;0;0;0;0;0;0;0;0;0;0;0;0;1;0;0  |  4                                       |  2                                       |   1                                      | 20                                       | 3R                                       | 1153                                     | 292                                      | 0.7616990                                |\n",
       "| FBgn0000015                              | RAL                                      | 3;0;0;0;0;1;0;0;0;0;0;0;0;0;0;0;0;0;0;0  | 4;0;3;1;0;0;1;0;0;0;1;0;0;1;1;0;0;0;0;0  | 12                                       |  4                                       |   0                                      |  3                                       | 3R                                       |  962                                     | 232                                      | 0.4352566                                |\n",
       "| FBgn0000017                              | RAL                                      | 14;0;0;0;0;0;0;0;0;0;0;0;0;0;0;0;0;0;0;0 | 14;2;0;1;0;0;0;0;0;0;0;0;0;1;1;0;0;0;0;2 | 21                                       | 14                                       | 139                                      | 93                                       | 3L                                       | 3325                                     | 913                                      | 0.8999361                                |\n",
       "| FBgn0000018                              | RAL                                      | 6;0;0;0;0;1;0;0;1;0;0;0;2;1;0;0;0;0;0;0  | 4;2;1;0;0;0;2;1;0;1;0;0;1;0;0;0;0;0;0;0  | 12                                       | 11                                       |  18                                      | 18                                       | 2L                                       | 1026                                     | 238                                      | 2.9318767                                |\n",
       "| FBgn0000022                              | RAL                                      | 0;0;0;0;0;0;0;0;0;0;0;0;0;0;0;0;0;0;0;0  | 0;0;0;0;0;0;0;0;0;0;0;0;0;0;0;0;0;0;0;0  |  0                                       |  0                                       |   0                                      |  0                                       | X                                        |  392                                     |  75                                      | 0.0000000                                |\n",
       "\n"
      ],
      "text/plain": [
       "  id          pop DAF0f                                   \n",
       "1 FBgn0000008 RAL 30;7;3;0;1;0;0;0;1;0;0;0;1;0;0;0;0;0;0;0\n",
       "2 FBgn0000014 RAL 2;0;0;0;0;0;0;0;0;0;0;0;0;0;0;0;0;0;0;0 \n",
       "3 FBgn0000015 RAL 3;0;0;0;0;1;0;0;0;0;0;0;0;0;0;0;0;0;0;0 \n",
       "4 FBgn0000017 RAL 14;0;0;0;0;0;0;0;0;0;0;0;0;0;0;0;0;0;0;0\n",
       "5 FBgn0000018 RAL 6;0;0;0;0;1;0;0;1;0;0;0;2;1;0;0;0;0;0;0 \n",
       "6 FBgn0000022 RAL 0;0;0;0;0;0;0;0;0;0;0;0;0;0;0;0;0;0;0;0 \n",
       "  DAF4f                                    p0 pi di  d0 chr mi   m0  recomb   \n",
       "1 19;5;5;2;0;1;0;1;1;0;1;1;1;0;0;0;1;0;0;1 39 43  26 31 2R  2539 667 2.1692837\n",
       "2 1;0;1;1;0;0;0;0;0;0;0;0;0;0;0;0;0;1;0;0   4  2   1 20 3R  1153 292 0.7616990\n",
       "3 4;0;3;1;0;0;1;0;0;0;1;0;0;1;1;0;0;0;0;0  12  4   0  3 3R   962 232 0.4352566\n",
       "4 14;2;0;1;0;0;0;0;0;0;0;0;0;1;1;0;0;0;0;2 21 14 139 93 3L  3325 913 0.8999361\n",
       "5 4;2;1;0;0;0;2;1;0;1;0;0;1;0;0;0;0;0;0;0  12 11  18 18 2L  1026 238 2.9318767\n",
       "6 0;0;0;0;0;0;0;0;0;0;0;0;0;0;0;0;0;0;0;0   0  0   0  0 X    392  75 0.0000000"
      ]
     },
     "metadata": {},
     "output_type": "display_data"
    }
   ],
   "source": [
    "ral <- dmelDataset[pop=='RAL'];ral %>% head"
   ]
  },
  {
   "cell_type": "markdown",
   "metadata": {
    "hidden": true
   },
   "source": [
    "#### Standard MKT"
   ]
  },
  {
   "cell_type": "code",
   "execution_count": 18,
   "metadata": {
    "ExecuteTime": {
     "end_time": "2019-03-12T12:09:09.761009Z",
     "start_time": "2019-03-12T12:12:11.209Z"
    },
    "hidden": true
   },
   "outputs": [],
   "source": [
    "standardRAL <- mktByGene(data=ral,geneList =dmelGeneList,test = 'standardMKT', population = 'RAL')\n",
    "save(standardRAL,file='/home/jmurga/mkt/201902/results/alphaTables/standardRAL.RData')"
   ]
  },
  {
   "cell_type": "markdown",
   "metadata": {
    "hidden": true
   },
   "source": [
    "#### FWW method"
   ]
  },
  {
   "cell_type": "code",
   "execution_count": null,
   "metadata": {
    "hidden": true
   },
   "outputs": [],
   "source": [
    "FWWRAL0.05 <- mktByGene(data=ral,geneList =dmelGeneList,test = 'FWW', cutoff= 0.05, population = 'RAL')\n",
    "save(FWWRAL0.05,file='/home/jmurga/mkt/201902/results/alphaTables/FWWRAL0.05.RData')"
   ]
  },
  {
   "cell_type": "code",
   "execution_count": null,
   "metadata": {
    "hidden": true
   },
   "outputs": [],
   "source": [
    "FWWRAL0.1 <- mktByGene(data=ral,geneList =dmelGeneList,test = 'FWW', cutoff= 0.1, population = 'RAL')\n",
    "save(FWWRAL0.1,file='/home/jmurga/mkt/201902/results/alphaTables/FWWRAL0.1.RData')"
   ]
  },
  {
   "cell_type": "markdown",
   "metadata": {
    "hidden": true
   },
   "source": [
    "#### eMKT"
   ]
  },
  {
   "cell_type": "code",
   "execution_count": null,
   "metadata": {
    "hidden": true
   },
   "outputs": [],
   "source": [
    "eMKTRAL0.05 <- mktByGene(data=ral,geneList =dmelGeneList,test = 'eMKT', cutoff= 0.05, population = 'RAL')\n",
    "save(eMKTRAL0.05,file='/home/jmurga/mkt/201902/results/alphaTables/eMKTRAL0.05.RData')"
   ]
  },
  {
   "cell_type": "code",
   "execution_count": null,
   "metadata": {
    "hidden": true
   },
   "outputs": [],
   "source": [
    "eMKTRAL0.1 <- mktByGene(data=ral,geneList =dmelGeneList,test = 'eMKT', cutoff= 0.1, population = 'RAL')\n",
    "save(eMKTRAL0.05,file='/home/jmurga/mkt/201902/results/alphaTables/eMKTRAL0.05.RData')"
   ]
  },
  {
   "cell_type": "markdown",
   "metadata": {
    "hidden": true
   },
   "source": [
    "#### aMKT"
   ]
  },
  {
   "cell_type": "code",
   "execution_count": null,
   "metadata": {
    "hidden": true
   },
   "outputs": [],
   "source": [
    "aMKTRAL <- mktByGene(data=ral,geneList =dmelGeneList,test = 'aMKT', population = 'RAL')\n",
    "save(aMKTRAL,file='/home/jmurga/mkt/201902/results/alphaTables/aMKTRAL.RData')"
   ]
  },
  {
   "cell_type": "markdown",
   "metadata": {
    "hidden": true
   },
   "source": [
    "#### Custom aMKT"
   ]
  },
  {
   "cell_type": "code",
   "execution_count": null,
   "metadata": {
    "hidden": true
   },
   "outputs": [],
   "source": [
    "caMKTRAL <- mktByGene(data=ral,geneList =dmelGeneList,test = 'caMKT', population = 'RAL')"
   ]
  },
  {
   "cell_type": "markdown",
   "metadata": {
    "hidden": true
   },
   "source": [
    "#### Raleigth results"
   ]
  },
  {
   "cell_type": "code",
   "execution_count": null,
   "metadata": {
    "hidden": true
   },
   "outputs": [],
   "source": [
    "RAL <- do.call(rbind, lapply( ls(patt='RAL'), get))"
   ]
  },
  {
   "cell_type": "markdown",
   "metadata": {
    "ExecuteTime": {
     "end_time": "2019-03-08T14:31:11.137794Z",
     "start_time": "2019-03-08T14:34:47.838Z"
    },
    "heading_collapsed": true
   },
   "source": [
    "### Zambia"
   ]
  },
  {
   "cell_type": "code",
   "execution_count": null,
   "metadata": {
    "ExecuteTime": {
     "end_time": "2019-03-08T14:31:44.905075Z",
     "start_time": "2019-03-08T14:35:21.573Z"
    },
    "hidden": true
   },
   "outputs": [],
   "source": [
    "zi <- dmelDataset[pop=='ZI'];zi %>% head"
   ]
  },
  {
   "cell_type": "markdown",
   "metadata": {
    "hidden": true
   },
   "source": [
    "#### Standard MKT"
   ]
  },
  {
   "cell_type": "code",
   "execution_count": null,
   "metadata": {
    "hidden": true
   },
   "outputs": [],
   "source": [
    "standardZI <- mktByGene(data=zi,geneList = dmelGeneList,test = 'standardMKT', population = 'ZI')\n",
    "save(standardZI,file='/home/jmurga/mkt/201902/results/alphaTables/standardZI.RData')"
   ]
  },
  {
   "cell_type": "markdown",
   "metadata": {
    "hidden": true
   },
   "source": [
    "#### FWW method"
   ]
  },
  {
   "cell_type": "code",
   "execution_count": null,
   "metadata": {
    "hidden": true
   },
   "outputs": [],
   "source": [
    "FWWZI0.05 <- mktByGene(data=zi,geneList = dmelGeneList,test = 'FWW', cutoff= 0.05, population = 'ZI')\n",
    "save(FWWZI0.05,file='/home/jmurga/mkt/201902/results/alphaTables/FWWZI0.05.RData')"
   ]
  },
  {
   "cell_type": "code",
   "execution_count": null,
   "metadata": {
    "hidden": true
   },
   "outputs": [],
   "source": [
    "FWWZI0.1 <- mktByGene(data=zi,geneList = dmelGeneList,test = 'FWW', cutoff= 0.1, population = 'ZI')\n",
    "save(FWWZI0.1,file='/home/jmurga/mkt/201902/results/alphaTables/FWWZI0.1.RData')"
   ]
  },
  {
   "cell_type": "markdown",
   "metadata": {
    "hidden": true
   },
   "source": [
    "#### eMKT"
   ]
  },
  {
   "cell_type": "code",
   "execution_count": null,
   "metadata": {
    "hidden": true
   },
   "outputs": [],
   "source": [
    "eMKTZI0.05 <- mktByGene(data=zi,geneList = dmelGeneList,test = 'eMKT', cutoff= 0.05, population = 'ZI')\n",
    "save(eMKTZI0.05,file='/home/jmurga/mkt/201902/results/alphaTables/eMKTZI0.05.RData')"
   ]
  },
  {
   "cell_type": "code",
   "execution_count": null,
   "metadata": {
    "hidden": true
   },
   "outputs": [],
   "source": [
    "eMKTZI0.1 <- mktByGene(data=zi,geneList = dmelGeneList,test = 'eMKT', cutoff= 0.1, population = 'ZI')\n",
    "save(eMKTZI0.1,file='/home/jmurga/mkt/201902/results/alphaTables/eMKTZI0.1.RData')"
   ]
  },
  {
   "cell_type": "markdown",
   "metadata": {
    "hidden": true
   },
   "source": [
    "#### aMKT"
   ]
  },
  {
   "cell_type": "code",
   "execution_count": null,
   "metadata": {
    "hidden": true
   },
   "outputs": [],
   "source": [
    "aMKTZI <- mktByGene(data=zi,geneList = dmelGeneList,test = 'aMKT', population = 'ZI')\n",
    "save(aMKTZI,file='/home/jmurga/mkt/201902/results/alphaTables/aMKTZI.RData')"
   ]
  },
  {
   "cell_type": "markdown",
   "metadata": {
    "hidden": true
   },
   "source": [
    "#### Custom aMKT"
   ]
  },
  {
   "cell_type": "code",
   "execution_count": null,
   "metadata": {
    "hidden": true
   },
   "outputs": [],
   "source": [
    "caMKTZI <- mktByGene(data=zi,geneList = dmelGeneList,test = 'caMKT', population = 'ZI')\n",
    "save(caMKTZI,file='/home/jmurga/mkt/201902/results/alphaTables/caMKTZI.RData')"
   ]
  },
  {
   "cell_type": "markdown",
   "metadata": {
    "hidden": true
   },
   "source": [
    "#### Zambia results"
   ]
  },
  {
   "cell_type": "code",
   "execution_count": null,
   "metadata": {
    "hidden": true
   },
   "outputs": [],
   "source": [
    "ZI <- do.call(rbind, lapply( ls(patt='ZI'), get) "
   ]
  },
  {
   "cell_type": "markdown",
   "metadata": {
    "heading_collapsed": true
   },
   "source": [
    "## Human alpha values \n",
    "We do not analyze genes which Pi, P0, Di or D0 are 0"
   ]
  },
  {
   "cell_type": "code",
   "execution_count": null,
   "metadata": {
    "hidden": true
   },
   "outputs": [],
   "source": [
    "source('/home/jmurga/mkt/201902/scripts/src/geneAnalysis.R')"
   ]
  },
  {
   "cell_type": "code",
   "execution_count": 13,
   "metadata": {
    "ExecuteTime": {
     "end_time": "2019-03-08T17:29:36.191337Z",
     "start_time": "2019-03-08T17:33:12.831Z"
    },
    "hidden": true
   },
   "outputs": [
    {
     "data": {
      "text/html": [
       "<table>\n",
       "<thead><tr><th scope=col>id</th><th scope=col>chr</th><th scope=col>pop</th><th scope=col>pi</th><th scope=col>p0</th><th scope=col>daf0f</th><th scope=col>daf4f</th><th scope=col>mi</th><th scope=col>m0</th><th scope=col>di</th><th scope=col>d0</th><th scope=col>name</th><th scope=col>recomb</th></tr></thead>\n",
       "<tbody>\n",
       "\t<tr><td>ENSG00000000457.13_3                   </td><td>1                                      </td><td>CEU                                    </td><td>3                                      </td><td>4                                      </td><td>1;0;1;0;0;0;0;0;0;0;0;1;0;0;0;0;0;0;0;0</td><td>2;0;1;0;0;1;0;0;0;0;0;0;0;0;0;0;0;0;0;0</td><td>1443                                   </td><td>332                                    </td><td> 8                                     </td><td> 1                                     </td><td>SCYL3                                  </td><td>0.07891916                             </td></tr>\n",
       "\t<tr><td>ENSG00000000460.16_4                   </td><td>1                                      </td><td>CEU                                    </td><td>4                                      </td><td>2                                      </td><td>3;0;1;0;0;0;0;0;0;0;0;0;0;0;0;0;0;0;0;0</td><td>1;1;0;0;0;0;0;0;0;0;0;0;0;0;0;0;0;0;0;0</td><td>1664                                   </td><td>350                                    </td><td> 5                                     </td><td> 7                                     </td><td>C1orf112                               </td><td>0.56232538                             </td></tr>\n",
       "\t<tr><td>ENSG00000000938.12_3                   </td><td>1                                      </td><td>CEU                                    </td><td>1                                      </td><td>2                                      </td><td>1;0;0;0;0;0;0;0;0;0;0;0;0;0;0;0;0;0;0;0</td><td>2;0;0;0;0;0;0;0;0;0;0;0;0;0;0;0;0;0;0;0</td><td>1025                                   </td><td>249                                    </td><td> 2                                     </td><td> 4                                     </td><td>FGR                                    </td><td>1.93538579                             </td></tr>\n",
       "\t<tr><td>ENSG00000000971.15_3                   </td><td>1                                      </td><td>CEU                                    </td><td>5                                      </td><td>2                                      </td><td>2;0;0;1;0;0;0;1;0;0;0;0;0;0;0;1;0;0;0;0</td><td>0;0;0;0;0;0;0;0;0;0;0;0;2;0;0;0;0;0;0;0</td><td>2460                                   </td><td>490                                    </td><td>30                                     </td><td>14                                     </td><td>CFH                                    </td><td>0.25803409                             </td></tr>\n",
       "\t<tr><td>ENSG00000001460.17_3                   </td><td>1                                      </td><td>CEU                                    </td><td>5                                      </td><td>0                                      </td><td>2;0;1;0;0;1;1;0;0;0;0;0;0;0;0;0;0;0;0;0</td><td>0;0;0;0;0;0;0;0;0;0;0;0;0;0;0;0;0;0;0;0</td><td> 679                                   </td><td>153                                    </td><td> 2                                     </td><td> 3                                     </td><td>STPG1                                  </td><td>0.41583139                             </td></tr>\n",
       "\t<tr><td>ENSG00000001461.16_3                   </td><td>1                                      </td><td>CEU                                    </td><td>2                                      </td><td>2                                      </td><td>2;0;0;0;0;0;0;0;0;0;0;0;0;0;0;0;0;0;0;0</td><td>1;0;0;0;0;1;0;0;0;0;0;0;0;0;0;0;0;0;0;0</td><td> 788                                   </td><td>199                                    </td><td> 2                                     </td><td> 5                                     </td><td>NIPAL3                                 </td><td>0.64130688                             </td></tr>\n",
       "</tbody>\n",
       "</table>\n"
      ],
      "text/latex": [
       "\\begin{tabular}{r|lllllllllllll}\n",
       " id & chr & pop & pi & p0 & daf0f & daf4f & mi & m0 & di & d0 & name & recomb\\\\\n",
       "\\hline\n",
       "\t ENSG00000000457.13\\_3                  & 1                                       & CEU                                     & 3                                       & 4                                       & 1;0;1;0;0;0;0;0;0;0;0;1;0;0;0;0;0;0;0;0 & 2;0;1;0;0;1;0;0;0;0;0;0;0;0;0;0;0;0;0;0 & 1443                                    & 332                                     &  8                                      &  1                                      & SCYL3                                   & 0.07891916                             \\\\\n",
       "\t ENSG00000000460.16\\_4                  & 1                                       & CEU                                     & 4                                       & 2                                       & 3;0;1;0;0;0;0;0;0;0;0;0;0;0;0;0;0;0;0;0 & 1;1;0;0;0;0;0;0;0;0;0;0;0;0;0;0;0;0;0;0 & 1664                                    & 350                                     &  5                                      &  7                                      & C1orf112                                & 0.56232538                             \\\\\n",
       "\t ENSG00000000938.12\\_3                  & 1                                       & CEU                                     & 1                                       & 2                                       & 1;0;0;0;0;0;0;0;0;0;0;0;0;0;0;0;0;0;0;0 & 2;0;0;0;0;0;0;0;0;0;0;0;0;0;0;0;0;0;0;0 & 1025                                    & 249                                     &  2                                      &  4                                      & FGR                                     & 1.93538579                             \\\\\n",
       "\t ENSG00000000971.15\\_3                  & 1                                       & CEU                                     & 5                                       & 2                                       & 2;0;0;1;0;0;0;1;0;0;0;0;0;0;0;1;0;0;0;0 & 0;0;0;0;0;0;0;0;0;0;0;0;2;0;0;0;0;0;0;0 & 2460                                    & 490                                     & 30                                      & 14                                      & CFH                                     & 0.25803409                             \\\\\n",
       "\t ENSG00000001460.17\\_3                  & 1                                       & CEU                                     & 5                                       & 0                                       & 2;0;1;0;0;1;1;0;0;0;0;0;0;0;0;0;0;0;0;0 & 0;0;0;0;0;0;0;0;0;0;0;0;0;0;0;0;0;0;0;0 &  679                                    & 153                                     &  2                                      &  3                                      & STPG1                                   & 0.41583139                             \\\\\n",
       "\t ENSG00000001461.16\\_3                  & 1                                       & CEU                                     & 2                                       & 2                                       & 2;0;0;0;0;0;0;0;0;0;0;0;0;0;0;0;0;0;0;0 & 1;0;0;0;0;1;0;0;0;0;0;0;0;0;0;0;0;0;0;0 &  788                                    & 199                                     &  2                                      &  5                                      & NIPAL3                                  & 0.64130688                             \\\\\n",
       "\\end{tabular}\n"
      ],
      "text/markdown": [
       "\n",
       "| id | chr | pop | pi | p0 | daf0f | daf4f | mi | m0 | di | d0 | name | recomb |\n",
       "|---|---|---|---|---|---|---|---|---|---|---|---|---|\n",
       "| ENSG00000000457.13_3                    | 1                                       | CEU                                     | 3                                       | 4                                       | 1;0;1;0;0;0;0;0;0;0;0;1;0;0;0;0;0;0;0;0 | 2;0;1;0;0;1;0;0;0;0;0;0;0;0;0;0;0;0;0;0 | 1443                                    | 332                                     |  8                                      |  1                                      | SCYL3                                   | 0.07891916                              |\n",
       "| ENSG00000000460.16_4                    | 1                                       | CEU                                     | 4                                       | 2                                       | 3;0;1;0;0;0;0;0;0;0;0;0;0;0;0;0;0;0;0;0 | 1;1;0;0;0;0;0;0;0;0;0;0;0;0;0;0;0;0;0;0 | 1664                                    | 350                                     |  5                                      |  7                                      | C1orf112                                | 0.56232538                              |\n",
       "| ENSG00000000938.12_3                    | 1                                       | CEU                                     | 1                                       | 2                                       | 1;0;0;0;0;0;0;0;0;0;0;0;0;0;0;0;0;0;0;0 | 2;0;0;0;0;0;0;0;0;0;0;0;0;0;0;0;0;0;0;0 | 1025                                    | 249                                     |  2                                      |  4                                      | FGR                                     | 1.93538579                              |\n",
       "| ENSG00000000971.15_3                    | 1                                       | CEU                                     | 5                                       | 2                                       | 2;0;0;1;0;0;0;1;0;0;0;0;0;0;0;1;0;0;0;0 | 0;0;0;0;0;0;0;0;0;0;0;0;2;0;0;0;0;0;0;0 | 2460                                    | 490                                     | 30                                      | 14                                      | CFH                                     | 0.25803409                              |\n",
       "| ENSG00000001460.17_3                    | 1                                       | CEU                                     | 5                                       | 0                                       | 2;0;1;0;0;1;1;0;0;0;0;0;0;0;0;0;0;0;0;0 | 0;0;0;0;0;0;0;0;0;0;0;0;0;0;0;0;0;0;0;0 |  679                                    | 153                                     |  2                                      |  3                                      | STPG1                                   | 0.41583139                              |\n",
       "| ENSG00000001461.16_3                    | 1                                       | CEU                                     | 2                                       | 2                                       | 2;0;0;0;0;0;0;0;0;0;0;0;0;0;0;0;0;0;0;0 | 1;0;0;0;0;1;0;0;0;0;0;0;0;0;0;0;0;0;0;0 |  788                                    | 199                                     |  2                                      |  5                                      | NIPAL3                                  | 0.64130688                              |\n",
       "\n"
      ],
      "text/plain": [
       "  id                   chr pop pi p0 daf0f                                  \n",
       "1 ENSG00000000457.13_3 1   CEU 3  4  1;0;1;0;0;0;0;0;0;0;0;1;0;0;0;0;0;0;0;0\n",
       "2 ENSG00000000460.16_4 1   CEU 4  2  3;0;1;0;0;0;0;0;0;0;0;0;0;0;0;0;0;0;0;0\n",
       "3 ENSG00000000938.12_3 1   CEU 1  2  1;0;0;0;0;0;0;0;0;0;0;0;0;0;0;0;0;0;0;0\n",
       "4 ENSG00000000971.15_3 1   CEU 5  2  2;0;0;1;0;0;0;1;0;0;0;0;0;0;0;1;0;0;0;0\n",
       "5 ENSG00000001460.17_3 1   CEU 5  0  2;0;1;0;0;1;1;0;0;0;0;0;0;0;0;0;0;0;0;0\n",
       "6 ENSG00000001461.16_3 1   CEU 2  2  2;0;0;0;0;0;0;0;0;0;0;0;0;0;0;0;0;0;0;0\n",
       "  daf4f                                   mi   m0  di d0 name     recomb    \n",
       "1 2;0;1;0;0;1;0;0;0;0;0;0;0;0;0;0;0;0;0;0 1443 332  8  1 SCYL3    0.07891916\n",
       "2 1;1;0;0;0;0;0;0;0;0;0;0;0;0;0;0;0;0;0;0 1664 350  5  7 C1orf112 0.56232538\n",
       "3 2;0;0;0;0;0;0;0;0;0;0;0;0;0;0;0;0;0;0;0 1025 249  2  4 FGR      1.93538579\n",
       "4 0;0;0;0;0;0;0;0;0;0;0;0;2;0;0;0;0;0;0;0 2460 490 30 14 CFH      0.25803409\n",
       "5 0;0;0;0;0;0;0;0;0;0;0;0;0;0;0;0;0;0;0;0  679 153  2  3 STPG1    0.41583139\n",
       "6 1;0;0;0;0;1;0;0;0;0;0;0;0;0;0;0;0;0;0;0  788 199  2  5 NIPAL3   0.64130688"
      ]
     },
     "metadata": {},
     "output_type": "display_data"
    }
   ],
   "source": [
    "humanDataset <- fread('/home/jmurga/mkt/201902/results/humanData.tab');humanDataset%>%head"
   ]
  },
  {
   "cell_type": "code",
   "execution_count": 14,
   "metadata": {
    "ExecuteTime": {
     "end_time": "2019-03-08T17:29:54.493786Z",
     "start_time": "2019-03-08T17:33:17.427Z"
    },
    "hidden": true
   },
   "outputs": [
    {
     "data": {
      "text/html": [
       "<ol class=list-inline>\n",
       "\t<li>'ENSG00000000457.13_3'</li>\n",
       "\t<li>'ENSG00000000460.16_4'</li>\n",
       "\t<li>'ENSG00000000938.12_3'</li>\n",
       "\t<li>'ENSG00000000971.15_3'</li>\n",
       "\t<li>'ENSG00000001460.17_3'</li>\n",
       "\t<li>'ENSG00000001461.16_3'</li>\n",
       "</ol>\n"
      ],
      "text/latex": [
       "\\begin{enumerate*}\n",
       "\\item 'ENSG00000000457.13\\_3'\n",
       "\\item 'ENSG00000000460.16\\_4'\n",
       "\\item 'ENSG00000000938.12\\_3'\n",
       "\\item 'ENSG00000000971.15\\_3'\n",
       "\\item 'ENSG00000001460.17\\_3'\n",
       "\\item 'ENSG00000001461.16\\_3'\n",
       "\\end{enumerate*}\n"
      ],
      "text/markdown": [
       "1. 'ENSG00000000457.13_3'\n",
       "2. 'ENSG00000000460.16_4'\n",
       "3. 'ENSG00000000938.12_3'\n",
       "4. 'ENSG00000000971.15_3'\n",
       "5. 'ENSG00000001460.17_3'\n",
       "6. 'ENSG00000001461.16_3'\n",
       "\n",
       "\n"
      ],
      "text/plain": [
       "[1] \"ENSG00000000457.13_3\" \"ENSG00000000460.16_4\" \"ENSG00000000938.12_3\"\n",
       "[4] \"ENSG00000000971.15_3\" \"ENSG00000001460.17_3\" \"ENSG00000001461.16_3\""
      ]
     },
     "metadata": {},
     "output_type": "display_data"
    }
   ],
   "source": [
    "humanGeneList <- unique(humanDataset[['id']]);humanGeneList %>% head"
   ]
  },
  {
   "cell_type": "markdown",
   "metadata": {
    "heading_collapsed": true,
    "hidden": true
   },
   "source": [
    "### CEU"
   ]
  },
  {
   "cell_type": "code",
   "execution_count": null,
   "metadata": {
    "ExecuteTime": {
     "end_time": "2019-03-08T14:31:44.905075Z",
     "start_time": "2019-03-08T14:35:21.573Z"
    },
    "hidden": true
   },
   "outputs": [],
   "source": [
    "ceu <- humanDataset[pop=='CEU'];ceu %>% head"
   ]
  },
  {
   "cell_type": "markdown",
   "metadata": {
    "hidden": true
   },
   "source": [
    "#### Standard MKT"
   ]
  },
  {
   "cell_type": "code",
   "execution_count": null,
   "metadata": {
    "hidden": true
   },
   "outputs": [],
   "source": [
    "standardCEU <- mktByGene(data=ceu,geneList =humanGeneList,test = 'standardMKT', population = 'CEU')\n",
    "save(standardCEU,file='/home/jmurga/mkt/201902/results/alphaTables/standardCEU.RData')"
   ]
  },
  {
   "cell_type": "markdown",
   "metadata": {
    "hidden": true
   },
   "source": [
    "#### FWW method"
   ]
  },
  {
   "cell_type": "code",
   "execution_count": null,
   "metadata": {
    "hidden": true
   },
   "outputs": [],
   "source": [
    "FWWCEU0.05 <- mktByGene(data=ceu,geneList =humanGeneList,test = 'FWW', cutoff= 0.05, population = 'CEU')\n",
    "save(FWWCEU0.05,file='/home/jmurga/mkt/201902/results/alphaTables/FWWCEU0.05.RData')"
   ]
  },
  {
   "cell_type": "code",
   "execution_count": null,
   "metadata": {
    "hidden": true
   },
   "outputs": [],
   "source": [
    "FWWCEU0.1 <- mktByGene(data=ceu,geneList =humanGeneList,test = 'FWW', cutoff= 0.1, population = 'CEU')\n",
    "save(FWWCEU0.1,file='/home/jmurga/mkt/201902/results/alphaTables/FWWCEU0.1.RData')"
   ]
  },
  {
   "cell_type": "markdown",
   "metadata": {
    "hidden": true
   },
   "source": [
    "#### eMKT"
   ]
  },
  {
   "cell_type": "code",
   "execution_count": null,
   "metadata": {
    "hidden": true
   },
   "outputs": [],
   "source": [
    "eMKTCEU0.05 <- mktByGene(data=ceu,geneList =humanGeneList,test = 'eMKT', cutoff= 0.05, population = 'CEU')\n",
    "save(eMKTCEU0.05,file='/home/jmurga/mkt/201902/results/alphaTables/eMKTCEU0.05.RData')"
   ]
  },
  {
   "cell_type": "code",
   "execution_count": null,
   "metadata": {
    "hidden": true
   },
   "outputs": [],
   "source": [
    "eMKTCEU0.1 <- mktByGene(data=ceu,geneList =humanGeneList,test = 'eMKT', cutoff= 0.1, population = 'CEU')\n",
    "save(eMKTCEU0.1,file='/home/jmurga/mkt/201902/results/alphaTables/eMKTCEU0.1.RData')"
   ]
  },
  {
   "cell_type": "markdown",
   "metadata": {
    "hidden": true
   },
   "source": [
    "#### aMKT"
   ]
  },
  {
   "cell_type": "code",
   "execution_count": null,
   "metadata": {
    "hidden": true
   },
   "outputs": [],
   "source": [
    "aMKTCEU <- mktByGene(data=ceu,geneList =humanGeneList,test = 'aMKT', population = 'CEU')\n",
    "save(aMKTCEU,file='/home/jmurga/mkt/amktCEU.RData')"
   ]
  },
  {
   "cell_type": "markdown",
   "metadata": {
    "hidden": true
   },
   "source": [
    "#### Custom aMKT"
   ]
  },
  {
   "cell_type": "code",
   "execution_count": null,
   "metadata": {
    "hidden": true
   },
   "outputs": [],
   "source": [
    "caMKTCEU <- mktByGene(data=ceu,geneList =humanGeneList,test = 'caMKT', population = 'CEU')\n",
    "save(aMKTCEU,file='/home/jmurga/mkt/201902/results/alphaTables/amktCEU.RData')"
   ]
  },
  {
   "cell_type": "markdown",
   "metadata": {
    "heading_collapsed": true,
    "hidden": true
   },
   "source": [
    "#### CEU results"
   ]
  },
  {
   "cell_type": "code",
   "execution_count": null,
   "metadata": {
    "hidden": true
   },
   "outputs": [],
   "source": [
    "CEU <- do.call(rbind, lapply( ls(patt='CEU'), get) "
   ]
  },
  {
   "cell_type": "markdown",
   "metadata": {
    "heading_collapsed": true,
    "hidden": true
   },
   "source": [
    "### YRI"
   ]
  },
  {
   "cell_type": "code",
   "execution_count": null,
   "metadata": {
    "ExecuteTime": {
     "end_time": "2019-03-08T14:31:44.905075Z",
     "start_time": "2019-03-08T14:35:21.573Z"
    },
    "hidden": true
   },
   "outputs": [],
   "source": [
    "yri <- humanDataset[pop=='YRI'];yri %>% head"
   ]
  },
  {
   "cell_type": "markdown",
   "metadata": {
    "hidden": true
   },
   "source": [
    "#### Standard MKT"
   ]
  },
  {
   "cell_type": "code",
   "execution_count": null,
   "metadata": {
    "hidden": true
   },
   "outputs": [],
   "source": [
    "standardYRI <- mktByGene(data=yri,geneList =humanGeneList,test = 'standardMKT', population = 'YRI')\n",
    "save(standardYRI,file='/home/jmurga/mkt/201902/results/alphaTables/standardYRI.RData')"
   ]
  },
  {
   "cell_type": "markdown",
   "metadata": {
    "hidden": true
   },
   "source": [
    "#### FWW method"
   ]
  },
  {
   "cell_type": "code",
   "execution_count": null,
   "metadata": {
    "hidden": true
   },
   "outputs": [],
   "source": [
    "FWWYRI0.05 <- mktByGene(data=yri,geneList =humanGeneList,test = 'FWW', cutoff= 0.05, population = 'YRI')\n",
    "save(FWWYRI0.05,file='/home/jmurga/mkt/201902/results/alphaTables/FWWYRI0.05.RData')"
   ]
  },
  {
   "cell_type": "code",
   "execution_count": null,
   "metadata": {
    "hidden": true
   },
   "outputs": [],
   "source": [
    "FWWYRI0.1 <- mktByGene(data=yri,geneList =humanGeneList,test = 'FWW', cutoff= 0.1, population = 'YRI')\n",
    "save(FWWYRI0.1,file='/home/jmurga/mkt/201902/results/alphaTables/FWWYRI0.1.RData')"
   ]
  },
  {
   "cell_type": "markdown",
   "metadata": {
    "hidden": true
   },
   "source": [
    "#### eMKT"
   ]
  },
  {
   "cell_type": "code",
   "execution_count": null,
   "metadata": {
    "hidden": true
   },
   "outputs": [],
   "source": [
    "eMKTYRI0.05 <- mktByGene(data=yri,geneList =humanGeneList,test = 'eMKT', cutoff= 0.05, population = 'YRI')\n",
    "save(eMKTYRI0.05,file='/home/jmurga/mkt/201902/results/alphaTables/eMKTYRI0.05.RData')"
   ]
  },
  {
   "cell_type": "code",
   "execution_count": null,
   "metadata": {
    "hidden": true
   },
   "outputs": [],
   "source": [
    "eMKTYRI0.1 <- mktByGene(data=yri,geneList =humanGeneList,test = 'eMKT', cutoff= 0.1, population = 'YRI')\n",
    "save(eMKTYRI0.1,file='/home/jmurga/mkt/201902/results/alphaTables/eMKTYRI0.1.RData')"
   ]
  },
  {
   "cell_type": "markdown",
   "metadata": {
    "hidden": true
   },
   "source": [
    "#### aMKT"
   ]
  },
  {
   "cell_type": "code",
   "execution_count": null,
   "metadata": {
    "hidden": true
   },
   "outputs": [],
   "source": [
    "aMKTYRI <- mktByGene(data=yri,geneList =humanGeneList,test = 'aMKT', population = 'YRI')\n",
    "save(aMKTYRI,file='/home/jmurga/mkt/201902/results/alphaTables/aMKTYRI.RData')"
   ]
  },
  {
   "cell_type": "markdown",
   "metadata": {
    "hidden": true
   },
   "source": [
    "#### Custom aMKT"
   ]
  },
  {
   "cell_type": "code",
   "execution_count": null,
   "metadata": {
    "hidden": true
   },
   "outputs": [],
   "source": [
    "caMKTYRI <- mktByGene(data=yri,geneList =humanGeneList,test = 'caMKT', population = 'YRI')\n",
    "save(caMKTYRI,file='/home/jmurga/mkt/201902/results/alphaTables/caMKTYRI.RData')"
   ]
  },
  {
   "cell_type": "markdown",
   "metadata": {
    "hidden": true
   },
   "source": [
    "#### YRI results"
   ]
  },
  {
   "cell_type": "code",
   "execution_count": null,
   "metadata": {
    "hidden": true
   },
   "outputs": [],
   "source": [
    "YRI <- do.call(rbind, lapply( ls(patt='YRI'), get) "
   ]
  },
  {
   "cell_type": "markdown",
   "metadata": {},
   "source": [
    "## Direction of Selection"
   ]
  },
  {
   "cell_type": "markdown",
   "metadata": {},
   "source": [
    "### *D melanogaster*"
   ]
  },
  {
   "cell_type": "code",
   "execution_count": null,
   "metadata": {},
   "outputs": [],
   "source": [
    "source('/home/jmurga/mkt/201902/scripts/src/geneAnalysis.R')"
   ]
  },
  {
   "cell_type": "code",
   "execution_count": null,
   "metadata": {},
   "outputs": [],
   "source": [
    "source('/home/jmurga/mkt/201902/scripts/src/geneAnalysis.R')\n",
    "dmelDataset <- fread('/home/jmurga/mkt/201902/results/dmelData.tab')\n",
    "dmelGeneList <- unique(dmelDataset[['id']]);dmelGeneList %>% head\n",
    "ral <- dmelDataset[pop=='RAL']\n",
    "dosRAL <- dosByGene(data=ral,geneList=dmelGeneList,population='RAL',cutoff=NULL)\n",
    "save(dosRAL,file='/home/jmurga/mkt/201902/results/dosTables/dosRAL.RData')\n",
    "dosPiNeutralRAL <- dosByGene(data=ral,geneList=dmelGeneList,population='RAL',cutoff=0.025)\n",
    "save(dosPiNeutralRAL,file='/home/jmurga/mkt/201902/results/dosTables/dosPiNeutralRAL.RData')\n",
    "zi <- dmelDataset[pop=='ZI']\n",
    "dosZI <- dosByGene(data=zi,geneList=dmelGeneList,population='ZI',cutoff=NULL)\n",
    "save(dosZI,file='/home/jmurga/mkt/201902/results/dosTables/dosZI.RData')\n",
    "dosPiNeutralZI <- dosByGene(data=zi,geneList=dmelGeneList,population='ZI',cutoff=0.025)\n",
    "save(dosPiNeutralZI,file='/home/jmurga/mkt/201902/results/dosTables/dosPiNeutralZI.RData')"
   ]
  },
  {
   "cell_type": "markdown",
   "metadata": {},
   "source": [
    "#### RAL"
   ]
  },
  {
   "cell_type": "code",
   "execution_count": null,
   "metadata": {},
   "outputs": [],
   "source": [
    "ral <- dmelDataset[pop=='RAL']"
   ]
  },
  {
   "cell_type": "code",
   "execution_count": null,
   "metadata": {},
   "outputs": [],
   "source": [
    "dosRAL <- dosByGene(data=ral,geneList=dmelGeneList,population='RAL',cutoff=NULL)\n",
    "dosPiNeutralRAL <- dosByGene(data=ral,geneList=dmelGeneList,population='RAL',cutoff=0.025)"
   ]
  },
  {
   "cell_type": "markdown",
   "metadata": {},
   "source": [
    "#### ZI"
   ]
  },
  {
   "cell_type": "code",
   "execution_count": null,
   "metadata": {},
   "outputs": [],
   "source": [
    "zi <- dmelDataset[pop=='RAL']"
   ]
  },
  {
   "cell_type": "code",
   "execution_count": null,
   "metadata": {},
   "outputs": [],
   "source": [
    "dosZI <- dosByGene(data=zi,geneList=dmelGeneList,population='ZI',cutoff=NULL)\n",
    "dosPiNeutralZI <- dosByGene(data=zi,geneList=dmelGeneList,population='ZI',cutoff=0.025)"
   ]
  },
  {
   "cell_type": "markdown",
   "metadata": {},
   "source": [
    "### Humans"
   ]
  },
  {
   "cell_type": "code",
   "execution_count": null,
   "metadata": {},
   "outputs": [],
   "source": [
    "source('/home/jmurga/mkt/201902/scripts/src/geneAnalysis.R')\n",
    "humanDataset <- fread('/home/jmurga/mkt/201902/results/humanData.tab')\n",
    "humanGeneList <- unique(humanDataset[['id']]);humanDataset %>% head\n",
    "ceu <- humanDataset[pop=='CEU']\n",
    "dosCEU <- dosByGene(data=ceu,geneList=humanGeneList,population='CEU',cutoff=NULL)\n",
    "save(dosCEU,file='/home/jmurga/mkt/201902/results/dosTables/dosCEU.RData')\n",
    "dosPiNeutCEUCEU <- dosByGene(data=ceu,geneList=humanGeneList,population='CEU',cutoff=0.025)\n",
    "save(dosPiNeutCEUCEU,file='/home/jmurga/mkt/201902/results/dosTables/dosPiNeutCEUCEU.RData')\n",
    "yri <- humanDataset[pop=='YRI']\n",
    "dosYRI <- dosByGene(data=yri,geneList=humanGeneList,population='YRI',cutoff=NULL)\n",
    "save(dosYRI,file='/home/jmurga/mkt/201902/results/dosTables/dosYRI.RData')\n",
    "dosPiNeutralYRI <- dosByGene(data=yri,geneList=humanGeneList,population='YRI',cutoff=0.025)\n",
    "save(dosPiNeutralYRI,file='/home/jmurga/mkt/201902/results/dosTables/dosPiNeutralYRI.RData')"
   ]
  },
  {
   "cell_type": "markdown",
   "metadata": {},
   "source": [
    "#### CEU\n"
   ]
  },
  {
   "cell_type": "code",
   "execution_count": null,
   "metadata": {},
   "outputs": [],
   "source": []
  },
  {
   "cell_type": "markdown",
   "metadata": {},
   "source": [
    "#### YRI"
   ]
  },
  {
   "cell_type": "code",
   "execution_count": null,
   "metadata": {},
   "outputs": [],
   "source": []
  },
  {
   "cell_type": "markdown",
   "metadata": {},
   "source": [
    "## Output alpha tables"
   ]
  },
  {
   "cell_type": "markdown",
   "metadata": {},
   "source": [
    "### Alpha"
   ]
  },
  {
   "cell_type": "code",
   "execution_count": null,
   "metadata": {
    "collapsed": true
   },
   "outputs": [],
   "source": [
    "all <- rbind(RAL,ZI,CEU,YRI)\n",
    "fwrite(all,file='/home/jmurga/mkt/201902/results/alphaTable.tab',sep='\\t',row.names = F,col.names = T,header=T)"
   ]
  },
  {
   "cell_type": "markdown",
   "metadata": {},
   "source": [
    "### DoS"
   ]
  },
  {
   "cell_type": "code",
   "execution_count": null,
   "metadata": {},
   "outputs": [],
   "source": [
    "load('/home/jmurga/mkt/201902/results/dosTables/dosCEU.RData')\n",
    "load('/home/jmurga/mkt/201902/results/dosTables/dosPiNeutralCEU.RData')\n",
    "load('/home/jmurga/mkt/201902/results/dosTables/dosYRI.RData')\n",
    "load('/home/jmurga/mkt/201902/results/dosTables/dosPiNeutralYRI.RData')\n",
    "load('/home/jmurga/mkt/201902/results/dosTables/dosPiNeutralRAL.RData')\n",
    "load('/home/jmurga/mkt/201902/results/dosTables/dosPiNeutralZI.RData')\n",
    "load('/home/jmurga/mkt/201902/results/dosTables/dosRAL.RData')\n",
    "load('/home/jmurga/mkt/201902/results/dosTables/dosZI.RData')"
   ]
  },
  {
   "cell_type": "code",
   "execution_count": null,
   "metadata": {},
   "outputs": [],
   "source": [
    "dos <-do.call('rbind',list(dosCEU$dosTable,dosPiNeutralCEU$dosTable,dosYRI$dosTable,dosPiNeutralYRI$dosTable,dosPiNeutralRAL$dosTable,dosPiNeutralZI$dosTable,dosRAL$dosTable,dosZI$dosTable))"
   ]
  },
  {
   "cell_type": "markdown",
   "metadata": {
    "heading_collapsed": true
   },
   "source": [
    "### Raleigh Venn diagram"
   ]
  },
  {
   "cell_type": "code",
   "execution_count": null,
   "metadata": {
    "ExecuteTime": {
     "end_time": "2019-03-13T15:37:31.829976Z",
     "start_time": "2019-03-13T15:41:07.427Z"
    },
    "hidden": true
   },
   "outputs": [],
   "source": [
    "library(RAM)\n",
    "\n",
    "ral <- lapply(list.files('/home/jmurga/mkt/201902/results/alphaTables', pattern=\"RAL\", full.names=TRUE),function(x) load(x))\n",
    "\n",
    "group.venn(list(Standard=standardRAL$posSigGenes,FWW=FWWRAL0.05$posSigGenes,eMKT=eMKTRAL0.05$posSigGenes,aMKT=aMKTRAL$posSigGenes,caMKT=caMKTRAL$posSigGenes),label=FALSE)"
   ]
  }
 ],
 "metadata": {
  "kernelspec": {
   "display_name": "R",
   "language": "R",
   "name": "ir"
  },
  "language_info": {
   "codemirror_mode": "r",
   "file_extension": ".r",
   "mimetype": "text/x-r-source",
   "name": "R",
   "pygments_lexer": "r",
   "version": "3.5.1"
  },
  "toc": {
   "base_numbering": 1,
   "nav_menu": {},
   "number_sections": true,
   "sideBar": true,
   "skip_h1_title": false,
   "title_cell": "Table of Contents",
   "title_sidebar": "Contents",
   "toc_cell": false,
   "toc_position": {},
   "toc_section_display": true,
   "toc_window_display": false
  },
  "varInspector": {
   "cols": {
    "lenName": 16,
    "lenType": 16,
    "lenVar": 40
   },
   "kernels_config": {
    "python": {
     "delete_cmd_postfix": "",
     "delete_cmd_prefix": "del ",
     "library": "var_list.py",
     "varRefreshCmd": "print(var_dic_list())"
    },
    "r": {
     "delete_cmd_postfix": ") ",
     "delete_cmd_prefix": "rm(",
     "library": "var_list.r",
     "varRefreshCmd": "cat(var_dic_list()) "
    }
   },
   "types_to_exclude": [
    "module",
    "function",
    "builtin_function_or_method",
    "instance",
    "_Feature"
   ],
   "window_display": false
  }
 },
 "nbformat": 4,
 "nbformat_minor": 2
}
