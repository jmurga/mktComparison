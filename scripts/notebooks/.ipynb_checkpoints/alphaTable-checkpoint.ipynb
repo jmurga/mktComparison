{
 "cells": [
  {
   "cell_type": "code",
   "execution_count": 1,
   "metadata": {
    "ExecuteTime": {
     "end_time": "2019-11-15T11:24:05.408300Z",
     "start_time": "2019-11-15T11:24:04.746Z"
    }
   },
   "outputs": [],
   "source": [
    "library(repr)\n",
    "suppressMessages(library(ggplot2))\n",
    "suppressMessages(library(dplyr))\n",
    "suppressMessages(library(iMKT))\n",
    "suppressMessages(library(data.table))\n",
    "source('/home/jmurga/mktComparison/scripts/src/plotStyle.R')"
   ]
  },
  {
   "cell_type": "code",
   "execution_count": 2,
   "metadata": {
    "ExecuteTime": {
     "end_time": "2019-11-15T11:24:05.658401Z",
     "start_time": "2019-11-15T11:24:05.562Z"
    }
   },
   "outputs": [],
   "source": [
    "options(repr.plot.width=20, repr.plot.height=15)"
   ]
  },
  {
   "cell_type": "markdown",
   "metadata": {},
   "source": [
    "## *Drosophila melanogaster* alpha values\n",
    "We do not analyze genes which Pi, P0, Di or D0 are 0"
   ]
  },
  {
   "cell_type": "code",
   "execution_count": 3,
   "metadata": {
    "ExecuteTime": {
     "end_time": "2019-11-15T11:24:06.498840Z",
     "start_time": "2019-11-15T11:24:06.474Z"
    }
   },
   "outputs": [],
   "source": [
    "source('/home/jmurga/mktComparison/scripts/src/geneAnalysis.R')"
   ]
  },
  {
   "cell_type": "code",
   "execution_count": 4,
   "metadata": {
    "ExecuteTime": {
     "end_time": "2019-11-15T11:24:08.939802Z",
     "start_time": "2019-11-15T11:24:08.778Z"
    }
   },
   "outputs": [
    {
     "data": {
      "text/html": [
       "<table>\n",
       "<thead><tr><th scope=col>id</th><th scope=col>pop</th><th scope=col>daf0f</th><th scope=col>daf4f</th><th scope=col>p0</th><th scope=col>pi</th><th scope=col>di</th><th scope=col>d0</th><th scope=col>chr</th><th scope=col>mi</th><th scope=col>m0</th><th scope=col>recomb</th></tr></thead>\n",
       "<tbody>\n",
       "\t<tr><td>FBgn0000008                             </td><td>RAL                                     </td><td>30;7;4;0;1;0;0;0;1;1;0;0;1;0;0;0;0;0;0;0</td><td>24;5;3;3;0;0;1;1;1;0;1;1;0;1;0;0;1;0;0;0</td><td>42                                      </td><td>45                                      </td><td>27                                      </td><td>31                                      </td><td>2R                                      </td><td>2539                                    </td><td>667                                     </td><td>2.1692837                               </td></tr>\n",
       "\t<tr><td>FBgn0000008                             </td><td>ZI                                      </td><td>67;2;2;3;0;0;0;1;0;0;0;1;0;0;0;0;0;0;0;0</td><td>55;7;4;3;2;3;1;4;0;1;0;0;0;0;1;0;0;1;0;0</td><td>82                                      </td><td>76                                      </td><td>26                                      </td><td>31                                      </td><td>2R                                      </td><td>2539                                    </td><td>667                                     </td><td>2.1692837                               </td></tr>\n",
       "\t<tr><td>FBgn0000014                             </td><td>RAL                                     </td><td>2;0;0;0;0;0;0;0;0;0;0;0;0;0;0;0;0;0;0;0 </td><td>1;0;1;1;0;0;0;0;0;0;0;0;0;0;0;0;0;0;1;0 </td><td> 4                                      </td><td> 2                                      </td><td> 1                                      </td><td>20                                      </td><td>3R                                      </td><td>1153                                    </td><td>292                                     </td><td>0.7616990                               </td></tr>\n",
       "\t<tr><td>FBgn0000014                             </td><td>ZI                                      </td><td>4;0;0;0;0;0;0;0;0;0;0;0;0;0;0;0;0;0;0;0 </td><td>10;0;0;1;0;1;0;0;0;0;0;0;0;1;0;1;0;0;0;2</td><td>16                                      </td><td> 4                                      </td><td> 1                                      </td><td>18                                      </td><td>3R                                      </td><td>1153                                    </td><td>292                                     </td><td>0.7616990                               </td></tr>\n",
       "\t<tr><td>FBgn0000015                             </td><td>RAL                                     </td><td>3;0;0;0;0;1;0;0;0;0;0;0;0;0;0;0;0;0;0;0 </td><td>5;0;3;1;0;1;0;0;0;0;1;0;0;1;1;0;0;0;0;0 </td><td>13                                      </td><td> 4                                      </td><td> 0                                      </td><td> 3                                      </td><td>3R                                      </td><td> 962                                    </td><td>232                                     </td><td>0.4352566                               </td></tr>\n",
       "\t<tr><td>FBgn0000015                             </td><td>ZI                                      </td><td>10;0;3;0;0;0;0;0;0;0;0;0;0;0;0;0;0;0;0;0</td><td>19;3;2;0;0;1;0;1;2;0;1;0;0;2;0;0;0;0;0;0</td><td>31                                      </td><td>13                                      </td><td> 1                                      </td><td> 3                                      </td><td>3R                                      </td><td> 962                                    </td><td>232                                     </td><td>0.4352566                               </td></tr>\n",
       "</tbody>\n",
       "</table>\n"
      ],
      "text/latex": [
       "\\begin{tabular}{r|llllllllllll}\n",
       " id & pop & daf0f & daf4f & p0 & pi & di & d0 & chr & mi & m0 & recomb\\\\\n",
       "\\hline\n",
       "\t FBgn0000008                              & RAL                                      & 30;7;4;0;1;0;0;0;1;1;0;0;1;0;0;0;0;0;0;0 & 24;5;3;3;0;0;1;1;1;0;1;1;0;1;0;0;1;0;0;0 & 42                                       & 45                                       & 27                                       & 31                                       & 2R                                       & 2539                                     & 667                                      & 2.1692837                               \\\\\n",
       "\t FBgn0000008                              & ZI                                       & 67;2;2;3;0;0;0;1;0;0;0;1;0;0;0;0;0;0;0;0 & 55;7;4;3;2;3;1;4;0;1;0;0;0;0;1;0;0;1;0;0 & 82                                       & 76                                       & 26                                       & 31                                       & 2R                                       & 2539                                     & 667                                      & 2.1692837                               \\\\\n",
       "\t FBgn0000014                              & RAL                                      & 2;0;0;0;0;0;0;0;0;0;0;0;0;0;0;0;0;0;0;0  & 1;0;1;1;0;0;0;0;0;0;0;0;0;0;0;0;0;0;1;0  &  4                                       &  2                                       &  1                                       & 20                                       & 3R                                       & 1153                                     & 292                                      & 0.7616990                               \\\\\n",
       "\t FBgn0000014                              & ZI                                       & 4;0;0;0;0;0;0;0;0;0;0;0;0;0;0;0;0;0;0;0  & 10;0;0;1;0;1;0;0;0;0;0;0;0;1;0;1;0;0;0;2 & 16                                       &  4                                       &  1                                       & 18                                       & 3R                                       & 1153                                     & 292                                      & 0.7616990                               \\\\\n",
       "\t FBgn0000015                              & RAL                                      & 3;0;0;0;0;1;0;0;0;0;0;0;0;0;0;0;0;0;0;0  & 5;0;3;1;0;1;0;0;0;0;1;0;0;1;1;0;0;0;0;0  & 13                                       &  4                                       &  0                                       &  3                                       & 3R                                       &  962                                     & 232                                      & 0.4352566                               \\\\\n",
       "\t FBgn0000015                              & ZI                                       & 10;0;3;0;0;0;0;0;0;0;0;0;0;0;0;0;0;0;0;0 & 19;3;2;0;0;1;0;1;2;0;1;0;0;2;0;0;0;0;0;0 & 31                                       & 13                                       &  1                                       &  3                                       & 3R                                       &  962                                     & 232                                      & 0.4352566                               \\\\\n",
       "\\end{tabular}\n"
      ],
      "text/markdown": [
       "\n",
       "| id | pop | daf0f | daf4f | p0 | pi | di | d0 | chr | mi | m0 | recomb |\n",
       "|---|---|---|---|---|---|---|---|---|---|---|---|\n",
       "| FBgn0000008                              | RAL                                      | 30;7;4;0;1;0;0;0;1;1;0;0;1;0;0;0;0;0;0;0 | 24;5;3;3;0;0;1;1;1;0;1;1;0;1;0;0;1;0;0;0 | 42                                       | 45                                       | 27                                       | 31                                       | 2R                                       | 2539                                     | 667                                      | 2.1692837                                |\n",
       "| FBgn0000008                              | ZI                                       | 67;2;2;3;0;0;0;1;0;0;0;1;0;0;0;0;0;0;0;0 | 55;7;4;3;2;3;1;4;0;1;0;0;0;0;1;0;0;1;0;0 | 82                                       | 76                                       | 26                                       | 31                                       | 2R                                       | 2539                                     | 667                                      | 2.1692837                                |\n",
       "| FBgn0000014                              | RAL                                      | 2;0;0;0;0;0;0;0;0;0;0;0;0;0;0;0;0;0;0;0  | 1;0;1;1;0;0;0;0;0;0;0;0;0;0;0;0;0;0;1;0  |  4                                       |  2                                       |  1                                       | 20                                       | 3R                                       | 1153                                     | 292                                      | 0.7616990                                |\n",
       "| FBgn0000014                              | ZI                                       | 4;0;0;0;0;0;0;0;0;0;0;0;0;0;0;0;0;0;0;0  | 10;0;0;1;0;1;0;0;0;0;0;0;0;1;0;1;0;0;0;2 | 16                                       |  4                                       |  1                                       | 18                                       | 3R                                       | 1153                                     | 292                                      | 0.7616990                                |\n",
       "| FBgn0000015                              | RAL                                      | 3;0;0;0;0;1;0;0;0;0;0;0;0;0;0;0;0;0;0;0  | 5;0;3;1;0;1;0;0;0;0;1;0;0;1;1;0;0;0;0;0  | 13                                       |  4                                       |  0                                       |  3                                       | 3R                                       |  962                                     | 232                                      | 0.4352566                                |\n",
       "| FBgn0000015                              | ZI                                       | 10;0;3;0;0;0;0;0;0;0;0;0;0;0;0;0;0;0;0;0 | 19;3;2;0;0;1;0;1;2;0;1;0;0;2;0;0;0;0;0;0 | 31                                       | 13                                       |  1                                       |  3                                       | 3R                                       |  962                                     | 232                                      | 0.4352566                                |\n",
       "\n"
      ],
      "text/plain": [
       "  id          pop daf0f                                   \n",
       "1 FBgn0000008 RAL 30;7;4;0;1;0;0;0;1;1;0;0;1;0;0;0;0;0;0;0\n",
       "2 FBgn0000008 ZI  67;2;2;3;0;0;0;1;0;0;0;1;0;0;0;0;0;0;0;0\n",
       "3 FBgn0000014 RAL 2;0;0;0;0;0;0;0;0;0;0;0;0;0;0;0;0;0;0;0 \n",
       "4 FBgn0000014 ZI  4;0;0;0;0;0;0;0;0;0;0;0;0;0;0;0;0;0;0;0 \n",
       "5 FBgn0000015 RAL 3;0;0;0;0;1;0;0;0;0;0;0;0;0;0;0;0;0;0;0 \n",
       "6 FBgn0000015 ZI  10;0;3;0;0;0;0;0;0;0;0;0;0;0;0;0;0;0;0;0\n",
       "  daf4f                                    p0 pi di d0 chr mi   m0  recomb   \n",
       "1 24;5;3;3;0;0;1;1;1;0;1;1;0;1;0;0;1;0;0;0 42 45 27 31 2R  2539 667 2.1692837\n",
       "2 55;7;4;3;2;3;1;4;0;1;0;0;0;0;1;0;0;1;0;0 82 76 26 31 2R  2539 667 2.1692837\n",
       "3 1;0;1;1;0;0;0;0;0;0;0;0;0;0;0;0;0;0;1;0   4  2  1 20 3R  1153 292 0.7616990\n",
       "4 10;0;0;1;0;1;0;0;0;0;0;0;0;1;0;1;0;0;0;2 16  4  1 18 3R  1153 292 0.7616990\n",
       "5 5;0;3;1;0;1;0;0;0;0;1;0;0;1;1;0;0;0;0;0  13  4  0  3 3R   962 232 0.4352566\n",
       "6 19;3;2;0;0;1;0;1;2;0;1;0;0;2;0;0;0;0;0;0 31 13  1  3 3R   962 232 0.4352566"
      ]
     },
     "metadata": {},
     "output_type": "display_data"
    }
   ],
   "source": [
    "dmelDataset <- fread('/home/jmurga/mktComparison/results/dsimDmelData.tab')\n",
    "dmelDataset %>%head"
   ]
  },
  {
   "cell_type": "code",
   "execution_count": 5,
   "metadata": {
    "ExecuteTime": {
     "end_time": "2019-11-15T11:24:13.924679Z",
     "start_time": "2019-11-15T11:24:11.037Z"
    },
    "scrolled": true
   },
   "outputs": [
    {
     "data": {
      "text/html": [
       "<ol class=list-inline>\n",
       "\t<li>'FBgn0000008'</li>\n",
       "\t<li>'FBgn0000014'</li>\n",
       "\t<li>'FBgn0000015'</li>\n",
       "\t<li>'FBgn0000017'</li>\n",
       "\t<li>'FBgn0000018'</li>\n",
       "\t<li>'FBgn0000022'</li>\n",
       "</ol>\n"
      ],
      "text/latex": [
       "\\begin{enumerate*}\n",
       "\\item 'FBgn0000008'\n",
       "\\item 'FBgn0000014'\n",
       "\\item 'FBgn0000015'\n",
       "\\item 'FBgn0000017'\n",
       "\\item 'FBgn0000018'\n",
       "\\item 'FBgn0000022'\n",
       "\\end{enumerate*}\n"
      ],
      "text/markdown": [
       "1. 'FBgn0000008'\n",
       "2. 'FBgn0000014'\n",
       "3. 'FBgn0000015'\n",
       "4. 'FBgn0000017'\n",
       "5. 'FBgn0000018'\n",
       "6. 'FBgn0000022'\n",
       "\n",
       "\n"
      ],
      "text/plain": [
       "[1] \"FBgn0000008\" \"FBgn0000014\" \"FBgn0000015\" \"FBgn0000017\" \"FBgn0000018\"\n",
       "[6] \"FBgn0000022\""
      ]
     },
     "metadata": {},
     "output_type": "display_data"
    }
   ],
   "source": [
    "dmelGeneList <- unique(dmelDataset[['id']]);dmelGeneList %>% head"
   ]
  },
  {
   "cell_type": "markdown",
   "metadata": {
    "ExecuteTime": {
     "end_time": "2019-03-08T14:31:11.137794Z",
     "start_time": "2019-03-08T14:34:47.838Z"
    }
   },
   "source": [
    "### Raleigh"
   ]
  },
  {
   "cell_type": "code",
   "execution_count": 6,
   "metadata": {
    "ExecuteTime": {
     "end_time": "2019-03-12T12:08:28.294805Z",
     "start_time": "2019-03-12T12:11:42.510Z"
    }
   },
   "outputs": [
    {
     "data": {
      "text/html": [
       "<table>\n",
       "<thead><tr><th scope=col>id</th><th scope=col>pop</th><th scope=col>daf0f</th><th scope=col>daf4f</th><th scope=col>p0</th><th scope=col>pi</th><th scope=col>di</th><th scope=col>d0</th><th scope=col>chr</th><th scope=col>mi</th><th scope=col>m0</th><th scope=col>recomb</th></tr></thead>\n",
       "<tbody>\n",
       "\t<tr><td>FBgn0000008                             </td><td>RAL                                     </td><td>30;7;4;0;1;0;0;0;1;1;0;0;1;0;0;0;0;0;0;0</td><td>24;5;3;3;0;0;1;1;1;0;1;1;0;1;0;0;1;0;0;0</td><td>42                                      </td><td>45                                      </td><td> 27                                     </td><td>31                                      </td><td>2R                                      </td><td>2539                                    </td><td>667                                     </td><td>2.1692837                               </td></tr>\n",
       "\t<tr><td>FBgn0000014                             </td><td>RAL                                     </td><td>2;0;0;0;0;0;0;0;0;0;0;0;0;0;0;0;0;0;0;0 </td><td>1;0;1;1;0;0;0;0;0;0;0;0;0;0;0;0;0;0;1;0 </td><td> 4                                      </td><td> 2                                      </td><td>  1                                     </td><td>20                                      </td><td>3R                                      </td><td>1153                                    </td><td>292                                     </td><td>0.7616990                               </td></tr>\n",
       "\t<tr><td>FBgn0000015                             </td><td>RAL                                     </td><td>3;0;0;0;0;1;0;0;0;0;0;0;0;0;0;0;0;0;0;0 </td><td>5;0;3;1;0;1;0;0;0;0;1;0;0;1;1;0;0;0;0;0 </td><td>13                                      </td><td> 4                                      </td><td>  0                                     </td><td> 3                                      </td><td>3R                                      </td><td> 962                                    </td><td>232                                     </td><td>0.4352566                               </td></tr>\n",
       "\t<tr><td>FBgn0000017                             </td><td>RAL                                     </td><td>12;0;0;0;0;0;0;0;0;0;0;0;0;0;0;0;0;0;0;0</td><td>14;2;0;1;0;0;0;0;0;0;0;0;0;0;2;0;0;0;0;2</td><td>21                                      </td><td>12                                      </td><td>141                                     </td><td>93                                      </td><td>3L                                      </td><td>3325                                    </td><td>913                                     </td><td>0.8999361                               </td></tr>\n",
       "\t<tr><td>FBgn0000018                             </td><td>RAL                                     </td><td>5;0;0;0;0;1;0;0;1;1;0;0;2;1;0;0;0;0;0;0 </td><td>5;3;1;0;0;0;2;0;1;1;0;0;0;0;0;0;0;0;0;0 </td><td>13                                      </td><td>11                                      </td><td> 20                                     </td><td>18                                      </td><td>2L                                      </td><td>1026                                    </td><td>238                                     </td><td>2.9318767                               </td></tr>\n",
       "\t<tr><td>FBgn0000022                             </td><td>RAL                                     </td><td>0;0;0;0;0;0;0;0;0;0;0;0;0;0;0;0;0;0;0;0 </td><td>0;0;0;0;0;0;0;0;0;0;0;0;0;0;0;0;0;0;0;0 </td><td> 0                                      </td><td> 0                                      </td><td>  0                                     </td><td> 0                                      </td><td>X                                       </td><td> 392                                    </td><td> 75                                     </td><td>0.0000000                               </td></tr>\n",
       "</tbody>\n",
       "</table>\n"
      ],
      "text/latex": [
       "\\begin{tabular}{r|llllllllllll}\n",
       " id & pop & daf0f & daf4f & p0 & pi & di & d0 & chr & mi & m0 & recomb\\\\\n",
       "\\hline\n",
       "\t FBgn0000008                              & RAL                                      & 30;7;4;0;1;0;0;0;1;1;0;0;1;0;0;0;0;0;0;0 & 24;5;3;3;0;0;1;1;1;0;1;1;0;1;0;0;1;0;0;0 & 42                                       & 45                                       &  27                                      & 31                                       & 2R                                       & 2539                                     & 667                                      & 2.1692837                               \\\\\n",
       "\t FBgn0000014                              & RAL                                      & 2;0;0;0;0;0;0;0;0;0;0;0;0;0;0;0;0;0;0;0  & 1;0;1;1;0;0;0;0;0;0;0;0;0;0;0;0;0;0;1;0  &  4                                       &  2                                       &   1                                      & 20                                       & 3R                                       & 1153                                     & 292                                      & 0.7616990                               \\\\\n",
       "\t FBgn0000015                              & RAL                                      & 3;0;0;0;0;1;0;0;0;0;0;0;0;0;0;0;0;0;0;0  & 5;0;3;1;0;1;0;0;0;0;1;0;0;1;1;0;0;0;0;0  & 13                                       &  4                                       &   0                                      &  3                                       & 3R                                       &  962                                     & 232                                      & 0.4352566                               \\\\\n",
       "\t FBgn0000017                              & RAL                                      & 12;0;0;0;0;0;0;0;0;0;0;0;0;0;0;0;0;0;0;0 & 14;2;0;1;0;0;0;0;0;0;0;0;0;0;2;0;0;0;0;2 & 21                                       & 12                                       & 141                                      & 93                                       & 3L                                       & 3325                                     & 913                                      & 0.8999361                               \\\\\n",
       "\t FBgn0000018                              & RAL                                      & 5;0;0;0;0;1;0;0;1;1;0;0;2;1;0;0;0;0;0;0  & 5;3;1;0;0;0;2;0;1;1;0;0;0;0;0;0;0;0;0;0  & 13                                       & 11                                       &  20                                      & 18                                       & 2L                                       & 1026                                     & 238                                      & 2.9318767                               \\\\\n",
       "\t FBgn0000022                              & RAL                                      & 0;0;0;0;0;0;0;0;0;0;0;0;0;0;0;0;0;0;0;0  & 0;0;0;0;0;0;0;0;0;0;0;0;0;0;0;0;0;0;0;0  &  0                                       &  0                                       &   0                                      &  0                                       & X                                        &  392                                     &  75                                      & 0.0000000                               \\\\\n",
       "\\end{tabular}\n"
      ],
      "text/markdown": [
       "\n",
       "| id | pop | daf0f | daf4f | p0 | pi | di | d0 | chr | mi | m0 | recomb |\n",
       "|---|---|---|---|---|---|---|---|---|---|---|---|\n",
       "| FBgn0000008                              | RAL                                      | 30;7;4;0;1;0;0;0;1;1;0;0;1;0;0;0;0;0;0;0 | 24;5;3;3;0;0;1;1;1;0;1;1;0;1;0;0;1;0;0;0 | 42                                       | 45                                       |  27                                      | 31                                       | 2R                                       | 2539                                     | 667                                      | 2.1692837                                |\n",
       "| FBgn0000014                              | RAL                                      | 2;0;0;0;0;0;0;0;0;0;0;0;0;0;0;0;0;0;0;0  | 1;0;1;1;0;0;0;0;0;0;0;0;0;0;0;0;0;0;1;0  |  4                                       |  2                                       |   1                                      | 20                                       | 3R                                       | 1153                                     | 292                                      | 0.7616990                                |\n",
       "| FBgn0000015                              | RAL                                      | 3;0;0;0;0;1;0;0;0;0;0;0;0;0;0;0;0;0;0;0  | 5;0;3;1;0;1;0;0;0;0;1;0;0;1;1;0;0;0;0;0  | 13                                       |  4                                       |   0                                      |  3                                       | 3R                                       |  962                                     | 232                                      | 0.4352566                                |\n",
       "| FBgn0000017                              | RAL                                      | 12;0;0;0;0;0;0;0;0;0;0;0;0;0;0;0;0;0;0;0 | 14;2;0;1;0;0;0;0;0;0;0;0;0;0;2;0;0;0;0;2 | 21                                       | 12                                       | 141                                      | 93                                       | 3L                                       | 3325                                     | 913                                      | 0.8999361                                |\n",
       "| FBgn0000018                              | RAL                                      | 5;0;0;0;0;1;0;0;1;1;0;0;2;1;0;0;0;0;0;0  | 5;3;1;0;0;0;2;0;1;1;0;0;0;0;0;0;0;0;0;0  | 13                                       | 11                                       |  20                                      | 18                                       | 2L                                       | 1026                                     | 238                                      | 2.9318767                                |\n",
       "| FBgn0000022                              | RAL                                      | 0;0;0;0;0;0;0;0;0;0;0;0;0;0;0;0;0;0;0;0  | 0;0;0;0;0;0;0;0;0;0;0;0;0;0;0;0;0;0;0;0  |  0                                       |  0                                       |   0                                      |  0                                       | X                                        |  392                                     |  75                                      | 0.0000000                                |\n",
       "\n"
      ],
      "text/plain": [
       "  id          pop daf0f                                   \n",
       "1 FBgn0000008 RAL 30;7;4;0;1;0;0;0;1;1;0;0;1;0;0;0;0;0;0;0\n",
       "2 FBgn0000014 RAL 2;0;0;0;0;0;0;0;0;0;0;0;0;0;0;0;0;0;0;0 \n",
       "3 FBgn0000015 RAL 3;0;0;0;0;1;0;0;0;0;0;0;0;0;0;0;0;0;0;0 \n",
       "4 FBgn0000017 RAL 12;0;0;0;0;0;0;0;0;0;0;0;0;0;0;0;0;0;0;0\n",
       "5 FBgn0000018 RAL 5;0;0;0;0;1;0;0;1;1;0;0;2;1;0;0;0;0;0;0 \n",
       "6 FBgn0000022 RAL 0;0;0;0;0;0;0;0;0;0;0;0;0;0;0;0;0;0;0;0 \n",
       "  daf4f                                    p0 pi di  d0 chr mi   m0  recomb   \n",
       "1 24;5;3;3;0;0;1;1;1;0;1;1;0;1;0;0;1;0;0;0 42 45  27 31 2R  2539 667 2.1692837\n",
       "2 1;0;1;1;0;0;0;0;0;0;0;0;0;0;0;0;0;0;1;0   4  2   1 20 3R  1153 292 0.7616990\n",
       "3 5;0;3;1;0;1;0;0;0;0;1;0;0;1;1;0;0;0;0;0  13  4   0  3 3R   962 232 0.4352566\n",
       "4 14;2;0;1;0;0;0;0;0;0;0;0;0;0;2;0;0;0;0;2 21 12 141 93 3L  3325 913 0.8999361\n",
       "5 5;3;1;0;0;0;2;0;1;1;0;0;0;0;0;0;0;0;0;0  13 11  20 18 2L  1026 238 2.9318767\n",
       "6 0;0;0;0;0;0;0;0;0;0;0;0;0;0;0;0;0;0;0;0   0  0   0  0 X    392  75 0.0000000"
      ]
     },
     "metadata": {},
     "output_type": "display_data"
    }
   ],
   "source": [
    "ral <- dmelDataset[pop=='RAL'];ral %>% head"
   ]
  },
  {
   "cell_type": "markdown",
   "metadata": {},
   "source": [
    "#### Standard MKT"
   ]
  },
  {
   "cell_type": "code",
   "execution_count": null,
   "metadata": {
    "ExecuteTime": {
     "end_time": "2019-03-12T12:09:09.761009Z",
     "start_time": "2019-03-12T12:12:11.209Z"
    }
   },
   "outputs": [],
   "source": [
    "standardRAL <- mktByGene(data=ral,geneList =dmelGeneList,test = 'standardMKT', population = 'RAL')\n",
    "save(standardRAL,file='/home/jmurga/mktComparison/results/alphaTables/standardRAL.RData')"
   ]
  },
  {
   "cell_type": "markdown",
   "metadata": {},
   "source": [
    "#### FWW method"
   ]
  },
  {
   "cell_type": "code",
   "execution_count": null,
   "metadata": {},
   "outputs": [],
   "source": [
    "FWWRAL0.05 <- mktByGene(data=ral,geneList =dmelGeneList,test = 'FWW', cutoff= 0.05, population = 'RAL')\n",
    "save(FWWRAL0.05,file='/home/jmurga/mktComparison/results/alphaTables/FWWRAL0.05.RData')"
   ]
  },
  {
   "cell_type": "code",
   "execution_count": null,
   "metadata": {},
   "outputs": [],
   "source": [
    "FWWRAL0.1 <- mktByGene(data=ral,geneList =dmelGeneList,test = 'FWW', cutoff= 0.1, population = 'RAL')\n",
    "save(FWWRAL0.1,file='/home/jmurga/mktComparison/results/alphaTables/FWWRAL0.1.RData')"
   ]
  },
  {
   "cell_type": "markdown",
   "metadata": {},
   "source": [
    "#### imputationMKT"
   ]
  },
  {
   "cell_type": "code",
   "execution_count": null,
   "metadata": {},
   "outputs": [],
   "source": [
    "eMKTRAL0.05 <- mktByGene(data=ral,geneList =dmelGeneList,test = 'eMKT', cutoff= 0.05, population = 'RAL')\n",
    "save(eMKTRAL0.05,file='/home/jmurga/mktComparison/results/alphaTables/eMKTRAL0.05.RData')"
   ]
  },
  {
   "cell_type": "code",
   "execution_count": null,
   "metadata": {},
   "outputs": [],
   "source": [
    "eMKTRAL0.1 <- mktByGene(data=ral,geneList =dmelGeneList,test = 'eMKT', cutoff= 0.1, population = 'RAL')\n",
    "save(eMKTRAL0.1,file='/home/jmurga/mktComparison/results/alphaTables/eMKTRAL0.1.RData')"
   ]
  },
  {
   "cell_type": "markdown",
   "metadata": {},
   "source": [
    "#### aMKT"
   ]
  },
  {
   "cell_type": "code",
   "execution_count": null,
   "metadata": {},
   "outputs": [],
   "source": [
    "aMKTRAL <- mktByGene(data=ral,geneList =dmelGeneList,test = 'aMKT', population = 'RAL')\n",
    "save(aMKTRAL,file='/home/jmurga/mktComparison/results/alphaTables/aMKTRAL.RData')"
   ]
  },
  {
   "cell_type": "markdown",
   "metadata": {},
   "source": [
    "#### Custom aMKT"
   ]
  },
  {
   "cell_type": "code",
   "execution_count": null,
   "metadata": {},
   "outputs": [],
   "source": [
    "caMKTRAL <- mktByGene(data=ral,geneList =dmelGeneList,test = 'caMKT', population = 'RAL')\n",
    "save(caMKTRAL,file='/home/jmurga/mktComparison/results/alphaTables/caMKTRAL.RData')"
   ]
  },
  {
   "cell_type": "markdown",
   "metadata": {
    "ExecuteTime": {
     "end_time": "2019-03-08T14:31:11.137794Z",
     "start_time": "2019-03-08T14:34:47.838Z"
    }
   },
   "source": [
    "### Zambia"
   ]
  },
  {
   "cell_type": "code",
   "execution_count": 7,
   "metadata": {
    "ExecuteTime": {
     "end_time": "2019-03-08T14:31:44.905075Z",
     "start_time": "2019-03-08T14:35:21.573Z"
    }
   },
   "outputs": [
    {
     "data": {
      "text/html": [
       "<table>\n",
       "<thead><tr><th scope=col>id</th><th scope=col>pop</th><th scope=col>daf0f</th><th scope=col>daf4f</th><th scope=col>p0</th><th scope=col>pi</th><th scope=col>di</th><th scope=col>d0</th><th scope=col>chr</th><th scope=col>mi</th><th scope=col>m0</th><th scope=col>recomb</th></tr></thead>\n",
       "<tbody>\n",
       "\t<tr><td>FBgn0000008                             </td><td>ZI                                      </td><td>67;2;2;3;0;0;0;1;0;0;0;1;0;0;0;0;0;0;0;0</td><td>55;7;4;3;2;3;1;4;0;1;0;0;0;0;1;0;0;1;0;0</td><td>82                                      </td><td>76                                      </td><td> 26                                     </td><td>31                                      </td><td>2R                                      </td><td>2539                                    </td><td>667                                     </td><td>2.1692837                               </td></tr>\n",
       "\t<tr><td>FBgn0000014                             </td><td>ZI                                      </td><td>4;0;0;0;0;0;0;0;0;0;0;0;0;0;0;0;0;0;0;0 </td><td>10;0;0;1;0;1;0;0;0;0;0;0;0;1;0;1;0;0;0;2</td><td>16                                      </td><td> 4                                      </td><td>  1                                     </td><td>18                                      </td><td>3R                                      </td><td>1153                                    </td><td>292                                     </td><td>0.7616990                               </td></tr>\n",
       "\t<tr><td>FBgn0000015                             </td><td>ZI                                      </td><td>10;0;3;0;0;0;0;0;0;0;0;0;0;0;0;0;0;0;0;0</td><td>19;3;2;0;0;1;0;1;2;0;1;0;0;2;0;0;0;0;0;0</td><td>31                                      </td><td>13                                      </td><td>  1                                     </td><td> 3                                      </td><td>3R                                      </td><td> 962                                    </td><td>232                                     </td><td>0.4352566                               </td></tr>\n",
       "\t<tr><td>FBgn0000017                             </td><td>ZI                                      </td><td>20;3;0;1;0;0;0;0;0;0;0;0;0;0;0;0;0;0;0;2</td><td>28;8;0;1;0;0;0;0;0;0;0;0;0;0;0;0;0;0;0;2</td><td>39                                      </td><td>26                                      </td><td>138                                     </td><td>90                                      </td><td>3L                                      </td><td>3325                                    </td><td>913                                     </td><td>0.8999361                               </td></tr>\n",
       "\t<tr><td>FBgn0000018                             </td><td>ZI                                      </td><td>9;3;1;0;2;0;0;0;0;0;0;0;1;0;0;0;0;0;0;0 </td><td>19;3;1;0;0;1;0;0;0;0;0;0;0;0;0;1;0;0;0;1</td><td>26                                      </td><td>16                                      </td><td> 21                                     </td><td>14                                      </td><td>2L                                      </td><td>1026                                    </td><td>238                                     </td><td>2.9318767                               </td></tr>\n",
       "\t<tr><td>FBgn0000022                             </td><td>ZI                                      </td><td>2;0;0;0;0;0;0;0;0;0;0;0;0;0;0;0;0;0;0;0 </td><td>3;0;0;0;0;0;0;0;0;0;0;0;0;0;0;0;0;0;0;0 </td><td> 3                                      </td><td> 2                                      </td><td> 87                                     </td><td>20                                      </td><td>X                                       </td><td> 392                                    </td><td> 75                                     </td><td>0.0000000                               </td></tr>\n",
       "</tbody>\n",
       "</table>\n"
      ],
      "text/latex": [
       "\\begin{tabular}{r|llllllllllll}\n",
       " id & pop & daf0f & daf4f & p0 & pi & di & d0 & chr & mi & m0 & recomb\\\\\n",
       "\\hline\n",
       "\t FBgn0000008                              & ZI                                       & 67;2;2;3;0;0;0;1;0;0;0;1;0;0;0;0;0;0;0;0 & 55;7;4;3;2;3;1;4;0;1;0;0;0;0;1;0;0;1;0;0 & 82                                       & 76                                       &  26                                      & 31                                       & 2R                                       & 2539                                     & 667                                      & 2.1692837                               \\\\\n",
       "\t FBgn0000014                              & ZI                                       & 4;0;0;0;0;0;0;0;0;0;0;0;0;0;0;0;0;0;0;0  & 10;0;0;1;0;1;0;0;0;0;0;0;0;1;0;1;0;0;0;2 & 16                                       &  4                                       &   1                                      & 18                                       & 3R                                       & 1153                                     & 292                                      & 0.7616990                               \\\\\n",
       "\t FBgn0000015                              & ZI                                       & 10;0;3;0;0;0;0;0;0;0;0;0;0;0;0;0;0;0;0;0 & 19;3;2;0;0;1;0;1;2;0;1;0;0;2;0;0;0;0;0;0 & 31                                       & 13                                       &   1                                      &  3                                       & 3R                                       &  962                                     & 232                                      & 0.4352566                               \\\\\n",
       "\t FBgn0000017                              & ZI                                       & 20;3;0;1;0;0;0;0;0;0;0;0;0;0;0;0;0;0;0;2 & 28;8;0;1;0;0;0;0;0;0;0;0;0;0;0;0;0;0;0;2 & 39                                       & 26                                       & 138                                      & 90                                       & 3L                                       & 3325                                     & 913                                      & 0.8999361                               \\\\\n",
       "\t FBgn0000018                              & ZI                                       & 9;3;1;0;2;0;0;0;0;0;0;0;1;0;0;0;0;0;0;0  & 19;3;1;0;0;1;0;0;0;0;0;0;0;0;0;1;0;0;0;1 & 26                                       & 16                                       &  21                                      & 14                                       & 2L                                       & 1026                                     & 238                                      & 2.9318767                               \\\\\n",
       "\t FBgn0000022                              & ZI                                       & 2;0;0;0;0;0;0;0;0;0;0;0;0;0;0;0;0;0;0;0  & 3;0;0;0;0;0;0;0;0;0;0;0;0;0;0;0;0;0;0;0  &  3                                       &  2                                       &  87                                      & 20                                       & X                                        &  392                                     &  75                                      & 0.0000000                               \\\\\n",
       "\\end{tabular}\n"
      ],
      "text/markdown": [
       "\n",
       "| id | pop | daf0f | daf4f | p0 | pi | di | d0 | chr | mi | m0 | recomb |\n",
       "|---|---|---|---|---|---|---|---|---|---|---|---|\n",
       "| FBgn0000008                              | ZI                                       | 67;2;2;3;0;0;0;1;0;0;0;1;0;0;0;0;0;0;0;0 | 55;7;4;3;2;3;1;4;0;1;0;0;0;0;1;0;0;1;0;0 | 82                                       | 76                                       |  26                                      | 31                                       | 2R                                       | 2539                                     | 667                                      | 2.1692837                                |\n",
       "| FBgn0000014                              | ZI                                       | 4;0;0;0;0;0;0;0;0;0;0;0;0;0;0;0;0;0;0;0  | 10;0;0;1;0;1;0;0;0;0;0;0;0;1;0;1;0;0;0;2 | 16                                       |  4                                       |   1                                      | 18                                       | 3R                                       | 1153                                     | 292                                      | 0.7616990                                |\n",
       "| FBgn0000015                              | ZI                                       | 10;0;3;0;0;0;0;0;0;0;0;0;0;0;0;0;0;0;0;0 | 19;3;2;0;0;1;0;1;2;0;1;0;0;2;0;0;0;0;0;0 | 31                                       | 13                                       |   1                                      |  3                                       | 3R                                       |  962                                     | 232                                      | 0.4352566                                |\n",
       "| FBgn0000017                              | ZI                                       | 20;3;0;1;0;0;0;0;0;0;0;0;0;0;0;0;0;0;0;2 | 28;8;0;1;0;0;0;0;0;0;0;0;0;0;0;0;0;0;0;2 | 39                                       | 26                                       | 138                                      | 90                                       | 3L                                       | 3325                                     | 913                                      | 0.8999361                                |\n",
       "| FBgn0000018                              | ZI                                       | 9;3;1;0;2;0;0;0;0;0;0;0;1;0;0;0;0;0;0;0  | 19;3;1;0;0;1;0;0;0;0;0;0;0;0;0;1;0;0;0;1 | 26                                       | 16                                       |  21                                      | 14                                       | 2L                                       | 1026                                     | 238                                      | 2.9318767                                |\n",
       "| FBgn0000022                              | ZI                                       | 2;0;0;0;0;0;0;0;0;0;0;0;0;0;0;0;0;0;0;0  | 3;0;0;0;0;0;0;0;0;0;0;0;0;0;0;0;0;0;0;0  |  3                                       |  2                                       |  87                                      | 20                                       | X                                        |  392                                     |  75                                      | 0.0000000                                |\n",
       "\n"
      ],
      "text/plain": [
       "  id          pop daf0f                                   \n",
       "1 FBgn0000008 ZI  67;2;2;3;0;0;0;1;0;0;0;1;0;0;0;0;0;0;0;0\n",
       "2 FBgn0000014 ZI  4;0;0;0;0;0;0;0;0;0;0;0;0;0;0;0;0;0;0;0 \n",
       "3 FBgn0000015 ZI  10;0;3;0;0;0;0;0;0;0;0;0;0;0;0;0;0;0;0;0\n",
       "4 FBgn0000017 ZI  20;3;0;1;0;0;0;0;0;0;0;0;0;0;0;0;0;0;0;2\n",
       "5 FBgn0000018 ZI  9;3;1;0;2;0;0;0;0;0;0;0;1;0;0;0;0;0;0;0 \n",
       "6 FBgn0000022 ZI  2;0;0;0;0;0;0;0;0;0;0;0;0;0;0;0;0;0;0;0 \n",
       "  daf4f                                    p0 pi di  d0 chr mi   m0  recomb   \n",
       "1 55;7;4;3;2;3;1;4;0;1;0;0;0;0;1;0;0;1;0;0 82 76  26 31 2R  2539 667 2.1692837\n",
       "2 10;0;0;1;0;1;0;0;0;0;0;0;0;1;0;1;0;0;0;2 16  4   1 18 3R  1153 292 0.7616990\n",
       "3 19;3;2;0;0;1;0;1;2;0;1;0;0;2;0;0;0;0;0;0 31 13   1  3 3R   962 232 0.4352566\n",
       "4 28;8;0;1;0;0;0;0;0;0;0;0;0;0;0;0;0;0;0;2 39 26 138 90 3L  3325 913 0.8999361\n",
       "5 19;3;1;0;0;1;0;0;0;0;0;0;0;0;0;1;0;0;0;1 26 16  21 14 2L  1026 238 2.9318767\n",
       "6 3;0;0;0;0;0;0;0;0;0;0;0;0;0;0;0;0;0;0;0   3  2  87 20 X    392  75 0.0000000"
      ]
     },
     "metadata": {},
     "output_type": "display_data"
    }
   ],
   "source": [
    "zi <- dmelDataset[pop=='ZI'];zi %>% head"
   ]
  },
  {
   "cell_type": "markdown",
   "metadata": {},
   "source": [
    "#### Standard MKT"
   ]
  },
  {
   "cell_type": "code",
   "execution_count": null,
   "metadata": {},
   "outputs": [],
   "source": [
    "standardZI <- mktByGene(data=zi,geneList = dmelGeneList,test = 'standardMKT', population = 'ZI')"
   ]
  },
  {
   "cell_type": "markdown",
   "metadata": {},
   "source": [
    "#### FWW method"
   ]
  },
  {
   "cell_type": "code",
   "execution_count": null,
   "metadata": {},
   "outputs": [],
   "source": [
    "FWWZI0.05 <- mktByGene(data=zi,geneList = dmelGeneList,test = 'FWW', cutoff= 0.05, population = 'ZI')"
   ]
  },
  {
   "cell_type": "code",
   "execution_count": null,
   "metadata": {},
   "outputs": [],
   "source": [
    "FWWZI0.1 <- mktByGene(data=zi,geneList = dmelGeneList,test = 'FWW', cutoff= 0.1, population = 'ZI')"
   ]
  },
  {
   "cell_type": "markdown",
   "metadata": {},
   "source": [
    "#### imputationMKT"
   ]
  },
  {
   "cell_type": "code",
   "execution_count": null,
   "metadata": {},
   "outputs": [],
   "source": [
    "eMKTZI0.05 <- mktByGene(data=zi,geneList = dmelGeneList,test = 'eMKT', cutoff= 0.05, population = 'ZI')"
   ]
  },
  {
   "cell_type": "code",
   "execution_count": null,
   "metadata": {},
   "outputs": [],
   "source": [
    "eMKTZI0.1 <- mktByGene(data=zi,geneList = dmelGeneList,test = 'eMKT', cutoff= 0.1, population = 'ZI')"
   ]
  },
  {
   "cell_type": "markdown",
   "metadata": {},
   "source": [
    "#### aMKT"
   ]
  },
  {
   "cell_type": "code",
   "execution_count": null,
   "metadata": {},
   "outputs": [],
   "source": [
    "aMKTZI <- mktByGene(data=zi,geneList = dmelGeneList,test = 'aMKT', population = 'ZI')"
   ]
  },
  {
   "cell_type": "markdown",
   "metadata": {},
   "source": [
    "#### Custom aMKT"
   ]
  },
  {
   "cell_type": "code",
   "execution_count": null,
   "metadata": {},
   "outputs": [],
   "source": [
    "caMKTZI <- mktByGene(data=zi,geneList = dmelGeneList,test = 'caMKT', population = 'ZI')"
   ]
  },
  {
   "cell_type": "markdown",
   "metadata": {},
   "source": [
    "#### Save results"
   ]
  },
  {
   "cell_type": "code",
   "execution_count": null,
   "metadata": {},
   "outputs": [],
   "source": [
    "save(standardZI,file='/home/jmurga/mktComparison/results/alphaTables/standardZI.RData')\n",
    "save(FWWZI0.05,file='/home/jmurga/mktComparison/results/alphaTables/FWWZI0.05.RData')\n",
    "save(FWWZI0.1,file='/home/jmurga/mktComparison/results/alphaTables/FWWZI0.1.RData')\n",
    "save(eMKTZI0.05,file='/home/jmurga/mktComparison/results/alphaTables/eMKTZI0.05.RData')\n",
    "save(eMKTZI0.1,file='/home/jmurga/mktComparison/results/alphaTables/eMKTZI0.1.RData')\n",
    "save(aMKTZI,file='/home/jmurga/mktComparison/results/alphaTables/aMKTZI.RData')\n",
    "save(caMKTZI,file='/home/jmurga/mktComparison/results/alphaTables/caMKTZI.RData')"
   ]
  },
  {
   "cell_type": "markdown",
   "metadata": {
    "heading_collapsed": true
   },
   "source": [
    "## Human alpha values \n",
    "We do not analyze genes which Pi, P0, Di or D0 are 0"
   ]
  },
  {
   "cell_type": "code",
   "execution_count": 8,
   "metadata": {
    "hidden": true
   },
   "outputs": [],
   "source": [
    "source('/home/jmurga/mktComparison/scripts/src/geneAnalysis.R')"
   ]
  },
  {
   "cell_type": "code",
   "execution_count": 9,
   "metadata": {
    "ExecuteTime": {
     "end_time": "2019-03-08T17:29:36.191337Z",
     "start_time": "2019-03-08T17:33:12.831Z"
    },
    "hidden": true
   },
   "outputs": [
    {
     "data": {
      "text/html": [
       "<table>\n",
       "<thead><tr><th scope=col>id</th><th scope=col>chr</th><th scope=col>pop</th><th scope=col>pi</th><th scope=col>p0</th><th scope=col>daf0f</th><th scope=col>daf4f</th><th scope=col>mi</th><th scope=col>m0</th><th scope=col>di</th><th scope=col>d0</th><th scope=col>name</th><th scope=col>recomb</th></tr></thead>\n",
       "<tbody>\n",
       "\t<tr><td>ENSG00000000457.13_3                   </td><td>1                                      </td><td>ACB                                    </td><td>3                                      </td><td>6                                      </td><td>1;0;1;0;0;0;0;0;0;0;0;0;0;0;1;0;0;0;0;0</td><td>4;1;1;0;0;0;0;0;0;0;0;0;0;0;0;0;0;0;0;0</td><td>1443                                   </td><td>332                                    </td><td>8                                      </td><td>1                                      </td><td>SCYL3                                  </td><td>0.07891916                             </td></tr>\n",
       "\t<tr><td>ENSG00000000457.13_3                   </td><td>1                                      </td><td>ASW                                    </td><td>3                                      </td><td>5                                      </td><td>1;0;1;0;0;0;0;0;0;0;0;0;0;1;0;0;0;0;0;0</td><td>4;0;0;1;0;0;0;0;0;0;0;0;0;0;0;0;0;0;0;0</td><td>1443                                   </td><td>332                                    </td><td>8                                      </td><td>1                                      </td><td>SCYL3                                  </td><td>0.07891916                             </td></tr>\n",
       "\t<tr><td>ENSG00000000457.13_3                   </td><td>1                                      </td><td>BEB                                    </td><td>5                                      </td><td>4                                      </td><td>4;0;0;0;0;0;0;0;0;0;0;0;0;0;0;1;0;0;0;0</td><td>3;1;0;0;0;0;0;0;0;0;0;0;0;0;0;0;0;0;0;0</td><td>1443                                   </td><td>332                                    </td><td>8                                      </td><td>1                                      </td><td>SCYL3                                  </td><td>0.07891916                             </td></tr>\n",
       "\t<tr><td>ENSG00000000457.13_3                   </td><td>1                                      </td><td>CDX                                    </td><td>4                                      </td><td>3                                      </td><td>3;0;0;0;0;0;0;0;0;0;0;0;0;1;0;0;0;0;0;0</td><td>3;0;0;0;0;0;0;0;0;0;0;0;0;0;0;0;0;0;0;0</td><td>1443                                   </td><td>332                                    </td><td>8                                      </td><td>1                                      </td><td>SCYL3                                  </td><td>0.07891916                             </td></tr>\n",
       "\t<tr><td>ENSG00000000457.13_3                   </td><td>1                                      </td><td>CEU                                    </td><td>3                                      </td><td>4                                      </td><td>1;0;1;0;0;0;0;0;0;0;0;1;0;0;0;0;0;0;0;0</td><td>2;0;1;0;0;1;0;0;0;0;0;0;0;0;0;0;0;0;0;0</td><td>1443                                   </td><td>332                                    </td><td>8                                      </td><td>1                                      </td><td>SCYL3                                  </td><td>0.07891916                             </td></tr>\n",
       "\t<tr><td>ENSG00000000457.13_3                   </td><td>1                                      </td><td>CHB                                    </td><td>3                                      </td><td>3                                      </td><td>2;0;0;0;0;0;0;0;0;0;0;0;0;1;0;0;0;0;0;0</td><td>3;0;0;0;0;0;0;0;0;0;0;0;0;0;0;0;0;0;0;0</td><td>1443                                   </td><td>332                                    </td><td>8                                      </td><td>1                                      </td><td>SCYL3                                  </td><td>0.07891916                             </td></tr>\n",
       "</tbody>\n",
       "</table>\n"
      ],
      "text/latex": [
       "\\begin{tabular}{r|lllllllllllll}\n",
       " id & chr & pop & pi & p0 & daf0f & daf4f & mi & m0 & di & d0 & name & recomb\\\\\n",
       "\\hline\n",
       "\t ENSG00000000457.13\\_3                  & 1                                       & ACB                                     & 3                                       & 6                                       & 1;0;1;0;0;0;0;0;0;0;0;0;0;0;1;0;0;0;0;0 & 4;1;1;0;0;0;0;0;0;0;0;0;0;0;0;0;0;0;0;0 & 1443                                    & 332                                     & 8                                       & 1                                       & SCYL3                                   & 0.07891916                             \\\\\n",
       "\t ENSG00000000457.13\\_3                  & 1                                       & ASW                                     & 3                                       & 5                                       & 1;0;1;0;0;0;0;0;0;0;0;0;0;1;0;0;0;0;0;0 & 4;0;0;1;0;0;0;0;0;0;0;0;0;0;0;0;0;0;0;0 & 1443                                    & 332                                     & 8                                       & 1                                       & SCYL3                                   & 0.07891916                             \\\\\n",
       "\t ENSG00000000457.13\\_3                  & 1                                       & BEB                                     & 5                                       & 4                                       & 4;0;0;0;0;0;0;0;0;0;0;0;0;0;0;1;0;0;0;0 & 3;1;0;0;0;0;0;0;0;0;0;0;0;0;0;0;0;0;0;0 & 1443                                    & 332                                     & 8                                       & 1                                       & SCYL3                                   & 0.07891916                             \\\\\n",
       "\t ENSG00000000457.13\\_3                  & 1                                       & CDX                                     & 4                                       & 3                                       & 3;0;0;0;0;0;0;0;0;0;0;0;0;1;0;0;0;0;0;0 & 3;0;0;0;0;0;0;0;0;0;0;0;0;0;0;0;0;0;0;0 & 1443                                    & 332                                     & 8                                       & 1                                       & SCYL3                                   & 0.07891916                             \\\\\n",
       "\t ENSG00000000457.13\\_3                  & 1                                       & CEU                                     & 3                                       & 4                                       & 1;0;1;0;0;0;0;0;0;0;0;1;0;0;0;0;0;0;0;0 & 2;0;1;0;0;1;0;0;0;0;0;0;0;0;0;0;0;0;0;0 & 1443                                    & 332                                     & 8                                       & 1                                       & SCYL3                                   & 0.07891916                             \\\\\n",
       "\t ENSG00000000457.13\\_3                  & 1                                       & CHB                                     & 3                                       & 3                                       & 2;0;0;0;0;0;0;0;0;0;0;0;0;1;0;0;0;0;0;0 & 3;0;0;0;0;0;0;0;0;0;0;0;0;0;0;0;0;0;0;0 & 1443                                    & 332                                     & 8                                       & 1                                       & SCYL3                                   & 0.07891916                             \\\\\n",
       "\\end{tabular}\n"
      ],
      "text/markdown": [
       "\n",
       "| id | chr | pop | pi | p0 | daf0f | daf4f | mi | m0 | di | d0 | name | recomb |\n",
       "|---|---|---|---|---|---|---|---|---|---|---|---|---|\n",
       "| ENSG00000000457.13_3                    | 1                                       | ACB                                     | 3                                       | 6                                       | 1;0;1;0;0;0;0;0;0;0;0;0;0;0;1;0;0;0;0;0 | 4;1;1;0;0;0;0;0;0;0;0;0;0;0;0;0;0;0;0;0 | 1443                                    | 332                                     | 8                                       | 1                                       | SCYL3                                   | 0.07891916                              |\n",
       "| ENSG00000000457.13_3                    | 1                                       | ASW                                     | 3                                       | 5                                       | 1;0;1;0;0;0;0;0;0;0;0;0;0;1;0;0;0;0;0;0 | 4;0;0;1;0;0;0;0;0;0;0;0;0;0;0;0;0;0;0;0 | 1443                                    | 332                                     | 8                                       | 1                                       | SCYL3                                   | 0.07891916                              |\n",
       "| ENSG00000000457.13_3                    | 1                                       | BEB                                     | 5                                       | 4                                       | 4;0;0;0;0;0;0;0;0;0;0;0;0;0;0;1;0;0;0;0 | 3;1;0;0;0;0;0;0;0;0;0;0;0;0;0;0;0;0;0;0 | 1443                                    | 332                                     | 8                                       | 1                                       | SCYL3                                   | 0.07891916                              |\n",
       "| ENSG00000000457.13_3                    | 1                                       | CDX                                     | 4                                       | 3                                       | 3;0;0;0;0;0;0;0;0;0;0;0;0;1;0;0;0;0;0;0 | 3;0;0;0;0;0;0;0;0;0;0;0;0;0;0;0;0;0;0;0 | 1443                                    | 332                                     | 8                                       | 1                                       | SCYL3                                   | 0.07891916                              |\n",
       "| ENSG00000000457.13_3                    | 1                                       | CEU                                     | 3                                       | 4                                       | 1;0;1;0;0;0;0;0;0;0;0;1;0;0;0;0;0;0;0;0 | 2;0;1;0;0;1;0;0;0;0;0;0;0;0;0;0;0;0;0;0 | 1443                                    | 332                                     | 8                                       | 1                                       | SCYL3                                   | 0.07891916                              |\n",
       "| ENSG00000000457.13_3                    | 1                                       | CHB                                     | 3                                       | 3                                       | 2;0;0;0;0;0;0;0;0;0;0;0;0;1;0;0;0;0;0;0 | 3;0;0;0;0;0;0;0;0;0;0;0;0;0;0;0;0;0;0;0 | 1443                                    | 332                                     | 8                                       | 1                                       | SCYL3                                   | 0.07891916                              |\n",
       "\n"
      ],
      "text/plain": [
       "  id                   chr pop pi p0 daf0f                                  \n",
       "1 ENSG00000000457.13_3 1   ACB 3  6  1;0;1;0;0;0;0;0;0;0;0;0;0;0;1;0;0;0;0;0\n",
       "2 ENSG00000000457.13_3 1   ASW 3  5  1;0;1;0;0;0;0;0;0;0;0;0;0;1;0;0;0;0;0;0\n",
       "3 ENSG00000000457.13_3 1   BEB 5  4  4;0;0;0;0;0;0;0;0;0;0;0;0;0;0;1;0;0;0;0\n",
       "4 ENSG00000000457.13_3 1   CDX 4  3  3;0;0;0;0;0;0;0;0;0;0;0;0;1;0;0;0;0;0;0\n",
       "5 ENSG00000000457.13_3 1   CEU 3  4  1;0;1;0;0;0;0;0;0;0;0;1;0;0;0;0;0;0;0;0\n",
       "6 ENSG00000000457.13_3 1   CHB 3  3  2;0;0;0;0;0;0;0;0;0;0;0;0;1;0;0;0;0;0;0\n",
       "  daf4f                                   mi   m0  di d0 name  recomb    \n",
       "1 4;1;1;0;0;0;0;0;0;0;0;0;0;0;0;0;0;0;0;0 1443 332 8  1  SCYL3 0.07891916\n",
       "2 4;0;0;1;0;0;0;0;0;0;0;0;0;0;0;0;0;0;0;0 1443 332 8  1  SCYL3 0.07891916\n",
       "3 3;1;0;0;0;0;0;0;0;0;0;0;0;0;0;0;0;0;0;0 1443 332 8  1  SCYL3 0.07891916\n",
       "4 3;0;0;0;0;0;0;0;0;0;0;0;0;0;0;0;0;0;0;0 1443 332 8  1  SCYL3 0.07891916\n",
       "5 2;0;1;0;0;1;0;0;0;0;0;0;0;0;0;0;0;0;0;0 1443 332 8  1  SCYL3 0.07891916\n",
       "6 3;0;0;0;0;0;0;0;0;0;0;0;0;0;0;0;0;0;0;0 1443 332 8  1  SCYL3 0.07891916"
      ]
     },
     "metadata": {},
     "output_type": "display_data"
    }
   ],
   "source": [
    "humanDataset <- fread('/home/jmurga/mktComparison/results/humanData.tab');humanDataset%>%head"
   ]
  },
  {
   "cell_type": "code",
   "execution_count": 10,
   "metadata": {
    "ExecuteTime": {
     "end_time": "2019-03-08T17:29:54.493786Z",
     "start_time": "2019-03-08T17:33:17.427Z"
    },
    "hidden": true
   },
   "outputs": [
    {
     "data": {
      "text/html": [
       "<ol class=list-inline>\n",
       "\t<li>'ENSG00000000457.13_3'</li>\n",
       "\t<li>'ENSG00000000460.16_4'</li>\n",
       "\t<li>'ENSG00000000938.12_3'</li>\n",
       "\t<li>'ENSG00000000971.15_3'</li>\n",
       "\t<li>'ENSG00000001460.17_3'</li>\n",
       "\t<li>'ENSG00000001461.16_3'</li>\n",
       "</ol>\n"
      ],
      "text/latex": [
       "\\begin{enumerate*}\n",
       "\\item 'ENSG00000000457.13\\_3'\n",
       "\\item 'ENSG00000000460.16\\_4'\n",
       "\\item 'ENSG00000000938.12\\_3'\n",
       "\\item 'ENSG00000000971.15\\_3'\n",
       "\\item 'ENSG00000001460.17\\_3'\n",
       "\\item 'ENSG00000001461.16\\_3'\n",
       "\\end{enumerate*}\n"
      ],
      "text/markdown": [
       "1. 'ENSG00000000457.13_3'\n",
       "2. 'ENSG00000000460.16_4'\n",
       "3. 'ENSG00000000938.12_3'\n",
       "4. 'ENSG00000000971.15_3'\n",
       "5. 'ENSG00000001460.17_3'\n",
       "6. 'ENSG00000001461.16_3'\n",
       "\n",
       "\n"
      ],
      "text/plain": [
       "[1] \"ENSG00000000457.13_3\" \"ENSG00000000460.16_4\" \"ENSG00000000938.12_3\"\n",
       "[4] \"ENSG00000000971.15_3\" \"ENSG00000001460.17_3\" \"ENSG00000001461.16_3\""
      ]
     },
     "metadata": {},
     "output_type": "display_data"
    }
   ],
   "source": [
    "humanGeneList <- unique(humanDataset[['id']]);humanGeneList %>% head"
   ]
  },
  {
   "cell_type": "markdown",
   "metadata": {
    "hidden": true
   },
   "source": [
    "### CEU"
   ]
  },
  {
   "cell_type": "code",
   "execution_count": 11,
   "metadata": {
    "ExecuteTime": {
     "end_time": "2019-03-08T14:31:44.905075Z",
     "start_time": "2019-03-08T14:35:21.573Z"
    },
    "hidden": true
   },
   "outputs": [
    {
     "data": {
      "text/html": [
       "<table>\n",
       "<thead><tr><th scope=col>id</th><th scope=col>chr</th><th scope=col>pop</th><th scope=col>pi</th><th scope=col>p0</th><th scope=col>daf0f</th><th scope=col>daf4f</th><th scope=col>mi</th><th scope=col>m0</th><th scope=col>di</th><th scope=col>d0</th><th scope=col>name</th><th scope=col>recomb</th></tr></thead>\n",
       "<tbody>\n",
       "\t<tr><td>ENSG00000000457.13_3                   </td><td>1                                      </td><td>CEU                                    </td><td>3                                      </td><td>4                                      </td><td>1;0;1;0;0;0;0;0;0;0;0;1;0;0;0;0;0;0;0;0</td><td>2;0;1;0;0;1;0;0;0;0;0;0;0;0;0;0;0;0;0;0</td><td>1443                                   </td><td>332                                    </td><td> 8                                     </td><td> 1                                     </td><td>SCYL3                                  </td><td>0.07891916                             </td></tr>\n",
       "\t<tr><td>ENSG00000000460.16_4                   </td><td>1                                      </td><td>CEU                                    </td><td>4                                      </td><td>2                                      </td><td>3;0;1;0;0;0;0;0;0;0;0;0;0;0;0;0;0;0;0;0</td><td>1;1;0;0;0;0;0;0;0;0;0;0;0;0;0;0;0;0;0;0</td><td>1664                                   </td><td>350                                    </td><td> 5                                     </td><td> 7                                     </td><td>C1orf112                               </td><td>0.56232538                             </td></tr>\n",
       "\t<tr><td>ENSG00000000938.12_3                   </td><td>1                                      </td><td>CEU                                    </td><td>1                                      </td><td>2                                      </td><td>1;0;0;0;0;0;0;0;0;0;0;0;0;0;0;0;0;0;0;0</td><td>2;0;0;0;0;0;0;0;0;0;0;0;0;0;0;0;0;0;0;0</td><td>1025                                   </td><td>249                                    </td><td> 2                                     </td><td> 4                                     </td><td>FGR                                    </td><td>1.93538579                             </td></tr>\n",
       "\t<tr><td>ENSG00000000971.15_3                   </td><td>1                                      </td><td>CEU                                    </td><td>5                                      </td><td>2                                      </td><td>2;0;0;1;0;0;0;1;0;0;0;0;0;0;0;1;0;0;0;0</td><td>0;0;0;0;0;0;0;0;0;0;0;0;2;0;0;0;0;0;0;0</td><td>2460                                   </td><td>490                                    </td><td>30                                     </td><td>14                                     </td><td>CFH                                    </td><td>0.25803409                             </td></tr>\n",
       "\t<tr><td>ENSG00000001460.17_3                   </td><td>1                                      </td><td>CEU                                    </td><td>5                                      </td><td>0                                      </td><td>2;0;1;0;0;1;1;0;0;0;0;0;0;0;0;0;0;0;0;0</td><td>0;0;0;0;0;0;0;0;0;0;0;0;0;0;0;0;0;0;0;0</td><td> 679                                   </td><td>153                                    </td><td> 2                                     </td><td> 3                                     </td><td>STPG1                                  </td><td>0.41583139                             </td></tr>\n",
       "\t<tr><td>ENSG00000001461.16_3                   </td><td>1                                      </td><td>CEU                                    </td><td>2                                      </td><td>2                                      </td><td>2;0;0;0;0;0;0;0;0;0;0;0;0;0;0;0;0;0;0;0</td><td>1;0;0;0;0;1;0;0;0;0;0;0;0;0;0;0;0;0;0;0</td><td> 788                                   </td><td>199                                    </td><td> 2                                     </td><td> 5                                     </td><td>NIPAL3                                 </td><td>0.64130688                             </td></tr>\n",
       "</tbody>\n",
       "</table>\n"
      ],
      "text/latex": [
       "\\begin{tabular}{r|lllllllllllll}\n",
       " id & chr & pop & pi & p0 & daf0f & daf4f & mi & m0 & di & d0 & name & recomb\\\\\n",
       "\\hline\n",
       "\t ENSG00000000457.13\\_3                  & 1                                       & CEU                                     & 3                                       & 4                                       & 1;0;1;0;0;0;0;0;0;0;0;1;0;0;0;0;0;0;0;0 & 2;0;1;0;0;1;0;0;0;0;0;0;0;0;0;0;0;0;0;0 & 1443                                    & 332                                     &  8                                      &  1                                      & SCYL3                                   & 0.07891916                             \\\\\n",
       "\t ENSG00000000460.16\\_4                  & 1                                       & CEU                                     & 4                                       & 2                                       & 3;0;1;0;0;0;0;0;0;0;0;0;0;0;0;0;0;0;0;0 & 1;1;0;0;0;0;0;0;0;0;0;0;0;0;0;0;0;0;0;0 & 1664                                    & 350                                     &  5                                      &  7                                      & C1orf112                                & 0.56232538                             \\\\\n",
       "\t ENSG00000000938.12\\_3                  & 1                                       & CEU                                     & 1                                       & 2                                       & 1;0;0;0;0;0;0;0;0;0;0;0;0;0;0;0;0;0;0;0 & 2;0;0;0;0;0;0;0;0;0;0;0;0;0;0;0;0;0;0;0 & 1025                                    & 249                                     &  2                                      &  4                                      & FGR                                     & 1.93538579                             \\\\\n",
       "\t ENSG00000000971.15\\_3                  & 1                                       & CEU                                     & 5                                       & 2                                       & 2;0;0;1;0;0;0;1;0;0;0;0;0;0;0;1;0;0;0;0 & 0;0;0;0;0;0;0;0;0;0;0;0;2;0;0;0;0;0;0;0 & 2460                                    & 490                                     & 30                                      & 14                                      & CFH                                     & 0.25803409                             \\\\\n",
       "\t ENSG00000001460.17\\_3                  & 1                                       & CEU                                     & 5                                       & 0                                       & 2;0;1;0;0;1;1;0;0;0;0;0;0;0;0;0;0;0;0;0 & 0;0;0;0;0;0;0;0;0;0;0;0;0;0;0;0;0;0;0;0 &  679                                    & 153                                     &  2                                      &  3                                      & STPG1                                   & 0.41583139                             \\\\\n",
       "\t ENSG00000001461.16\\_3                  & 1                                       & CEU                                     & 2                                       & 2                                       & 2;0;0;0;0;0;0;0;0;0;0;0;0;0;0;0;0;0;0;0 & 1;0;0;0;0;1;0;0;0;0;0;0;0;0;0;0;0;0;0;0 &  788                                    & 199                                     &  2                                      &  5                                      & NIPAL3                                  & 0.64130688                             \\\\\n",
       "\\end{tabular}\n"
      ],
      "text/markdown": [
       "\n",
       "| id | chr | pop | pi | p0 | daf0f | daf4f | mi | m0 | di | d0 | name | recomb |\n",
       "|---|---|---|---|---|---|---|---|---|---|---|---|---|\n",
       "| ENSG00000000457.13_3                    | 1                                       | CEU                                     | 3                                       | 4                                       | 1;0;1;0;0;0;0;0;0;0;0;1;0;0;0;0;0;0;0;0 | 2;0;1;0;0;1;0;0;0;0;0;0;0;0;0;0;0;0;0;0 | 1443                                    | 332                                     |  8                                      |  1                                      | SCYL3                                   | 0.07891916                              |\n",
       "| ENSG00000000460.16_4                    | 1                                       | CEU                                     | 4                                       | 2                                       | 3;0;1;0;0;0;0;0;0;0;0;0;0;0;0;0;0;0;0;0 | 1;1;0;0;0;0;0;0;0;0;0;0;0;0;0;0;0;0;0;0 | 1664                                    | 350                                     |  5                                      |  7                                      | C1orf112                                | 0.56232538                              |\n",
       "| ENSG00000000938.12_3                    | 1                                       | CEU                                     | 1                                       | 2                                       | 1;0;0;0;0;0;0;0;0;0;0;0;0;0;0;0;0;0;0;0 | 2;0;0;0;0;0;0;0;0;0;0;0;0;0;0;0;0;0;0;0 | 1025                                    | 249                                     |  2                                      |  4                                      | FGR                                     | 1.93538579                              |\n",
       "| ENSG00000000971.15_3                    | 1                                       | CEU                                     | 5                                       | 2                                       | 2;0;0;1;0;0;0;1;0;0;0;0;0;0;0;1;0;0;0;0 | 0;0;0;0;0;0;0;0;0;0;0;0;2;0;0;0;0;0;0;0 | 2460                                    | 490                                     | 30                                      | 14                                      | CFH                                     | 0.25803409                              |\n",
       "| ENSG00000001460.17_3                    | 1                                       | CEU                                     | 5                                       | 0                                       | 2;0;1;0;0;1;1;0;0;0;0;0;0;0;0;0;0;0;0;0 | 0;0;0;0;0;0;0;0;0;0;0;0;0;0;0;0;0;0;0;0 |  679                                    | 153                                     |  2                                      |  3                                      | STPG1                                   | 0.41583139                              |\n",
       "| ENSG00000001461.16_3                    | 1                                       | CEU                                     | 2                                       | 2                                       | 2;0;0;0;0;0;0;0;0;0;0;0;0;0;0;0;0;0;0;0 | 1;0;0;0;0;1;0;0;0;0;0;0;0;0;0;0;0;0;0;0 |  788                                    | 199                                     |  2                                      |  5                                      | NIPAL3                                  | 0.64130688                              |\n",
       "\n"
      ],
      "text/plain": [
       "  id                   chr pop pi p0 daf0f                                  \n",
       "1 ENSG00000000457.13_3 1   CEU 3  4  1;0;1;0;0;0;0;0;0;0;0;1;0;0;0;0;0;0;0;0\n",
       "2 ENSG00000000460.16_4 1   CEU 4  2  3;0;1;0;0;0;0;0;0;0;0;0;0;0;0;0;0;0;0;0\n",
       "3 ENSG00000000938.12_3 1   CEU 1  2  1;0;0;0;0;0;0;0;0;0;0;0;0;0;0;0;0;0;0;0\n",
       "4 ENSG00000000971.15_3 1   CEU 5  2  2;0;0;1;0;0;0;1;0;0;0;0;0;0;0;1;0;0;0;0\n",
       "5 ENSG00000001460.17_3 1   CEU 5  0  2;0;1;0;0;1;1;0;0;0;0;0;0;0;0;0;0;0;0;0\n",
       "6 ENSG00000001461.16_3 1   CEU 2  2  2;0;0;0;0;0;0;0;0;0;0;0;0;0;0;0;0;0;0;0\n",
       "  daf4f                                   mi   m0  di d0 name     recomb    \n",
       "1 2;0;1;0;0;1;0;0;0;0;0;0;0;0;0;0;0;0;0;0 1443 332  8  1 SCYL3    0.07891916\n",
       "2 1;1;0;0;0;0;0;0;0;0;0;0;0;0;0;0;0;0;0;0 1664 350  5  7 C1orf112 0.56232538\n",
       "3 2;0;0;0;0;0;0;0;0;0;0;0;0;0;0;0;0;0;0;0 1025 249  2  4 FGR      1.93538579\n",
       "4 0;0;0;0;0;0;0;0;0;0;0;0;2;0;0;0;0;0;0;0 2460 490 30 14 CFH      0.25803409\n",
       "5 0;0;0;0;0;0;0;0;0;0;0;0;0;0;0;0;0;0;0;0  679 153  2  3 STPG1    0.41583139\n",
       "6 1;0;0;0;0;1;0;0;0;0;0;0;0;0;0;0;0;0;0;0  788 199  2  5 NIPAL3   0.64130688"
      ]
     },
     "metadata": {},
     "output_type": "display_data"
    }
   ],
   "source": [
    "ceu <- humanDataset[pop=='CEU'];ceu %>% head"
   ]
  },
  {
   "cell_type": "markdown",
   "metadata": {
    "hidden": true
   },
   "source": [
    "#### Standard MKT"
   ]
  },
  {
   "cell_type": "code",
   "execution_count": null,
   "metadata": {
    "hidden": true
   },
   "outputs": [],
   "source": [
    "standardCEU <- mktByGene(data=ceu,geneList =humanGeneList,test = 'standardMKT', population = 'CEU')"
   ]
  },
  {
   "cell_type": "markdown",
   "metadata": {
    "hidden": true
   },
   "source": [
    "#### FWW method"
   ]
  },
  {
   "cell_type": "code",
   "execution_count": null,
   "metadata": {
    "hidden": true
   },
   "outputs": [],
   "source": [
    "FWWCEU0.05 <- mktByGene(data=ceu,geneList =humanGeneList,test = 'FWW', cutoff= 0.05, population = 'CEU')"
   ]
  },
  {
   "cell_type": "code",
   "execution_count": null,
   "metadata": {
    "hidden": true
   },
   "outputs": [],
   "source": [
    "FWWCEU0.1 <- mktByGene(data=ceu,geneList =humanGeneList,test = 'FWW', cutoff= 0.1, population = 'CEU')"
   ]
  },
  {
   "cell_type": "markdown",
   "metadata": {
    "hidden": true
   },
   "source": [
    "#### imputationMKT"
   ]
  },
  {
   "cell_type": "code",
   "execution_count": null,
   "metadata": {
    "hidden": true
   },
   "outputs": [],
   "source": [
    "eMKTCEU0.05 <- mktByGene(data=ceu,geneList =humanGeneList,test = 'eMKT', cutoff= 0.05, population = 'CEU')"
   ]
  },
  {
   "cell_type": "code",
   "execution_count": null,
   "metadata": {
    "hidden": true
   },
   "outputs": [],
   "source": [
    "eMKTCEU0.1 <- mktByGene(data=ceu,geneList =humanGeneList,test = 'eMKT', cutoff= 0.1, population = 'CEU')"
   ]
  },
  {
   "cell_type": "markdown",
   "metadata": {
    "hidden": true
   },
   "source": [
    "#### aMKT"
   ]
  },
  {
   "cell_type": "code",
   "execution_count": null,
   "metadata": {
    "hidden": true
   },
   "outputs": [],
   "source": [
    "aMKTCEU <- mktByGene(data=ceu,geneList =humanGeneList,test = 'aMKT', population = 'CEU')"
   ]
  },
  {
   "cell_type": "markdown",
   "metadata": {
    "hidden": true
   },
   "source": [
    "#### Custom aMKT"
   ]
  },
  {
   "cell_type": "code",
   "execution_count": null,
   "metadata": {
    "hidden": true
   },
   "outputs": [],
   "source": [
    "caMKTCEU <- mktByGene(data=ceu,geneList =humanGeneList,test = 'caMKT', population = 'CEU')"
   ]
  },
  {
   "cell_type": "markdown",
   "metadata": {
    "hidden": true
   },
   "source": [
    "#### Save results"
   ]
  },
  {
   "cell_type": "code",
   "execution_count": null,
   "metadata": {
    "hidden": true
   },
   "outputs": [],
   "source": [
    "save(standardCEU,file='/home/jmurga/mktComparison/results/alphaTables/standardCEU.RData')\n",
    "save(FWWCEU0.05,file='/home/jmurga/mktComparison/results/alphaTables/FWWCEU0.05.RData')\n",
    "save(FWWCEU0.1,file='/home/jmurga/mktComparison/results/alphaTables/FWWCEU0.1.RData')\n",
    "save(eMKTCEU0.05,file='/home/jmurga/mktComparison/results/alphaTables/eMKTCEU0.05.RData')\n",
    "save(eMKTCEU0.1,file='/home/jmurga/mktComparison/results/alphaTables/eMKTCEU0.1.RData')\n",
    "save(aMKTCEU,file='/home/jmurga/mktComparison/results/alphaTables/aMKTCEU.RData')\n",
    "save(caMKTCEU,file='/home/jmurga/mktComparison/results/alphaTables/caMKTCEU.RData')"
   ]
  },
  {
   "cell_type": "markdown",
   "metadata": {
    "hidden": true
   },
   "source": [
    "### YRI"
   ]
  },
  {
   "cell_type": "code",
   "execution_count": 12,
   "metadata": {
    "ExecuteTime": {
     "end_time": "2019-03-08T14:31:44.905075Z",
     "start_time": "2019-03-08T14:35:21.573Z"
    },
    "hidden": true
   },
   "outputs": [
    {
     "data": {
      "text/html": [
       "<table>\n",
       "<thead><tr><th scope=col>id</th><th scope=col>chr</th><th scope=col>pop</th><th scope=col>pi</th><th scope=col>p0</th><th scope=col>daf0f</th><th scope=col>daf4f</th><th scope=col>mi</th><th scope=col>m0</th><th scope=col>di</th><th scope=col>d0</th><th scope=col>name</th><th scope=col>recomb</th></tr></thead>\n",
       "<tbody>\n",
       "\t<tr><td>ENSG00000000457.13_3                   </td><td>1                                      </td><td>YRI                                    </td><td> 5                                     </td><td>6                                      </td><td>3;0;1;0;0;0;0;0;0;0;0;0;0;0;1;0;0;0;0;0</td><td>4;2;0;0;0;0;0;0;0;0;0;0;0;0;0;0;0;0;0;0</td><td>1443                                   </td><td>332                                    </td><td> 8                                     </td><td> 1                                     </td><td>SCYL3                                  </td><td>0.07891916                             </td></tr>\n",
       "\t<tr><td>ENSG00000000460.16_4                   </td><td>1                                      </td><td>YRI                                    </td><td> 5                                     </td><td>2                                      </td><td>5;0;0;0;0;0;0;0;0;0;0;0;0;0;0;0;0;0;0;0</td><td>1;1;0;0;0;0;0;0;0;0;0;0;0;0;0;0;0;0;0;0</td><td>1664                                   </td><td>350                                    </td><td> 5                                     </td><td> 7                                     </td><td>C1orf112                               </td><td>0.56232538                             </td></tr>\n",
       "\t<tr><td>ENSG00000000938.12_3                   </td><td>1                                      </td><td>YRI                                    </td><td> 0                                     </td><td>2                                      </td><td>0;0;0;0;0;0;0;0;0;0;0;0;0;0;0;0;0;0;0;0</td><td>2;0;0;0;0;0;0;0;0;0;0;0;0;0;0;0;0;0;0;0</td><td>1025                                   </td><td>249                                    </td><td> 2                                     </td><td> 4                                     </td><td>FGR                                    </td><td>1.93538579                             </td></tr>\n",
       "\t<tr><td>ENSG00000000971.15_3                   </td><td>1                                      </td><td>YRI                                    </td><td>14                                     </td><td>2                                      </td><td>6;1;2;2;1;1;0;0;0;0;0;0;0;0;1;0;0;0;0;0</td><td>0;0;0;0;0;0;0;0;1;0;0;0;1;0;0;0;0;0;0;0</td><td>2460                                   </td><td>490                                    </td><td>30                                     </td><td>14                                     </td><td>CFH                                    </td><td>0.25803409                             </td></tr>\n",
       "\t<tr><td>ENSG00000001460.17_3                   </td><td>1                                      </td><td>YRI                                    </td><td> 5                                     </td><td>1                                      </td><td>2;0;0;1;1;0;0;0;1;0;0;0;0;0;0;0;0;0;0;0</td><td>0;1;0;0;0;0;0;0;0;0;0;0;0;0;0;0;0;0;0;0</td><td> 679                                   </td><td>153                                    </td><td> 2                                     </td><td> 3                                     </td><td>STPG1                                  </td><td>0.41583139                             </td></tr>\n",
       "\t<tr><td>ENSG00000001461.16_3                   </td><td>1                                      </td><td>YRI                                    </td><td> 1                                     </td><td>2                                      </td><td>1;0;0;0;0;0;0;0;0;0;0;0;0;0;0;0;0;0;0;0</td><td>1;0;0;1;0;0;0;0;0;0;0;0;0;0;0;0;0;0;0;0</td><td> 788                                   </td><td>199                                    </td><td> 2                                     </td><td> 5                                     </td><td>NIPAL3                                 </td><td>0.64130688                             </td></tr>\n",
       "</tbody>\n",
       "</table>\n"
      ],
      "text/latex": [
       "\\begin{tabular}{r|lllllllllllll}\n",
       " id & chr & pop & pi & p0 & daf0f & daf4f & mi & m0 & di & d0 & name & recomb\\\\\n",
       "\\hline\n",
       "\t ENSG00000000457.13\\_3                  & 1                                       & YRI                                     &  5                                      & 6                                       & 3;0;1;0;0;0;0;0;0;0;0;0;0;0;1;0;0;0;0;0 & 4;2;0;0;0;0;0;0;0;0;0;0;0;0;0;0;0;0;0;0 & 1443                                    & 332                                     &  8                                      &  1                                      & SCYL3                                   & 0.07891916                             \\\\\n",
       "\t ENSG00000000460.16\\_4                  & 1                                       & YRI                                     &  5                                      & 2                                       & 5;0;0;0;0;0;0;0;0;0;0;0;0;0;0;0;0;0;0;0 & 1;1;0;0;0;0;0;0;0;0;0;0;0;0;0;0;0;0;0;0 & 1664                                    & 350                                     &  5                                      &  7                                      & C1orf112                                & 0.56232538                             \\\\\n",
       "\t ENSG00000000938.12\\_3                  & 1                                       & YRI                                     &  0                                      & 2                                       & 0;0;0;0;0;0;0;0;0;0;0;0;0;0;0;0;0;0;0;0 & 2;0;0;0;0;0;0;0;0;0;0;0;0;0;0;0;0;0;0;0 & 1025                                    & 249                                     &  2                                      &  4                                      & FGR                                     & 1.93538579                             \\\\\n",
       "\t ENSG00000000971.15\\_3                  & 1                                       & YRI                                     & 14                                      & 2                                       & 6;1;2;2;1;1;0;0;0;0;0;0;0;0;1;0;0;0;0;0 & 0;0;0;0;0;0;0;0;1;0;0;0;1;0;0;0;0;0;0;0 & 2460                                    & 490                                     & 30                                      & 14                                      & CFH                                     & 0.25803409                             \\\\\n",
       "\t ENSG00000001460.17\\_3                  & 1                                       & YRI                                     &  5                                      & 1                                       & 2;0;0;1;1;0;0;0;1;0;0;0;0;0;0;0;0;0;0;0 & 0;1;0;0;0;0;0;0;0;0;0;0;0;0;0;0;0;0;0;0 &  679                                    & 153                                     &  2                                      &  3                                      & STPG1                                   & 0.41583139                             \\\\\n",
       "\t ENSG00000001461.16\\_3                  & 1                                       & YRI                                     &  1                                      & 2                                       & 1;0;0;0;0;0;0;0;0;0;0;0;0;0;0;0;0;0;0;0 & 1;0;0;1;0;0;0;0;0;0;0;0;0;0;0;0;0;0;0;0 &  788                                    & 199                                     &  2                                      &  5                                      & NIPAL3                                  & 0.64130688                             \\\\\n",
       "\\end{tabular}\n"
      ],
      "text/markdown": [
       "\n",
       "| id | chr | pop | pi | p0 | daf0f | daf4f | mi | m0 | di | d0 | name | recomb |\n",
       "|---|---|---|---|---|---|---|---|---|---|---|---|---|\n",
       "| ENSG00000000457.13_3                    | 1                                       | YRI                                     |  5                                      | 6                                       | 3;0;1;0;0;0;0;0;0;0;0;0;0;0;1;0;0;0;0;0 | 4;2;0;0;0;0;0;0;0;0;0;0;0;0;0;0;0;0;0;0 | 1443                                    | 332                                     |  8                                      |  1                                      | SCYL3                                   | 0.07891916                              |\n",
       "| ENSG00000000460.16_4                    | 1                                       | YRI                                     |  5                                      | 2                                       | 5;0;0;0;0;0;0;0;0;0;0;0;0;0;0;0;0;0;0;0 | 1;1;0;0;0;0;0;0;0;0;0;0;0;0;0;0;0;0;0;0 | 1664                                    | 350                                     |  5                                      |  7                                      | C1orf112                                | 0.56232538                              |\n",
       "| ENSG00000000938.12_3                    | 1                                       | YRI                                     |  0                                      | 2                                       | 0;0;0;0;0;0;0;0;0;0;0;0;0;0;0;0;0;0;0;0 | 2;0;0;0;0;0;0;0;0;0;0;0;0;0;0;0;0;0;0;0 | 1025                                    | 249                                     |  2                                      |  4                                      | FGR                                     | 1.93538579                              |\n",
       "| ENSG00000000971.15_3                    | 1                                       | YRI                                     | 14                                      | 2                                       | 6;1;2;2;1;1;0;0;0;0;0;0;0;0;1;0;0;0;0;0 | 0;0;0;0;0;0;0;0;1;0;0;0;1;0;0;0;0;0;0;0 | 2460                                    | 490                                     | 30                                      | 14                                      | CFH                                     | 0.25803409                              |\n",
       "| ENSG00000001460.17_3                    | 1                                       | YRI                                     |  5                                      | 1                                       | 2;0;0;1;1;0;0;0;1;0;0;0;0;0;0;0;0;0;0;0 | 0;1;0;0;0;0;0;0;0;0;0;0;0;0;0;0;0;0;0;0 |  679                                    | 153                                     |  2                                      |  3                                      | STPG1                                   | 0.41583139                              |\n",
       "| ENSG00000001461.16_3                    | 1                                       | YRI                                     |  1                                      | 2                                       | 1;0;0;0;0;0;0;0;0;0;0;0;0;0;0;0;0;0;0;0 | 1;0;0;1;0;0;0;0;0;0;0;0;0;0;0;0;0;0;0;0 |  788                                    | 199                                     |  2                                      |  5                                      | NIPAL3                                  | 0.64130688                              |\n",
       "\n"
      ],
      "text/plain": [
       "  id                   chr pop pi p0 daf0f                                  \n",
       "1 ENSG00000000457.13_3 1   YRI  5 6  3;0;1;0;0;0;0;0;0;0;0;0;0;0;1;0;0;0;0;0\n",
       "2 ENSG00000000460.16_4 1   YRI  5 2  5;0;0;0;0;0;0;0;0;0;0;0;0;0;0;0;0;0;0;0\n",
       "3 ENSG00000000938.12_3 1   YRI  0 2  0;0;0;0;0;0;0;0;0;0;0;0;0;0;0;0;0;0;0;0\n",
       "4 ENSG00000000971.15_3 1   YRI 14 2  6;1;2;2;1;1;0;0;0;0;0;0;0;0;1;0;0;0;0;0\n",
       "5 ENSG00000001460.17_3 1   YRI  5 1  2;0;0;1;1;0;0;0;1;0;0;0;0;0;0;0;0;0;0;0\n",
       "6 ENSG00000001461.16_3 1   YRI  1 2  1;0;0;0;0;0;0;0;0;0;0;0;0;0;0;0;0;0;0;0\n",
       "  daf4f                                   mi   m0  di d0 name     recomb    \n",
       "1 4;2;0;0;0;0;0;0;0;0;0;0;0;0;0;0;0;0;0;0 1443 332  8  1 SCYL3    0.07891916\n",
       "2 1;1;0;0;0;0;0;0;0;0;0;0;0;0;0;0;0;0;0;0 1664 350  5  7 C1orf112 0.56232538\n",
       "3 2;0;0;0;0;0;0;0;0;0;0;0;0;0;0;0;0;0;0;0 1025 249  2  4 FGR      1.93538579\n",
       "4 0;0;0;0;0;0;0;0;1;0;0;0;1;0;0;0;0;0;0;0 2460 490 30 14 CFH      0.25803409\n",
       "5 0;1;0;0;0;0;0;0;0;0;0;0;0;0;0;0;0;0;0;0  679 153  2  3 STPG1    0.41583139\n",
       "6 1;0;0;1;0;0;0;0;0;0;0;0;0;0;0;0;0;0;0;0  788 199  2  5 NIPAL3   0.64130688"
      ]
     },
     "metadata": {},
     "output_type": "display_data"
    }
   ],
   "source": [
    "yri <- humanDataset[pop=='YRI'];yri %>% head"
   ]
  },
  {
   "cell_type": "markdown",
   "metadata": {
    "hidden": true
   },
   "source": [
    "#### Standard MKT"
   ]
  },
  {
   "cell_type": "code",
   "execution_count": null,
   "metadata": {
    "hidden": true
   },
   "outputs": [],
   "source": [
    "standardYRI <- mktByGene(data=yri,geneList =humanGeneList,test = 'standardMKT', population = 'YRI')"
   ]
  },
  {
   "cell_type": "markdown",
   "metadata": {
    "hidden": true
   },
   "source": [
    "#### FWW method"
   ]
  },
  {
   "cell_type": "code",
   "execution_count": null,
   "metadata": {
    "hidden": true
   },
   "outputs": [],
   "source": [
    "FWWYRI0.05 <- mktByGene(data=yri,geneList =humanGeneList,test = 'FWW', cutoff= 0.05, population = 'YRI')"
   ]
  },
  {
   "cell_type": "code",
   "execution_count": null,
   "metadata": {
    "hidden": true
   },
   "outputs": [],
   "source": [
    "FWWYRI0.1 <- mktByGene(data=yri,geneList =humanGeneList,test = 'FWW', cutoff= 0.1, population = 'YRI')"
   ]
  },
  {
   "cell_type": "markdown",
   "metadata": {
    "hidden": true
   },
   "source": [
    "#### imputationMKT"
   ]
  },
  {
   "cell_type": "code",
   "execution_count": null,
   "metadata": {
    "hidden": true
   },
   "outputs": [],
   "source": [
    "eMKTYRI0.05 <- mktByGene(data=yri,geneList =humanGeneList,test = 'eMKT', cutoff= 0.05, population = 'YRI')"
   ]
  },
  {
   "cell_type": "code",
   "execution_count": null,
   "metadata": {
    "hidden": true
   },
   "outputs": [],
   "source": [
    "eMKTYRI0.1 <- mktByGene(data=yri,geneList =humanGeneList,test = 'eMKT', cutoff= 0.1, population = 'YRI')"
   ]
  },
  {
   "cell_type": "markdown",
   "metadata": {
    "hidden": true
   },
   "source": [
    "#### aMKT"
   ]
  },
  {
   "cell_type": "code",
   "execution_count": null,
   "metadata": {
    "hidden": true
   },
   "outputs": [],
   "source": [
    "aMKTYRI <- mktByGene(data=yri,geneList =humanGeneList,test = 'aMKT', population = 'YRI')"
   ]
  },
  {
   "cell_type": "markdown",
   "metadata": {
    "hidden": true
   },
   "source": [
    "#### Custom aMKT"
   ]
  },
  {
   "cell_type": "code",
   "execution_count": null,
   "metadata": {
    "hidden": true
   },
   "outputs": [],
   "source": [
    "caMKTYRI <- mktByGene(data=yri,geneList =humanGeneList,test = 'caMKT', population = 'YRI')"
   ]
  },
  {
   "cell_type": "markdown",
   "metadata": {
    "hidden": true
   },
   "source": [
    "#### Save results"
   ]
  },
  {
   "cell_type": "code",
   "execution_count": null,
   "metadata": {
    "hidden": true
   },
   "outputs": [],
   "source": [
    "save(standardYRI,file='/home/jmurga/mktComparison/results/alphaTables/standardYRI.RData')\n",
    "save(FWWYRI0.05,file='/home/jmurga/mktComparison/results/alphaTables/FWWYRI0.05.RData')\n",
    "save(FWWYRI0.1,file='/home/jmurga/mktComparison/results/alphaTables/FWWYRI0.1.RData')\n",
    "save(eMKTYRI0.05,file='/home/jmurga/mktComparison/results/alphaTables/eMKTYRI0.05.RData')\n",
    "save(eMKTYRI0.1,file='/home/jmurga/mktComparison/results/alphaTables/eMKTYRI0.1.RData')\n",
    "save(aMKTYRI,file='/home/jmurga/mktComparison/results/alphaTables/aMKTYRI.RData')\n",
    "save(caMKTYRI,file='/home/jmurga/mktComparison/results/alphaTables/caMKTYRI.RData')"
   ]
  },
  {
   "cell_type": "markdown",
   "metadata": {},
   "source": [
    "## Direction of Selection"
   ]
  },
  {
   "cell_type": "markdown",
   "metadata": {
    "heading_collapsed": true
   },
   "source": [
    "### *D melanogaster*"
   ]
  },
  {
   "cell_type": "code",
   "execution_count": null,
   "metadata": {
    "ExecuteTime": {
     "end_time": "2019-11-15T12:12:01.436296Z",
     "start_time": "2019-11-15T12:12:01.402Z"
    },
    "hidden": true
   },
   "outputs": [],
   "source": [
    "source('/home/jmurga/mktComparison/scripts/src/geneAnalysis.R')"
   ]
  },
  {
   "cell_type": "code",
   "execution_count": null,
   "metadata": {
    "ExecuteTime": {
     "end_time": "2019-11-15T12:12:06.984458Z",
     "start_time": "2019-11-15T12:12:02.232Z"
    },
    "hidden": true
   },
   "outputs": [],
   "source": [
    "dmelDataset <- fread('/home/jmurga/mktComparison/results/dsimDmelData.tab')\n",
    "dmelDataset %>%head"
   ]
  },
  {
   "cell_type": "code",
   "execution_count": null,
   "metadata": {
    "ExecuteTime": {
     "end_time": "2019-11-15T12:12:12.304586Z",
     "start_time": "2019-11-15T12:12:04.169Z"
    },
    "hidden": true
   },
   "outputs": [],
   "source": [
    "dmelGeneList <- unique(dmelDataset[['id']]);dmelGeneList %>% head"
   ]
  },
  {
   "cell_type": "markdown",
   "metadata": {
    "heading_collapsed": true,
    "hidden": true
   },
   "source": [
    "#### RAL"
   ]
  },
  {
   "cell_type": "code",
   "execution_count": null,
   "metadata": {
    "ExecuteTime": {
     "end_time": "2019-11-15T12:12:17.750882Z",
     "start_time": "2019-11-15T12:12:13.722Z"
    },
    "hidden": true
   },
   "outputs": [],
   "source": [
    "ral <- dmelDataset[pop=='RAL']"
   ]
  },
  {
   "cell_type": "code",
   "execution_count": null,
   "metadata": {
    "ExecuteTime": {
     "end_time": "2019-11-15T12:14:06.070632Z",
     "start_time": "2019-11-15T12:12:18.888Z"
    },
    "hidden": true,
    "scrolled": true
   },
   "outputs": [],
   "source": [
    "dosRAL <- dosByGene(data=ral,geneList=dmelGeneList,population='RAL',cutoff=NULL)\n",
    "# dosPiNeutralRAL <- dosByGene(data=ral,geneList=dmelGeneList,population='RAL',cutoff=0.025)"
   ]
  },
  {
   "cell_type": "code",
   "execution_count": null,
   "metadata": {
    "ExecuteTime": {
     "end_time": "2019-11-15T12:15:23.099895Z",
     "start_time": "2019-11-15T12:15:23.029Z"
    },
    "hidden": true
   },
   "outputs": [],
   "source": [
    "save(dosRAL,file='/home/jmurga/mktComparison/results/dosTables/dosRAL.RData')\n",
    "# save(dosPiNeutralRAL,file='/home/jmurga/mktComparison/results/dosTables/dosPiNeutralRAL.RData')"
   ]
  },
  {
   "cell_type": "code",
   "execution_count": null,
   "metadata": {
    "ExecuteTime": {
     "end_time": "2019-11-15T12:15:32.669679Z",
     "start_time": "2019-11-15T12:15:24.535Z"
    },
    "hidden": true,
    "scrolled": true
   },
   "outputs": [],
   "source": [
    "load('/home/jmurga/mktComparison/results/dosTables/dosRAL.RData')\n",
    "ggplot(dosRAL$dos, aes(x=dos)) + \n",
    "    geom_histogram(aes(y=..density..),binwidth = .05,colour=\"black\", fill=\"white\") +\n",
    "    geom_density(alpha=.5,fill='#7398C8') + \n",
    "    themePublication() + \n",
    "    scaleFillPublication() +\n",
    "    labs(x = \"Direction of Selection RAL\", y=expression('Density'))"
   ]
  },
  {
   "cell_type": "markdown",
   "metadata": {
    "hidden": true
   },
   "source": [
    "#### ZI"
   ]
  },
  {
   "cell_type": "code",
   "execution_count": null,
   "metadata": {
    "hidden": true
   },
   "outputs": [],
   "source": [
    "zi <- dmelDataset[pop=='ZI']"
   ]
  },
  {
   "cell_type": "code",
   "execution_count": null,
   "metadata": {
    "hidden": true
   },
   "outputs": [],
   "source": [
    "dosZI <- dosByGene(data=zi,geneList=dmelGeneList,population='ZI',cutoff=NULL)\n",
    "# dosPiNeutralZI <- dosByGene(data=zi,geneList=dmelGeneList,population='ZI',cutoff=0.025)"
   ]
  },
  {
   "cell_type": "code",
   "execution_count": null,
   "metadata": {
    "hidden": true
   },
   "outputs": [],
   "source": [
    "save(dosZI,file='/home/jmurga/mktComparison/results/dosTables/dosZI.RData')\n",
    "# save(dosPiNeutralZI,file='/home/jmurga/mktComparison/results/dosTables/dosPiNeutralZI.RData')"
   ]
  },
  {
   "cell_type": "code",
   "execution_count": null,
   "metadata": {
    "ExecuteTime": {
     "end_time": "2019-11-15T12:16:10.723390Z",
     "start_time": "2019-11-15T12:16:09.975Z"
    },
    "hidden": true
   },
   "outputs": [],
   "source": [
    "load('/home/jmurga/mktComparison/results/dosTables/dosPiNeutralZI.RData')\n",
    "ggplot(dosPiNeutralZI$dos, aes(x=dos)) + \n",
    "    geom_histogram(aes(y=..density..),binwidth = .05,colour=\"black\", fill=\"white\") +\n",
    "    geom_density(alpha=.5,fill='#7398C8') + \n",
    "    themePublication() + \n",
    "    scaleFillPublication() +\n",
    "    labs(x = \"Direction of Selection RAL\", y=expression('Density'))"
   ]
  },
  {
   "cell_type": "markdown",
   "metadata": {
    "heading_collapsed": true
   },
   "source": [
    "### Humans"
   ]
  },
  {
   "cell_type": "code",
   "execution_count": null,
   "metadata": {
    "hidden": true
   },
   "outputs": [],
   "source": [
    "source('/home/jmurga/mktComparison/scripts/src/geneAnalysis.R')"
   ]
  },
  {
   "cell_type": "code",
   "execution_count": null,
   "metadata": {
    "hidden": true
   },
   "outputs": [],
   "source": [
    "humanDataset <- fread('/home/jmurga/mktComparison/results/humanData.tab');humanDataset%>%head"
   ]
  },
  {
   "cell_type": "code",
   "execution_count": null,
   "metadata": {
    "hidden": true
   },
   "outputs": [],
   "source": [
    "humanGeneList <- unique(humanDataset[['id']]);humanGeneList %>% head"
   ]
  },
  {
   "cell_type": "markdown",
   "metadata": {
    "hidden": true
   },
   "source": [
    "#### CEU\n"
   ]
  },
  {
   "cell_type": "code",
   "execution_count": null,
   "metadata": {
    "ExecuteTime": {
     "end_time": "2019-11-15T12:17:05.998694Z",
     "start_time": "2019-11-15T12:17:05.956Z"
    },
    "hidden": true
   },
   "outputs": [],
   "source": [
    "ceu <- humanDataset[pop=='CEU']"
   ]
  },
  {
   "cell_type": "code",
   "execution_count": null,
   "metadata": {
    "hidden": true
   },
   "outputs": [],
   "source": [
    "dosCEU <- dosByGene(data=ceu,geneList=humanGeneList,population='CEU',cutoff=NULL)\n",
    "# dosPiNeutralCEU <- dosByGene(data=ceu,geneList=humanGeneList,population='CEU',cutoff=0.025)"
   ]
  },
  {
   "cell_type": "code",
   "execution_count": null,
   "metadata": {
    "hidden": true
   },
   "outputs": [],
   "source": [
    "save(dosCEU,file='/home/jmurga/mktComparison/results/dosTables/dosCEU.RData')\n",
    "# save(dosPiNeutralCEU,file='/home/jmurga/mktComparison/results/dosTables/dosPiNeutralCEU.RData')"
   ]
  },
  {
   "cell_type": "code",
   "execution_count": null,
   "metadata": {
    "ExecuteTime": {
     "end_time": "2019-11-15T12:22:00.614427Z",
     "start_time": "2019-11-15T12:21:59.794Z"
    },
    "hidden": true
   },
   "outputs": [],
   "source": [
    "load('/home/jmurga/mktComparison/results/dosTables/dosCEU.RData')\n",
    "ggplot(dosCEU$dos, aes(x=dos)) + \n",
    "    geom_histogram(aes(y=..density..),binwidth = .05,colour=\"black\", fill=\"white\") +\n",
    "    geom_density(alpha=.5,fill='#7398C8') + \n",
    "    themePublication() + \n",
    "    scaleFillPublication() +\n",
    "    labs(x = \"Direction of Selection RAL\", y=expression('Density'))"
   ]
  },
  {
   "cell_type": "markdown",
   "metadata": {
    "heading_collapsed": true,
    "hidden": true
   },
   "source": [
    "#### YRI"
   ]
  },
  {
   "cell_type": "code",
   "execution_count": null,
   "metadata": {
    "hidden": true
   },
   "outputs": [],
   "source": [
    "yri <- humanDataset[pop=='YRI']"
   ]
  },
  {
   "cell_type": "code",
   "execution_count": null,
   "metadata": {
    "hidden": true
   },
   "outputs": [],
   "source": [
    "dosYRI <- dosByGene(data=yri,geneList=humanGeneList,population='YRI',cutoff=NULL)\n",
    "# dosPiNeutralYRI <- dosByGene(data=yri,geneList=humanGeneList,population='YRI',cutoff=0.025)"
   ]
  },
  {
   "cell_type": "code",
   "execution_count": null,
   "metadata": {
    "hidden": true
   },
   "outputs": [],
   "source": [
    "save(dosYRI,file='/home/jmurga/mktComparison/results/dosTables/dosYRI.RData')\n",
    "# save(dosPiNeutralYRI,file='/home/jmurga/mktComparison/results/dosTables/dosPiNeutralYRI.RData')"
   ]
  },
  {
   "cell_type": "code",
   "execution_count": null,
   "metadata": {
    "ExecuteTime": {
     "end_time": "2019-11-15T12:22:26.672476Z",
     "start_time": "2019-11-15T12:22:25.780Z"
    },
    "hidden": true
   },
   "outputs": [],
   "source": [
    "load('/home/jmurga/mktComparison/results/dosTables/dosYRI.RData')\n",
    "ggplot(dosYRI$dos, aes(x=dos)) + \n",
    "    geom_histogram(aes(y=..density..),binwidth = .05,colour=\"black\", fill=\"white\") +\n",
    "    geom_density(alpha=.5,fill='#7398C8') + \n",
    "    themePublication() + \n",
    "    scaleFillPublication() +\n",
    "    labs(x = \"Direction of Selection RAL\", y=expression('Density'))"
   ]
  },
  {
   "cell_type": "markdown",
   "metadata": {},
   "source": [
    "## Output alpha tables"
   ]
  },
  {
   "cell_type": "markdown",
   "metadata": {},
   "source": [
    "### Alpha MKT"
   ]
  },
  {
   "cell_type": "code",
   "execution_count": null,
   "metadata": {},
   "outputs": [],
   "source": [
    "lapply(list.files(pattern=\"*RData\",include.dirs=T,full.names=T,path='/home/jmurga/mktComparison/results/alphaTables'),load,.GlobalEnv)\n",
    "alphas <- do.call('rbind', lapply( ls(patt='RAL|ZI|CEU|YRI'),get))[,1]; alphas <- do.call('rbind',alphas) %>% as.data.table"
   ]
  },
  {
   "cell_type": "code",
   "execution_count": null,
   "metadata": {},
   "outputs": [],
   "source": [
    "fwrite(alphas,file='/home/jmurga/mktComparison/results/alphaTables/alphaTableV2.tab',sep='\\t',col.names = T,row.names = F,quote = F)"
   ]
  },
  {
   "cell_type": "markdown",
   "metadata": {
    "heading_collapsed": true
   },
   "source": [
    "### Direction of Selection"
   ]
  },
  {
   "cell_type": "code",
   "execution_count": null,
   "metadata": {
    "hidden": true
   },
   "outputs": [],
   "source": [
    "dos <- lapply(list.files(pattern=\"*RData\",include.dirs=T,full.names=T,path='/home/jmurga/mktComparison/results/dosTables'),load,.GlobalEnv)\n",
    "dos <- do.call('rbind', lapply( ls(patt='RAL|ZI|CEU|YRI'),get))[,2]; dos <- do.call('rbind',dos)"
   ]
  },
  {
   "cell_type": "code",
   "execution_count": null,
   "metadata": {
    "hidden": true
   },
   "outputs": [],
   "source": [
    "fwrite(dos,file='/home/jmurga/mktComparison/results/dosTables/dosTable.tab',sep='\\t',col.names = T,row.names = F,quote = F)"
   ]
  },
  {
   "cell_type": "markdown",
   "metadata": {
    "heading_collapsed": true
   },
   "source": [
    "### Raleigh Venn diagram"
   ]
  },
  {
   "cell_type": "code",
   "execution_count": 13,
   "metadata": {
    "ExecuteTime": {
     "end_time": "2019-04-30T08:14:48.791537Z",
     "start_time": "2019-04-30T08:14:48.756Z"
    },
    "hidden": true
   },
   "outputs": [
    {
     "name": "stderr",
     "output_type": "stream",
     "text": [
      "Loading required package: grid\n",
      "Loading required package: futile.logger\n"
     ]
    }
   ],
   "source": [
    "library('VennDiagram')\n",
    "library('RColorBrewer')\n",
    "myCol <- brewer.pal(3, 'Pastel2')"
   ]
  },
  {
   "cell_type": "markdown",
   "metadata": {
    "hidden": true
   },
   "source": [
    "#### RAL"
   ]
  },
  {
   "cell_type": "code",
   "execution_count": 14,
   "metadata": {
    "ExecuteTime": {
     "end_time": "2019-04-30T08:22:31.069038Z",
     "start_time": "2019-04-30T08:22:31.026Z"
    },
    "hidden": true
   },
   "outputs": [
    {
     "data": {
      "text/html": [
       "<ol>\n",
       "\t<li>'aMKTRAL'</li>\n",
       "\t<li>'caMKTRAL'</li>\n",
       "\t<li>'eMKTRAL0.05'</li>\n",
       "\t<li>'eMKTRAL0.1'</li>\n",
       "\t<li>'FWWRAL0.05'</li>\n",
       "\t<li>'FWWRAL0.1'</li>\n",
       "\t<li>'standardRAL'</li>\n",
       "</ol>\n"
      ],
      "text/latex": [
       "\\begin{enumerate}\n",
       "\\item 'aMKTRAL'\n",
       "\\item 'caMKTRAL'\n",
       "\\item 'eMKTRAL0.05'\n",
       "\\item 'eMKTRAL0.1'\n",
       "\\item 'FWWRAL0.05'\n",
       "\\item 'FWWRAL0.1'\n",
       "\\item 'standardRAL'\n",
       "\\end{enumerate}\n"
      ],
      "text/markdown": [
       "1. 'aMKTRAL'\n",
       "2. 'caMKTRAL'\n",
       "3. 'eMKTRAL0.05'\n",
       "4. 'eMKTRAL0.1'\n",
       "5. 'FWWRAL0.05'\n",
       "6. 'FWWRAL0.1'\n",
       "7. 'standardRAL'\n",
       "\n",
       "\n"
      ],
      "text/plain": [
       "[[1]]\n",
       "[1] \"aMKTRAL\"\n",
       "\n",
       "[[2]]\n",
       "[1] \"caMKTRAL\"\n",
       "\n",
       "[[3]]\n",
       "[1] \"eMKTRAL0.05\"\n",
       "\n",
       "[[4]]\n",
       "[1] \"eMKTRAL0.1\"\n",
       "\n",
       "[[5]]\n",
       "[1] \"FWWRAL0.05\"\n",
       "\n",
       "[[6]]\n",
       "[1] \"FWWRAL0.1\"\n",
       "\n",
       "[[7]]\n",
       "[1] \"standardRAL\"\n"
      ]
     },
     "metadata": {},
     "output_type": "display_data"
    }
   ],
   "source": [
    "lapply(list.files('/home/jmurga/mktComparison/results/alphaTables', pattern=\"RAL\", full.names=TRUE),load,.GlobalEnv)"
   ]
  },
  {
   "cell_type": "code",
   "execution_count": 15,
   "metadata": {},
   "outputs": [
    {
     "data": {
      "text/html": [
       "1"
      ],
      "text/latex": [
       "1"
      ],
      "text/markdown": [
       "1"
      ],
      "text/plain": [
       "[1] 1"
      ]
     },
     "metadata": {},
     "output_type": "display_data"
    }
   ],
   "source": [
    "vennPlot(standardRAL$posSigGenes,FWWRAL0.05$posSigGenes,eMKTRAL0.05$posSigGenes,population='RAL',palette=myCol)"
   ]
  },
  {
   "cell_type": "markdown",
   "metadata": {
    "hidden": true
   },
   "source": [
    "#### ZI"
   ]
  },
  {
   "cell_type": "code",
   "execution_count": 16,
   "metadata": {
    "ExecuteTime": {
     "end_time": "2019-04-30T08:22:31.069038Z",
     "start_time": "2019-04-30T08:22:31.026Z"
    },
    "hidden": true
   },
   "outputs": [
    {
     "data": {
      "text/html": [
       "<ol>\n",
       "\t<li>'aMKTZI'</li>\n",
       "\t<li>'caMKTZI'</li>\n",
       "\t<li>'eMKTZI0.05'</li>\n",
       "\t<li>'eMKTZI0.1'</li>\n",
       "\t<li>'FWWZI0.05'</li>\n",
       "\t<li>'FWWZI0.1'</li>\n",
       "\t<li>'standardZI'</li>\n",
       "</ol>\n"
      ],
      "text/latex": [
       "\\begin{enumerate}\n",
       "\\item 'aMKTZI'\n",
       "\\item 'caMKTZI'\n",
       "\\item 'eMKTZI0.05'\n",
       "\\item 'eMKTZI0.1'\n",
       "\\item 'FWWZI0.05'\n",
       "\\item 'FWWZI0.1'\n",
       "\\item 'standardZI'\n",
       "\\end{enumerate}\n"
      ],
      "text/markdown": [
       "1. 'aMKTZI'\n",
       "2. 'caMKTZI'\n",
       "3. 'eMKTZI0.05'\n",
       "4. 'eMKTZI0.1'\n",
       "5. 'FWWZI0.05'\n",
       "6. 'FWWZI0.1'\n",
       "7. 'standardZI'\n",
       "\n",
       "\n"
      ],
      "text/plain": [
       "[[1]]\n",
       "[1] \"aMKTZI\"\n",
       "\n",
       "[[2]]\n",
       "[1] \"caMKTZI\"\n",
       "\n",
       "[[3]]\n",
       "[1] \"eMKTZI0.05\"\n",
       "\n",
       "[[4]]\n",
       "[1] \"eMKTZI0.1\"\n",
       "\n",
       "[[5]]\n",
       "[1] \"FWWZI0.05\"\n",
       "\n",
       "[[6]]\n",
       "[1] \"FWWZI0.1\"\n",
       "\n",
       "[[7]]\n",
       "[1] \"standardZI\"\n"
      ]
     },
     "metadata": {},
     "output_type": "display_data"
    }
   ],
   "source": [
    "lapply(list.files('/home/jmurga/mktComparison/results/alphaTables', pattern=\"ZI\", full.names=TRUE),load,.GlobalEnv)"
   ]
  },
  {
   "cell_type": "code",
   "execution_count": 17,
   "metadata": {
    "ExecuteTime": {
     "end_time": "2019-03-13T15:37:31.829976Z",
     "start_time": "2019-03-13T15:41:07.427Z"
    },
    "hidden": true
   },
   "outputs": [
    {
     "data": {
      "text/html": [
       "1"
      ],
      "text/latex": [
       "1"
      ],
      "text/markdown": [
       "1"
      ],
      "text/plain": [
       "[1] 1"
      ]
     },
     "metadata": {},
     "output_type": "display_data"
    }
   ],
   "source": [
    "vennPlot(standardZI$posSigGenes,FWWZI0.05$posSigGenes,eMKTZI0.05$posSigGenes,population='ZI',palette=myCol)"
   ]
  },
  {
   "cell_type": "markdown",
   "metadata": {
    "hidden": true
   },
   "source": [
    "#### CEU"
   ]
  },
  {
   "cell_type": "code",
   "execution_count": 18,
   "metadata": {
    "hidden": true
   },
   "outputs": [
    {
     "data": {
      "text/html": [
       "<ol>\n",
       "\t<li>'aMKTCEU'</li>\n",
       "\t<li>'caMKTCEU'</li>\n",
       "\t<li>'eMKTCEU0.05'</li>\n",
       "\t<li>'eMKTCEU0.1'</li>\n",
       "\t<li>'FWWCEU0.05'</li>\n",
       "\t<li>'FWWCEU0.1'</li>\n",
       "\t<li>'standardCEU'</li>\n",
       "</ol>\n"
      ],
      "text/latex": [
       "\\begin{enumerate}\n",
       "\\item 'aMKTCEU'\n",
       "\\item 'caMKTCEU'\n",
       "\\item 'eMKTCEU0.05'\n",
       "\\item 'eMKTCEU0.1'\n",
       "\\item 'FWWCEU0.05'\n",
       "\\item 'FWWCEU0.1'\n",
       "\\item 'standardCEU'\n",
       "\\end{enumerate}\n"
      ],
      "text/markdown": [
       "1. 'aMKTCEU'\n",
       "2. 'caMKTCEU'\n",
       "3. 'eMKTCEU0.05'\n",
       "4. 'eMKTCEU0.1'\n",
       "5. 'FWWCEU0.05'\n",
       "6. 'FWWCEU0.1'\n",
       "7. 'standardCEU'\n",
       "\n",
       "\n"
      ],
      "text/plain": [
       "[[1]]\n",
       "[1] \"aMKTCEU\"\n",
       "\n",
       "[[2]]\n",
       "[1] \"caMKTCEU\"\n",
       "\n",
       "[[3]]\n",
       "[1] \"eMKTCEU0.05\"\n",
       "\n",
       "[[4]]\n",
       "[1] \"eMKTCEU0.1\"\n",
       "\n",
       "[[5]]\n",
       "[1] \"FWWCEU0.05\"\n",
       "\n",
       "[[6]]\n",
       "[1] \"FWWCEU0.1\"\n",
       "\n",
       "[[7]]\n",
       "[1] \"standardCEU\"\n"
      ]
     },
     "metadata": {},
     "output_type": "display_data"
    }
   ],
   "source": [
    "lapply(list.files('/home/jmurga/mktComparison/results/alphaTables', pattern=\"CEU\", full.names=TRUE),load,.GlobalEnv)"
   ]
  },
  {
   "cell_type": "code",
   "execution_count": 19,
   "metadata": {},
   "outputs": [
    {
     "data": {
      "text/html": [
       "1"
      ],
      "text/latex": [
       "1"
      ],
      "text/markdown": [
       "1"
      ],
      "text/plain": [
       "[1] 1"
      ]
     },
     "metadata": {},
     "output_type": "display_data"
    }
   ],
   "source": [
    "vennPlot(standardCEU$posSigGenes,FWWCEU0.05$posSigGenes,eMKTCEU0.05$posSigGenes,population='CEU',palette=myCol)"
   ]
  },
  {
   "cell_type": "markdown",
   "metadata": {
    "hidden": true
   },
   "source": [
    "#### YRI"
   ]
  },
  {
   "cell_type": "code",
   "execution_count": 20,
   "metadata": {
    "hidden": true
   },
   "outputs": [
    {
     "data": {
      "text/html": [
       "<ol>\n",
       "\t<li>'aMKTYRI'</li>\n",
       "\t<li>'caMKTYRI'</li>\n",
       "\t<li>'eMKTYRI0.05'</li>\n",
       "\t<li>'eMKTYRI0.1'</li>\n",
       "\t<li>'FWWYRI0.05'</li>\n",
       "\t<li>'FWWYRI0.1'</li>\n",
       "\t<li>'standardYRI'</li>\n",
       "</ol>\n"
      ],
      "text/latex": [
       "\\begin{enumerate}\n",
       "\\item 'aMKTYRI'\n",
       "\\item 'caMKTYRI'\n",
       "\\item 'eMKTYRI0.05'\n",
       "\\item 'eMKTYRI0.1'\n",
       "\\item 'FWWYRI0.05'\n",
       "\\item 'FWWYRI0.1'\n",
       "\\item 'standardYRI'\n",
       "\\end{enumerate}\n"
      ],
      "text/markdown": [
       "1. 'aMKTYRI'\n",
       "2. 'caMKTYRI'\n",
       "3. 'eMKTYRI0.05'\n",
       "4. 'eMKTYRI0.1'\n",
       "5. 'FWWYRI0.05'\n",
       "6. 'FWWYRI0.1'\n",
       "7. 'standardYRI'\n",
       "\n",
       "\n"
      ],
      "text/plain": [
       "[[1]]\n",
       "[1] \"aMKTYRI\"\n",
       "\n",
       "[[2]]\n",
       "[1] \"caMKTYRI\"\n",
       "\n",
       "[[3]]\n",
       "[1] \"eMKTYRI0.05\"\n",
       "\n",
       "[[4]]\n",
       "[1] \"eMKTYRI0.1\"\n",
       "\n",
       "[[5]]\n",
       "[1] \"FWWYRI0.05\"\n",
       "\n",
       "[[6]]\n",
       "[1] \"FWWYRI0.1\"\n",
       "\n",
       "[[7]]\n",
       "[1] \"standardYRI\"\n"
      ]
     },
     "metadata": {},
     "output_type": "display_data"
    }
   ],
   "source": [
    "lapply(list.files('/home/jmurga/mktComparison/results/alphaTables', pattern=\"YRI\", full.names=TRUE),load,.GlobalEnv)"
   ]
  },
  {
   "cell_type": "code",
   "execution_count": 21,
   "metadata": {},
   "outputs": [
    {
     "data": {
      "text/html": [
       "1"
      ],
      "text/latex": [
       "1"
      ],
      "text/markdown": [
       "1"
      ],
      "text/plain": [
       "[1] 1"
      ]
     },
     "metadata": {},
     "output_type": "display_data"
    }
   ],
   "source": [
    "vennPlot(standardYRI$posSigGenes,FWWYRI0.05$posSigGenes,eMKTYRI0.05$posSigGenes,population='YRI',palette=myCol)"
   ]
  }
 ],
 "metadata": {
  "kernelspec": {
   "display_name": "R",
   "language": "R",
   "name": "ir"
  },
  "language_info": {
   "codemirror_mode": "r",
   "file_extension": ".r",
   "mimetype": "text/x-r-source",
   "name": "R",
   "pygments_lexer": "r",
   "version": "3.6.1"
  },
  "toc": {
   "base_numbering": 1,
   "nav_menu": {},
   "number_sections": true,
   "sideBar": true,
   "skip_h1_title": false,
   "title_cell": "Table of Contents",
   "title_sidebar": "Contents",
   "toc_cell": false,
   "toc_position": {
    "height": "calc(100% - 180px)",
    "left": "10px",
    "top": "150px",
    "width": "165px"
   },
   "toc_section_display": true,
   "toc_window_display": true
  },
  "varInspector": {
   "cols": {
    "lenName": 16,
    "lenType": 16,
    "lenVar": 40
   },
   "kernels_config": {
    "python": {
     "delete_cmd_postfix": "",
     "delete_cmd_prefix": "del ",
     "library": "var_list.py",
     "varRefreshCmd": "print(var_dic_list())"
    },
    "r": {
     "delete_cmd_postfix": ") ",
     "delete_cmd_prefix": "rm(",
     "library": "var_list.r",
     "varRefreshCmd": "cat(var_dic_list()) "
    }
   },
   "types_to_exclude": [
    "module",
    "function",
    "builtin_function_or_method",
    "instance",
    "_Feature"
   ],
   "window_display": false
  }
 },
 "nbformat": 4,
 "nbformat_minor": 2
}
