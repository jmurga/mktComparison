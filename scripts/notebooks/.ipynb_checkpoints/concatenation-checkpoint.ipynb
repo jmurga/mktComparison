{
 "cells": [
  {
   "cell_type": "code",
   "execution_count": 8,
   "metadata": {
    "ExecuteTime": {
     "end_time": "2019-03-15T14:45:21.895956Z",
     "start_time": "2019-03-15T14:48:56.932Z"
    },
    "scrolled": true
   },
   "outputs": [],
   "source": [
    "library(repr)\n",
    "library(iMKT)\n",
    "library(dplyr)  \n",
    "library(data.table)\n",
    "library(cowplot)\n",
    "source('/home/jmurga/mkt/201902/scripts/src/concatenation.R')\n",
    "source('/home/jmurga/mkt/201902/scripts/src/plotStyle.R')\n",
    "PopFlyData <- fread('/home/jmurga/mkt/201902/results/PopFlyDataManual.tab', header = T, sep = \"\\t\")\n",
    "PopHumanData <- fread('/home/jmurga/mkt/201902/results/PopHumanDataManual.tab', header = T, sep = \"\\t\")"
   ]
  },
  {
   "cell_type": "code",
   "execution_count": 26,
   "metadata": {
    "ExecuteTime": {
     "end_time": "2019-03-13T12:00:52.898400Z",
     "start_time": "2019-03-13T12:04:06.992Z"
    }
   },
   "outputs": [],
   "source": [
    "options(repr.plot.width=7, repr.plot.height=7)"
   ]
  },
  {
   "cell_type": "markdown",
   "metadata": {},
   "source": [
    "### Resampling analysis"
   ]
  },
  {
   "cell_type": "markdown",
   "metadata": {
    "heading_collapsed": true
   },
   "source": [
    "#### Raleigh"
   ]
  },
  {
   "cell_type": "code",
   "execution_count": null,
   "metadata": {
    "ExecuteTime": {
     "end_time": "2019-03-12T16:14:34.521089Z",
     "start_time": "2019-03-12T16:17:53.801Z"
    },
    "code_folding": [],
    "hidden": true
   },
   "outputs": [],
   "source": [
    "genes <- unique(PopFlyData[['id']]) %>% as.matrix()\n",
    "ral <- PopFlyData[pop=='RAL'];ral %>% head\n",
    "set.seed(13753)\n",
    "subsetGenes <- sample(genes,size=1000)"
   ]
  },
  {
   "cell_type": "markdown",
   "metadata": {
    "hidden": true
   },
   "source": [
    "##### Boot samples bins 1"
   ]
  },
  {
   "cell_type": "code",
   "execution_count": 126,
   "metadata": {
    "ExecuteTime": {
     "end_time": "2019-02-26T15:52:59.466933Z",
     "start_time": "2019-02-26T15:56:38.487Z"
    },
    "hidden": true
   },
   "outputs": [],
   "source": [
    "bootSamplesBin1 <- samplingGenes(geneList = subsetGenes,B=3500,bins=1)\n",
    "outputRAL1 <- sampleAnalysis(data=ral,sampling = bootSamplesBin1,bins = 1,population='RAL')\n",
    "save(outputRAL1,file='/home/jmurga/mkt/201902/results/concatenation/binRAL1.RData')"
   ]
  },
  {
   "cell_type": "markdown",
   "metadata": {
    "hidden": true
   },
   "source": [
    "##### Boot samples bins 2"
   ]
  },
  {
   "cell_type": "code",
   "execution_count": 25,
   "metadata": {
    "ExecuteTime": {
     "end_time": "2019-02-26T15:52:59.466933Z",
     "start_time": "2019-02-26T15:56:38.487Z"
    },
    "hidden": true
   },
   "outputs": [],
   "source": [
    "bootSamplesBin2 <- samplingGenes(geneList = subsetGenes,B=3500,bins=2)\n",
    "outputRAL2 <- sampleAnalysis(data=ral,sampling = bootSamplesBin2,bins = 2,population='RAL')\n",
    "save(outputRAL2,file='/home/jmurga/mkt/201902/results/concatenation/binRAL2.RData')"
   ]
  },
  {
   "cell_type": "markdown",
   "metadata": {
    "hidden": true
   },
   "source": [
    "##### Boot samples bins 5"
   ]
  },
  {
   "cell_type": "code",
   "execution_count": 25,
   "metadata": {
    "ExecuteTime": {
     "end_time": "2019-02-26T15:52:59.466933Z",
     "start_time": "2019-02-26T15:56:38.487Z"
    },
    "hidden": true
   },
   "outputs": [],
   "source": [
    "bootSamplesBin5 <- samplingGenes(geneList = subsetGenes,B=3500,bins=5)\n",
    "outputRAL5 <- sampleAnalysis(data=ral,sampling = bootSamplesBin5,bins = 5,population='RAL')\n",
    "save(outputRAL5,file='/home/jmurga/mkt/201902/results/concatenation/binRAL5.RData')"
   ]
  },
  {
   "cell_type": "markdown",
   "metadata": {
    "hidden": true
   },
   "source": [
    "##### Boot samples bins 10"
   ]
  },
  {
   "cell_type": "code",
   "execution_count": 25,
   "metadata": {
    "ExecuteTime": {
     "end_time": "2019-02-26T15:52:59.466933Z",
     "start_time": "2019-02-26T15:56:38.487Z"
    },
    "hidden": true
   },
   "outputs": [],
   "source": [
    "bootSamplesBin10 <- samplingGenes(geneList = subsetGenes,B=3500,bins=10)\n",
    "outputRAL10 <- sampleAnalysis(data=ral,sampling = bootSamplesBin10,bins = 10,population='RAL')\n",
    "save(outputRAL5,file='/home/jmurga/mkt/201902/results/concatenation/binRAL10.RData')"
   ]
  },
  {
   "cell_type": "markdown",
   "metadata": {
    "hidden": true
   },
   "source": [
    "##### Boot samples bins 25"
   ]
  },
  {
   "cell_type": "code",
   "execution_count": 25,
   "metadata": {
    "ExecuteTime": {
     "end_time": "2019-02-26T15:52:59.466933Z",
     "start_time": "2019-02-26T15:56:38.487Z"
    },
    "hidden": true
   },
   "outputs": [],
   "source": [
    "bootSamplesBin25 <- samplingGenes(geneList = subsetGenes,B=3500,bins=25)\n",
    "outputRAL25 <- sampleAnalysis(data=ral,sampling = bootSamplesBin25,bins = 25,population='RAL')\n",
    "save(outputRAL25,file='/home/jmurga/mkt/201902/results/concatenation/binRAL25.RData')"
   ]
  },
  {
   "cell_type": "markdown",
   "metadata": {
    "hidden": true
   },
   "source": [
    "##### Boot samples bins 50\n"
   ]
  },
  {
   "cell_type": "code",
   "execution_count": 25,
   "metadata": {
    "ExecuteTime": {
     "end_time": "2019-02-26T15:52:59.466933Z",
     "start_time": "2019-02-26T15:56:38.487Z"
    },
    "hidden": true
   },
   "outputs": [],
   "source": [
    "bootSamplesBin50 <- samplingGenes(geneList = subsetGenes,B=3500,bins=50)\n",
    "outputRAL50 <- sampleAnalysis(data=ral,sampling = bootSamplesBin50,bins = 50,population='RAL')\n",
    "save(outputRAL50,file='/home/jmurga/mkt/201902/results/concatenation/binRAL50.RData')"
   ]
  },
  {
   "cell_type": "markdown",
   "metadata": {
    "hidden": true
   },
   "source": [
    "##### Boot samples bins 75"
   ]
  },
  {
   "cell_type": "code",
   "execution_count": null,
   "metadata": {
    "hidden": true
   },
   "outputs": [],
   "source": [
    "bootSamplesBin75 <- samplingGenes(geneList = subsetGenes,B=3500,bins=75 )\n",
    "outputRAL75 <- sampleAnalysis(data=ral,sampling = bootSamplesBin75,bins = 75,population='RAL')\n",
    "save(outputRAL75,file='/home/jmurga/mkt/201902/results/concatenation/binRAL75.RData')"
   ]
  },
  {
   "cell_type": "markdown",
   "metadata": {
    "hidden": true
   },
   "source": [
    "##### Boot samples bins 100"
   ]
  },
  {
   "cell_type": "code",
   "execution_count": 25,
   "metadata": {
    "ExecuteTime": {
     "end_time": "2019-02-26T15:52:59.466933Z",
     "start_time": "2019-02-26T15:56:38.487Z"
    },
    "hidden": true
   },
   "outputs": [],
   "source": [
    "bootSamplesBin100 <- samplingGenes(geneList = subsetGenes,B=3500,bins=100)\n",
    "outputRAL100 <- sampleAnalysis(data=ral,sampling = bootSamplesBin100,bins = 100,population='RAL')\n",
    "save(outputRAL100,file='/home/jmurga/mkt/201902/results/concatenation/binRAL100.RData')"
   ]
  },
  {
   "cell_type": "markdown",
   "metadata": {
    "hidden": true
   },
   "source": [
    "##### Boot samples bins 250"
   ]
  },
  {
   "cell_type": "code",
   "execution_count": 25,
   "metadata": {
    "ExecuteTime": {
     "end_time": "2019-02-26T15:52:59.466933Z",
     "start_time": "2019-02-26T15:56:38.487Z"
    },
    "hidden": true
   },
   "outputs": [],
   "source": [
    "bootSamplesBin250<- samplingGenes(geneList = subsetGenes,B=3500,bins=250)\n",
    "outputRAL250 <- sampleAnalysis(data=ral,sampling = bootSamplesBin250,bins = 250,population='RAL')\n",
    "save(outputRAL250,file='/home/jmurga/mkt/201902/results/concatenation/binRAL250.RData')"
   ]
  },
  {
   "cell_type": "markdown",
   "metadata": {
    "hidden": true
   },
   "source": [
    "##### Boot samples bins 500"
   ]
  },
  {
   "cell_type": "code",
   "execution_count": null,
   "metadata": {
    "hidden": true
   },
   "outputs": [],
   "source": [
    "bootSamplesBin500 <- samplingGenes(geneList = subsetGenes,B=3500,bins=500)\n",
    "outputRAL500 <- sampleAnalysis(data=ral,sampling = bootSamplesBin500,bins = 500,population='RAL')\n",
    "save(outputRAL500,file='/home/jmurga/mkt/201902/results/concatenation/binRAL500.RData')"
   ]
  },
  {
   "cell_type": "markdown",
   "metadata": {
    "hidden": true
   },
   "source": [
    "##### Boot samples bins 750"
   ]
  },
  {
   "cell_type": "code",
   "execution_count": null,
   "metadata": {
    "hidden": true
   },
   "outputs": [],
   "source": [
    "bootSamplesBin750 <- samplingGenes(geneList = subsetGenes,B=3500,bins=750)\n",
    "outputRAL750 <- sampleAnalysis(data=ral,sampling = bootSamplesBin750,bins = 750,population='RAL')\n",
    "save(outputRAL750,file='/home/jmurga/mkt/201902/results/concatenation/binRAL750.RData')"
   ]
  },
  {
   "cell_type": "markdown",
   "metadata": {
    "hidden": true
   },
   "source": [
    "##### Boot samples bins 1000"
   ]
  },
  {
   "cell_type": "code",
   "execution_count": null,
   "metadata": {
    "hidden": true
   },
   "outputs": [],
   "source": [
    "bootSamplesBin1000 <- samplingGenes(geneList = subsetGenes,B=3500,bins=1000)\n",
    "outputRAL1000 <- sampleAnalysis(data=ral,sampling = bootSamplesBin1000,bins =1000,population='RAL')\n",
    "save(outputRAL1000,file='/home/jmurga/mkt/201902/results/concatenation/binRAL1000.RData')"
   ]
  },
  {
   "cell_type": "markdown",
   "metadata": {
    "hidden": true
   },
   "source": [
    "##### Plot"
   ]
  },
  {
   "cell_type": "code",
   "execution_count": 11,
   "metadata": {
    "ExecuteTime": {
     "end_time": "2019-03-15T14:46:26.648388Z",
     "start_time": "2019-03-15T14:50:01.784Z"
    },
    "hidden": true
   },
   "outputs": [],
   "source": [
    "ralConcat <- lapply(list.files(pattern=\"*RAL*\",include.dirs=T,full.names=T,path='/home/jmurga/mkt/201902/results/concatenation'),load,.GlobalEnv)"
   ]
  },
  {
   "cell_type": "code",
   "execution_count": 14,
   "metadata": {
    "ExecuteTime": {
     "end_time": "2019-03-15T14:53:07.052407Z",
     "start_time": "2019-03-15T14:56:42.182Z"
    },
    "hidden": true
   },
   "outputs": [],
   "source": [
    "options(repr.plot.width=7, repr.plot.height=7)"
   ]
  },
  {
   "cell_type": "code",
   "execution_count": 15,
   "metadata": {
    "ExecuteTime": {
     "end_time": "2019-03-15T14:53:31.212097Z",
     "start_time": "2019-03-15T14:56:44.905Z"
    },
    "collapsed": true,
    "hidden": true
   },
   "outputs": [
    {
     "name": "stderr",
     "output_type": "stream",
     "text": [
      "Scale for 'y' is already present. Adding another scale for 'y', which will\n",
      "replace the existing scale.\n",
      "Warning message:\n",
      "“Removed 25017 rows containing non-finite values (stat_boxplot).”Warning message:\n",
      "“Removed 25017 rows containing non-finite values (stat_summary).”"
     ]
    },
    {
     "data": {
      "image/png": "[encoded data removed]",
      "text/plain": [
       "plot without title"
      ]
     },
     "metadata": {},
     "output_type": "display_data"
    }
   ],
   "source": [
    "dataPlot<- rbind(outputRAL1,\n",
    "                outputRAL2,\n",
    "                outputRAL5,\n",
    "                outputRAL10,\n",
    "                outputRAL25,\n",
    "                outputRAL50,\n",
    "                outputRAL75,\n",
    "                outputRAL100,\n",
    "                outputRAL250,\n",
    "                outputRAL500,\n",
    "                outputRAL750,\n",
    "                outputRAL1000)\n",
    "\n",
    "dataPlot[['bins']] <- factor(dataPlot[['bins']], levels = unique(dataPlot$bin))\n",
    "\n",
    "#\" alphaStandard\" \"alphaDGRP0.05\" \"alphaDGRP0.15\" \"alphaFWW0.05\"  \"alphaFWW0.15\" \"resultiMK\"\n",
    "boxPlotConcatRAL <- ggplot(dataPlot,aes(x = bins, y = alphaAsymptotic1,fill=bins)) + \n",
    "    geom_boxplot(color=\"grey20\",alpha=0.7,fill=\"#386cb0\") +    \n",
    "    labs(x = \"Bins\", y=expression(italic(α))) +\n",
    "    themePublication() + \n",
    "    scaleFillPublication() +\n",
    "\n",
    "    stat_summary(fun.y=mean, colour=\"grey20\", geom=\"point\", size=3) +\n",
    "    theme(axis.title.x = element_blank(), axis.ticks.x = element_blank(), axis.text.x = element_blank()) + \n",
    "    ylim(c(-3,3));boxPlotConcatRAL"
   ]
  },
  {
   "cell_type": "code",
   "execution_count": 16,
   "metadata": {
    "ExecuteTime": {
     "end_time": "2019-03-15T14:53:55.398622Z",
     "start_time": "2019-03-15T14:56:48.680Z"
    },
    "hidden": true,
    "scrolled": false
   },
   "outputs": [
    {
     "name": "stderr",
     "output_type": "stream",
     "text": [
      "Warning message:\n",
      "“Removed 25017 rows containing non-finite values (stat_boxplot).”Warning message:\n",
      "“Removed 25017 rows containing non-finite values (stat_summary).”"
     ]
    },
    {
     "data": {
      "text/html": [
       "<strong>png:</strong> 2"
      ],
      "text/latex": [
       "\\textbf{png:} 2"
      ],
      "text/markdown": [
       "**png:** 2"
      ],
      "text/plain": [
       "png \n",
       "  2 "
      ]
     },
     "metadata": {},
     "output_type": "display_data"
    }
   ],
   "source": [
    "## el plot del num de bins analizables solo tiene sentido en el asimptotico\n",
    "# bin <- rep(c(1,2,5,10,25,50,75,100,250,500,750,1000),2)\n",
    "# type <- sort(rep(c(T,F),12), decreasing = T)\n",
    "\n",
    "# las fraciones las calcule a mano xo seria ver table(is.na(outputRAL25$alphaAsymptotic)/100) etc.\n",
    "\n",
    "# fractions <- c(0.002,0.0054,0.030,0.152,0.616,0.860,0.930,0.975,1,1,1,1,\n",
    "#                 0.998,0.9946,0.970,0.848,0.384,0.140,0.070,0.025,0,0,0,0)\n",
    "# fraction <- data.frame(bin,fractions,type)\n",
    "fractions <- dataPlot %>% group_by(bins) %>% summarize('TRUE'=mean(is.na(asymptoticAlpha1)),'FALSE'=mean(!is.na(asymptoticAlpha1)))\n",
    "fraction <- melt(fractions)\n",
    "\n",
    "\n",
    "plotFraction <- ggplot(fraction) +\n",
    "    geom_bar(stat=\"identity\", aes(x=as.factor(bins), y=value, fill=variable), color=\"black\")+\n",
    "    themePublication() + \n",
    "    ylab(label=\"Fraction\") + xlab(label=\"Bins\")  + \n",
    "    scaleFillPublication(name=\"Number of analyzable bins\") +\n",
    "    theme(axis.line=element_blank())\n",
    "\n",
    "\n",
    "svg('/home/jmurga/mkt/201902/results/concatenation/ralConcat.svg',height = 14,width = 14)\n",
    "plot_grid(boxPlotConcatRAL,plotFraction,ncol = 1,rel_heights = c(1,0.25))\n",
    "dev.off()"
   ]
  },
  {
   "cell_type": "markdown",
   "metadata": {},
   "source": [
    "#### ZI"
   ]
  },
  {
   "cell_type": "code",
   "execution_count": null,
   "metadata": {
    "ExecuteTime": {
     "end_time": "2019-03-12T16:14:34.521089Z",
     "start_time": "2019-03-12T16:17:53.801Z"
    },
    "code_folding": []
   },
   "outputs": [],
   "source": [
    "genes <- unique(PopFlyData[['id']]) %>% as.matrix()\n",
    "zi <- PopFlyData[pop=='ZI'];zi %>% head\n",
    "set.seed(13753)\n",
    "subsetGenes <- sample(genes,size=1000)"
   ]
  },
  {
   "cell_type": "markdown",
   "metadata": {
    "heading_collapsed": true
   },
   "source": [
    "##### Boot samples bins 1"
   ]
  },
  {
   "cell_type": "code",
   "execution_count": 126,
   "metadata": {
    "ExecuteTime": {
     "end_time": "2019-02-26T15:52:59.466933Z",
     "start_time": "2019-02-26T15:56:38.487Z"
    },
    "hidden": true
   },
   "outputs": [],
   "source": [
    "bootSamplesBin1 <- samplingGenes(geneList = subsetGenes,B=3500,bins=1)\n",
    "outputZI1 <- sampleAnalysis(data=zi,sampling = bootSamplesBin1,bins = 1,population='ZI')\n",
    "save(outputZI1,file='/home/jmurga/mkt/201902/results/concatenation/binZI1.RData')"
   ]
  },
  {
   "cell_type": "markdown",
   "metadata": {
    "heading_collapsed": true
   },
   "source": [
    "##### Boot samples bins 2"
   ]
  },
  {
   "cell_type": "code",
   "execution_count": 25,
   "metadata": {
    "ExecuteTime": {
     "end_time": "2019-02-26T15:52:59.466933Z",
     "start_time": "2019-02-26T15:56:38.487Z"
    },
    "hidden": true
   },
   "outputs": [],
   "source": [
    "bootSamplesBin2 <- samplingGenes(geneList = subsetGenes,B=3500,bins=2)\n",
    "outputZI2 <- sampleAnalysis(data=zi,sampling = bootSamplesBin2,bins = 2,population='ZI')\n",
    "save(outputZI2,file='/home/jmurga/mkt/201902/results/concatenation/binZI2.RData')"
   ]
  },
  {
   "cell_type": "markdown",
   "metadata": {
    "heading_collapsed": true
   },
   "source": [
    "##### Boot samples bins 5"
   ]
  },
  {
   "cell_type": "code",
   "execution_count": 25,
   "metadata": {
    "ExecuteTime": {
     "end_time": "2019-02-26T15:52:59.466933Z",
     "start_time": "2019-02-26T15:56:38.487Z"
    },
    "hidden": true
   },
   "outputs": [],
   "source": [
    "bootSamplesBin5 <- samplingGenes(geneList = subsetGenes,B=3500,bins=5)\n",
    "outputZI5 <- sampleAnalysis(data=zi,sampling = bootSamplesBin5,bins = 5,population='ZI')\n",
    "save(outputZI5,file='/home/jmurga/mkt/201902/results/concatenation/binZI5.RData')"
   ]
  },
  {
   "cell_type": "markdown",
   "metadata": {
    "heading_collapsed": true
   },
   "source": [
    "##### Boot samples bins 10"
   ]
  },
  {
   "cell_type": "code",
   "execution_count": 25,
   "metadata": {
    "ExecuteTime": {
     "end_time": "2019-02-26T15:52:59.466933Z",
     "start_time": "2019-02-26T15:56:38.487Z"
    },
    "hidden": true
   },
   "outputs": [],
   "source": [
    "bootSamplesBin10 <- samplingGenes(geneList = subsetGenes,B=3500,bins=10)\n",
    "outputZI10 <- sampleAnalysis(data=zi,sampling = bootSamplesBin10,bins = 10,population='ZI')\n",
    "save(outputZI5,file='/home/jmurga/mkt/201902/results/concatenation/binZI10.RData')"
   ]
  },
  {
   "cell_type": "markdown",
   "metadata": {
    "heading_collapsed": true
   },
   "source": [
    "##### Boot samples bins 25"
   ]
  },
  {
   "cell_type": "code",
   "execution_count": 25,
   "metadata": {
    "ExecuteTime": {
     "end_time": "2019-02-26T15:52:59.466933Z",
     "start_time": "2019-02-26T15:56:38.487Z"
    },
    "hidden": true
   },
   "outputs": [],
   "source": [
    "bootSamplesBin25 <- samplingGenes(geneList = subsetGenes,B=3500,bins=25)\n",
    "outputZI25 <- sampleAnalysis(data=zi,sampling = bootSamplesBin25,bins = 25,population='ZI')\n",
    "save(outputZI25,file='/home/jmurga/mkt/201902/results/concatenation/binZI25.RData')"
   ]
  },
  {
   "cell_type": "markdown",
   "metadata": {
    "heading_collapsed": true
   },
   "source": [
    "##### Boot samples bins 50\n"
   ]
  },
  {
   "cell_type": "code",
   "execution_count": 25,
   "metadata": {
    "ExecuteTime": {
     "end_time": "2019-02-26T15:52:59.466933Z",
     "start_time": "2019-02-26T15:56:38.487Z"
    },
    "hidden": true
   },
   "outputs": [],
   "source": [
    "bootSamplesBin50 <- samplingGenes(geneList = subsetGenes,B=3500,bins=50)\n",
    "outputZI50 <- sampleAnalysis(data=zi,sampling = bootSamplesBin50,bins = 50,population='ZI')\n",
    "save(outputZI50,file='/home/jmurga/mkt/201902/results/concatenation/binZI50.RData')"
   ]
  },
  {
   "cell_type": "markdown",
   "metadata": {
    "heading_collapsed": true
   },
   "source": [
    "##### Boot samples bins 75"
   ]
  },
  {
   "cell_type": "code",
   "execution_count": null,
   "metadata": {
    "hidden": true
   },
   "outputs": [],
   "source": [
    "bootSamplesBin75 <- samplingGenes(geneList = subsetGenes,B=3500,bins=75 )\n",
    "outputZI75 <- sampleAnalysis(data=zi,sampling = bootSamplesBin75,bins = 75,population='ZI')\n",
    "save(outputZI75,file='/home/jmurga/mkt/201902/results/concatenation/binZI75.RData')"
   ]
  },
  {
   "cell_type": "markdown",
   "metadata": {
    "heading_collapsed": true
   },
   "source": [
    "##### Boot samples bins 100"
   ]
  },
  {
   "cell_type": "code",
   "execution_count": 25,
   "metadata": {
    "ExecuteTime": {
     "end_time": "2019-02-26T15:52:59.466933Z",
     "start_time": "2019-02-26T15:56:38.487Z"
    },
    "hidden": true
   },
   "outputs": [],
   "source": [
    "bootSamplesBin100 <- samplingGenes(geneList = subsetGenes,B=3500,bins=100)\n",
    "outputZI100 <- sampleAnalysis(data=zi,sampling = bootSamplesBin100,bins = 100,population='ZI')\n",
    "save(outputZI100,file='/home/jmurga/mkt/201902/results/concatenation/binZI100.RData')"
   ]
  },
  {
   "cell_type": "markdown",
   "metadata": {
    "heading_collapsed": true
   },
   "source": [
    "##### Boot samples bins 250"
   ]
  },
  {
   "cell_type": "code",
   "execution_count": 25,
   "metadata": {
    "ExecuteTime": {
     "end_time": "2019-02-26T15:52:59.466933Z",
     "start_time": "2019-02-26T15:56:38.487Z"
    },
    "hidden": true
   },
   "outputs": [],
   "source": [
    "bootSamplesBin250<- samplingGenes(geneList = subsetGenes,B=3500,bins=250)\n",
    "outputZI250 <- sampleAnalysis(data=zi,sampling = bootSamplesBin250,bins = 250,population='ZI')\n",
    "save(outputZI250,file='/home/jmurga/mkt/201902/results/concatenation/binZI250.RData')"
   ]
  },
  {
   "cell_type": "markdown",
   "metadata": {
    "heading_collapsed": true
   },
   "source": [
    "##### Boot samples bins 500"
   ]
  },
  {
   "cell_type": "code",
   "execution_count": null,
   "metadata": {
    "hidden": true
   },
   "outputs": [],
   "source": [
    "bootSamplesBin500 <- samplingGenes(geneList = subsetGenes,B=3500,bins=500)\n",
    "outputZI500 <- sampleAnalysis(data=zi,sampling = bootSamplesBin500,bins = 500,population='ZI')\n",
    "save(outputZI500,file='/home/jmurga/mkt/201902/results/concatenation/binZI500.RData')"
   ]
  },
  {
   "cell_type": "markdown",
   "metadata": {
    "heading_collapsed": true
   },
   "source": [
    "##### Boot samples bins 750"
   ]
  },
  {
   "cell_type": "code",
   "execution_count": null,
   "metadata": {
    "hidden": true
   },
   "outputs": [],
   "source": [
    "bootSamplesBin750 <- samplingGenes(geneList = subsetGenes,B=3500,bins=750)\n",
    "outputZI750 <- sampleAnalysis(data=zi,sampling = bootSamplesBin750,bins = 750,population='ZI')\n",
    "save(outputZI750,file='/home/jmurga/mkt/201902/results/concatenation/binZI750.RData')"
   ]
  },
  {
   "cell_type": "markdown",
   "metadata": {
    "heading_collapsed": true
   },
   "source": [
    "##### Boot samples bins 1000"
   ]
  },
  {
   "cell_type": "code",
   "execution_count": null,
   "metadata": {
    "hidden": true
   },
   "outputs": [],
   "source": [
    "bootSamplesBin1000 <- samplingGenes(geneList = subsetGenes,B=3500,bins=1000)\n",
    "outputZI1000 <- sampleAnalysis(data=zi,sampling = bootSamplesBin1000,bins =1000,population='ZI')\n",
    "save(outputZI1000,file='/home/jmurga/mkt/201902/results/concatenation/binZI1000.RData')"
   ]
  },
  {
   "cell_type": "markdown",
   "metadata": {},
   "source": [
    "##### Plot"
   ]
  },
  {
   "cell_type": "code",
   "execution_count": 11,
   "metadata": {
    "ExecuteTime": {
     "end_time": "2019-03-15T14:46:26.648388Z",
     "start_time": "2019-03-15T14:50:01.784Z"
    }
   },
   "outputs": [],
   "source": [
    "ziConcat <- lapply(list.files(pattern=\"*ZI*\",include.dirs=T,full.names=T,path='/home/jmurga/mkt/201902/results/concatenation'),load,.GlobalEnv)"
   ]
  },
  {
   "cell_type": "code",
   "execution_count": 14,
   "metadata": {
    "ExecuteTime": {
     "end_time": "2019-03-15T14:53:07.052407Z",
     "start_time": "2019-03-15T14:56:42.182Z"
    }
   },
   "outputs": [],
   "source": [
    "options(repr.plot.width=7, repr.plot.height=7)"
   ]
  },
  {
   "cell_type": "code",
   "execution_count": 15,
   "metadata": {
    "ExecuteTime": {
     "end_time": "2019-03-15T14:53:31.212097Z",
     "start_time": "2019-03-15T14:56:44.905Z"
    },
    "collapsed": true
   },
   "outputs": [
    {
     "name": "stderr",
     "output_type": "stream",
     "text": [
      "Scale for 'y' is already present. Adding another scale for 'y', which will\n",
      "replace the existing scale.\n",
      "Warning message:\n",
      "“Removed 25017 rows containing non-finite values (stat_boxplot).”Warning message:\n",
      "“Removed 25017 rows containing non-finite values (stat_summary).”"
     ]
    },
    {
     "data": {
      "image/png": "[encoded data removed]",
      "text/plain": [
       "plot without title"
      ]
     },
     "metadata": {},
     "output_type": "display_data"
    }
   ],
   "source": [
    "dataPlot<- rbind(outputZI1,\n",
    "                outputZI2,\n",
    "                outputZI5,\n",
    "                outputZI10,\n",
    "                outputZI25,\n",
    "                outputZI50,\n",
    "                outputZI75,\n",
    "                outputZI100,\n",
    "                outputZI250,\n",
    "                outputZI500,\n",
    "                outputZI750,\n",
    "                outputZI1000)\n",
    "\n",
    "dataPlot[['bins']] <- factor(dataPlot[['bins']], levels = unique(dataPlot$bin))\n",
    "\n",
    "#\" alphaStandard\" \"alphaDGRP0.05\" \"alphaDGRP0.15\" \"alphaFWW0.05\"  \"alphaFWW0.15\" \"resultiMK\"\n",
    "boxPlotConcatZI <- ggplot(dataPlot,aes(x = bins, y = alphaAsymptotic1,fill=bins)) + \n",
    "    geom_boxplot(color=\"grey20\",alpha=0.7,fill=\"#386cb0\") +    \n",
    "    labs(x = \"Bins\", y=expression(italic(α))) +\n",
    "    themePublication() + \n",
    "    scaleFillPublication() +\n",
    "\n",
    "    stat_summary(fun.y=mean, colour=\"grey20\", geom=\"point\", size=3) +\n",
    "    theme(axis.title.x = element_blank(), axis.ticks.x = element_blank(), axis.text.x = element_blank()) + \n",
    "    ylim(c(-3,3));boxPlotConcatZI"
   ]
  },
  {
   "cell_type": "code",
   "execution_count": 16,
   "metadata": {
    "ExecuteTime": {
     "end_time": "2019-03-15T14:53:55.398622Z",
     "start_time": "2019-03-15T14:56:48.680Z"
    },
    "scrolled": false
   },
   "outputs": [
    {
     "name": "stderr",
     "output_type": "stream",
     "text": [
      "Warning message:\n",
      "“Removed 25017 rows containing non-finite values (stat_boxplot).”Warning message:\n",
      "“Removed 25017 rows containing non-finite values (stat_summary).”"
     ]
    },
    {
     "data": {
      "text/html": [
       "<strong>png:</strong> 2"
      ],
      "text/latex": [
       "\\textbf{png:} 2"
      ],
      "text/markdown": [
       "**png:** 2"
      ],
      "text/plain": [
       "png \n",
       "  2 "
      ]
     },
     "metadata": {},
     "output_type": "display_data"
    }
   ],
   "source": [
    "## el plot del num de bins analizables solo tiene sentido en el asimptotico\n",
    "# bin <- rep(c(1,2,5,10,25,50,75,100,250,500,750,1000),2)\n",
    "# type <- sort(rep(c(T,F),12), decreasing = T)\n",
    "\n",
    "# las fraciones las calcule a mano xo seria ver table(is.na(outputRAL25$alphaAsymptotic)/100) etc.\n",
    "\n",
    "# fractions <- c(0.002,0.0054,0.030,0.152,0.616,0.860,0.930,0.975,1,1,1,1,\n",
    "#                 0.998,0.9946,0.970,0.848,0.384,0.140,0.070,0.025,0,0,0,0)\n",
    "# fraction <- data.frame(bin,fractions,type)\n",
    "fractions <- dataPlot %>% group_by(bins) %>% summarize('TRUE'=mean(is.na(alphaAsymptotic1)),'FALSE'=mean(!is.na(alphaAsymptotic1)))\n",
    "\n",
    "\n",
    "fraction <- melt(fractions)\n",
    "\n",
    "\n",
    "plotFraction <- ggplot(fraction) +\n",
    "    geom_bar(stat=\"identity\", aes(x=as.factor(bins), y=value, fill=variable), color=\"black\")+\n",
    "    themePublication() + \n",
    "    ylab(label=\"Fraction\") + xlab(label=\"Bins\")  + \n",
    "    scaleFillPublication(name=\"Number of analyzable bins\") +\n",
    "    theme(axis.line=element_blank())\n",
    "\n",
    "\n",
    "svg('/home/jmurga/mkt/201902/results/concatenation/ralConcat.svg',height = 14,width = 14)\n",
    "plot_grid(boxPlotConcatZI,plotFraction,ncol = 1,rel_heights = c(1,0.25))\n",
    "dev.off()"
   ]
  },
  {
   "cell_type": "markdown",
   "metadata": {
    "heading_collapsed": true
   },
   "source": [
    "#### CEU"
   ]
  },
  {
   "cell_type": "raw",
   "metadata": {
    "ExecuteTime": {
     "end_time": "2019-03-12T16:14:34.521089Z",
     "start_time": "2019-03-12T16:17:53.801Z"
    },
    "code_folding": [],
    "hidden": true
   },
   "source": [
    "genes <- unique(PopHumanData[['id']]) %>% as.matrix()\n",
    "ceu <- PopHumanData[pop=='CEU'];ceu %>% head\n",
    "set.seed(13753)\n",
    "subsetGenes <- sample(genes,size=1000)"
   ]
  },
  {
   "cell_type": "markdown",
   "metadata": {
    "hidden": true
   },
   "source": [
    "##### Boot samples bins 1"
   ]
  },
  {
   "cell_type": "code",
   "execution_count": null,
   "metadata": {
    "ExecuteTime": {
     "end_time": "2019-02-26T15:52:59.466933Z",
     "start_time": "2019-02-26T15:56:38.487Z"
    },
    "hidden": true
   },
   "outputs": [],
   "source": [
    "bootSamplesBin1 <- samplingGenes(geneList = subsetGenes,B=3500,bins=1)\n",
    "outputCEU1 <- sampleAnalysis(data=ceu,sampling = bootSamplesBin1,bins = 1,population='CEU')\n",
    "save(outputCEU1,file='/home/jmurga/mkt/201902/results/concatenation/binCEU1.RData')"
   ]
  },
  {
   "cell_type": "markdown",
   "metadata": {
    "hidden": true
   },
   "source": [
    "##### Boot samples bins 2"
   ]
  },
  {
   "cell_type": "code",
   "execution_count": null,
   "metadata": {
    "ExecuteTime": {
     "end_time": "2019-02-26T15:52:59.466933Z",
     "start_time": "2019-02-26T15:56:38.487Z"
    },
    "hidden": true
   },
   "outputs": [],
   "source": [
    "bootSamplesBin2 <- samplingGenes(geneList = subsetGenes,B=3500,bins=2)\n",
    "outputCEU2 <- sampleAnalysis(data=ceu,sampling = bootSamplesBin2,bins = 2,population='CEU')\n",
    "save(outputCEU2,file='/home/jmurga/mkt/201902/results/concatenation/binCEU2.RData')"
   ]
  },
  {
   "cell_type": "markdown",
   "metadata": {
    "hidden": true
   },
   "source": [
    "##### Boot samples bins 5"
   ]
  },
  {
   "cell_type": "code",
   "execution_count": null,
   "metadata": {
    "ExecuteTime": {
     "end_time": "2019-02-26T15:52:59.466933Z",
     "start_time": "2019-02-26T15:56:38.487Z"
    },
    "hidden": true
   },
   "outputs": [],
   "source": [
    "bootSamplesBin5 <- samplingGenes(geneList = subsetGenes,B=3500,bins=5)\n",
    "outputCEU5 <- sampleAnalysis(data=ceu,sampling = bootSamplesBin5,bins = 5,population='CEU')\n",
    "save(outputCEU5,file='/home/jmurga/mkt/201902/results/concatenation/binCEU5.RData')"
   ]
  },
  {
   "cell_type": "markdown",
   "metadata": {
    "hidden": true
   },
   "source": [
    "##### Boot samples bins 10"
   ]
  },
  {
   "cell_type": "raw",
   "metadata": {
    "ExecuteTime": {
     "end_time": "2019-02-26T15:52:59.466933Z",
     "start_time": "2019-02-26T15:56:38.487Z"
    },
    "hidden": true
   },
   "source": [
    "bootSamplesBin10 <- samplingGenes(geneList = subsetGenes,B=3500,bins=10)\n",
    "outputCEU10 <- sampleAnalysis(data=ceu,sampling = bootSamplesBin10,bins = 10,population='CEU')\n",
    "save(outputCEU5,file='/home/jmurga/mkt/201902/results/concatenation/binCEU10.RData')"
   ]
  },
  {
   "cell_type": "markdown",
   "metadata": {
    "hidden": true
   },
   "source": [
    "##### Boot samples bins 25"
   ]
  },
  {
   "cell_type": "code",
   "execution_count": null,
   "metadata": {
    "ExecuteTime": {
     "end_time": "2019-02-26T15:52:59.466933Z",
     "start_time": "2019-02-26T15:56:38.487Z"
    },
    "hidden": true
   },
   "outputs": [],
   "source": [
    "bootSamplesBin25 <- samplingGenes(geneList = subsetGenes,B=3500,bins=25)\n",
    "outputCEU25 <- sampleAnalysis(data=ceu,sampling = bootSamplesBin25,bins = 25,population='CEU')\n",
    "save(outputCEU25,file='/home/jmurga/mkt/201902/results/concatenation/binCEU25.RData')"
   ]
  },
  {
   "cell_type": "markdown",
   "metadata": {
    "hidden": true
   },
   "source": [
    "##### Boot samples bins 50"
   ]
  },
  {
   "cell_type": "code",
   "execution_count": null,
   "metadata": {
    "ExecuteTime": {
     "end_time": "2019-02-26T15:52:59.466933Z",
     "start_time": "2019-02-26T15:56:38.487Z"
    },
    "hidden": true
   },
   "outputs": [],
   "source": [
    "bootSamplesBin50 <- samplingGenes(geneList = subsetGenes,B=3500,bins=50)\n",
    "outputCEU50 <- sampleAnalysis(data=ceu,sampling = bootSamplesBin50,bins = 50,population='CEU')\n",
    "save(outputCEU50,file='/home/jmurga/mkt/201902/results/concatenation/binCEU50.RData')"
   ]
  },
  {
   "cell_type": "markdown",
   "metadata": {
    "hidden": true
   },
   "source": [
    "##### Boot samples bins 75"
   ]
  },
  {
   "cell_type": "code",
   "execution_count": null,
   "metadata": {
    "hidden": true
   },
   "outputs": [],
   "source": [
    "bootSamplesBin75 <- samplingGenes(geneList = subsetGenes,B=3500,bins=75 )\n",
    "outputCEU75 <- sampleAnalysis(data=ceu,sampling = bootSamplesBin75,bins = 75,population='CEU')\n",
    "save(outputCEU75,file='/home/jmurga/mkt/201902/results/concatenation/binCEU75.RData')"
   ]
  },
  {
   "cell_type": "markdown",
   "metadata": {
    "hidden": true
   },
   "source": [
    "##### Boot samples bins 100"
   ]
  },
  {
   "cell_type": "code",
   "execution_count": null,
   "metadata": {
    "ExecuteTime": {
     "end_time": "2019-02-26T15:52:59.466933Z",
     "start_time": "2019-02-26T15:56:38.487Z"
    },
    "hidden": true
   },
   "outputs": [],
   "source": [
    "bootSamplesBin100 <- samplingGenes(geneList = subsetGenes,B=3500,bins=100)\n",
    "outputCEU100 <- sampleAnalysis(data=ceu,sampling = bootSamplesBin100,bins = 100,population='CEU')\n",
    "save(outputCEU100,file='/home/jmurga/mkt/201902/results/concatenation/binCEU100.RData')"
   ]
  },
  {
   "cell_type": "markdown",
   "metadata": {
    "hidden": true
   },
   "source": [
    "##### Boot samples bins 250"
   ]
  },
  {
   "cell_type": "raw",
   "metadata": {
    "ExecuteTime": {
     "end_time": "2019-02-26T15:52:59.466933Z",
     "start_time": "2019-02-26T15:56:38.487Z"
    },
    "hidden": true
   },
   "source": [
    "bootSamplesBin250<- samplingGenes(geneList = subsetGenes,B=3500,bins=250)\n",
    "outputCEU250 <- sampleAnalysis(data=ceu,sampling = bootSamplesBin250,bins = 250,population='CEU')\n",
    "save(outputCEU250,file='/home/jmurga/mkt/201902/results/concatenation/binCEU250.RData')"
   ]
  },
  {
   "cell_type": "markdown",
   "metadata": {
    "hidden": true
   },
   "source": [
    "##### Boot samples bins 500"
   ]
  },
  {
   "cell_type": "code",
   "execution_count": null,
   "metadata": {
    "hidden": true
   },
   "outputs": [],
   "source": [
    "bootSamplesBin500 <- samplingGenes(geneList = subsetGenes,B=3500,bins=500)\n",
    "outputCEU500 <- sampleAnalysis(data=ceu,sampling = bootSamplesBin500,bins = 500,population='CEU')\n",
    "save(outputCEU500,file='/home/jmurga/mkt/201902/results/concatenation/binCEU500.RData')"
   ]
  },
  {
   "cell_type": "markdown",
   "metadata": {
    "hidden": true
   },
   "source": [
    "##### Boot samples bins 750"
   ]
  },
  {
   "cell_type": "code",
   "execution_count": null,
   "metadata": {
    "hidden": true
   },
   "outputs": [],
   "source": [
    "bootSamplesBin750 <- samplingGenes(geneList = subsetGenes,B=3500,bins=750)\n",
    "outputCEU750 <- sampleAnalysis(data=ceu,sampling = bootSamplesBin750,bins = 750,population='CEU')\n",
    "save(outputCEU750,file='/home/jmurga/mkt/201902/results/concatenation/binCEU750.RData')"
   ]
  },
  {
   "cell_type": "raw",
   "metadata": {
    "hidden": true
   },
   "source": [
    "##### Boot samples bins 1000"
   ]
  },
  {
   "cell_type": "code",
   "execution_count": null,
   "metadata": {
    "hidden": true
   },
   "outputs": [],
   "source": [
    "bootSamplesBin1000 <- samplingGenes(geneList = subsetGenes,B=3500,bins=1000)\n",
    "outputCEU1000 <- sampleAnalysis(data=ceu,sampling = bootSamplesBin1000,bins =1000,population='CEU')\n",
    "save(outputCEU1000,file='/home/jmurga/mkt/201902/results/concatenation/binCEU1000.RData')"
   ]
  },
  {
   "cell_type": "markdown",
   "metadata": {
    "hidden": true
   },
   "source": [
    "##### Plot"
   ]
  },
  {
   "cell_type": "code",
   "execution_count": null,
   "metadata": {
    "ExecuteTime": {
     "end_time": "2019-03-15T14:46:26.648388Z",
     "start_time": "2019-03-15T14:50:01.784Z"
    },
    "hidden": true
   },
   "outputs": [],
   "source": [
    "ceuConcat <- lapply(list.files(pattern=\"*RAL*\",include.dirs=T,full.names=T,path='/home/jmurga/mkt/201902/results/concatenation'),load,.GlobalEnv)"
   ]
  },
  {
   "cell_type": "code",
   "execution_count": null,
   "metadata": {
    "ExecuteTime": {
     "end_time": "2019-03-15T14:53:07.052407Z",
     "start_time": "2019-03-15T14:56:42.182Z"
    },
    "hidden": true
   },
   "outputs": [],
   "source": [
    "options(repr.plot.width=7, repr.plot.height=7)"
   ]
  },
  {
   "cell_type": "code",
   "execution_count": null,
   "metadata": {
    "ExecuteTime": {
     "end_time": "2019-03-15T14:53:31.212097Z",
     "start_time": "2019-03-15T14:56:44.905Z"
    },
    "hidden": true
   },
   "outputs": [],
   "source": [
    "dataPlot<- rbind(outputCEU1,\n",
    "                outputCEU2,\n",
    "                outputCEU5,\n",
    "                outputCEU10,\n",
    "                outputCEU25,\n",
    "                outputCEU50,\n",
    "                outputCEU75,\n",
    "                outputCEU100,\n",
    "                outputCEU250,\n",
    "                outputCEU500,\n",
    "                outputCEU750,\n",
    "                outputCEU1000)\n",
    "\n",
    "dataPlot[['bins']] <- factor(dataPlot[['bins']], levels = unique(dataPlot$bin))\n",
    "\n",
    "#\" alphaStandard\" \"alphaDGRP0.05\" \"alphaDGRP0.15\" \"alphaFWW0.05\"  \"alphaFWW0.15\" \"resultiMK\"\n",
    "boxPlotConcatCEU <- ggplot(dataPlot,aes(x = bins, y = alphaAsymptotic1,fill=bins)) + \n",
    "    geom_boxplot(color=\"grey20\",alpha=0.7,fill=\"#386cb0\") +    \n",
    "    labs(x = \"Bins\", y=expression(italic(α))) +\n",
    "    themePublication() + \n",
    "    scaleFillPublication() +\n",
    "\n",
    "    stat_summary(fun.y=mean, colour=\"grey20\", geom=\"point\", size=3) +\n",
    "    theme(axis.title.x = element_blank(), axis.ticks.x = element_blank(), axis.text.x = element_blank()) + \n",
    "    ylim(c(-3,3));boxPlotConcatCEU"
   ]
  },
  {
   "cell_type": "code",
   "execution_count": null,
   "metadata": {
    "ExecuteTime": {
     "end_time": "2019-03-15T14:53:55.398622Z",
     "start_time": "2019-03-15T14:56:48.680Z"
    },
    "hidden": true
   },
   "outputs": [],
   "source": [
    "## el plot del num de bins analizables solo tiene sentido en el asimptotico\n",
    "# bin <- rep(c(1,2,5,10,25,50,75,100,250,500,750,1000),2)\n",
    "# type <- sort(rep(c(T,F),12), decreasing = T)\n",
    "\n",
    "# las fraciones las calcule a mano xo seria ver table(is.na(outputRAL25$alphaAsymptotic)/100) etc.\n",
    "\n",
    "# fractions <- c(0.002,0.0054,0.030,0.152,0.616,0.860,0.930,0.975,1,1,1,1,\n",
    "#                 0.998,0.9946,0.970,0.848,0.384,0.140,0.070,0.025,0,0,0,0)\n",
    "# fraction <- data.frame(bin,fractions,type)\n",
    "fractions <- dataPlot %>% group_by(bins) %>% summarize('TRUE'=mean(is.na(asymptoticAlpha1)),'FALSE'=mean(!is.na(asymptoticAlpha1)))\n",
    "fraction <- melt(fractions)\n",
    "\n",
    "\n",
    "plotFraction <- ggplot(fraction) +\n",
    "    geom_bar(stat=\"identity\", aes(x=as.factor(bins), y=value, fill=variable), color=\"black\")+\n",
    "    themePublication() + \n",
    "    ylab(label=\"Fraction\") + xlab(label=\"Bins\")  + \n",
    "    scaleFillPublication(name=\"Number of analyzable bins\") +\n",
    "    theme(axis.line=element_blank())\n",
    "\n",
    "\n",
    "svg('/home/jmurga/mkt/201902/results/concatenation/ralConcat.svg',height = 14,width = 14)\n",
    "plot_grid(boxPlotConcatCEU,plotFraction,ncol = 1,rel_heights = c(1,0.25))\n",
    "dev.off()"
   ]
  },
  {
   "cell_type": "markdown",
   "metadata": {
    "heading_collapsed": true
   },
   "source": [
    "#### YRI"
   ]
  },
  {
   "cell_type": "code",
   "execution_count": null,
   "metadata": {
    "ExecuteTime": {
     "end_time": "2019-03-12T16:14:34.521089Z",
     "start_time": "2019-03-12T16:17:53.801Z"
    },
    "code_folding": [],
    "hidden": true
   },
   "outputs": [],
   "source": [
    "genes <- unique(PopHumanData[['id']]) %>% as.matrix()\n",
    "yri <- PopHumanData[pop=='YRI'];yri %>% head"
   ]
  },
  {
   "cell_type": "code",
   "execution_count": null,
   "metadata": {
    "ExecuteTime": {
     "end_time": "2019-03-12T16:14:34.532813Z",
     "start_time": "2019-03-12T16:17:58.676Z"
    },
    "hidden": true
   },
   "outputs": [],
   "source": [
    "set.seed(13753)\n",
    "subsetGenes <- sample(genes,size=1000)"
   ]
  },
  {
   "cell_type": "markdown",
   "metadata": {
    "hidden": true
   },
   "source": [
    "##### Boot samples bins 1"
   ]
  },
  {
   "cell_type": "code",
   "execution_count": 126,
   "metadata": {
    "ExecuteTime": {
     "end_time": "2019-02-26T15:52:59.466933Z",
     "start_time": "2019-02-26T15:56:38.487Z"
    },
    "hidden": true
   },
   "outputs": [],
   "source": [
    "bootSamplesBin1 <- samplingGenes(geneList = subsetGenes,B=3500,bins=1)\n",
    "outputYRI1 <- sampleAnalysis(data=yri,sampling = bootSamplesBin1,bins = 1,population='YRI')"
   ]
  },
  {
   "cell_type": "markdown",
   "metadata": {
    "heading_collapsed": true,
    "hidden": true
   },
   "source": [
    "##### Boot samples bins 2"
   ]
  },
  {
   "cell_type": "code",
   "execution_count": 25,
   "metadata": {
    "ExecuteTime": {
     "end_time": "2019-02-26T15:52:59.466933Z",
     "start_time": "2019-02-26T15:56:38.487Z"
    },
    "hidden": true
   },
   "outputs": [],
   "source": [
    "bootSamplesBin2 <- samplingGenes(geneList = subsetGenes,B=3500,bins=2)"
   ]
  },
  {
   "cell_type": "code",
   "execution_count": null,
   "metadata": {
    "hidden": true
   },
   "outputs": [],
   "source": [
    "outputYRI2 <- sampleAnalysis(data=yri,sampling = bootSamplesBin2,bins = 2,population='YRI')"
   ]
  },
  {
   "cell_type": "markdown",
   "metadata": {
    "heading_collapsed": true,
    "hidden": true
   },
   "source": [
    "##### Boot samples bins 5"
   ]
  },
  {
   "cell_type": "code",
   "execution_count": 25,
   "metadata": {
    "ExecuteTime": {
     "end_time": "2019-02-26T15:52:59.466933Z",
     "start_time": "2019-02-26T15:56:38.487Z"
    },
    "hidden": true
   },
   "outputs": [],
   "source": [
    "bootSamplesBin5 <- samplingGenes(geneList = subsetGenes,B=3500,bins=5)"
   ]
  },
  {
   "cell_type": "code",
   "execution_count": null,
   "metadata": {
    "hidden": true
   },
   "outputs": [],
   "source": [
    "outputYRI5 <- sampleAnalysis(data=yri,sampling = bootSamplesBin2,bins = 5,population='YRI')"
   ]
  },
  {
   "cell_type": "markdown",
   "metadata": {
    "heading_collapsed": true,
    "hidden": true
   },
   "source": [
    "##### Boot samples bins 10"
   ]
  },
  {
   "cell_type": "code",
   "execution_count": 25,
   "metadata": {
    "ExecuteTime": {
     "end_time": "2019-02-26T15:52:59.466933Z",
     "start_time": "2019-02-26T15:56:38.487Z"
    },
    "hidden": true
   },
   "outputs": [],
   "source": [
    "bootSamplesBin10 <- samplingGenes(geneList = subsetGenes,B=3500,bins=10)"
   ]
  },
  {
   "cell_type": "code",
   "execution_count": null,
   "metadata": {
    "hidden": true
   },
   "outputs": [],
   "source": [
    "outputYRI10 <- sampleAnalysis(data=yri,sampling = bootSamplesBin2,bins = 10,population='YRI')"
   ]
  },
  {
   "cell_type": "markdown",
   "metadata": {
    "heading_collapsed": true,
    "hidden": true
   },
   "source": [
    "##### Boot samples bins 25"
   ]
  },
  {
   "cell_type": "code",
   "execution_count": 25,
   "metadata": {
    "ExecuteTime": {
     "end_time": "2019-02-26T15:52:59.466933Z",
     "start_time": "2019-02-26T15:56:38.487Z"
    },
    "hidden": true
   },
   "outputs": [],
   "source": [
    "bootSamplesBin25 <- samplingGenes(geneList = subsetGenes,B=3500,bins=25)"
   ]
  },
  {
   "cell_type": "code",
   "execution_count": null,
   "metadata": {
    "hidden": true
   },
   "outputs": [],
   "source": [
    "outputYRI25 <- sampleAnalysis(data=yri,sampling = bootSamplesBin2,bins = 25,population='YRI')"
   ]
  },
  {
   "cell_type": "markdown",
   "metadata": {
    "heading_collapsed": true,
    "hidden": true
   },
   "source": [
    "##### Boot samples bins 50"
   ]
  },
  {
   "cell_type": "code",
   "execution_count": 25,
   "metadata": {
    "ExecuteTime": {
     "end_time": "2019-02-26T15:52:59.466933Z",
     "start_time": "2019-02-26T15:56:38.487Z"
    },
    "hidden": true
   },
   "outputs": [],
   "source": [
    "bootSamplesBin50 <- samplingGenes(geneList = subsetGenes,B=3500,bins=50)"
   ]
  },
  {
   "cell_type": "code",
   "execution_count": null,
   "metadata": {
    "hidden": true
   },
   "outputs": [],
   "source": [
    "outputYRI50 <- sampleAnalysis(data=yri,sampling = bootSamplesBin2,bins = 50,population='YRI')"
   ]
  },
  {
   "cell_type": "markdown",
   "metadata": {
    "heading_collapsed": true,
    "hidden": true
   },
   "source": [
    "##### Boot samples bins 75"
   ]
  },
  {
   "cell_type": "code",
   "execution_count": 25,
   "metadata": {
    "ExecuteTime": {
     "end_time": "2019-02-26T15:52:59.466933Z",
     "start_time": "2019-02-26T15:56:38.487Z"
    },
    "hidden": true
   },
   "outputs": [],
   "source": [
    "bootSamplesBin75 <- samplingGenes(geneList = subsetGenes,B=3500,bins=75)"
   ]
  },
  {
   "cell_type": "code",
   "execution_count": null,
   "metadata": {
    "hidden": true
   },
   "outputs": [],
   "source": [
    "outputYRI75 <- sampleAnalysis(data=yri,sampling = bootSamplesBin75,bins = 75,population='YRI')"
   ]
  },
  {
   "cell_type": "markdown",
   "metadata": {
    "heading_collapsed": true,
    "hidden": true
   },
   "source": [
    "##### Boot samples bins 100"
   ]
  },
  {
   "cell_type": "code",
   "execution_count": 25,
   "metadata": {
    "ExecuteTime": {
     "end_time": "2019-02-26T15:52:59.466933Z",
     "start_time": "2019-02-26T15:56:38.487Z"
    },
    "hidden": true
   },
   "outputs": [],
   "source": [
    "bootSamplesBin100 <- samplingGenes(geneList = subsetGenes,B=3500,bins=100)"
   ]
  },
  {
   "cell_type": "code",
   "execution_count": null,
   "metadata": {
    "hidden": true
   },
   "outputs": [],
   "source": [
    "outputYRI100 <- sampleAnalysis(data=yri,sampling = bootSamplesBin2,bins = 100,population='YRI')"
   ]
  },
  {
   "cell_type": "markdown",
   "metadata": {
    "heading_collapsed": true,
    "hidden": true
   },
   "source": [
    "##### Boot samples bins 250"
   ]
  },
  {
   "cell_type": "code",
   "execution_count": 25,
   "metadata": {
    "ExecuteTime": {
     "end_time": "2019-02-26T15:52:59.466933Z",
     "start_time": "2019-02-26T15:56:38.487Z"
    },
    "hidden": true
   },
   "outputs": [],
   "source": [
    "bootSamplesBin250<- samplingGenes(geneList = subsetGenes,B=3500,bins=250)"
   ]
  },
  {
   "cell_type": "code",
   "execution_count": null,
   "metadata": {
    "hidden": true
   },
   "outputs": [],
   "source": [
    "outputYRI250 <- sampleAnalysis(data=yri,sampling = bootSamplesBin2,bins = 250,population='YRI')"
   ]
  },
  {
   "cell_type": "markdown",
   "metadata": {
    "heading_collapsed": true,
    "hidden": true
   },
   "source": [
    "##### Boot samples bins 500"
   ]
  },
  {
   "cell_type": "code",
   "execution_count": 25,
   "metadata": {
    "ExecuteTime": {
     "end_time": "2019-02-26T15:52:59.466933Z",
     "start_time": "2019-02-26T15:56:38.487Z"
    },
    "hidden": true
   },
   "outputs": [],
   "source": [
    "bootSamplesBin500 <- samplingGenes(geneList = subsetGenes,B=3500,bins=500)"
   ]
  },
  {
   "cell_type": "code",
   "execution_count": null,
   "metadata": {
    "hidden": true
   },
   "outputs": [],
   "source": [
    "outputYRI500 <- sampleAnalysis(data=yri,sampling = bootSamplesBin2,bins = 500,population='YRI')"
   ]
  },
  {
   "cell_type": "markdown",
   "metadata": {
    "heading_collapsed": true,
    "hidden": true
   },
   "source": [
    "##### Boot samples bins 750"
   ]
  },
  {
   "cell_type": "code",
   "execution_count": 25,
   "metadata": {
    "ExecuteTime": {
     "end_time": "2019-02-26T15:52:59.466933Z",
     "start_time": "2019-02-26T15:56:38.487Z"
    },
    "hidden": true
   },
   "outputs": [],
   "source": [
    "bootSamplesBin750<- samplingGenes(geneList = subsetGenes,B=3500,bins=500)"
   ]
  },
  {
   "cell_type": "code",
   "execution_count": null,
   "metadata": {
    "hidden": true
   },
   "outputs": [],
   "source": [
    "outputYRI750 <- sampleAnalysis(data=yri,sampling = bootSamplesBin750,bins = 500,population='YRI')"
   ]
  },
  {
   "cell_type": "markdown",
   "metadata": {
    "hidden": true
   },
   "source": [
    "##### Boot samples bins 1000"
   ]
  },
  {
   "cell_type": "code",
   "execution_count": 25,
   "metadata": {
    "ExecuteTime": {
     "end_time": "2019-02-26T15:52:59.466933Z",
     "start_time": "2019-02-26T15:56:38.487Z"
    },
    "hidden": true
   },
   "outputs": [],
   "source": [
    "bootSamplesBin1000 <- samplingGenes(geneList = subsetGenes,B=3500,bins=1000)"
   ]
  },
  {
   "cell_type": "code",
   "execution_count": null,
   "metadata": {
    "hidden": true
   },
   "outputs": [],
   "source": [
    "output1000 <- sampleAnalysis(data=yri,sampling = bootSamplesBin1000,bins = 1000,population='YRI')"
   ]
  },
  {
   "cell_type": "markdown",
   "metadata": {
    "heading_collapsed": true,
    "hidden": true
   },
   "source": [
    "##### Plot"
   ]
  },
  {
   "cell_type": "code",
   "execution_count": 11,
   "metadata": {
    "ExecuteTime": {
     "end_time": "2019-03-15T14:46:26.648388Z",
     "start_time": "2019-03-15T14:50:01.784Z"
    },
    "hidden": true
   },
   "outputs": [],
   "source": [
    "YRIConcat <- lapply(list.files(pattern=\"*YRI*\",include.dirs=T,full.names=T,path='/home/jmurga/mkt/201902/results/concatenation'),load,.GlobalEnv)"
   ]
  },
  {
   "cell_type": "code",
   "execution_count": 14,
   "metadata": {
    "ExecuteTime": {
     "end_time": "2019-03-15T14:53:07.052407Z",
     "start_time": "2019-03-15T14:56:42.182Z"
    },
    "hidden": true
   },
   "outputs": [],
   "source": [
    "options(repr.plot.width=7, repr.plot.height=7)"
   ]
  },
  {
   "cell_type": "code",
   "execution_count": null,
   "metadata": {
    "ExecuteTime": {
     "end_time": "2019-03-15T14:53:31.212097Z",
     "start_time": "2019-03-15T14:56:44.905Z"
    },
    "hidden": true
   },
   "outputs": [],
   "source": [
    "dataPlot<- rbind(outputYRI1,\n",
    "                outputYRI2,\n",
    "                outputYRI5,\n",
    "                outputYRI10,\n",
    "                outputYRI25,\n",
    "                outputYRI50,\n",
    "                outputYRI75,\n",
    "                outputYRI100,\n",
    "                outputYRI250,\n",
    "                outputYRI500,\n",
    "                outputYRI750,\n",
    "                outputYRI1000)\n",
    "\n",
    "dataPlot[['bin']] <- factor(dataPlot[['bin']], levels = unique(dataPlot$bin))\n",
    "\n",
    "#\" alphaStandard\" \"alphaDGRP0.05\" \"alphaDGRP0.15\" \"alphaFWW0.05\"  \"alphaFWW0.15\" \"resultiMK\"\n",
    "boxPlotConcatYRI <- ggplot(dataPlot,aes(x = bin, y = alphaiMKT)) + \n",
    "    geom_boxplot(color=\"grey20\",alpha=0.7,fill=\"#386cb0\") +    \n",
    "    labs(x = \"Bins\", y=expression(italic(α))) +\n",
    "    themePublication() + \n",
    "    scaleFillPublication() +\n",
    "    scale_y_continuous(breaks = pretty(dataPlot$alphaStandard, n = 5)) +\n",
    "    stat_summary(fun.y=mean, colour=\"grey20\", geom=\"point\", size=3) +\n",
    "    theme(axis.title.x = element_blank(), axis.ticks.x = element_blank(), axis.text.x = element_blank()) + \n",
    "    ylim(c(-3,3))\n",
    "\n",
    "boxPlotConcatYRI"
   ]
  },
  {
   "cell_type": "code",
   "execution_count": 16,
   "metadata": {
    "ExecuteTime": {
     "end_time": "2019-03-15T14:53:55.398622Z",
     "start_time": "2019-03-15T14:56:48.680Z"
    },
    "hidden": true,
    "scrolled": false
   },
   "outputs": [
    {
     "name": "stderr",
     "output_type": "stream",
     "text": [
      "Warning message:\n",
      "“Removed 25017 rows containing non-finite values (stat_boxplot).”Warning message:\n",
      "“Removed 25017 rows containing non-finite values (stat_summary).”"
     ]
    },
    {
     "data": {
      "text/html": [
       "<strong>png:</strong> 2"
      ],
      "text/latex": [
       "\\textbf{png:} 2"
      ],
      "text/markdown": [
       "**png:** 2"
      ],
      "text/plain": [
       "png \n",
       "  2 "
      ]
     },
     "metadata": {},
     "output_type": "display_data"
    }
   ],
   "source": [
    "## el plot del num de bins analizables solo tiene sentido en el asimptotico\n",
    "bin <- rep(c(1,2,5,10,25,50,75,100,250,500,750,1000),2)\n",
    "type <- sort(rep(c(T,F),12), decreasing = T)\n",
    "\n",
    "# las fraciones las calcule a mano xo seria ver table(is.na(outputRAL25$alphaAsymptotic)/100) etc.\n",
    "\n",
    "fractions <- c(0.002,0.0054,0.030,0.152,0.616,0.860,0.930,0.975,1,1,1,1,\n",
    "               0.998,0.9946,0.970,0.848,0.384,0.140,0.070,0.025,0,0,0,0)\n",
    "fraction <- data.frame(bin,fractions,type)\n",
    "\n",
    "plotFraction <- ggplot(fraction) +\n",
    "    geom_bar(stat=\"identity\", aes_string(x=as.factor(bin), y=fractions, fill=type), color=\"black\")+\n",
    "    themePublication() + \n",
    "    ylab(label=\"Fraction\") + xlab(label=\"Bins\")  + \n",
    "    scaleFillPublication(name=\"Number of analyzable bins\\n\") +\n",
    "    theme(axis.line=element_blank(),panel.spacing.x = unit(2, \"cm\"))\n",
    "\n",
    "\n",
    "svg('/home/jmurga/mkt/201902/results/concatenation/YRIConcat.svg',height = 14,width = 14)\n",
    "plot_grid(boxPlotConcatYRI,plotFraction,ncol = 1,rel_heights = c(1,0.25))\n",
    "dev.off()"
   ]
  },
  {
   "cell_type": "markdown",
   "metadata": {
    "heading_collapsed": true
   },
   "source": [
    "### Recombination bins analysis"
   ]
  },
  {
   "cell_type": "markdown",
   "metadata": {
    "hidden": true
   },
   "source": [
    "#### *D. melanogaster* analysis"
   ]
  },
  {
   "cell_type": "code",
   "execution_count": 6,
   "metadata": {
    "ExecuteTime": {
     "end_time": "2019-03-12T16:28:30.827697Z",
     "start_time": "2019-03-12T16:32:06.154Z"
    },
    "hidden": true
   },
   "outputs": [],
   "source": [
    "RalData <- subset(PopFlyData, PopFlyData$pop == \"RAL\")\n",
    "# Divide genes into five equally sized groups depending on their recombination rates\n",
    "RalData$recQuartile <- with(RalData, cut(recomb, breaks=quantile(recomb,probs=seq(0,1, by=0.2), na.rm=TRUE), include.lowest=TRUE))\n",
    "\n",
    "genesRec1 <- subset(RalData,RalData$recQuartile==unique(sort(RalData$recQuartile))[1])\n",
    "genesRec2 <- subset(RalData,RalData$recQuartile==unique(sort(RalData$recQuartile))[2])\n",
    "genesRec3 <- subset(RalData,RalData$recQuartile==unique(sort(RalData$recQuartile))[3])\n",
    "genesRec4 <- subset(RalData,RalData$recQuartile==unique(sort(RalData$recQuartile))[4])\n",
    "genesRec5 <- subset(RalData,RalData$recQuartile==unique(sort(RalData$recQuartile))[5])"
   ]
  },
  {
   "cell_type": "markdown",
   "metadata": {
    "heading_collapsed": true,
    "hidden": true
   },
   "source": [
    "##### Ral analysis"
   ]
  },
  {
   "cell_type": "code",
   "execution_count": null,
   "metadata": {
    "hidden": true
   },
   "outputs": [],
   "source": [
    "bootSamplesRec1 <- samplingGenes(geneList = genesRec1$id,B=1000,bins=length(genesRec1$id))\n",
    "outputRec1RAL <- sampleAnalysis(data=PopFlyData,sampling = bootSamplesRec1,bins = 1000,population='RAL')\n",
    "\n",
    "bootSamplesRec2 <- samplingGenes(geneList = genesRec2$id,B=1000,bins=length(genesRec2$id))\n",
    "outputRec2RAL <- sampleAnalysis(data=PopFlyData,sampling = bootSamplesRec2,bins = 1000,population='RAL')\n",
    "\n",
    "bootSamplesRec3 <- samplingGenes(geneList = genesRec3$id,B=1000,bins=length(genesRec3$id))\n",
    "outputRec3RAL <- sampleAnalysis(data=PopFlyData,sampling = bootSamplesRec3,bins = 1000,population='RAL')\n",
    "\n",
    "bootSamplesRec4 <- samplingGenes(geneList = genesRec4$id,B=1000,bins=length(genesRec4$id))\n",
    "outputRec4RAL <- sampleAnalysis(data=PopFlyData,sampling = bootSamplesRec4,bins = 1000,population='RAL')\n",
    "\n",
    "bootSamplesRec5 <- samplingGenes(geneList = genesRec5$id,B=1000,bins=length(genesRec5$id))\n",
    "outputRec5RAL <- sampleAnalysis(data=PopFlyData,sampling = bootSamplesRec5,bins = 1000,population='RAL')"
   ]
  },
  {
   "cell_type": "code",
   "execution_count": null,
   "metadata": {
    "hidden": true
   },
   "outputs": [],
   "source": [
    "save(outputRec1RAL,file='/home/jmurga/mkt/201902/results/concatenation/binRecomb/outputRec1Ral.RData')\n",
    "save(outputRec2RAL,file='/home/jmurga/mkt/201902/results/concatenation/binRecomb/outputRec2Ral.RData')\n",
    "save(outputRec3RAL,file='/home/jmurga/mkt/201902/results/concatenation/binRecomb/outputRec3Ral.RData')\n",
    "save(outputRec4RAL,file='/home/jmurga/mkt/201902/results/concatenation/binRecomb/outputRec4Ral.RData')\n",
    "save(outputRec5RAL,file='/home/jmurga/mkt/201902/results/concatenation/binRecomb/outputRec5Ral.RData')"
   ]
  },
  {
   "cell_type": "markdown",
   "metadata": {
    "heading_collapsed": true,
    "hidden": true
   },
   "source": [
    "##### Plot"
   ]
  },
  {
   "cell_type": "code",
   "execution_count": null,
   "metadata": {
    "hidden": true
   },
   "outputs": [],
   "source": [
    "ralRecomb <- lapply(list.files(pattern=\"*Ral*\",include.dirs=T,full.names=T,path='/home/jmurga/mkt/201902/results/concatenation/binRecomb'),load,.GlobalEnv)"
   ]
  },
  {
   "cell_type": "code",
   "execution_count": null,
   "metadata": {
    "hidden": true
   },
   "outputs": [],
   "source": [
    "outputRec1RAL$group <- 1; outputRec2RAL$group <- 2; outputRec3RAL$group <- 3; outputRec4RAL$group <- 4; outputRec5RAL$group <- 5\n",
    "\n",
    "outputRecTotal <- rbind(outputRec1RAL,outputRec2RAL,outputRec3RAL,outputRec4RAL,outputRec5RAL)\n",
    "\n",
    "dataPlot <- melt(outputRecTotal,id=c(\"group\"),measure.vars = c('alphaStandard','alphaFWW0.05','alphaFWW0.15','alphaDGRP0.05','alphaDGRP0.15','alphaiMKT'))\n",
    "\n",
    "# group = recombination category; value = alpha; variable = mkt method\n",
    "\n",
    "plotRecombinationRAL <- ggplot(dataPlot, aes(x = as.factor(group), y = value, fill =variable)) + \n",
    "    geom_boxplot( color = \"grey20\",alpha = 0.7) +\n",
    "themePublication() +\n",
    "labs(x = \"Recombination categories in Raleigh population\", y = expression(italic(α))) + \n",
    "scale_y_continuous(breaks = pretty(dataPlot$value, n = 8))  + \n",
    "scale_x_discrete(name = \"Recombination rate categories\", labels = c(\"1\" = \"[0,0.653]\", \"2\" = \"(0.653,1.52]\", \"3\" = \"(1.52,2.39]\", \"4\" = \"(2.39,3.58]\", \"5\" = \"(3.58,14.8]\")) + \n",
    "theme(legend.justification=c(1,1), legend.position = \"right\", legend.direction = \"vertical\",  legend.key.size = unit(1, 'lines')) +\n",
    "scaleFillPublication(name=\"Method\", labels = c(\"alphaStandard\" = \"MKT standard\", \"alphaDGRP0.05\" = \"MKT DGRP 5%\", \"alphaDGRP0.15\" = \"MKT DGRP 10%\", \"alphaFWW0.05\" = \"MKT FWW 5%\", \"alphaFWW0.15\" = \"MKT FWW 10%\",\"alphaiMKT\" = \"Asymptotic MKT\"))\n",
    "\n",
    "ggsave(plotRecombinationRAL,file='/home/jmurga/mkt/201902/results/concatenation/binRecomb/recombRAL.png',dpi=300,width = 10,height = 10)"
   ]
  },
  {
   "cell_type": "markdown",
   "metadata": {
    "heading_collapsed": true,
    "hidden": true
   },
   "source": [
    "##### Zi analysis"
   ]
  },
  {
   "cell_type": "code",
   "execution_count": null,
   "metadata": {
    "hidden": true
   },
   "outputs": [],
   "source": [
    "bootSamplesRec1 <- samplingGenes(geneList = genesRec1$id,B=1000,bins=length(genesRec1$id))\n",
    "outputRec1Zi <- sampleAnalysis(data=PopFlyData,sampling = bootSamplesRec1,bins = 1000,population='ZI')\n",
    "\n",
    "bootSamplesRec2 <- samplingGenes(geneList = genesRec2$id,B=1000,bins=length(genesRec2$id))\n",
    "outputRec2Zi <- sampleAnalysis(data=PopFlyData,sampling = bootSamplesRec2,bins = 1000,population='ZI')\n",
    "\n",
    "bootSamplesRec3 <- samplingGenes(geneList = genesRec3$id,B=1000,bins=length(genesRec3$id))\n",
    "outputRec3Zi <- sampleAnalysis(data=PopFlyData,sampling = bootSamplesRec3,bins = 1000,population='ZI')\n",
    "\n",
    "bootSamplesRec4 <- samplingGenes(geneList = genesRec4$id,B=1000,bins=length(genesRec4$id))\n",
    "outputRec4Zi <- sampleAnalysis(data=PopFlyData,sampling = bootSamplesRec4,bins = 1000,population='ZI')\n",
    "\n",
    "bootSamplesRec5 <- samplingGenes(geneList = genesRec5$id,B=1000,bins=length(genesRec5$id))\n",
    "outputRec5Zi <- sampleAnalysis(data=PopFlyData,sampling = bootSamplesRec5,bins = 1000,population='ZI')"
   ]
  },
  {
   "cell_type": "markdown",
   "metadata": {
    "hidden": true
   },
   "source": [
    "#### Human data"
   ]
  },
  {
   "cell_type": "code",
   "execution_count": 19,
   "metadata": {
    "hidden": true
   },
   "outputs": [],
   "source": [
    "# CEU POPULATION\n",
    "CeuData <- subset(PopHumanData, PopHumanData$pop == \"CEU\")\n",
    "\n",
    "# CEUData genes into five equally sized groups depending on their recombination rates\n",
    "CeuData$recQuartile <- with(CeuData, cut(recomb, breaks=quantile(recomb,probs=seq(0,1, by=0.2), na.rm=TRUE), include.lowest=TRUE))\n",
    "\n",
    "genesRec1 <- subset(CeuData,CeuData$recQuartile==unique(sort(CeuData$recQuartile))[1])\n",
    "genesRec2 <- subset(CeuData,CeuData$recQuartile==unique(sort(CeuData$recQuartile))[2])\n",
    "genesRec3 <- subset(CeuData,CeuData$recQuartile==unique(sort(CeuData$recQuartile))[3])\n",
    "genesRec4 <- subset(CeuData,CeuData$recQuartile==unique(sort(CeuData$recQuartile))[4])\n",
    "genesRec5 <- subset(CeuData,CeuData$recQuartile==unique(sort(CeuData$recQuartile))[5])\n"
   ]
  },
  {
   "cell_type": "markdown",
   "metadata": {
    "heading_collapsed": true,
    "hidden": true
   },
   "source": [
    "##### CEU analysis"
   ]
  },
  {
   "cell_type": "code",
   "execution_count": null,
   "metadata": {
    "hidden": true
   },
   "outputs": [],
   "source": [
    "bootSamplesRec1 <- samplingGenes(geneList = genesRec1$id,B=1000,bins=length(genesRec1$id))\n",
    "outputRec1CEU <- sampleAnalysis(data=PopHumanData,sampling = bootSamplesRec1,bins = 1000,population='CEU')\n",
    "\n",
    "bootSamplesRec2 <- samplingGenes(geneList = genesRec2$id,B=1000,bins=length(genesRec2$id))\n",
    "outputRec2CEU <- sampleAnalysis(data=PopHumanData,sampling = bootSamplesRec2,bins = 1000,population='CEU')\n",
    "\n",
    "bootSamplesRec3 <- samplingGenes(geneList = genesRec3$id,B=1000,bins=length(genesRec3$id))\n",
    "outputRec3CEU <- sampleAnalysis(data=PopHumanData,sampling = bootSamplesRec3,bins = 1000,population='CEU')\n",
    "\n",
    "bootSamplesRec4 <- samplingGenes(geneList = genesRec4$id,B=1000,bins=length(genesRec4$id))\n",
    "outputRec4CEU <- sampleAnalysis(data=PopHumanData,sampling = bootSamplesRec4,bins = 1000,population='CEU')\n",
    "\n",
    "bootSamplesRec5 <- samplingGenes(geneList = genesRec5$id,B=1000,bins=length(genesRec5$id))\n",
    "outputRec5CEU <- sampleAnalysis(data=PopHumanData,sampling = bootSamplesRec5,bins = 1000,population='CEU')"
   ]
  },
  {
   "cell_type": "markdown",
   "metadata": {
    "heading_collapsed": true,
    "hidden": true
   },
   "source": [
    "##### YRI analysis"
   ]
  },
  {
   "cell_type": "code",
   "execution_count": null,
   "metadata": {
    "hidden": true
   },
   "outputs": [],
   "source": [
    "bootSamplesRec1 <- samplingGenes(geneList = genesRec1$id,B=1000,bins=length(genesRec1$Name))\n",
    "outputRec1Yri <- sampleAnalysis(data=PopHumanData,sampling = bootSamplesRec1,bins = 1000,population='YRI')\n",
    "\n",
    "bootSamplesRec2 <- samplingGenes(geneList = genesRec2$id,B=1000,bins=length(genesRec2$Name))\n",
    "outputRec2Yri <- sampleAnalysis(data=PopHumanData,sampling = bootSamplesRec2,bins = 1000,population='YRI')\n",
    "\n",
    "bootSamplesRec3 <- samplingGenes(geneList = genesRec3$id,B=1000,bins=length(genesRec3$Name))\n",
    "outputRec3Yri <- sampleAnalysis(data=PopHumanData,sampling = bootSamplesRec3,bins = 1000,population='YRI')\n",
    "\n",
    "bootSamplesRec4 <- samplingGenes(geneList = genesRec4$id,B=1000,bins=length(genesRec4$Name))\n",
    "outputRec4Yri <- sampleAnalysis(data=PopHumanData,sampling = bootSamplesRec4,bins = 1000,population='YRI')\n",
    "\n",
    "bootSamplesRec5 <- samplingGenes(geneList = genesRec5$id,B=1000,bins=length(genesRec5$Name))\n",
    "outputRec5Yri <- sampleAnalysis(data=PopHumanData,sampling = bootSamplesRec5,bins = 1000,population='YRI')"
   ]
  },
  {
   "cell_type": "markdown",
   "metadata": {
    "hidden": true
   },
   "source": [
    "##### Plot"
   ]
  },
  {
   "cell_type": "code",
   "execution_count": null,
   "metadata": {
    "hidden": true
   },
   "outputs": [],
   "source": [
    "humanRecomb <- lapply(list.files(pattern=\"*Ceu*\",include.dirs=T,full.names=T,path='/home/jmurga/mkt/201902/results/concatenation/binRecomb'),load,.GlobalEnv)"
   ]
  },
  {
   "cell_type": "code",
   "execution_count": null,
   "metadata": {
    "hidden": true
   },
   "outputs": [],
   "source": [
    "outputRec1CEU$group <- 1; outputRec2CEU$group <- 2; outputRec3CEU$group <- 3; outputRec4CEU$group <- 4; outputRec5CEU$group <- 5\n",
    "\n",
    "outputRecTotal <- rbind(outputRec1CEU,outputRec2CEU,outputRec3CEU,outputRec4CEU,outputRec5CEU)\n",
    "\n",
    "dataPlot <- melt(outputRecTotal,id=c(\"group\"),measure.vars = c('alphaStandard','alphaFWW0.05','alphaFWW0.15','alphaDGRP0.05','alphaDGRP0.15','alphaiMKT'))\n",
    "\n",
    "# group = recombination category; value = alpha; variable = mkt method\n",
    "\n",
    "plotRecombinationCEU <- ggplot(dataPlot, aes(x = as.factor(group), y = value, fill =variable)) + \n",
    "    geom_boxplot( color = \"grey20\",alpha = 0.7) +\n",
    "    labs(x = \"Recombination categories\", y = expression(italic(α))) +\n",
    "themePublication() +\n",
    "    scaleFillPublication(name=\"Method\", labels = c(\"alphaStandard\" = \"MKT standard\", \"alphaDGRP0.05\" = \"MKT DGRP 5%\", \"alphaDGRP0.15\" = \"MKT DGRP 10%\", \"alphaFWW0.05\" = \"MKT FWW 5%\", \"alphaFWW0.15\" = \"MKT FWW 10%\",\"alphaiMKT\" = \"Asymptotic MKT\",\"alphaasym\" = \"Asymptotic MKT\",\"DFE_alpha\" = \"DFE-alpha\")) + \n",
    "scale_y_continuous(breaks = pretty(dataPlot$value, n = 8))  + \n",
    "    scale_x_discrete(name = \"Recombination rate categories\", labels = c(\"1\" = \"[0,0.653]\", \"2\" = \"(0.653,1.52]\", \"3\" = \"(1.52,2.39]\", \"4\" = \"(2.39,3.58]\", \"5\" = \"(3.58,14.8]\")) + \n",
    "    theme(legend.justification=c(1,1), legend.position = \"right\", legend.direction = \"vertical\",  legend.key.size = unit(1, 'lines'))\n",
    "ggsave(plotRecombinationCEU,file='/home/jmurga/mkt/201902/results/concatenation/binRecomb/recombCEU.png',dpi=300,height = 10,width = 10)   "
   ]
  }
 ],
 "metadata": {
  "kernelspec": {
   "display_name": "R",
   "language": "R",
   "name": "ir"
  },
  "language_info": {
   "codemirror_mode": "r",
   "file_extension": ".r",
   "mimetype": "text/x-r-source",
   "name": "R",
   "pygments_lexer": "r",
   "version": "3.5.1"
  },
  "toc": {
   "base_numbering": 1,
   "nav_menu": {},
   "number_sections": true,
   "sideBar": true,
   "skip_h1_title": false,
   "title_cell": "Table of Contents",
   "title_sidebar": "Contents",
   "toc_cell": false,
   "toc_position": {},
   "toc_section_display": true,
   "toc_window_display": false
  },
  "varInspector": {
   "cols": {
    "lenName": 16,
    "lenType": 16,
    "lenVar": 40
   },
   "kernels_config": {
    "python": {
     "delete_cmd_postfix": "",
     "delete_cmd_prefix": "del ",
     "library": "var_list.py",
     "varRefreshCmd": "print(var_dic_list())"
    },
    "r": {
     "delete_cmd_postfix": ") ",
     "delete_cmd_prefix": "rm(",
     "library": "var_list.r",
     "varRefreshCmd": "cat(var_dic_list()) "
    }
   },
   "types_to_exclude": [
    "module",
    "function",
    "builtin_function_or_method",
    "instance",
    "_Feature"
   ],
   "window_display": false
  }
 },
 "nbformat": 4,
 "nbformat_minor": 2
}
