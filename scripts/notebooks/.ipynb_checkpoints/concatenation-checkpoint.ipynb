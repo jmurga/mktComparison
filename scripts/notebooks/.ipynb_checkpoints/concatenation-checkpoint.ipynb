{
 "cells": [
  {
   "cell_type": "code",
   "execution_count": 21,
   "metadata": {
    "ExecuteTime": {
     "end_time": "2019-02-26T15:42:00.209592Z",
     "start_time": "2019-02-26T15:45:39.340Z"
    }
   },
   "outputs": [],
   "source": [
    "library(iMKT)\n",
    "source('/home/jmurga/mkt/201902/scripts/src/concatenation.R')\n",
    "loadPopFly()"
   ]
  },
  {
   "cell_type": "code",
   "execution_count": 16,
   "metadata": {
    "ExecuteTime": {
     "end_time": "2019-02-26T14:35:01.178331Z",
     "start_time": "2019-02-26T14:38:24.802Z"
    }
   },
   "outputs": [],
   "source": [
    "genes <- unique(PopFlyData[['Name']]) %>% as.matrix()"
   ]
  },
  {
   "cell_type": "markdown",
   "metadata": {},
   "source": [
    " Boot samples bins 2 "
   ]
  },
  {
   "cell_type": "code",
   "execution_count": 25,
   "metadata": {
    "ExecuteTime": {
     "end_time": "2019-02-26T15:52:59.466933Z",
     "start_time": "2019-02-26T15:56:38.487Z"
    }
   },
   "outputs": [],
   "source": [
    "bootSamplesBin2 <- samplingGenes(geneList = genes,sample=1000,B=10000,bins=1000)"
   ]
  },
  {
   "cell_type": "code",
   "execution_count": 27,
   "metadata": {
    "ExecuteTime": {
     "end_time": "2019-02-26T16:15:07.071130Z",
     "start_time": "2019-02-26T16:18:45.109Z"
    }
   },
   "outputs": [],
   "source": [
    "save(bootSamplesBin2,file='/home/jmurga/test.RData')"
   ]
  },
  {
   "cell_type": "code",
   "execution_count": null,
   "metadata": {},
   "outputs": [],
   "source": [
    "test <- sampleAnalysis(data=PopFlyData,sampling = bootSamplesBin2,bins = 2)"
   ]
  }
 ],
 "metadata": {
  "kernelspec": {
   "display_name": "R",
   "language": "R",
   "name": "ir"
  },
  "language_info": {
   "codemirror_mode": "r",
   "file_extension": ".r",
   "mimetype": "text/x-r-source",
   "name": "R",
   "pygments_lexer": "r",
   "version": "3.5.1"
  },
  "toc": {
   "base_numbering": 1,
   "nav_menu": {},
   "number_sections": true,
   "sideBar": true,
   "skip_h1_title": false,
   "title_cell": "Table of Contents",
   "title_sidebar": "Contents",
   "toc_cell": false,
   "toc_position": {},
   "toc_section_display": true,
   "toc_window_display": false
  },
  "varInspector": {
   "cols": {
    "lenName": 16,
    "lenType": 16,
    "lenVar": 40
   },
   "kernels_config": {
    "python": {
     "delete_cmd_postfix": "",
     "delete_cmd_prefix": "del ",
     "library": "var_list.py",
     "varRefreshCmd": "print(var_dic_list())"
    },
    "r": {
     "delete_cmd_postfix": ") ",
     "delete_cmd_prefix": "rm(",
     "library": "var_list.r",
     "varRefreshCmd": "cat(var_dic_list()) "
    }
   },
   "types_to_exclude": [
    "module",
    "function",
    "builtin_function_or_method",
    "instance",
    "_Feature"
   ],
   "window_display": false
  }
 },
 "nbformat": 4,
 "nbformat_minor": 2
}
