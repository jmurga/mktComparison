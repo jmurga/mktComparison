{
 "cells": [
  {
   "cell_type": "code",
   "execution_count": 8,
   "metadata": {
    "ExecuteTime": {
     "end_time": "2019-03-15T14:45:21.895956Z",
     "start_time": "2019-03-15T14:48:56.932Z"
    },
    "scrolled": true
   },
   "outputs": [],
   "source": [
    "library(repr)\n",
    "library(iMKT)\n",
    "library(dplyr)  \n",
    "library(data.table)\n",
    "library(cowplot)\n",
    "source('/home/jmurga/mkt/201902/scripts/src/concatenation.R')\n",
    "source('/home/jmurga/mkt/201902/scripts/src/plotStyle.R')\n",
    "PopFlyData <- fread('/home/jmurga/mkt/201902/results/dmelData.tab', header = T, sep = \"\\t\")\n",
    "PopHumanData <- fread('/home/jmurga/mkt/201902/results/humanData.tab', header = T, sep = \"\\t\")"
   ]
  },
  {
   "cell_type": "code",
   "execution_count": 26,
   "metadata": {
    "ExecuteTime": {
     "end_time": "2019-03-13T12:00:52.898400Z",
     "start_time": "2019-03-13T12:04:06.992Z"
    }
   },
   "outputs": [],
   "source": [
    "options(repr.plot.width=7, repr.plot.height=7)"
   ]
  },
  {
   "cell_type": "markdown",
   "metadata": {},
   "source": [
    "### Resampling analysis"
   ]
  },
  {
   "cell_type": "markdown",
   "metadata": {},
   "source": [
    "#### Raleigh"
   ]
  },
  {
   "cell_type": "code",
   "execution_count": null,
   "metadata": {
    "ExecuteTime": {
     "end_time": "2019-03-12T16:14:34.521089Z",
     "start_time": "2019-03-12T16:17:53.801Z"
    },
    "code_folding": [
     0
    ]
   },
   "outputs": [],
   "source": [
    "genes <- unique(PopFlyData[['id']]) %>% as.matrix()"
   ]
  },
  {
   "cell_type": "code",
   "execution_count": null,
   "metadata": {
    "ExecuteTime": {
     "end_time": "2019-03-12T16:14:34.532813Z",
     "start_time": "2019-03-12T16:17:58.676Z"
    }
   },
   "outputs": [],
   "source": [
    "set.seed(13753)\n",
    "subsetGenes <- sample(genes,size=1000)"
   ]
  },
  {
   "cell_type": "markdown",
   "metadata": {
    "heading_collapsed": true
   },
   "source": [
    "##### Boot samples bins 1"
   ]
  },
  {
   "cell_type": "code",
   "execution_count": 126,
   "metadata": {
    "ExecuteTime": {
     "end_time": "2019-02-26T15:52:59.466933Z",
     "start_time": "2019-02-26T15:56:38.487Z"
    },
    "hidden": true
   },
   "outputs": [],
   "source": [
    "bootSamplesBin1 <- samplingGenes(geneList = subsetGenes,B=3500,bins=1)"
   ]
  },
  {
   "cell_type": "code",
   "execution_count": null,
   "metadata": {
    "hidden": true
   },
   "outputs": [],
   "source": [
    "outputRAL1 <- sampleAnalysis(data=PopFlyData,sampling = bootSamplesBin1,bins = 1,population='RAL')"
   ]
  },
  {
   "cell_type": "markdown",
   "metadata": {
    "heading_collapsed": true
   },
   "source": [
    "##### Boot samples bins 2"
   ]
  },
  {
   "cell_type": "code",
   "execution_count": 25,
   "metadata": {
    "ExecuteTime": {
     "end_time": "2019-02-26T15:52:59.466933Z",
     "start_time": "2019-02-26T15:56:38.487Z"
    },
    "hidden": true
   },
   "outputs": [],
   "source": [
    "bootSamplesBin2 <- samplingGenes(geneList = subsetGenes,B=3500,bins=2)"
   ]
  },
  {
   "cell_type": "code",
   "execution_count": null,
   "metadata": {
    "hidden": true
   },
   "outputs": [],
   "source": [
    "outputRAL2 <- sampleAnalysis(data=PopFlyData,sampling = bootSamplesBin2,bins = 2,population='RAL')"
   ]
  },
  {
   "cell_type": "markdown",
   "metadata": {
    "heading_collapsed": true
   },
   "source": [
    "##### Boot samples bins 5"
   ]
  },
  {
   "cell_type": "code",
   "execution_count": 25,
   "metadata": {
    "ExecuteTime": {
     "end_time": "2019-02-26T15:52:59.466933Z",
     "start_time": "2019-02-26T15:56:38.487Z"
    },
    "hidden": true
   },
   "outputs": [],
   "source": [
    "bootSamplesBin5 <- samplingGenes(geneList = subsetGenes,B=3500,bins=5)"
   ]
  },
  {
   "cell_type": "code",
   "execution_count": null,
   "metadata": {
    "hidden": true
   },
   "outputs": [],
   "source": [
    "outputRAL5 <- sampleAnalysis(data=PopFlyData,sampling = bootSamplesBin2,bins = 5,population='RAL')"
   ]
  },
  {
   "cell_type": "markdown",
   "metadata": {
    "heading_collapsed": true
   },
   "source": [
    "##### Boot samples bins 10"
   ]
  },
  {
   "cell_type": "code",
   "execution_count": 25,
   "metadata": {
    "ExecuteTime": {
     "end_time": "2019-02-26T15:52:59.466933Z",
     "start_time": "2019-02-26T15:56:38.487Z"
    },
    "hidden": true
   },
   "outputs": [],
   "source": [
    "bootSamplesBin10 <- samplingGenes(geneList = subsetGenes,B=3500,bins=10)"
   ]
  },
  {
   "cell_type": "code",
   "execution_count": null,
   "metadata": {
    "hidden": true
   },
   "outputs": [],
   "source": [
    "outputRAL10 <- sampleAnalysis(data=PopFlyData,sampling = bootSamplesBin2,bins = 10,population='RAL')"
   ]
  },
  {
   "cell_type": "markdown",
   "metadata": {
    "heading_collapsed": true
   },
   "source": [
    "##### Boot samples bins 25"
   ]
  },
  {
   "cell_type": "code",
   "execution_count": 25,
   "metadata": {
    "ExecuteTime": {
     "end_time": "2019-02-26T15:52:59.466933Z",
     "start_time": "2019-02-26T15:56:38.487Z"
    },
    "hidden": true
   },
   "outputs": [],
   "source": [
    "bootSamplesBin25 <- samplingGenes(geneList = subsetGenes,B=3500,bins=25)"
   ]
  },
  {
   "cell_type": "code",
   "execution_count": null,
   "metadata": {
    "hidden": true
   },
   "outputs": [],
   "source": [
    "outputRAL25 <- sampleAnalysis(data=PopFlyData,sampling = bootSamplesBin2,bins = 25,population='RAL')"
   ]
  },
  {
   "cell_type": "markdown",
   "metadata": {
    "heading_collapsed": true
   },
   "source": [
    "##### Boot samples bins 50"
   ]
  },
  {
   "cell_type": "code",
   "execution_count": 25,
   "metadata": {
    "ExecuteTime": {
     "end_time": "2019-02-26T15:52:59.466933Z",
     "start_time": "2019-02-26T15:56:38.487Z"
    },
    "hidden": true
   },
   "outputs": [],
   "source": [
    "bootSamplesBin50 <- samplingGenes(geneList = subsetGenes,B=3500,bins=50)"
   ]
  },
  {
   "cell_type": "code",
   "execution_count": null,
   "metadata": {
    "hidden": true
   },
   "outputs": [],
   "source": [
    "outputRAL50 <- sampleAnalysis(data=PopFlyData,sampling = bootSamplesBin2,bins = 50,population='RAL')"
   ]
  },
  {
   "cell_type": "markdown",
   "metadata": {
    "heading_collapsed": true
   },
   "source": [
    "##### Boot samples bins 75"
   ]
  },
  {
   "cell_type": "code",
   "execution_count": null,
   "metadata": {
    "hidden": true
   },
   "outputs": [],
   "source": [
    "bootSamplesBin75 <- samplingGenes(geneList = subsetGenes,B=3500,bins=75 )"
   ]
  },
  {
   "cell_type": "code",
   "execution_count": null,
   "metadata": {
    "hidden": true
   },
   "outputs": [],
   "source": [
    "outputRAL75 <- sampleAnalysis(data=PopFlyData,sampling = bootSamplesBin75,bins = 75,population='RAL')"
   ]
  },
  {
   "cell_type": "markdown",
   "metadata": {
    "heading_collapsed": true
   },
   "source": [
    "##### Boot samples bins 100"
   ]
  },
  {
   "cell_type": "code",
   "execution_count": 25,
   "metadata": {
    "ExecuteTime": {
     "end_time": "2019-02-26T15:52:59.466933Z",
     "start_time": "2019-02-26T15:56:38.487Z"
    },
    "hidden": true
   },
   "outputs": [],
   "source": [
    "bootSamplesBin100 <- samplingGenes(geneList = subsetGenes,B=3500,bins=100)"
   ]
  },
  {
   "cell_type": "code",
   "execution_count": null,
   "metadata": {
    "hidden": true
   },
   "outputs": [],
   "source": [
    "outputRAL100 <- sampleAnalysis(data=PopFlyData,sampling = bootSamplesBin2,bins = 100,population='RAL')"
   ]
  },
  {
   "cell_type": "markdown",
   "metadata": {
    "heading_collapsed": true
   },
   "source": [
    "##### Boot samples bins 250"
   ]
  },
  {
   "cell_type": "code",
   "execution_count": 25,
   "metadata": {
    "ExecuteTime": {
     "end_time": "2019-02-26T15:52:59.466933Z",
     "start_time": "2019-02-26T15:56:38.487Z"
    },
    "hidden": true
   },
   "outputs": [],
   "source": [
    "bootSamplesBin250<- samplingGenes(geneList = subsetGenes,B=3500,bins=250)"
   ]
  },
  {
   "cell_type": "code",
   "execution_count": null,
   "metadata": {
    "hidden": true
   },
   "outputs": [],
   "source": [
    "outputRAL250 <- sampleAnalysis(data=PopFlyData,sampling = bootSamplesBin2,bins = 250,population='RAL')"
   ]
  },
  {
   "cell_type": "markdown",
   "metadata": {
    "heading_collapsed": true
   },
   "source": [
    "##### Boot samples bins 500"
   ]
  },
  {
   "cell_type": "code",
   "execution_count": 25,
   "metadata": {
    "ExecuteTime": {
     "end_time": "2019-02-26T15:52:59.466933Z",
     "start_time": "2019-02-26T15:56:38.487Z"
    },
    "hidden": true
   },
   "outputs": [],
   "source": [
    "bootSamplesBin500 <- samplingGenes(geneList = subsetGenes,B=3500,bins=500)"
   ]
  },
  {
   "cell_type": "code",
   "execution_count": null,
   "metadata": {
    "hidden": true
   },
   "outputs": [],
   "source": [
    "outputRAL500 <- sampleAnalysis(data=PopFlyData,sampling = bootSamplesBin500,bins = 500,population='RAL')"
   ]
  },
  {
   "cell_type": "markdown",
   "metadata": {
    "heading_collapsed": true
   },
   "source": [
    "##### Boot samples bins 750"
   ]
  },
  {
   "cell_type": "code",
   "execution_count": null,
   "metadata": {
    "hidden": true
   },
   "outputs": [],
   "source": [
    "bootSamplesBin750 <- samplingGenes(geneList = subsetGenes,B=3500,bins=750)"
   ]
  },
  {
   "cell_type": "code",
   "execution_count": null,
   "metadata": {
    "hidden": true
   },
   "outputs": [],
   "source": [
    "outputRAL750 <- sampleAnalysis(data=PopFlyData,sampling = bootSamplesBin750,bins = 750,population='RAL')"
   ]
  },
  {
   "cell_type": "markdown",
   "metadata": {
    "heading_collapsed": true
   },
   "source": [
    "##### Boot samples bins 1000"
   ]
  },
  {
   "cell_type": "code",
   "execution_count": null,
   "metadata": {
    "hidden": true
   },
   "outputs": [],
   "source": [
    "bootSamplesBin1000 <- samplingGenes(geneList = subsetGenes,B=3500,bins=1000)\n",
    "outputRAL1000 <- sampleAnalysis(data=PopFlyData,sampling = bootSamplesBin1000,bins =1000,population='RAL')"
   ]
  },
  {
   "cell_type": "markdown",
   "metadata": {},
   "source": [
    "##### Plot"
   ]
  },
  {
   "cell_type": "code",
   "execution_count": 1,
   "metadata": {
    "ExecuteTime": {
     "end_time": "2019-03-15T14:43:18.094760Z",
     "start_time": "2019-03-15T14:46:53.210Z"
    }
   },
   "outputs": [],
   "source": [
    "ralConcat <- lapply(list.files(pattern=\"*RAL*\",include.dirs=T,full.names=T,path='/home/jmurga/mkt/201902/results/concatenation'),load,.GlobalEnv)"
   ]
  },
  {
   "cell_type": "code",
   "execution_count": 9,
   "metadata": {
    "ExecuteTime": {
     "end_time": "2019-03-15T14:45:44.913594Z",
     "start_time": "2019-03-15T14:48:59.707Z"
    }
   },
   "outputs": [],
   "source": [
    "options(repr.plot.width=7, repr.plot.height=7)"
   ]
  },
  {
   "cell_type": "code",
   "execution_count": 10,
   "metadata": {
    "ExecuteTime": {
     "end_time": "2019-03-15T14:46:08.616163Z",
     "start_time": "2019-03-15T14:49:18.309Z"
    }
   },
   "outputs": [
    {
     "name": "stderr",
     "output_type": "stream",
     "text": [
      "Scale for 'y' is already present. Adding another scale for 'y', which will\n",
      "replace the existing scale.\n",
      "Warning message:\n",
      "“Removed 25017 rows containing non-finite values (stat_boxplot).”Warning message:\n",
      "“Removed 25017 rows containing non-finite values (stat_summary).”"
     ]
    },
    {
     "data": {
      "image/png": "[encoded data removed]",
      "text/plain": [
       "plot without title"
      ]
     },
     "metadata": {},
     "output_type": "display_data"
    }
   ],
   "source": [
    "dataPlot<- rbind(outputRAL1,\n",
    "                outputRAL2,\n",
    "                outputRAL5,\n",
    "                outputRAL10,\n",
    "                outputRAL25,\n",
    "                outputRAL50,\n",
    "                outputRAL75,\n",
    "                outputRAL100,\n",
    "                outputRAL250,\n",
    "                outputRAL500,\n",
    "                outputRAL750,\n",
    "                outputRAL1000)\n",
    "\n",
    "dataPlot[['bin']] <- factor(dataPlot[['bin']], levels = unique(dataPlot$bin))\n",
    "\n",
    "#\" alphaStandard\" \"alphaDGRP0.05\" \"alphaDGRP0.15\" \"alphaFWW0.05\"  \"alphaFWW0.15\" \"resultiMK\"\n",
    "boxPlotConcatRal <- ggplot(dataPlot,aes(x = bin, y = alphaiMKT)) + \n",
    "    geom_boxplot(color=\"grey20\",alpha=0.7,fill=\"#386cb0\") +    \n",
    "    labs(x = \"Bins\", y=expression(italic(α))) +\n",
    "    themePublication() + \n",
    "    scaleFillPublication() +\n",
    "    scale_y_continuous(breaks = pretty(dataPlot$alphaStandard, n = 5)) +\n",
    "    stat_summary(fun.y=mean, colour=\"grey20\", geom=\"point\", size=3) +\n",
    "    theme(axis.title.x = element_blank(), axis.ticks.x = element_blank(), axis.text.x = element_blank()) + \n",
    "    ylim(c(-3,3))\n",
    "\n",
    "boxPlotConcatRal"
   ]
  },
  {
   "cell_type": "code",
   "execution_count": 6,
   "metadata": {
    "ExecuteTime": {
     "end_time": "2019-03-15T14:44:10.566664Z",
     "start_time": "2019-03-15T14:47:05.207Z"
    },
    "scrolled": false
   },
   "outputs": [
    {
     "name": "stderr",
     "output_type": "stream",
     "text": [
      "\n",
      "Attaching package: ‘cowplot’\n",
      "\n",
      "The following object is masked from ‘package:ggthemes’:\n",
      "\n",
      "    theme_map\n",
      "\n",
      "The following object is masked from ‘package:ggplot2’:\n",
      "\n",
      "    ggsave\n",
      "\n",
      "Warning message:\n",
      "“Removed 25017 rows containing non-finite values (stat_boxplot).”Warning message:\n",
      "“Removed 25017 rows containing non-finite values (stat_summary).”"
     ]
    },
    {
     "data": {
      "image/png": "[encoded data removed]",
      "text/plain": [
       "plot without title"
      ]
     },
     "metadata": {},
     "output_type": "display_data"
    },
    {
     "data": {
      "image/png": "[encoded data removed]",
      "text/plain": [
       "plot without title"
      ]
     },
     "metadata": {},
     "output_type": "display_data"
    }
   ],
   "source": [
    "## el plot del num de bins analizables solo tiene sentido en el asimptotico\n",
    "bin <- rep(c(1,2,5,10,25,50,75,100,250,500,750,1000),2)\n",
    "type <- sort(rep(c(T,F),12), decreasing = T)\n",
    "\n",
    "# las fraciones las calcule a mano xo seria ver table(is.na(outputRAL25$alphaAsymptotic)/100) etc.\n",
    "\n",
    "fractions <- c(0.002,0.0054,0.030,0.152,0.616,0.860,0.930,0.975,1,1,1,1,\n",
    "               0.998,0.9946,0.970,0.848,0.384,0.140,0.070,0.025,0,0,0,0)\n",
    "fraction <- data.frame(bin,fractions,type)\n",
    "\n",
    "plotFraction <- ggplot(fraction) +\n",
    "    geom_bar(stat=\"identity\", aes_string(x=as.factor(bin), y=fractions, fill=type), color=\"black\")+\n",
    "    themePublication() + \n",
    "    ylab(label=\"Fraction\") + xlab(label=\"Bins\")  + \n",
    "    scaleFillPublication(name=\"Number of analyzable bins\") +\n",
    "    theme(axis.line=element_blank())\n",
    "\n",
    "plot_grid(boxPlotConcatRal,plotFraction,ncol = 1,rel_heights = c(1,0.25))"
   ]
  },
  {
   "cell_type": "markdown",
   "metadata": {
    "heading_collapsed": true
   },
   "source": [
    "#### CEU"
   ]
  },
  {
   "cell_type": "code",
   "execution_count": null,
   "metadata": {
    "ExecuteTime": {
     "end_time": "2019-03-12T16:14:34.521089Z",
     "start_time": "2019-03-12T16:17:53.801Z"
    },
    "code_folding": [],
    "hidden": true
   },
   "outputs": [],
   "source": [
    "genes <- unique(PopHumanData[['id']]) %>% as.matrix()"
   ]
  },
  {
   "cell_type": "code",
   "execution_count": null,
   "metadata": {
    "ExecuteTime": {
     "end_time": "2019-03-12T16:14:34.532813Z",
     "start_time": "2019-03-12T16:17:58.676Z"
    },
    "hidden": true
   },
   "outputs": [],
   "source": [
    "set.seed(13753)\n",
    "subsetGenes <- sample(genes,size=1000)"
   ]
  },
  {
   "cell_type": "markdown",
   "metadata": {
    "hidden": true
   },
   "source": [
    " ##### Boot samples bins 1 "
   ]
  },
  {
   "cell_type": "code",
   "execution_count": 126,
   "metadata": {
    "ExecuteTime": {
     "end_time": "2019-02-26T15:52:59.466933Z",
     "start_time": "2019-02-26T15:56:38.487Z"
    },
    "hidden": true
   },
   "outputs": [],
   "source": [
    "bootSamplesBin1 <- samplingGenes(geneList = subsetGenes,B=3500,bins=1)"
   ]
  },
  {
   "cell_type": "code",
   "execution_count": null,
   "metadata": {
    "hidden": true
   },
   "outputs": [],
   "source": [
    "outputCEU1 <- sampleAnalysis(data=PopHumanData,sampling = bootSamplesBin1,bins = 1,population='CEU')"
   ]
  },
  {
   "cell_type": "markdown",
   "metadata": {
    "heading_collapsed": true,
    "hidden": true
   },
   "source": [
    "##### Boot samples bins 2"
   ]
  },
  {
   "cell_type": "code",
   "execution_count": 25,
   "metadata": {
    "ExecuteTime": {
     "end_time": "2019-02-26T15:52:59.466933Z",
     "start_time": "2019-02-26T15:56:38.487Z"
    },
    "hidden": true
   },
   "outputs": [],
   "source": [
    "bootSamplesBin2 <- samplingGenes(geneList = subsetGenes,B=3500,bins=2)"
   ]
  },
  {
   "cell_type": "code",
   "execution_count": null,
   "metadata": {
    "hidden": true
   },
   "outputs": [],
   "source": [
    "outputCEU2 <- sampleAnalysis(data=PopHumanData,sampling = bootSamplesBin2,bins = 2,population='CEU')"
   ]
  },
  {
   "cell_type": "markdown",
   "metadata": {
    "heading_collapsed": true,
    "hidden": true
   },
   "source": [
    "##### Boot samples bins 5"
   ]
  },
  {
   "cell_type": "code",
   "execution_count": 25,
   "metadata": {
    "ExecuteTime": {
     "end_time": "2019-02-26T15:52:59.466933Z",
     "start_time": "2019-02-26T15:56:38.487Z"
    },
    "hidden": true
   },
   "outputs": [],
   "source": [
    "bootSamplesBin5 <- samplingGenes(geneList = subsetGenes,B=3500,bins=5)"
   ]
  },
  {
   "cell_type": "code",
   "execution_count": null,
   "metadata": {
    "hidden": true
   },
   "outputs": [],
   "source": [
    "outputCEU5 <- sampleAnalysis(data=PopHumanData,sampling = bootSamplesBin2,bins = 5,population='CEU')"
   ]
  },
  {
   "cell_type": "markdown",
   "metadata": {
    "heading_collapsed": true,
    "hidden": true
   },
   "source": [
    "##### Boot samples bins 10"
   ]
  },
  {
   "cell_type": "code",
   "execution_count": 25,
   "metadata": {
    "ExecuteTime": {
     "end_time": "2019-02-26T15:52:59.466933Z",
     "start_time": "2019-02-26T15:56:38.487Z"
    },
    "hidden": true
   },
   "outputs": [],
   "source": [
    "bootSamplesBin10 <- samplingGenes(geneList = subsetGenes,B=3500,bins=10)"
   ]
  },
  {
   "cell_type": "code",
   "execution_count": null,
   "metadata": {
    "hidden": true
   },
   "outputs": [],
   "source": [
    "outputCEU10 <- sampleAnalysis(data=PopHumanData,sampling = bootSamplesBin2,bins = 10,population='CEU')"
   ]
  },
  {
   "cell_type": "markdown",
   "metadata": {
    "heading_collapsed": true,
    "hidden": true
   },
   "source": [
    "##### Boot samples bins 25"
   ]
  },
  {
   "cell_type": "code",
   "execution_count": 25,
   "metadata": {
    "ExecuteTime": {
     "end_time": "2019-02-26T15:52:59.466933Z",
     "start_time": "2019-02-26T15:56:38.487Z"
    },
    "hidden": true
   },
   "outputs": [],
   "source": [
    "bootSamplesBin25 <- samplingGenes(geneList = subsetGenes,B=3500,bins=25)"
   ]
  },
  {
   "cell_type": "code",
   "execution_count": null,
   "metadata": {
    "hidden": true
   },
   "outputs": [],
   "source": [
    "outputCEU25 <- sampleAnalysis(data=PopHumanData,sampling = bootSamplesBin2,bins = 25,population='CEU')"
   ]
  },
  {
   "cell_type": "markdown",
   "metadata": {
    "hidden": true
   },
   "source": [
    "##### Boot samples bins 50"
   ]
  },
  {
   "cell_type": "code",
   "execution_count": 25,
   "metadata": {
    "ExecuteTime": {
     "end_time": "2019-02-26T15:52:59.466933Z",
     "start_time": "2019-02-26T15:56:38.487Z"
    },
    "hidden": true
   },
   "outputs": [],
   "source": [
    "bootSamplesBin50 <- samplingGenes(geneList = subsetGenes,B=3500,bins=50)"
   ]
  },
  {
   "cell_type": "code",
   "execution_count": null,
   "metadata": {
    "hidden": true
   },
   "outputs": [],
   "source": [
    "outputCEU50 <- sampleAnalysis(data=PopHumanData,sampling = bootSamplesBin2,bins = 50,population='CEU')"
   ]
  },
  {
   "cell_type": "markdown",
   "metadata": {
    "hidden": true
   },
   "source": [
    "##### Boot samples bins 75"
   ]
  },
  {
   "cell_type": "code",
   "execution_count": 25,
   "metadata": {
    "ExecuteTime": {
     "end_time": "2019-02-26T15:52:59.466933Z",
     "start_time": "2019-02-26T15:56:38.487Z"
    },
    "hidden": true
   },
   "outputs": [],
   "source": [
    "bootSamplesBin75 <- samplingGenes(geneList = subsetGenes,B=3500,bins=75)"
   ]
  },
  {
   "cell_type": "code",
   "execution_count": null,
   "metadata": {
    "hidden": true
   },
   "outputs": [],
   "source": [
    "outputCEU75 <- sampleAnalysis(data=PopHumanData,sampling = bootSamplesBin75,bins = 75,population='CEU')"
   ]
  },
  {
   "cell_type": "markdown",
   "metadata": {
    "heading_collapsed": true,
    "hidden": true
   },
   "source": [
    "##### Boot samples bins 100"
   ]
  },
  {
   "cell_type": "code",
   "execution_count": 25,
   "metadata": {
    "ExecuteTime": {
     "end_time": "2019-02-26T15:52:59.466933Z",
     "start_time": "2019-02-26T15:56:38.487Z"
    },
    "hidden": true
   },
   "outputs": [],
   "source": [
    "bootSamplesBin100 <- samplingGenes(geneList = subsetGenes,B=3500,bins=100)"
   ]
  },
  {
   "cell_type": "code",
   "execution_count": null,
   "metadata": {
    "hidden": true
   },
   "outputs": [],
   "source": [
    "outputCEU100 <- sampleAnalysis(data=PopHumanData,sampling = bootSamplesBin2,bins = 100,population='CEU')"
   ]
  },
  {
   "cell_type": "markdown",
   "metadata": {
    "heading_collapsed": true,
    "hidden": true
   },
   "source": [
    "##### Boot samples bins 250"
   ]
  },
  {
   "cell_type": "code",
   "execution_count": 25,
   "metadata": {
    "ExecuteTime": {
     "end_time": "2019-02-26T15:52:59.466933Z",
     "start_time": "2019-02-26T15:56:38.487Z"
    },
    "hidden": true
   },
   "outputs": [],
   "source": [
    "bootSamplesBin250<- samplingGenes(geneList = subsetGenes,B=3500,bins=250)"
   ]
  },
  {
   "cell_type": "code",
   "execution_count": null,
   "metadata": {
    "hidden": true
   },
   "outputs": [],
   "source": [
    "outputCEU250 <- sampleAnalysis(data=PopHumanData,sampling = bootSamplesBin2,bins = 250,population='CEU')"
   ]
  },
  {
   "cell_type": "markdown",
   "metadata": {
    "heading_collapsed": true,
    "hidden": true
   },
   "source": [
    "##### Boot samples bins 500"
   ]
  },
  {
   "cell_type": "code",
   "execution_count": 25,
   "metadata": {
    "ExecuteTime": {
     "end_time": "2019-02-26T15:52:59.466933Z",
     "start_time": "2019-02-26T15:56:38.487Z"
    },
    "hidden": true
   },
   "outputs": [],
   "source": [
    "bootSamplesBin500 <- samplingGenes(geneList = subsetGenes,B=3500,bins=500)"
   ]
  },
  {
   "cell_type": "code",
   "execution_count": null,
   "metadata": {
    "hidden": true
   },
   "outputs": [],
   "source": [
    "outputCEU500 <- sampleAnalysis(data=PopHumanData,sampling = bootSamplesBin2,bins = 500,population='CEU')"
   ]
  },
  {
   "cell_type": "markdown",
   "metadata": {
    "heading_collapsed": true,
    "hidden": true
   },
   "source": [
    "##### Boot samples bins 750"
   ]
  },
  {
   "cell_type": "code",
   "execution_count": 25,
   "metadata": {
    "ExecuteTime": {
     "end_time": "2019-02-26T15:52:59.466933Z",
     "start_time": "2019-02-26T15:56:38.487Z"
    },
    "hidden": true
   },
   "outputs": [],
   "source": [
    "bootSamplesBin750<- samplingGenes(geneList = subsetGenes,B=3500,bins=500)"
   ]
  },
  {
   "cell_type": "code",
   "execution_count": null,
   "metadata": {
    "hidden": true
   },
   "outputs": [],
   "source": [
    "outputCEU750 <- sampleAnalysis(data=PopHumanData,sampling = bootSamplesBin750,bins = 500,population='CEU')"
   ]
  },
  {
   "cell_type": "markdown",
   "metadata": {
    "heading_collapsed": true,
    "hidden": true
   },
   "source": [
    "##### Boot samples bins 1000"
   ]
  },
  {
   "cell_type": "code",
   "execution_count": 25,
   "metadata": {
    "ExecuteTime": {
     "end_time": "2019-02-26T15:52:59.466933Z",
     "start_time": "2019-02-26T15:56:38.487Z"
    },
    "hidden": true
   },
   "outputs": [],
   "source": [
    "bootSamplesBin1000 <- samplingGenes(geneList = subsetGenes,B=3500,bins=1000)"
   ]
  },
  {
   "cell_type": "code",
   "execution_count": null,
   "metadata": {
    "hidden": true
   },
   "outputs": [],
   "source": [
    "output1000 <- sampleAnalysis(data=PopFlyData,sampling = bootSamplesBin2,bins = 1000,population='RAL')"
   ]
  },
  {
   "cell_type": "markdown",
   "metadata": {
    "heading_collapsed": true
   },
   "source": [
    "### Recombination bins analysis"
   ]
  },
  {
   "cell_type": "markdown",
   "metadata": {
    "hidden": true
   },
   "source": [
    "#### *D. melanogaster* analysis"
   ]
  },
  {
   "cell_type": "code",
   "execution_count": 6,
   "metadata": {
    "ExecuteTime": {
     "end_time": "2019-03-12T16:28:30.827697Z",
     "start_time": "2019-03-12T16:32:06.154Z"
    },
    "hidden": true
   },
   "outputs": [],
   "source": [
    "RalData <- subset(PopFlyData, PopFlyData$pop == \"RAL\")\n",
    "# Divide genes into five equally sized groups depending on their recombination rates\n",
    "RalData$recQuartile <- with(RalData, cut(recomb, breaks=quantile(recomb,probs=seq(0,1, by=0.2), na.rm=TRUE), include.lowest=TRUE))\n",
    "\n",
    "genesRec1 <- subset(RalData,RalData$recQuartile==unique(sort(RalData$recQuartile))[1])\n",
    "genesRec2 <- subset(RalData,RalData$recQuartile==unique(sort(RalData$recQuartile))[2])\n",
    "genesRec3 <- subset(RalData,RalData$recQuartile==unique(sort(RalData$recQuartile))[3])\n",
    "genesRec4 <- subset(RalData,RalData$recQuartile==unique(sort(RalData$recQuartile))[4])\n",
    "genesRec5 <- subset(RalData,RalData$recQuartile==unique(sort(RalData$recQuartile))[5])"
   ]
  },
  {
   "cell_type": "markdown",
   "metadata": {
    "heading_collapsed": true,
    "hidden": true
   },
   "source": [
    "##### Ral analysis"
   ]
  },
  {
   "cell_type": "code",
   "execution_count": null,
   "metadata": {
    "hidden": true
   },
   "outputs": [],
   "source": [
    "bootSamplesRec1 <- samplingGenes(geneList = genesRec1$id,B=1000,bins=length(genesRec1$id))\n",
    "outputRec1RAL <- sampleAnalysis(data=PopFlyData,sampling = bootSamplesRec1,bins = 1000,population='RAL')\n",
    "\n",
    "bootSamplesRec2 <- samplingGenes(geneList = genesRec2$id,B=1000,bins=length(genesRec2$id))\n",
    "outputRec2RAL <- sampleAnalysis(data=PopFlyData,sampling = bootSamplesRec2,bins = 1000,population='RAL')\n",
    "\n",
    "bootSamplesRec3 <- samplingGenes(geneList = genesRec3$id,B=1000,bins=length(genesRec3$id))\n",
    "outputRec3RAL <- sampleAnalysis(data=PopFlyData,sampling = bootSamplesRec3,bins = 1000,population='RAL')\n",
    "\n",
    "bootSamplesRec4 <- samplingGenes(geneList = genesRec4$id,B=1000,bins=length(genesRec4$id))\n",
    "outputRec4RAL <- sampleAnalysis(data=PopFlyData,sampling = bootSamplesRec4,bins = 1000,population='RAL')\n",
    "\n",
    "bootSamplesRec5 <- samplingGenes(geneList = genesRec5$id,B=1000,bins=length(genesRec5$id))\n",
    "outputRec5RAL <- sampleAnalysis(data=PopFlyData,sampling = bootSamplesRec5,bins = 1000,population='RAL')"
   ]
  },
  {
   "cell_type": "code",
   "execution_count": null,
   "metadata": {
    "hidden": true
   },
   "outputs": [],
   "source": [
    "save(outputRec1RAL,file='/home/jmurga/mkt/201902/results/concatenation/binRecomb/outputRec1Ral.RData')\n",
    "save(outputRec2RAL,file='/home/jmurga/mkt/201902/results/concatenation/binRecomb/outputRec2Ral.RData')\n",
    "save(outputRec3RAL,file='/home/jmurga/mkt/201902/results/concatenation/binRecomb/outputRec3Ral.RData')\n",
    "save(outputRec4RAL,file='/home/jmurga/mkt/201902/results/concatenation/binRecomb/outputRec4Ral.RData')\n",
    "save(outputRec5RAL,file='/home/jmurga/mkt/201902/results/concatenation/binRecomb/outputRec5Ral.RData')"
   ]
  },
  {
   "cell_type": "markdown",
   "metadata": {
    "heading_collapsed": true,
    "hidden": true
   },
   "source": [
    "##### Plot"
   ]
  },
  {
   "cell_type": "code",
   "execution_count": null,
   "metadata": {
    "hidden": true
   },
   "outputs": [],
   "source": [
    "ralRecomb <- lapply(list.files(pattern=\"*Ral*\",include.dirs=T,full.names=T,path='/home/jmurga/mkt/201902/results/concatenation/binRecomb'),load,.GlobalEnv)"
   ]
  },
  {
   "cell_type": "code",
   "execution_count": null,
   "metadata": {
    "hidden": true
   },
   "outputs": [],
   "source": [
    "outputRec1RAL$group <- 1; outputRec2RAL$group <- 2; outputRec3RAL$group <- 3; outputRec4RAL$group <- 4; outputRec5RAL$group <- 5\n",
    "\n",
    "outputRecTotal <- rbind(outputRec1RAL,outputRec2RAL,outputRec3RAL,outputRec4RAL,outputRec5RAL)\n",
    "\n",
    "dataPlot <- melt(outputRecTotal,id=c(\"group\"),measure.vars = c('alphaStandard','alphaFWW0.05','alphaFWW0.15','alphaDGRP0.05','alphaDGRP0.15','alphaiMKT'))\n",
    "\n",
    "# group = recombination category; value = alpha; variable = mkt method\n",
    "\n",
    "plotRecombinationRAL <- ggplot(dataPlot, aes(x = as.factor(group), y = value, fill =variable)) + \n",
    "    geom_boxplot( color = \"grey20\",alpha = 0.7) +\n",
    "themePublication() +\n",
    "labs(x = \"Recombination categories in Raleigh population\", y = expression(italic(α))) + \n",
    "scale_y_continuous(breaks = pretty(dataPlot$value, n = 8))  + \n",
    "scale_x_discrete(name = \"Recombination rate categories\", labels = c(\"1\" = \"[0,0.653]\", \"2\" = \"(0.653,1.52]\", \"3\" = \"(1.52,2.39]\", \"4\" = \"(2.39,3.58]\", \"5\" = \"(3.58,14.8]\")) + \n",
    "theme(legend.justification=c(1,1), legend.position = \"right\", legend.direction = \"vertical\",  legend.key.size = unit(1, 'lines')) +\n",
    "scaleFillPublication(name=\"Method\", labels = c(\"alphaStandard\" = \"MKT standard\", \"alphaDGRP0.05\" = \"MKT DGRP 5%\", \"alphaDGRP0.15\" = \"MKT DGRP 10%\", \"alphaFWW0.05\" = \"MKT FWW 5%\", \"alphaFWW0.15\" = \"MKT FWW 10%\",\"alphaiMKT\" = \"Asymptotic MKT\"))\n",
    "\n",
    "ggsave(plotRecombinationRAL,file='/home/jmurga/mkt/201902/results/concatenation/binRecomb/recombRAL.png',dpi=300,width = 10,height = 10)"
   ]
  },
  {
   "cell_type": "markdown",
   "metadata": {
    "heading_collapsed": true,
    "hidden": true
   },
   "source": [
    "##### Zi analysis"
   ]
  },
  {
   "cell_type": "code",
   "execution_count": null,
   "metadata": {
    "hidden": true
   },
   "outputs": [],
   "source": [
    "bootSamplesRec1 <- samplingGenes(geneList = genesRec1$id,B=1000,bins=length(genesRec1$id))\n",
    "outputRec1Zi <- sampleAnalysis(data=PopFlyData,sampling = bootSamplesRec1,bins = 1000,population='ZI')\n",
    "\n",
    "bootSamplesRec2 <- samplingGenes(geneList = genesRec2$id,B=1000,bins=length(genesRec2$id))\n",
    "outputRec2Zi <- sampleAnalysis(data=PopFlyData,sampling = bootSamplesRec2,bins = 1000,population='ZI')\n",
    "\n",
    "bootSamplesRec3 <- samplingGenes(geneList = genesRec3$id,B=1000,bins=length(genesRec3$id))\n",
    "outputRec3Zi <- sampleAnalysis(data=PopFlyData,sampling = bootSamplesRec3,bins = 1000,population='ZI')\n",
    "\n",
    "bootSamplesRec4 <- samplingGenes(geneList = genesRec4$id,B=1000,bins=length(genesRec4$id))\n",
    "outputRec4Zi <- sampleAnalysis(data=PopFlyData,sampling = bootSamplesRec4,bins = 1000,population='ZI')\n",
    "\n",
    "bootSamplesRec5 <- samplingGenes(geneList = genesRec5$id,B=1000,bins=length(genesRec5$id))\n",
    "outputRec5Zi <- sampleAnalysis(data=PopFlyData,sampling = bootSamplesRec5,bins = 1000,population='ZI')"
   ]
  },
  {
   "cell_type": "markdown",
   "metadata": {
    "hidden": true
   },
   "source": [
    "#### Human data"
   ]
  },
  {
   "cell_type": "code",
   "execution_count": 19,
   "metadata": {
    "hidden": true
   },
   "outputs": [],
   "source": [
    "# CEU POPULATION\n",
    "CeuData <- subset(PopHumanData, PopHumanData$pop == \"CEU\")\n",
    "\n",
    "# CEUData genes into five equally sized groups depending on their recombination rates\n",
    "CeuData$recQuartile <- with(CeuData, cut(recomb, breaks=quantile(recomb,probs=seq(0,1, by=0.2), na.rm=TRUE), include.lowest=TRUE))\n",
    "\n",
    "genesRec1 <- subset(CeuData,CeuData$recQuartile==unique(sort(CeuData$recQuartile))[1])\n",
    "genesRec2 <- subset(CeuData,CeuData$recQuartile==unique(sort(CeuData$recQuartile))[2])\n",
    "genesRec3 <- subset(CeuData,CeuData$recQuartile==unique(sort(CeuData$recQuartile))[3])\n",
    "genesRec4 <- subset(CeuData,CeuData$recQuartile==unique(sort(CeuData$recQuartile))[4])\n",
    "genesRec5 <- subset(CeuData,CeuData$recQuartile==unique(sort(CeuData$recQuartile))[5])\n"
   ]
  },
  {
   "cell_type": "markdown",
   "metadata": {
    "heading_collapsed": true,
    "hidden": true
   },
   "source": [
    "##### CEU analysis"
   ]
  },
  {
   "cell_type": "code",
   "execution_count": null,
   "metadata": {
    "hidden": true
   },
   "outputs": [],
   "source": [
    "bootSamplesRec1 <- samplingGenes(geneList = genesRec1$id,B=1000,bins=length(genesRec1$id))\n",
    "outputRec1CEU <- sampleAnalysis(data=PopHumanData,sampling = bootSamplesRec1,bins = 1000,population='CEU')\n",
    "\n",
    "bootSamplesRec2 <- samplingGenes(geneList = genesRec2$id,B=1000,bins=length(genesRec2$id))\n",
    "outputRec2CEU <- sampleAnalysis(data=PopHumanData,sampling = bootSamplesRec2,bins = 1000,population='CEU')\n",
    "\n",
    "bootSamplesRec3 <- samplingGenes(geneList = genesRec3$id,B=1000,bins=length(genesRec3$id))\n",
    "outputRec3CEU <- sampleAnalysis(data=PopHumanData,sampling = bootSamplesRec3,bins = 1000,population='CEU')\n",
    "\n",
    "bootSamplesRec4 <- samplingGenes(geneList = genesRec4$id,B=1000,bins=length(genesRec4$id))\n",
    "outputRec4CEU <- sampleAnalysis(data=PopHumanData,sampling = bootSamplesRec4,bins = 1000,population='CEU')\n",
    "\n",
    "bootSamplesRec5 <- samplingGenes(geneList = genesRec5$id,B=1000,bins=length(genesRec5$id))\n",
    "outputRec5CEU <- sampleAnalysis(data=PopHumanData,sampling = bootSamplesRec5,bins = 1000,population='CEU')"
   ]
  },
  {
   "cell_type": "markdown",
   "metadata": {
    "heading_collapsed": true,
    "hidden": true
   },
   "source": [
    "##### YRI analysis"
   ]
  },
  {
   "cell_type": "code",
   "execution_count": null,
   "metadata": {
    "hidden": true
   },
   "outputs": [],
   "source": [
    "bootSamplesRec1 <- samplingGenes(geneList = genesRec1$id,B=1000,bins=length(genesRec1$Name))\n",
    "outputRec1Yri <- sampleAnalysis(data=PopHumanData,sampling = bootSamplesRec1,bins = 1000,population='YRI')\n",
    "\n",
    "bootSamplesRec2 <- samplingGenes(geneList = genesRec2$id,B=1000,bins=length(genesRec2$Name))\n",
    "outputRec2Yri <- sampleAnalysis(data=PopHumanData,sampling = bootSamplesRec2,bins = 1000,population='YRI')\n",
    "\n",
    "bootSamplesRec3 <- samplingGenes(geneList = genesRec3$id,B=1000,bins=length(genesRec3$Name))\n",
    "outputRec3Yri <- sampleAnalysis(data=PopHumanData,sampling = bootSamplesRec3,bins = 1000,population='YRI')\n",
    "\n",
    "bootSamplesRec4 <- samplingGenes(geneList = genesRec4$id,B=1000,bins=length(genesRec4$Name))\n",
    "outputRec4Yri <- sampleAnalysis(data=PopHumanData,sampling = bootSamplesRec4,bins = 1000,population='YRI')\n",
    "\n",
    "bootSamplesRec5 <- samplingGenes(geneList = genesRec5$id,B=1000,bins=length(genesRec5$Name))\n",
    "outputRec5Yri <- sampleAnalysis(data=PopHumanData,sampling = bootSamplesRec5,bins = 1000,population='YRI')"
   ]
  },
  {
   "cell_type": "markdown",
   "metadata": {
    "hidden": true
   },
   "source": [
    "##### Plot"
   ]
  },
  {
   "cell_type": "code",
   "execution_count": null,
   "metadata": {
    "hidden": true
   },
   "outputs": [],
   "source": [
    "humanRecomb <- lapply(list.files(pattern=\"*Ceu*\",include.dirs=T,full.names=T,path='/home/jmurga/mkt/201902/results/concatenation/binRecomb'),load,.GlobalEnv)"
   ]
  },
  {
   "cell_type": "code",
   "execution_count": null,
   "metadata": {
    "hidden": true
   },
   "outputs": [],
   "source": [
    "outputRec1CEU$group <- 1; outputRec2CEU$group <- 2; outputRec3CEU$group <- 3; outputRec4CEU$group <- 4; outputRec5CEU$group <- 5\n",
    "\n",
    "outputRecTotal <- rbind(outputRec1CEU,outputRec2CEU,outputRec3CEU,outputRec4CEU,outputRec5CEU)\n",
    "\n",
    "dataPlot <- melt(outputRecTotal,id=c(\"group\"),measure.vars = c('alphaStandard','alphaFWW0.05','alphaFWW0.15','alphaDGRP0.05','alphaDGRP0.15','alphaiMKT'))\n",
    "\n",
    "# group = recombination category; value = alpha; variable = mkt method\n",
    "\n",
    "plotRecombinationCEU <- ggplot(dataPlot, aes(x = as.factor(group), y = value, fill =variable)) + \n",
    "    geom_boxplot( color = \"grey20\",alpha = 0.7) +\n",
    "    labs(x = \"Recombination categories\", y = expression(italic(α))) +\n",
    "themePublication() +\n",
    "    scaleFillPublication(name=\"Method\", labels = c(\"alphaStandard\" = \"MKT standard\", \"alphaDGRP0.05\" = \"MKT DGRP 5%\", \"alphaDGRP0.15\" = \"MKT DGRP 10%\", \"alphaFWW0.05\" = \"MKT FWW 5%\", \"alphaFWW0.15\" = \"MKT FWW 10%\",\"alphaiMKT\" = \"Asymptotic MKT\",\"alphaasym\" = \"Asymptotic MKT\",\"DFE_alpha\" = \"DFE-alpha\")) + \n",
    "scale_y_continuous(breaks = pretty(dataPlot$value, n = 8))  + \n",
    "    scale_x_discrete(name = \"Recombination rate categories\", labels = c(\"1\" = \"[0,0.653]\", \"2\" = \"(0.653,1.52]\", \"3\" = \"(1.52,2.39]\", \"4\" = \"(2.39,3.58]\", \"5\" = \"(3.58,14.8]\")) + \n",
    "    theme(legend.justification=c(1,1), legend.position = \"right\", legend.direction = \"vertical\",  legend.key.size = unit(1, 'lines'))\n",
    "ggsave(plotRecombinationCEU,file='/home/jmurga/mkt/201902/results/concatenation/binRecomb/recombCEU.png',dpi=300,height = 10,width = 10)   "
   ]
  }
 ],
 "metadata": {
  "kernelspec": {
   "display_name": "R",
   "language": "R",
   "name": "ir"
  },
  "language_info": {
   "codemirror_mode": "r",
   "file_extension": ".r",
   "mimetype": "text/x-r-source",
   "name": "R",
   "pygments_lexer": "r",
   "version": "3.5.2"
  },
  "toc": {
   "base_numbering": 1,
   "nav_menu": {},
   "number_sections": true,
   "sideBar": true,
   "skip_h1_title": false,
   "title_cell": "Table of Contents",
   "title_sidebar": "Contents",
   "toc_cell": false,
   "toc_position": {},
   "toc_section_display": true,
   "toc_window_display": false
  },
  "varInspector": {
   "cols": {
    "lenName": 16,
    "lenType": 16,
    "lenVar": 40
   },
   "kernels_config": {
    "python": {
     "delete_cmd_postfix": "",
     "delete_cmd_prefix": "del ",
     "library": "var_list.py",
     "varRefreshCmd": "print(var_dic_list())"
    },
    "r": {
     "delete_cmd_postfix": ") ",
     "delete_cmd_prefix": "rm(",
     "library": "var_list.r",
     "varRefreshCmd": "cat(var_dic_list()) "
    }
   },
   "types_to_exclude": [
    "module",
    "function",
    "builtin_function_or_method",
    "instance",
    "_Feature"
   ],
   "window_display": false
  }
 },
 "nbformat": 4,
 "nbformat_minor": 2
}
