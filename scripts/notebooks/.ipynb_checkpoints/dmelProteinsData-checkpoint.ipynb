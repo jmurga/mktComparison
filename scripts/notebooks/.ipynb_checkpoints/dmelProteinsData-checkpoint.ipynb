{
 "cells": [
  {
   "cell_type": "markdown",
   "metadata": {},
   "source": [
    "Defining global path in python. These variables will be stored after one execution"
   ]
  },
  {
   "cell_type": "code",
   "execution_count": 2,
   "metadata": {
    "ExecuteTime": {
     "end_time": "2019-11-14T13:29:54.330778Z",
     "start_time": "2019-11-14T13:29:54.327382Z"
    }
   },
   "outputs": [],
   "source": [
    "SRC='/home/jmurga/mkt/201902/scripts/src'\n",
    "DATA='/home/jmurga/mkt/201902/rawData/dmel'\n",
    "FASTAS='/data/shared/dgn'"
   ]
  },
  {
   "cell_type": "markdown",
   "metadata": {},
   "source": [
    "Required libraries"
   ]
  },
  {
   "cell_type": "code",
   "execution_count": 8,
   "metadata": {
    "ExecuteTime": {
     "end_time": "2019-11-15T10:48:56.185493Z",
     "start_time": "2019-11-15T10:48:56.174188Z"
    }
   },
   "outputs": [],
   "source": [
    "import os\n",
    "import re\n",
    "import sys\n",
    "import numpy as np\n",
    "import pandas as pd\n",
    "from numpy import array \n",
    "from pyfaidx import Fasta"
   ]
  },
  {
   "cell_type": "markdown",
   "metadata": {},
   "source": [
    "Ad-hoc scripts"
   ]
  },
  {
   "cell_type": "code",
   "execution_count": null,
   "metadata": {
    "ExecuteTime": {
     "end_time": "2019-11-13T14:14:22.571165Z",
     "start_time": "2019-11-13T14:14:22.566111Z"
    }
   },
   "outputs": [],
   "source": [
    "sys.path.insert(0, SRC)\n",
    "from reverseComplement import reverseComplement\n",
    "from degenerancy import degenerate\n",
    "from foldPositions import foldPositions\n",
    "from nDistribution import nDistribution"
   ]
  },
  {
   "cell_type": "markdown",
   "metadata": {
    "heading_collapsed": true
   },
   "source": [
    "### Drosophila melanogaster genes "
   ]
  },
  {
   "cell_type": "markdown",
   "metadata": {
    "hidden": true
   },
   "source": [
    "To execute bash code we created a snippets through nbextensions containing the following paths in order to avoid copy and paste cells. %%bash magic do not recognize previous variables. Adding mkdir command to create necesary paths"
   ]
  },
  {
   "cell_type": "code",
   "execution_count": null,
   "metadata": {
    "ExecuteTime": {
     "end_time": "2019-03-06T09:03:14.692538Z",
     "start_time": "2019-03-06T09:03:14.657941Z"
    },
    "hidden": true
   },
   "outputs": [],
   "source": [
    "%%bash\n",
    "DATA='/home/jmurga/mkt/201902/rawData/dmel/annotations'\n",
    "BASIC='/home/jmurga/mkt/201902/rawData/dmel/annotations/basicAnnotation'\n",
    "CDS='/home/jmurga/mkt/201902/rawData/dmel/annotations/cds'\n",
    "GENES='/home/jmurga/mkt/201902/rawData/dmel/annotations/genes'\n",
    "TEMPORAL='/home/jmurga/mkt/201902/rawData/dmel/annotations/tmp'\n",
    "ALLELEFREQ='/home/jmurga/mkt/201902/rawData/dmel/alleleFrequencies'\n",
    "\n",
    "mkdir -p ${DATA}\n",
    "mkdir -p ${BASIC}\n",
    "mkdir -p ${CDS}\n",
    "mkdir -p ${GENES}\n",
    "mkdir -p ${TEMPORAL}\n",
    "mkdir -p ${ALLELEFREQ}"
   ]
  },
  {
   "cell_type": "markdown",
   "metadata": {
    "heading_collapsed": true,
    "hidden": true
   },
   "source": [
    "#### Download Flybase annotation"
   ]
  },
  {
   "cell_type": "code",
   "execution_count": null,
   "metadata": {
    "ExecuteTime": {
     "end_time": "2019-03-06T09:05:36.973637Z",
     "start_time": "2019-03-06T09:05:05.158497Z"
    },
    "hidden": true
   },
   "outputs": [],
   "source": [
    "%%bash\n",
    "DATA='/home/jmurga/mkt/201902/rawData/dmel/annotations'\n",
    "\n",
    "cd ${DATA}\n",
    "# Flybase annotation\n",
    "wget ftp://ftp.flybase.net/genomes/Drosophila_melanogaster/dmel_r5.57_FB2014_03/gff/dmel-all-no-analysis-r5.57.gff.gz\n",
    "gunzip dmel-all-no-analysis-r5.57.gff.gz"
   ]
  },
  {
   "cell_type": "markdown",
   "metadata": {
    "heading_collapsed": true,
    "hidden": true
   },
   "source": [
    "#### Parsing and cleaning flybase annotation to execute all operations by chr\n",
    "Operate by chr is faster due to grep on smaller files. Each folder contain an specific file foreach chromosome. "
   ]
  },
  {
   "cell_type": "code",
   "execution_count": null,
   "metadata": {
    "ExecuteTime": {
     "end_time": "2019-03-06T09:06:21.062789Z",
     "start_time": "2019-03-06T09:06:04.132264Z"
    },
    "hidden": true
   },
   "outputs": [],
   "source": [
    "%%bash\n",
    "DATA='/home/jmurga/mkt/201902/rawData/dmel/annotations'\n",
    "BASIC='/home/jmurga/mkt/201902/rawData/dmel/annotations/basicAnnotation'\n",
    "CDS='/home/jmurga/mkt/201902/rawData/dmel/annotations/cds'\n",
    "GENES='/home/jmurga/mkt/201902/rawData/dmel/annotations/genes'\n",
    "TEMPORAL='/home/jmurga/mkt/201902/rawData/dmel/annotations/tmp'\n",
    "\n",
    "mkdir -p ${BASIC}\n",
    "mkdir -p ${CDS}\n",
    "mkdir -p ${GENES}\n",
    "mkdir -p ${TEMPORAL}\n",
    "\n",
    "# Extract annotations from gff file\n",
    "sed -e '/^>/,$d' ${DATA}/dmel-all-no-analysis-r5.57.gff | sed -e '/^2LHet/d' -e  '/2RHet/d' -e '/3LHet/d' -e '/3RHet/d' -e  '/^4\\t/d' -e '/dmel_mitochondrion_genome/d' -e '/^U\\t/d' -e '/^Uextra\\t/d' -e  '/^XHet\\t/d' -e '/^YHet\\t/d' -e'/\\tCG/d' > ${DATA}/dmelFiltered.gff\n",
    "# Extract genes information\n",
    "grep -P \"\\tgene\\t\" ${DATA}/dmelFiltered.gff  > ${DATA}/dmelFilteredGenes.gff\n",
    "# Extract CDS information. Only protein coding genes\n",
    "grep -P \"\\tCDS\\t\" ${DATA}/dmelFiltered.gff  > ${DATA}/dmelFilteredCds.gff\n",
    "# Coding gene list. gene_id always on column 9, 3th field\n",
    "cut -f1,9 ${DATA}/dmelFilteredCds.gff | tr ';' '\\t' | cut -f1,2 | sort -u | sort -k1,1 > ${DATA}/codingGeneList.txt\n",
    "\n",
    "\n",
    "CHR=( 2L 2R 3L 3R X )\n",
    "# Parse gff file by chr\n",
    "for chrNumber in \"${CHR[@]}\"\n",
    "do\n",
    "    grep -P \"${chrNumber}\\t\"  ${DATA}/dmelFilteredGenes.gff | sort -k4,4n > ${BASIC}/gencode.v27lift37.basic.annotation.chr${chrNumber}.gff3 \n",
    "    grep -P \"${chrNumber}\\t\"  ${DATA}/dmelFilteredCds.gff | sort -k1,1 -k4,4n > ${CDS}/dmelFilteredCdsChr${chrNumber}.gff3 \n",
    "    grep -P \"${chrNumber}\\t\"  ${DATA}/dmelFilteredGenes.gff | sort -k1,1 -k4,4n > ${GENES}/dmelFilteredGenesChr${chrNumber}.gff3 \n",
    "done\n",
    "\n",
    "rm ${DATA}/dmel-all-no-analysis-r5.57.gff"
   ]
  },
  {
   "cell_type": "markdown",
   "metadata": {
    "hidden": true
   },
   "source": [
    "#### Basic cleaned gene file\n",
    "This file will include information about chromosomes, start coordinates, end coordinates strand, gene id and gene name. It will be and perform calculations on gene coordinates. Kind of gff file easier to work with"
   ]
  },
  {
   "cell_type": "code",
   "execution_count": null,
   "metadata": {
    "ExecuteTime": {
     "end_time": "2019-03-06T09:12:21.090969Z",
     "start_time": "2019-03-06T09:08:42.985793Z"
    },
    "hidden": true
   },
   "outputs": [],
   "source": [
    "%%bash\n",
    "DATA='/home/jmurga/mkt/201902/rawData/dmel/annotations'\n",
    "GENES='/home/jmurga/mkt/201902/rawData/dmel/annotations/genes'\n",
    "touch ${DATA}/flybaseGenesCleaned.tab \n",
    "printf \"chr\\tstartGene\\tendGene\\tstrand\\tid\\tname\\n\" > ${DATA}/flybaseGenesCleaned.tab\n",
    "\n",
    "time while read LINE;\n",
    "do \n",
    "    CHR=$(echo ${LINE} | cut -d' ' -f1)\n",
    "    GENE=$(echo ${LINE} | cut -d' ' -f2 | sed 's/-cds//g')\n",
    "    # echo $GENE\n",
    "\n",
    "    fgrep `echo \"${GENE};\"`  ${GENES}/dmelFilteredGenesChr${CHR}.gff3 | fgrep ${CHR} |  cut -f1,4,5,7,9 | tr ';' '\\t' | cut -f1,2,3,4,5,6 \n",
    "    \n",
    "done < ${DATA}/codingGeneList.txt | tr ' ' '\\t' | sed 's/ID=//g' | sed 's/Name=//g' | sort -k1,1 -k2,2n >> ${DATA}/flybaseGenesCleaned.tab"
   ]
  },
  {
   "cell_type": "code",
   "execution_count": null,
   "metadata": {
    "ExecuteTime": {
     "end_time": "2019-03-07T11:54:49.636712Z",
     "start_time": "2019-03-07T11:54:49.530154Z"
    },
    "hidden": true
   },
   "outputs": [],
   "source": [
    "dfGenes = pd.read_csv(DATA + '/annotations/flybaseGenesCleaned.tab',header = 0,sep='\\t')\n",
    "dfGenes.head()"
   ]
  },
  {
   "cell_type": "markdown",
   "metadata": {
    "ExecuteTime": {
     "end_time": "2019-01-29T15:16:03.643881Z",
     "start_time": "2019-01-29T15:16:03.602413Z"
    },
    "hidden": true
   },
   "source": [
    "File to merge features annotated with gene name instead of gene id"
   ]
  },
  {
   "cell_type": "code",
   "execution_count": null,
   "metadata": {
    "ExecuteTime": {
     "end_time": "2019-03-06T09:14:26.430030Z",
     "start_time": "2019-03-06T09:14:26.385073Z"
    },
    "hidden": true
   },
   "outputs": [],
   "source": [
    "idName = dfGenes[['id','name']]\n",
    "idName.to_csv(DATA + '/annotations/idName.tab',sep='\\t',index=False,header=True)"
   ]
  },
  {
   "cell_type": "markdown",
   "metadata": {},
   "source": [
    "### CDS *D. melanogaster* degenerancy "
   ]
  },
  {
   "cell_type": "markdown",
   "metadata": {},
   "source": [
    "#### Raw cds coordinates"
   ]
  },
  {
   "cell_type": "code",
   "execution_count": null,
   "metadata": {
    "ExecuteTime": {
     "end_time": "2019-03-06T09:14:47.951878Z",
     "start_time": "2019-03-06T09:14:42.331983Z"
    },
    "code_folding": []
   },
   "outputs": [],
   "source": [
    "%%bash\n",
    "DATA='/home/jmurga/mkt/201902/rawData/dmel/annotations'\n",
    "CDS='/home/jmurga/mkt/201902/rawData/dmel/annotations/cds'\n",
    "TEMPORAL='/home/jmurga/mkt/201902/rawData/dmel/annotations/tmp'\n",
    "\n",
    "touch ${DATA}/cdsCoordinates.tab\n",
    "printf \"name\\tchr\\ttranscript\\ttranscriptSize\\tcoordinates\\n\" > ${DATA}/cdsCoordinates.tab\n",
    "\n",
    "count=0\n",
    "time tail -n+2 ${DATA}/flybaseGenesCleaned.tab | while read LINE;\n",
    "do \n",
    "    echo '*************'    \n",
    "    CHR=$(echo ${LINE} | cut -d' ' -f1)\n",
    "    GENE=$(echo ${LINE} | cut -d' ' -f6)\n",
    "    \n",
    "    printf \"${GENE} ${CHR}\"\n",
    "    \n",
    "    fgrep `echo \"Name=${GENE}-cds;\"` ${CDS}/dmelFilteredCdsChr${CHR}.gff3 | grep -P \"${CHR}\\t\" | cut -f9 | tr ';' '\\n' | fgrep Parent | sort -u | tr ',' '\\n' | cut -d'=' -f2 | sort -u > ${TEMPORAL}/transcriptTmp.tab\n",
    "\n",
    "    while read transcript; do fgrep ${transcript} ${CDS}/dmelFilteredCdsChr${CHR}.gff3 | awk '{print $4,$5,$5-$4}' | awk -v gene=\"${GENE}\" -v chr=\"${CHR}\" -v transcript=\"$transcript\" '{sum+=$1} {printf $1\",\"$2\",\"} END{print \"\\t\"gene\"\\t\"chr\"\\t\"transcript\"\\t\"sum}' | awk '{print $2,$3,$4,$5,$1}' | sed 's/,$//' |tr ' ' '\\t' >> ${DATA}/cdsCoordinates.tab ;done < ${TEMPORAL}/transcriptTmp.tab \n",
    "    \n",
    "    (( count++ ))\n",
    "\n",
    "done"
   ]
  },
  {
   "cell_type": "markdown",
   "metadata": {
    "heading_collapsed": true
   },
   "source": [
    "#### Check degenerancy by position"
   ]
  },
  {
   "cell_type": "markdown",
   "metadata": {
    "hidden": true
   },
   "source": [
    "**Checking degenerancy by positions taking into account all transcripts and genes independently**  \n",
    "Recoding CDS sequences to get 0fold, 2fold, 3fold and 4fold positions by transcript and genes, in order to estimate frequencies and divergence by type of functional sites."
   ]
  },
  {
   "cell_type": "code",
   "execution_count": null,
   "metadata": {
    "hidden": true
   },
   "outputs": [],
   "source": [
    "sys.path.insert(0, SRC)\n",
    "from reverseComplement import reverseComplement\n",
    "from degenerancy import degenerate"
   ]
  },
  {
   "cell_type": "code",
   "execution_count": null,
   "metadata": {
    "hidden": true
   },
   "outputs": [],
   "source": [
    "dfGenes = pd.read_csv(DATA + '/annotations/flybaseGenesCleaned.tab',header = 0,usecols=['id','name','chr','strand'],sep='\\t')\n",
    "cds = pd.read_csv(DATA + '/annotations/cdsCoordinates.tab',header=0,sep='\\t')\n",
    "cds = pd.merge(cds, dfGenes,  how='inner', left_on=['chr','name'], right_on = ['chr','name'])"
   ]
  },
  {
   "cell_type": "code",
   "execution_count": null,
   "metadata": {
    "hidden": true
   },
   "outputs": [],
   "source": [
    "def foldPositions(x):\n",
    "    if('0' in x):\n",
    "        return('0fold')\n",
    "    elif('4' in x and '0' not in x and '2' not in x and '3' not in x):\n",
    "        return('4fold')\n",
    "    elif('2' in x and '0' not in x and '4' not in x and '3' not in x):\n",
    "        return('2fold')\n",
    "    elif('2' not in x and '0' not in x and '4' not in x) :\n",
    "        return('3fold')\n",
    "    else:\n",
    "        return('mixed')"
   ]
  },
  {
   "cell_type": "code",
   "execution_count": null,
   "metadata": {
    "hidden": true
   },
   "outputs": [],
   "source": [
    "import time\n",
    "# for index, row in cds.iterrows():\n",
    "df = pd.DataFrame()\n",
    "# for geneId in np.unique(cds[(cds['id']=='FBgn0000028')].id):\n",
    "for j in range(0,len(np.unique(cds.id))):\n",
    "    start_time = time.time()\n",
    "   \n",
    "    geneId = np.unique(cds.id)[j]\n",
    "#     geneId = geneId\n",
    "    df = pd.DataFrame()\n",
    "    print(geneId)\n",
    "    \n",
    "    for index, row in cds[(cds['id']==geneId)].iterrows():\n",
    "        \n",
    "        # Rewrite file each execution\n",
    "        degen = []\n",
    "        \n",
    "        chrFile = px.Fasta(FASTAS + '/ref/Chr' + row['chr'] +'.fasta',sequence_always_upper=True)\n",
    "\n",
    "        # Convert CDS list into numeric array\n",
    "        coordinates = np.array(row['coordinates'].split(',')).astype(int).tolist()\n",
    "        coordinates =  [coordinates[i:i+2] for i in range(0, len(coordinates), 2)]\n",
    "\n",
    "        # Extract all CDS positions in a list in order to merge with degenerate sequences (same length -> same index)\n",
    "        positions=[]\n",
    "        for i in range(0,len(coordinates),1):\n",
    "            positions.append(list(range(coordinates[i][0],coordinates[i][1]+1)))  \n",
    "        allPositions = [item for sublist in positions for item in sublist]\n",
    "        allPositions = np.asarray(allPositions)\n",
    "\n",
    "        # Extract cds sequences\n",
    "        seq = chrFile.get_spliced_seq(row['chr'], coordinates).seq\n",
    "        if(row['strand'] == '-'):\n",
    "            seq = reverseComplement(seq)\n",
    "            allPositions = allPositions[::-1]\n",
    "        if((len(seq)/3).is_integer() and seq[0:3]=='ATG'):\n",
    "            # Append in list \n",
    "            m = degenerateFullPositions(seq)\n",
    "            degen.append(list(m))\n",
    "            nchr = np.array([row['chr']] * len(m))\n",
    "            \n",
    "            degen = [item for sublist in degen for item in sublist]\n",
    "            degen = np.asarray(degen)\n",
    "\n",
    "            data =  {'CHROM':nchr,'POS':allPositions,'degen':degen}\n",
    "            tmp = pd.DataFrame(data)\n",
    "\n",
    "            df = df.append(tmp)\n",
    "            df = df.groupby(['CHROM','POS']).agg({'degen':','.join}).reset_index()\n",
    "\n",
    "    #Save df\n",
    "    df.to_csv(DATA + '/annotations/degeneracyDmelPositions.tab',mode='a',index=False,header=False,sep='\\t')\n",
    "    print(j,geneId,\"--- %s seconds ---\" % (time.time() - start_time))"
   ]
  },
  {
   "cell_type": "markdown",
   "metadata": {
    "hidden": true
   },
   "source": [
    "Cleaning positions degenerancy based on most constrain posibility"
   ]
  },
  {
   "cell_type": "code",
   "execution_count": null,
   "metadata": {
    "hidden": true
   },
   "outputs": [],
   "source": [
    "df = pd.read_csv(DATA + '/annotations/degeneracyDmelPositions.tab',sep='\\t',header=None,names=['CHROM','POS','degen'])\n",
    "    \n",
    "chrList = ['2L','2R','3L','3R','X']\n",
    "import time\n",
    "for nchr in chrList:\n",
    "    start_time = time.time()\n",
    "    print(nchr)\n",
    "    tmp = df[df['CHROM'] == nchr]\n",
    "    tmp = tmp.groupby(['CHROM','POS']).agg({'degen':','.join}).reset_index()\n",
    "    tmp['type'] = np.nan\n",
    "\n",
    "    tmp['type'] = tmp['degen'].apply(lambda row: foldPositions(row))\n",
    "    tmp = tmp.sort_values('POS')\n",
    "    \n",
    "    tmp.to_csv(DATA + '/annotations/zeroFourFoldPositions.tab',header=False,index=False,mode='a',sep='\\t')\n",
    "    print(\"--- %s seconds ---\" % (time.time() - start_time))"
   ]
  },
  {
   "cell_type": "markdown",
   "metadata": {
    "heading_collapsed": true
   },
   "source": [
    "#### Undetermined nucleotide distributions by cds position"
   ]
  },
  {
   "cell_type": "code",
   "execution_count": null,
   "metadata": {
    "hidden": true
   },
   "outputs": [],
   "source": [
    "dfGenes = pd.read_csv(DATA + '/annotations/flybaseGenesCleaned.tab',header = 0,sep='\\t')\n",
    "cds = pd.read_csv(DATA + '/annotations/cdsCoordinates.tab',header = 0,sep='\\t')\n",
    "cds = pd.merge(cds, dfGenes,  how='inner', left_on=['chr','name'], right_on = ['chr','name'])\n",
    "cds = cds.loc[cds.reset_index().groupby(['chr','id'])['transcriptSize'].idxmax()].reset_index(drop=True)"
   ]
  },
  {
   "cell_type": "markdown",
   "metadata": {
    "hidden": true
   },
   "source": [
    "Raleigh"
   ]
  },
  {
   "cell_type": "code",
   "execution_count": null,
   "metadata": {
    "hidden": true
   },
   "outputs": [],
   "source": [
    "nDistribution(cds,'RAL')"
   ]
  },
  {
   "cell_type": "markdown",
   "metadata": {
    "ExecuteTime": {
     "end_time": "2019-03-07T11:34:47.291918Z",
     "start_time": "2019-03-07T11:34:47.007492Z"
    },
    "hidden": true
   },
   "source": [
    "Zambia"
   ]
  },
  {
   "cell_type": "code",
   "execution_count": null,
   "metadata": {
    "hidden": true
   },
   "outputs": [],
   "source": [
    "nDistribution(cds,'ZI')"
   ]
  },
  {
   "cell_type": "markdown",
   "metadata": {
    "hidden": true
   },
   "source": [
    "Retrieve by population the number of N"
   ]
  },
  {
   "cell_type": "code",
   "execution_count": null,
   "metadata": {
    "hidden": true
   },
   "outputs": [],
   "source": [
    "for pop in ['RAL','ZI']:\n",
    "    print(pop)\n",
    "    \n",
    "    df = pd.read_csv(DATA + '/nCall/ncall' + pop + '.tab',sep='\\t',header=None)\n",
    "    nCalls = df[0].value_counts().reset_index()\n",
    "    \n",
    "    nCalls = pd.DataFrame(nCalls)\n",
    "    nCalls = nCalls.sort_values('index')\n",
    "    \n",
    "    nCalls['freq'] = nCalls[0].apply(lambda x: x/sum(nCalls[0])*100)\n",
    "    \n",
    "    nCalls.columns = ['positions','count','freq']\n",
    "    nCalls.to_csv(DATA + '/nCall/' + pop + 'DistributionN.tab',sep='\\t',header=True,index=False)"
   ]
  },
  {
   "cell_type": "markdown",
   "metadata": {},
   "source": [
    "### Extracting Derived Allele Frequency and Divergence by population and type of site"
   ]
  },
  {
   "cell_type": "markdown",
   "metadata": {},
   "source": [
    "Opening cdsCoordinates file to extract fasta sequence using pyfaidx"
   ]
  },
  {
   "cell_type": "code",
   "execution_count": null,
   "metadata": {
    "ExecuteTime": {
     "end_time": "2019-03-07T11:49:30.496018Z",
     "start_time": "2019-03-07T11:49:29.709496Z"
    }
   },
   "outputs": [],
   "source": [
    "!python /home/jmurga/mkt/201902/scripts/src/sfsDivergence.py --help"
   ]
  },
  {
   "cell_type": "markdown",
   "metadata": {},
   "source": [
    "#### *D. simulans*"
   ]
  },
  {
   "cell_type": "markdown",
   "metadata": {},
   "source": [
    "##### Raleigh population"
   ]
  },
  {
   "cell_type": "code",
   "execution_count": null,
   "metadata": {
    "ExecuteTime": {
     "end_time": "2019-02-28T13:56:02.032818Z",
     "start_time": "2019-02-28T13:55:55.955286Z"
    }
   },
   "outputs": [],
   "source": [
    "!python /home/jmurga/mkt/201902/scripts/src/sfsDivergence.py --genes flybaseGenesCleaned.tab --cds cdsCoordinates.tab --population RAL --sampling 160 --outgroup dsim"
   ]
  },
  {
   "cell_type": "markdown",
   "metadata": {},
   "source": [
    "##### Zambia population"
   ]
  },
  {
   "cell_type": "code",
   "execution_count": null,
   "metadata": {},
   "outputs": [],
   "source": [
    "!python /home/jmurga/mkt/201902/scripts/src/sfsDivergence.py --genes flybaseGenesCleaned.tab --cds cdsCoordinates.tab --population ZI --sampling 154 --outgroup dsim"
   ]
  },
  {
   "cell_type": "markdown",
   "metadata": {
    "heading_collapsed": true
   },
   "source": [
    "#### *D. yakuba*"
   ]
  },
  {
   "cell_type": "markdown",
   "metadata": {
    "hidden": true
   },
   "source": [
    "##### Raleigh population"
   ]
  },
  {
   "cell_type": "code",
   "execution_count": null,
   "metadata": {
    "ExecuteTime": {
     "end_time": "2019-02-28T13:56:02.032818Z",
     "start_time": "2019-02-28T13:55:55.955286Z"
    },
    "hidden": true
   },
   "outputs": [],
   "source": [
    "!python /home/jmurga/mkt/201902/scripts/src/sfsDivergence.py --genes flybaseGenesCleaned.tab --cds cdsCoordinates.tab --population RAL --sampling 160 --outgroup dyak"
   ]
  },
  {
   "cell_type": "markdown",
   "metadata": {
    "hidden": true
   },
   "source": [
    "##### Zambia population"
   ]
  },
  {
   "cell_type": "code",
   "execution_count": null,
   "metadata": {
    "hidden": true
   },
   "outputs": [],
   "source": [
    "!python /home/jmurga/mkt/201902/scripts/src/sfsDivergence.py --genes flybaseGenesCleaned.tab --cds cdsCoordinates.tab --population ZI --sampling 154 --outgroup dyak"
   ]
  },
  {
   "cell_type": "markdown",
   "metadata": {},
   "source": [
    "### Estimating metrics"
   ]
  },
  {
   "cell_type": "markdown",
   "metadata": {},
   "source": [
    "####  *D. simulans*"
   ]
  },
  {
   "cell_type": "markdown",
   "metadata": {},
   "source": [
    "##### Extracting mi and m0"
   ]
  },
  {
   "cell_type": "code",
   "execution_count": 2,
   "metadata": {
    "ExecuteTime": {
     "end_time": "2019-11-15T10:47:40.113369Z",
     "start_time": "2019-11-15T10:47:22.815082Z"
    }
   },
   "outputs": [],
   "source": [
    "dfGenes = pd.read_csv('/home/jmurga/mkt/201902/rawData/dmel/annotations/flybaseGenesCleaned.tab',header = 0,usecols=['id','name','chr','strand'],sep='\\t')\n",
    "cds = pd.read_csv('/home/jmurga/mkt/201902/rawData/dmel/annotations/cdsLargest.tab',header=0,sep='\\t')\n",
    "cds = pd.merge(cds, dfGenes,  how='inner', left_on=['chr','name'], right_on = ['chr','name'])\n",
    "degeneratePositions = pd.read_csv('/home/jmurga/mkt/201902/rawData/dmel/annotations/zeroFourFoldPositions.tab',header=None,names=['CHROM','POS','degen','type'],sep='\\t')"
   ]
  },
  {
   "cell_type": "code",
   "execution_count": null,
   "metadata": {
    "code_folding": []
   },
   "outputs": [],
   "source": [
    "# Rewrite file each execution\n",
    "columns = ['id','mi','m0']\n",
    "totalFoldPositions = pd.DataFrame(columns=columns)\n",
    "for j in cds['chr'].unique():\n",
    "    print(j)\n",
    "    chrPositions = degeneratePositions[degeneratePositions['chr']==j]\n",
    "    for index, row in cds[cds['chr']==j].iterrows():\n",
    "#     for index, row in cds[cds['id']=='FBgn0000017'].iterrows():\n",
    "        print(index,row['id'])\n",
    "        chrFile = Fasta('/data/shared/dgn/ref/Chr' + row['chr'] +'.fasta')\n",
    "    #     Convert CDS list into numeric array\n",
    "        coordinates = array(row['coordinates'].split(',')).astype(int).tolist()\n",
    "        coordinates =  [coordinates[i:i+2] for i in range(0, len(coordinates), 2)]\n",
    "        # Extract all CDS positions in a list in order to merge with degenerate sequences (same length -> same index)\n",
    "        positions=[]\n",
    "        for i in range(0,len(coordinates),1):\n",
    "            positions.append(list(range(coordinates[i][0],coordinates[i][1]+1)))  \n",
    "        allPositions = [item for sublist in positions for item in sublist]\n",
    "        # Extract cds sequences\n",
    "        seq = chrFile.get_spliced_seq(row['chr'].replace('chr',''), coordinates).seq.upper()\n",
    "    #     print(len(seq))\n",
    "        if(row['strand'] == '-'):\n",
    "            seq = reverseComplement(seq)\n",
    "            allPositions = allPositions[::-1]\n",
    "        if((len(seq)/3).is_integer() and seq[0:3]=='ATG'):\n",
    "            m = degenerate(seq)\n",
    "            tmp = pd.DataFrame({'POS':allPositions,'m':list(m)})\n",
    "            tmp['chr']=row['chr']\n",
    "            tmp = pd.merge(chrPositions,tmp,on=['chr','POS'],how='right')              \n",
    "            tmp['m']=tmp.apply(lambda x: '0' if x['newType']=='0fold' else '4' if x['newType']=='4fold' else x['m'],axis=1)\n",
    "            counts = tmp['m'].value_counts()\n",
    "            if(counts.shape[0]<4 or '4' not in counts.index):\n",
    "                m0=0\n",
    "                mi=counts['0']\n",
    "            else:\n",
    "                m0=counts['4']\n",
    "                mi=counts['0']\n",
    "            data = pd.DataFrame({'id':row['id'],'mi':mi,'m0':m0},index=[0])\n",
    "            data.to_csv('/home/jmurga/mkt/201902/rawData/refAnalyzableSites.tab',sep='\\t',header=False,mode='a',index=False)\n",
    "#             totalFoldPositions = totalFoldPositions.append(data,ignore_index=True)\n",
    "        else:\n",
    "            data = pd.DataFrame({'id':row['id'],'mi':0,'m0':0},index=[0])\n",
    "            data.to_csv('/home/jmurga/mkt/201902/rawData/refAnalyzableSites.tab',sep='\\t',header=False,mode='a',index=False)\n",
    "#             totalFoldPositions = totalFoldPositions.append(data,ignore_index=True)"
   ]
  },
  {
   "cell_type": "markdown",
   "metadata": {},
   "source": [
    "##### Extract by population Derived Allele Frequency and Divergence in a file to format by functional class and populations"
   ]
  },
  {
   "cell_type": "code",
   "execution_count": null,
   "metadata": {},
   "outputs": [],
   "source": [
    "degeneratePositions = pd.read_csv('/home/jmurga/mkt/201902/rawData/dmel/annotations/zeroFourFoldPositions.tab',header=None,names=['CHROM','POS','degen','type'],sep='\\t')"
   ]
  },
  {
   "cell_type": "code",
   "execution_count": null,
   "metadata": {
    "ExecuteTime": {
     "end_time": "2019-11-12T13:45:49.627385Z",
     "start_time": "2019-11-12T13:45:44.037804Z"
    }
   },
   "outputs": [],
   "source": [
    "pops=['RAL','ZI']    \n",
    "\n",
    "for p in pops:\n",
    "    print(p)\n",
    "    popSites = pd.read_csv(DATA + '/alleleFrequencies/dsim/' + 'dsimDmelSites' + p + '.tab',sep='\\t',header=None,names=['id','chr','POS','div','rawDerivedAllele','type','pop'])\n",
    "        \n",
    "    popSites.to_csv(DATA+ '/alleleFrequencies/dsim/dsimDmelSites.tab',sep='\\t',index=False,header=False,mode='a')"
   ]
  },
  {
   "cell_type": "code",
   "execution_count": 4,
   "metadata": {
    "ExecuteTime": {
     "end_time": "2019-11-14T13:30:37.650573Z",
     "start_time": "2019-11-14T13:29:57.392855Z"
    },
    "scrolled": true
   },
   "outputs": [],
   "source": [
    "dmelSites = pd.read_csv(DATA+ '/alleleFrequencies/old/dmelSites.tab', sep='\\t', header=None)\n",
    "dmelSites.columns = ['id','POS','rawDerivedAllele','div','type','chr','pop']"
   ]
  },
  {
   "cell_type": "code",
   "execution_count": 5,
   "metadata": {
    "ExecuteTime": {
     "end_time": "2019-11-14T13:30:37.687128Z",
     "start_time": "2019-11-14T13:30:37.653744Z"
    },
    "scrolled": true
   },
   "outputs": [
    {
     "data": {
      "text/html": [
       "<div>\n",
       "<style scoped>\n",
       "    .dataframe tbody tr th:only-of-type {\n",
       "        vertical-align: middle;\n",
       "    }\n",
       "\n",
       "    .dataframe tbody tr th {\n",
       "        vertical-align: top;\n",
       "    }\n",
       "\n",
       "    .dataframe thead th {\n",
       "        text-align: right;\n",
       "    }\n",
       "</style>\n",
       "<table border=\"1\" class=\"dataframe\">\n",
       "  <thead>\n",
       "    <tr style=\"text-align: right;\">\n",
       "      <th></th>\n",
       "      <th>id</th>\n",
       "      <th>POS</th>\n",
       "      <th>rawDerivedAllele</th>\n",
       "      <th>div</th>\n",
       "      <th>type</th>\n",
       "      <th>chr</th>\n",
       "      <th>pop</th>\n",
       "    </tr>\n",
       "  </thead>\n",
       "  <tbody>\n",
       "    <tr>\n",
       "      <th>0</th>\n",
       "      <td>FBgn0000018</td>\n",
       "      <td>10975207</td>\n",
       "      <td>0.0</td>\n",
       "      <td>1</td>\n",
       "      <td>4fold</td>\n",
       "      <td>2L</td>\n",
       "      <td>RAL</td>\n",
       "    </tr>\n",
       "    <tr>\n",
       "      <th>1</th>\n",
       "      <td>FBgn0000018</td>\n",
       "      <td>10975195</td>\n",
       "      <td>0.0</td>\n",
       "      <td>0</td>\n",
       "      <td>4fold</td>\n",
       "      <td>2L</td>\n",
       "      <td>RAL</td>\n",
       "    </tr>\n",
       "    <tr>\n",
       "      <th>2</th>\n",
       "      <td>FBgn0000018</td>\n",
       "      <td>10975192</td>\n",
       "      <td>0.0</td>\n",
       "      <td>0</td>\n",
       "      <td>4fold</td>\n",
       "      <td>2L</td>\n",
       "      <td>RAL</td>\n",
       "    </tr>\n",
       "    <tr>\n",
       "      <th>3</th>\n",
       "      <td>FBgn0000018</td>\n",
       "      <td>10975186</td>\n",
       "      <td>0.0</td>\n",
       "      <td>0</td>\n",
       "      <td>4fold</td>\n",
       "      <td>2L</td>\n",
       "      <td>RAL</td>\n",
       "    </tr>\n",
       "    <tr>\n",
       "      <th>4</th>\n",
       "      <td>FBgn0000018</td>\n",
       "      <td>10975177</td>\n",
       "      <td>0.0</td>\n",
       "      <td>0</td>\n",
       "      <td>4fold</td>\n",
       "      <td>2L</td>\n",
       "      <td>RAL</td>\n",
       "    </tr>\n",
       "  </tbody>\n",
       "</table>\n",
       "</div>"
      ],
      "text/plain": [
       "            id       POS  rawDerivedAllele  div   type chr  pop\n",
       "0  FBgn0000018  10975207               0.0    1  4fold  2L  RAL\n",
       "1  FBgn0000018  10975195               0.0    0  4fold  2L  RAL\n",
       "2  FBgn0000018  10975192               0.0    0  4fold  2L  RAL\n",
       "3  FBgn0000018  10975186               0.0    0  4fold  2L  RAL\n",
       "4  FBgn0000018  10975177               0.0    0  4fold  2L  RAL"
      ]
     },
     "execution_count": 5,
     "metadata": {},
     "output_type": "execute_result"
    }
   ],
   "source": [
    "dmelSites.head()"
   ]
  },
  {
   "cell_type": "markdown",
   "metadata": {},
   "source": [
    "##### Divergence"
   ]
  },
  {
   "cell_type": "code",
   "execution_count": 7,
   "metadata": {
    "ExecuteTime": {
     "end_time": "2019-11-14T13:31:03.369734Z",
     "start_time": "2019-11-14T13:30:54.652390Z"
    }
   },
   "outputs": [],
   "source": [
    "div = dmelSites.groupby(['id','type','pop'])['div'].sum().reset_index()\n",
    "div = div.pivot_table(index=['id','pop'],columns=['type'],values='div').reset_index()\n",
    "div.columns = ['id','pop','di','d0']"
   ]
  },
  {
   "cell_type": "code",
   "execution_count": 8,
   "metadata": {
    "ExecuteTime": {
     "end_time": "2019-11-14T13:31:03.591722Z",
     "start_time": "2019-11-14T13:31:03.579849Z"
    }
   },
   "outputs": [
    {
     "data": {
      "text/html": [
       "<div>\n",
       "<style scoped>\n",
       "    .dataframe tbody tr th:only-of-type {\n",
       "        vertical-align: middle;\n",
       "    }\n",
       "\n",
       "    .dataframe tbody tr th {\n",
       "        vertical-align: top;\n",
       "    }\n",
       "\n",
       "    .dataframe thead th {\n",
       "        text-align: right;\n",
       "    }\n",
       "</style>\n",
       "<table border=\"1\" class=\"dataframe\">\n",
       "  <thead>\n",
       "    <tr style=\"text-align: right;\">\n",
       "      <th></th>\n",
       "      <th>id</th>\n",
       "      <th>pop</th>\n",
       "      <th>di</th>\n",
       "      <th>d0</th>\n",
       "    </tr>\n",
       "  </thead>\n",
       "  <tbody>\n",
       "    <tr>\n",
       "      <th>0</th>\n",
       "      <td>FBgn0000008</td>\n",
       "      <td>RAL</td>\n",
       "      <td>26.0</td>\n",
       "      <td>31.0</td>\n",
       "    </tr>\n",
       "    <tr>\n",
       "      <th>1</th>\n",
       "      <td>FBgn0000008</td>\n",
       "      <td>ZI</td>\n",
       "      <td>25.0</td>\n",
       "      <td>32.0</td>\n",
       "    </tr>\n",
       "    <tr>\n",
       "      <th>2</th>\n",
       "      <td>FBgn0000014</td>\n",
       "      <td>RAL</td>\n",
       "      <td>1.0</td>\n",
       "      <td>20.0</td>\n",
       "    </tr>\n",
       "    <tr>\n",
       "      <th>3</th>\n",
       "      <td>FBgn0000014</td>\n",
       "      <td>ZI</td>\n",
       "      <td>1.0</td>\n",
       "      <td>18.0</td>\n",
       "    </tr>\n",
       "    <tr>\n",
       "      <th>4</th>\n",
       "      <td>FBgn0000015</td>\n",
       "      <td>RAL</td>\n",
       "      <td>0.0</td>\n",
       "      <td>3.0</td>\n",
       "    </tr>\n",
       "  </tbody>\n",
       "</table>\n",
       "</div>"
      ],
      "text/plain": [
       "            id  pop    di    d0\n",
       "0  FBgn0000008  RAL  26.0  31.0\n",
       "1  FBgn0000008   ZI  25.0  32.0\n",
       "2  FBgn0000014  RAL   1.0  20.0\n",
       "3  FBgn0000014   ZI   1.0  18.0\n",
       "4  FBgn0000015  RAL   0.0   3.0"
      ]
     },
     "execution_count": 8,
     "metadata": {},
     "output_type": "execute_result"
    }
   ],
   "source": [
    "div.head()"
   ]
  },
  {
   "cell_type": "markdown",
   "metadata": {
    "ExecuteTime": {
     "end_time": "2019-11-14T13:30:49.201637Z",
     "start_time": "2019-11-14T13:30:49.197656Z"
    }
   },
   "source": [
    "###################"
   ]
  },
  {
   "cell_type": "code",
   "execution_count": 9,
   "metadata": {
    "ExecuteTime": {
     "end_time": "2019-11-14T13:33:01.194591Z",
     "start_time": "2019-11-14T13:32:21.020181Z"
    },
    "scrolled": true
   },
   "outputs": [],
   "source": [
    "tmpDegen = dmelSites[(dmelSites['pop']=='RAL') | (dmelSites['pop']=='ZI')]\n",
    "tmpDegen = tmpDegen.drop('type',axis=1)\n",
    "tmpDegen = pd.merge(tmpDegen,degeneratePositions,how='left',left_on=['chr','POS'],right_on=['chr','POS'])"
   ]
  },
  {
   "cell_type": "code",
   "execution_count": 10,
   "metadata": {
    "ExecuteTime": {
     "end_time": "2019-11-14T13:33:01.454007Z",
     "start_time": "2019-11-14T13:33:01.438209Z"
    }
   },
   "outputs": [
    {
     "data": {
      "text/html": [
       "<div>\n",
       "<style scoped>\n",
       "    .dataframe tbody tr th:only-of-type {\n",
       "        vertical-align: middle;\n",
       "    }\n",
       "\n",
       "    .dataframe tbody tr th {\n",
       "        vertical-align: top;\n",
       "    }\n",
       "\n",
       "    .dataframe thead th {\n",
       "        text-align: right;\n",
       "    }\n",
       "</style>\n",
       "<table border=\"1\" class=\"dataframe\">\n",
       "  <thead>\n",
       "    <tr style=\"text-align: right;\">\n",
       "      <th></th>\n",
       "      <th>id</th>\n",
       "      <th>POS</th>\n",
       "      <th>rawDerivedAllele</th>\n",
       "      <th>div</th>\n",
       "      <th>chr</th>\n",
       "      <th>pop</th>\n",
       "      <th>degen</th>\n",
       "      <th>type</th>\n",
       "    </tr>\n",
       "  </thead>\n",
       "  <tbody>\n",
       "    <tr>\n",
       "      <th>0</th>\n",
       "      <td>FBgn0000018</td>\n",
       "      <td>10975207</td>\n",
       "      <td>0.0</td>\n",
       "      <td>1</td>\n",
       "      <td>2L</td>\n",
       "      <td>RAL</td>\n",
       "      <td>4</td>\n",
       "      <td>4fold</td>\n",
       "    </tr>\n",
       "    <tr>\n",
       "      <th>1</th>\n",
       "      <td>FBgn0000018</td>\n",
       "      <td>10975195</td>\n",
       "      <td>0.0</td>\n",
       "      <td>0</td>\n",
       "      <td>2L</td>\n",
       "      <td>RAL</td>\n",
       "      <td>4</td>\n",
       "      <td>4fold</td>\n",
       "    </tr>\n",
       "    <tr>\n",
       "      <th>2</th>\n",
       "      <td>FBgn0000018</td>\n",
       "      <td>10975192</td>\n",
       "      <td>0.0</td>\n",
       "      <td>0</td>\n",
       "      <td>2L</td>\n",
       "      <td>RAL</td>\n",
       "      <td>4</td>\n",
       "      <td>4fold</td>\n",
       "    </tr>\n",
       "    <tr>\n",
       "      <th>3</th>\n",
       "      <td>FBgn0000018</td>\n",
       "      <td>10975186</td>\n",
       "      <td>0.0</td>\n",
       "      <td>0</td>\n",
       "      <td>2L</td>\n",
       "      <td>RAL</td>\n",
       "      <td>4</td>\n",
       "      <td>4fold</td>\n",
       "    </tr>\n",
       "    <tr>\n",
       "      <th>4</th>\n",
       "      <td>FBgn0000018</td>\n",
       "      <td>10975177</td>\n",
       "      <td>0.0</td>\n",
       "      <td>0</td>\n",
       "      <td>2L</td>\n",
       "      <td>RAL</td>\n",
       "      <td>4</td>\n",
       "      <td>4fold</td>\n",
       "    </tr>\n",
       "  </tbody>\n",
       "</table>\n",
       "</div>"
      ],
      "text/plain": [
       "            id       POS  rawDerivedAllele  div chr  pop degen   type\n",
       "0  FBgn0000018  10975207               0.0    1  2L  RAL     4  4fold\n",
       "1  FBgn0000018  10975195               0.0    0  2L  RAL     4  4fold\n",
       "2  FBgn0000018  10975192               0.0    0  2L  RAL     4  4fold\n",
       "3  FBgn0000018  10975186               0.0    0  2L  RAL     4  4fold\n",
       "4  FBgn0000018  10975177               0.0    0  2L  RAL     4  4fold"
      ]
     },
     "execution_count": 10,
     "metadata": {},
     "output_type": "execute_result"
    }
   ],
   "source": [
    "tmpDegen.head()"
   ]
  },
  {
   "cell_type": "code",
   "execution_count": 11,
   "metadata": {
    "ExecuteTime": {
     "end_time": "2019-11-14T13:33:40.150928Z",
     "start_time": "2019-11-14T13:33:21.468237Z"
    }
   },
   "outputs": [],
   "source": [
    "div2 = tmpDegen.groupby(['id','type','pop'])['div'].sum().reset_index()\n",
    "div2 = div2.pivot_table(index=['id','pop'],columns=['type'],values='div').reset_index()\n",
    "div2.columns = ['id','pop','di','d0']"
   ]
  },
  {
   "cell_type": "code",
   "execution_count": 13,
   "metadata": {
    "ExecuteTime": {
     "end_time": "2019-11-14T13:35:19.658784Z",
     "start_time": "2019-11-14T13:35:19.626023Z"
    }
   },
   "outputs": [
    {
     "name": "stdout",
     "output_type": "stream",
     "text": [
      "243445.0\n",
      "243532.0\n",
      "239241.0\n",
      "238901.0\n"
     ]
    }
   ],
   "source": [
    "print(div[div['pop']=='RAL'].di.sum())\n",
    "print(div2[div2['pop']=='RAL'].di.sum())\n",
    "print(div[div['pop']=='RAL'].d0.sum())\n",
    "print(div2[div2['pop']=='RAL'].d0.sum())"
   ]
  },
  {
   "cell_type": "markdown",
   "metadata": {
    "heading_collapsed": true
   },
   "source": [
    "##### Derived Allele Frequency"
   ]
  },
  {
   "cell_type": "code",
   "execution_count": null,
   "metadata": {
    "ExecuteTime": {
     "end_time": "2019-11-12T11:36:36.990414Z",
     "start_time": "2019-11-12T11:36:36.700191Z"
    },
    "hidden": true
   },
   "outputs": [],
   "source": [
    "daf = dmelSites[['id','rawDerivedAllele','type','pop']][dmelSites['rawDerivedAllele']!=0]\n",
    "\n",
    "bins = np.arange(0,1.05,0.05)\n",
    "labels = [0.05,0.1,0.15,0.2,0.25,0.3,0.35,0.4,0.45,0.5,0.55,0.6,0.65,0.7,0.75,0.8,0.85,0.9,0.95,1]\n",
    "\n",
    "daf['categories'] = pd.cut(daf['rawDerivedAllele'],bins=bins,labels=labels)\n",
    "\n",
    "sfs = daf.groupby(['id','type','categories','pop']).count().reset_index()\n",
    "sfs['rawDerivedAllele'] = sfs['rawDerivedAllele'].fillna(0).astype(int)\n",
    "sfs = sfs.groupby(['id','pop','type'])['rawDerivedAllele'].apply(list).reset_index()\n",
    "\n",
    "sfs = sfs.pivot_table(index=['id','pop'], columns=['type'],values='rawDerivedAllele',aggfunc=lambda x:x).reset_index()\n",
    "sfs['p0'] = sfs['4fold'].apply(lambda x: sum(x))\n",
    "sfs['pi'] = sfs['0fold'].apply(lambda x: sum(x))\n",
    "\n",
    "sfs['0fold'] = sfs['0fold'].apply(lambda x:';'.join(map(str,x)))\n",
    "sfs['4fold'] = sfs['4fold'].apply(lambda x:';'.join(map(str,x)))\n",
    "\n",
    "sfs.columns = ['id','pop','DAF0f','DAF4f','p0','pi']"
   ]
  },
  {
   "cell_type": "code",
   "execution_count": null,
   "metadata": {
    "ExecuteTime": {
     "end_time": "2019-11-12T13:45:53.694285Z",
     "start_time": "2019-11-12T13:45:53.681503Z"
    },
    "hidden": true
   },
   "outputs": [],
   "source": [
    "div.head()"
   ]
  },
  {
   "cell_type": "markdown",
   "metadata": {
    "heading_collapsed": true
   },
   "source": [
    "##### Merging info"
   ]
  },
  {
   "cell_type": "code",
   "execution_count": null,
   "metadata": {
    "ExecuteTime": {
     "end_time": "2019-03-07T11:57:39.458640Z",
     "start_time": "2019-03-07T11:57:39.420771Z"
    },
    "hidden": true
   },
   "outputs": [],
   "source": [
    "mktData = pd.merge(sfs,div,on=['id','pop'],how='outer')"
   ]
  },
  {
   "cell_type": "code",
   "execution_count": null,
   "metadata": {
    "ExecuteTime": {
     "end_time": "2019-03-07T11:57:39.717314Z",
     "start_time": "2019-03-07T11:57:39.700047Z"
    },
    "hidden": true
   },
   "outputs": [],
   "source": [
    "mktData.head()"
   ]
  },
  {
   "cell_type": "code",
   "execution_count": null,
   "metadata": {
    "ExecuteTime": {
     "end_time": "2019-03-07T11:57:40.017166Z",
     "start_time": "2019-03-07T11:57:39.953774Z"
    },
    "hidden": true
   },
   "outputs": [],
   "source": [
    "dfGenes = pd.read_csv(DATA + '/annotations/flybaseGenesCleaned.tab',sep='\\t',header=0)\n",
    "pops=['RAL','ZI']                                   \n",
    "genesByPop = pd.DataFrame()\n",
    "\n",
    "for p in pops:\n",
    "    \n",
    "    dfGenes['pop'] = p\n",
    "    genesByPop = genesByPop.append(dfGenes)\n",
    "    \n",
    "genesByPop = genesByPop.reset_index(drop=True)"
   ]
  },
  {
   "cell_type": "code",
   "execution_count": null,
   "metadata": {
    "ExecuteTime": {
     "end_time": "2019-03-07T11:57:40.323489Z",
     "start_time": "2019-03-07T11:57:40.285627Z"
    },
    "hidden": true
   },
   "outputs": [],
   "source": [
    "pops=['RAL','ZI']                                   \n",
    "refAnalizableSites = pd.read_csv(DATA+'/refAnalyzableSites.tab',sep='\\t',header=0)\n",
    "\n",
    "totalFoldPositionsByPop = pd.DataFrame()\n",
    "for p in pops:\n",
    "    print(p)\n",
    "    refAnalizableSites['pop'] = p\n",
    "    \n",
    "    totalFoldPositionsByPop = totalFoldPositionsByPop.append(refAnalizableSites)\n",
    "\n",
    "totalFoldPositionsByPop = totalFoldPositionsByPop.reset_index(drop=True)"
   ]
  },
  {
   "cell_type": "code",
   "execution_count": null,
   "metadata": {
    "ExecuteTime": {
     "end_time": "2019-03-07T11:57:40.659412Z",
     "start_time": "2019-03-07T11:57:40.629331Z"
    },
    "hidden": true
   },
   "outputs": [],
   "source": [
    "genesByPop = pd.merge(genesByPop,totalFoldPositionsByPop,on=['id','pop'],how='outer')"
   ]
  },
  {
   "cell_type": "code",
   "execution_count": null,
   "metadata": {
    "ExecuteTime": {
     "end_time": "2019-03-07T11:57:41.180630Z",
     "start_time": "2019-03-07T11:57:40.970750Z"
    },
    "hidden": true
   },
   "outputs": [],
   "source": [
    "mktData = pd.merge(mktData,genesByPop,on=['id','pop'],how='outer')\n",
    "mktData[mktData['DAF0f'].isna()].loc[:,'DAF0f'] = '0;0;0;0;0;0;0;0;0;0;0;0;0;0;0;0;0;0;0;0'\n",
    "mktData[mktData['DAF4f'].isna()].loc[:,'DAF4f'] = '0;0;0;0;0;0;0;0;0;0;0;0;0;0;0;0;0;0;0;0'\n",
    "mktData['DAF0f'] = mktData['DAF0f'].fillna('0;0;0;0;0;0;0;0;0;0;0;0;0;0;0;0;0;0;0;0')\n",
    "mktData['DAF4f'] = mktData['DAF4f'].fillna('0;0;0;0;0;0;0;0;0;0;0;0;0;0;0;0;0;0;0;0')\n",
    "mktData = mktData.fillna(0)"
   ]
  },
  {
   "cell_type": "code",
   "execution_count": null,
   "metadata": {
    "ExecuteTime": {
     "end_time": "2019-03-07T11:57:59.823666Z",
     "start_time": "2019-03-07T11:57:59.755285Z"
    },
    "hidden": true
   },
   "outputs": [],
   "source": [
    "dfRecomb = pd.read_csv(DATA + '/genesRecombination.tab',sep='\\t')\n",
    "dfRecomb.columns = ['id','recomb']\n",
    "mktData = pd.merge(mktData,dfRecomb,on=['id'])"
   ]
  },
  {
   "cell_type": "code",
   "execution_count": null,
   "metadata": {
    "ExecuteTime": {
     "end_time": "2019-03-07T11:58:04.464912Z",
     "start_time": "2019-03-07T11:58:04.432576Z"
    },
    "hidden": true
   },
   "outputs": [],
   "source": [
    "mktData.columns = ['Name', 'Pop', 'DAF0f', 'DAF4f', 'p0', 'pi', 'di', 'd0', 'chr','symbol','mi','m0','recomb']\n",
    "mktData = mktData[['Name', 'Pop', 'DAF0f', 'DAF4f', 'p0', 'pi', 'di', 'd0', 'chr','mi','m0','recomb']]"
   ]
  },
  {
   "cell_type": "code",
   "execution_count": null,
   "metadata": {
    "ExecuteTime": {
     "end_time": "2019-03-07T11:58:32.896526Z",
     "start_time": "2019-03-07T11:58:32.863242Z"
    },
    "hidden": true
   },
   "outputs": [],
   "source": [
    "mktData.head()"
   ]
  },
  {
   "cell_type": "code",
   "execution_count": null,
   "metadata": {
    "ExecuteTime": {
     "end_time": "2019-03-07T11:58:58.528889Z",
     "start_time": "2019-03-07T11:58:58.082766Z"
    },
    "hidden": true
   },
   "outputs": [],
   "source": [
    "mktData.to_csv('/home/jmurga/mkt/201902/results/dmelData.tab',sep='\\t',header=True,index=False)"
   ]
  },
  {
   "cell_type": "markdown",
   "metadata": {},
   "source": [
    "#### *D. yakuba*"
   ]
  }
 ],
 "metadata": {
  "kernelspec": {
   "display_name": "Python 3",
   "language": "python",
   "name": "python3"
  },
  "language_info": {
   "codemirror_mode": {
    "name": "ipython",
    "version": 3
   },
   "file_extension": ".py",
   "mimetype": "text/x-python",
   "name": "python",
   "nbconvert_exporter": "python",
   "pygments_lexer": "ipython3",
   "version": "3.6.7"
  },
  "toc": {
   "base_numbering": 1,
   "nav_menu": {},
   "number_sections": true,
   "sideBar": true,
   "skip_h1_title": false,
   "title_cell": "Table of Contents",
   "title_sidebar": "Contents",
   "toc_cell": false,
   "toc_position": {
    "height": "calc(100% - 180px)",
    "left": "10px",
    "top": "150px",
    "width": "165px"
   },
   "toc_section_display": true,
   "toc_window_display": true
  },
  "varInspector": {
   "cols": {
    "lenName": 16,
    "lenType": 16,
    "lenVar": 40
   },
   "kernels_config": {
    "python": {
     "delete_cmd_postfix": "",
     "delete_cmd_prefix": "del ",
     "library": "var_list.py",
     "varRefreshCmd": "print(var_dic_list())"
    },
    "r": {
     "delete_cmd_postfix": ") ",
     "delete_cmd_prefix": "rm(",
     "library": "var_list.r",
     "varRefreshCmd": "cat(var_dic_list()) "
    }
   },
   "oldHeight": 122.85,
   "position": {
    "height": "307px",
    "left": "1010px",
    "right": "20px",
    "top": "120px",
    "width": "250px"
   },
   "types_to_exclude": [
    "module",
    "function",
    "builtin_function_or_method",
    "instance",
    "_Feature"
   ],
   "varInspector_section_display": "none",
   "window_display": false
  }
 },
 "nbformat": 4,
 "nbformat_minor": 2
}
