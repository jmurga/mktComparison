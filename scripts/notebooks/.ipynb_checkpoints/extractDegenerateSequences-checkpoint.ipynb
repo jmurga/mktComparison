{
 "cells": [
  {
   "cell_type": "markdown",
   "metadata": {},
   "source": [
    "### Drosophila melanogaster genes "
   ]
  },
  {
   "cell_type": "markdown",
   "metadata": {},
   "source": [
    "To execute bash code we created a snippets through nbextensions containing the following paths in order to avoid copy and paste cell contains. %%bash magic do not recognize previous variables. Adding mkdir command to create necesary paths"
   ]
  },
  {
   "cell_type": "code",
   "execution_count": null,
   "metadata": {
    "ExecuteTime": {
     "end_time": "2019-02-16T14:59:36.033456Z",
     "start_time": "2019-02-16T14:59:36.021246Z"
    }
   },
   "outputs": [],
   "source": [
    "%%bash\n",
    "DATA='/home/jmurga/mkt/201902/rawData/annotations'\n",
    "BASIC='/home/jmurga/mkt/201902/rawData/annotations/basicAnnotation'\n",
    "CDS='/home/jmurga/mkt/201902/rawData/annotations/cds'\n",
    "GENES='/home/jmurga/mkt/201902/rawData/annotations/genes'\n",
    "TEMPORAL='/home/jmurga/mkt/201902/rawData/annotations/tmp'\n",
    "\n",
    "mkdir -p ${DATA}\n",
    "mkdir -p ${BASIC}\n",
    "mkdir -p ${CDS}\n",
    "mkdir -p ${GENES}\n",
    "mkdir -p ${TEMPORAL}"
   ]
  },
  {
   "cell_type": "markdown",
   "metadata": {},
   "source": [
    "Defining global path to python. In this case these variables will be stored after one execution"
   ]
  },
  {
   "cell_type": "code",
   "execution_count": null,
   "metadata": {
    "ExecuteTime": {
     "end_time": "2019-02-17T09:27:56.420038Z",
     "start_time": "2019-02-17T09:27:56.414293Z"
    }
   },
   "outputs": [],
   "source": [
    "SRC='/home/jmurga/mkt/201902/scripts/src'\n",
    "DATA='/home/jmurga/mkt/201902/rawData'"
   ]
  },
  {
   "cell_type": "markdown",
   "metadata": {},
   "source": [
    "Required libraries"
   ]
  },
  {
   "cell_type": "code",
   "execution_count": null,
   "metadata": {
    "ExecuteTime": {
     "end_time": "2019-02-17T09:27:45.812805Z",
     "start_time": "2019-02-17T09:27:45.653586Z"
    }
   },
   "outputs": [],
   "source": [
    "import os\n",
    "import re\n",
    "import sys\n",
    "import numpy as np\n",
    "import pandas as pd\n",
    "from numpy import array \n",
    "from pyfaidx import Fasta"
   ]
  },
  {
   "cell_type": "markdown",
   "metadata": {},
   "source": [
    "#### Download Flybase annotation"
   ]
  },
  {
   "cell_type": "code",
   "execution_count": null,
   "metadata": {
    "ExecuteTime": {
     "end_time": "2019-02-16T15:00:16.932169Z",
     "start_time": "2019-02-16T14:59:49.290829Z"
    }
   },
   "outputs": [],
   "source": [
    "%%bash\n",
    "DATA='/home/jmurga/mkt/201902/rawData/annotations'\n",
    "\n",
    "cd ${DATA}\n",
    "# Flybase annotation\n",
    "wget ftp://ftp.flybase.net/genomes/Drosophila_melanogaster/dmel_r5.57_FB2014_03/gff/dmel-all-no-analysis-r5.57.gff.gz\n",
    "gunzip dmel-all-no-analysis-r5.57.gff.gz"
   ]
  },
  {
   "cell_type": "markdown",
   "metadata": {},
   "source": [
    "#### Parsing and cleaning flybase annotation to execute all operations by chr\n",
    "Next operation will be faster due to grep on smaller files. Space is not a problem in our server right now. Each folder contain an specific file foreach chromosome. "
   ]
  },
  {
   "cell_type": "code",
   "execution_count": null,
   "metadata": {
    "ExecuteTime": {
     "end_time": "2019-02-16T15:01:13.993165Z",
     "start_time": "2019-02-16T15:01:05.675233Z"
    }
   },
   "outputs": [],
   "source": [
    "%%bash\n",
    "DATA='/home/jmurga/mkt/201902/rawData/annotations'\n",
    "BASIC='/home/jmurga/mkt/201902/rawData/annotations/basicAnnotation'\n",
    "CDS='/home/jmurga/mkt/201902/rawData/annotations/cds'\n",
    "GENES='/home/jmurga/mkt/201902/rawData/annotations/genes'\n",
    "TEMPORAL='/home/jmurga/mkt/201902/rawData/annotations/tmp'\n",
    "\n",
    "mkdir -p ${BASIC}\n",
    "mkdir -p ${CDS}\n",
    "mkdir -p ${GENES}\n",
    "mkdir -p ${TEMPORAL}\n",
    "\n",
    "# Extract sequences f\n",
    "# Extract annotations from gff file\n",
    "sed -e '/^>/,$d' ${DATA}/dmel-all-no-analysis-r5.57.gff | sed -e '/^2LHet/d' -e  '/2RHet/d' -e '/3LHet/d' -e '/3RHet/d' -e  '/^4\\t/d' -e '/dmel_mitochondrion_genome/d' -e '/^U\\t/d' -e '/^Uextra\\t/d' -e  '/^XHet\\t/d' -e '/^YHet\\t/d' -e'/\\tCG/d' > ${DATA}/dmelFiltered.gff\n",
    "# Extract genes information\n",
    "grep -P \"\\tgene\\t\" ${DATA}/dmelFiltered.gff  > ${DATA}/dmelFilteredGenes.gff\n",
    "# Extract CDS information. Only protein coding genes\n",
    "grep -P \"\\tCDS\\t\" ${DATA}/dmelFiltered.gff  > ${DATA}/dmelFilteredCds.gff\n",
    "# Coding gene list. gene_id always on column 9, 3th field\n",
    "cut -f1,9 ${DATA}/dmelFilteredCds.gff | tr ';' '\\t' | cut -f1,2 | sort -u | sort -k1,1 > ${DATA}/codingGeneList.txt\n",
    "\n",
    "\n",
    "CHR=( 2L 2R 3L 3R X )\n",
    "# Parse gff file by chr\n",
    "for chrNumber in \"${CHR[@]}\"\n",
    "do\n",
    "    grep -P \"${chrNumber}\\t\"  ${DATA}/dmelFilteredGenes.gff | sort -k4,4n > ${BASIC}/gencode.v27lift37.basic.annotation.chr${chrNumber}.gff3 \n",
    "    grep -P \"${chrNumber}\\t\"  ${DATA}/dmelFilteredCds.gff | sort -k1,1 -k4,4n > ${CDS}/dmelFilteredCdsChr${chrNumber}.gff3 \n",
    "    grep -P \"${chrNumber}\\t\"  ${DATA}/dmelFilteredGenes.gff | sort -k1,1 -k4,4n > ${GENES}/dmelFilteredGenesChr${chrNumber}.gff3 \n",
    "done\n",
    "\n",
    "rm ${DATA}/dmel-all-no-analysis-r5.57.gff"
   ]
  },
  {
   "cell_type": "markdown",
   "metadata": {},
   "source": [
    "#### Basic cleaned gene file\n",
    "This file will include information about chromosomes, start coordinates, end coordinates strand, gene id and gene name. It will be and perform calculations on gene coordinates. Kind of gff file easier to work with"
   ]
  },
  {
   "cell_type": "code",
   "execution_count": null,
   "metadata": {
    "ExecuteTime": {
     "end_time": "2019-02-16T15:23:44.379526Z",
     "start_time": "2019-02-16T15:22:35.547591Z"
    }
   },
   "outputs": [],
   "source": [
    "%%bash\n",
    "DATA='/home/jmurga/mkt/201902/rawData/annotations'\n",
    "GENES='/home/jmurga/mkt/201902/rawData/annotations/genes'\n",
    "touch ${DATA}/flybaseGenesCleaned.tab \n",
    "printf \"chr\\tstartGene\\tendGene\\tstrand\\tid\\tname\\n\" > ${DATA}/flybaseGenesCleaned.tab\n",
    "\n",
    "time while read LINE;\n",
    "do \n",
    "    CHR=$(echo ${LINE} | cut -d' ' -f1)\n",
    "    GENE=$(echo ${LINE} | cut -d' ' -f2 | sed 's/-cds//g')\n",
    "    # echo $GENE\n",
    "\n",
    "    fgrep `echo \"${GENE};\"`  ${GENES}/dmelFilteredGenesChr${CHR}.gff3 | fgrep ${CHR} |  cut -f1,4,5,7,9 | tr ';' '\\t' | cut -f1,2,3,4,5,6 \n",
    "    \n",
    "done < ${DATA}/codingGeneList.txt | tr ' ' '\\t' | sed 's/ID=//g' | sed 's/Name=//g' | sort -k1,1 -k2,2n >> ${DATA}/flybaseGenesCleaned.tab"
   ]
  },
  {
   "cell_type": "code",
   "execution_count": null,
   "metadata": {
    "ExecuteTime": {
     "end_time": "2019-02-16T15:24:13.499381Z",
     "start_time": "2019-02-16T15:24:13.453191Z"
    }
   },
   "outputs": [],
   "source": [
    "dfGenes = pd.read_csv(DATA + '/annotations/flybaseGenesCleaned.tab',header = 0,sep='\\t')\n",
    "dfGenes.head()"
   ]
  },
  {
   "cell_type": "markdown",
   "metadata": {
    "ExecuteTime": {
     "end_time": "2019-01-29T15:16:03.643881Z",
     "start_time": "2019-01-29T15:16:03.602413Z"
    }
   },
   "source": [
    "File to merge features annotated with gene name instead of gene id"
   ]
  },
  {
   "cell_type": "code",
   "execution_count": null,
   "metadata": {
    "ExecuteTime": {
     "end_time": "2019-02-16T15:24:15.363844Z",
     "start_time": "2019-02-16T15:24:15.343222Z"
    }
   },
   "outputs": [],
   "source": [
    "idName = dfGenes[['id','name']]\n",
    "idName.to_csv(DATA + '/annotations/idName.tab',sep='\\t',index=False,header=True)"
   ]
  },
  {
   "cell_type": "markdown",
   "metadata": {},
   "source": [
    "#### Extracting CDS coordinates from largest transcript by gene\n",
    "From the largest transcript we recover id, size, and CDS coordinates. Moreover we save number of transcripts too.  \n",
    "Coordinates will be used to recover CDS sequences and to calcute Derived Allele Frequencies from 0fold and 4fold degenerate sequences"
   ]
  },
  {
   "cell_type": "code",
   "execution_count": null,
   "metadata": {
    "ExecuteTime": {
     "end_time": "2019-02-16T15:26:53.634726Z",
     "start_time": "2019-02-16T15:26:53.404821Z"
    },
    "code_folding": []
   },
   "outputs": [],
   "source": [
    "%%bash\n",
    "DATA='/home/jmurga/mkt/201902/rawData/annotations'\n",
    "CDS='/home/jmurga/mkt/201902/rawData/annotations/cds'\n",
    "TEMPORAL='/home/jmurga/mkt/201902/rawData/annotations/tmp'\n",
    "\n",
    "touch ${DATA}/cdsCoordinates.tab\n",
    "printf \"name\\tchr\\tnumberOfTranscript\\ttranscript\\ttranscriptSize\\tcoordinates\\n\" > ${DATA}/cdsCoordinates.tab\n",
    "\n",
    "count=0\n",
    "time tail -n+2 ${DATA}/flybaseGenesCleaned.tab | while read LINE;\n",
    "do \n",
    "    echo '*************'    \n",
    "    CHR=$(echo ${LINE} | cut -d' ' -f1)\n",
    "    GENE=$(echo ${LINE} | cut -d' ' -f6)\n",
    "    \n",
    "    printf ${count}\n",
    "    # fgrep ${GENE} ${CDS}/dmelFilteredCdsChr${CHR}.gff3 | cut -f9 | cut -d';' -f2 | cut -d'=' -f2 | sort -u > ${TEMPORAL}/transcriptTmp.tab\n",
    "    \n",
    "    fgrep `echo \"Name=${GENE}-cds;\"` ${CDS}/dmelFilteredCdsChr${CHR}.gff3 | grep -P \"${CHR}\\t\" | cut -f9 | tr ';' '\\n' | fgrep Parent | sort -u | tr ',' '\\n' | cut -d'=' -f2 | sort -u > ${TEMPORAL}/transcriptTmp.tab\n",
    "\n",
    "    largestTranscript=$(while read transcript; do fgrep ${transcript} ${CDS}/dmelFilteredCdsChr${CHR}.gff3 | awk '{print $5-$4}' | awk -v transcript=\"$transcript\"  '{sum+=$1} END{print transcript\"\\t\"sum}' ;done < ${TEMPORAL}/transcriptTmp.tab | sort -nrk2,2 | head -1 )\n",
    "    \n",
    "    paste <(echo $GENE) <(echo $CHR) <(wc -l ${TEMPORAL}/transcriptTmp.tab | cut -d' ' -f1) <(echo $largestTranscript | cut -d' ' -f1) <(echo $largestTranscript | cut -d' ' -f2) <(fgrep `echo ${largestTranscript} | cut -d' ' -f1` ${CDS}/dmelFilteredCdsChr${CHR}.gff3  | cut -f4,5 | sort -k1,1n | awk '{printf $1\",\"$2\",\"}' | sed 's/.$//') >> ${DATA}/cdsCoordinates.tab\n",
    "    \n",
    "    (( count++ ))\n",
    "\n",
    "done \n"
   ]
  },
  {
   "cell_type": "markdown",
   "metadata": {},
   "source": [
    "Opening cdsCoordinates file to extract fasta sequence using pyfaidx"
   ]
  },
  {
   "cell_type": "code",
   "execution_count": 13,
   "metadata": {
    "ExecuteTime": {
     "end_time": "2019-02-17T11:56:55.811709Z",
     "start_time": "2019-02-17T11:56:55.760055Z"
    },
    "scrolled": true
   },
   "outputs": [],
   "source": [
    "dfGenes = pd.read_csv(DATA + '/annotations/flybaseGenesCleaned.tab',header = 0,usecols=['id','name','chr','strand'],sep='\\t')\n",
    "\n",
    "cds = pd.read_csv(DATA + '/annotations/cdsCoordinates.tab',header=0,usecols=['name','chr','coordinates'],sep='\\t')\n",
    "\n",
    "cds = pd.merge(cds, dfGenes,  how='inner', left_on=['chr','name'], right_on = ['chr','name'])"
   ]
  },
  {
   "cell_type": "code",
   "execution_count": 14,
   "metadata": {
    "ExecuteTime": {
     "end_time": "2019-02-17T11:56:56.604584Z",
     "start_time": "2019-02-17T11:56:56.594230Z"
    }
   },
   "outputs": [
    {
     "data": {
      "text/html": [
       "<div>\n",
       "<style scoped>\n",
       "    .dataframe tbody tr th:only-of-type {\n",
       "        vertical-align: middle;\n",
       "    }\n",
       "\n",
       "    .dataframe tbody tr th {\n",
       "        vertical-align: top;\n",
       "    }\n",
       "\n",
       "    .dataframe thead th {\n",
       "        text-align: right;\n",
       "    }\n",
       "</style>\n",
       "<table border=\"1\" class=\"dataframe\">\n",
       "  <thead>\n",
       "    <tr style=\"text-align: right;\">\n",
       "      <th></th>\n",
       "      <th>name</th>\n",
       "      <th>chr</th>\n",
       "      <th>coordinates</th>\n",
       "      <th>strand</th>\n",
       "      <th>id</th>\n",
       "    </tr>\n",
       "  </thead>\n",
       "  <tbody>\n",
       "    <tr>\n",
       "      <th>0</th>\n",
       "      <td>CG11023</td>\n",
       "      <td>2L</td>\n",
       "      <td>7680,8116,8193,8589,8668,9276</td>\n",
       "      <td>+</td>\n",
       "      <td>FBgn0031208</td>\n",
       "    </tr>\n",
       "    <tr>\n",
       "      <th>1</th>\n",
       "      <td>l(2)gl</td>\n",
       "      <td>2L</td>\n",
       "      <td>11215,11344,11410,11518,11779,12221,12286,1292...</td>\n",
       "      <td>-</td>\n",
       "      <td>FBgn0002121</td>\n",
       "    </tr>\n",
       "    <tr>\n",
       "      <th>2</th>\n",
       "      <td>Ir21a</td>\n",
       "      <td>2L</td>\n",
       "      <td>21919,22687,22743,22935,22994,23873,23929,2421...</td>\n",
       "      <td>-</td>\n",
       "      <td>FBgn0031209</td>\n",
       "    </tr>\n",
       "    <tr>\n",
       "      <th>3</th>\n",
       "      <td>Cda5</td>\n",
       "      <td>2L</td>\n",
       "      <td>26521,26688,26766,26964,27053,27490,28015,2824...</td>\n",
       "      <td>-</td>\n",
       "      <td>FBgn0051973</td>\n",
       "    </tr>\n",
       "    <tr>\n",
       "      <th>4</th>\n",
       "      <td>dbr</td>\n",
       "      <td>2L</td>\n",
       "      <td>67625,67762,67892,68023,68085,70549,70607,70895</td>\n",
       "      <td>+</td>\n",
       "      <td>FBgn0067779</td>\n",
       "    </tr>\n",
       "  </tbody>\n",
       "</table>\n",
       "</div>"
      ],
      "text/plain": [
       "      name chr                                        coordinates strand  \\\n",
       "0  CG11023  2L                      7680,8116,8193,8589,8668,9276      +   \n",
       "1   l(2)gl  2L  11215,11344,11410,11518,11779,12221,12286,1292...      -   \n",
       "2    Ir21a  2L  21919,22687,22743,22935,22994,23873,23929,2421...      -   \n",
       "3     Cda5  2L  26521,26688,26766,26964,27053,27490,28015,2824...      -   \n",
       "4      dbr  2L    67625,67762,67892,68023,68085,70549,70607,70895      +   \n",
       "\n",
       "            id  \n",
       "0  FBgn0031208  \n",
       "1  FBgn0002121  \n",
       "2  FBgn0031209  \n",
       "3  FBgn0051973  \n",
       "4  FBgn0067779  "
      ]
     },
     "execution_count": 14,
     "metadata": {},
     "output_type": "execute_result"
    }
   ],
   "source": [
    "cds.head()"
   ]
  },
  {
   "cell_type": "code",
   "execution_count": 17,
   "metadata": {
    "ExecuteTime": {
     "end_time": "2019-02-17T11:57:44.849383Z",
     "start_time": "2019-02-17T11:57:44.840545Z"
    }
   },
   "outputs": [],
   "source": [
    "sys.path.insert(0, SRC)\n",
    "from reverseComplement import reverseComplement\n",
    "from degen import degenerate"
   ]
  },
  {
   "cell_type": "code",
   "execution_count": 28,
   "metadata": {
    "ExecuteTime": {
     "end_time": "2019-02-17T12:01:14.694547Z",
     "start_time": "2019-02-17T12:01:14.633743Z"
    },
    "code_folding": [
     31
    ],
    "scrolled": true
   },
   "outputs": [
    {
     "name": "stdout",
     "output_type": "stream",
     "text": [
      "   5    11   20   29   35   41   53   56   59   65    ... 1364 1367 1373 1379  \\\n",
      "0     C    G    A    A    G    A    G    A    A    G  ...    G    A    C    C   \n",
      "1     N    N    N    N    N    N    N    N    N    N  ...    G    A    C    C   \n",
      "2     C    G    A    A    G    A    G    A    A    G  ...    G    A    C    C   \n",
      "3     C    G    A    A    G    A    G    A    A    G  ...    G    A    C    C   \n",
      "4     C    G    A    A    G    A    G    A    A    G  ...    G    A    C    C   \n",
      "5     C    G    A    A    G    A    G    A    A    G  ...    G    A    C    C   \n",
      "6     C    G    A    A    G    A    G    A    A    G  ...    G    A    C    C   \n",
      "7     C    G    A    A    G    A    G    A    A    G  ...    G    A    C    C   \n",
      "8     C    G    A    A    G    A    G    A    A    G  ...    G    A    C    C   \n",
      "9     C    G    A    A    G    A    G    A    A    G  ...    G    A    C    C   \n",
      "10    C    G    A    A    G    A    G    A    A    G  ...    G    A    C    C   \n",
      "11    C    G    A    A    G    A    G    A    A    G  ...    G    A    C    C   \n",
      "12    C    G    A    A    G    A    G    A    A    G  ...    G    A    C    C   \n",
      "13    C    G    A    A    G    A    G    A    A    G  ...    G    A    C    C   \n",
      "14    C    G    A    A    G    A    G    A    A    G  ...    G    A    C    C   \n",
      "15    C    G    A    A    G    A    G    A    A    G  ...    G    A    C    C   \n",
      "16    C    G    A    A    G    A    G    A    A    G  ...    G    A    C    C   \n",
      "17    C    G    A    A    G    A    G    A    A    G  ...    G    A    C    C   \n",
      "18    C    G    A    A    G    A    G    A    A    G  ...    G    A    C    C   \n",
      "19    C    G    A    A    G    A    G    A    A    G  ...    G    A    C    C   \n",
      "20    C    G    A    A    G    A    G    A    A    G  ...    G    A    C    C   \n",
      "21    C    G    A    A    G    A    G    A    A    G  ...    G    A    C    C   \n",
      "22    C    G    A    A    G    A    G    A    A    G  ...    G    A    C    C   \n",
      "23    C    G    A    A    G    A    G    A    A    G  ...    G    A    C    C   \n",
      "24    C    G    A    A    G    A    G    A    A    G  ...    G    A    C    C   \n",
      "25    C    G    A    A    G    A    G    A    A    G  ...    G    A    C    C   \n",
      "26    C    G    A    A    G    A    G    A    A    G  ...    G    A    C    C   \n",
      "27    C    G    A    A    G    A    G    A    A    G  ...    G    A    C    C   \n",
      "28    C    G    A    A    G    A    G    A    A    G  ...    G    A    C    C   \n",
      "29    C    G    A    A    G    A    G    A    A    G  ...    G    A    C    C   \n",
      "..  ...  ...  ...  ...  ...  ...  ...  ...  ...  ...  ...  ...  ...  ...  ...   \n",
      "58    C    G    A    A    G    A    G    A    A    G  ...    G    A    C    C   \n",
      "59    C    G    A    A    G    A    G    A    A    G  ...    G    A    C    C   \n",
      "60    C    G    A    A    G    A    G    A    A    G  ...    G    A    C    C   \n",
      "61    C    G    A    A    G    A    G    A    A    G  ...    G    A    C    C   \n",
      "62    C    G    A    A    G    A    G    A    A    G  ...    G    A    C    C   \n",
      "63    C    G    A    A    G    A    G    A    A    G  ...    G    A    C    C   \n",
      "64    C    G    A    A    G    A    G    A    A    G  ...    G    A    C    C   \n",
      "65    C    G    A    A    G    A    G    A    A    G  ...    G    A    C    C   \n",
      "66    C    G    A    A    G    N    G    A    A    G  ...    G    A    C    C   \n",
      "67    C    G    A    A    G    A    G    A    A    G  ...    G    A    C    C   \n",
      "68    C    G    A    A    G    A    G    A    A    G  ...    G    A    C    C   \n",
      "69    C    G    A    A    G    A    G    A    A    G  ...    G    A    C    C   \n",
      "70    C    G    A    A    G    A    G    A    A    G  ...    G    A    C    C   \n",
      "71    C    G    A    A    G    A    G    A    A    G  ...    G    A    C    C   \n",
      "72    C    G    A    A    G    A    G    A    A    G  ...    G    A    C    C   \n",
      "73    C    G    A    A    G    A    G    A    A    G  ...    G    A    C    C   \n",
      "74    C    G    A    A    N    N    G    A    A    G  ...    G    A    C    C   \n",
      "75    C    G    A    A    G    A    G    A    A    G  ...    G    A    C    C   \n",
      "76    C    G    A    A    G    A    G    A    A    G  ...    G    A    C    C   \n",
      "77    N    G    A    A    G    A    G    A    A    G  ...    G    A    C    C   \n",
      "78    C    G    A    A    G    A    G    A    A    G  ...    G    A    C    C   \n",
      "79    C    G    A    A    G    A    G    A    A    G  ...    G    A    C    C   \n",
      "80    C    G    A    A    G    A    G    A    A    G  ...    G    A    C    C   \n",
      "81    C    G    A    A    G    A    G    A    A    G  ...    G    A    C    C   \n",
      "82    C    G    A    A    G    A    G    A    A    G  ...    G    A    C    C   \n",
      "83    C    G    A    A    G    A    G    A    A    G  ...    G    A    C    C   \n",
      "84    C    G    A    A    G    A    G    A    A    G  ...    G    A    C    C   \n",
      "85    C    G    A    A    G    A    G    A    A    G  ...    G    A    C    C   \n",
      "86    C    G    A    A    G    A    G    A    A    G  ...    G    A    C    C   \n",
      "87    N    N    N    N    N    N    N    N    N    N  ...    N    N    N    N   \n",
      "\n",
      "   1385 1403 1415 1418 1427 1433  \n",
      "0     G    C    T    A    C    A  \n",
      "1     G    C    T    A    C    A  \n",
      "2     G    C    T    A    C    A  \n",
      "3     G    C    T    A    C    A  \n",
      "4     G    C    T    A    C    A  \n",
      "5     G    C    T    A    C    A  \n",
      "6     G    C    T    A    C    A  \n",
      "7     G    C    T    A    C    A  \n",
      "8     G    C    T    A    C    A  \n",
      "9     G    C    T    A    C    A  \n",
      "10    G    C    T    A    C    A  \n",
      "11    G    C    T    A    C    A  \n",
      "12    G    C    T    A    C    A  \n",
      "13    G    C    T    A    C    A  \n",
      "14    G    C    T    A    C    A  \n",
      "15    G    C    T    A    C    A  \n",
      "16    G    C    T    A    C    A  \n",
      "17    G    C    T    A    C    A  \n",
      "18    G    C    T    A    C    A  \n",
      "19    G    C    T    A    C    A  \n",
      "20    G    C    T    A    C    A  \n",
      "21    G    C    T    A    C    A  \n",
      "22    G    C    T    A    C    A  \n",
      "23    G    C    T    A    C    A  \n",
      "24    G    C    T    A    C    A  \n",
      "25    G    C    T    A    C    A  \n",
      "26    G    C    T    A    C    A  \n",
      "27    G    C    T    A    C    A  \n",
      "28    G    C    T    A    C    A  \n",
      "29    G    C    T    A    C    A  \n",
      "..  ...  ...  ...  ...  ...  ...  \n",
      "58    G    C    T    A    C    A  \n",
      "59    G    C    T    A    C    A  \n",
      "60    G    C    T    A    C    A  \n",
      "61    G    C    T    A    C    A  \n",
      "62    G    C    T    A    C    A  \n",
      "63    G    C    N    A    C    A  \n",
      "64    G    C    T    A    C    A  \n",
      "65    G    C    T    A    C    A  \n",
      "66    G    C    T    A    C    A  \n",
      "67    G    C    T    A    C    A  \n",
      "68    G    C    T    A    C    A  \n",
      "69    G    C    T    A    C    A  \n",
      "70    G    C    T    A    C    A  \n",
      "71    G    C    T    A    C    A  \n",
      "72    G    C    T    A    C    A  \n",
      "73    G    C    T    A    C    A  \n",
      "74    G    C    T    A    C    A  \n",
      "75    G    C    T    A    C    A  \n",
      "76    G    C    T    A    C    A  \n",
      "77    G    C    T    A    C    A  \n",
      "78    G    C    T    A    C    A  \n",
      "79    G    C    T    A    C    A  \n",
      "80    G    C    T    A    C    A  \n",
      "81    G    C    T    A    C    A  \n",
      "82    G    C    T    A    C    A  \n",
      "83    G    C    T    A    C    A  \n",
      "84    G    C    T    A    C    A  \n",
      "85    G    C    T    A    C    A  \n",
      "86    G    C    T    A    C    A  \n",
      "87    N    N    N    N    N    N  \n",
      "\n",
      "[88 rows x 195 columns]\n"
     ]
    },
    {
     "ename": "AttributeError",
     "evalue": "'NoneType' object has no attribute 'head'",
     "output_type": "error",
     "traceback": [
      "\u001b[0;31m---------------------------------------------------------------------------\u001b[0m",
      "\u001b[0;31mAttributeError\u001b[0m                            Traceback (most recent call last)",
      "\u001b[0;32m<ipython-input-28-6447a067142c>\u001b[0m in \u001b[0;36m<module>\u001b[0;34m\u001b[0m\n\u001b[1;32m     79\u001b[0m         \u001b[0mdiv\u001b[0m \u001b[0;34m=\u001b[0m \u001b[0;34m[\u001b[0m\u001b[0;34m]\u001b[0m\u001b[0;34m\u001b[0m\u001b[0;34m\u001b[0m\u001b[0m\n\u001b[1;32m     80\u001b[0m         \u001b[0mdaf\u001b[0m \u001b[0;34m=\u001b[0m \u001b[0;34m[\u001b[0m\u001b[0;34m]\u001b[0m\u001b[0;34m\u001b[0m\u001b[0;34m\u001b[0m\u001b[0m\n\u001b[0;32m---> 81\u001b[0;31m         \u001b[0mprint\u001b[0m\u001b[0;34m(\u001b[0m\u001b[0mdf4f\u001b[0m\u001b[0;34m)\u001b[0m\u001b[0;34m.\u001b[0m\u001b[0mhead\u001b[0m\u001b[0;34m(\u001b[0m\u001b[0;34m)\u001b[0m\u001b[0;34m\u001b[0m\u001b[0;34m\u001b[0m\u001b[0m\n\u001b[0m\u001b[1;32m     82\u001b[0m         \u001b[0;32mfor\u001b[0m \u001b[0mi\u001b[0m \u001b[0;32min\u001b[0m \u001b[0mdf4f\u001b[0m\u001b[0;34m.\u001b[0m\u001b[0mcolumns\u001b[0m\u001b[0;34m:\u001b[0m\u001b[0;34m\u001b[0m\u001b[0;34m\u001b[0m\u001b[0m\n\u001b[1;32m     83\u001b[0m             \u001b[0;32mif\u001b[0m\u001b[0;34m(\u001b[0m\u001b[0;34m(\u001b[0m\u001b[0mdf4f\u001b[0m\u001b[0;34m.\u001b[0m\u001b[0mloc\u001b[0m\u001b[0;34m[\u001b[0m\u001b[0mlen\u001b[0m\u001b[0;34m(\u001b[0m\u001b[0mdf4f\u001b[0m\u001b[0;34m)\u001b[0m\u001b[0;34m-\u001b[0m\u001b[0;36m1\u001b[0m\u001b[0;34m,\u001b[0m\u001b[0mi\u001b[0m\u001b[0;34m]\u001b[0m \u001b[0;34m!=\u001b[0m \u001b[0mdf4f\u001b[0m\u001b[0;34m.\u001b[0m\u001b[0mloc\u001b[0m\u001b[0;34m[\u001b[0m\u001b[0;36m0\u001b[0m\u001b[0;34m,\u001b[0m\u001b[0mi\u001b[0m\u001b[0;34m]\u001b[0m\u001b[0;34m)\u001b[0m \u001b[0;34m&\u001b[0m \u001b[0;34m(\u001b[0m\u001b[0mlen\u001b[0m\u001b[0;34m(\u001b[0m\u001b[0mdf4f\u001b[0m\u001b[0;34m.\u001b[0m\u001b[0mloc\u001b[0m\u001b[0;34m[\u001b[0m\u001b[0;36m1\u001b[0m\u001b[0;34m:\u001b[0m\u001b[0mlen\u001b[0m\u001b[0;34m(\u001b[0m\u001b[0mdf4f\u001b[0m\u001b[0;34m)\u001b[0m\u001b[0;34m-\u001b[0m\u001b[0;36m2\u001b[0m\u001b[0;34m,\u001b[0m\u001b[0mi\u001b[0m\u001b[0;34m]\u001b[0m\u001b[0;34m.\u001b[0m\u001b[0munique\u001b[0m\u001b[0;34m(\u001b[0m\u001b[0;34m)\u001b[0m\u001b[0;34m[\u001b[0m\u001b[0mdf4f\u001b[0m\u001b[0;34m.\u001b[0m\u001b[0mloc\u001b[0m\u001b[0;34m[\u001b[0m\u001b[0;36m1\u001b[0m\u001b[0;34m:\u001b[0m\u001b[0mlen\u001b[0m\u001b[0;34m(\u001b[0m\u001b[0mdf4f\u001b[0m\u001b[0;34m)\u001b[0m\u001b[0;34m-\u001b[0m\u001b[0;36m2\u001b[0m\u001b[0;34m,\u001b[0m\u001b[0mi\u001b[0m\u001b[0;34m]\u001b[0m\u001b[0;34m.\u001b[0m\u001b[0munique\u001b[0m\u001b[0;34m(\u001b[0m\u001b[0;34m)\u001b[0m\u001b[0;34m!=\u001b[0m\u001b[0;34m'N'\u001b[0m\u001b[0;34m]\u001b[0m\u001b[0;34m)\u001b[0m\u001b[0;34m==\u001b[0m\u001b[0;36m1\u001b[0m\u001b[0;34m)\u001b[0m\u001b[0;34m)\u001b[0m\u001b[0;34m:\u001b[0m\u001b[0;34m\u001b[0m\u001b[0;34m\u001b[0m\u001b[0m\n",
      "\u001b[0;31mAttributeError\u001b[0m: 'NoneType' object has no attribute 'head'"
     ]
    }
   ],
   "source": [
    "# Rewrite file each execution\n",
    "# multifasta = open(DATA + '/annotations/fop/cds.fa', 'w')\n",
    "\n",
    "for index, row in cds[(cds['chr']=='2L') & (cds['strand']=='+')].iterrows():\n",
    "# for index, row in cds.iterrows():\n",
    "    print(index)\n",
    "    # Convert CDS list into numeric array\n",
    "    coordinates = array(row['coordinates'].split(',')).astype(int).tolist()\n",
    "    coordinates =  [coordinates[i:i+2] for i in range(0, len(coordinates), 2)]\n",
    "    \n",
    "    # Open ref and outgroup\n",
    "    ref = Fasta(DATA + '/fastas/ref/Chr' + row['chr'] +'.fasta')\n",
    "    outgroup = Fasta(DATA + '/fastas/outgroup/dsim/Simulans_Chr' + row['chr'] +'.seq')\n",
    "    \n",
    "    ## Extract ref and outgroup seq\n",
    "    refSeq = ref.get_spliced_seq(row['chr'], coordinates).seq.upper()\n",
    "    outgroupSeq = outgroup.get_spliced_seq('dsim' + row['chr'], coordinates).seq.upper()\n",
    "   \n",
    "    # Open population multifasta\n",
    "    popFasta = Fasta(DATA + '/fastas/alignments/RAL/' + 'RAL_' + 'Chr' + row['chr'] +'.seq')\n",
    "    \n",
    "    #Extract samples\n",
    "    samples = list(popFasta.keys())\n",
    "\n",
    "    # Open variables and file to write\n",
    "#     multifasta = open(DATA + '/fastas/genes/RAL/' + row['id'] +'.fa', 'w')\n",
    "    aln = ''\n",
    "    ## Empty matrix to append ref, pop and outgroup\n",
    "    matrix0f=np.empty([len(samples)+2,len(refSeq)],dtype='str')\n",
    "    matrix4f=np.empty([len(samples)+2,len(refSeq)],dtype='str')\n",
    "\n",
    "    if(row['strand'] == '-'):\n",
    "    #     if((len(refSeq)/3).is_integer()):\n",
    "        refSeq = reverseComplement(refSeq)\n",
    "        refSeq0f,refSeq4f = degenerate(refSeq)\n",
    "        outgroupSeq = reverseComplement(outgroupSeq)\n",
    "        \n",
    "        matrix4f[0] = list(refSeq4f)\n",
    "        matrix0f[0] = list(refSeq0f)\n",
    "        matrix4f[len(matrix4f)] = list(outgroupSeq)\n",
    "        matrix0f[len(matrix0f)] = list(outgroupSeq)\n",
    "\n",
    "        \n",
    "        \n",
    "        for i in range(1,len(samples)+1,1):\n",
    "            tmp = popFasta.get_spliced_seq(samples[i], coordinates).seq.upper()\n",
    "            tmp = reverseComplement(tmp)\n",
    "            matrix0f[i] = list(tmp)\n",
    "        # aln += '>' + i + '\\n' + tmp + '\\n'\n",
    "    else:\n",
    "\n",
    "        refSeq0f,refSeq4f = degenerate(refSeq)\n",
    "\n",
    "        matrix4f[0] = list(refSeq4f)\n",
    "        matrix4f[len(matrix4f)-1] = list(outgroupSeq)\n",
    "\n",
    "        # Iter by row matrix to input sequences\n",
    "        deleteIndex = []\n",
    "        for i in range(0,len(samples),1):\n",
    "            tmp = popFasta.get_spliced_seq(samples[i], coordinates).seq.upper()\n",
    "            if(tmp == 'N' * len(tmp)):\n",
    "                # Save lines index with only N\n",
    "                deleteIndex.append(i+1)\n",
    "            else:\n",
    "                matrix4f[i+1] = list(tmp)\n",
    "            # aln += '>' + i + '\\n' + tmp + '\\n'\n",
    "        # Delete lines with only N\n",
    "        matrix4f = np.delete(matrix4f,deleteIndex,0)\n",
    "        # Iter by matrix column to degenerate all sequences based on reference sequence\n",
    "        for j in range(0,matrix4f.shape[1],1):\n",
    "            # print(j)\n",
    "            if(matrix4f[0][j] == 'N'):\n",
    "                matrix4f[:,j]='N'\n",
    "            if(matrix0f[0][j]=='N'):\n",
    "                matrix0f[:,j]='N'\n",
    "        \n",
    "        df4f = pd.DataFrame(matrix4f)\n",
    "        df4f = df4f.loc[:,df4f.iloc[0]!='N']\n",
    "        div = [] \n",
    "        daf = []\n",
    "#         print(df4f).head()\n",
    "        for i in df4f.columns:\n",
    "            if((df4f.loc[len(df4f)-1,i] != df4f.loc[0,i]) & (len(df4f.loc[1:len(df4f)-2,i].unique()[df4f.loc[1:len(df4f)-2,i].unique()!='N'])==1)): \n",
    "                div.append(i) \n",
    "            else:\n",
    "                AA = df4f.loc[len(df4f)-1,i]\n",
    "                AN = len(df4f.loc[1:len(df4f)-1,i])\n",
    "                AC = df4f.loc[1:len(df4f)-1,i]\n",
    "                totalAlleles = AC[AC!='N'].unique()\n",
    "                AC = AC[AC!='N'].value_counts()\n",
    "                \n",
    "                if(len(totalAlleles) == 1):\n",
    "                    af = 0\n",
    "                else:\n",
    "                    af = AC.sort_values(ascending=False)\n",
    "                    af = AC.drop(AA)[0]/AN\n",
    "                    daf.append(af)\n",
    "#             print(daf)"
   ]
  }
 ],
 "metadata": {
  "kernelspec": {
   "display_name": "Python 3",
   "language": "python",
   "name": "python3"
  },
  "language_info": {
   "codemirror_mode": {
    "name": "ipython",
    "version": 3
   },
   "file_extension": ".py",
   "mimetype": "text/x-python",
   "name": "python",
   "nbconvert_exporter": "python",
   "pygments_lexer": "ipython3",
   "version": "3.6.8"
  },
  "toc": {
   "base_numbering": 1,
   "nav_menu": {},
   "number_sections": true,
   "sideBar": true,
   "skip_h1_title": false,
   "title_cell": "Table of Contents",
   "title_sidebar": "Contents",
   "toc_cell": false,
   "toc_position": {
    "height": "calc(100% - 180px)",
    "left": "10px",
    "top": "150px",
    "width": "165px"
   },
   "toc_section_display": true,
   "toc_window_display": true
  },
  "varInspector": {
   "cols": {
    "lenName": 16,
    "lenType": 16,
    "lenVar": 40
   },
   "kernels_config": {
    "python": {
     "delete_cmd_postfix": "",
     "delete_cmd_prefix": "del ",
     "library": "var_list.py",
     "varRefreshCmd": "print(var_dic_list())"
    },
    "r": {
     "delete_cmd_postfix": ") ",
     "delete_cmd_prefix": "rm(",
     "library": "var_list.r",
     "varRefreshCmd": "cat(var_dic_list()) "
    }
   },
   "oldHeight": 122.85,
   "position": {
    "height": "40px",
    "left": "1010px",
    "right": "20px",
    "top": "120px",
    "width": "250px"
   },
   "types_to_exclude": [
    "module",
    "function",
    "builtin_function_or_method",
    "instance",
    "_Feature"
   ],
   "varInspector_section_display": "none",
   "window_display": false
  }
 },
 "nbformat": 4,
 "nbformat_minor": 2
}
