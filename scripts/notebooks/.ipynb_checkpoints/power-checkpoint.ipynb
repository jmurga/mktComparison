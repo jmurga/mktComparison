{
 "cells": [
  {
   "cell_type": "code",
   "execution_count": 2,
   "metadata": {
    "ExecuteTime": {
     "end_time": "2019-02-25T09:30:24.015459Z",
     "start_time": "2019-02-25T09:34:03.360Z"
    }
   },
   "outputs": [
    {
     "name": "stderr",
     "output_type": "stream",
     "text": [
      "\n",
      "Attaching package: ‘cowplot’\n",
      "\n",
      "The following object is masked from ‘package:ggplot2’:\n",
      "\n",
      "    ggsave\n",
      "\n"
     ]
    }
   ],
   "source": [
    "library(data.table)\n",
    "library(dplyr)\n",
    "library(ggplot2)\n",
    "library(cowplot)\n",
    "source('/home/jmurga/mkt/201902/scripts/src/plotStyle.R')\n",
    "source('/home/jmurga/mkt/201902/scripts/src/minimumNumberPi.R')"
   ]
  },
  {
   "cell_type": "code",
   "execution_count": 2,
   "metadata": {
    "ExecuteTime": {
     "end_time": "2019-02-19T09:08:35.164703Z",
     "start_time": "2019-02-19T09:12:16.048Z"
    }
   },
   "outputs": [],
   "source": [
    "options(repr.plot.width=6, repr.plot.height=4)"
   ]
  },
  {
   "cell_type": "code",
   "execution_count": 3,
   "metadata": {
    "ExecuteTime": {
     "end_time": "2019-02-19T09:08:36.124308Z",
     "start_time": "2019-02-19T09:12:16.597Z"
    }
   },
   "outputs": [],
   "source": [
    "load('/home/jmurga/mkt/201902/rawData/popflydata.RData')\n",
    "dataset <- popflydata[pop=='RAL']"
   ]
  },
  {
   "cell_type": "code",
   "execution_count": 4,
   "metadata": {
    "ExecuteTime": {
     "end_time": "2019-02-19T09:08:50.605151Z",
     "start_time": "2019-02-19T09:12:17.273Z"
    }
   },
   "outputs": [
    {
     "data": {
      "text/html": [
       "<table>\n",
       "<thead><tr><th scope=col>pop</th><th scope=col>id</th><th scope=col>chr</th><th scope=col>start</th><th scope=col>end</th><th scope=col>p0</th><th scope=col>pi</th><th scope=col>d0</th><th scope=col>di</th><th scope=col>m0</th><th scope=col>mi</th><th scope=col>daf0f</th><th scope=col>daf4f</th><th scope=col>cM_Mb</th></tr></thead>\n",
       "<tbody>\n",
       "\t<tr><td>RAL                                     </td><td>FBgn0000008                             </td><td>2R                                      </td><td>18024473                                </td><td>18060339                                </td><td>42                                      </td><td>44                                      </td><td>32                                      </td><td> 19                                     </td><td>647                                     </td><td>2449                                    </td><td>30;8;1;1;1;0;0;0;1;1;0;0;1;0;0;0;0;0;0;0</td><td>22;4;6;2;0;0;1;1;1;0;0;2;1;0;0;0;1;0;0;1</td><td>2.1692837                               </td></tr>\n",
       "\t<tr><td>RAL                                     </td><td>FBgn0000014                             </td><td>3R                                      </td><td>12632936                                </td><td>12655771                                </td><td> 4                                      </td><td> 2                                      </td><td>20                                      </td><td>  0                                     </td><td>155                                     </td><td> 643                                    </td><td>2;0;0;0;0;0;0;0;0;0;0;0;0;0;0;0;0;0;0;0 </td><td>1;0;0;2;0;0;0;0;0;0;0;0;0;0;0;0;0;1;0;0 </td><td>0.7616990                               </td></tr>\n",
       "\t<tr><td>RAL                                     </td><td>FBgn0000015                             </td><td>3R                                      </td><td>12752932                                </td><td>12797958                                </td><td> 9                                      </td><td> 4                                      </td><td> 3                                      </td><td>  0                                     </td><td>150                                     </td><td> 630                                    </td><td>4;0;0;0;0;0;0;0;0;0;0;0;0;0;0;0;0;0;0;0 </td><td>3;0;1;0;0;0;1;0;0;0;1;2;0;0;1;0;0;0;0;0 </td><td>0.4352566                               </td></tr>\n",
       "\t<tr><td>RAL                                     </td><td>FBgn0000017                             </td><td>3L                                      </td><td>16608966                                </td><td>16640982                                </td><td>21                                      </td><td>17                                      </td><td>81                                      </td><td>134                                     </td><td>867                                     </td><td>3263                                    </td><td>16;0;0;0;0;0;0;0;0;0;0;0;0;0;0;1;0;0;0;0</td><td>15;2;0;0;0;0;0;0;0;0;0;0;0;0;2;0;0;0;0;2</td><td>0.8999361                               </td></tr>\n",
       "\t<tr><td>RAL                                     </td><td>FBgn0000018                             </td><td>2L                                      </td><td>10973443                                </td><td>10975293                                </td><td>13                                      </td><td>10                                      </td><td>18                                      </td><td> 17                                     </td><td>232                                     </td><td>1019                                    </td><td>5;0;0;0;0;1;0;1;0;0;0;0;2;1;0;0;0;0;0;0 </td><td>5;2;1;0;0;0;2;1;0;1;0;0;1;0;0;0;0;0;0;0 </td><td>2.9318767                               </td></tr>\n",
       "\t<tr><td>RAL                                     </td><td>FBgn0000022                             </td><td>X                                       </td><td>  264064                                </td><td>  264980                                </td><td> 0                                      </td><td> 1                                      </td><td>17                                      </td><td> 73                                     </td><td> 63                                     </td><td> 345                                    </td><td>0;1;0;0;0;0;0;0;0;0;0;0;0;0;0;0;0;0;0;0 </td><td>0;0;0;0;0;0;0;0;0;0;0;0;0;0;0;0;0;0;0;0 </td><td>0.0000000                               </td></tr>\n",
       "</tbody>\n",
       "</table>\n"
      ],
      "text/latex": [
       "\\begin{tabular}{r|llllllllllllll}\n",
       " pop & id & chr & start & end & p0 & pi & d0 & di & m0 & mi & daf0f & daf4f & cM\\_Mb\\\\\n",
       "\\hline\n",
       "\t RAL                                      & FBgn0000008                              & 2R                                       & 18024473                                 & 18060339                                 & 42                                       & 44                                       & 32                                       &  19                                      & 647                                      & 2449                                     & 30;8;1;1;1;0;0;0;1;1;0;0;1;0;0;0;0;0;0;0 & 22;4;6;2;0;0;1;1;1;0;0;2;1;0;0;0;1;0;0;1 & 2.1692837                               \\\\\n",
       "\t RAL                                      & FBgn0000014                              & 3R                                       & 12632936                                 & 12655771                                 &  4                                       &  2                                       & 20                                       &   0                                      & 155                                      &  643                                     & 2;0;0;0;0;0;0;0;0;0;0;0;0;0;0;0;0;0;0;0  & 1;0;0;2;0;0;0;0;0;0;0;0;0;0;0;0;0;1;0;0  & 0.7616990                               \\\\\n",
       "\t RAL                                      & FBgn0000015                              & 3R                                       & 12752932                                 & 12797958                                 &  9                                       &  4                                       &  3                                       &   0                                      & 150                                      &  630                                     & 4;0;0;0;0;0;0;0;0;0;0;0;0;0;0;0;0;0;0;0  & 3;0;1;0;0;0;1;0;0;0;1;2;0;0;1;0;0;0;0;0  & 0.4352566                               \\\\\n",
       "\t RAL                                      & FBgn0000017                              & 3L                                       & 16608966                                 & 16640982                                 & 21                                       & 17                                       & 81                                       & 134                                      & 867                                      & 3263                                     & 16;0;0;0;0;0;0;0;0;0;0;0;0;0;0;1;0;0;0;0 & 15;2;0;0;0;0;0;0;0;0;0;0;0;0;2;0;0;0;0;2 & 0.8999361                               \\\\\n",
       "\t RAL                                      & FBgn0000018                              & 2L                                       & 10973443                                 & 10975293                                 & 13                                       & 10                                       & 18                                       &  17                                      & 232                                      & 1019                                     & 5;0;0;0;0;1;0;1;0;0;0;0;2;1;0;0;0;0;0;0  & 5;2;1;0;0;0;2;1;0;1;0;0;1;0;0;0;0;0;0;0  & 2.9318767                               \\\\\n",
       "\t RAL                                      & FBgn0000022                              & X                                        &   264064                                 &   264980                                 &  0                                       &  1                                       & 17                                       &  73                                      &  63                                      &  345                                     & 0;1;0;0;0;0;0;0;0;0;0;0;0;0;0;0;0;0;0;0  & 0;0;0;0;0;0;0;0;0;0;0;0;0;0;0;0;0;0;0;0  & 0.0000000                               \\\\\n",
       "\\end{tabular}\n"
      ],
      "text/markdown": [
       "\n",
       "| pop | id | chr | start | end | p0 | pi | d0 | di | m0 | mi | daf0f | daf4f | cM_Mb |\n",
       "|---|---|---|---|---|---|---|---|---|---|---|---|---|---|\n",
       "| RAL                                      | FBgn0000008                              | 2R                                       | 18024473                                 | 18060339                                 | 42                                       | 44                                       | 32                                       |  19                                      | 647                                      | 2449                                     | 30;8;1;1;1;0;0;0;1;1;0;0;1;0;0;0;0;0;0;0 | 22;4;6;2;0;0;1;1;1;0;0;2;1;0;0;0;1;0;0;1 | 2.1692837                                |\n",
       "| RAL                                      | FBgn0000014                              | 3R                                       | 12632936                                 | 12655771                                 |  4                                       |  2                                       | 20                                       |   0                                      | 155                                      |  643                                     | 2;0;0;0;0;0;0;0;0;0;0;0;0;0;0;0;0;0;0;0  | 1;0;0;2;0;0;0;0;0;0;0;0;0;0;0;0;0;1;0;0  | 0.7616990                                |\n",
       "| RAL                                      | FBgn0000015                              | 3R                                       | 12752932                                 | 12797958                                 |  9                                       |  4                                       |  3                                       |   0                                      | 150                                      |  630                                     | 4;0;0;0;0;0;0;0;0;0;0;0;0;0;0;0;0;0;0;0  | 3;0;1;0;0;0;1;0;0;0;1;2;0;0;1;0;0;0;0;0  | 0.4352566                                |\n",
       "| RAL                                      | FBgn0000017                              | 3L                                       | 16608966                                 | 16640982                                 | 21                                       | 17                                       | 81                                       | 134                                      | 867                                      | 3263                                     | 16;0;0;0;0;0;0;0;0;0;0;0;0;0;0;1;0;0;0;0 | 15;2;0;0;0;0;0;0;0;0;0;0;0;0;2;0;0;0;0;2 | 0.8999361                                |\n",
       "| RAL                                      | FBgn0000018                              | 2L                                       | 10973443                                 | 10975293                                 | 13                                       | 10                                       | 18                                       |  17                                      | 232                                      | 1019                                     | 5;0;0;0;0;1;0;1;0;0;0;0;2;1;0;0;0;0;0;0  | 5;2;1;0;0;0;2;1;0;1;0;0;1;0;0;0;0;0;0;0  | 2.9318767                                |\n",
       "| RAL                                      | FBgn0000022                              | X                                        |   264064                                 |   264980                                 |  0                                       |  1                                       | 17                                       |  73                                      |  63                                      |  345                                     | 0;1;0;0;0;0;0;0;0;0;0;0;0;0;0;0;0;0;0;0  | 0;0;0;0;0;0;0;0;0;0;0;0;0;0;0;0;0;0;0;0  | 0.0000000                                |\n",
       "\n"
      ],
      "text/plain": [
       "  pop id          chr start    end      p0 pi d0 di  m0  mi  \n",
       "1 RAL FBgn0000008 2R  18024473 18060339 42 44 32  19 647 2449\n",
       "2 RAL FBgn0000014 3R  12632936 12655771  4  2 20   0 155  643\n",
       "3 RAL FBgn0000015 3R  12752932 12797958  9  4  3   0 150  630\n",
       "4 RAL FBgn0000017 3L  16608966 16640982 21 17 81 134 867 3263\n",
       "5 RAL FBgn0000018 2L  10973443 10975293 13 10 18  17 232 1019\n",
       "6 RAL FBgn0000022 X     264064   264980  0  1 17  73  63  345\n",
       "  daf0f                                   \n",
       "1 30;8;1;1;1;0;0;0;1;1;0;0;1;0;0;0;0;0;0;0\n",
       "2 2;0;0;0;0;0;0;0;0;0;0;0;0;0;0;0;0;0;0;0 \n",
       "3 4;0;0;0;0;0;0;0;0;0;0;0;0;0;0;0;0;0;0;0 \n",
       "4 16;0;0;0;0;0;0;0;0;0;0;0;0;0;0;1;0;0;0;0\n",
       "5 5;0;0;0;0;1;0;1;0;0;0;0;2;1;0;0;0;0;0;0 \n",
       "6 0;1;0;0;0;0;0;0;0;0;0;0;0;0;0;0;0;0;0;0 \n",
       "  daf4f                                    cM_Mb    \n",
       "1 22;4;6;2;0;0;1;1;1;0;0;2;1;0;0;0;1;0;0;1 2.1692837\n",
       "2 1;0;0;2;0;0;0;0;0;0;0;0;0;0;0;0;0;1;0;0  0.7616990\n",
       "3 3;0;1;0;0;0;1;0;0;0;1;2;0;0;1;0;0;0;0;0  0.4352566\n",
       "4 15;2;0;0;0;0;0;0;0;0;0;0;0;0;2;0;0;0;0;2 0.8999361\n",
       "5 5;2;1;0;0;0;2;1;0;1;0;0;1;0;0;0;0;0;0;0  2.9318767\n",
       "6 0;0;0;0;0;0;0;0;0;0;0;0;0;0;0;0;0;0;0;0  0.0000000"
      ]
     },
     "metadata": {},
     "output_type": "display_data"
    }
   ],
   "source": [
    "dataset %>% head"
   ]
  },
  {
   "cell_type": "code",
   "execution_count": 5,
   "metadata": {
    "ExecuteTime": {
     "end_time": "2019-02-19T09:09:04.644416Z",
     "start_time": "2019-02-19T09:12:34.728Z"
    }
   },
   "outputs": [
    {
     "data": {
      "text/html": [
       "<table>\n",
       "<thead><tr><th scope=col>d</th><th scope=col>d0</th><th scope=col>trueAlpha</th></tr></thead>\n",
       "<tbody>\n",
       "\t<tr><td>647     </td><td>1017    </td><td>0.312210</td></tr>\n",
       "\t<tr><td>611     </td><td>1100    </td><td>0.351882</td></tr>\n",
       "\t<tr><td>591     </td><td>1038    </td><td>0.323181</td></tr>\n",
       "\t<tr><td>589     </td><td>1025    </td><td>0.314092</td></tr>\n",
       "\t<tr><td>582     </td><td>1067    </td><td>0.331615</td></tr>\n",
       "\t<tr><td>633     </td><td>1015    </td><td>0.333333</td></tr>\n",
       "</tbody>\n",
       "</table>\n"
      ],
      "text/latex": [
       "\\begin{tabular}{r|lll}\n",
       " d & d0 & trueAlpha\\\\\n",
       "\\hline\n",
       "\t 647      & 1017     & 0.312210\\\\\n",
       "\t 611      & 1100     & 0.351882\\\\\n",
       "\t 591      & 1038     & 0.323181\\\\\n",
       "\t 589      & 1025     & 0.314092\\\\\n",
       "\t 582      & 1067     & 0.331615\\\\\n",
       "\t 633      & 1015     & 0.333333\\\\\n",
       "\\end{tabular}\n"
      ],
      "text/markdown": [
       "\n",
       "| d | d0 | trueAlpha |\n",
       "|---|---|---|\n",
       "| 647      | 1017     | 0.312210 |\n",
       "| 611      | 1100     | 0.351882 |\n",
       "| 591      | 1038     | 0.323181 |\n",
       "| 589      | 1025     | 0.314092 |\n",
       "| 582      | 1067     | 0.331615 |\n",
       "| 633      | 1015     | 0.333333 |\n",
       "\n"
      ],
      "text/plain": [
       "  d   d0   trueAlpha\n",
       "1 647 1017 0.312210 \n",
       "2 611 1100 0.351882 \n",
       "3 591 1038 0.323181 \n",
       "4 589 1025 0.314092 \n",
       "5 582 1067 0.331615 \n",
       "6 633 1015 0.333333 "
      ]
     },
     "metadata": {},
     "output_type": "display_data"
    }
   ],
   "source": [
    "setwd('/home/jmurga/mkt/201902/rawData/simulations/baseline')\n",
    "listDiv <- lapply(list.files(pattern = 'div',recursive=T),fread,sep='\\t',header=T)\n",
    "listDiv <- do.call(rbind,listDiv) %>% as.data.table\n",
    "listDiv %>% head"
   ]
  },
  {
   "cell_type": "markdown",
   "metadata": {},
   "source": [
    "##### Dmel divergence"
   ]
  },
  {
   "cell_type": "code",
   "execution_count": 5,
   "metadata": {
    "ExecuteTime": {
     "end_time": "2019-02-18T21:56:47.189910Z",
     "start_time": "2019-02-18T21:56:30.110Z"
    },
    "scrolled": true
   },
   "outputs": [],
   "source": [
    "Di <- round(mean(dataset$di))\n",
    "D0 <- round(mean(dataset$d0))"
   ]
  },
  {
   "cell_type": "code",
   "execution_count": 15,
   "metadata": {
    "ExecuteTime": {
     "end_time": "2019-02-18T22:04:58.556884Z",
     "start_time": "2019-02-18T22:04:50.185Z"
    }
   },
   "outputs": [
    {
     "data": {
      "text/html": [
       "<table>\n",
       "<thead><tr><th scope=col>Pi</th><th scope=col>P0</th><th scope=col>Di</th><th scope=col>D0</th><th scope=col>alpha</th><th scope=col>pvalue</th></tr></thead>\n",
       "<tbody>\n",
       "\t<tr><td>1           </td><td>18          </td><td>18          </td><td>18          </td><td>0,9444444   </td><td>0,0008500062</td></tr>\n",
       "\t<tr><td>2           </td><td>18          </td><td>18          </td><td>18          </td><td>0,8888889   </td><td>0,0033506049</td></tr>\n",
       "\t<tr><td>3           </td><td>18          </td><td>18          </td><td>18          </td><td>0,8333333   </td><td>0,0099778248</td></tr>\n",
       "\t<tr><td>4           </td><td>18          </td><td>18          </td><td>18          </td><td>0,7777778   </td><td>0,0248186339</td></tr>\n",
       "\t<tr><td>5           </td><td>18          </td><td>18          </td><td>18          </td><td>0,7222222   </td><td>0,0541415945</td></tr>\n",
       "\t<tr><td>6           </td><td>18          </td><td>18          </td><td>18          </td><td>0,6666667   </td><td>0,0644610316</td></tr>\n",
       "</tbody>\n",
       "</table>\n"
      ],
      "text/latex": [
       "\\begin{tabular}{r|llllll}\n",
       " Pi & P0 & Di & D0 & alpha & pvalue\\\\\n",
       "\\hline\n",
       "\t 1            & 18           & 18           & 18           & 0,9444444    & 0,0008500062\\\\\n",
       "\t 2            & 18           & 18           & 18           & 0,8888889    & 0,0033506049\\\\\n",
       "\t 3            & 18           & 18           & 18           & 0,8333333    & 0,0099778248\\\\\n",
       "\t 4            & 18           & 18           & 18           & 0,7777778    & 0,0248186339\\\\\n",
       "\t 5            & 18           & 18           & 18           & 0,7222222    & 0,0541415945\\\\\n",
       "\t 6            & 18           & 18           & 18           & 0,6666667    & 0,0644610316\\\\\n",
       "\\end{tabular}\n"
      ],
      "text/markdown": [
       "\n",
       "Pi | P0 | Di | D0 | alpha | pvalue | \n",
       "|---|---|---|---|---|---|\n",
       "| 1            | 18           | 18           | 18           | 0,9444444    | 0,0008500062 | \n",
       "| 2            | 18           | 18           | 18           | 0,8888889    | 0,0033506049 | \n",
       "| 3            | 18           | 18           | 18           | 0,8333333    | 0,0099778248 | \n",
       "| 4            | 18           | 18           | 18           | 0,7777778    | 0,0248186339 | \n",
       "| 5            | 18           | 18           | 18           | 0,7222222    | 0,0541415945 | \n",
       "| 6            | 18           | 18           | 18           | 0,6666667    | 0,0644610316 | \n",
       "\n",
       "\n"
      ],
      "text/plain": [
       "  Pi P0 Di D0 alpha     pvalue      \n",
       "1 1  18 18 18 0,9444444 0,0008500062\n",
       "2 2  18 18 18 0,8888889 0,0033506049\n",
       "3 3  18 18 18 0,8333333 0,0099778248\n",
       "4 4  18 18 18 0,7777778 0,0248186339\n",
       "5 5  18 18 18 0,7222222 0,0541415945\n",
       "6 6  18 18 18 0,6666667 0,0644610316"
      ]
     },
     "metadata": {},
     "output_type": "display_data"
    },
    {
     "data": {},
     "metadata": {},
     "output_type": "display_data"
    },
    {
     "data": {
      "image/png": "[encoded data removed]",
      "text/plain": [
       "plot without title"
      ]
     },
     "metadata": {},
     "output_type": "display_data"
    }
   ],
   "source": [
    "ralDiv <- tableToIter(Di,D0,100)\n",
    "ralDiv$results %>% head\n",
    "ralDiv$plot"
   ]
  },
  {
   "cell_type": "markdown",
   "metadata": {},
   "source": [
    "##### Changing divergence"
   ]
  },
  {
   "cell_type": "markdown",
   "metadata": {},
   "source": [
    "###### Precomputed ratios"
   ]
  },
  {
   "cell_type": "code",
   "execution_count": 36,
   "metadata": {
    "ExecuteTime": {
     "end_time": "2019-02-19T10:28:32.571359Z",
     "start_time": "2019-02-19T10:32:13.436Z"
    }
   },
   "outputs": [
    {
     "data": {
      "text/html": [
       "<table>\n",
       "<thead><tr><th scope=col>D0</th><th scope=col>Di</th></tr></thead>\n",
       "<tbody>\n",
       "\t<tr><td>54</td><td>54</td></tr>\n",
       "\t<tr><td>54</td><td>36</td></tr>\n",
       "\t<tr><td>36</td><td>54</td></tr>\n",
       "\t<tr><td>54</td><td>18</td></tr>\n",
       "\t<tr><td>18</td><td>54</td></tr>\n",
       "\t<tr><td>54</td><td> 9</td></tr>\n",
       "</tbody>\n",
       "</table>\n"
      ],
      "text/latex": [
       "\\begin{tabular}{r|ll}\n",
       " D0 & Di\\\\\n",
       "\\hline\n",
       "\t 54 & 54\\\\\n",
       "\t 54 & 36\\\\\n",
       "\t 36 & 54\\\\\n",
       "\t 54 & 18\\\\\n",
       "\t 18 & 54\\\\\n",
       "\t 54 &  9\\\\\n",
       "\\end{tabular}\n"
      ],
      "text/markdown": [
       "\n",
       "| D0 | Di |\n",
       "|---|---|\n",
       "| 54 | 54 |\n",
       "| 54 | 36 |\n",
       "| 36 | 54 |\n",
       "| 54 | 18 |\n",
       "| 18 | 54 |\n",
       "| 54 |  9 |\n",
       "\n"
      ],
      "text/plain": [
       "  D0 Di\n",
       "1 54 54\n",
       "2 54 36\n",
       "3 36 54\n",
       "4 54 18\n",
       "5 18 54\n",
       "6 54  9"
      ]
     },
     "metadata": {},
     "output_type": "display_data"
    }
   ],
   "source": [
    "divergenceCombination <- read.table(\"/home/jmurga/mkt/Minimum_number_Pi/divergence_combinations\",header=T,sep=\"\\t\")\n",
    "divergenceCombination %>% head"
   ]
  },
  {
   "cell_type": "code",
   "execution_count": 40,
   "metadata": {
    "ExecuteTime": {
     "end_time": "2019-02-19T10:32:45.893614Z",
     "start_time": "2019-02-19T10:36:02.734Z"
    }
   },
   "outputs": [
    {
     "data": {
      "text/html": [
       "<table>\n",
       "<thead><tr><th scope=col>di</th><th scope=col>d0</th><th scope=col>&gt;Pi</th><th scope=col>sign_pos</th><th scope=col>&gt;Pi</th><th scope=col>sign_neg</th></tr></thead>\n",
       "<tbody>\n",
       "\t<tr><td>54</td><td>54</td><td>29</td><td>29</td><td>92</td><td> 9</td></tr>\n",
       "\t<tr><td>36</td><td>54</td><td>18</td><td>18</td><td>66</td><td>35</td></tr>\n",
       "\t<tr><td>54</td><td>36</td><td>27</td><td>27</td><td>98</td><td> 3</td></tr>\n",
       "\t<tr><td>18</td><td>54</td><td> 6</td><td> 6</td><td>36</td><td>65</td></tr>\n",
       "\t<tr><td>54</td><td>18</td><td>22</td><td>22</td><td>NA</td><td> 0</td></tr>\n",
       "\t<tr><td> 9</td><td>54</td><td> 1</td><td> 1</td><td>22</td><td>79</td></tr>\n",
       "</tbody>\n",
       "</table>\n"
      ],
      "text/latex": [
       "\\begin{tabular}{r|llllll}\n",
       " di & d0 & >Pi & sign\\_pos & >Pi & sign\\_neg\\\\\n",
       "\\hline\n",
       "\t 54 & 54 & 29 & 29 & 92 &  9\\\\\n",
       "\t 36 & 54 & 18 & 18 & 66 & 35\\\\\n",
       "\t 54 & 36 & 27 & 27 & 98 &  3\\\\\n",
       "\t 18 & 54 &  6 &  6 & 36 & 65\\\\\n",
       "\t 54 & 18 & 22 & 22 & NA &  0\\\\\n",
       "\t  9 & 54 &  1 &  1 & 22 & 79\\\\\n",
       "\\end{tabular}\n"
      ],
      "text/markdown": [
       "\n",
       "| di | d0 | >Pi | sign_pos | >Pi | sign_neg |\n",
       "|---|---|---|---|---|---|\n",
       "| 54 | 54 | 29 | 29 | 92 |  9 |\n",
       "| 36 | 54 | 18 | 18 | 66 | 35 |\n",
       "| 54 | 36 | 27 | 27 | 98 |  3 |\n",
       "| 18 | 54 |  6 |  6 | 36 | 65 |\n",
       "| 54 | 18 | 22 | 22 | NA |  0 |\n",
       "|  9 | 54 |  1 |  1 | 22 | 79 |\n",
       "\n"
      ],
      "text/plain": [
       "  di d0 >Pi sign_pos >Pi sign_neg\n",
       "1 54 54 29  29       92   9      \n",
       "2 36 54 18  18       66  35      \n",
       "3 54 36 27  27       98   3      \n",
       "4 18 54  6   6       36  65      \n",
       "5 54 18 22  22       NA   0      \n",
       "6  9 54  1   1       22  79      "
      ]
     },
     "metadata": {},
     "output_type": "display_data"
    }
   ],
   "source": [
    "output <- tableToIter(data=divergenceCombination,iterations=100,combinations='divergence')\n",
    "output$results %>% head"
   ]
  },
  {
   "cell_type": "markdown",
   "metadata": {},
   "source": [
    "###### Manual combinations"
   ]
  },
  {
   "cell_type": "code",
   "execution_count": 1,
   "metadata": {
    "ExecuteTime": {
     "end_time": "2019-02-25T09:28:05.923670Z",
     "start_time": "2019-02-25T09:31:45.339Z"
    }
   },
   "outputs": [],
   "source": [
    "options(repr.plot.width=5, repr.plot.height=5)"
   ]
  },
  {
   "cell_type": "markdown",
   "metadata": {},
   "source": [
    "Ratio divergence 0.1"
   ]
  },
  {
   "cell_type": "code",
   "execution_count": 8,
   "metadata": {
    "ExecuteTime": {
     "end_time": "2019-02-25T09:34:35.113405Z",
     "start_time": "2019-02-25T09:37:38.358Z"
    },
    "code_folding": [
     0
    ],
    "scrolled": true
   },
   "outputs": [
    {
     "name": "stderr",
     "output_type": "stream",
     "text": [
      "Warning message in data.table::data.table(...):\n",
      "“Item 1 is of size 10 but maximum size is 25 (recycled leaving remainder of 5 items)”"
     ]
    }
   ],
   "source": [
    "div01<-list()\n",
    "for(i in c(0.1,0.25,0.5,0.75,1,1.5,2,5,10)){\n",
    "    print(i)\n",
    "    ratio <- createCombinations(listLengthToExpand=100,ratioD=0.1,ratioP=i)\n",
    "    polDiv <- tableToIter(data=ratio,iterations=length(ratio$Di),combinations = 'polymorphism')\n",
    "    div01[i]<-polDiv$plot\n",
    "}"
   ]
  },
  {
   "cell_type": "code",
   "execution_count": 5,
   "metadata": {
    "ExecuteTime": {
     "end_time": "2019-02-25T09:31:25.152669Z",
     "start_time": "2019-02-25T09:34:52.739Z"
    }
   },
   "outputs": [
    {
     "data": {
      "text/html": [
       "<table>\n",
       "<thead><tr><th scope=col>pi</th><th scope=col>p0</th><th scope=col>di</th><th scope=col>d0</th><th scope=col>alpha</th><th scope=col>pvalue</th><th scope=col>nd</th><th scope=col>np</th></tr></thead>\n",
       "<tbody>\n",
       "\t<tr><td>10</td><td>1 </td><td>10</td><td>1 </td><td>0 </td><td>1 </td><td>11</td><td>11</td></tr>\n",
       "\t<tr><td>20</td><td>2 </td><td>10</td><td>1 </td><td>0 </td><td>1 </td><td>11</td><td>22</td></tr>\n",
       "\t<tr><td>30</td><td>3 </td><td>10</td><td>1 </td><td>0 </td><td>1 </td><td>11</td><td>33</td></tr>\n",
       "\t<tr><td>40</td><td>4 </td><td>10</td><td>1 </td><td>0 </td><td>1 </td><td>11</td><td>44</td></tr>\n",
       "\t<tr><td>50</td><td>5 </td><td>10</td><td>1 </td><td>0 </td><td>1 </td><td>11</td><td>55</td></tr>\n",
       "\t<tr><td>60</td><td>6 </td><td>10</td><td>1 </td><td>0 </td><td>1 </td><td>11</td><td>66</td></tr>\n",
       "</tbody>\n",
       "</table>\n"
      ],
      "text/latex": [
       "\\begin{tabular}{r|llllllll}\n",
       " pi & p0 & di & d0 & alpha & pvalue & nd & np\\\\\n",
       "\\hline\n",
       "\t 10 & 1  & 10 & 1  & 0  & 1  & 11 & 11\\\\\n",
       "\t 20 & 2  & 10 & 1  & 0  & 1  & 11 & 22\\\\\n",
       "\t 30 & 3  & 10 & 1  & 0  & 1  & 11 & 33\\\\\n",
       "\t 40 & 4  & 10 & 1  & 0  & 1  & 11 & 44\\\\\n",
       "\t 50 & 5  & 10 & 1  & 0  & 1  & 11 & 55\\\\\n",
       "\t 60 & 6  & 10 & 1  & 0  & 1  & 11 & 66\\\\\n",
       "\\end{tabular}\n"
      ],
      "text/markdown": [
       "\n",
       "| pi | p0 | di | d0 | alpha | pvalue | nd | np |\n",
       "|---|---|---|---|---|---|---|---|\n",
       "| 10 | 1  | 10 | 1  | 0  | 1  | 11 | 11 |\n",
       "| 20 | 2  | 10 | 1  | 0  | 1  | 11 | 22 |\n",
       "| 30 | 3  | 10 | 1  | 0  | 1  | 11 | 33 |\n",
       "| 40 | 4  | 10 | 1  | 0  | 1  | 11 | 44 |\n",
       "| 50 | 5  | 10 | 1  | 0  | 1  | 11 | 55 |\n",
       "| 60 | 6  | 10 | 1  | 0  | 1  | 11 | 66 |\n",
       "\n"
      ],
      "text/plain": [
       "  pi p0 di d0 alpha pvalue nd np\n",
       "1 10 1  10 1  0     1      11 11\n",
       "2 20 2  10 1  0     1      11 22\n",
       "3 30 3  10 1  0     1      11 33\n",
       "4 40 4  10 1  0     1      11 44\n",
       "5 50 5  10 1  0     1      11 55\n",
       "6 60 6  10 1  0     1      11 66"
      ]
     },
     "metadata": {},
     "output_type": "display_data"
    }
   ],
   "source": []
  }
 ],
 "metadata": {
  "kernelspec": {
   "display_name": "R",
   "language": "R",
   "name": "ir"
  },
  "language_info": {
   "codemirror_mode": "r",
   "file_extension": ".r",
   "mimetype": "text/x-r-source",
   "name": "R",
   "pygments_lexer": "r",
   "version": "3.5.1"
  },
  "toc": {
   "base_numbering": 1,
   "nav_menu": {},
   "number_sections": true,
   "sideBar": true,
   "skip_h1_title": false,
   "title_cell": "Table of Contents",
   "title_sidebar": "Contents",
   "toc_cell": false,
   "toc_position": {},
   "toc_section_display": true,
   "toc_window_display": false
  },
  "varInspector": {
   "cols": {
    "lenName": 16,
    "lenType": 16,
    "lenVar": 40
   },
   "kernels_config": {
    "python": {
     "delete_cmd_postfix": "",
     "delete_cmd_prefix": "del ",
     "library": "var_list.py",
     "varRefreshCmd": "print(var_dic_list())"
    },
    "r": {
     "delete_cmd_postfix": ") ",
     "delete_cmd_prefix": "rm(",
     "library": "var_list.r",
     "varRefreshCmd": "cat(var_dic_list()) "
    }
   },
   "types_to_exclude": [
    "module",
    "function",
    "builtin_function_or_method",
    "instance",
    "_Feature"
   ],
   "window_display": false
  }
 },
 "nbformat": 4,
 "nbformat_minor": 2
}
