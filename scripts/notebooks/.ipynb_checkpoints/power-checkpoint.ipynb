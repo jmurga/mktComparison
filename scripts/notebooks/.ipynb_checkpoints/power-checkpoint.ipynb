{
 "cells": [
  {
   "cell_type": "code",
   "execution_count": null,
   "metadata": {
    "ExecuteTime": {
     "end_time": "2019-03-08T11:51:32.411987Z",
     "start_time": "2019-03-08T11:55:09.120Z"
    }
   },
   "outputs": [],
   "source": [
    "library(data.table)\n",
    "library(dplyr)\n",
    "library(ggplot2)\n",
    "library(cowplot)\n",
    "library(gridExtra)\n",
    "source('/home/jmurga/mkt/201902/scripts/src/plotStyle.R')\n",
    "source('/home/jmurga/mkt/201902/scripts/src/minimumNumberPi.R')\n",
    "# dir.create('/home/jmurga/mkt/201902/results/power/', recursive = T)"
   ]
  },
  {
   "cell_type": "markdown",
   "metadata": {},
   "source": [
    "### Changing divergence"
   ]
  },
  {
   "cell_type": "code",
   "execution_count": null,
   "metadata": {
    "ExecuteTime": {
     "end_time": "2019-03-08T11:51:35.207188Z",
     "start_time": "2019-03-08T11:55:12.019Z"
    }
   },
   "outputs": [],
   "source": [
    "options(repr.plot.width=5, repr.plot.height=5)"
   ]
  },
  {
   "cell_type": "markdown",
   "metadata": {},
   "source": [
    "#### Ratio divergence 0.1"
   ]
  },
  {
   "cell_type": "code",
   "execution_count": null,
   "metadata": {
    "ExecuteTime": {
     "end_time": "2019-03-08T11:51:40.206618Z",
     "start_time": "2019-03-08T11:55:13.668Z"
    },
    "code_folding": [],
    "scrolled": true
   },
   "outputs": [],
   "source": [
    "for(i in c(0.1,0.25,0.5,0.75,1,1.5,2,5,10)){\n",
    "    \n",
    "    ratio <- createCombinations(listLengthToExpand=100,ratioD=0.1,ratioP=i)\n",
    "    polDiv <- tableToIter(data=ratio,iterations=length(ratio$Di),combinations = 'polymorphism')\n",
    "    assign(paste0('div',i), polDiv$plot)\n",
    "\n",
    "    customLegend <- polDiv$legend\n",
    "}\n",
    "\n",
    "p <- plot_grid(div0.1,div0.25,div0.5,div0.75,div1,div1.5,div2,div5,div10)\n",
    "p <- plot_grid(p, customLegend, ncol=2, rel_widths=c(1,.1))\n"
   ]
  },
  {
   "cell_type": "code",
   "execution_count": null,
   "metadata": {},
   "outputs": [],
   "source": [
    "ggsave(p,file='/home/jmurga/mkt/201902/power/div0.1.svg',width = 14,height = 13)"
   ]
  },
  {
   "cell_type": "code",
   "execution_count": null,
   "metadata": {
    "ExecuteTime": {
     "end_time": "2019-03-08T11:50:24.009579Z",
     "start_time": "2019-03-08T11:54:00.820Z"
    }
   },
   "outputs": [],
   "source": [
    "p"
   ]
  },
  {
   "cell_type": "markdown",
   "metadata": {},
   "source": [
    "#### Ratio divergence 0.25"
   ]
  },
  {
   "cell_type": "code",
   "execution_count": null,
   "metadata": {
    "ExecuteTime": {
     "end_time": "2019-03-08T11:51:18.027959Z",
     "start_time": "2019-03-08T11:54:14.445Z"
    },
    "code_folding": [],
    "scrolled": false
   },
   "outputs": [],
   "source": [
    "for(i in c(0.1,0.25,0.5,0.75,1,1.5,2,5,10)){\n",
    "   \n",
    "    ratio <- createCombinations(listLengthToExpand=100,ratioD=0.25,ratioP=i)\n",
    "    polDiv <- tableToIter(data=ratio,iterations=length(ratio$Di),combinations = 'polymorphism')\n",
    "    assign(paste0('div',i), polDiv$plot)\n",
    "\n",
    "    customLegend <- polDiv$legend\n",
    "}\n",
    "\n",
    "p <- plot_grid(div0.1,div0.25,div0.5,div0.75,div1,div1.5,div2,div5,div10)\n",
    "p <- plot_grid(p, customLegend, ncol=2, rel_widths=c(1,.1))\n"
   ]
  },
  {
   "cell_type": "code",
   "execution_count": null,
   "metadata": {},
   "outputs": [],
   "source": [
    "ggsave(p,file='/home/jmurga/mkt/201902/div0.25.svg',width = 14,height = 13)"
   ]
  },
  {
   "cell_type": "code",
   "execution_count": null,
   "metadata": {},
   "outputs": [],
   "source": []
  },
  {
   "cell_type": "markdown",
   "metadata": {
    "heading_collapsed": true
   },
   "source": [
    "#### Ratio divergence 0.5"
   ]
  },
  {
   "cell_type": "code",
   "execution_count": null,
   "metadata": {
    "ExecuteTime": {
     "end_time": "2019-02-25T09:34:35.113405Z",
     "start_time": "2019-02-25T09:37:38.358Z"
    },
    "code_folding": [],
    "hidden": true,
    "scrolled": true
   },
   "outputs": [],
   "source": [
    "for(i in c(0.1,0.25,0.5,0.75,1,1.5,2,5,10)){\n",
    "    print(i)\n",
    "    ratio <- createCombinations(listLengthToExpand=100,ratioD=0.5,ratioP=i)\n",
    "    polDiv <- tableToIter(data=ratio,iterations=length(ratio$Di),combinations = 'polymorphism')\n",
    "    assign(paste0('div',i), polDiv$plot)\n",
    "    \n",
    "    cust\n",
    "}\n",
    "p<-grid.arrange(div0.1,div0.25,div0.5,div0.75,div1,div1.5,div2,div5,div10)\n",
    "ggsave(p,file='/home/jmurga/mkt/201902/results/div0.5.svg',width = 28,height = 26)"
   ]
  },
  {
   "cell_type": "markdown",
   "metadata": {
    "heading_collapsed": true
   },
   "source": [
    "#### Ratio divergence 0.75"
   ]
  },
  {
   "cell_type": "code",
   "execution_count": null,
   "metadata": {
    "ExecuteTime": {
     "end_time": "2019-02-25T09:34:35.113405Z",
     "start_time": "2019-02-25T09:37:38.358Z"
    },
    "code_folding": [],
    "hidden": true,
    "scrolled": true
   },
   "outputs": [],
   "source": [
    "for(i in c(0.1,0.25,0.5,0.75,1,1.5,2,5,10)){\n",
    "    print(i)\n",
    "    ratio <- createCombinations(listLengthToExpand=100,ratioD=0.75,ratioP=i)\n",
    "    polDiv <- tableToIter(data=ratio,iterations=length(ratio$Di),combinations = 'polymorphism')\n",
    "    assign(paste0('div',i), polDiv$plot)\n",
    "}\n",
    "p<-grid.arrange(div0.1,div0.25,div0.5,div0.75,div1,div1.5,div2,div5,div10)\n",
    "ggsave(p,file='/home/jmurga/mkt/201902/results/div0.75.svg',width = 28,height = 26)"
   ]
  },
  {
   "cell_type": "markdown",
   "metadata": {
    "heading_collapsed": true
   },
   "source": [
    "#### Ratio divergence 1"
   ]
  },
  {
   "cell_type": "code",
   "execution_count": null,
   "metadata": {
    "ExecuteTime": {
     "end_time": "2019-02-25T09:34:35.113405Z",
     "start_time": "2019-02-25T09:37:38.358Z"
    },
    "code_folding": [],
    "hidden": true,
    "scrolled": true
   },
   "outputs": [],
   "source": [
    "for(i in c(0.1,0.25,0.5,0.75,1,1.5,2,5,10)){\n",
    "    print(i)\n",
    "    ratio <- createCombinations(listLengthToExpand=100,ratioD=1,ratioP=i)\n",
    "    polDiv <- tableToIter(data=ratio,iterations=length(ratio$Di),combinations = 'polymorphism')\n",
    "    assign(paste0('div',i), polDiv$plot)\n",
    "}\n",
    "grid.arrange(div0.1,div0.25,div0.5,div0.75,div1,div1.5,div2,div5,div10)\n",
    "ggsave(p,file='/home/jmurga/mkt/201902/results/div1.svg',width = 28,height = 26)"
   ]
  },
  {
   "cell_type": "markdown",
   "metadata": {
    "heading_collapsed": true
   },
   "source": [
    "#### Ratio divergence 1.5"
   ]
  },
  {
   "cell_type": "code",
   "execution_count": null,
   "metadata": {
    "ExecuteTime": {
     "end_time": "2019-02-25T09:34:35.113405Z",
     "start_time": "2019-02-25T09:37:38.358Z"
    },
    "code_folding": [],
    "hidden": true,
    "scrolled": true
   },
   "outputs": [],
   "source": [
    "for(i in c(0.1,0.25,0.5,0.75,1,1.5,2,5,10)){\n",
    "    print(i)\n",
    "    ratio <- createCombinations(listLengthToExpand=100,ratioD=1.5,ratioP=i)\n",
    "    polDiv <- tableToIter(data=ratio,iterations=length(ratio$Di),combinations = 'polymorphism')\n",
    "    assign(paste0('div',i), polDiv$plot)\n",
    "}\n",
    "p<-grid.arrange(div0.1,div0.25,div0.5,div0.75,div1,div1.5,div2,div5,div10)\n",
    "ggsave(p,file='/home/jmurga/mkt/201902/results/div1.5.svg',width = 28,height = 26)"
   ]
  },
  {
   "cell_type": "markdown",
   "metadata": {
    "heading_collapsed": true
   },
   "source": [
    "#### Ratio divergence 2"
   ]
  },
  {
   "cell_type": "code",
   "execution_count": null,
   "metadata": {
    "ExecuteTime": {
     "end_time": "2019-02-25T09:34:35.113405Z",
     "start_time": "2019-02-25T09:37:38.358Z"
    },
    "code_folding": [],
    "hidden": true,
    "scrolled": true
   },
   "outputs": [],
   "source": [
    "for(i in c(0.1,0.25,0.5,0.75,1,1.5,2,5,10)){\n",
    "    print(i)\n",
    "    ratio <- createCombinations(listLengthToExpand=100,ratioD=2,ratioP=i)\n",
    "    polDiv <- tableToIter(data=ratio,iterations=length(ratio$Di),combinations = 'polymorphism')\n",
    "    assign(paste0('div',i), polDiv$plot)\n",
    "}\n",
    "p<-grid.arrange(div0.1,div0.25,div0.5,div0.75,div1,div1.5,div2,div5,div10)\n",
    "ggsave(p,file='/home/jmurga/mkt/201902/results/div2.svg',width = 28,height = 26)"
   ]
  },
  {
   "cell_type": "markdown",
   "metadata": {
    "heading_collapsed": true
   },
   "source": [
    "#### Ratio divergence 5"
   ]
  },
  {
   "cell_type": "code",
   "execution_count": null,
   "metadata": {
    "ExecuteTime": {
     "end_time": "2019-02-25T09:34:35.113405Z",
     "start_time": "2019-02-25T09:37:38.358Z"
    },
    "code_folding": [],
    "hidden": true,
    "scrolled": true
   },
   "outputs": [],
   "source": [
    "for(i in c(0.1,0.25,0.5,0.75,1,1.5,2,5,10)){\n",
    "    print(i)\n",
    "    ratio <- createCombinations(listLengthToExpand=100,ratioD=5,ratioP=i)\n",
    "    polDiv <- tableToIter(data=ratio,iterations=length(ratio$Di),combinations = 'polymorphism')\n",
    "    assign(paste0('div',i), polDiv$plot)\n",
    "    \n",
    "    customLegend <- polDiv$legend\n",
    "}\n",
    "\n",
    "p <- plot_grid(div0.1,div0.25,div0.5,div0.75,div1,div1.5,div2,div5,div10)\n",
    "p <- plot_grid(p, customLegend, ncol=2, rel_widths=c(1,.1))\n",
    "ggsave(p,file='/home/jmurga/results/div5.svg',width = 28,height = 26)\n"
   ]
  },
  {
   "cell_type": "markdown",
   "metadata": {
    "heading_collapsed": true
   },
   "source": [
    "#### Ratio divergence 10"
   ]
  },
  {
   "cell_type": "code",
   "execution_count": null,
   "metadata": {
    "ExecuteTime": {
     "end_time": "2019-02-25T10:05:35.249277Z",
     "start_time": "2019-02-25T10:09:03.997Z"
    },
    "code_folding": [],
    "hidden": true,
    "scrolled": true
   },
   "outputs": [],
   "source": [
    "for(i in c(0.1,0.25,0.5,0.75,1,1.5,2,5,10)){\n",
    "    print(i)\n",
    "    ratio <- createCombinations(listLengthToExpand=100,ratioD=10,ratioP=i)\n",
    "    polDiv <- tableToIter(data=ratio,iterations=length(ratio$Di),combinations = 'polymorphism')\n",
    "    assign(paste0('div',i), polDiv$plot)\n",
    "}\n",
    "p<-grid.arrange(div0.1,div0.25,div0.5,div0.75,div1,div1.5,div2,div5,div10)\n",
    "ggsave(p,file='/home/jmurga/mkt/201902/results/div10.png',width = 28,height = 26)\n"
   ]
  }
 ],
 "metadata": {
  "kernelspec": {
   "display_name": "R",
   "language": "R",
   "name": "ir"
  },
  "language_info": {
   "codemirror_mode": "r",
   "file_extension": ".r",
   "mimetype": "text/x-r-source",
   "name": "R",
   "pygments_lexer": "r",
   "version": "3.5.2"
  },
  "toc": {
   "base_numbering": 1,
   "nav_menu": {},
   "number_sections": true,
   "sideBar": true,
   "skip_h1_title": false,
   "title_cell": "Table of Contents",
   "title_sidebar": "Contents",
   "toc_cell": false,
   "toc_position": {
    "height": "calc(100% - 180px)",
    "left": "10px",
    "top": "150px",
    "width": "165px"
   },
   "toc_section_display": true,
   "toc_window_display": true
  },
  "varInspector": {
   "cols": {
    "lenName": 16,
    "lenType": 16,
    "lenVar": 40
   },
   "kernels_config": {
    "python": {
     "delete_cmd_postfix": "",
     "delete_cmd_prefix": "del ",
     "library": "var_list.py",
     "varRefreshCmd": "print(var_dic_list())"
    },
    "r": {
     "delete_cmd_postfix": ") ",
     "delete_cmd_prefix": "rm(",
     "library": "var_list.r",
     "varRefreshCmd": "cat(var_dic_list()) "
    }
   },
   "types_to_exclude": [
    "module",
    "function",
    "builtin_function_or_method",
    "instance",
    "_Feature"
   ],
   "window_display": false
  }
 },
 "nbformat": 4,
 "nbformat_minor": 2
}
