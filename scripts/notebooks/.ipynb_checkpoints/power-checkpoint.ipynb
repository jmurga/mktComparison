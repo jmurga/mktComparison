{
 "cells": [
  {
   "cell_type": "code",
   "execution_count": 11,
   "metadata": {
    "ExecuteTime": {
     "end_time": "2019-03-07T12:06:32.715192Z",
     "start_time": "2019-03-07T12:10:09.706Z"
    }
   },
   "outputs": [
    {
     "name": "stderr",
     "output_type": "stream",
     "text": [
      "\n",
      "Attaching package: ‘gridExtra’\n",
      "\n",
      "The following object is masked from ‘package:dplyr’:\n",
      "\n",
      "    combine\n",
      "\n"
     ]
    }
   ],
   "source": [
    "library(data.table)\n",
    "library(dplyr)\n",
    "library(ggplot2)\n",
    "library(cowplot)\n",
    "library(gridExtra)\n",
    "source('/home/jmurga/mkt/201902/scripts/src/plotStyle.R')\n",
    "source('/home/jmurga/mkt/201902/scripts/src/minimumNumberPi.R')"
   ]
  },
  {
   "cell_type": "code",
   "execution_count": 2,
   "metadata": {
    "ExecuteTime": {
     "end_time": "2019-03-07T11:15:44.755511Z",
     "start_time": "2019-03-07T11:19:21.833Z"
    }
   },
   "outputs": [],
   "source": [
    "options(repr.plot.width=6, repr.plot.height=4)"
   ]
  },
  {
   "cell_type": "code",
   "execution_count": 1,
   "metadata": {
    "ExecuteTime": {
     "end_time": "2019-03-07T12:01:47.130802Z",
     "start_time": "2019-03-07T12:05:24.106Z"
    }
   },
   "outputs": [],
   "source": [
    "mktData <- fread('/home/jmurga/mkt/201902/results/mktData.tab',header=T)\n",
    "dataset <- mktData[pop=='RAL']"
   ]
  },
  {
   "cell_type": "code",
   "execution_count": 2,
   "metadata": {
    "ExecuteTime": {
     "end_time": "2019-03-07T12:01:51.216999Z",
     "start_time": "2019-03-07T12:05:25.129Z"
    }
   },
   "outputs": [
    {
     "data": {
      "text/html": [
       "<table>\n",
       "<thead><tr><th scope=col>id</th><th scope=col>pop</th><th scope=col>DAF0f</th><th scope=col>DAF4f</th><th scope=col>p0</th><th scope=col>pi</th><th scope=col>di</th><th scope=col>d0</th><th scope=col>chr</th><th scope=col>name</th><th scope=col>mi</th><th scope=col>m0</th><th scope=col>recomb</th></tr></thead>\n",
       "<tbody>\n",
       "\t<tr><td>FBgn0000008                             </td><td>RAL                                     </td><td>30;7;3;0;1;0;0;0;1;0;0;0;1;0;0;0;0;0;0;0</td><td>19;5;5;2;0;1;0;1;1;0;1;1;1;0;0;0;1;0;0;1</td><td>39                                      </td><td>43                                      </td><td> 26                                     </td><td>31                                      </td><td>2R                                      </td><td>a                                       </td><td>2539                                    </td><td>667                                     </td><td>2.1692837                               </td></tr>\n",
       "\t<tr><td>FBgn0000014                             </td><td>RAL                                     </td><td>2;0;0;0;0;0;0;0;0;0;0;0;0;0;0;0;0;0;0;0 </td><td>1;0;1;1;0;0;0;0;0;0;0;0;0;0;0;0;0;1;0;0 </td><td> 4                                      </td><td> 2                                      </td><td>  1                                     </td><td>20                                      </td><td>3R                                      </td><td>abd-A                                   </td><td>1516                                    </td><td>  0                                     </td><td>0.7616990                               </td></tr>\n",
       "\t<tr><td>FBgn0000015                             </td><td>RAL                                     </td><td>3;0;0;0;0;1;0;0;0;0;0;0;0;0;0;0;0;0;0;0 </td><td>4;0;3;1;0;0;1;0;0;0;1;0;0;1;1;0;0;0;0;0 </td><td>12                                      </td><td> 4                                      </td><td>  0                                     </td><td> 3                                      </td><td>3R                                      </td><td>Abd-B                                   </td><td>1292                                    </td><td>  0                                     </td><td>0.4352566                               </td></tr>\n",
       "\t<tr><td>FBgn0000017                             </td><td>RAL                                     </td><td>14;0;0;0;0;0;0;0;0;0;0;0;0;0;0;0;0;0;0;0</td><td>14;2;0;1;0;0;0;0;0;0;0;0;0;1;1;0;0;0;0;2</td><td>21                                      </td><td>14                                      </td><td>139                                     </td><td>93                                      </td><td>3L                                      </td><td>Abl                                     </td><td>4875                                    </td><td>  0                                     </td><td>0.8999361                               </td></tr>\n",
       "\t<tr><td>FBgn0000018                             </td><td>RAL                                     </td><td>6;0;0;0;0;1;0;0;1;0;0;0;2;1;0;0;0;0;0;0 </td><td>4;2;1;0;0;0;2;1;0;1;0;0;1;0;0;0;0;0;0;0 </td><td>12                                      </td><td>11                                      </td><td> 18                                     </td><td>17                                      </td><td>2L                                      </td><td>abo                                     </td><td>1275                                    </td><td>271                                     </td><td>2.9318767                               </td></tr>\n",
       "\t<tr><td>FBgn0000022                             </td><td>RAL                                     </td><td>0;0;0;0;0;0;0;0;0;0;0;0;0;0;0;0;0;0;0;0 </td><td>0;0;0;0;0;0;0;0;0;0;0;0;0;0;0;0;0;0;0;0 </td><td> 0                                      </td><td> 0                                      </td><td>  0                                     </td><td> 0                                      </td><td>X                                       </td><td>ac                                      </td><td> 392                                    </td><td> 75                                     </td><td>0.0000000                               </td></tr>\n",
       "</tbody>\n",
       "</table>\n"
      ],
      "text/latex": [
       "\\begin{tabular}{r|lllllllllllll}\n",
       " id & pop & DAF0f & DAF4f & p0 & pi & di & d0 & chr & name & mi & m0 & recomb\\\\\n",
       "\\hline\n",
       "\t FBgn0000008                              & RAL                                      & 30;7;3;0;1;0;0;0;1;0;0;0;1;0;0;0;0;0;0;0 & 19;5;5;2;0;1;0;1;1;0;1;1;1;0;0;0;1;0;0;1 & 39                                       & 43                                       &  26                                      & 31                                       & 2R                                       & a                                        & 2539                                     & 667                                      & 2.1692837                               \\\\\n",
       "\t FBgn0000014                              & RAL                                      & 2;0;0;0;0;0;0;0;0;0;0;0;0;0;0;0;0;0;0;0  & 1;0;1;1;0;0;0;0;0;0;0;0;0;0;0;0;0;1;0;0  &  4                                       &  2                                       &   1                                      & 20                                       & 3R                                       & abd-A                                    & 1516                                     &   0                                      & 0.7616990                               \\\\\n",
       "\t FBgn0000015                              & RAL                                      & 3;0;0;0;0;1;0;0;0;0;0;0;0;0;0;0;0;0;0;0  & 4;0;3;1;0;0;1;0;0;0;1;0;0;1;1;0;0;0;0;0  & 12                                       &  4                                       &   0                                      &  3                                       & 3R                                       & Abd-B                                    & 1292                                     &   0                                      & 0.4352566                               \\\\\n",
       "\t FBgn0000017                              & RAL                                      & 14;0;0;0;0;0;0;0;0;0;0;0;0;0;0;0;0;0;0;0 & 14;2;0;1;0;0;0;0;0;0;0;0;0;1;1;0;0;0;0;2 & 21                                       & 14                                       & 139                                      & 93                                       & 3L                                       & Abl                                      & 4875                                     &   0                                      & 0.8999361                               \\\\\n",
       "\t FBgn0000018                              & RAL                                      & 6;0;0;0;0;1;0;0;1;0;0;0;2;1;0;0;0;0;0;0  & 4;2;1;0;0;0;2;1;0;1;0;0;1;0;0;0;0;0;0;0  & 12                                       & 11                                       &  18                                      & 17                                       & 2L                                       & abo                                      & 1275                                     & 271                                      & 2.9318767                               \\\\\n",
       "\t FBgn0000022                              & RAL                                      & 0;0;0;0;0;0;0;0;0;0;0;0;0;0;0;0;0;0;0;0  & 0;0;0;0;0;0;0;0;0;0;0;0;0;0;0;0;0;0;0;0  &  0                                       &  0                                       &   0                                      &  0                                       & X                                        & ac                                       &  392                                     &  75                                      & 0.0000000                               \\\\\n",
       "\\end{tabular}\n"
      ],
      "text/markdown": [
       "\n",
       "| id | pop | DAF0f | DAF4f | p0 | pi | di | d0 | chr | name | mi | m0 | recomb |\n",
       "|---|---|---|---|---|---|---|---|---|---|---|---|---|\n",
       "| FBgn0000008                              | RAL                                      | 30;7;3;0;1;0;0;0;1;0;0;0;1;0;0;0;0;0;0;0 | 19;5;5;2;0;1;0;1;1;0;1;1;1;0;0;0;1;0;0;1 | 39                                       | 43                                       |  26                                      | 31                                       | 2R                                       | a                                        | 2539                                     | 667                                      | 2.1692837                                |\n",
       "| FBgn0000014                              | RAL                                      | 2;0;0;0;0;0;0;0;0;0;0;0;0;0;0;0;0;0;0;0  | 1;0;1;1;0;0;0;0;0;0;0;0;0;0;0;0;0;1;0;0  |  4                                       |  2                                       |   1                                      | 20                                       | 3R                                       | abd-A                                    | 1516                                     |   0                                      | 0.7616990                                |\n",
       "| FBgn0000015                              | RAL                                      | 3;0;0;0;0;1;0;0;0;0;0;0;0;0;0;0;0;0;0;0  | 4;0;3;1;0;0;1;0;0;0;1;0;0;1;1;0;0;0;0;0  | 12                                       |  4                                       |   0                                      |  3                                       | 3R                                       | Abd-B                                    | 1292                                     |   0                                      | 0.4352566                                |\n",
       "| FBgn0000017                              | RAL                                      | 14;0;0;0;0;0;0;0;0;0;0;0;0;0;0;0;0;0;0;0 | 14;2;0;1;0;0;0;0;0;0;0;0;0;1;1;0;0;0;0;2 | 21                                       | 14                                       | 139                                      | 93                                       | 3L                                       | Abl                                      | 4875                                     |   0                                      | 0.8999361                                |\n",
       "| FBgn0000018                              | RAL                                      | 6;0;0;0;0;1;0;0;1;0;0;0;2;1;0;0;0;0;0;0  | 4;2;1;0;0;0;2;1;0;1;0;0;1;0;0;0;0;0;0;0  | 12                                       | 11                                       |  18                                      | 17                                       | 2L                                       | abo                                      | 1275                                     | 271                                      | 2.9318767                                |\n",
       "| FBgn0000022                              | RAL                                      | 0;0;0;0;0;0;0;0;0;0;0;0;0;0;0;0;0;0;0;0  | 0;0;0;0;0;0;0;0;0;0;0;0;0;0;0;0;0;0;0;0  |  0                                       |  0                                       |   0                                      |  0                                       | X                                        | ac                                       |  392                                     |  75                                      | 0.0000000                                |\n",
       "\n"
      ],
      "text/plain": [
       "  id          pop DAF0f                                   \n",
       "1 FBgn0000008 RAL 30;7;3;0;1;0;0;0;1;0;0;0;1;0;0;0;0;0;0;0\n",
       "2 FBgn0000014 RAL 2;0;0;0;0;0;0;0;0;0;0;0;0;0;0;0;0;0;0;0 \n",
       "3 FBgn0000015 RAL 3;0;0;0;0;1;0;0;0;0;0;0;0;0;0;0;0;0;0;0 \n",
       "4 FBgn0000017 RAL 14;0;0;0;0;0;0;0;0;0;0;0;0;0;0;0;0;0;0;0\n",
       "5 FBgn0000018 RAL 6;0;0;0;0;1;0;0;1;0;0;0;2;1;0;0;0;0;0;0 \n",
       "6 FBgn0000022 RAL 0;0;0;0;0;0;0;0;0;0;0;0;0;0;0;0;0;0;0;0 \n",
       "  DAF4f                                    p0 pi di  d0 chr name  mi   m0 \n",
       "1 19;5;5;2;0;1;0;1;1;0;1;1;1;0;0;0;1;0;0;1 39 43  26 31 2R  a     2539 667\n",
       "2 1;0;1;1;0;0;0;0;0;0;0;0;0;0;0;0;0;1;0;0   4  2   1 20 3R  abd-A 1516   0\n",
       "3 4;0;3;1;0;0;1;0;0;0;1;0;0;1;1;0;0;0;0;0  12  4   0  3 3R  Abd-B 1292   0\n",
       "4 14;2;0;1;0;0;0;0;0;0;0;0;0;1;1;0;0;0;0;2 21 14 139 93 3L  Abl   4875   0\n",
       "5 4;2;1;0;0;0;2;1;0;1;0;0;1;0;0;0;0;0;0;0  12 11  18 17 2L  abo   1275 271\n",
       "6 0;0;0;0;0;0;0;0;0;0;0;0;0;0;0;0;0;0;0;0   0  0   0  0 X   ac     392  75\n",
       "  recomb   \n",
       "1 2.1692837\n",
       "2 0.7616990\n",
       "3 0.4352566\n",
       "4 0.8999361\n",
       "5 2.9318767\n",
       "6 0.0000000"
      ]
     },
     "metadata": {},
     "output_type": "display_data"
    }
   ],
   "source": [
    "dataset %>% head"
   ]
  },
  {
   "cell_type": "markdown",
   "metadata": {},
   "source": [
    "#### Changing divergence"
   ]
  },
  {
   "cell_type": "markdown",
   "metadata": {},
   "source": [
    "##### Manual combinations"
   ]
  },
  {
   "cell_type": "code",
   "execution_count": 7,
   "metadata": {
    "ExecuteTime": {
     "end_time": "2019-03-07T12:03:25.392772Z",
     "start_time": "2019-03-07T12:07:02.430Z"
    }
   },
   "outputs": [],
   "source": [
    "options(repr.plot.width=5, repr.plot.height=5)"
   ]
  },
  {
   "cell_type": "markdown",
   "metadata": {},
   "source": [
    "###### Ratio divergence 0.1"
   ]
  },
  {
   "cell_type": "code",
   "execution_count": 10,
   "metadata": {
    "ExecuteTime": {
     "end_time": "2019-03-07T12:06:18.829523Z",
     "start_time": "2019-03-07T12:08:15.538Z"
    },
    "code_folding": [],
    "scrolled": true
   },
   "outputs": [
    {
     "name": "stdout",
     "output_type": "stream",
     "text": [
      "[1] 0.1\n",
      "[1] 0.25\n"
     ]
    },
    {
     "name": "stderr",
     "output_type": "stream",
     "text": [
      "Warning message in data.table::data.table(...):\n",
      "“Item 1 is of size 10 but maximum size is 25 (recycled leaving remainder of 5 items)”"
     ]
    },
    {
     "name": "stdout",
     "output_type": "stream",
     "text": [
      "[1] 0.5\n",
      "[1] 0.75\n"
     ]
    },
    {
     "name": "stderr",
     "output_type": "stream",
     "text": [
      "Warning message in data.table::data.table(...):\n",
      "“Item 1 is of size 10 but maximum size is 25 (recycled leaving remainder of 5 items)”"
     ]
    },
    {
     "name": "stdout",
     "output_type": "stream",
     "text": [
      "[1] 1\n",
      "[1] 1.5\n"
     ]
    },
    {
     "name": "stderr",
     "output_type": "stream",
     "text": [
      "Warning message in data.table::data.table(...):\n",
      "“Item 1 is of size 10 but maximum size is 33 (recycled leaving remainder of 3 items)”"
     ]
    },
    {
     "name": "stdout",
     "output_type": "stream",
     "text": [
      "[1] 2\n",
      "[1] 5\n",
      "[1] 10\n"
     ]
    },
    {
     "ename": "ERROR",
     "evalue": "Error in grid.arrange(div0.1, div0.25, div0.5, div0.75, div1, div1.5, : could not find function \"grid.arrange\"\n",
     "output_type": "error",
     "traceback": [
      "Error in grid.arrange(div0.1, div0.25, div0.5, div0.75, div1, div1.5, : could not find function \"grid.arrange\"\nTraceback:\n"
     ]
    }
   ],
   "source": [
    "for(i in c(0.1,0.25,0.5,0.75,1,1.5,2,5,10)){\n",
    "    print(i)\n",
    "    \n",
    "    ratio <- createCombinations(listLengthToExpand=100,ratioD=0.1,ratioP=i)\n",
    "    polDiv <- tableToIter(data=ratio,iterations=length(ratio$Di),combinations = 'polymorphism')\n",
    "    assign(paste0('div',i), polDiv$plot)\n",
    "    \n",
    "    customLegend <- polDiv$legend\n",
    "}\n",
    "\n",
    "p <- plot_grid(div0.1,div0.25,div0.5,div0.75,div1,div1.5,div2,div5,div10)\n",
    "p <- plot_grid(p, customLegend, ncol=2, rel_widths=c(1,.2))\n",
    "\n",
    "ggsave(p,file='/home/jmurga/div0.1.svg',width = 28,height = 26)"
   ]
  },
  {
   "cell_type": "markdown",
   "metadata": {
    "heading_collapsed": true
   },
   "source": [
    "###### Ratio divergence 0.25"
   ]
  },
  {
   "cell_type": "code",
   "execution_count": null,
   "metadata": {
    "ExecuteTime": {
     "end_time": "2019-02-25T09:34:35.113405Z",
     "start_time": "2019-02-25T09:37:38.358Z"
    },
    "code_folding": [],
    "hidden": true,
    "scrolled": false
   },
   "outputs": [],
   "source": [
    "for(i in c(0.1,0.25,0.5,0.75,1,1.5,2,5,10)){\n",
    "    print(i)\n",
    "    ratio <- createCombinations(listLengthToExpand=100,ratioD=0.25,ratioP=i)\n",
    "    polDiv <- tableToIter(data=ratio,iterations=length(ratio$Di),combinations = 'polymorphism')\n",
    "    assign(paste0('div',i), polDiv$plot)\n",
    "}\n",
    "p <- grid.arrange(div0.1,div0.25,div0.5,div0.75,div1,div1.5,div2,div5,div10)\n",
    "ggsave(p,file='/home/jmurga/mkt/201902/results/div0.25.svg',width = 28,height = 26)"
   ]
  },
  {
   "cell_type": "markdown",
   "metadata": {
    "heading_collapsed": true
   },
   "source": [
    "###### Ratio divergence 0.5"
   ]
  },
  {
   "cell_type": "code",
   "execution_count": null,
   "metadata": {
    "ExecuteTime": {
     "end_time": "2019-02-25T09:34:35.113405Z",
     "start_time": "2019-02-25T09:37:38.358Z"
    },
    "code_folding": [],
    "hidden": true,
    "scrolled": true
   },
   "outputs": [],
   "source": [
    "for(i in c(0.1,0.25,0.5,0.75,1,1.5,2,5,10)){\n",
    "    print(i)\n",
    "    ratio <- createCombinations(listLengthToExpand=100,ratioD=0.5,ratioP=i)\n",
    "    polDiv <- tableToIter(data=ratio,iterations=length(ratio$Di),combinations = 'polymorphism')\n",
    "    assign(paste0('div',i), polDiv$plot)\n",
    "}\n",
    "p<-grid.arrange(div0.1,div0.25,div0.5,div0.75,div1,div1.5,div2,div5,div10)\n",
    "ggsave(p,file='/home/jmurga/mkt/201902/results/div0.5.svg',width = 28,height = 26)"
   ]
  },
  {
   "cell_type": "markdown",
   "metadata": {
    "heading_collapsed": true
   },
   "source": [
    "###### Ratio divergence 0.75"
   ]
  },
  {
   "cell_type": "code",
   "execution_count": null,
   "metadata": {
    "ExecuteTime": {
     "end_time": "2019-02-25T09:34:35.113405Z",
     "start_time": "2019-02-25T09:37:38.358Z"
    },
    "code_folding": [],
    "hidden": true,
    "scrolled": true
   },
   "outputs": [],
   "source": [
    "for(i in c(0.1,0.25,0.5,0.75,1,1.5,2,5,10)){\n",
    "    print(i)\n",
    "    ratio <- createCombinations(listLengthToExpand=100,ratioD=0.75,ratioP=i)\n",
    "    polDiv <- tableToIter(data=ratio,iterations=length(ratio$Di),combinations = 'polymorphism')\n",
    "    assign(paste0('div',i), polDiv$plot)\n",
    "}\n",
    "p<-grid.arrange(div0.1,div0.25,div0.5,div0.75,div1,div1.5,div2,div5,div10)\n",
    "ggsave(p,file='/home/jmurga/mkt/201902/results/div0.75.svg',width = 28,height = 26)"
   ]
  },
  {
   "cell_type": "markdown",
   "metadata": {
    "heading_collapsed": true
   },
   "source": [
    "###### Ratio divergence 1"
   ]
  },
  {
   "cell_type": "code",
   "execution_count": null,
   "metadata": {
    "ExecuteTime": {
     "end_time": "2019-02-25T09:34:35.113405Z",
     "start_time": "2019-02-25T09:37:38.358Z"
    },
    "code_folding": [],
    "hidden": true,
    "scrolled": true
   },
   "outputs": [],
   "source": [
    "for(i in c(0.1,0.25,0.5,0.75,1,1.5,2,5,10)){\n",
    "    print(i)\n",
    "    ratio <- createCombinations(listLengthToExpand=100,ratioD=1,ratioP=i)\n",
    "    polDiv <- tableToIter(data=ratio,iterations=length(ratio$Di),combinations = 'polymorphism')\n",
    "    assign(paste0('div',i), polDiv$plot)\n",
    "}\n",
    "grid.arrange(div0.1,div0.25,div0.5,div0.75,div1,div1.5,div2,div5,div10)\n",
    "ggsave(p,file='/home/jmurga/mkt/201902/results/div1.svg',width = 28,height = 26)"
   ]
  },
  {
   "cell_type": "markdown",
   "metadata": {
    "heading_collapsed": true
   },
   "source": [
    "###### Ratio divergence 1.5"
   ]
  },
  {
   "cell_type": "code",
   "execution_count": null,
   "metadata": {
    "ExecuteTime": {
     "end_time": "2019-02-25T09:34:35.113405Z",
     "start_time": "2019-02-25T09:37:38.358Z"
    },
    "code_folding": [],
    "hidden": true,
    "scrolled": true
   },
   "outputs": [],
   "source": [
    "for(i in c(0.1,0.25,0.5,0.75,1,1.5,2,5,10)){\n",
    "    print(i)\n",
    "    ratio <- createCombinations(listLengthToExpand=100,ratioD=1.5,ratioP=i)\n",
    "    polDiv <- tableToIter(data=ratio,iterations=length(ratio$Di),combinations = 'polymorphism')\n",
    "    assign(paste0('div',i), polDiv$plot)\n",
    "}\n",
    "p<-grid.arrange(div0.1,div0.25,div0.5,div0.75,div1,div1.5,div2,div5,div10)\n",
    "ggsave(p,file='/home/jmurga/mkt/201902/results/div1.5.svg',width = 28,height = 26)"
   ]
  },
  {
   "cell_type": "markdown",
   "metadata": {
    "heading_collapsed": true
   },
   "source": [
    "###### Ratio divergence 2"
   ]
  },
  {
   "cell_type": "code",
   "execution_count": null,
   "metadata": {
    "ExecuteTime": {
     "end_time": "2019-02-25T09:34:35.113405Z",
     "start_time": "2019-02-25T09:37:38.358Z"
    },
    "code_folding": [],
    "hidden": true,
    "scrolled": true
   },
   "outputs": [],
   "source": [
    "for(i in c(0.1,0.25,0.5,0.75,1,1.5,2,5,10)){\n",
    "    print(i)\n",
    "    ratio <- createCombinations(listLengthToExpand=100,ratioD=2,ratioP=i)\n",
    "    polDiv <- tableToIter(data=ratio,iterations=length(ratio$Di),combinations = 'polymorphism')\n",
    "    assign(paste0('div',i), polDiv$plot)\n",
    "}\n",
    "p<-grid.arrange(div0.1,div0.25,div0.5,div0.75,div1,div1.5,div2,div5,div10)\n",
    "ggsave(p,file='/home/jmurga/mkt/201902/results/div2.svg',width = 28,height = 26)"
   ]
  },
  {
   "cell_type": "markdown",
   "metadata": {
    "heading_collapsed": true
   },
   "source": [
    "###### Ratio divergence 5"
   ]
  },
  {
   "cell_type": "code",
   "execution_count": null,
   "metadata": {
    "ExecuteTime": {
     "end_time": "2019-02-25T09:34:35.113405Z",
     "start_time": "2019-02-25T09:37:38.358Z"
    },
    "code_folding": [],
    "hidden": true,
    "scrolled": true
   },
   "outputs": [],
   "source": [
    "for(i in c(0.1,0.25,0.5,0.75,1,1.5,2,5,10)){\n",
    "    print(i)\n",
    "    ratio <- createCombinations(listLengthToExpand=100,ratioD=5,ratioP=i)\n",
    "    polDiv <- tableToIter(data=ratio,iterations=length(ratio$Di),combinations = 'polymorphism')\n",
    "    assign(paste0('div',i), polDiv$plot)\n",
    "}\n",
    "grid.arrange(div0.1,div0.25,div0.5,div0.75,div1,div1.5,div2,div5,div10)\n",
    "p<-grid.arrange(div0.1,div0.25,div0.5,div0.75,div1,div1.5,div2,div5,div10)\n",
    "ggsave(p,file='/home/jmurga/mkt/201902/results/div5.svg',width = 28,height = 26)\n"
   ]
  },
  {
   "cell_type": "markdown",
   "metadata": {
    "heading_collapsed": true
   },
   "source": [
    "###### Ratio divergence 10"
   ]
  },
  {
   "cell_type": "code",
   "execution_count": null,
   "metadata": {
    "ExecuteTime": {
     "end_time": "2019-02-25T10:05:35.249277Z",
     "start_time": "2019-02-25T10:09:03.997Z"
    },
    "code_folding": [],
    "hidden": true,
    "scrolled": true
   },
   "outputs": [],
   "source": [
    "for(i in c(0.1,0.25,0.5,0.75,1,1.5,2,5,10)){\n",
    "    print(i)\n",
    "    ratio <- createCombinations(listLengthToExpand=100,ratioD=10,ratioP=i)\n",
    "    polDiv <- tableToIter(data=ratio,iterations=length(ratio$Di),combinations = 'polymorphism')\n",
    "    assign(paste0('div',i), polDiv$plot)\n",
    "}\n",
    "p<-grid.arrange(div0.1,div0.25,div0.5,div0.75,div1,div1.5,div2,div5,div10)\n",
    "ggsave(p,file='/home/jmurga/mkt/201902/results/div10.png',width = 28,height = 26)\n"
   ]
  }
 ],
 "metadata": {
  "kernelspec": {
   "display_name": "R",
   "language": "R",
   "name": "ir"
  },
  "language_info": {
   "codemirror_mode": "r",
   "file_extension": ".r",
   "mimetype": "text/x-r-source",
   "name": "R",
   "pygments_lexer": "r",
   "version": "3.5.2"
  },
  "toc": {
   "base_numbering": 1,
   "nav_menu": {},
   "number_sections": true,
   "sideBar": true,
   "skip_h1_title": false,
   "title_cell": "Table of Contents",
   "title_sidebar": "Contents",
   "toc_cell": false,
   "toc_position": {},
   "toc_section_display": true,
   "toc_window_display": true
  },
  "varInspector": {
   "cols": {
    "lenName": 16,
    "lenType": 16,
    "lenVar": 40
   },
   "kernels_config": {
    "python": {
     "delete_cmd_postfix": "",
     "delete_cmd_prefix": "del ",
     "library": "var_list.py",
     "varRefreshCmd": "print(var_dic_list())"
    },
    "r": {
     "delete_cmd_postfix": ") ",
     "delete_cmd_prefix": "rm(",
     "library": "var_list.r",
     "varRefreshCmd": "cat(var_dic_list()) "
    }
   },
   "types_to_exclude": [
    "module",
    "function",
    "builtin_function_or_method",
    "instance",
    "_Feature"
   ],
   "window_display": false
  }
 },
 "nbformat": 4,
 "nbformat_minor": 2
}
