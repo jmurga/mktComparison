{
 "cells": [
  {
   "cell_type": "code",
   "execution_count": 1,
   "metadata": {
    "ExecuteTime": {
     "end_time": "2019-05-16T08:27:11.994054Z",
     "start_time": "2019-05-16T08:27:11.757Z"
    },
    "scrolled": true
   },
   "outputs": [
    {
     "name": "stderr",
     "output_type": "stream",
     "text": [
      "\n",
      "Attaching package: ‘cowplot’\n",
      "\n",
      "The following object is masked from ‘package:ggplot2’:\n",
      "\n",
      "    ggsave\n",
      "\n",
      "\n",
      "Attaching package: ‘gridExtra’\n",
      "\n",
      "The following object is masked from ‘package:dplyr’:\n",
      "\n",
      "    combine\n",
      "\n"
     ]
    }
   ],
   "source": [
    "library(data.table)\n",
    "library(dplyr)\n",
    "library(ggplot2)\n",
    "library(cowplot)\n",
    "library(gridExtra)\n",
    "source('/home/jmurga/mkt/201902/scripts/src/plotStyle.R')\n",
    "source('/home/jmurga/mkt/201902/scripts/src/minimumNumberPi.R')\n",
    "# dir.create('/home/jmurga/mkt/201902/results/power/', recursive = T)"
   ]
  },
  {
   "cell_type": "markdown",
   "metadata": {},
   "source": [
    "### Changing divergence"
   ]
  },
  {
   "cell_type": "code",
   "execution_count": null,
   "metadata": {
    "ExecuteTime": {
     "end_time": "2019-03-08T11:51:35.207188Z",
     "start_time": "2019-03-08T11:55:12.019Z"
    }
   },
   "outputs": [],
   "source": [
    "options(repr.plot.width=5, repr.plot.height=5)"
   ]
  },
  {
   "cell_type": "markdown",
   "metadata": {
    "heading_collapsed": true
   },
   "source": [
    "#### Ratio divergence 0.1"
   ]
  },
  {
   "cell_type": "code",
   "execution_count": 2,
   "metadata": {
    "ExecuteTime": {
     "end_time": "2019-05-16T08:30:30.517524Z",
     "start_time": "2019-05-16T08:27:53.407Z"
    },
    "code_folding": [],
    "collapsed": true,
    "hidden": true
   },
   "outputs": [
    {
     "name": "stderr",
     "output_type": "stream",
     "text": [
      "Warning message in data.table::data.table(...):\n",
      "“Item 1 is of size 10 but maximum size is 25 (recycled leaving remainder of 5 items)”Warning message in data.table::data.table(...):\n",
      "“Item 1 is of size 10 but maximum size is 25 (recycled leaving remainder of 5 items)”Warning message in data.table::data.table(...):\n",
      "“Item 1 is of size 10 but maximum size is 33 (recycled leaving remainder of 3 items)”"
     ]
    }
   ],
   "source": [
    "divRatio <- list()\n",
    "for(i in c(0.1,0.25,0.5,0.75,1,1.5,2,5,10)){\n",
    "    \n",
    "    ratio <- createCombinations(listLengthToExpand=100,ratioD=0.1,ratioP=i)\n",
    "    polDiv <- tableToIter(data=ratio,iterations=length(ratio$Di),combinations = 'polymorphism')\n",
    "    \n",
    "    divRatio[[paste0(i)]] <- ratio \n",
    "    \n",
    "    assign(paste0('div',i), polDiv$plot)\n",
    "    customLegend <- polDiv$legend\n",
    "}\n",
    "\n",
    "p <- plot_grid(div0.1,div0.25,div0.5,div0.75,div1,div1.5,div2,div5,div10)\n",
    "p <- plot_grid(p, customLegend, ncol=2, rel_widths=c(1,.1))\n",
    "ggsave(p,file='/home/jmurga/mkt/201902/results/power/div0.1.svg',width = 14,height = 13)\n",
    "save(divRatio,file='/home/jmurga/mkt/201902/results/power/div0.1.RData')"
   ]
  },
  {
   "cell_type": "markdown",
   "metadata": {
    "heading_collapsed": true
   },
   "source": [
    "#### Ratio divergence 0.25"
   ]
  },
  {
   "cell_type": "code",
   "execution_count": 9,
   "metadata": {
    "ExecuteTime": {
     "end_time": "2019-05-16T09:06:06.669353Z",
     "start_time": "2019-05-16T09:02:41.580Z"
    },
    "code_folding": [],
    "collapsed": true,
    "hidden": true
   },
   "outputs": [
    {
     "name": "stderr",
     "output_type": "stream",
     "text": [
      "Warning message in data.table::data.table(...):\n",
      "“Item 2 is of size 10 but maximum size is 25 (recycled leaving remainder of 5 items)”Warning message in data.table::data.table(...):\n",
      "“Item 1 is of size 25 but maximum size is 33 (recycled leaving remainder of 8 items)”Warning message in data.table::data.table(...):\n",
      "“Item 2 is of size 20 but maximum size is 25 (recycled leaving remainder of 5 items)”Warning message in data.table::data.table(...):\n",
      "“Item 2 is of size 10 but maximum size is 25 (recycled leaving remainder of 5 items)”"
     ]
    }
   ],
   "source": [
    "divRatio <- list()\n",
    "for(i in c(0.1,0.25,0.5,0.75,1,1.5,2,5,10)){\n",
    "   \n",
    "    ratio <- createCombinations(listLengthToExpand=100,ratioD=0.25,ratioP=i)\n",
    "    polDiv <- tableToIter(data=ratio,iterations=length(ratio$Di),combinations = 'polymorphism')\n",
    "    assign(paste0('div',i), polDiv$plot)\n",
    "    \n",
    "    divRatio[[paste0(i)]] <- ratio \n",
    "\n",
    "    customLegend <- polDiv$legend\n",
    "}\n",
    "\n",
    "p <- plot_grid(div0.1,div0.25,div0.5,div0.75,div1,div1.5,div2,div5,div10)\n",
    "p <- plot_grid(p, customLegend, ncol=2, rel_widths=c(1,.1))\n",
    "ggsave(p,file='/home/jmurga/mkt/201902/results/power/div0.25.svg',width = 14,height = 13)\n",
    "save(divRatio,file='/home/jmurga/mkt/201902/results/power/div0.25.RData')"
   ]
  },
  {
   "cell_type": "markdown",
   "metadata": {
    "heading_collapsed": true
   },
   "source": [
    "#### Ratio divergence 0.5"
   ]
  },
  {
   "cell_type": "code",
   "execution_count": 11,
   "metadata": {
    "ExecuteTime": {
     "end_time": "2019-05-16T09:13:03.264058Z",
     "start_time": "2019-05-16T09:08:02.797Z"
    },
    "code_folding": [],
    "hidden": true,
    "scrolled": true
   },
   "outputs": [
    {
     "name": "stderr",
     "output_type": "stream",
     "text": [
      "Warning message in data.table::data.table(...):\n",
      "“Item 2 is of size 33 but maximum size is 50 (recycled leaving remainder of 17 items)”Warning message in data.table::data.table(...):\n",
      "“Item 2 is of size 20 but maximum size is 50 (recycled leaving remainder of 10 items)”"
     ]
    }
   ],
   "source": [
    "divRatio <- list()\n",
    "for(i in c(0.1,0.25,0.5,0.75,1,1.5,2,5,10)){\n",
    "   \n",
    "    ratio <- createCombinations(listLengthToExpand=100,ratioD=0.5,ratioP=i)\n",
    "    polDiv <- tableToIter(data=ratio,iterations=length(ratio$Di),combinations = 'polymorphism')\n",
    "    assign(paste0('div',i), polDiv$plot)\n",
    "\n",
    "    divRatio[[paste0(i)]] <- ratio \n",
    "\n",
    "    customLegend <- polDiv$legend\n",
    "}\n",
    "\n",
    "p <- plot_grid(div0.1,div0.25,div0.5,div0.75,div1,div1.5,div2,div5,div10)\n",
    "p <- plot_grid(p, customLegend, ncol=2, rel_widths=c(1,.1))\n",
    "ggsave(p,file='/home/jmurga/mkt/201902/results/power/div0.5.svg',width = 14,height = 13)\n",
    "save(divRatio,file='/home/jmurga/mkt/201902/results/power/div0.5.RData')"
   ]
  },
  {
   "cell_type": "markdown",
   "metadata": {
    "heading_collapsed": true
   },
   "source": [
    "#### Ratio divergence 0.75"
   ]
  },
  {
   "cell_type": "code",
   "execution_count": 12,
   "metadata": {
    "ExecuteTime": {
     "end_time": "2019-05-16T09:22:26.565936Z",
     "start_time": "2019-05-16T09:18:43.849Z"
    },
    "code_folding": [],
    "hidden": true,
    "scrolled": true
   },
   "outputs": [
    {
     "name": "stderr",
     "output_type": "stream",
     "text": [
      "Warning message in data.table::data.table(...):\n",
      "“Item 2 is of size 10 but maximum size is 25 (recycled leaving remainder of 5 items)”Warning message in data.table::data.table(...):\n",
      "“Item 1 is of size 25 but maximum size is 33 (recycled leaving remainder of 8 items)”Warning message in data.table::data.table(...):\n",
      "“Item 2 is of size 20 but maximum size is 25 (recycled leaving remainder of 5 items)”Warning message in data.table::data.table(...):\n",
      "“Item 2 is of size 10 but maximum size is 25 (recycled leaving remainder of 5 items)”"
     ]
    }
   ],
   "source": [
    "divRatio <- list()\n",
    "for(i in c(0.1,0.25,0.5,0.75,1,1.5,2,5,10)){\n",
    "   \n",
    "    ratio <- createCombinations(listLengthToExpand=100,ratioD=0.75,ratioP=i)\n",
    "    polDiv <- tableToIter(data=ratio,iterations=length(ratio$Di),combinations = 'polymorphism')\n",
    "    assign(paste0('div',i), polDiv$plot)\n",
    "\n",
    "    divRatio[[paste0(i)]] <- ratio \n",
    "\n",
    "    customLegend <- polDiv$legend\n",
    "}\n",
    "\n",
    "p <- plot_grid(div0.1,div0.25,div0.5,div0.75,div1,div1.5,div2,div5,div10)\n",
    "p <- plot_grid(p, customLegend, ncol=2, rel_widths=c(1,.1))\n",
    "ggsave(p,file='/home/jmurga/mkt/201902/results/power/div0.75.svg',width = 14,height = 13)\n",
    "save(divRatio,file='/home/jmurga/mkt/201902/results/power/div0.75.RData')"
   ]
  },
  {
   "cell_type": "markdown",
   "metadata": {},
   "source": [
    "#### Ratio divergence 1"
   ]
  },
  {
   "cell_type": "code",
   "execution_count": 13,
   "metadata": {
    "ExecuteTime": {
     "end_time": "2019-05-16T10:04:43.992229Z",
     "start_time": "2019-05-16T09:43:53.113Z"
    },
    "code_folding": [],
    "scrolled": true
   },
   "outputs": [
    {
     "name": "stderr",
     "output_type": "stream",
     "text": [
      "Warning message in data.table::data.table(...):\n",
      "“Item 2 is of size 33 but maximum size is 100 (recycled leaving remainder of 1 items)”"
     ]
    }
   ],
   "source": [
    "divRatio <- list()\n",
    "\n",
    "for(i in c(0.1,0.25,0.5,0.75,1,1.5,2,5,10)){\n",
    "   \n",
    "    ratio <- createCombinations(listLengthToExpand=100,ratioD=1,ratioP=i)\n",
    "    polDiv <- tableToIter(data=ratio,iterations=length(ratio$Di),combinations = 'polymorphism')\n",
    "    assign(paste0('div',i), polDiv$plot)\n",
    "\n",
    "    divRatio[[paste0(i)]] <- ratio \n",
    "\n",
    "    customLegend <- polDiv$legend\n",
    "}\n",
    "\n",
    "p <- plot_grid(div0.1,div0.25,div0.5,div0.75,div1,div1.5,div2,div5,div10)\n",
    "p <- plot_grid(p, customLegend, ncol=2, rel_widths=c(1,.1))\n",
    "ggsave(p,file='/home/jmurga/mkt/201902/results/power/div1.svg',width = 14,height = 13)\n",
    "save(divRatio,file='/home/jmurga/mkt/201902/results/power/div1.RData')"
   ]
  },
  {
   "cell_type": "markdown",
   "metadata": {
    "heading_collapsed": true
   },
   "source": [
    "#### Ratio divergence 1.5"
   ]
  },
  {
   "cell_type": "code",
   "execution_count": 14,
   "metadata": {
    "ExecuteTime": {
     "end_time": "2019-05-16T10:13:42.051092Z",
     "start_time": "2019-05-16T10:10:07.200Z"
    },
    "code_folding": [],
    "hidden": true,
    "scrolled": true
   },
   "outputs": [
    {
     "name": "stderr",
     "output_type": "stream",
     "text": [
      "Warning message in data.table::data.table(...):\n",
      "“Item 2 is of size 10 but maximum size is 33 (recycled leaving remainder of 3 items)”Warning message in data.table::data.table(...):\n",
      "“Item 2 is of size 25 but maximum size is 33 (recycled leaving remainder of 8 items)”Warning message in data.table::data.table(...):\n",
      "“Item 1 is of size 33 but maximum size is 50 (recycled leaving remainder of 17 items)”Warning message in data.table::data.table(...):\n",
      "“Item 2 is of size 25 but maximum size is 33 (recycled leaving remainder of 8 items)”Warning message in data.table::data.table(...):\n",
      "“Item 1 is of size 33 but maximum size is 100 (recycled leaving remainder of 1 items)”Warning message in data.table::data.table(...):\n",
      "“Item 1 is of size 33 but maximum size is 50 (recycled leaving remainder of 17 items)”Warning message in data.table::data.table(...):\n",
      "“Item 2 is of size 20 but maximum size is 33 (recycled leaving remainder of 13 items)”Warning message in data.table::data.table(...):\n",
      "“Item 2 is of size 10 but maximum size is 33 (recycled leaving remainder of 3 items)”"
     ]
    }
   ],
   "source": [
    "divRatio <- list()\n",
    "\n",
    "for(i in c(0.1,0.25,0.5,0.75,1,1.5,2,5,10)){\n",
    "   \n",
    "    ratio <- createCombinations(listLengthToExpand=100,ratioD=1.5,ratioP=i)\n",
    "    polDiv <- tableToIter(data=ratio,iterations=length(ratio$Di),combinations = 'polymorphism')\n",
    "    assign(paste0('div',i), polDiv$plot)\n",
    "\n",
    "    divRatio[[paste0(i)]] <- ratio \n",
    "\n",
    "    \n",
    "    customLegend <- polDiv$legend\n",
    "}\n",
    "\n",
    "p <- plot_grid(div0.1,div0.25,div0.5,div0.75,div1,div1.5,div2,div5,div10)\n",
    "p <- plot_grid(p, customLegend, ncol=2, rel_widths=c(1,.1))\n",
    "ggsave(p,file='/home/jmurga/mkt/201902/results/power/div1.5.svg',width = 14,height = 13)\n",
    "save(divRatio,file='/home/jmurga/mkt/201902/results/power/div1.5.RData')"
   ]
  },
  {
   "cell_type": "markdown",
   "metadata": {},
   "source": [
    "#### Ratio divergence 2"
   ]
  },
  {
   "cell_type": "code",
   "execution_count": 15,
   "metadata": {
    "ExecuteTime": {
     "end_time": "2019-05-16T10:42:23.712548Z",
     "start_time": "2019-05-16T10:37:46.504Z"
    },
    "code_folding": [],
    "scrolled": true
   },
   "outputs": [
    {
     "name": "stderr",
     "output_type": "stream",
     "text": [
      "Warning message in data.table::data.table(...):\n",
      "“Item 2 is of size 33 but maximum size is 50 (recycled leaving remainder of 17 items)”Warning message in data.table::data.table(...):\n",
      "“Item 2 is of size 20 but maximum size is 50 (recycled leaving remainder of 10 items)”"
     ]
    }
   ],
   "source": [
    "divRatio <- list()\n",
    "\n",
    "for(i in c(0.1,0.25,0.5,0.75,1,1.5,2,5,10)){\n",
    "   \n",
    "    ratio <- createCombinations(listLengthToExpand=100,ratioD=2,ratioP=i)\n",
    "    polDiv <- tableToIter(data=ratio,iterations=length(ratio$Di),combinations = 'polymorphism')\n",
    "    assign(paste0('div',i), polDiv$plot)\n",
    "    divRatio[[paste0(i)]] <- ratio \n",
    "\n",
    "    customLegend <- polDiv$legend\n",
    "}\n",
    "\n",
    "p <- plot_grid(div0.1,div0.25,div0.5,div0.75,div1,div1.5,div2,div5,div10)\n",
    "p <- plot_grid(p, customLegend, ncol=2, rel_widths=c(1,.1))\n",
    "ggsave(p,file='/home/jmurga/mkt/201902/results/power/div2.svg',width = 14,height = 13)\n",
    "save(divRatio,file='/home/jmurga/mkt/201902/results/power/div2.RData')"
   ]
  },
  {
   "cell_type": "markdown",
   "metadata": {},
   "source": [
    "#### Ratio divergence 5"
   ]
  },
  {
   "cell_type": "code",
   "execution_count": null,
   "metadata": {
    "ExecuteTime": {
     "start_time": "2019-05-16T14:18:39.719Z"
    },
    "code_folding": [],
    "scrolled": true
   },
   "outputs": [
    {
     "name": "stderr",
     "output_type": "stream",
     "text": [
      "Warning message in data.table::data.table(...):\n",
      "“Item 1 is of size 20 but maximum size is 25 (recycled leaving remainder of 5 items)”Warning message in data.table::data.table(...):\n",
      "“Item 1 is of size 20 but maximum size is 50 (recycled leaving remainder of 10 items)”Warning message in data.table::data.table(...):\n",
      "“Item 1 is of size 20 but maximum size is 25 (recycled leaving remainder of 5 items)”"
     ]
    }
   ],
   "source": [
    "divRatio <- list()\n",
    "\n",
    "for(i in c(0.1,0.25,0.5,0.75,1,1.5,2,5,10)){\n",
    "   \n",
    "    ratio <- createCombinations(listLengthToExpand=100,ratioD=5,ratioP=i)\n",
    "    polDiv <- tableToIter(data=ratio,iterations=length(ratio$Di),combinations = 'polymorphism')\n",
    "    assign(paste0('div',i), polDiv$plot)\n",
    "    divRatio[[paste0(i)]] <- ratio \n",
    "\n",
    "    customLegend <- polDiv$legend\n",
    "}\n",
    "\n",
    "p <- plot_grid(div0.1,div0.25,div0.5,div0.75,div1,div1.5,div2,div5,div10)\n",
    "p <- plot_grid(p, customLegend, ncol=2, rel_widths=c(1,.1))\n",
    "ggsave(p,file='/home/jmurga/mkt/201902/results/power/div5.svg',width = 14,height = 13)\n",
    "save(divRatio,file='/home/jmurga/mkt/201902/results/power/div5.RData')"
   ]
  },
  {
   "cell_type": "markdown",
   "metadata": {},
   "source": [
    "#### Ratio divergence 10"
   ]
  },
  {
   "cell_type": "code",
   "execution_count": null,
   "metadata": {
    "ExecuteTime": {
     "end_time": "2019-02-25T10:05:35.249277Z",
     "start_time": "2019-02-25T10:09:03.997Z"
    },
    "code_folding": [],
    "scrolled": true
   },
   "outputs": [],
   "source": [
    "divRatio <- list()\n",
    "\n",
    "for(i in c(0.1,0.25,0.5,0.75,1,1.5,2,5,10)){\n",
    "   \n",
    "    ratio <- createCombinations(listLengthToExpand=100,ratioD=10,ratioP=i)\n",
    "    polDiv <- tableToIter(data=ratio,iterations=length(ratio$Di),combinations = 'polymorphism')\n",
    "    assign(paste0('div',i), polDiv$plot)\n",
    "    divRatio[[paste0(i)]] <- ratio \n",
    "\n",
    "    customLegend <- polDiv$legend\n",
    "    \n",
    "}\n",
    "\n",
    "p <- plot_grid(div0.1,div0.25,div0.5,div0.75,div1,div1.5,div2,div5,div10)\n",
    "p <- plot_grid(p, customLegend, ncol=2, rel_widths=c(1,.1))\n",
    "ggsave(p,file='/home/jmurga/mkt/201902/results/power/div10.svg',width = 14,height = 13)\n",
    "save(divRatio,file='/home/jmurga/mkt/201902/results/power/div10.RData')"
   ]
  }
 ],
 "metadata": {
  "kernelspec": {
   "display_name": "R",
   "language": "R",
   "name": "ir"
  },
  "language_info": {
   "codemirror_mode": "r",
   "file_extension": ".r",
   "mimetype": "text/x-r-source",
   "name": "R",
   "pygments_lexer": "r",
   "version": "3.5.2"
  },
  "toc": {
   "base_numbering": 1,
   "nav_menu": {},
   "number_sections": true,
   "sideBar": true,
   "skip_h1_title": false,
   "title_cell": "Table of Contents",
   "title_sidebar": "Contents",
   "toc_cell": false,
   "toc_position": {
    "height": "calc(100% - 180px)",
    "left": "10px",
    "top": "150px",
    "width": "165px"
   },
   "toc_section_display": true,
   "toc_window_display": true
  },
  "varInspector": {
   "cols": {
    "lenName": 16,
    "lenType": 16,
    "lenVar": 40
   },
   "kernels_config": {
    "python": {
     "delete_cmd_postfix": "",
     "delete_cmd_prefix": "del ",
     "library": "var_list.py",
     "varRefreshCmd": "print(var_dic_list())"
    },
    "r": {
     "delete_cmd_postfix": ") ",
     "delete_cmd_prefix": "rm(",
     "library": "var_list.r",
     "varRefreshCmd": "cat(var_dic_list()) "
    }
   },
   "types_to_exclude": [
    "module",
    "function",
    "builtin_function_or_method",
    "instance",
    "_Feature"
   ],
   "window_display": false
  }
 },
 "nbformat": 4,
 "nbformat_minor": 2
}
