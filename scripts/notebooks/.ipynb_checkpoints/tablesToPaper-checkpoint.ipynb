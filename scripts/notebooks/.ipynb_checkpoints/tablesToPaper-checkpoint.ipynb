{
 "cells": [
  {
   "cell_type": "code",
   "execution_count": 16,
   "metadata": {},
   "outputs": [
    {
     "name": "stderr",
     "output_type": "stream",
     "text": [
      "\n",
      "Attaching package: ‘data.table’\n",
      "\n",
      "The following objects are masked from ‘package:reshape2’:\n",
      "\n",
      "    dcast, melt\n",
      "\n",
      "The following objects are masked from ‘package:dplyr’:\n",
      "\n",
      "    between, first, last\n",
      "\n"
     ]
    }
   ],
   "source": [
    "library(dplyr)\n",
    "library(reshape2)\n",
    "library(data.table)"
   ]
  },
  {
   "cell_type": "markdown",
   "metadata": {},
   "source": [
    "### RAL concatenation table. Including analyzable genes, mean and sd by binned categories"
   ]
  },
  {
   "cell_type": "code",
   "execution_count": 1,
   "metadata": {},
   "outputs": [],
   "source": [
    "ralConcat <- lapply(list.files(pattern=\"*RAL*\",include.dirs=T,full.names=T,path='/home/jmurga/mktComparison/results/concatenation'),load,.GlobalEnv)"
   ]
  },
  {
   "cell_type": "code",
   "execution_count": 2,
   "metadata": {},
   "outputs": [],
   "source": [
    "dataPlot<- rbind(outputRAL1,\n",
    "                outputRAL2,\n",
    "                outputRAL5,\n",
    "                outputRAL10,\n",
    "                outputRAL25,\n",
    "                outputRAL50,\n",
    "                outputRAL75,\n",
    "                outputRAL100,\n",
    "                outputRAL250,\n",
    "                outputRAL500,\n",
    "                outputRAL750,\n",
    "                outputRAL1000)\n",
    "\n",
    "dataPlot[['bins']] <- factor(dataPlot[['bins']], levels = unique(dataPlot$bin))"
   ]
  },
  {
   "cell_type": "code",
   "execution_count": 31,
   "metadata": {},
   "outputs": [
    {
     "data": {
      "text/html": [
       "<table>\n",
       "<thead><tr><th scope=col>bins</th><th scope=col>meanSd</th><th scope=col>all</th></tr></thead>\n",
       "<tbody>\n",
       "\t<tr><td>1             </td><td>0.856 (±0)    </td><td>5/3500        </td></tr>\n",
       "\t<tr><td>2             </td><td>0.629 (±0.247)</td><td>10/3500       </td></tr>\n",
       "\t<tr><td>5             </td><td>0.493 (±0.394)</td><td>116/3500      </td></tr>\n",
       "\t<tr><td>10            </td><td>0.52 (±0.286) </td><td>677/3500      </td></tr>\n",
       "\t<tr><td>25            </td><td>0.53 (±0.193) </td><td>2535/3500     </td></tr>\n",
       "\t<tr><td>50            </td><td>0.553 (±0.124)</td><td>3233/3500     </td></tr>\n",
       "\t<tr><td>75            </td><td>0.568 (±0.095)</td><td>3398/3500     </td></tr>\n",
       "\t<tr><td>100           </td><td>0.574 (±0.081)</td><td>3449/3500     </td></tr>\n",
       "\t<tr><td>250           </td><td>0.586 (±0.051)</td><td>3500/3500     </td></tr>\n",
       "\t<tr><td>500           </td><td>0.591 (±0.035)</td><td>3500/3500     </td></tr>\n",
       "\t<tr><td>750           </td><td>0.593 (±0.028)</td><td>3500/3500     </td></tr>\n",
       "\t<tr><td>1000          </td><td>0.594 (±0.024)</td><td>3500/3500     </td></tr>\n",
       "</tbody>\n",
       "</table>\n"
      ],
      "text/latex": [
       "\\begin{tabular}{r|lll}\n",
       " bins & meanSd & all\\\\\n",
       "\\hline\n",
       "\t 1              & 0.856 (±0)     & 5/3500        \\\\\n",
       "\t 2              & 0.629 (±0.247) & 10/3500       \\\\\n",
       "\t 5              & 0.493 (±0.394) & 116/3500      \\\\\n",
       "\t 10             & 0.52 (±0.286)  & 677/3500      \\\\\n",
       "\t 25             & 0.53 (±0.193)  & 2535/3500     \\\\\n",
       "\t 50             & 0.553 (±0.124) & 3233/3500     \\\\\n",
       "\t 75             & 0.568 (±0.095) & 3398/3500     \\\\\n",
       "\t 100            & 0.574 (±0.081) & 3449/3500     \\\\\n",
       "\t 250            & 0.586 (±0.051) & 3500/3500     \\\\\n",
       "\t 500            & 0.591 (±0.035) & 3500/3500     \\\\\n",
       "\t 750            & 0.593 (±0.028) & 3500/3500     \\\\\n",
       "\t 1000           & 0.594 (±0.024) & 3500/3500     \\\\\n",
       "\\end{tabular}\n"
      ],
      "text/markdown": [
       "\n",
       "bins | meanSd | all | \n",
       "|---|---|---|---|---|---|---|---|---|---|---|---|\n",
       "| 1              | 0.856 (±0)     | 5/3500         | \n",
       "| 2              | 0.629 (±0.247) | 10/3500        | \n",
       "| 5              | 0.493 (±0.394) | 116/3500       | \n",
       "| 10             | 0.52 (±0.286)  | 677/3500       | \n",
       "| 25             | 0.53 (±0.193)  | 2535/3500      | \n",
       "| 50             | 0.553 (±0.124) | 3233/3500      | \n",
       "| 75             | 0.568 (±0.095) | 3398/3500      | \n",
       "| 100            | 0.574 (±0.081) | 3449/3500      | \n",
       "| 250            | 0.586 (±0.051) | 3500/3500      | \n",
       "| 500            | 0.591 (±0.035) | 3500/3500      | \n",
       "| 750            | 0.593 (±0.028) | 3500/3500      | \n",
       "| 1000           | 0.594 (±0.024) | 3500/3500      | \n",
       "\n",
       "\n"
      ],
      "text/plain": [
       "   bins meanSd         all      \n",
       "1  1    0.856 (±0)     5/3500   \n",
       "2  2    0.629 (±0.247) 10/3500  \n",
       "3  5    0.493 (±0.394) 116/3500 \n",
       "4  10   0.52 (±0.286)  677/3500 \n",
       "5  25   0.53 (±0.193)  2535/3500\n",
       "6  50   0.553 (±0.124) 3233/3500\n",
       "7  75   0.568 (±0.095) 3398/3500\n",
       "8  100  0.574 (±0.081) 3449/3500\n",
       "9  250  0.586 (±0.051) 3500/3500\n",
       "10 500  0.591 (±0.035) 3500/3500\n",
       "11 750  0.593 (±0.028) 3500/3500\n",
       "12 1000 0.594 (±0.024) 3500/3500"
      ]
     },
     "metadata": {},
     "output_type": "display_data"
    }
   ],
   "source": [
    "ralConcatTableToPaper <- dataPlot %>% group_by(bins) %>% summarize(mean=round(mean(alphaAsymptotic1,na.rm=T),3),sd=round(sd(alphaAsymptotic1,na.rm=T),3),analyzable=sum(!is.na(alphaAsymptotic1))) %>% mutate(meanSd=paste0(mean,' (±',sd,')'),all=paste0(analyzable,'/3500')) %>% select(bins,meanSd,all)\n",
    "\n",
    "ralConcatTableToPaper"
   ]
  },
  {
   "cell_type": "code",
   "execution_count": 32,
   "metadata": {},
   "outputs": [],
   "source": [
    "fwrite(ralConcatTableToPaper,file='/home/jmurga/mktComparison/results/concatenation/ralConcatTableToPaper.tab',sep='\\t')"
   ]
  },
  {
   "cell_type": "markdown",
   "metadata": {},
   "source": [
    "### CEU concatenation table. Including analyzable genes, mean and sd by binned categories"
   ]
  },
  {
   "cell_type": "code",
   "execution_count": 35,
   "metadata": {},
   "outputs": [],
   "source": [
    "ceuConcat <- lapply(list.files(pattern=\"*CEU*\",include.dirs=T,full.names=T,path='/home/jmurga/mktComparison/results/concatenation'),load,.GlobalEnv)"
   ]
  },
  {
   "cell_type": "code",
   "execution_count": 36,
   "metadata": {},
   "outputs": [],
   "source": [
    "dataPlot<- rbind(outputCEU1,\n",
    "                outputCEU2,\n",
    "                outputCEU5,\n",
    "                outputCEU10,\n",
    "                outputCEU25,\n",
    "                outputCEU50,\n",
    "                outputCEU75,\n",
    "                outputCEU100,\n",
    "                outputCEU250,\n",
    "                outputCEU500,\n",
    "                outputCEU750,\n",
    "                outputCEU1000)\n",
    "\n",
    "dataPlot[['bins']] <- factor(dataPlot[['bins']], levels = unique(dataPlot$bin))"
   ]
  },
  {
   "cell_type": "code",
   "execution_count": 40,
   "metadata": {},
   "outputs": [
    {
     "data": {
      "text/html": [
       "<table>\n",
       "<thead><tr><th scope=col>bins</th><th scope=col>meanSd</th><th scope=col>all</th></tr></thead>\n",
       "<tbody>\n",
       "\t<tr><td>1              </td><td>NaN (±NA)      </td><td>0/3500         </td></tr>\n",
       "\t<tr><td>2              </td><td>NaN (±NA)      </td><td>0/3500         </td></tr>\n",
       "\t<tr><td>5              </td><td>NaN (±NA)      </td><td>0/3500         </td></tr>\n",
       "\t<tr><td>10             </td><td>NaN (±NA)      </td><td>0/3500         </td></tr>\n",
       "\t<tr><td>25             </td><td>NaN (±NA)      </td><td>0/3500         </td></tr>\n",
       "\t<tr><td>50             </td><td>0.476 (±NA)    </td><td>1/3500         </td></tr>\n",
       "\t<tr><td>75             </td><td>0.121 (±0.627) </td><td>17/3500        </td></tr>\n",
       "\t<tr><td>100            </td><td>0.137 (±0.413) </td><td>87/3500        </td></tr>\n",
       "\t<tr><td>250            </td><td>-0.195 (±0.419)</td><td>1100/3500      </td></tr>\n",
       "\t<tr><td>500            </td><td>-0.094 (±0.298)</td><td>1511/3500      </td></tr>\n",
       "\t<tr><td>750            </td><td>-0.024 (±0.19) </td><td>1659/3500      </td></tr>\n",
       "\t<tr><td>1000           </td><td>0.004 (±0.161) </td><td>1758/3500      </td></tr>\n",
       "</tbody>\n",
       "</table>\n"
      ],
      "text/latex": [
       "\\begin{tabular}{r|lll}\n",
       " bins & meanSd & all\\\\\n",
       "\\hline\n",
       "\t 1               & NaN (±NA)       & 0/3500         \\\\\n",
       "\t 2               & NaN (±NA)       & 0/3500         \\\\\n",
       "\t 5               & NaN (±NA)       & 0/3500         \\\\\n",
       "\t 10              & NaN (±NA)       & 0/3500         \\\\\n",
       "\t 25              & NaN (±NA)       & 0/3500         \\\\\n",
       "\t 50              & 0.476 (±NA)     & 1/3500         \\\\\n",
       "\t 75              & 0.121 (±0.627)  & 17/3500        \\\\\n",
       "\t 100             & 0.137 (±0.413)  & 87/3500        \\\\\n",
       "\t 250             & -0.195 (±0.419) & 1100/3500      \\\\\n",
       "\t 500             & -0.094 (±0.298) & 1511/3500      \\\\\n",
       "\t 750             & -0.024 (±0.19)  & 1659/3500      \\\\\n",
       "\t 1000            & 0.004 (±0.161)  & 1758/3500      \\\\\n",
       "\\end{tabular}\n"
      ],
      "text/markdown": [
       "\n",
       "bins | meanSd | all | \n",
       "|---|---|---|---|---|---|---|---|---|---|---|---|\n",
       "| 1               | NaN (±NA)       | 0/3500          | \n",
       "| 2               | NaN (±NA)       | 0/3500          | \n",
       "| 5               | NaN (±NA)       | 0/3500          | \n",
       "| 10              | NaN (±NA)       | 0/3500          | \n",
       "| 25              | NaN (±NA)       | 0/3500          | \n",
       "| 50              | 0.476 (±NA)     | 1/3500          | \n",
       "| 75              | 0.121 (±0.627)  | 17/3500         | \n",
       "| 100             | 0.137 (±0.413)  | 87/3500         | \n",
       "| 250             | -0.195 (±0.419) | 1100/3500       | \n",
       "| 500             | -0.094 (±0.298) | 1511/3500       | \n",
       "| 750             | -0.024 (±0.19)  | 1659/3500       | \n",
       "| 1000            | 0.004 (±0.161)  | 1758/3500       | \n",
       "\n",
       "\n"
      ],
      "text/plain": [
       "   bins meanSd          all      \n",
       "1  1    NaN (±NA)       0/3500   \n",
       "2  2    NaN (±NA)       0/3500   \n",
       "3  5    NaN (±NA)       0/3500   \n",
       "4  10   NaN (±NA)       0/3500   \n",
       "5  25   NaN (±NA)       0/3500   \n",
       "6  50   0.476 (±NA)     1/3500   \n",
       "7  75   0.121 (±0.627)  17/3500  \n",
       "8  100  0.137 (±0.413)  87/3500  \n",
       "9  250  -0.195 (±0.419) 1100/3500\n",
       "10 500  -0.094 (±0.298) 1511/3500\n",
       "11 750  -0.024 (±0.19)  1659/3500\n",
       "12 1000 0.004 (±0.161)  1758/3500"
      ]
     },
     "metadata": {},
     "output_type": "display_data"
    }
   ],
   "source": [
    "ceuConcatTableToPaper <- dataPlot %>% group_by(bins) %>% summarize(mean=round(mean(alphaAsymptotic1,na.rm=T),3),sd=round(sd(alphaAsymptotic1,na.rm=T),3),analyzable=sum(!is.na(alphaAsymptotic1))) %>% mutate(meanSd=paste0(mean,' (±',sd,')'),all=paste0(analyzable,'/3500')) %>% select(bins,meanSd,all)\n",
    "\n",
    "ceuConcatTableToPaper"
   ]
  },
  {
   "cell_type": "code",
   "execution_count": 41,
   "metadata": {},
   "outputs": [],
   "source": [
    "fwrite(ceuConcatTableToPaper,file='/home/jmurga/mktComparison/results/concatenation/ceuConcatTableToPaper.tab',sep='\\t')"
   ]
  },
  {
   "cell_type": "markdown",
   "metadata": {},
   "source": [
    "### Alpha table"
   ]
  },
  {
   "cell_type": "markdown",
   "metadata": {},
   "source": [
    "Python code"
   ]
  },
  {
   "cell_type": "code",
   "execution_count": 102,
   "metadata": {
    "scrolled": true
   },
   "outputs": [
    {
     "data": {
      "text/html": [
       "<table>\n",
       "<thead><tr><th scope=col>test</th><th scope=col>type</th><th scope=col>N</th><th scope=col>mean</th><th scope=col>sd</th><th scope=col>pop</th></tr></thead>\n",
       "<tbody>\n",
       "\t<tr><td>aMKT       </td><td>analyzable </td><td>   18      </td><td> 0.4435444 </td><td>0.3760245  </td><td>RAL        </td></tr>\n",
       "\t<tr><td>aMKT       </td><td>positive   </td><td>    0      </td><td>        NA </td><td>       NA  </td><td>RAL        </td></tr>\n",
       "\t<tr><td>aMKT       </td><td>negative   </td><td>    0      </td><td>        NA </td><td>       NA  </td><td>RAL        </td></tr>\n",
       "\t<tr><td>caMKT      </td><td>analyzable </td><td>   21      </td><td> 0.6358810 </td><td>0.2478635  </td><td>RAL        </td></tr>\n",
       "\t<tr><td>caMKT      </td><td>positive   </td><td>    3      </td><td> 0.5873333 </td><td>0.2676632  </td><td>RAL        </td></tr>\n",
       "\t<tr><td>caMKT      </td><td>negative   </td><td>    0      </td><td>        NA </td><td>       NA  </td><td>RAL        </td></tr>\n",
       "\t<tr><td>eMKT       </td><td>analyzable </td><td> 8458      </td><td>-0.2901535 </td><td>1.9306586  </td><td>RAL        </td></tr>\n",
       "\t<tr><td>eMKT       </td><td>positive   </td><td> 1237      </td><td> 0.7934437 </td><td>0.1184095  </td><td>RAL        </td></tr>\n",
       "\t<tr><td>eMKT       </td><td>negative   </td><td>  330      </td><td>-5.9440858 </td><td>5.3151903  </td><td>RAL        </td></tr>\n",
       "\t<tr><td>eMKT       </td><td>analyzable </td><td> 7819      </td><td>-0.2316846 </td><td>1.8437566  </td><td>RAL        </td></tr>\n",
       "\t<tr><td>eMKT       </td><td>positive   </td><td> 1243      </td><td> 0.7946090 </td><td>0.1159380  </td><td>RAL        </td></tr>\n",
       "\t<tr><td>eMKT       </td><td>negative   </td><td>  305      </td><td>-5.8574700 </td><td>5.0218021  </td><td>RAL        </td></tr>\n",
       "\t<tr><td>standardMKT</td><td>analyzable </td><td>10368      </td><td>-1.0076526 </td><td>2.9084446  </td><td>RAL        </td></tr>\n",
       "\t<tr><td>standardMKT</td><td>positive   </td><td>  736      </td><td> 0.7654361 </td><td>0.1290840  </td><td>RAL        </td></tr>\n",
       "\t<tr><td>standardMKT</td><td>negative   </td><td>  938      </td><td>-6.1274915 </td><td>6.4402156  </td><td>RAL        </td></tr>\n",
       "</tbody>\n",
       "</table>\n"
      ],
      "text/latex": [
       "\\begin{tabular}{r|llllll}\n",
       " test & type & N & mean & sd & pop\\\\\n",
       "\\hline\n",
       "\t aMKT        & analyzable  &    18       &  0.4435444  & 0.3760245   & RAL        \\\\\n",
       "\t aMKT        & positive    &     0       &         NA  &        NA   & RAL        \\\\\n",
       "\t aMKT        & negative    &     0       &         NA  &        NA   & RAL        \\\\\n",
       "\t caMKT       & analyzable  &    21       &  0.6358810  & 0.2478635   & RAL        \\\\\n",
       "\t caMKT       & positive    &     3       &  0.5873333  & 0.2676632   & RAL        \\\\\n",
       "\t caMKT       & negative    &     0       &         NA  &        NA   & RAL        \\\\\n",
       "\t eMKT        & analyzable  &  8458       & -0.2901535  & 1.9306586   & RAL        \\\\\n",
       "\t eMKT        & positive    &  1237       &  0.7934437  & 0.1184095   & RAL        \\\\\n",
       "\t eMKT        & negative    &   330       & -5.9440858  & 5.3151903   & RAL        \\\\\n",
       "\t eMKT        & analyzable  &  7819       & -0.2316846  & 1.8437566   & RAL        \\\\\n",
       "\t eMKT        & positive    &  1243       &  0.7946090  & 0.1159380   & RAL        \\\\\n",
       "\t eMKT        & negative    &   305       & -5.8574700  & 5.0218021   & RAL        \\\\\n",
       "\t standardMKT & analyzable  & 10368       & -1.0076526  & 2.9084446   & RAL        \\\\\n",
       "\t standardMKT & positive    &   736       &  0.7654361  & 0.1290840   & RAL        \\\\\n",
       "\t standardMKT & negative    &   938       & -6.1274915  & 6.4402156   & RAL        \\\\\n",
       "\\end{tabular}\n"
      ],
      "text/markdown": [
       "\n",
       "test | type | N | mean | sd | pop | \n",
       "|---|---|---|---|---|---|---|---|---|---|---|---|---|---|---|\n",
       "| aMKT        | analyzable  |    18       |  0.4435444  | 0.3760245   | RAL         | \n",
       "| aMKT        | positive    |     0       |         NA  |        NA   | RAL         | \n",
       "| aMKT        | negative    |     0       |         NA  |        NA   | RAL         | \n",
       "| caMKT       | analyzable  |    21       |  0.6358810  | 0.2478635   | RAL         | \n",
       "| caMKT       | positive    |     3       |  0.5873333  | 0.2676632   | RAL         | \n",
       "| caMKT       | negative    |     0       |         NA  |        NA   | RAL         | \n",
       "| eMKT        | analyzable  |  8458       | -0.2901535  | 1.9306586   | RAL         | \n",
       "| eMKT        | positive    |  1237       |  0.7934437  | 0.1184095   | RAL         | \n",
       "| eMKT        | negative    |   330       | -5.9440858  | 5.3151903   | RAL         | \n",
       "| eMKT        | analyzable  |  7819       | -0.2316846  | 1.8437566   | RAL         | \n",
       "| eMKT        | positive    |  1243       |  0.7946090  | 0.1159380   | RAL         | \n",
       "| eMKT        | negative    |   305       | -5.8574700  | 5.0218021   | RAL         | \n",
       "| standardMKT | analyzable  | 10368       | -1.0076526  | 2.9084446   | RAL         | \n",
       "| standardMKT | positive    |   736       |  0.7654361  | 0.1290840   | RAL         | \n",
       "| standardMKT | negative    |   938       | -6.1274915  | 6.4402156   | RAL         | \n",
       "\n",
       "\n"
      ],
      "text/plain": [
       "   test        type       N     mean       sd        pop\n",
       "1  aMKT        analyzable    18  0.4435444 0.3760245 RAL\n",
       "2  aMKT        positive       0         NA        NA RAL\n",
       "3  aMKT        negative       0         NA        NA RAL\n",
       "4  caMKT       analyzable    21  0.6358810 0.2478635 RAL\n",
       "5  caMKT       positive       3  0.5873333 0.2676632 RAL\n",
       "6  caMKT       negative       0         NA        NA RAL\n",
       "7  eMKT        analyzable  8458 -0.2901535 1.9306586 RAL\n",
       "8  eMKT        positive    1237  0.7934437 0.1184095 RAL\n",
       "9  eMKT        negative     330 -5.9440858 5.3151903 RAL\n",
       "10 eMKT        analyzable  7819 -0.2316846 1.8437566 RAL\n",
       "11 eMKT        positive    1243  0.7946090 0.1159380 RAL\n",
       "12 eMKT        negative     305 -5.8574700 5.0218021 RAL\n",
       "13 standardMKT analyzable 10368 -1.0076526 2.9084446 RAL\n",
       "14 standardMKT positive     736  0.7654361 0.1290840 RAL\n",
       "15 standardMKT negative     938 -6.1274915 6.4402156 RAL"
      ]
     },
     "metadata": {},
     "output_type": "display_data"
    }
   ],
   "source": [
    "df[pop=='RAL']"
   ]
  },
  {
   "cell_type": "code",
   "execution_count": 141,
   "metadata": {},
   "outputs": [],
   "source": [
    "```python\n",
    "df = pd.read_csv('/home/jmurga/mktComparison/results/alphaTables/alphaTableV2.tab',sep='\\t')\n",
    "\n",
    "dfPivoted = round(df.pivot_table(index=['pop','type'],columns='test', values=['N','mean','sd']).reset_index(),3)\n",
    "\n",
    "dfPivoted.keys()\n",
    "\n",
    "\n",
    "dfPivoted.reset_index().to_csv('/home/jmurga/mktComparison/results/alphaTables/alphaPivoted.tab',sep='\\t',na_rep=0,decimal=\",\") \n",
    "\n",
    "\n",
    "\n",
    "```"
   ]
  }
 ],
 "metadata": {
  "kernelspec": {
   "display_name": "R",
   "language": "R",
   "name": "ir"
  },
  "language_info": {
   "codemirror_mode": "r",
   "file_extension": ".r",
   "mimetype": "text/x-r-source",
   "name": "R",
   "pygments_lexer": "r",
   "version": "3.5.1"
  }
 },
 "nbformat": 4,
 "nbformat_minor": 2
}
