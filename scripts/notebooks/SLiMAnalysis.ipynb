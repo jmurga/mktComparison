{
 "cells": [
  {
   "cell_type": "markdown",
   "metadata": {},
   "source": [
    "Loading libraries"
   ]
  },
  {
   "cell_type": "code",
   "execution_count": null,
   "metadata": {
    "ExecuteTime": {
     "end_time": "2019-10-11T07:56:46.510194Z",
     "start_time": "2019-10-11T07:56:45.868Z"
    }
   },
   "outputs": [],
   "source": [
    "library(repr)\n",
    "suppressMessages(library(dplyr))\n",
    "suppressMessages(library(iMKT))\n",
    "source('/home/jmurga/mkt/201902/scripts/src/plotStyle.R')\n",
    "source('/home/jmurga/mkt/201902/scripts/src/simulationsPlot.R')"
   ]
  },
  {
   "cell_type": "code",
   "execution_count": null,
   "metadata": {
    "ExecuteTime": {
     "end_time": "2019-10-11T07:56:49.794474Z",
     "start_time": "2019-10-11T07:56:49.767Z"
    }
   },
   "outputs": [],
   "source": [
    "options(repr.plot.width=20, repr.plot.height=10)"
   ]
  },
  {
   "cell_type": "markdown",
   "metadata": {
    "heading_collapsed": true
   },
   "source": [
    "## Ploting each simulated scenario"
   ]
  },
  {
   "cell_type": "markdown",
   "metadata": {
    "hidden": true
   },
   "source": [
    "Alpha baseline "
   ]
  },
  {
   "cell_type": "code",
   "execution_count": null,
   "metadata": {
    "ExecuteTime": {
     "end_time": "2019-10-11T07:58:07.450954Z",
     "start_time": "2019-10-11T07:56:52.325Z"
    },
    "code_folding": [],
    "hidden": true,
    "scrolled": true
   },
   "outputs": [],
   "source": [
    "baseline <- mktOnsimulatedData(scenario='baseline',simulationsPath='/home/jmurga/mkt/201902/rawData/simulations/alphaComparisons/')"
   ]
  },
  {
   "cell_type": "markdown",
   "metadata": {
    "hidden": true
   },
   "source": [
    "r0"
   ]
  },
  {
   "cell_type": "code",
   "execution_count": null,
   "metadata": {
    "ExecuteTime": {
     "end_time": "2019-10-11T07:58:07.461036Z",
     "start_time": "2019-10-11T07:57:04.710Z"
    },
    "code_folding": [],
    "hidden": true,
    "scrolled": true
   },
   "outputs": [],
   "source": [
    "r0 <- mktOnsimulatedData(scenario='r0',simulationsPath='/home/jmurga/mkt/201902/rawData/simulations/alphaComparisons/')"
   ]
  },
  {
   "cell_type": "markdown",
   "metadata": {
    "hidden": true
   },
   "source": [
    "r1e-5"
   ]
  },
  {
   "cell_type": "code",
   "execution_count": null,
   "metadata": {
    "ExecuteTime": {
     "end_time": "2019-05-20T15:12:55.696624Z",
     "start_time": "2019-05-20T15:06:32.838Z"
    },
    "code_folding": [],
    "hidden": true,
    "scrolled": false
   },
   "outputs": [],
   "source": [
    "r1 <- mktOnsimulatedData(scenario='r1e-5',simulationsPath='/home/jmurga/mkt/201902/rawData/simulations/alphaComparisons/')"
   ]
  },
  {
   "cell_type": "markdown",
   "metadata": {
    "hidden": true
   },
   "source": [
    "r1e-10"
   ]
  },
  {
   "cell_type": "code",
   "execution_count": null,
   "metadata": {
    "ExecuteTime": {
     "end_time": "2019-10-11T07:58:07.470928Z",
     "start_time": "2019-10-11T07:57:06.180Z"
    },
    "hidden": true
   },
   "outputs": [],
   "source": [
    "r2 <- mktOnsimulatedData(scenario='r1e-10',simulationsPath='/home/jmurga/mkt/201902/rawData/simulations/alphaComparisons/')"
   ]
  },
  {
   "cell_type": "markdown",
   "metadata": {
    "hidden": true
   },
   "source": [
    "Length 10e6"
   ]
  },
  {
   "cell_type": "code",
   "execution_count": null,
   "metadata": {
    "ExecuteTime": {
     "end_time": "2019-10-11T07:58:07.480655Z",
     "start_time": "2019-10-11T07:57:07.640Z"
    },
    "hidden": true,
    "scrolled": true
   },
   "outputs": [],
   "source": [
    "l1e6 <- mktOnsimulatedData(scenario = \"l1e6\", simulationsPath = \"/home/jmurga/mkt/201902/rawData/simulations/alphaComparisons\")"
   ]
  },
  {
   "cell_type": "markdown",
   "metadata": {
    "hidden": true
   },
   "source": [
    "Length 10e8"
   ]
  },
  {
   "cell_type": "code",
   "execution_count": null,
   "metadata": {
    "ExecuteTime": {
     "end_time": "2019-10-11T07:58:07.489980Z",
     "start_time": "2019-10-11T07:57:22.338Z"
    },
    "hidden": true
   },
   "outputs": [],
   "source": [
    "l1e8 <- mktOnsimulatedData(scenario='l1e8',simulationsPath='/home/jmurga/mkt/201902/rawData/simulations/alphaComparisons/')"
   ]
  },
  {
   "cell_type": "markdown",
   "metadata": {
    "hidden": true
   },
   "source": [
    "Mutation rate 1e-10"
   ]
  },
  {
   "cell_type": "code",
   "execution_count": null,
   "metadata": {
    "ExecuteTime": {
     "end_time": "2019-10-11T07:58:07.508646Z",
     "start_time": "2019-10-11T07:57:22.341Z"
    },
    "hidden": true,
    "scrolled": true
   },
   "outputs": [],
   "source": [
    "mu1 <- mktOnsimulatedData(scenario='mu1e-10',simulationsPath='/home/jmurga/mkt/201902/rawData/simulations/alphaComparisons/');"
   ]
  },
  {
   "cell_type": "markdown",
   "metadata": {
    "hidden": true
   },
   "source": [
    "Mutation rate 1e-8"
   ]
  },
  {
   "cell_type": "code",
   "execution_count": null,
   "metadata": {
    "ExecuteTime": {
     "end_time": "2019-10-11T07:58:07.512118Z",
     "start_time": "2019-10-11T07:57:22.343Z"
    },
    "hidden": true,
    "scrolled": true
   },
   "outputs": [],
   "source": [
    "mu2 <- mktOnsimulatedData(scenario='mu1e-8',simulationsPath='/home/jmurga/mkt/201902/rawData/simulations/alphaComparisons/');"
   ]
  },
  {
   "cell_type": "markdown",
   "metadata": {
    "hidden": true
   },
   "source": [
    "Beneficial frequency 1e-4"
   ]
  },
  {
   "cell_type": "code",
   "execution_count": null,
   "metadata": {
    "ExecuteTime": {
     "end_time": "2019-10-11T07:58:07.515933Z",
     "start_time": "2019-10-11T07:57:22.344Z"
    },
    "hidden": true,
    "scrolled": true
   },
   "outputs": [],
   "source": [
    "rb1 <- mktOnsimulatedData(scenario='rb1',simulationsPath='/home/jmurga/mkt/201902/rawData/simulations/alphaComparisons/')"
   ]
  },
  {
   "cell_type": "markdown",
   "metadata": {
    "hidden": true
   },
   "source": [
    "Beneficial frequency 1e-1"
   ]
  },
  {
   "cell_type": "code",
   "execution_count": null,
   "metadata": {
    "ExecuteTime": {
     "end_time": "2019-10-11T07:58:07.519289Z",
     "start_time": "2019-10-11T07:57:22.347Z"
    },
    "hidden": true,
    "scrolled": true
   },
   "outputs": [],
   "source": [
    "rb2 <- mktOnsimulatedData(scenario='rb2',simulationsPath='/home/jmurga/mkt/201902/rawData/simulations/alphaComparisons/');"
   ]
  },
  {
   "cell_type": "markdown",
   "metadata": {
    "hidden": true
   },
   "source": [
    "Beneficial fitness 2e-2  "
   ]
  },
  {
   "cell_type": "code",
   "execution_count": null,
   "metadata": {
    "ExecuteTime": {
     "end_time": "2019-10-11T07:58:07.522802Z",
     "start_time": "2019-10-11T07:57:22.349Z"
    },
    "hidden": true,
    "scrolled": true
   },
   "outputs": [],
   "source": [
    "sb1 <- mktOnsimulatedData(scenario='sb1',simulationsPath='/home/jmurga/mkt/201902/rawData/simulations/alphaComparisons/');"
   ]
  },
  {
   "cell_type": "markdown",
   "metadata": {
    "hidden": true
   },
   "source": [
    "Beneficial fitness 2e-1"
   ]
  },
  {
   "cell_type": "code",
   "execution_count": null,
   "metadata": {
    "ExecuteTime": {
     "end_time": "2019-10-11T07:58:07.527468Z",
     "start_time": "2019-10-11T07:57:22.350Z"
    },
    "hidden": true
   },
   "outputs": [],
   "source": [
    "sb2 <- mktOnsimulatedData(scenario='sb2',simulationsPath='/home/jmurga/mkt/201902/rawData/simulations/alphaComparisons/');"
   ]
  },
  {
   "cell_type": "markdown",
   "metadata": {
    "hidden": true
   },
   "source": [
    "Deleterious fitness 2e-1"
   ]
  },
  {
   "cell_type": "code",
   "execution_count": null,
   "metadata": {
    "ExecuteTime": {
     "end_time": "2019-10-11T07:58:07.530925Z",
     "start_time": "2019-10-11T07:57:22.352Z"
    },
    "hidden": true
   },
   "outputs": [],
   "source": [
    "sd1 <- mktOnsimulatedData(scenario='sd1',simulationsPath='/home/jmurga/mkt/201902/rawData/simulations/alphaComparisons/');"
   ]
  },
  {
   "cell_type": "markdown",
   "metadata": {
    "hidden": true
   },
   "source": [
    "Deleterious fitness 2e-3"
   ]
  },
  {
   "cell_type": "code",
   "execution_count": null,
   "metadata": {
    "ExecuteTime": {
     "end_time": "2019-10-11T07:58:07.534890Z",
     "start_time": "2019-10-11T07:57:22.354Z"
    },
    "hidden": true
   },
   "outputs": [],
   "source": [
    "sd2 <- mktOnsimulatedData(scenario='sd2',simulationsPath='/home/jmurga/mkt/201902/rawData/simulations/alphaComparisons/');"
   ]
  },
  {
   "cell_type": "markdown",
   "metadata": {
    "hidden": true
   },
   "source": [
    "Generation time 2e4"
   ]
  },
  {
   "cell_type": "code",
   "execution_count": null,
   "metadata": {
    "ExecuteTime": {
     "end_time": "2019-10-11T07:58:07.538176Z",
     "start_time": "2019-10-11T07:57:22.357Z"
    },
    "hidden": true,
    "scrolled": true
   },
   "outputs": [],
   "source": [
    "t2e4 <- mktOnsimulatedData(scenario='t2e4',simulationsPath='/home/jmurga/mkt/201902/rawData/simulations/alphaComparisons/');"
   ]
  },
  {
   "cell_type": "markdown",
   "metadata": {
    "hidden": true
   },
   "source": [
    "Generation time 2e6"
   ]
  },
  {
   "cell_type": "code",
   "execution_count": null,
   "metadata": {
    "ExecuteTime": {
     "end_time": "2019-10-11T07:58:07.541695Z",
     "start_time": "2019-10-11T07:57:22.360Z"
    },
    "hidden": true
   },
   "outputs": [],
   "source": [
    "t2e6 <- mktOnsimulatedData(scenario='t2e6',simulationsPath='/home/jmurga/mkt/201902/rawData/simulations/alphaComparisons/');"
   ]
  },
  {
   "cell_type": "markdown",
   "metadata": {
    "hidden": true
   },
   "source": [
    "### Saving results"
   ]
  },
  {
   "cell_type": "code",
   "execution_count": null,
   "metadata": {
    "hidden": true
   },
   "outputs": [],
   "source": [
    "save(baseline,file='/home/jmurga/mkt/201902/results/simulations/alphas/baseline.RData')\n",
    "save(r0,file='/home/jmurga/mkt/201902/results/simulations/alphas/r0.RData')\n",
    "save(r1,file='/home/jmurga/mkt/201902/results/simulations/alphas/r1.RData')\n",
    "save(r2,file='/home/jmurga/mkt/201902/results/simulations/alphas/r2.RData')\n",
    "save(l1e6,file='/home/jmurga/mkt/201902/results/simulations/alphas/l1e6.RData')\n",
    "save(l1e8,file='/home/jmurga/mkt/201902/results/simulations/alphas/l1e8.RData')\n",
    "save(mu1,file='/home/jmurga/mkt/201902/results/simulations/alphas/mu1.RData')\n",
    "save(mu2,file='/home/jmurga/mkt/201902/results/simulations/alphas/mu2.RData')\n",
    "save(rb1,file='/home/jmurga/mkt/201902/results/simulations/alphas/rb1.RData')\n",
    "save(rb2,file='/home/jmurga/mkt/201902/results/simulations/alphas/rb2.RData')\n",
    "save(sb1,file='/home/jmurga/mkt/201902/results/simulations/alphas/sb1.RData')\n",
    "save(sb2,file='/home/jmurga/mkt/201902/results/simulations/alphas/sb2.RData')\n",
    "save(sd1,file='/home/jmurga/mkt/201902/results/simulations/alphas/sd1.RData')\n",
    "save(sd2,file='/home/jmurga/mkt/201902/results/simulations/alphas/sd2.RData')\n",
    "save(t2e4,file='/home/jmurga/mkt/201902/results/simulations/alphas/t2e4.RData')\n",
    "save(t2e6,file='/home/jmurga/mkt/201902/results/simulations/alphas/t2e6.RData')"
   ]
  },
  {
   "cell_type": "markdown",
   "metadata": {
    "heading_collapsed": true,
    "hidden": true
   },
   "source": [
    "### Extract simulation table"
   ]
  },
  {
   "cell_type": "code",
   "execution_count": null,
   "metadata": {
    "ExecuteTime": {
     "end_time": "2019-05-21T09:28:10.353931Z",
     "start_time": "2019-05-21T09:28:10.283Z"
    },
    "hidden": true
   },
   "outputs": [],
   "source": [
    "output <- rbind(baseline$table,r0$table,r1$table,r2$table,l1e6$table,l1e8$table,mu1$table,mu2$table,rb1$table,rb2$table,sb1$table,sb2$table,sd1$table,sd2$table,t2e4$table,t2e6$table)\n",
    "\n",
    "fwrite(output,file='/home/jmurga/mkt/201902/results/simulations/alphas/simulationsMetrics.tab',sep='\\t',row.names=T,col.names=T)"
   ]
  },
  {
   "cell_type": "code",
   "execution_count": null,
   "metadata": {
    "ExecuteTime": {
     "end_time": "2019-05-21T09:30:56.210479Z",
     "start_time": "2019-05-21T09:30:56.179Z"
    },
    "hidden": true
   },
   "outputs": [],
   "source": [
    "output"
   ]
  },
  {
   "cell_type": "markdown",
   "metadata": {
    "heading_collapsed": true,
    "hidden": true
   },
   "source": [
    "### Grid all scenarios"
   ]
  },
  {
   "cell_type": "code",
   "execution_count": null,
   "metadata": {
    "ExecuteTime": {
     "end_time": "2019-03-08T11:38:06.128168Z",
     "start_time": "2019-03-08T11:41:36.500Z"
    },
    "hidden": true,
    "scrolled": true
   },
   "outputs": [],
   "source": [
    "svg('/home/jmurga/mkt/201902/results/simulations/simulationsMKT.svg',height = 30, width = 25)\n",
    "plot_grid(baseline[['plot']],NULL,NULL,NULL,\n",
    "          l1e6[['plot']],l1e8[['plot']],\n",
    "          mu1[['plot']],mu2[['plot']],\n",
    "          rb1[['plot']],rb2[['plot']],\n",
    "          sb1[['plot']],sb2[['plot']],\n",
    "          sd1[['plot']],sd2[['plot']],\n",
    "          t2e4[['plot']],t2e6[['plot']],\n",
    "          r0[['plot']],r1[['plot']],r2[['plot']],\n",
    "          ncol=4,labels=c(\"A\",\"\",LETTERS[2:15]))\n",
    "dev.off()"
   ]
  },
  {
   "cell_type": "markdown",
   "metadata": {},
   "source": [
    "## Weakly deleterious fraction on SLiM data"
   ]
  },
  {
   "cell_type": "code",
   "execution_count": null,
   "metadata": {},
   "outputs": [],
   "source": [
    "baseline <- wdOnsimulatedData(scenario='baseline',simulationsPath='/home/jmurga/mkt/201902/rawData/simulations/wdEstimation/')"
   ]
  },
  {
   "cell_type": "code",
   "execution_count": null,
   "metadata": {},
   "outputs": [],
   "source": [
    "f1 <- wdOnsimulatedData(scenario='fitnessDel1e-2',simulationsPath='/home/jmurga/mkt/201902/rawData/simulations/wdEstimation/')"
   ]
  },
  {
   "cell_type": "code",
   "execution_count": null,
   "metadata": {},
   "outputs": [],
   "source": [
    "f2 <- wdOnsimulatedData(scenario='fitnessDel-2',simulationsPath='/home/jmurga/mkt/201902/rawData/simulations/wdEstimation/')"
   ]
  },
  {
   "cell_type": "code",
   "execution_count": null,
   "metadata": {},
   "outputs": [],
   "source": [
    "f3 <- wdOnsimulatedData(scenario='fitnessDel2e-1',simulationsPath='/home/jmurga/mkt/201902/rawData/simulations/wdEstimation/')"
   ]
  },
  {
   "cell_type": "code",
   "execution_count": null,
   "metadata": {},
   "outputs": [],
   "source": [
    "g1 <- wdOnsimulatedData(scenario='gamma1',simulationsPath='/home/jmurga/mkt/201902/rawData/simulations/wdEstimation/')"
   ]
  },
  {
   "cell_type": "code",
   "execution_count": null,
   "metadata": {},
   "outputs": [],
   "source": [
    "g2 <- wdOnsimulatedData(scenario='gamma1e-1',simulationsPath='/home/jmurga/mkt/201902/rawData/simulations/wdEstimation/')"
   ]
  },
  {
   "cell_type": "code",
   "execution_count": null,
   "metadata": {},
   "outputs": [],
   "source": [
    "f1Pos <- wdOnsimulatedData(scenario='fitnessDelPos1e-2',simulationsPath='/home/jmurga/mkt/201902/rawData/simulations/wdEstimation/')"
   ]
  },
  {
   "cell_type": "code",
   "execution_count": null,
   "metadata": {},
   "outputs": [],
   "source": [
    "f2Pos <- wdOnsimulatedData(scenario='fitnessDelPos-2',simulationsPath='/home/jmurga/mkt/201902/rawData/simulations/wdEstimation/')"
   ]
  },
  {
   "cell_type": "code",
   "execution_count": null,
   "metadata": {},
   "outputs": [],
   "source": [
    "f3Pos <- wdOnsimulatedData(scenario='fitnessDelPos2e-1',simulationsPath='/home/jmurga/mkt/201902/rawData/simulations/wdEstimation/')"
   ]
  },
  {
   "cell_type": "code",
   "execution_count": null,
   "metadata": {},
   "outputs": [],
   "source": [
    "g1Pos <- wdOnsimulatedData(scenario='gammaPos1',simulationsPath='/home/jmurga/mkt/201902/rawData/simulations/wdEstimation/')"
   ]
  },
  {
   "cell_type": "code",
   "execution_count": null,
   "metadata": {},
   "outputs": [],
   "source": [
    "g2Pos <- wdOnsimulatedData(scenario='gammaPos1e-1',simulationsPath='/home/jmurga/mkt/201902/rawData/simulations/wdEstimation/')"
   ]
  },
  {
   "cell_type": "code",
   "execution_count": null,
   "metadata": {},
   "outputs": [],
   "source": [
    "save(baseline,file='/home/jmurga/mkt/201902/results/simulations/wd/baseline.RData')\n",
    "save(f1,file='/home/jmurga/mkt/201902/results/simulations/wd/f1.RData')\n",
    "save(f2,file='/home/jmurga/mkt/201902/results/simulations/wd/f2.RData')\n",
    "save(f3,file='/home/jmurga/mkt/201902/results/simulations/wd/f3.RData')\n",
    "save(g1,file='/home/jmurga/mkt/201902/results/simulations/wd/g1.RData')\n",
    "save(g2,file='/home/jmurga/mkt/201902/results/simulations/wd/g2.RData')\n",
    "save(f1Pos,file='/home/jmurga/mkt/201902/results/simulations/wd/f1Pos.RData')\n",
    "save(f2Pos,file='/home/jmurga/mkt/201902/results/simulations/wd/f2Pos.RData')\n",
    "save(f3Pos,file='/home/jmurga/mkt/201902/results/simulations/wd/f3Pos.RData')\n",
    "save(g1Pos,file='/home/jmurga/mkt/201902/results/simulations/wd/g1Pos.RData')"
   ]
  },
  {
   "cell_type": "markdown",
   "metadata": {},
   "source": [
    "### Extract simulations table"
   ]
  },
  {
   "cell_type": "code",
   "execution_count": null,
   "metadata": {},
   "outputs": [],
   "source": [
    "output <- rbind(baseline$table,f1$table,f2$table,f3$table,g1$table,g2$table,f1Pos$table,f2Pos$table,f3Pos$table,g1Pos$table)\n",
    "\n",
    "fwrite(output,file='/home/jmurga/mkt/201902/results/simulations/alphas/wdMetrics.tab',sep='\\t',row.names=T,col.names=T)"
   ]
  },
  {
   "cell_type": "markdown",
   "metadata": {},
   "source": [
    "### Grid scenarios"
   ]
  },
  {
   "cell_type": "code",
   "execution_count": null,
   "metadata": {},
   "outputs": [],
   "source": [
    "svg('/home/jmurga/mkt/201902/results/simulations/wd/wdSimulation.svg',height = 30, width = 25)\n",
    "plot_grid(baseline[['plot']],NULL,NULL,NULL,f1[['plot']],f2[['plot']],f3[['plot']],g1[['plot']],g2[['plot']],f1Pos[['plot']],f2Pos[['plot']],f3Pos[['plot']],g1Pos[['plot']],g2Pos[['plot']], ncol=4,labels=c(\"A\",\"\",LETTERS[2:15]))\n",
    "dev.off()"
   ]
  }
 ],
 "metadata": {
  "kernelspec": {
   "display_name": "R",
   "language": "R",
   "name": "ir"
  },
  "language_info": {
   "codemirror_mode": "r",
   "file_extension": ".r",
   "mimetype": "text/x-r-source",
   "name": "R",
   "pygments_lexer": "r",
   "version": "3.5.1"
  },
  "toc": {
   "base_numbering": 1,
   "nav_menu": {},
   "number_sections": true,
   "sideBar": true,
   "skip_h1_title": false,
   "title_cell": "Table of Contents",
   "title_sidebar": "Contents",
   "toc_cell": false,
   "toc_position": {
    "height": "calc(100% - 180px)",
    "left": "10px",
    "top": "150px",
    "width": "165px"
   },
   "toc_section_display": true,
   "toc_window_display": true
  },
  "varInspector": {
   "cols": {
    "lenName": 16,
    "lenType": 16,
    "lenVar": 40
   },
   "kernels_config": {
    "python": {
     "delete_cmd_postfix": "",
     "delete_cmd_prefix": "del ",
     "library": "var_list.py",
     "varRefreshCmd": "print(var_dic_list())"
    },
    "r": {
     "delete_cmd_postfix": ") ",
     "delete_cmd_prefix": "rm(",
     "library": "var_list.r",
     "varRefreshCmd": "cat(var_dic_list()) "
    }
   },
   "types_to_exclude": [
    "module",
    "function",
    "builtin_function_or_method",
    "instance",
    "_Feature"
   ],
   "window_display": false
  }
 },
 "nbformat": 4,
 "nbformat_minor": 2
}
