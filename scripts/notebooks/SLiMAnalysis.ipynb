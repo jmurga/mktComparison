{
 "cells": [
  {
   "cell_type": "markdown",
   "metadata": {},
   "source": [
    "Loading libraries"
   ]
  },
  {
   "cell_type": "code",
   "execution_count": null,
   "metadata": {
    "ExecuteTime": {
     "end_time": "2019-10-01T14:09:19.427380Z",
     "start_time": "2019-10-01T14:09:18.273Z"
    }
   },
   "outputs": [],
   "source": [
    "library(repr)\n",
    "suppressMessages(library(dplyr))\n",
    "suppressMessages(library(iMKT))\n",
    "source('/home/jmurga/mkt/201902/scripts/src/plotStyle.R')\n",
    "source('/home/jmurga/mkt/201902/scripts/src/simulationsPlot.R')"
   ]
  },
  {
   "cell_type": "code",
   "execution_count": null,
   "metadata": {
    "ExecuteTime": {
     "end_time": "2019-10-01T14:13:05.159720Z",
     "start_time": "2019-10-01T14:13:05.117Z"
    }
   },
   "outputs": [],
   "source": [
    "options(repr.plot.width=20, repr.plot.height=10)"
   ]
  },
  {
   "cell_type": "markdown",
   "metadata": {},
   "source": [
    "## Ploting each simulated scenario"
   ]
  },
  {
   "cell_type": "markdown",
   "metadata": {},
   "source": [
    "Alpha baseline "
   ]
  },
  {
   "cell_type": "code",
   "execution_count": null,
   "metadata": {
    "ExecuteTime": {
     "end_time": "2019-10-01T10:48:53.594949Z",
     "start_time": "2019-10-01T10:46:43.348Z"
    },
    "code_folding": [],
    "scrolled": true
   },
   "outputs": [],
   "source": [
    "baseline <- mktOnsimulatedData(scenario='baseline',simulationsPath='/home/jmurga/mkt/201902/rawData/simulations/alphaComparisons/')"
   ]
  },
  {
   "cell_type": "markdown",
   "metadata": {},
   "source": [
    "r0"
   ]
  },
  {
   "cell_type": "code",
   "execution_count": null,
   "metadata": {
    "ExecuteTime": {
     "end_time": "2019-10-01T10:54:41.389159Z",
     "start_time": "2019-10-01T10:46:43.355Z"
    },
    "code_folding": [],
    "scrolled": true
   },
   "outputs": [],
   "source": [
    "r0 <- mktOnsimulatedData(scenario='r0',simulationsPath='/home/jmurga/mkt/201902/rawData/simulations/alphaComparisons/')"
   ]
  },
  {
   "cell_type": "markdown",
   "metadata": {},
   "source": [
    "r1e-5"
   ]
  },
  {
   "cell_type": "code",
   "execution_count": null,
   "metadata": {
    "ExecuteTime": {
     "end_time": "2019-05-20T15:12:55.696624Z",
     "start_time": "2019-05-20T15:06:32.838Z"
    },
    "code_folding": [],
    "scrolled": false
   },
   "outputs": [],
   "source": [
    "r1 <- mktOnsimulatedData(scenario='r1e-5',simulationsPath='/home/jmurga/mkt/201902/rawData/simulations/alphaComparisons/')"
   ]
  },
  {
   "cell_type": "markdown",
   "metadata": {},
   "source": [
    "r1e-10"
   ]
  },
  {
   "cell_type": "code",
   "execution_count": null,
   "metadata": {},
   "outputs": [],
   "source": [
    "r2 <- mktOnsimulatedData(scenario='r1e-10',simulationsPath='/home/jmurga/mkt/201902/rawData/simulations/alphaComparisons/')"
   ]
  },
  {
   "cell_type": "markdown",
   "metadata": {},
   "source": [
    "Length 10e6"
   ]
  },
  {
   "cell_type": "code",
   "execution_count": null,
   "metadata": {
    "ExecuteTime": {
     "end_time": "2019-10-01T10:58:40.489064Z",
     "start_time": "2019-10-01T10:46:49.374Z"
    },
    "scrolled": true
   },
   "outputs": [],
   "source": [
    "l1e6 <- mktOnsimulatedData(scenario = \"l1e6\", simulationsPath = \"/home/jmurga/mkt/201902/rawData/simulations/alphaComparisons\")"
   ]
  },
  {
   "cell_type": "markdown",
   "metadata": {},
   "source": [
    "Length 10e8"
   ]
  },
  {
   "cell_type": "code",
   "execution_count": null,
   "metadata": {
    "ExecuteTime": {
     "end_time": "2019-10-01T10:58:41.969095Z",
     "start_time": "2019-10-01T10:46:49.383Z"
    }
   },
   "outputs": [],
   "source": [
    "l1e8 <- mktOnsimulatedData(scenario='l1e8',simulationsPath='/home/jmurga/mkt/201902/rawData/simulations/alphaComparisons/')"
   ]
  },
  {
   "cell_type": "markdown",
   "metadata": {},
   "source": [
    "Mutation rate 1e-10"
   ]
  },
  {
   "cell_type": "code",
   "execution_count": null,
   "metadata": {
    "ExecuteTime": {
     "end_time": "2019-10-01T12:30:13.511143Z",
     "start_time": "2019-10-01T12:26:01.358Z"
    },
    "scrolled": true
   },
   "outputs": [],
   "source": [
    "mu1 <- mktOnsimulatedData(scenario='mu1e-10',simulationsPath='/home/jmurga/mkt/201902/rawData/simulations/alphaComparisons/');"
   ]
  },
  {
   "cell_type": "markdown",
   "metadata": {},
   "source": [
    "Mutation rate 1e-8"
   ]
  },
  {
   "cell_type": "code",
   "execution_count": null,
   "metadata": {
    "ExecuteTime": {
     "end_time": "2019-10-01T14:11:57.434458Z",
     "start_time": "2019-10-01T14:09:22.574Z"
    },
    "scrolled": true
   },
   "outputs": [],
   "source": [
    "mu2 <- mktOnsimulatedData(scenario='mu1e-8',simulationsPath='/home/jmurga/mkt/201902/rawData/simulations/alphaComparisons/');"
   ]
  },
  {
   "cell_type": "markdown",
   "metadata": {},
   "source": [
    "Beneficial frequency 1e-4"
   ]
  },
  {
   "cell_type": "code",
   "execution_count": null,
   "metadata": {
    "ExecuteTime": {
     "end_time": "2019-10-01T12:35:46.863138Z",
     "start_time": "2019-10-01T12:26:11.788Z"
    },
    "scrolled": true
   },
   "outputs": [],
   "source": [
    "rb1 <- mktOnsimulatedData(scenario='rb1',simulationsPath='/home/jmurga/mkt/201902/rawData/simulations/alphaComparisons/')"
   ]
  },
  {
   "cell_type": "markdown",
   "metadata": {},
   "source": [
    "Beneficial frequency 1e-1"
   ]
  },
  {
   "cell_type": "code",
   "execution_count": null,
   "metadata": {
    "ExecuteTime": {
     "end_time": "2019-10-01T12:38:35.115344Z",
     "start_time": "2019-10-01T12:26:16.364Z"
    },
    "scrolled": true
   },
   "outputs": [],
   "source": [
    "rb2 <- mktOnsimulatedData(scenario='rb2',simulationsPath='/home/jmurga/mkt/201902/rawData/simulations/alphaComparisons/');"
   ]
  },
  {
   "cell_type": "markdown",
   "metadata": {},
   "source": [
    "Beneficial fitness 2e-2  "
   ]
  },
  {
   "cell_type": "code",
   "execution_count": null,
   "metadata": {
    "ExecuteTime": {
     "end_time": "2019-10-01T13:03:14.159874Z",
     "start_time": "2019-10-01T13:01:06.316Z"
    },
    "scrolled": true
   },
   "outputs": [],
   "source": [
    "sb1 <- mktOnsimulatedData(scenario='sb1',simulationsPath='/home/jmurga/mkt/201902/rawData/simulations/alphaComparisons/');"
   ]
  },
  {
   "cell_type": "markdown",
   "metadata": {},
   "source": [
    "Beneficial fitness 2e-1"
   ]
  },
  {
   "cell_type": "code",
   "execution_count": null,
   "metadata": {
    "ExecuteTime": {
     "end_time": "2019-10-01T13:33:42.422948Z",
     "start_time": "2019-10-01T13:31:39.792Z"
    }
   },
   "outputs": [],
   "source": [
    "sb2 <- mktOnsimulatedData(scenario='sb2',simulationsPath='/home/jmurga/mkt/201902/rawData/simulations/alphaComparisons/');"
   ]
  },
  {
   "cell_type": "markdown",
   "metadata": {},
   "source": [
    "Deleterious fitness 2e-1"
   ]
  },
  {
   "cell_type": "code",
   "execution_count": null,
   "metadata": {
    "ExecuteTime": {
     "end_time": "2019-10-01T13:03:55.461581Z",
     "start_time": "2019-10-01T13:01:17.307Z"
    }
   },
   "outputs": [],
   "source": [
    "sd1 <- mktOnsimulatedData(scenario='sd1',simulationsPath='/home/jmurga/mkt/201902/rawData/simulations/alphaComparisons/');"
   ]
  },
  {
   "cell_type": "markdown",
   "metadata": {},
   "source": [
    "Deleterious fitness 2e-3"
   ]
  },
  {
   "cell_type": "code",
   "execution_count": null,
   "metadata": {
    "ExecuteTime": {
     "end_time": "2019-10-01T13:03:55.500986Z",
     "start_time": "2019-10-01T13:01:20.491Z"
    }
   },
   "outputs": [],
   "source": [
    "sd2 <- mktOnsimulatedData(scenario='sd2',simulationsPath='/home/jmurga/mkt/201902/rawData/simulations/alphaComparisons/');"
   ]
  },
  {
   "cell_type": "markdown",
   "metadata": {},
   "source": [
    "Generation time 2e4"
   ]
  },
  {
   "cell_type": "code",
   "execution_count": null,
   "metadata": {
    "ExecuteTime": {
     "end_time": "2019-10-01T13:03:55.585788Z",
     "start_time": "2019-10-01T13:01:26.778Z"
    },
    "scrolled": true
   },
   "outputs": [],
   "source": [
    "t2e4 <- mktOnsimulatedData(scenario='t2e4',simulationsPath='/home/jmurga/mkt/201902/rawData/simulations/alphaComparisons/');"
   ]
  },
  {
   "cell_type": "markdown",
   "metadata": {},
   "source": [
    "Generation time 2e6"
   ]
  },
  {
   "cell_type": "code",
   "execution_count": null,
   "metadata": {
    "ExecuteTime": {
     "start_time": "2019-05-20T15:06:32.905Z"
    }
   },
   "outputs": [],
   "source": [
    "t2e6 <- mktOnsimulatedData(scenario='t2e6',simulationsPath='/home/jmurga/mkt/201902/rawData/simulations/alphaComparisons/');"
   ]
  },
  {
   "cell_type": "markdown",
   "metadata": {},
   "source": [
    "### Extract simulation table"
   ]
  },
  {
   "cell_type": "code",
   "execution_count": null,
   "metadata": {
    "ExecuteTime": {
     "end_time": "2019-05-21T09:28:10.353931Z",
     "start_time": "2019-05-21T09:28:10.283Z"
    }
   },
   "outputs": [],
   "source": [
    "output <- rbind(baseline$table,r0$table,r1$table,r2$table,l1e6$table,l1e8$table,mu1$table,mu2$table,rb1$table,rb2$table,sb1$table,sb2$table,sd1$table,sd2$table,t2e4$table,t2e6$table)\n",
    "\n",
    "fwrite(output,file='/home/jmurga/mkt/201902/results/simulations/simulationsMetrics.tab',sep='\\t',row.names=T,col.names=T)"
   ]
  },
  {
   "cell_type": "code",
   "execution_count": null,
   "metadata": {
    "ExecuteTime": {
     "end_time": "2019-05-21T09:30:56.210479Z",
     "start_time": "2019-05-21T09:30:56.179Z"
    }
   },
   "outputs": [],
   "source": [
    "output"
   ]
  },
  {
   "cell_type": "markdown",
   "metadata": {},
   "source": [
    "### Grid all scenarios"
   ]
  },
  {
   "cell_type": "code",
   "execution_count": null,
   "metadata": {
    "ExecuteTime": {
     "end_time": "2019-03-08T11:38:06.128168Z",
     "start_time": "2019-03-08T11:41:36.500Z"
    },
    "scrolled": true
   },
   "outputs": [],
   "source": [
    "svg('/home/jmurga/mkt/201902/results/simulations/simulationsMKT.svg',height = 30, width = 25)\n",
    "plot_grid(baseline[['plot']],NULL,NULL,NULL,\n",
    "          l1e6[['plot']],l1e8[['plot']],\n",
    "          mu1[['plot']],mu2[['plot']],\n",
    "          rb1[['plot']],rb2[['plot']],\n",
    "          sb1[['plot']],sb2[['plot']],\n",
    "          sd1[['plot']],sd2[['plot']],\n",
    "          t2e4[['plot']],t2e6[['plot']],\n",
    "          r0[['plot']],r1[['plot']],r2[['plot']],\n",
    "          ncol=4,labels=c(\"A\",\"\",LETTERS[2:15]))\n",
    "dev.off()"
   ]
  },
  {
   "cell_type": "markdown",
   "metadata": {
    "heading_collapsed": true
   },
   "source": [
    "## Weakly deleterious fraction on SLiM data"
   ]
  },
  {
   "cell_type": "code",
   "execution_count": null,
   "metadata": {
    "hidden": true
   },
   "outputs": [],
   "source": [
    "baseline <- wdOnsimulatedData(scenario='baseline',simulationsPath='/home/jmurga/mkt/201902/rawData/simulations/wdEstimation/')"
   ]
  },
  {
   "cell_type": "code",
   "execution_count": null,
   "metadata": {
    "hidden": true
   },
   "outputs": [],
   "source": [
    "f1 <- wdOnsimulatedData(scenario='fitnessDel1e-2',simulationsPath='/home/jmurga/mkt/201902/rawData/simulations/wdEstimation/')"
   ]
  },
  {
   "cell_type": "code",
   "execution_count": null,
   "metadata": {
    "hidden": true
   },
   "outputs": [],
   "source": [
    "f2 <- wdOnsimulatedData(scenario='fitnessDel-2',simulationsPath='/home/jmurga/mkt/201902/rawData/simulations/wdEstimation/')"
   ]
  },
  {
   "cell_type": "code",
   "execution_count": null,
   "metadata": {
    "hidden": true
   },
   "outputs": [],
   "source": [
    "f3 <- wdOnsimulatedData(scenario='fitnessDel2e-1',simulationsPath='/home/jmurga/mkt/201902/rawData/simulations/wdEstimation/')"
   ]
  },
  {
   "cell_type": "code",
   "execution_count": null,
   "metadata": {
    "hidden": true
   },
   "outputs": [],
   "source": [
    "g1 <- wdOnsimulatedData(scenario='gamma1',simulationsPath='/home/jmurga/mkt/201902/rawData/simulations/wdEstimation/')"
   ]
  },
  {
   "cell_type": "code",
   "execution_count": null,
   "metadata": {
    "hidden": true
   },
   "outputs": [],
   "source": [
    "g2 <- wdOnsimulatedData(scenario='gamma1e-1',simulationsPath='/home/jmurga/mkt/201902/rawData/simulations/wdEstimation/')"
   ]
  },
  {
   "cell_type": "code",
   "execution_count": null,
   "metadata": {
    "hidden": true
   },
   "outputs": [],
   "source": [
    "f1Pos <- wdOnsimulatedData(scenario='fitnessDelPos1e-2',simulationsPath='/home/jmurga/mkt/201902/rawData/simulations/wdEstimation/')"
   ]
  },
  {
   "cell_type": "code",
   "execution_count": null,
   "metadata": {
    "hidden": true
   },
   "outputs": [],
   "source": [
    "f2Pos <- wdOnsimulatedData(scenario='fitnessDelPos-2',simulationsPath='/home/jmurga/mkt/201902/rawData/simulations/wdEstimation/')"
   ]
  },
  {
   "cell_type": "code",
   "execution_count": null,
   "metadata": {
    "hidden": true
   },
   "outputs": [],
   "source": [
    "f3Pos <- wdOnsimulatedData(scenario='fitnessDelPos2e-1',simulationsPath='/home/jmurga/mkt/201902/rawData/simulations/wdEstimation/')"
   ]
  },
  {
   "cell_type": "code",
   "execution_count": null,
   "metadata": {
    "hidden": true
   },
   "outputs": [],
   "source": [
    "g1Pos <- wdOnsimulatedData(scenario='gammaPos1',simulationsPath='/home/jmurga/mkt/201902/rawData/simulations/wdEstimation/')"
   ]
  },
  {
   "cell_type": "code",
   "execution_count": null,
   "metadata": {
    "hidden": true
   },
   "outputs": [],
   "source": [
    "g2Pos <- wdOnsimulatedData(scenario='gammaPos1e-1',simulationsPath='/home/jmurga/mkt/201902/rawData/simulations/wdEstimation/')"
   ]
  },
  {
   "cell_type": "markdown",
   "metadata": {
    "hidden": true
   },
   "source": [
    "### Grid scenarios"
   ]
  },
  {
   "cell_type": "code",
   "execution_count": null,
   "metadata": {
    "hidden": true
   },
   "outputs": [],
   "source": [
    "svg('/home/jmurga/mkt/201902/results/simulations/wdSimulation.svg',height = 30, width = 25)\n",
    "plot_grid(baseline[['plot']],NULL,NULL,NULL,f1[['plot']],f2[['plot']],f3[['plot']],g1[['plot']],g2[['plot']],f1Pos[['plot']],f2Pos[['plot']],f3Pos[['plot']],g1Pos[['plot']],g2Pos[['plot']], ncol=4,labels=c(\"A\",\"\",LETTERS[2:15]))\n",
    "dev.off()"
   ]
  }
 ],
 "metadata": {
  "kernelspec": {
   "display_name": "R",
   "language": "R",
   "name": "ir"
  },
  "language_info": {
   "codemirror_mode": "r",
   "file_extension": ".r",
   "mimetype": "text/x-r-source",
   "name": "R",
   "pygments_lexer": "r",
   "version": "3.5.1"
  },
  "toc": {
   "base_numbering": 1,
   "nav_menu": {},
   "number_sections": true,
   "sideBar": true,
   "skip_h1_title": false,
   "title_cell": "Table of Contents",
   "title_sidebar": "Contents",
   "toc_cell": false,
   "toc_position": {
    "height": "calc(100% - 180px)",
    "left": "10px",
    "top": "150px",
    "width": "165px"
   },
   "toc_section_display": true,
   "toc_window_display": true
  },
  "varInspector": {
   "cols": {
    "lenName": 16,
    "lenType": 16,
    "lenVar": 40
   },
   "kernels_config": {
    "python": {
     "delete_cmd_postfix": "",
     "delete_cmd_prefix": "del ",
     "library": "var_list.py",
     "varRefreshCmd": "print(var_dic_list())"
    },
    "r": {
     "delete_cmd_postfix": ") ",
     "delete_cmd_prefix": "rm(",
     "library": "var_list.r",
     "varRefreshCmd": "cat(var_dic_list()) "
    }
   },
   "types_to_exclude": [
    "module",
    "function",
    "builtin_function_or_method",
    "instance",
    "_Feature"
   ],
   "window_display": false
  }
 },
 "nbformat": 4,
 "nbformat_minor": 2
}
