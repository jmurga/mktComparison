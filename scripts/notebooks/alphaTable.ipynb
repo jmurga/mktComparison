{
 "cells": [
  {
   "cell_type": "code",
   "execution_count": 2,
   "metadata": {
    "ExecuteTime": {
     "end_time": "2019-03-08T16:36:46.482174Z",
     "start_time": "2019-03-08T16:40:23.116Z"
    }
   },
   "outputs": [],
   "source": [
    "library(repr)\n",
    "suppressMessages(library(ggplot2))\n",
    "suppressMessages(library(dplyr))\n",
    "suppressMessages(library(iMKT))\n",
    "suppressMessages(library(data.table))\n",
    "source('/home/jmurga/mkt/201902/scripts/src/plotStyle.R')"
   ]
  },
  {
   "cell_type": "code",
   "execution_count": 3,
   "metadata": {
    "ExecuteTime": {
     "end_time": "2019-03-08T16:36:46.860471Z",
     "start_time": "2019-03-08T16:40:23.617Z"
    }
   },
   "outputs": [],
   "source": [
    "options(repr.plot.width=20, repr.plot.height=15)"
   ]
  },
  {
   "cell_type": "markdown",
   "metadata": {},
   "source": [
    "## *Drosophila melanogaster* alpha values\n",
    "We do not analyze genes which Pi, P0, Di or D0 are 0"
   ]
  },
  {
   "cell_type": "code",
   "execution_count": 4,
   "metadata": {
    "ExecuteTime": {
     "end_time": "2019-03-08T16:36:47.578129Z",
     "start_time": "2019-03-08T16:40:24.341Z"
    }
   },
   "outputs": [],
   "source": [
    "source('/home/jmurga/mkt/201902/scripts/src/geneAnalysis.R')"
   ]
  },
  {
   "cell_type": "code",
   "execution_count": 5,
   "metadata": {
    "ExecuteTime": {
     "end_time": "2019-03-08T16:36:48.154925Z",
     "start_time": "2019-03-08T16:40:24.791Z"
    }
   },
   "outputs": [
    {
     "data": {
      "text/html": [
       "<table>\n",
       "<thead><tr><th scope=col>id</th><th scope=col>pop</th><th scope=col>DAF0f</th><th scope=col>DAF4f</th><th scope=col>p0</th><th scope=col>pi</th><th scope=col>di</th><th scope=col>d0</th><th scope=col>chr</th><th scope=col>name</th><th scope=col>mi</th><th scope=col>m0</th><th scope=col>recomb</th></tr></thead>\n",
       "<tbody>\n",
       "\t<tr><td>FBgn0000008                             </td><td>RAL                                     </td><td>30;7;3;0;1;0;0;0;1;0;0;0;1;0;0;0;0;0;0;0</td><td>19;5;5;2;0;1;0;1;1;0;1;1;1;0;0;0;1;0;0;1</td><td>39                                      </td><td>43                                      </td><td>26                                      </td><td>31                                      </td><td>2R                                      </td><td>a                                       </td><td>2539                                    </td><td>667                                     </td><td>2.1692837                               </td></tr>\n",
       "\t<tr><td>FBgn0000008                             </td><td>ZI                                      </td><td>69;3;1;2;0;0;0;1;0;0;0;1;0;0;0;0;0;0;0;1</td><td>57;7;4;3;1;2;2;2;1;0;0;0;0;0;1;0;1;0;0;0</td><td>81                                      </td><td>78                                      </td><td>25                                      </td><td>32                                      </td><td>2R                                      </td><td>a                                       </td><td>2539                                    </td><td>667                                     </td><td>2.1692837                               </td></tr>\n",
       "\t<tr><td>FBgn0000014                             </td><td>RAL                                     </td><td>2;0;0;0;0;0;0;0;0;0;0;0;0;0;0;0;0;0;0;0 </td><td>1;0;1;1;0;0;0;0;0;0;0;0;0;0;0;0;0;1;0;0 </td><td> 4                                      </td><td> 2                                      </td><td> 1                                      </td><td>20                                      </td><td>3R                                      </td><td>abd-A                                   </td><td>1516                                    </td><td>  0                                     </td><td>0.7616990                               </td></tr>\n",
       "\t<tr><td>FBgn0000014                             </td><td>ZI                                      </td><td>5;0;0;0;0;0;0;0;0;0;0;0;0;0;0;0;0;0;0;0 </td><td>11;0;1;1;0;1;0;0;0;0;0;0;0;0;1;0;1;0;0;1</td><td>17                                      </td><td> 5                                      </td><td> 1                                      </td><td>18                                      </td><td>3R                                      </td><td>abd-A                                   </td><td>1516                                    </td><td>  0                                     </td><td>0.7616990                               </td></tr>\n",
       "\t<tr><td>FBgn0000015                             </td><td>RAL                                     </td><td>3;0;0;0;0;1;0;0;0;0;0;0;0;0;0;0;0;0;0;0 </td><td>4;0;3;1;0;0;1;0;0;0;1;0;0;1;1;0;0;0;0;0 </td><td>12                                      </td><td> 4                                      </td><td> 0                                      </td><td> 3                                      </td><td>3R                                      </td><td>Abd-B                                   </td><td>1292                                    </td><td>  0                                     </td><td>0.4352566                               </td></tr>\n",
       "\t<tr><td>FBgn0000015                             </td><td>ZI                                      </td><td>9;0;3;0;0;0;0;0;0;0;0;0;0;0;0;0;0;0;0;0 </td><td>17;4;2;0;0;0;1;0;3;0;0;0;0;1;1;0;0;0;0;0</td><td>29                                      </td><td>12                                      </td><td> 1                                      </td><td> 3                                      </td><td>3R                                      </td><td>Abd-B                                   </td><td>1292                                    </td><td>  0                                     </td><td>0.4352566                               </td></tr>\n",
       "</tbody>\n",
       "</table>\n"
      ],
      "text/latex": [
       "\\begin{tabular}{r|lllllllllllll}\n",
       " id & pop & DAF0f & DAF4f & p0 & pi & di & d0 & chr & name & mi & m0 & recomb\\\\\n",
       "\\hline\n",
       "\t FBgn0000008                              & RAL                                      & 30;7;3;0;1;0;0;0;1;0;0;0;1;0;0;0;0;0;0;0 & 19;5;5;2;0;1;0;1;1;0;1;1;1;0;0;0;1;0;0;1 & 39                                       & 43                                       & 26                                       & 31                                       & 2R                                       & a                                        & 2539                                     & 667                                      & 2.1692837                               \\\\\n",
       "\t FBgn0000008                              & ZI                                       & 69;3;1;2;0;0;0;1;0;0;0;1;0;0;0;0;0;0;0;1 & 57;7;4;3;1;2;2;2;1;0;0;0;0;0;1;0;1;0;0;0 & 81                                       & 78                                       & 25                                       & 32                                       & 2R                                       & a                                        & 2539                                     & 667                                      & 2.1692837                               \\\\\n",
       "\t FBgn0000014                              & RAL                                      & 2;0;0;0;0;0;0;0;0;0;0;0;0;0;0;0;0;0;0;0  & 1;0;1;1;0;0;0;0;0;0;0;0;0;0;0;0;0;1;0;0  &  4                                       &  2                                       &  1                                       & 20                                       & 3R                                       & abd-A                                    & 1516                                     &   0                                      & 0.7616990                               \\\\\n",
       "\t FBgn0000014                              & ZI                                       & 5;0;0;0;0;0;0;0;0;0;0;0;0;0;0;0;0;0;0;0  & 11;0;1;1;0;1;0;0;0;0;0;0;0;0;1;0;1;0;0;1 & 17                                       &  5                                       &  1                                       & 18                                       & 3R                                       & abd-A                                    & 1516                                     &   0                                      & 0.7616990                               \\\\\n",
       "\t FBgn0000015                              & RAL                                      & 3;0;0;0;0;1;0;0;0;0;0;0;0;0;0;0;0;0;0;0  & 4;0;3;1;0;0;1;0;0;0;1;0;0;1;1;0;0;0;0;0  & 12                                       &  4                                       &  0                                       &  3                                       & 3R                                       & Abd-B                                    & 1292                                     &   0                                      & 0.4352566                               \\\\\n",
       "\t FBgn0000015                              & ZI                                       & 9;0;3;0;0;0;0;0;0;0;0;0;0;0;0;0;0;0;0;0  & 17;4;2;0;0;0;1;0;3;0;0;0;0;1;1;0;0;0;0;0 & 29                                       & 12                                       &  1                                       &  3                                       & 3R                                       & Abd-B                                    & 1292                                     &   0                                      & 0.4352566                               \\\\\n",
       "\\end{tabular}\n"
      ],
      "text/markdown": [
       "\n",
       "| id | pop | DAF0f | DAF4f | p0 | pi | di | d0 | chr | name | mi | m0 | recomb |\n",
       "|---|---|---|---|---|---|---|---|---|---|---|---|---|\n",
       "| FBgn0000008                              | RAL                                      | 30;7;3;0;1;0;0;0;1;0;0;0;1;0;0;0;0;0;0;0 | 19;5;5;2;0;1;0;1;1;0;1;1;1;0;0;0;1;0;0;1 | 39                                       | 43                                       | 26                                       | 31                                       | 2R                                       | a                                        | 2539                                     | 667                                      | 2.1692837                                |\n",
       "| FBgn0000008                              | ZI                                       | 69;3;1;2;0;0;0;1;0;0;0;1;0;0;0;0;0;0;0;1 | 57;7;4;3;1;2;2;2;1;0;0;0;0;0;1;0;1;0;0;0 | 81                                       | 78                                       | 25                                       | 32                                       | 2R                                       | a                                        | 2539                                     | 667                                      | 2.1692837                                |\n",
       "| FBgn0000014                              | RAL                                      | 2;0;0;0;0;0;0;0;0;0;0;0;0;0;0;0;0;0;0;0  | 1;0;1;1;0;0;0;0;0;0;0;0;0;0;0;0;0;1;0;0  |  4                                       |  2                                       |  1                                       | 20                                       | 3R                                       | abd-A                                    | 1516                                     |   0                                      | 0.7616990                                |\n",
       "| FBgn0000014                              | ZI                                       | 5;0;0;0;0;0;0;0;0;0;0;0;0;0;0;0;0;0;0;0  | 11;0;1;1;0;1;0;0;0;0;0;0;0;0;1;0;1;0;0;1 | 17                                       |  5                                       |  1                                       | 18                                       | 3R                                       | abd-A                                    | 1516                                     |   0                                      | 0.7616990                                |\n",
       "| FBgn0000015                              | RAL                                      | 3;0;0;0;0;1;0;0;0;0;0;0;0;0;0;0;0;0;0;0  | 4;0;3;1;0;0;1;0;0;0;1;0;0;1;1;0;0;0;0;0  | 12                                       |  4                                       |  0                                       |  3                                       | 3R                                       | Abd-B                                    | 1292                                     |   0                                      | 0.4352566                                |\n",
       "| FBgn0000015                              | ZI                                       | 9;0;3;0;0;0;0;0;0;0;0;0;0;0;0;0;0;0;0;0  | 17;4;2;0;0;0;1;0;3;0;0;0;0;1;1;0;0;0;0;0 | 29                                       | 12                                       |  1                                       |  3                                       | 3R                                       | Abd-B                                    | 1292                                     |   0                                      | 0.4352566                                |\n",
       "\n"
      ],
      "text/plain": [
       "  id          pop DAF0f                                   \n",
       "1 FBgn0000008 RAL 30;7;3;0;1;0;0;0;1;0;0;0;1;0;0;0;0;0;0;0\n",
       "2 FBgn0000008 ZI  69;3;1;2;0;0;0;1;0;0;0;1;0;0;0;0;0;0;0;1\n",
       "3 FBgn0000014 RAL 2;0;0;0;0;0;0;0;0;0;0;0;0;0;0;0;0;0;0;0 \n",
       "4 FBgn0000014 ZI  5;0;0;0;0;0;0;0;0;0;0;0;0;0;0;0;0;0;0;0 \n",
       "5 FBgn0000015 RAL 3;0;0;0;0;1;0;0;0;0;0;0;0;0;0;0;0;0;0;0 \n",
       "6 FBgn0000015 ZI  9;0;3;0;0;0;0;0;0;0;0;0;0;0;0;0;0;0;0;0 \n",
       "  DAF4f                                    p0 pi di d0 chr name  mi   m0 \n",
       "1 19;5;5;2;0;1;0;1;1;0;1;1;1;0;0;0;1;0;0;1 39 43 26 31 2R  a     2539 667\n",
       "2 57;7;4;3;1;2;2;2;1;0;0;0;0;0;1;0;1;0;0;0 81 78 25 32 2R  a     2539 667\n",
       "3 1;0;1;1;0;0;0;0;0;0;0;0;0;0;0;0;0;1;0;0   4  2  1 20 3R  abd-A 1516   0\n",
       "4 11;0;1;1;0;1;0;0;0;0;0;0;0;0;1;0;1;0;0;1 17  5  1 18 3R  abd-A 1516   0\n",
       "5 4;0;3;1;0;0;1;0;0;0;1;0;0;1;1;0;0;0;0;0  12  4  0  3 3R  Abd-B 1292   0\n",
       "6 17;4;2;0;0;0;1;0;3;0;0;0;0;1;1;0;0;0;0;0 29 12  1  3 3R  Abd-B 1292   0\n",
       "  recomb   \n",
       "1 2.1692837\n",
       "2 2.1692837\n",
       "3 0.7616990\n",
       "4 0.7616990\n",
       "5 0.4352566\n",
       "6 0.4352566"
      ]
     },
     "metadata": {},
     "output_type": "display_data"
    }
   ],
   "source": [
    "dmelDataset <- fread('/home/jmurga/mkt/201902/results/dmelData.tab');dmelDataset %>%head"
   ]
  },
  {
   "cell_type": "code",
   "execution_count": 6,
   "metadata": {
    "ExecuteTime": {
     "end_time": "2019-03-08T16:36:53.613783Z",
     "start_time": "2019-03-08T16:40:25.216Z"
    }
   },
   "outputs": [
    {
     "data": {
      "text/html": [
       "<ol class=list-inline>\n",
       "\t<li>'FBgn0000008'</li>\n",
       "\t<li>'FBgn0000014'</li>\n",
       "\t<li>'FBgn0000015'</li>\n",
       "\t<li>'FBgn0000017'</li>\n",
       "\t<li>'FBgn0000018'</li>\n",
       "\t<li>'FBgn0000022'</li>\n",
       "</ol>\n"
      ],
      "text/latex": [
       "\\begin{enumerate*}\n",
       "\\item 'FBgn0000008'\n",
       "\\item 'FBgn0000014'\n",
       "\\item 'FBgn0000015'\n",
       "\\item 'FBgn0000017'\n",
       "\\item 'FBgn0000018'\n",
       "\\item 'FBgn0000022'\n",
       "\\end{enumerate*}\n"
      ],
      "text/markdown": [
       "1. 'FBgn0000008'\n",
       "2. 'FBgn0000014'\n",
       "3. 'FBgn0000015'\n",
       "4. 'FBgn0000017'\n",
       "5. 'FBgn0000018'\n",
       "6. 'FBgn0000022'\n",
       "\n",
       "\n"
      ],
      "text/plain": [
       "[1] \"FBgn0000008\" \"FBgn0000014\" \"FBgn0000015\" \"FBgn0000017\" \"FBgn0000018\"\n",
       "[6] \"FBgn0000022\""
      ]
     },
     "metadata": {},
     "output_type": "display_data"
    }
   ],
   "source": [
    "dmelGeneList <- unique(dmelDataset[['id']]);dmelGeneList %>% head"
   ]
  },
  {
   "cell_type": "markdown",
   "metadata": {
    "ExecuteTime": {
     "end_time": "2019-03-08T14:31:11.137794Z",
     "start_time": "2019-03-08T14:34:47.838Z"
    }
   },
   "source": [
    "### Raleigh"
   ]
  },
  {
   "cell_type": "code",
   "execution_count": null,
   "metadata": {
    "ExecuteTime": {
     "end_time": "2019-03-08T14:31:44.905075Z",
     "start_time": "2019-03-08T14:35:21.573Z"
    }
   },
   "outputs": [],
   "source": [
    "ral <- dmelDataset[pop=='RAL'];ral %>% head"
   ]
  },
  {
   "cell_type": "markdown",
   "metadata": {},
   "source": [
    "#### Standard MKT"
   ]
  },
  {
   "cell_type": "code",
   "execution_count": null,
   "metadata": {},
   "outputs": [],
   "source": [
    "standardRAL <- mktByGene(data=ral,geneList =dmelGeneList,test = 'standardMKT', population = 'RAL')"
   ]
  },
  {
   "cell_type": "markdown",
   "metadata": {},
   "source": [
    "#### FWW method"
   ]
  },
  {
   "cell_type": "code",
   "execution_count": null,
   "metadata": {},
   "outputs": [],
   "source": [
    "FWWRAL0.05 <- mktByGene(data=ral,geneList =dmelGeneList,test = 'FWW', cutoff= 0.05, population = 'RAL')"
   ]
  },
  {
   "cell_type": "code",
   "execution_count": null,
   "metadata": {},
   "outputs": [],
   "source": [
    "FWWRAL0.1 <- mktByGene(data=ral,geneList =dmelGeneList,test = 'FWW', cutoff= 0.1, population = 'RAL')"
   ]
  },
  {
   "cell_type": "markdown",
   "metadata": {},
   "source": [
    "#### eMKT"
   ]
  },
  {
   "cell_type": "code",
   "execution_count": null,
   "metadata": {},
   "outputs": [],
   "source": [
    "eMKTRAL0.05 <- mktByGene(data=ral,geneList =dmelGeneList,test = 'eMKT', cutoff= 0.05, population = 'RAL')"
   ]
  },
  {
   "cell_type": "code",
   "execution_count": null,
   "metadata": {},
   "outputs": [],
   "source": [
    "eMKTRAL0.1 <- mktByGene(data=ral,geneList =dmelGeneList,test = 'eMKT', cutoff= 0.1, population = 'RAL')"
   ]
  },
  {
   "cell_type": "markdown",
   "metadata": {},
   "source": [
    "#### aMKT"
   ]
  },
  {
   "cell_type": "code",
   "execution_count": null,
   "metadata": {},
   "outputs": [],
   "source": [
    "aMKTRAL0.05 <- mktByGene(data=ral,geneList =dmelGeneList,test = 'aMKT', population = 'RAL')"
   ]
  },
  {
   "cell_type": "code",
   "execution_count": null,
   "metadata": {},
   "outputs": [],
   "source": [
    "aMKTRAL0.1 <- mktByGene(data=ral,geneList =dmelGeneList,test = 'aMKT', population = 'RAL')"
   ]
  },
  {
   "cell_type": "markdown",
   "metadata": {},
   "source": [
    "#### Custom aMKT"
   ]
  },
  {
   "cell_type": "code",
   "execution_count": null,
   "metadata": {},
   "outputs": [],
   "source": [
    "caMKTRAL0.05 <- mktByGene(data=ral,geneList =dmelGeneList,test = 'caMKT', population = 'RAL')"
   ]
  },
  {
   "cell_type": "code",
   "execution_count": null,
   "metadata": {},
   "outputs": [],
   "source": [
    "caMKTRAL0.1 <- mktByGene(data=ral,geneList =dmelGeneList,test = 'caMKT', population = 'RAL')"
   ]
  },
  {
   "cell_type": "markdown",
   "metadata": {},
   "source": [
    "#### Raleigth results"
   ]
  },
  {
   "cell_type": "code",
   "execution_count": null,
   "metadata": {},
   "outputs": [],
   "source": [
    "RAL <- do.call(rbind, lapply( ls(patt='RAL'), get) "
   ]
  },
  {
   "cell_type": "markdown",
   "metadata": {
    "ExecuteTime": {
     "end_time": "2019-03-08T14:31:11.137794Z",
     "start_time": "2019-03-08T14:34:47.838Z"
    },
    "heading_collapsed": true
   },
   "source": [
    "### Zambia"
   ]
  },
  {
   "cell_type": "code",
   "execution_count": null,
   "metadata": {
    "ExecuteTime": {
     "end_time": "2019-03-08T14:31:44.905075Z",
     "start_time": "2019-03-08T14:35:21.573Z"
    },
    "hidden": true
   },
   "outputs": [],
   "source": [
    "zi <- dmelDataset[pop=='ZI'];zi %>% head"
   ]
  },
  {
   "cell_type": "markdown",
   "metadata": {
    "hidden": true
   },
   "source": [
    "#### Standard MKT"
   ]
  },
  {
   "cell_type": "code",
   "execution_count": null,
   "metadata": {
    "hidden": true
   },
   "outputs": [],
   "source": [
    "standardZI <- mktByGene(data=zi,geneList = dmelGeneList,test = 'standardMKT', population = 'ZI')"
   ]
  },
  {
   "cell_type": "markdown",
   "metadata": {
    "hidden": true
   },
   "source": [
    "#### FWW method"
   ]
  },
  {
   "cell_type": "code",
   "execution_count": null,
   "metadata": {
    "hidden": true
   },
   "outputs": [],
   "source": [
    "FWWZI0.05 <- mktByGene(data=zi,geneList = dmelGeneList,test = 'FWW', cutoff= 0.05, population = 'ZI')"
   ]
  },
  {
   "cell_type": "code",
   "execution_count": null,
   "metadata": {
    "hidden": true
   },
   "outputs": [],
   "source": [
    "FWWZI0.1 <- mktByGene(data=zi,geneList = dmelGeneList,test = 'FWW', cutoff= 0.1, population = 'ZI')"
   ]
  },
  {
   "cell_type": "markdown",
   "metadata": {
    "hidden": true
   },
   "source": [
    "#### eMKT"
   ]
  },
  {
   "cell_type": "code",
   "execution_count": null,
   "metadata": {
    "hidden": true
   },
   "outputs": [],
   "source": [
    "eMKTZI0.05 <- mktByGene(data=zi,geneList = dmelGeneList,test = 'eMKT', cutoff= 0.05, population = 'ZI')"
   ]
  },
  {
   "cell_type": "code",
   "execution_count": null,
   "metadata": {
    "hidden": true
   },
   "outputs": [],
   "source": [
    "eMKTZI0.1 <- mktByGene(data=zi,geneList = dmelGeneList,test = 'eMKT', cutoff= 0.1, population = 'ZI')"
   ]
  },
  {
   "cell_type": "markdown",
   "metadata": {
    "hidden": true
   },
   "source": [
    "#### aMKT"
   ]
  },
  {
   "cell_type": "code",
   "execution_count": null,
   "metadata": {
    "hidden": true
   },
   "outputs": [],
   "source": [
    "aMKTZI0.05 <- mktByGene(data=zi,geneList = dmelGeneList,test = 'aMKT', population = 'ZI')"
   ]
  },
  {
   "cell_type": "code",
   "execution_count": null,
   "metadata": {
    "hidden": true
   },
   "outputs": [],
   "source": [
    "aMKTZI0.1 <- mktByGene(data=zi,geneList = dmelGeneList,test = 'aMKT', population = 'ZI')"
   ]
  },
  {
   "cell_type": "markdown",
   "metadata": {
    "hidden": true
   },
   "source": [
    "#### Custom aMKT"
   ]
  },
  {
   "cell_type": "code",
   "execution_count": null,
   "metadata": {
    "hidden": true
   },
   "outputs": [],
   "source": [
    "caMKTZI0.05 <- mktByGene(data=zi,geneList = dmelGeneList,test = 'caMKT', population = 'ZI')"
   ]
  },
  {
   "cell_type": "code",
   "execution_count": null,
   "metadata": {
    "hidden": true
   },
   "outputs": [],
   "source": [
    "caMKTZI0.1 <- mktByGene(data=zi,geneList = dmelGeneList,test = 'caMKT', population = 'ZI')"
   ]
  },
  {
   "cell_type": "markdown",
   "metadata": {
    "hidden": true
   },
   "source": [
    "#### Zambia results"
   ]
  },
  {
   "cell_type": "code",
   "execution_count": null,
   "metadata": {
    "hidden": true
   },
   "outputs": [],
   "source": [
    "ZI <- do.call(rbind, lapply( ls(patt='ZI'), get) "
   ]
  },
  {
   "cell_type": "markdown",
   "metadata": {
    "heading_collapsed": true
   },
   "source": [
    "## Human alpha values \n",
    "We do not analyze genes which Pi, P0, Di or D0 are 0"
   ]
  },
  {
   "cell_type": "code",
   "execution_count": null,
   "metadata": {
    "hidden": true
   },
   "outputs": [],
   "source": [
    "source('/home/jmurga/mkt/201902/scripts/src/geneAnalysis.R')"
   ]
  },
  {
   "cell_type": "code",
   "execution_count": 13,
   "metadata": {
    "ExecuteTime": {
     "end_time": "2019-03-08T17:29:36.191337Z",
     "start_time": "2019-03-08T17:33:12.831Z"
    },
    "hidden": true
   },
   "outputs": [
    {
     "data": {
      "text/html": [
       "<table>\n",
       "<thead><tr><th scope=col>id</th><th scope=col>chr</th><th scope=col>pop</th><th scope=col>pi</th><th scope=col>p0</th><th scope=col>daf0f</th><th scope=col>daf4f</th><th scope=col>mi</th><th scope=col>m0</th><th scope=col>di</th><th scope=col>d0</th><th scope=col>name</th><th scope=col>recomb</th></tr></thead>\n",
       "<tbody>\n",
       "\t<tr><td>ENSG00000000457.13_3                   </td><td>1                                      </td><td>CEU                                    </td><td>3                                      </td><td>4                                      </td><td>1;0;1;0;0;0;0;0;0;0;0;1;0;0;0;0;0;0;0;0</td><td>2;0;1;0;0;1;0;0;0;0;0;0;0;0;0;0;0;0;0;0</td><td>1443                                   </td><td>332                                    </td><td> 8                                     </td><td> 1                                     </td><td>SCYL3                                  </td><td>0.07891916                             </td></tr>\n",
       "\t<tr><td>ENSG00000000460.16_4                   </td><td>1                                      </td><td>CEU                                    </td><td>4                                      </td><td>2                                      </td><td>3;0;1;0;0;0;0;0;0;0;0;0;0;0;0;0;0;0;0;0</td><td>1;1;0;0;0;0;0;0;0;0;0;0;0;0;0;0;0;0;0;0</td><td>1664                                   </td><td>350                                    </td><td> 5                                     </td><td> 7                                     </td><td>C1orf112                               </td><td>0.56232538                             </td></tr>\n",
       "\t<tr><td>ENSG00000000938.12_3                   </td><td>1                                      </td><td>CEU                                    </td><td>1                                      </td><td>2                                      </td><td>1;0;0;0;0;0;0;0;0;0;0;0;0;0;0;0;0;0;0;0</td><td>2;0;0;0;0;0;0;0;0;0;0;0;0;0;0;0;0;0;0;0</td><td>1025                                   </td><td>249                                    </td><td> 2                                     </td><td> 4                                     </td><td>FGR                                    </td><td>1.93538579                             </td></tr>\n",
       "\t<tr><td>ENSG00000000971.15_3                   </td><td>1                                      </td><td>CEU                                    </td><td>5                                      </td><td>2                                      </td><td>2;0;0;1;0;0;0;1;0;0;0;0;0;0;0;1;0;0;0;0</td><td>0;0;0;0;0;0;0;0;0;0;0;0;2;0;0;0;0;0;0;0</td><td>2460                                   </td><td>490                                    </td><td>30                                     </td><td>14                                     </td><td>CFH                                    </td><td>0.25803409                             </td></tr>\n",
       "\t<tr><td>ENSG00000001460.17_3                   </td><td>1                                      </td><td>CEU                                    </td><td>5                                      </td><td>0                                      </td><td>2;0;1;0;0;1;1;0;0;0;0;0;0;0;0;0;0;0;0;0</td><td>0;0;0;0;0;0;0;0;0;0;0;0;0;0;0;0;0;0;0;0</td><td> 679                                   </td><td>153                                    </td><td> 2                                     </td><td> 3                                     </td><td>STPG1                                  </td><td>0.41583139                             </td></tr>\n",
       "\t<tr><td>ENSG00000001461.16_3                   </td><td>1                                      </td><td>CEU                                    </td><td>2                                      </td><td>2                                      </td><td>2;0;0;0;0;0;0;0;0;0;0;0;0;0;0;0;0;0;0;0</td><td>1;0;0;0;0;1;0;0;0;0;0;0;0;0;0;0;0;0;0;0</td><td> 788                                   </td><td>199                                    </td><td> 2                                     </td><td> 5                                     </td><td>NIPAL3                                 </td><td>0.64130688                             </td></tr>\n",
       "</tbody>\n",
       "</table>\n"
      ],
      "text/latex": [
       "\\begin{tabular}{r|lllllllllllll}\n",
       " id & chr & pop & pi & p0 & daf0f & daf4f & mi & m0 & di & d0 & name & recomb\\\\\n",
       "\\hline\n",
       "\t ENSG00000000457.13\\_3                  & 1                                       & CEU                                     & 3                                       & 4                                       & 1;0;1;0;0;0;0;0;0;0;0;1;0;0;0;0;0;0;0;0 & 2;0;1;0;0;1;0;0;0;0;0;0;0;0;0;0;0;0;0;0 & 1443                                    & 332                                     &  8                                      &  1                                      & SCYL3                                   & 0.07891916                             \\\\\n",
       "\t ENSG00000000460.16\\_4                  & 1                                       & CEU                                     & 4                                       & 2                                       & 3;0;1;0;0;0;0;0;0;0;0;0;0;0;0;0;0;0;0;0 & 1;1;0;0;0;0;0;0;0;0;0;0;0;0;0;0;0;0;0;0 & 1664                                    & 350                                     &  5                                      &  7                                      & C1orf112                                & 0.56232538                             \\\\\n",
       "\t ENSG00000000938.12\\_3                  & 1                                       & CEU                                     & 1                                       & 2                                       & 1;0;0;0;0;0;0;0;0;0;0;0;0;0;0;0;0;0;0;0 & 2;0;0;0;0;0;0;0;0;0;0;0;0;0;0;0;0;0;0;0 & 1025                                    & 249                                     &  2                                      &  4                                      & FGR                                     & 1.93538579                             \\\\\n",
       "\t ENSG00000000971.15\\_3                  & 1                                       & CEU                                     & 5                                       & 2                                       & 2;0;0;1;0;0;0;1;0;0;0;0;0;0;0;1;0;0;0;0 & 0;0;0;0;0;0;0;0;0;0;0;0;2;0;0;0;0;0;0;0 & 2460                                    & 490                                     & 30                                      & 14                                      & CFH                                     & 0.25803409                             \\\\\n",
       "\t ENSG00000001460.17\\_3                  & 1                                       & CEU                                     & 5                                       & 0                                       & 2;0;1;0;0;1;1;0;0;0;0;0;0;0;0;0;0;0;0;0 & 0;0;0;0;0;0;0;0;0;0;0;0;0;0;0;0;0;0;0;0 &  679                                    & 153                                     &  2                                      &  3                                      & STPG1                                   & 0.41583139                             \\\\\n",
       "\t ENSG00000001461.16\\_3                  & 1                                       & CEU                                     & 2                                       & 2                                       & 2;0;0;0;0;0;0;0;0;0;0;0;0;0;0;0;0;0;0;0 & 1;0;0;0;0;1;0;0;0;0;0;0;0;0;0;0;0;0;0;0 &  788                                    & 199                                     &  2                                      &  5                                      & NIPAL3                                  & 0.64130688                             \\\\\n",
       "\\end{tabular}\n"
      ],
      "text/markdown": [
       "\n",
       "| id | chr | pop | pi | p0 | daf0f | daf4f | mi | m0 | di | d0 | name | recomb |\n",
       "|---|---|---|---|---|---|---|---|---|---|---|---|---|\n",
       "| ENSG00000000457.13_3                    | 1                                       | CEU                                     | 3                                       | 4                                       | 1;0;1;0;0;0;0;0;0;0;0;1;0;0;0;0;0;0;0;0 | 2;0;1;0;0;1;0;0;0;0;0;0;0;0;0;0;0;0;0;0 | 1443                                    | 332                                     |  8                                      |  1                                      | SCYL3                                   | 0.07891916                              |\n",
       "| ENSG00000000460.16_4                    | 1                                       | CEU                                     | 4                                       | 2                                       | 3;0;1;0;0;0;0;0;0;0;0;0;0;0;0;0;0;0;0;0 | 1;1;0;0;0;0;0;0;0;0;0;0;0;0;0;0;0;0;0;0 | 1664                                    | 350                                     |  5                                      |  7                                      | C1orf112                                | 0.56232538                              |\n",
       "| ENSG00000000938.12_3                    | 1                                       | CEU                                     | 1                                       | 2                                       | 1;0;0;0;0;0;0;0;0;0;0;0;0;0;0;0;0;0;0;0 | 2;0;0;0;0;0;0;0;0;0;0;0;0;0;0;0;0;0;0;0 | 1025                                    | 249                                     |  2                                      |  4                                      | FGR                                     | 1.93538579                              |\n",
       "| ENSG00000000971.15_3                    | 1                                       | CEU                                     | 5                                       | 2                                       | 2;0;0;1;0;0;0;1;0;0;0;0;0;0;0;1;0;0;0;0 | 0;0;0;0;0;0;0;0;0;0;0;0;2;0;0;0;0;0;0;0 | 2460                                    | 490                                     | 30                                      | 14                                      | CFH                                     | 0.25803409                              |\n",
       "| ENSG00000001460.17_3                    | 1                                       | CEU                                     | 5                                       | 0                                       | 2;0;1;0;0;1;1;0;0;0;0;0;0;0;0;0;0;0;0;0 | 0;0;0;0;0;0;0;0;0;0;0;0;0;0;0;0;0;0;0;0 |  679                                    | 153                                     |  2                                      |  3                                      | STPG1                                   | 0.41583139                              |\n",
       "| ENSG00000001461.16_3                    | 1                                       | CEU                                     | 2                                       | 2                                       | 2;0;0;0;0;0;0;0;0;0;0;0;0;0;0;0;0;0;0;0 | 1;0;0;0;0;1;0;0;0;0;0;0;0;0;0;0;0;0;0;0 |  788                                    | 199                                     |  2                                      |  5                                      | NIPAL3                                  | 0.64130688                              |\n",
       "\n"
      ],
      "text/plain": [
       "  id                   chr pop pi p0 daf0f                                  \n",
       "1 ENSG00000000457.13_3 1   CEU 3  4  1;0;1;0;0;0;0;0;0;0;0;1;0;0;0;0;0;0;0;0\n",
       "2 ENSG00000000460.16_4 1   CEU 4  2  3;0;1;0;0;0;0;0;0;0;0;0;0;0;0;0;0;0;0;0\n",
       "3 ENSG00000000938.12_3 1   CEU 1  2  1;0;0;0;0;0;0;0;0;0;0;0;0;0;0;0;0;0;0;0\n",
       "4 ENSG00000000971.15_3 1   CEU 5  2  2;0;0;1;0;0;0;1;0;0;0;0;0;0;0;1;0;0;0;0\n",
       "5 ENSG00000001460.17_3 1   CEU 5  0  2;0;1;0;0;1;1;0;0;0;0;0;0;0;0;0;0;0;0;0\n",
       "6 ENSG00000001461.16_3 1   CEU 2  2  2;0;0;0;0;0;0;0;0;0;0;0;0;0;0;0;0;0;0;0\n",
       "  daf4f                                   mi   m0  di d0 name     recomb    \n",
       "1 2;0;1;0;0;1;0;0;0;0;0;0;0;0;0;0;0;0;0;0 1443 332  8  1 SCYL3    0.07891916\n",
       "2 1;1;0;0;0;0;0;0;0;0;0;0;0;0;0;0;0;0;0;0 1664 350  5  7 C1orf112 0.56232538\n",
       "3 2;0;0;0;0;0;0;0;0;0;0;0;0;0;0;0;0;0;0;0 1025 249  2  4 FGR      1.93538579\n",
       "4 0;0;0;0;0;0;0;0;0;0;0;0;2;0;0;0;0;0;0;0 2460 490 30 14 CFH      0.25803409\n",
       "5 0;0;0;0;0;0;0;0;0;0;0;0;0;0;0;0;0;0;0;0  679 153  2  3 STPG1    0.41583139\n",
       "6 1;0;0;0;0;1;0;0;0;0;0;0;0;0;0;0;0;0;0;0  788 199  2  5 NIPAL3   0.64130688"
      ]
     },
     "metadata": {},
     "output_type": "display_data"
    }
   ],
   "source": [
    "humanDataset <- fread('/home/jmurga/mkt/201902/results/humanData.tab');humanDataset%>%head"
   ]
  },
  {
   "cell_type": "code",
   "execution_count": 14,
   "metadata": {
    "ExecuteTime": {
     "end_time": "2019-03-08T17:29:54.493786Z",
     "start_time": "2019-03-08T17:33:17.427Z"
    },
    "hidden": true
   },
   "outputs": [
    {
     "data": {
      "text/html": [
       "<ol class=list-inline>\n",
       "\t<li>'ENSG00000000457.13_3'</li>\n",
       "\t<li>'ENSG00000000460.16_4'</li>\n",
       "\t<li>'ENSG00000000938.12_3'</li>\n",
       "\t<li>'ENSG00000000971.15_3'</li>\n",
       "\t<li>'ENSG00000001460.17_3'</li>\n",
       "\t<li>'ENSG00000001461.16_3'</li>\n",
       "</ol>\n"
      ],
      "text/latex": [
       "\\begin{enumerate*}\n",
       "\\item 'ENSG00000000457.13\\_3'\n",
       "\\item 'ENSG00000000460.16\\_4'\n",
       "\\item 'ENSG00000000938.12\\_3'\n",
       "\\item 'ENSG00000000971.15\\_3'\n",
       "\\item 'ENSG00000001460.17\\_3'\n",
       "\\item 'ENSG00000001461.16\\_3'\n",
       "\\end{enumerate*}\n"
      ],
      "text/markdown": [
       "1. 'ENSG00000000457.13_3'\n",
       "2. 'ENSG00000000460.16_4'\n",
       "3. 'ENSG00000000938.12_3'\n",
       "4. 'ENSG00000000971.15_3'\n",
       "5. 'ENSG00000001460.17_3'\n",
       "6. 'ENSG00000001461.16_3'\n",
       "\n",
       "\n"
      ],
      "text/plain": [
       "[1] \"ENSG00000000457.13_3\" \"ENSG00000000460.16_4\" \"ENSG00000000938.12_3\"\n",
       "[4] \"ENSG00000000971.15_3\" \"ENSG00000001460.17_3\" \"ENSG00000001461.16_3\""
      ]
     },
     "metadata": {},
     "output_type": "display_data"
    }
   ],
   "source": [
    "humanGeneList <- unique(humanDataset[['id']]);humanGeneList %>% head"
   ]
  },
  {
   "cell_type": "markdown",
   "metadata": {
    "hidden": true
   },
   "source": [
    "### CEU"
   ]
  },
  {
   "cell_type": "code",
   "execution_count": null,
   "metadata": {
    "ExecuteTime": {
     "end_time": "2019-03-08T14:31:44.905075Z",
     "start_time": "2019-03-08T14:35:21.573Z"
    },
    "hidden": true
   },
   "outputs": [],
   "source": [
    "ceu <- humanDataset[pop=='CEU'];ceu %>% head"
   ]
  },
  {
   "cell_type": "markdown",
   "metadata": {
    "hidden": true
   },
   "source": [
    "#### Standard MKT"
   ]
  },
  {
   "cell_type": "code",
   "execution_count": null,
   "metadata": {
    "hidden": true
   },
   "outputs": [],
   "source": [
    "standardCEU <- mktByGene(data=ceu,geneList =humanGeneList,test = 'standardMKT', population = 'CEU')"
   ]
  },
  {
   "cell_type": "markdown",
   "metadata": {
    "heading_collapsed": true,
    "hidden": true
   },
   "source": [
    "#### FWW method"
   ]
  },
  {
   "cell_type": "code",
   "execution_count": null,
   "metadata": {
    "hidden": true
   },
   "outputs": [],
   "source": [
    "FWWCEU0.05 <- mktByGene(data=ceu,geneList =humanGeneList,test = 'FWW', cutoff= 0.05, population = 'CEU')"
   ]
  },
  {
   "cell_type": "code",
   "execution_count": null,
   "metadata": {
    "hidden": true
   },
   "outputs": [],
   "source": [
    "FWWCEU0.1 <- mktByGene(data=ceu,geneList =humanGeneList,test = 'FWW', cutoff= 0.1, population = 'CEU')"
   ]
  },
  {
   "cell_type": "markdown",
   "metadata": {
    "heading_collapsed": true,
    "hidden": true
   },
   "source": [
    "#### eMKT"
   ]
  },
  {
   "cell_type": "code",
   "execution_count": null,
   "metadata": {
    "hidden": true
   },
   "outputs": [],
   "source": [
    "eMKTCEU0.05 <- mktByGene(data=ceu,geneList =humanGeneList,test = 'eMKT', cutoff= 0.05, population = 'CEU')"
   ]
  },
  {
   "cell_type": "code",
   "execution_count": null,
   "metadata": {
    "hidden": true
   },
   "outputs": [],
   "source": [
    "eMKTCEU0.1 <- mktByGene(data=ceu,geneList =humanGeneList,test = 'eMKT', cutoff= 0.1, population = 'CEU')"
   ]
  },
  {
   "cell_type": "markdown",
   "metadata": {
    "heading_collapsed": true,
    "hidden": true
   },
   "source": [
    "#### aMKT"
   ]
  },
  {
   "cell_type": "code",
   "execution_count": null,
   "metadata": {
    "hidden": true
   },
   "outputs": [],
   "source": [
    "aMKTCEU0.05 <- mktByGene(data=ceu,geneList =humanGeneList,test = 'aMKT', population = 'CEU')"
   ]
  },
  {
   "cell_type": "code",
   "execution_count": null,
   "metadata": {
    "hidden": true
   },
   "outputs": [],
   "source": [
    "aMKTCEU0.1 <- mktByGene(data=ceu,geneList =humanGeneList,test = 'aMKT', population = 'CEU')"
   ]
  },
  {
   "cell_type": "markdown",
   "metadata": {
    "heading_collapsed": true,
    "hidden": true
   },
   "source": [
    "#### Custom aMKT"
   ]
  },
  {
   "cell_type": "code",
   "execution_count": null,
   "metadata": {
    "hidden": true
   },
   "outputs": [],
   "source": [
    "caMKTCEU0.05 <- mktByGene(data=ceu,geneList =humanGeneList,test = 'caMKT', population = 'CEU')"
   ]
  },
  {
   "cell_type": "code",
   "execution_count": null,
   "metadata": {
    "hidden": true
   },
   "outputs": [],
   "source": [
    "caMKTCEU0.1 <- mktByGene(data=ceu,geneList =humanGeneList,test = 'caMKT', population = 'CEU')"
   ]
  },
  {
   "cell_type": "markdown",
   "metadata": {
    "heading_collapsed": true,
    "hidden": true
   },
   "source": [
    "#### CEU results"
   ]
  },
  {
   "cell_type": "code",
   "execution_count": null,
   "metadata": {
    "hidden": true
   },
   "outputs": [],
   "source": [
    "CEU <- do.call(rbind, lapply( ls(patt='CEU'), get) "
   ]
  },
  {
   "cell_type": "markdown",
   "metadata": {
    "hidden": true
   },
   "source": [
    "### YRI"
   ]
  },
  {
   "cell_type": "code",
   "execution_count": null,
   "metadata": {
    "ExecuteTime": {
     "end_time": "2019-03-08T14:31:44.905075Z",
     "start_time": "2019-03-08T14:35:21.573Z"
    },
    "hidden": true
   },
   "outputs": [],
   "source": [
    "yri <- humanDataset[pop=='YRI'];yri %>% head"
   ]
  },
  {
   "cell_type": "markdown",
   "metadata": {
    "hidden": true
   },
   "source": [
    "#### Standard MKT"
   ]
  },
  {
   "cell_type": "code",
   "execution_count": null,
   "metadata": {
    "hidden": true
   },
   "outputs": [],
   "source": [
    "standardYRI <- mktByGene(data=yri,geneList =humanGeneList,test = 'standardMKT', population = 'YRI')"
   ]
  },
  {
   "cell_type": "markdown",
   "metadata": {
    "hidden": true
   },
   "source": [
    "#### FWW method"
   ]
  },
  {
   "cell_type": "code",
   "execution_count": null,
   "metadata": {
    "hidden": true
   },
   "outputs": [],
   "source": [
    "FWWYRI0.05 <- mktByGene(data=yri,geneList =humanGeneList,test = 'FWW', cutoff= 0.05, population = 'YRI')"
   ]
  },
  {
   "cell_type": "code",
   "execution_count": null,
   "metadata": {
    "hidden": true
   },
   "outputs": [],
   "source": [
    "FWWYRI0.1 <- mktByGene(data=yri,geneList =humanGeneList,test = 'FWW', cutoff= 0.1, population = 'YRI')"
   ]
  },
  {
   "cell_type": "markdown",
   "metadata": {
    "hidden": true
   },
   "source": [
    "#### eMKT"
   ]
  },
  {
   "cell_type": "code",
   "execution_count": null,
   "metadata": {
    "hidden": true
   },
   "outputs": [],
   "source": [
    "eMKTYRI0.05 <- mktByGene(data=yri,geneList =humanGeneList,test = 'eMKT', cutoff= 0.05, population = 'YRI')"
   ]
  },
  {
   "cell_type": "code",
   "execution_count": null,
   "metadata": {
    "hidden": true
   },
   "outputs": [],
   "source": [
    "eMKTYRI0.1 <- mktByGene(data=yri,geneList =humanGeneList,test = 'eMKT', cutoff= 0.1, population = 'YRI')"
   ]
  },
  {
   "cell_type": "markdown",
   "metadata": {
    "hidden": true
   },
   "source": [
    "#### aMKT"
   ]
  },
  {
   "cell_type": "code",
   "execution_count": null,
   "metadata": {
    "hidden": true
   },
   "outputs": [],
   "source": [
    "aMKTYRI0.05 <- mktByGene(data=yri,geneList =humanGeneList,test = 'aMKT', population = 'YRI')"
   ]
  },
  {
   "cell_type": "code",
   "execution_count": null,
   "metadata": {
    "hidden": true
   },
   "outputs": [],
   "source": [
    "aMKTYRI0.1 <- mktByGene(data=yri,geneList =humanGeneList,test = 'aMKT', population = 'YRI')"
   ]
  },
  {
   "cell_type": "markdown",
   "metadata": {
    "hidden": true
   },
   "source": [
    "#### Custom aMKT"
   ]
  },
  {
   "cell_type": "code",
   "execution_count": null,
   "metadata": {
    "hidden": true
   },
   "outputs": [],
   "source": [
    "caMKTYRI0.05 <- mktByGene(data=yri,geneList =humanGeneList,test = 'caMKT', population = 'YRI')"
   ]
  },
  {
   "cell_type": "code",
   "execution_count": null,
   "metadata": {
    "hidden": true
   },
   "outputs": [],
   "source": [
    "caMKTYRI0.1 <- mktByGene(data=yri,geneList =humanGeneList,test = 'caMKT', population = 'YRI')"
   ]
  },
  {
   "cell_type": "markdown",
   "metadata": {
    "hidden": true
   },
   "source": [
    "#### YRI results"
   ]
  },
  {
   "cell_type": "code",
   "execution_count": null,
   "metadata": {
    "hidden": true
   },
   "outputs": [],
   "source": [
    "YRI <- do.call(rbind, lapply( ls(patt='YRI'), get) "
   ]
  },
  {
   "cell_type": "markdown",
   "metadata": {
    "heading_collapsed": true
   },
   "source": [
    "## Output alpha table"
   ]
  },
  {
   "cell_type": "code",
   "execution_count": null,
   "metadata": {
    "collapsed": true,
    "hidden": true
   },
   "outputs": [],
   "source": [
    "all <- rbind(RAL,ZI,CEU,YRI);all %>% head"
   ]
  },
  {
   "cell_type": "code",
   "execution_count": null,
   "metadata": {
    "hidden": true
   },
   "outputs": [],
   "source": [
    "fwrite(all,file='/home/jmurga/mkt/201902/results/alphaValuesByPopAndTest.tab',sep='\\t',row.names = F,col.names = T,header=T)"
   ]
  }
 ],
 "metadata": {
  "kernelspec": {
   "display_name": "R",
   "language": "R",
   "name": "ir"
  },
  "language_info": {
   "codemirror_mode": "r",
   "file_extension": ".r",
   "mimetype": "text/x-r-source",
   "name": "R",
   "pygments_lexer": "r",
   "version": "3.5.1"
  },
  "toc": {
   "base_numbering": 1,
   "nav_menu": {},
   "number_sections": true,
   "sideBar": true,
   "skip_h1_title": false,
   "title_cell": "Table of Contents",
   "title_sidebar": "Contents",
   "toc_cell": false,
   "toc_position": {},
   "toc_section_display": true,
   "toc_window_display": true
  },
  "varInspector": {
   "cols": {
    "lenName": 16,
    "lenType": 16,
    "lenVar": 40
   },
   "kernels_config": {
    "python": {
     "delete_cmd_postfix": "",
     "delete_cmd_prefix": "del ",
     "library": "var_list.py",
     "varRefreshCmd": "print(var_dic_list())"
    },
    "r": {
     "delete_cmd_postfix": ") ",
     "delete_cmd_prefix": "rm(",
     "library": "var_list.r",
     "varRefreshCmd": "cat(var_dic_list()) "
    }
   },
   "types_to_exclude": [
    "module",
    "function",
    "builtin_function_or_method",
    "instance",
    "_Feature"
   ],
   "window_display": false
  }
 },
 "nbformat": 4,
 "nbformat_minor": 2
}
