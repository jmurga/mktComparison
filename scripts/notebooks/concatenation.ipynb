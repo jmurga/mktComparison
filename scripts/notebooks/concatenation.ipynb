{
 "cells": [
  {
   "cell_type": "code",
   "execution_count": 2,
   "metadata": {
    "ExecuteTime": {
     "end_time": "2019-03-11T16:02:42.241601Z",
     "start_time": "2019-03-11T16:06:17.986Z"
    }
   },
   "outputs": [],
   "source": [
    "library(iMKT)\n",
    "source('/home/jmurga/mkt/201902/scripts/src/concatenation.R')\n",
    "load('/home/jmurga/mkt/201902/results/PopFlyDataManual.RData')"
   ]
  },
  {
   "cell_type": "code",
   "execution_count": 3,
   "metadata": {
    "ExecuteTime": {
     "end_time": "2019-03-11T16:02:53.857134Z",
     "start_time": "2019-03-11T16:06:19.432Z"
    }
   },
   "outputs": [],
   "source": [
    "genes <- unique(PopFlyData[['Name']]) %>% as.matrix()"
   ]
  },
  {
   "cell_type": "code",
   "execution_count": null,
   "metadata": {},
   "outputs": [],
   "source": [
    "set.seed(13753)\n",
    "subsetGenes <- sample(genes,size=1000)"
   ]
  },
  {
   "cell_type": "markdown",
   "metadata": {},
   "source": [
    " #### Boot samples bins 1 "
   ]
  },
  {
   "cell_type": "code",
   "execution_count": 25,
   "metadata": {
    "ExecuteTime": {
     "end_time": "2019-02-26T15:52:59.466933Z",
     "start_time": "2019-02-26T15:56:38.487Z"
    }
   },
   "outputs": [],
   "source": [
    "bootSamplesBin1 <- samplingGenes(geneList = subsetGenes,B=3500,bins=1)"
   ]
  },
  {
   "cell_type": "code",
   "execution_count": null,
   "metadata": {},
   "outputs": [],
   "source": [
    "output1 <- sampleAnalysis(data=PopFlyData,sampling = bootSamplesBin2,bins = 1,population='RAL')"
   ]
  },
  {
   "cell_type": "markdown",
   "metadata": {},
   "source": [
    " #### Boot samples bins 2"
   ]
  },
  {
   "cell_type": "code",
   "execution_count": 25,
   "metadata": {
    "ExecuteTime": {
     "end_time": "2019-02-26T15:52:59.466933Z",
     "start_time": "2019-02-26T15:56:38.487Z"
    }
   },
   "outputs": [],
   "source": [
    "bootSamplesBin2 <- samplingGenes(geneList = subsetGenes,B=3500,bins=2)"
   ]
  },
  {
   "cell_type": "code",
   "execution_count": null,
   "metadata": {},
   "outputs": [],
   "source": [
    "output2 <- sampleAnalysis(data=PopFlyData,sampling = bootSamplesBin2,bins = 2,population='RAL')"
   ]
  },
  {
   "cell_type": "markdown",
   "metadata": {},
   "source": [
    " #### Boot samples bins 5"
   ]
  },
  {
   "cell_type": "code",
   "execution_count": 25,
   "metadata": {
    "ExecuteTime": {
     "end_time": "2019-02-26T15:52:59.466933Z",
     "start_time": "2019-02-26T15:56:38.487Z"
    }
   },
   "outputs": [],
   "source": [
    "bootSamplesBin5 <- samplingGenes(geneList = subsetGenes,B=3500,bins=5)"
   ]
  },
  {
   "cell_type": "code",
   "execution_count": null,
   "metadata": {},
   "outputs": [],
   "source": [
    "output5 <- sampleAnalysis(data=PopFlyData,sampling = bootSamplesBin2,bins = 5,population='RAL')"
   ]
  },
  {
   "cell_type": "markdown",
   "metadata": {},
   "source": [
    "#### Boot samples bins 10"
   ]
  },
  {
   "cell_type": "code",
   "execution_count": 25,
   "metadata": {
    "ExecuteTime": {
     "end_time": "2019-02-26T15:52:59.466933Z",
     "start_time": "2019-02-26T15:56:38.487Z"
    }
   },
   "outputs": [],
   "source": [
    "bootSamplesBin10 <- samplingGenes(geneList = subsetGenes,B=3500,bins=10)"
   ]
  },
  {
   "cell_type": "code",
   "execution_count": null,
   "metadata": {},
   "outputs": [],
   "source": [
    "output10 <- sampleAnalysis(data=PopFlyData,sampling = bootSamplesBin2,bins = 10,population='RAL')"
   ]
  },
  {
   "cell_type": "markdown",
   "metadata": {},
   "source": [
    "#### Boot samples bins 25"
   ]
  },
  {
   "cell_type": "code",
   "execution_count": 25,
   "metadata": {
    "ExecuteTime": {
     "end_time": "2019-02-26T15:52:59.466933Z",
     "start_time": "2019-02-26T15:56:38.487Z"
    }
   },
   "outputs": [],
   "source": [
    "bootSamplesBin25 <- samplingGenes(geneList = subsetGenes,B=3500,bins=25)"
   ]
  },
  {
   "cell_type": "code",
   "execution_count": null,
   "metadata": {},
   "outputs": [],
   "source": [
    "output25 <- sampleAnalysis(data=PopFlyData,sampling = bootSamplesBin2,bins = 25,population='RAL')"
   ]
  },
  {
   "cell_type": "markdown",
   "metadata": {},
   "source": [
    "#### Boot samples bins 50"
   ]
  },
  {
   "cell_type": "code",
   "execution_count": 25,
   "metadata": {
    "ExecuteTime": {
     "end_time": "2019-02-26T15:52:59.466933Z",
     "start_time": "2019-02-26T15:56:38.487Z"
    }
   },
   "outputs": [],
   "source": [
    "bootSamplesBin50 <- samplingGenes(geneList = subsetGenes,B=3500,bins=50)"
   ]
  },
  {
   "cell_type": "code",
   "execution_count": null,
   "metadata": {},
   "outputs": [],
   "source": [
    "output50 <- sampleAnalysis(data=PopFlyData,sampling = bootSamplesBin2,bins = 50,population='RAL')"
   ]
  },
  {
   "cell_type": "markdown",
   "metadata": {},
   "source": [
    "#### Boot samples bins 100"
   ]
  },
  {
   "cell_type": "code",
   "execution_count": 25,
   "metadata": {
    "ExecuteTime": {
     "end_time": "2019-02-26T15:52:59.466933Z",
     "start_time": "2019-02-26T15:56:38.487Z"
    }
   },
   "outputs": [],
   "source": [
    "bootSamplesBin100 <- samplingGenes(geneList = subsetGenes,B=3500,bins=100)"
   ]
  },
  {
   "cell_type": "code",
   "execution_count": null,
   "metadata": {},
   "outputs": [],
   "source": [
    "output100 <- sampleAnalysis(data=PopFlyData,sampling = bootSamplesBin2,bins = 100,population='RAL')"
   ]
  },
  {
   "cell_type": "markdown",
   "metadata": {},
   "source": [
    " #### Boot samples bins 250"
   ]
  },
  {
   "cell_type": "code",
   "execution_count": 25,
   "metadata": {
    "ExecuteTime": {
     "end_time": "2019-02-26T15:52:59.466933Z",
     "start_time": "2019-02-26T15:56:38.487Z"
    }
   },
   "outputs": [],
   "source": [
    "bootSamplesBin250<- samplingGenes(geneList = subsetGenes,B=3500,bins=250)"
   ]
  },
  {
   "cell_type": "code",
   "execution_count": null,
   "metadata": {},
   "outputs": [],
   "source": [
    "output250 <- sampleAnalysis(data=PopFlyData,sampling = bootSamplesBin2,bins = 250,population='RAL')"
   ]
  },
  {
   "cell_type": "markdown",
   "metadata": {},
   "source": [
    " #### Boot samples bins 500"
   ]
  },
  {
   "cell_type": "code",
   "execution_count": 25,
   "metadata": {
    "ExecuteTime": {
     "end_time": "2019-02-26T15:52:59.466933Z",
     "start_time": "2019-02-26T15:56:38.487Z"
    }
   },
   "outputs": [],
   "source": [
    "bootSamplesBin500 <- samplingGenes(geneList = subsetGenes,B=3500,bins=500)"
   ]
  },
  {
   "cell_type": "code",
   "execution_count": null,
   "metadata": {},
   "outputs": [],
   "source": [
    "output500 <- sampleAnalysis(data=PopFlyData,sampling = bootSamplesBin2,bins = 500,population='RAL')"
   ]
  },
  {
   "cell_type": "markdown",
   "metadata": {},
   "source": [
    "#### Boot samples bins 1000"
   ]
  },
  {
   "cell_type": "code",
   "execution_count": 25,
   "metadata": {
    "ExecuteTime": {
     "end_time": "2019-02-26T15:52:59.466933Z",
     "start_time": "2019-02-26T15:56:38.487Z"
    }
   },
   "outputs": [],
   "source": [
    "bootSamplesBin1000 <- samplingGenes(geneList = subsetGenes,B=3500,bins=1000)"
   ]
  },
  {
   "cell_type": "code",
   "execution_count": null,
   "metadata": {},
   "outputs": [],
   "source": [
    "output1000 <- sampleAnalysis(data=PopFlyData,sampling = bootSamplesBin2,bins = 1000,population='RAL')"
   ]
  }
 ],
 "metadata": {
  "kernelspec": {
   "display_name": "R",
   "language": "R",
   "name": "ir"
  },
  "language_info": {
   "codemirror_mode": "r",
   "file_extension": ".r",
   "mimetype": "text/x-r-source",
   "name": "R",
   "pygments_lexer": "r",
   "version": "3.5.2"
  },
  "toc": {
   "base_numbering": 1,
   "nav_menu": {},
   "number_sections": true,
   "sideBar": true,
   "skip_h1_title": false,
   "title_cell": "Table of Contents",
   "title_sidebar": "Contents",
   "toc_cell": false,
   "toc_position": {},
   "toc_section_display": true,
   "toc_window_display": false
  },
  "varInspector": {
   "cols": {
    "lenName": 16,
    "lenType": 16,
    "lenVar": 40
   },
   "kernels_config": {
    "python": {
     "delete_cmd_postfix": "",
     "delete_cmd_prefix": "del ",
     "library": "var_list.py",
     "varRefreshCmd": "print(var_dic_list())"
    },
    "r": {
     "delete_cmd_postfix": ") ",
     "delete_cmd_prefix": "rm(",
     "library": "var_list.r",
     "varRefreshCmd": "cat(var_dic_list()) "
    }
   },
   "types_to_exclude": [
    "module",
    "function",
    "builtin_function_or_method",
    "instance",
    "_Feature"
   ],
   "window_display": false
  }
 },
 "nbformat": 4,
 "nbformat_minor": 2
}
