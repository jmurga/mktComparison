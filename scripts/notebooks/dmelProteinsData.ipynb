{
 "cells": [
  {
   "cell_type": "markdown",
   "metadata": {},
   "source": [
    "Defining global path in python. These variables will be stored after one execution"
   ]
  },
  {
   "cell_type": "code",
   "execution_count": 4,
   "metadata": {
    "ExecuteTime": {
     "end_time": "2019-03-07T11:50:49.867690Z",
     "start_time": "2019-03-07T11:50:49.862947Z"
    }
   },
   "outputs": [],
   "source": [
    "SRC='/home/jmurga/mkt/201902/scripts/src'\n",
    "DATA='/home/jmurga/mkt/201902/rawData/dmel'\n",
    "FASTAS='/data/shared/dgn'"
   ]
  },
  {
   "cell_type": "markdown",
   "metadata": {},
   "source": [
    "Required libraries"
   ]
  },
  {
   "cell_type": "code",
   "execution_count": 5,
   "metadata": {
    "ExecuteTime": {
     "end_time": "2019-03-07T11:50:50.820513Z",
     "start_time": "2019-03-07T11:50:50.813057Z"
    }
   },
   "outputs": [],
   "source": [
    "import os\n",
    "import re\n",
    "import sys\n",
    "import numpy as np\n",
    "import pandas as pd\n",
    "from numpy import array \n",
    "from pyfaidx import Fasta"
   ]
  },
  {
   "cell_type": "markdown",
   "metadata": {},
   "source": [
    "Ad-hoc scripts"
   ]
  },
  {
   "cell_type": "code",
   "execution_count": 6,
   "metadata": {
    "ExecuteTime": {
     "end_time": "2019-03-07T11:50:51.736981Z",
     "start_time": "2019-03-07T11:50:51.729808Z"
    }
   },
   "outputs": [],
   "source": [
    "sys.path.insert(0, SRC)\n",
    "from reverseComplement import reverseComplement\n",
    "from degenerancy import degenerate\n",
    "from dafResampling import dafWithResampling\n",
    "from foldPositions import foldPositions\n",
    "from nDistribution import nDistribution"
   ]
  },
  {
   "cell_type": "markdown",
   "metadata": {
    "heading_collapsed": true
   },
   "source": [
    "### Drosophila melanogaster genes "
   ]
  },
  {
   "cell_type": "markdown",
   "metadata": {
    "hidden": true
   },
   "source": [
    "To execute bash code we created a snippets through nbextensions containing the following paths in order to avoid copy and paste cells. %%bash magic do not recognize previous variables. Adding mkdir command to create necesary paths"
   ]
  },
  {
   "cell_type": "code",
   "execution_count": null,
   "metadata": {
    "ExecuteTime": {
     "end_time": "2019-03-06T09:03:14.692538Z",
     "start_time": "2019-03-06T09:03:14.657941Z"
    },
    "hidden": true
   },
   "outputs": [],
   "source": [
    "%%bash\n",
    "DATA='/home/jmurga/mkt/201902/rawData/dmel/annotations'\n",
    "BASIC='/home/jmurga/mkt/201902/rawData/dmel/annotations/basicAnnotation'\n",
    "CDS='/home/jmurga/mkt/201902/rawData/dmel/annotations/cds'\n",
    "GENES='/home/jmurga/mkt/201902/rawData/dmel/annotations/genes'\n",
    "TEMPORAL='/home/jmurga/mkt/201902/rawData/dmel/annotations/tmp'\n",
    "ALLELEFREQ='/home/jmurga/mkt/201902/rawData/dmel/alleleFrequencies'\n",
    "\n",
    "mkdir -p ${DATA}\n",
    "mkdir -p ${BASIC}\n",
    "mkdir -p ${CDS}\n",
    "mkdir -p ${GENES}\n",
    "mkdir -p ${TEMPORAL}\n",
    "mkdir -p ${ALLELEFREQ}"
   ]
  },
  {
   "cell_type": "markdown",
   "metadata": {
    "heading_collapsed": true,
    "hidden": true
   },
   "source": [
    "#### Download Flybase annotation"
   ]
  },
  {
   "cell_type": "code",
   "execution_count": null,
   "metadata": {
    "ExecuteTime": {
     "end_time": "2019-03-06T09:05:36.973637Z",
     "start_time": "2019-03-06T09:05:05.158497Z"
    },
    "hidden": true
   },
   "outputs": [],
   "source": [
    "%%bash\n",
    "DATA='/home/jmurga/mkt/201902/rawData/dmel/annotations'\n",
    "\n",
    "cd ${DATA}\n",
    "# Flybase annotation\n",
    "wget ftp://ftp.flybase.net/genomes/Drosophila_melanogaster/dmel_r5.57_FB2014_03/gff/dmel-all-no-analysis-r5.57.gff.gz\n",
    "gunzip dmel-all-no-analysis-r5.57.gff.gz"
   ]
  },
  {
   "cell_type": "markdown",
   "metadata": {
    "heading_collapsed": true,
    "hidden": true
   },
   "source": [
    "#### Parsing and cleaning flybase annotation to execute all operations by chr\n",
    "Operate by chr is faster due to grep on smaller files. Each folder contain an specific file foreach chromosome. "
   ]
  },
  {
   "cell_type": "code",
   "execution_count": null,
   "metadata": {
    "ExecuteTime": {
     "end_time": "2019-03-06T09:06:21.062789Z",
     "start_time": "2019-03-06T09:06:04.132264Z"
    },
    "hidden": true
   },
   "outputs": [],
   "source": [
    "%%bash\n",
    "DATA='/home/jmurga/mkt/201902/rawData/dmel/annotations'\n",
    "BASIC='/home/jmurga/mkt/201902/rawData/dmel/annotations/basicAnnotation'\n",
    "CDS='/home/jmurga/mkt/201902/rawData/dmel/annotations/cds'\n",
    "GENES='/home/jmurga/mkt/201902/rawData/dmel/annotations/genes'\n",
    "TEMPORAL='/home/jmurga/mkt/201902/rawData/dmel/annotations/tmp'\n",
    "\n",
    "mkdir -p ${BASIC}\n",
    "mkdir -p ${CDS}\n",
    "mkdir -p ${GENES}\n",
    "mkdir -p ${TEMPORAL}\n",
    "\n",
    "# Extract annotations from gff file\n",
    "sed -e '/^>/,$d' ${DATA}/dmel-all-no-analysis-r5.57.gff | sed -e '/^2LHet/d' -e  '/2RHet/d' -e '/3LHet/d' -e '/3RHet/d' -e  '/^4\\t/d' -e '/dmel_mitochondrion_genome/d' -e '/^U\\t/d' -e '/^Uextra\\t/d' -e  '/^XHet\\t/d' -e '/^YHet\\t/d' -e'/\\tCG/d' > ${DATA}/dmelFiltered.gff\n",
    "# Extract genes information\n",
    "grep -P \"\\tgene\\t\" ${DATA}/dmelFiltered.gff  > ${DATA}/dmelFilteredGenes.gff\n",
    "# Extract CDS information. Only protein coding genes\n",
    "grep -P \"\\tCDS\\t\" ${DATA}/dmelFiltered.gff  > ${DATA}/dmelFilteredCds.gff\n",
    "# Coding gene list. gene_id always on column 9, 3th field\n",
    "cut -f1,9 ${DATA}/dmelFilteredCds.gff | tr ';' '\\t' | cut -f1,2 | sort -u | sort -k1,1 > ${DATA}/codingGeneList.txt\n",
    "\n",
    "\n",
    "CHR=( 2L 2R 3L 3R X )\n",
    "# Parse gff file by chr\n",
    "for chrNumber in \"${CHR[@]}\"\n",
    "do\n",
    "    grep -P \"${chrNumber}\\t\"  ${DATA}/dmelFilteredGenes.gff | sort -k4,4n > ${BASIC}/gencode.v27lift37.basic.annotation.chr${chrNumber}.gff3 \n",
    "    grep -P \"${chrNumber}\\t\"  ${DATA}/dmelFilteredCds.gff | sort -k1,1 -k4,4n > ${CDS}/dmelFilteredCdsChr${chrNumber}.gff3 \n",
    "    grep -P \"${chrNumber}\\t\"  ${DATA}/dmelFilteredGenes.gff | sort -k1,1 -k4,4n > ${GENES}/dmelFilteredGenesChr${chrNumber}.gff3 \n",
    "done\n",
    "\n",
    "rm ${DATA}/dmel-all-no-analysis-r5.57.gff"
   ]
  },
  {
   "cell_type": "markdown",
   "metadata": {
    "hidden": true
   },
   "source": [
    "#### Basic cleaned gene file\n",
    "This file will include information about chromosomes, start coordinates, end coordinates strand, gene id and gene name. It will be and perform calculations on gene coordinates. Kind of gff file easier to work with"
   ]
  },
  {
   "cell_type": "code",
   "execution_count": null,
   "metadata": {
    "ExecuteTime": {
     "end_time": "2019-03-06T09:12:21.090969Z",
     "start_time": "2019-03-06T09:08:42.985793Z"
    },
    "hidden": true
   },
   "outputs": [],
   "source": [
    "%%bash\n",
    "DATA='/home/jmurga/mkt/201902/rawData/dmel/annotations'\n",
    "GENES='/home/jmurga/mkt/201902/rawData/dmel/annotations/genes'\n",
    "touch ${DATA}/flybaseGenesCleaned.tab \n",
    "printf \"chr\\tstartGene\\tendGene\\tstrand\\tid\\tname\\n\" > ${DATA}/flybaseGenesCleaned.tab\n",
    "\n",
    "time while read LINE;\n",
    "do \n",
    "    CHR=$(echo ${LINE} | cut -d' ' -f1)\n",
    "    GENE=$(echo ${LINE} | cut -d' ' -f2 | sed 's/-cds//g')\n",
    "    # echo $GENE\n",
    "\n",
    "    fgrep `echo \"${GENE};\"`  ${GENES}/dmelFilteredGenesChr${CHR}.gff3 | fgrep ${CHR} |  cut -f1,4,5,7,9 | tr ';' '\\t' | cut -f1,2,3,4,5,6 \n",
    "    \n",
    "done < ${DATA}/codingGeneList.txt | tr ' ' '\\t' | sed 's/ID=//g' | sed 's/Name=//g' | sort -k1,1 -k2,2n >> ${DATA}/flybaseGenesCleaned.tab"
   ]
  },
  {
   "cell_type": "code",
   "execution_count": 8,
   "metadata": {
    "ExecuteTime": {
     "end_time": "2019-03-07T11:54:49.636712Z",
     "start_time": "2019-03-07T11:54:49.530154Z"
    },
    "hidden": true
   },
   "outputs": [
    {
     "data": {
      "text/html": [
       "<div>\n",
       "<style scoped>\n",
       "    .dataframe tbody tr th:only-of-type {\n",
       "        vertical-align: middle;\n",
       "    }\n",
       "\n",
       "    .dataframe tbody tr th {\n",
       "        vertical-align: top;\n",
       "    }\n",
       "\n",
       "    .dataframe thead th {\n",
       "        text-align: right;\n",
       "    }\n",
       "</style>\n",
       "<table border=\"1\" class=\"dataframe\">\n",
       "  <thead>\n",
       "    <tr style=\"text-align: right;\">\n",
       "      <th></th>\n",
       "      <th>chr</th>\n",
       "      <th>startGene</th>\n",
       "      <th>endGene</th>\n",
       "      <th>strand</th>\n",
       "      <th>id</th>\n",
       "      <th>name</th>\n",
       "    </tr>\n",
       "  </thead>\n",
       "  <tbody>\n",
       "    <tr>\n",
       "      <th>0</th>\n",
       "      <td>2L</td>\n",
       "      <td>7529</td>\n",
       "      <td>9484</td>\n",
       "      <td>+</td>\n",
       "      <td>FBgn0031208</td>\n",
       "      <td>CG11023</td>\n",
       "    </tr>\n",
       "    <tr>\n",
       "      <th>1</th>\n",
       "      <td>2L</td>\n",
       "      <td>9839</td>\n",
       "      <td>21376</td>\n",
       "      <td>-</td>\n",
       "      <td>FBgn0002121</td>\n",
       "      <td>l(2)gl</td>\n",
       "    </tr>\n",
       "    <tr>\n",
       "      <th>2</th>\n",
       "      <td>2L</td>\n",
       "      <td>21823</td>\n",
       "      <td>25155</td>\n",
       "      <td>-</td>\n",
       "      <td>FBgn0031209</td>\n",
       "      <td>Ir21a</td>\n",
       "    </tr>\n",
       "    <tr>\n",
       "      <th>3</th>\n",
       "      <td>2L</td>\n",
       "      <td>25402</td>\n",
       "      <td>65404</td>\n",
       "      <td>-</td>\n",
       "      <td>FBgn0051973</td>\n",
       "      <td>Cda5</td>\n",
       "    </tr>\n",
       "    <tr>\n",
       "      <th>4</th>\n",
       "      <td>2L</td>\n",
       "      <td>66482</td>\n",
       "      <td>71390</td>\n",
       "      <td>+</td>\n",
       "      <td>FBgn0067779</td>\n",
       "      <td>dbr</td>\n",
       "    </tr>\n",
       "  </tbody>\n",
       "</table>\n",
       "</div>"
      ],
      "text/plain": [
       "  chr  startGene  endGene strand           id     name\n",
       "0  2L       7529     9484      +  FBgn0031208  CG11023\n",
       "1  2L       9839    21376      -  FBgn0002121   l(2)gl\n",
       "2  2L      21823    25155      -  FBgn0031209    Ir21a\n",
       "3  2L      25402    65404      -  FBgn0051973     Cda5\n",
       "4  2L      66482    71390      +  FBgn0067779      dbr"
      ]
     },
     "execution_count": 8,
     "metadata": {},
     "output_type": "execute_result"
    }
   ],
   "source": [
    "dfGenes = pd.read_csv(DATA + '/annotations/flybaseGenesCleaned.tab',header = 0,sep='\\t')\n",
    "dfGenes.head()"
   ]
  },
  {
   "cell_type": "markdown",
   "metadata": {
    "ExecuteTime": {
     "end_time": "2019-01-29T15:16:03.643881Z",
     "start_time": "2019-01-29T15:16:03.602413Z"
    },
    "hidden": true
   },
   "source": [
    "File to merge features annotated with gene name instead of gene id"
   ]
  },
  {
   "cell_type": "code",
   "execution_count": null,
   "metadata": {
    "ExecuteTime": {
     "end_time": "2019-03-06T09:14:26.430030Z",
     "start_time": "2019-03-06T09:14:26.385073Z"
    },
    "hidden": true
   },
   "outputs": [],
   "source": [
    "idName = dfGenes[['id','name']]\n",
    "idName.to_csv(DATA + '/annotations/idName.tab',sep='\\t',index=False,header=True)"
   ]
  },
  {
   "cell_type": "markdown",
   "metadata": {
    "heading_collapsed": true
   },
   "source": [
    "### CDS *D. melanogaster* degenerancy "
   ]
  },
  {
   "cell_type": "markdown",
   "metadata": {
    "hidden": true
   },
   "source": [
    "#### Raw cds coordinates"
   ]
  },
  {
   "cell_type": "code",
   "execution_count": null,
   "metadata": {
    "ExecuteTime": {
     "end_time": "2019-03-06T09:14:47.951878Z",
     "start_time": "2019-03-06T09:14:42.331983Z"
    },
    "code_folding": [],
    "hidden": true
   },
   "outputs": [],
   "source": [
    "%%bash\n",
    "DATA='/home/jmurga/mkt/201902/rawData/dmel/annotations'\n",
    "CDS='/home/jmurga/mkt/201902/rawData/dmel/annotations/cds'\n",
    "TEMPORAL='/home/jmurga/mkt/201902/rawData/dmel/annotations/tmp'\n",
    "\n",
    "touch ${DATA}/cdsCoordinates.tab\n",
    "printf \"name\\tchr\\ttranscript\\ttranscriptSize\\tcoordinates\\n\" > ${DATA}/cdsCoordinates.tab\n",
    "\n",
    "count=0\n",
    "time tail -n+2 ${DATA}/flybaseGenesCleaned.tab | while read LINE;\n",
    "do \n",
    "    echo '*************'    \n",
    "    CHR=$(echo ${LINE} | cut -d' ' -f1)\n",
    "    GENE=$(echo ${LINE} | cut -d' ' -f6)\n",
    "    \n",
    "    printf \"${GENE} ${CHR}\"\n",
    "    \n",
    "    fgrep `echo \"Name=${GENE}-cds;\"` ${CDS}/dmelFilteredCdsChr${CHR}.gff3 | grep -P \"${CHR}\\t\" | cut -f9 | tr ';' '\\n' | fgrep Parent | sort -u | tr ',' '\\n' | cut -d'=' -f2 | sort -u > ${TEMPORAL}/transcriptTmp.tab\n",
    "\n",
    "    while read transcript; do fgrep ${transcript} ${CDS}/dmelFilteredCdsChr${CHR}.gff3 | awk '{print $4,$5,$5-$4}' | awk -v gene=\"${GENE}\" -v chr=\"${CHR}\" -v transcript=\"$transcript\" '{sum+=$1} {printf $1\",\"$2\",\"} END{print \"\\t\"gene\"\\t\"chr\"\\t\"transcript\"\\t\"sum}' | awk '{print $2,$3,$4,$5,$1}' | sed 's/,$//' |tr ' ' '\\t' >> ${DATA}/cdsCoordinates.tab ;done < ${TEMPORAL}/transcriptTmp.tab \n",
    "    \n",
    "    (( count++ ))\n",
    "\n",
    "done"
   ]
  },
  {
   "cell_type": "markdown",
   "metadata": {
    "heading_collapsed": true,
    "hidden": true
   },
   "source": [
    "#### Check degenerancy by position"
   ]
  },
  {
   "cell_type": "markdown",
   "metadata": {
    "hidden": true
   },
   "source": [
    "**Checking degenerancy by positions taking into account all transcripts and genes independently**  \n",
    "Recoding CDS sequences to get 0fold, 2fold, 3fold and 4fold positions by transcript and genes, in order to estimate frequencies and divergence by type of functional sites."
   ]
  },
  {
   "cell_type": "code",
   "execution_count": null,
   "metadata": {
    "hidden": true
   },
   "outputs": [],
   "source": [
    "sys.path.insert(0, SRC)\n",
    "from reverseComplement import reverseComplement\n",
    "from degenerancy import degenerate"
   ]
  },
  {
   "cell_type": "code",
   "execution_count": null,
   "metadata": {
    "hidden": true
   },
   "outputs": [],
   "source": [
    "dfGenes = pd.read_csv(DATA + '/annotations/flybaseGenesCleaned.tab',header = 0,usecols=['id','name','chr','strand'],sep='\\t')\n",
    "cds = pd.read_csv(DATA + '/annotations/cdsCoordinates.tab',header=0,sep='\\t')\n",
    "cds = pd.merge(cds, dfGenes,  how='inner', left_on=['chr','name'], right_on = ['chr','name'])"
   ]
  },
  {
   "cell_type": "code",
   "execution_count": null,
   "metadata": {
    "hidden": true
   },
   "outputs": [],
   "source": [
    "# Rewrite file each execution\n",
    "total = []\n",
    "chrNumber = cds['chr'].unique()\n",
    "import time\n",
    "for j in chrNumber:\n",
    "    start_time = time.time()\n",
    "    degeneratePositions = pd.DataFrame()\n",
    "    print(j)\n",
    "    for index, row in cds[cds['chr']==j].iterrows():\n",
    "#         print(index,row['id'])\n",
    "        chrFile = Fasta(DATA + '/fastas/ref/Chr' + row['chr'] +'.fasta')\n",
    "        # Convert CDS list into numeric array\n",
    "        coordinates = array(row['coordinates'].split(',')).astype(int).tolist()\n",
    "        coordinates =  [coordinates[i:i+2] for i in range(0, len(coordinates), 2)]\n",
    "        # Extract all CDS positions in a list in order to merge with degenerate sequences (same length -> same index)\n",
    "        positions=[]\n",
    "        for i in range(0,len(coordinates),1):\n",
    "            positions.append(list(range(coordinates[i][0],coordinates[i][1]+1)))  \n",
    "        allPositions = [item for sublist in positions for item in sublist]\n",
    "        # Extract cds sequences\n",
    "        seq = chrFile.get_spliced_seq(row['chr'].replace('chr',''), coordinates).seq.upper()\n",
    "    #     print(len(seq))\n",
    "        if(row['strand'] == '-'):\n",
    "            seq = reverseComplement(seq)\n",
    "            allPositions = allPositions[::-1]\n",
    "        if((len(seq)/3).is_integer() and seq[0:3]=='ATG'):\n",
    "            m = degenerate(seq)\n",
    "            degenerateDF = pd.DataFrame({'m':list(m),'POS':allPositions})\n",
    "            degeneratePositions = pd.concat([degeneratePositions,degenerateDF])\n",
    "    total.append(degeneratePositions)\n",
    "    print(\"--- %s seconds ---\" % (time.time() - start_time))"
   ]
  },
  {
   "cell_type": "code",
   "execution_count": null,
   "metadata": {
    "hidden": true
   },
   "outputs": [],
   "source": [
    "for i in range(0,len(total),1): \n",
    "    print(i)\n",
    "    tmp = total[i].groupby(['chr','POS'])['m'].apply(lambda x: ','.join(x)).reset_index()\n",
    "    tmp.to_csv('/home/jmurga/mkt/201902/rawData/dmel/annotations/degeneracyDmelPositions.tab',mode='a',index=False,sep='\\t')"
   ]
  },
  {
   "cell_type": "markdown",
   "metadata": {
    "hidden": true
   },
   "source": [
    "Cleaning positions degenerancy based on most constrain posibility"
   ]
  },
  {
   "cell_type": "code",
   "execution_count": null,
   "metadata": {
    "hidden": true
   },
   "outputs": [],
   "source": [
    "degeneracyPositions = pd.read_csv('/home/jmurga/mkt/201902/rawData/dmel/annotations/degeneracyDmelPositions.tab',sep='\\t',header=0)\n",
    "degeneracyPositions['newType'] = np.nan"
   ]
  },
  {
   "cell_type": "code",
   "execution_count": null,
   "metadata": {
    "hidden": true
   },
   "outputs": [],
   "source": [
    "degeneracyPositions['newType'] = degeneracyPositions['type'].apply(foldPositions)"
   ]
  },
  {
   "cell_type": "code",
   "execution_count": null,
   "metadata": {
    "hidden": true
   },
   "outputs": [],
   "source": [
    "df = degeneracyPositions[(degeneracyPositions['newType']=='0fold') | (degeneracyPositions['newType']=='4fold')]"
   ]
  },
  {
   "cell_type": "code",
   "execution_count": null,
   "metadata": {
    "hidden": true
   },
   "outputs": [],
   "source": [
    "df.to_csv('/home/jmurga/positiveSelectionHuman/201901/rawData/dmel/zeroFourFoldPositions.tab',header=True,index=False,sep='\\t')"
   ]
  },
  {
   "cell_type": "markdown",
   "metadata": {
    "heading_collapsed": true,
    "hidden": true
   },
   "source": [
    "#### Undetermined nucleotide distributions by cds position"
   ]
  },
  {
   "cell_type": "code",
   "execution_count": null,
   "metadata": {
    "hidden": true
   },
   "outputs": [],
   "source": [
    "dfGenes = pd.read_csv(DATA + '/annotations/flybaseGenesCleaned.tab',header = 0,sep='\\t')\n",
    "cds = pd.read_csv(DATA + '/annotations/cdsCoordinates.tab',header = 0,sep='\\t')\n",
    "cds = pd.merge(cds, dfGenes,  how='inner', left_on=['chr','name'], right_on = ['chr','name'])\n",
    "cds = cds.loc[cds.reset_index().groupby(['chr','id'])['transcriptSize'].idxmax()].reset_index(drop=True)"
   ]
  },
  {
   "cell_type": "markdown",
   "metadata": {
    "hidden": true
   },
   "source": [
    "Raleigh"
   ]
  },
  {
   "cell_type": "code",
   "execution_count": null,
   "metadata": {
    "hidden": true
   },
   "outputs": [],
   "source": [
    "nDistribution(cds,'RAL')"
   ]
  },
  {
   "cell_type": "markdown",
   "metadata": {
    "ExecuteTime": {
     "end_time": "2019-03-07T11:34:47.291918Z",
     "start_time": "2019-03-07T11:34:47.007492Z"
    },
    "hidden": true
   },
   "source": [
    "Zambia"
   ]
  },
  {
   "cell_type": "code",
   "execution_count": null,
   "metadata": {
    "hidden": true
   },
   "outputs": [],
   "source": [
    "nDistribution(cds,'ZI')"
   ]
  },
  {
   "cell_type": "markdown",
   "metadata": {
    "hidden": true
   },
   "source": [
    "Retrieve by population the number of N"
   ]
  },
  {
   "cell_type": "code",
   "execution_count": null,
   "metadata": {
    "hidden": true
   },
   "outputs": [],
   "source": [
    "for pop in ['RAL','ZI']:\n",
    "    print(pop)\n",
    "    \n",
    "    df = pd.read_csv(DATA + '/nCall/ncall' + pop + '.tab',sep='\\t',header=None)\n",
    "    nCalls = df[0].value_counts().reset_index()\n",
    "    \n",
    "    nCalls = pd.DataFrame(nCalls)\n",
    "    nCalls = nCalls.sort_values('index')\n",
    "    \n",
    "    nCalls['freq'] = nCalls[0].apply(lambda x: x/sum(nCalls[0])*100)\n",
    "    \n",
    "    nCalls.columns = ['positions','count','freq']\n",
    "    nCalls.to_csv(DATA + '/nCall/' + pop + 'DistributionN.tab',sep='\\t',header=True,index=False)"
   ]
  },
  {
   "cell_type": "markdown",
   "metadata": {
    "heading_collapsed": true
   },
   "source": [
    "### Extracting Derived Allele Frequency and Divergence by population and type of site"
   ]
  },
  {
   "cell_type": "markdown",
   "metadata": {
    "hidden": true
   },
   "source": [
    "Opening cdsCoordinates file to extract fasta sequence using pyfaidx"
   ]
  },
  {
   "cell_type": "code",
   "execution_count": 2,
   "metadata": {
    "ExecuteTime": {
     "end_time": "2019-03-07T11:49:30.496018Z",
     "start_time": "2019-03-07T11:49:29.709496Z"
    },
    "hidden": true
   },
   "outputs": [
    {
     "name": "stdout",
     "output_type": "stream",
     "text": [
      "usage: sfsDivergence.py [-h] --genes GENES --cds CDS --outgroup {dsim,dyak}\r\n",
      "                        --population POPULATION --sampling SAMPLING\r\n",
      "                        [--seed SEED] [--path PATH]\r\n",
      "\r\n",
      "Extract alleles frequencies from multi-FASTA aligment\r\n",
      "\r\n",
      "optional arguments:\r\n",
      "  -h, --help            show this help message and exit\r\n",
      "  --genes GENES         File basic gene information.\r\n",
      "  --cds CDS             File all transcript coordinates by genes.\r\n",
      "  --outgroup {dsim,dyak}\r\n",
      "                        Select outgroup to compute diverenge and derived\r\n",
      "                        allele frequency\r\n",
      "  --population POPULATION\r\n",
      "                        Select population to extract\r\n",
      "  --sampling SAMPLING   Resampling size\r\n",
      "  --seed SEED           Input seed\r\n",
      "  --path PATH           Path to output file\r\n"
     ]
    }
   ],
   "source": [
    "!python /home/jmurga/mkt/201902/scripts/src/sfsDivergence.py --help"
   ]
  },
  {
   "cell_type": "markdown",
   "metadata": {
    "hidden": true
   },
   "source": [
    "#### Raleigh population"
   ]
  },
  {
   "cell_type": "code",
   "execution_count": null,
   "metadata": {
    "ExecuteTime": {
     "end_time": "2019-02-28T13:56:02.032818Z",
     "start_time": "2019-02-28T13:55:55.955286Z"
    },
    "hidden": true
   },
   "outputs": [],
   "source": [
    "!python /home/jmurga/mkt/201902/scripts/src/sfsDivergence.py --genes flybaseGenesCleaned.tab --cds cdsCoordinates.tab --population RAL --sampling 160 --outgroup dsim"
   ]
  },
  {
   "cell_type": "markdown",
   "metadata": {
    "hidden": true
   },
   "source": [
    "#### Zambia population"
   ]
  },
  {
   "cell_type": "code",
   "execution_count": null,
   "metadata": {
    "hidden": true
   },
   "outputs": [],
   "source": [
    "!python /home/jmurga/mkt/201902/scripts/src/sfsDivergence.py --genes flybaseGenesCleaned.tab --cds cdsCoordinates.tab --population ZI --sampling 154 --outgroup dsim"
   ]
  },
  {
   "cell_type": "markdown",
   "metadata": {
    "heading_collapsed": true
   },
   "source": [
    "### Estimating metrics"
   ]
  },
  {
   "cell_type": "markdown",
   "metadata": {
    "heading_collapsed": true,
    "hidden": true
   },
   "source": [
    "#### Extracting mi and m0"
   ]
  },
  {
   "cell_type": "code",
   "execution_count": null,
   "metadata": {
    "hidden": true
   },
   "outputs": [],
   "source": [
    "dfGenes = pd.read_csv('/home/jmurga/mkt/201902/rawData/dmel/annotations/flybaseGenesCleaned.tab',header = 0,usecols=['id','name','chr','strand'],sep='\\t')\n",
    "cds = pd.read_csv('/home/jmurga/mkt/201902/rawData/dmel/annotations/cdsLargest.tab',header=0,sep='\\t')\n",
    "cds = pd.merge(cds, dfGenes,  how='inner', left_on=['chr','name'], right_on = ['chr','name'])\n",
    "degeneratePositions = pd.read_csv('/home/jmurga/mkt/201902/rawData/dmel/annotations/zeroFourFoldPositions.tab',header=0,sep='\\t')"
   ]
  },
  {
   "cell_type": "code",
   "execution_count": null,
   "metadata": {
    "code_folding": [],
    "hidden": true
   },
   "outputs": [],
   "source": [
    "# Rewrite file each execution\n",
    "columns = ['id','mi','m0']\n",
    "totalFoldPositions = pd.DataFrame(columns=columns)\n",
    "for j in cds['chr'].unique():\n",
    "    print(j)\n",
    "    chrPositions = degeneratePositions[degeneratePositions['chr']==j]\n",
    "    for index, row in cds[cds['chr']==j].iterrows():\n",
    "#     for index, row in cds[cds['id']=='FBgn0000017'].iterrows():\n",
    "        print(index,row['id'])\n",
    "        chrFile = Fasta('/home/jmurga/positiveSelectionHuman/201901/rawData/dmel/refFastas/' + row['chr'] +'.fa')\n",
    "    #     Convert CDS list into numeric array\n",
    "        coordinates = array(row['coordinates'].split(',')).astype(int).tolist()\n",
    "        coordinates =  [coordinates[i:i+2] for i in range(0, len(coordinates), 2)]\n",
    "        # Extract all CDS positions in a list in order to merge with degenerate sequences (same length -> same index)\n",
    "        positions=[]\n",
    "        for i in range(0,len(coordinates),1):\n",
    "            positions.append(list(range(coordinates[i][0],coordinates[i][1]+1)))  \n",
    "        allPositions = [item for sublist in positions for item in sublist]\n",
    "        # Extract cds sequences\n",
    "        seq = chrFile.get_spliced_seq(row['chr'].replace('chr',''), coordinates).seq.upper()\n",
    "    #     print(len(seq))\n",
    "        if(row['strand'] == '-'):\n",
    "            seq = reverseComplement(seq)\n",
    "            allPositions = allPositions[::-1]\n",
    "        if((len(seq)/3).is_integer() and seq[0:3]=='ATG'):\n",
    "            m = degenerate(seq)\n",
    "            tmp = pd.DataFrame({'POS':allPositions,'m':list(m)})\n",
    "            tmp['chr']=row['chr']\n",
    "            tmp = pd.merge(chrPositions,tmp,on=['chr','POS'],how='right')              \n",
    "            tmp['m']=tmp.apply(lambda x: '0' if x['newType']=='0fold' else '4' if x['newType']=='4fold' else x['m'],axis=1)\n",
    "            counts = tmp['m'].value_counts()\n",
    "            if(counts.shape[0]<4 or '4' not in counts.index):\n",
    "                m0=0\n",
    "                mi=counts['0']\n",
    "            else:\n",
    "                m0=counts['4']\n",
    "                mi=counts['0']\n",
    "            data = pd.DataFrame({'id':row['id'],'mi':mi,'m0':m0},index=[0])\n",
    "            data.to_csv('/home/jmurga/mkt/201902/rawData/refAnalyzableSites2.tab',sep='\\t',header=False,mode='a',index=False)\n",
    "#             totalFoldPositions = totalFoldPositions.append(data,ignore_index=True)\n",
    "        else:\n",
    "            data = pd.DataFrame({'id':row['id'],'mi':0,'m0':0},index=[0])\n",
    "            data.to_csv('/home/jmurga/mkt/201902/rawData/refAnalyzableSites2.tab',sep='\\t',header=False,mode='a',index=False)\n",
    "#             totalFoldPositions = totalFoldPositions.append(data,ignore_index=True)"
   ]
  },
  {
   "cell_type": "markdown",
   "metadata": {
    "heading_collapsed": true,
    "hidden": true
   },
   "source": [
    "#### Extract by population Derived Allele Frequency and Divergence in a file to format by functional class and populations"
   ]
  },
  {
   "cell_type": "code",
   "execution_count": 7,
   "metadata": {
    "ExecuteTime": {
     "end_time": "2019-03-07T11:54:41.820172Z",
     "start_time": "2019-03-07T11:50:57.606316Z"
    },
    "hidden": true
   },
   "outputs": [
    {
     "name": "stdout",
     "output_type": "stream",
     "text": [
      "RAL\n",
      "ZI\n"
     ]
    }
   ],
   "source": [
    "pops=['RAL','ZI']\n",
    "\n",
    "for p in pops:\n",
    "    print(p)\n",
    "    \n",
    "    fourFold = pd.read_csv(DATA + '/alleleFrequencies/' + p + 'FourFold.tab',sep='\\t',header=None)\n",
    "    fourFold['pop'] = p\n",
    "    fourFold.to_csv(DATA+ '/alleleFrequencies/dmelSites.tab',sep='\\t',index=False,header=False,mode='a')\n",
    "    \n",
    "    zeroFold = pd.read_csv(DATA + '/alleleFrequencies/' + p + 'ZeroFold.tab',sep='\\t',header=None)\n",
    "    zeroFold['pop'] = p\n",
    "    zeroFold.to_csv(DATA+ '/alleleFrequencies/dmelSites.tab',sep='\\t',index=False,header=False,mode='a')"
   ]
  },
  {
   "cell_type": "code",
   "execution_count": 9,
   "metadata": {
    "ExecuteTime": {
     "end_time": "2019-03-07T11:56:16.754707Z",
     "start_time": "2019-03-07T11:55:42.056041Z"
    },
    "hidden": true
   },
   "outputs": [],
   "source": [
    "dmelSites = pd.read_csv(DATA+ '/alleleFrequencies/dmelSites.tab', sep='\\t', header=0)\n",
    "dmelSites.columns = ['id','POS','rawDerivedAllele','div','type','CHROM','pop']"
   ]
  },
  {
   "cell_type": "markdown",
   "metadata": {
    "hidden": true
   },
   "source": [
    "#### Divergence"
   ]
  },
  {
   "cell_type": "code",
   "execution_count": 10,
   "metadata": {
    "ExecuteTime": {
     "end_time": "2019-03-07T11:56:25.425573Z",
     "start_time": "2019-03-07T11:56:16.890308Z"
    },
    "hidden": true
   },
   "outputs": [],
   "source": [
    "div = dmelSites.groupby(['id','type','pop'])['div'].sum().reset_index()\n",
    "div = div.pivot_table(index=['id','pop'],columns=['type'],values='div').reset_index()\n",
    "div.columns = ['id','pop','di','d0']"
   ]
  },
  {
   "cell_type": "code",
   "execution_count": 11,
   "metadata": {
    "ExecuteTime": {
     "end_time": "2019-03-07T11:56:25.586970Z",
     "start_time": "2019-03-07T11:56:25.574822Z"
    },
    "hidden": true
   },
   "outputs": [
    {
     "data": {
      "text/html": [
       "<div>\n",
       "<style scoped>\n",
       "    .dataframe tbody tr th:only-of-type {\n",
       "        vertical-align: middle;\n",
       "    }\n",
       "\n",
       "    .dataframe tbody tr th {\n",
       "        vertical-align: top;\n",
       "    }\n",
       "\n",
       "    .dataframe thead th {\n",
       "        text-align: right;\n",
       "    }\n",
       "</style>\n",
       "<table border=\"1\" class=\"dataframe\">\n",
       "  <thead>\n",
       "    <tr style=\"text-align: right;\">\n",
       "      <th></th>\n",
       "      <th>id</th>\n",
       "      <th>pop</th>\n",
       "      <th>di</th>\n",
       "      <th>d0</th>\n",
       "    </tr>\n",
       "  </thead>\n",
       "  <tbody>\n",
       "    <tr>\n",
       "      <th>0</th>\n",
       "      <td>FBgn0000008</td>\n",
       "      <td>RAL</td>\n",
       "      <td>26.0</td>\n",
       "      <td>31.0</td>\n",
       "    </tr>\n",
       "    <tr>\n",
       "      <th>1</th>\n",
       "      <td>FBgn0000008</td>\n",
       "      <td>ZI</td>\n",
       "      <td>25.0</td>\n",
       "      <td>32.0</td>\n",
       "    </tr>\n",
       "    <tr>\n",
       "      <th>2</th>\n",
       "      <td>FBgn0000014</td>\n",
       "      <td>RAL</td>\n",
       "      <td>1.0</td>\n",
       "      <td>20.0</td>\n",
       "    </tr>\n",
       "    <tr>\n",
       "      <th>3</th>\n",
       "      <td>FBgn0000014</td>\n",
       "      <td>ZI</td>\n",
       "      <td>1.0</td>\n",
       "      <td>18.0</td>\n",
       "    </tr>\n",
       "    <tr>\n",
       "      <th>4</th>\n",
       "      <td>FBgn0000015</td>\n",
       "      <td>RAL</td>\n",
       "      <td>0.0</td>\n",
       "      <td>3.0</td>\n",
       "    </tr>\n",
       "  </tbody>\n",
       "</table>\n",
       "</div>"
      ],
      "text/plain": [
       "            id  pop    di    d0\n",
       "0  FBgn0000008  RAL  26.0  31.0\n",
       "1  FBgn0000008   ZI  25.0  32.0\n",
       "2  FBgn0000014  RAL   1.0  20.0\n",
       "3  FBgn0000014   ZI   1.0  18.0\n",
       "4  FBgn0000015  RAL   0.0   3.0"
      ]
     },
     "execution_count": 11,
     "metadata": {},
     "output_type": "execute_result"
    }
   ],
   "source": [
    "div.head()"
   ]
  },
  {
   "cell_type": "markdown",
   "metadata": {
    "hidden": true
   },
   "source": [
    "#### Derived Allele Frequency"
   ]
  },
  {
   "cell_type": "code",
   "execution_count": 12,
   "metadata": {
    "ExecuteTime": {
     "end_time": "2019-03-07T11:57:39.214684Z",
     "start_time": "2019-03-07T11:57:10.131525Z"
    },
    "hidden": true
   },
   "outputs": [],
   "source": [
    "daf = dmelSites[['id','rawDerivedAllele','type','pop']][dmelSites['rawDerivedAllele']!=0]\n",
    "\n",
    "bins = np.arange(0,1.05,0.05)\n",
    "labels = [0.05,0.1,0.15,0.2,0.25,0.3,0.35,0.4,0.45,0.5,0.55,0.6,0.65,0.7,0.75,0.8,0.85,0.9,0.95,1]\n",
    "\n",
    "daf['categories'] = pd.cut(daf['rawDerivedAllele'],bins=bins,labels=labels)\n",
    "\n",
    "sfs = daf.groupby(['id','type','categories','pop']).count().reset_index()\n",
    "sfs['rawDerivedAllele'] = sfs['rawDerivedAllele'].fillna(0).astype(int)\n",
    "sfs = sfs.groupby(['id','pop','type'])['rawDerivedAllele'].apply(list).reset_index()\n",
    "\n",
    "sfs = sfs.pivot_table(index=['id','pop'], columns=['type'],values='rawDerivedAllele',aggfunc=lambda x:x).reset_index()\n",
    "sfs['p0'] = sfs['4fold'].apply(lambda x: sum(x))\n",
    "sfs['pi'] = sfs['0fold'].apply(lambda x: sum(x))\n",
    "\n",
    "sfs['0fold'] = sfs['0fold'].apply(lambda x:';'.join(map(str,x)))\n",
    "sfs['4fold'] = sfs['4fold'].apply(lambda x:';'.join(map(str,x)))\n",
    "\n",
    "sfs.columns = ['id','pop','DAF0f','DAF4f','p0','pi']"
   ]
  },
  {
   "cell_type": "code",
   "execution_count": 13,
   "metadata": {
    "ExecuteTime": {
     "end_time": "2019-03-07T11:57:39.458640Z",
     "start_time": "2019-03-07T11:57:39.420771Z"
    },
    "hidden": true
   },
   "outputs": [],
   "source": [
    "mktData = pd.merge(sfs,div,on=['id','pop'],how='outer')"
   ]
  },
  {
   "cell_type": "code",
   "execution_count": 14,
   "metadata": {
    "ExecuteTime": {
     "end_time": "2019-03-07T11:57:39.717314Z",
     "start_time": "2019-03-07T11:57:39.700047Z"
    },
    "hidden": true
   },
   "outputs": [
    {
     "data": {
      "text/html": [
       "<div>\n",
       "<style scoped>\n",
       "    .dataframe tbody tr th:only-of-type {\n",
       "        vertical-align: middle;\n",
       "    }\n",
       "\n",
       "    .dataframe tbody tr th {\n",
       "        vertical-align: top;\n",
       "    }\n",
       "\n",
       "    .dataframe thead th {\n",
       "        text-align: right;\n",
       "    }\n",
       "</style>\n",
       "<table border=\"1\" class=\"dataframe\">\n",
       "  <thead>\n",
       "    <tr style=\"text-align: right;\">\n",
       "      <th></th>\n",
       "      <th>id</th>\n",
       "      <th>pop</th>\n",
       "      <th>DAF0f</th>\n",
       "      <th>DAF4f</th>\n",
       "      <th>p0</th>\n",
       "      <th>pi</th>\n",
       "      <th>di</th>\n",
       "      <th>d0</th>\n",
       "    </tr>\n",
       "  </thead>\n",
       "  <tbody>\n",
       "    <tr>\n",
       "      <th>0</th>\n",
       "      <td>FBgn0000008</td>\n",
       "      <td>RAL</td>\n",
       "      <td>30;7;3;0;1;0;0;0;1;0;0;0;1;0;0;0;0;0;0;0</td>\n",
       "      <td>19;5;5;2;0;1;0;1;1;0;1;1;1;0;0;0;1;0;0;1</td>\n",
       "      <td>39.0</td>\n",
       "      <td>43.0</td>\n",
       "      <td>26.0</td>\n",
       "      <td>31.0</td>\n",
       "    </tr>\n",
       "    <tr>\n",
       "      <th>1</th>\n",
       "      <td>FBgn0000008</td>\n",
       "      <td>ZI</td>\n",
       "      <td>69;3;1;2;0;0;0;1;0;0;0;1;0;0;0;0;0;0;0;1</td>\n",
       "      <td>57;7;4;3;1;2;2;2;1;0;0;0;0;0;1;0;1;0;0;0</td>\n",
       "      <td>81.0</td>\n",
       "      <td>78.0</td>\n",
       "      <td>25.0</td>\n",
       "      <td>32.0</td>\n",
       "    </tr>\n",
       "    <tr>\n",
       "      <th>2</th>\n",
       "      <td>FBgn0000014</td>\n",
       "      <td>RAL</td>\n",
       "      <td>2;0;0;0;0;0;0;0;0;0;0;0;0;0;0;0;0;0;0;0</td>\n",
       "      <td>1;0;1;1;0;0;0;0;0;0;0;0;0;0;0;0;0;1;0;0</td>\n",
       "      <td>4.0</td>\n",
       "      <td>2.0</td>\n",
       "      <td>1.0</td>\n",
       "      <td>20.0</td>\n",
       "    </tr>\n",
       "    <tr>\n",
       "      <th>3</th>\n",
       "      <td>FBgn0000014</td>\n",
       "      <td>ZI</td>\n",
       "      <td>5;0;0;0;0;0;0;0;0;0;0;0;0;0;0;0;0;0;0;0</td>\n",
       "      <td>11;0;1;1;0;1;0;0;0;0;0;0;0;0;1;0;1;0;0;1</td>\n",
       "      <td>17.0</td>\n",
       "      <td>5.0</td>\n",
       "      <td>1.0</td>\n",
       "      <td>18.0</td>\n",
       "    </tr>\n",
       "    <tr>\n",
       "      <th>4</th>\n",
       "      <td>FBgn0000015</td>\n",
       "      <td>RAL</td>\n",
       "      <td>3;0;0;0;0;1;0;0;0;0;0;0;0;0;0;0;0;0;0;0</td>\n",
       "      <td>4;0;3;1;0;0;1;0;0;0;1;0;0;1;1;0;0;0;0;0</td>\n",
       "      <td>12.0</td>\n",
       "      <td>4.0</td>\n",
       "      <td>0.0</td>\n",
       "      <td>3.0</td>\n",
       "    </tr>\n",
       "  </tbody>\n",
       "</table>\n",
       "</div>"
      ],
      "text/plain": [
       "            id  pop                                     DAF0f  \\\n",
       "0  FBgn0000008  RAL  30;7;3;0;1;0;0;0;1;0;0;0;1;0;0;0;0;0;0;0   \n",
       "1  FBgn0000008   ZI  69;3;1;2;0;0;0;1;0;0;0;1;0;0;0;0;0;0;0;1   \n",
       "2  FBgn0000014  RAL   2;0;0;0;0;0;0;0;0;0;0;0;0;0;0;0;0;0;0;0   \n",
       "3  FBgn0000014   ZI   5;0;0;0;0;0;0;0;0;0;0;0;0;0;0;0;0;0;0;0   \n",
       "4  FBgn0000015  RAL   3;0;0;0;0;1;0;0;0;0;0;0;0;0;0;0;0;0;0;0   \n",
       "\n",
       "                                      DAF4f    p0    pi    di    d0  \n",
       "0  19;5;5;2;0;1;0;1;1;0;1;1;1;0;0;0;1;0;0;1  39.0  43.0  26.0  31.0  \n",
       "1  57;7;4;3;1;2;2;2;1;0;0;0;0;0;1;0;1;0;0;0  81.0  78.0  25.0  32.0  \n",
       "2   1;0;1;1;0;0;0;0;0;0;0;0;0;0;0;0;0;1;0;0   4.0   2.0   1.0  20.0  \n",
       "3  11;0;1;1;0;1;0;0;0;0;0;0;0;0;1;0;1;0;0;1  17.0   5.0   1.0  18.0  \n",
       "4   4;0;3;1;0;0;1;0;0;0;1;0;0;1;1;0;0;0;0;0  12.0   4.0   0.0   3.0  "
      ]
     },
     "execution_count": 14,
     "metadata": {},
     "output_type": "execute_result"
    }
   ],
   "source": [
    "mktData.head()"
   ]
  },
  {
   "cell_type": "code",
   "execution_count": 15,
   "metadata": {
    "ExecuteTime": {
     "end_time": "2019-03-07T11:57:40.017166Z",
     "start_time": "2019-03-07T11:57:39.953774Z"
    },
    "hidden": true
   },
   "outputs": [],
   "source": [
    "dfGenes = pd.read_csv(DATA + '/annotations/flybaseGenesCleaned.tab',sep='\\t',header=0)\n",
    "pops=['RAL','ZI']                                   \n",
    "genesByPop = pd.DataFrame()\n",
    "\n",
    "for p in pops:\n",
    "    \n",
    "    dfGenes['pop'] = p\n",
    "    genesByPop = genesByPop.append(dfGenes)\n",
    "    \n",
    "genesByPop = genesByPop.reset_index(drop=True)"
   ]
  },
  {
   "cell_type": "code",
   "execution_count": 16,
   "metadata": {
    "ExecuteTime": {
     "end_time": "2019-03-07T11:57:40.323489Z",
     "start_time": "2019-03-07T11:57:40.285627Z"
    },
    "hidden": true
   },
   "outputs": [
    {
     "name": "stdout",
     "output_type": "stream",
     "text": [
      "RAL\n",
      "ZI\n"
     ]
    }
   ],
   "source": [
    "pops=['RAL','ZI']                                   \n",
    "refAnalizableSites = pd.read_csv(DATA+'/refAnalyzableSites.tab',sep='\\t',header=0)\n",
    "\n",
    "totalFoldPositionsByPop = pd.DataFrame()\n",
    "for p in pops:\n",
    "    print(p)\n",
    "    refAnalizableSites['pop'] = p\n",
    "    \n",
    "    totalFoldPositionsByPop = totalFoldPositionsByPop.append(refAnalizableSites)\n",
    "\n",
    "totalFoldPositionsByPop = totalFoldPositionsByPop.reset_index(drop=True)"
   ]
  },
  {
   "cell_type": "code",
   "execution_count": 17,
   "metadata": {
    "ExecuteTime": {
     "end_time": "2019-03-07T11:57:40.659412Z",
     "start_time": "2019-03-07T11:57:40.629331Z"
    },
    "hidden": true
   },
   "outputs": [],
   "source": [
    "genesByPop = pd.merge(genesByPop,totalFoldPositionsByPop,on=['id','pop'],how='outer')"
   ]
  },
  {
   "cell_type": "code",
   "execution_count": 18,
   "metadata": {
    "ExecuteTime": {
     "end_time": "2019-03-07T11:57:41.180630Z",
     "start_time": "2019-03-07T11:57:40.970750Z"
    },
    "hidden": true
   },
   "outputs": [
    {
     "name": "stderr",
     "output_type": "stream",
     "text": [
      "/home/jmurga/.conda/envs/proteins/lib/python3.6/site-packages/pandas/core/indexing.py:543: SettingWithCopyWarning: \n",
      "A value is trying to be set on a copy of a slice from a DataFrame.\n",
      "Try using .loc[row_indexer,col_indexer] = value instead\n",
      "\n",
      "See the caveats in the documentation: http://pandas.pydata.org/pandas-docs/stable/indexing.html#indexing-view-versus-copy\n",
      "  self.obj[item] = s\n"
     ]
    }
   ],
   "source": [
    "mktData = pd.merge(mktData,genesByPop,on=['id','pop'],how='outer')\n",
    "mktData[mktData['DAF0f'].isna()].loc[:,'DAF0f'] = '0;0;0;0;0;0;0;0;0;0;0;0;0;0;0;0;0;0;0;0'\n",
    "mktData[mktData['DAF4f'].isna()].loc[:,'DAF4f'] = '0;0;0;0;0;0;0;0;0;0;0;0;0;0;0;0;0;0;0;0'\n",
    "mktData['DAF0f'] = mktData['DAF0f'].fillna('0;0;0;0;0;0;0;0;0;0;0;0;0;0;0;0;0;0;0;0')\n",
    "mktData['DAF4f'] = mktData['DAF4f'].fillna('0;0;0;0;0;0;0;0;0;0;0;0;0;0;0;0;0;0;0;0')\n",
    "mktData = mktData.fillna(0)"
   ]
  },
  {
   "cell_type": "code",
   "execution_count": 20,
   "metadata": {
    "ExecuteTime": {
     "end_time": "2019-03-07T11:57:59.823666Z",
     "start_time": "2019-03-07T11:57:59.755285Z"
    },
    "hidden": true
   },
   "outputs": [],
   "source": [
    "dfRecomb = pd.read_csv(DATA + '/genesRecombination.tab',sep='\\t')\n",
    "dfRecomb.columns = ['id','recomb']\n",
    "mktData = pd.merge(mktData,dfRecomb,on=['id'])"
   ]
  },
  {
   "cell_type": "code",
   "execution_count": 21,
   "metadata": {
    "ExecuteTime": {
     "end_time": "2019-03-07T11:58:04.464912Z",
     "start_time": "2019-03-07T11:58:04.432576Z"
    },
    "hidden": true
   },
   "outputs": [],
   "source": [
    "mktData.columns = ['Name', 'Pop', 'DAF0f', 'DAF4f', 'p0', 'pi', 'di', 'd0', 'chr','symbol','mi','m0','recomb']\n",
    "mktData = mktData[['Name', 'Pop', 'DAF0f', 'DAF4f', 'p0', 'pi', 'di', 'd0', 'chr','mi','m0','recomb']]"
   ]
  },
  {
   "cell_type": "code",
   "execution_count": 24,
   "metadata": {
    "ExecuteTime": {
     "end_time": "2019-03-07T11:58:32.896526Z",
     "start_time": "2019-03-07T11:58:32.863242Z"
    },
    "hidden": true
   },
   "outputs": [
    {
     "data": {
      "text/html": [
       "<div>\n",
       "<style scoped>\n",
       "    .dataframe tbody tr th:only-of-type {\n",
       "        vertical-align: middle;\n",
       "    }\n",
       "\n",
       "    .dataframe tbody tr th {\n",
       "        vertical-align: top;\n",
       "    }\n",
       "\n",
       "    .dataframe thead th {\n",
       "        text-align: right;\n",
       "    }\n",
       "</style>\n",
       "<table border=\"1\" class=\"dataframe\">\n",
       "  <thead>\n",
       "    <tr style=\"text-align: right;\">\n",
       "      <th></th>\n",
       "      <th>id</th>\n",
       "      <th>pop</th>\n",
       "      <th>DAF0f</th>\n",
       "      <th>DAF4f</th>\n",
       "      <th>p0</th>\n",
       "      <th>pi</th>\n",
       "      <th>di</th>\n",
       "      <th>d0</th>\n",
       "      <th>chr</th>\n",
       "      <th>name</th>\n",
       "      <th>mi</th>\n",
       "      <th>m0</th>\n",
       "      <th>recomb</th>\n",
       "    </tr>\n",
       "  </thead>\n",
       "  <tbody>\n",
       "    <tr>\n",
       "      <th>0</th>\n",
       "      <td>FBgn0000008</td>\n",
       "      <td>RAL</td>\n",
       "      <td>30;7;3;0;1;0;0;0;1;0;0;0;1;0;0;0;0;0;0;0</td>\n",
       "      <td>19;5;5;2;0;1;0;1;1;0;1;1;1;0;0;0;1;0;0;1</td>\n",
       "      <td>39.0</td>\n",
       "      <td>43.0</td>\n",
       "      <td>26.0</td>\n",
       "      <td>31.0</td>\n",
       "      <td>2R</td>\n",
       "      <td>a</td>\n",
       "      <td>2539</td>\n",
       "      <td>667</td>\n",
       "      <td>2.169284</td>\n",
       "    </tr>\n",
       "    <tr>\n",
       "      <th>1</th>\n",
       "      <td>FBgn0000008</td>\n",
       "      <td>ZI</td>\n",
       "      <td>69;3;1;2;0;0;0;1;0;0;0;1;0;0;0;0;0;0;0;1</td>\n",
       "      <td>57;7;4;3;1;2;2;2;1;0;0;0;0;0;1;0;1;0;0;0</td>\n",
       "      <td>81.0</td>\n",
       "      <td>78.0</td>\n",
       "      <td>25.0</td>\n",
       "      <td>32.0</td>\n",
       "      <td>2R</td>\n",
       "      <td>a</td>\n",
       "      <td>2539</td>\n",
       "      <td>667</td>\n",
       "      <td>2.169284</td>\n",
       "    </tr>\n",
       "    <tr>\n",
       "      <th>2</th>\n",
       "      <td>FBgn0000014</td>\n",
       "      <td>RAL</td>\n",
       "      <td>2;0;0;0;0;0;0;0;0;0;0;0;0;0;0;0;0;0;0;0</td>\n",
       "      <td>1;0;1;1;0;0;0;0;0;0;0;0;0;0;0;0;0;1;0;0</td>\n",
       "      <td>4.0</td>\n",
       "      <td>2.0</td>\n",
       "      <td>1.0</td>\n",
       "      <td>20.0</td>\n",
       "      <td>3R</td>\n",
       "      <td>abd-A</td>\n",
       "      <td>1516</td>\n",
       "      <td>0</td>\n",
       "      <td>0.761699</td>\n",
       "    </tr>\n",
       "    <tr>\n",
       "      <th>3</th>\n",
       "      <td>FBgn0000014</td>\n",
       "      <td>ZI</td>\n",
       "      <td>5;0;0;0;0;0;0;0;0;0;0;0;0;0;0;0;0;0;0;0</td>\n",
       "      <td>11;0;1;1;0;1;0;0;0;0;0;0;0;0;1;0;1;0;0;1</td>\n",
       "      <td>17.0</td>\n",
       "      <td>5.0</td>\n",
       "      <td>1.0</td>\n",
       "      <td>18.0</td>\n",
       "      <td>3R</td>\n",
       "      <td>abd-A</td>\n",
       "      <td>1516</td>\n",
       "      <td>0</td>\n",
       "      <td>0.761699</td>\n",
       "    </tr>\n",
       "    <tr>\n",
       "      <th>4</th>\n",
       "      <td>FBgn0000015</td>\n",
       "      <td>RAL</td>\n",
       "      <td>3;0;0;0;0;1;0;0;0;0;0;0;0;0;0;0;0;0;0;0</td>\n",
       "      <td>4;0;3;1;0;0;1;0;0;0;1;0;0;1;1;0;0;0;0;0</td>\n",
       "      <td>12.0</td>\n",
       "      <td>4.0</td>\n",
       "      <td>0.0</td>\n",
       "      <td>3.0</td>\n",
       "      <td>3R</td>\n",
       "      <td>Abd-B</td>\n",
       "      <td>1292</td>\n",
       "      <td>0</td>\n",
       "      <td>0.435257</td>\n",
       "    </tr>\n",
       "  </tbody>\n",
       "</table>\n",
       "</div>"
      ],
      "text/plain": [
       "            id  pop                                     DAF0f  \\\n",
       "0  FBgn0000008  RAL  30;7;3;0;1;0;0;0;1;0;0;0;1;0;0;0;0;0;0;0   \n",
       "1  FBgn0000008   ZI  69;3;1;2;0;0;0;1;0;0;0;1;0;0;0;0;0;0;0;1   \n",
       "2  FBgn0000014  RAL   2;0;0;0;0;0;0;0;0;0;0;0;0;0;0;0;0;0;0;0   \n",
       "3  FBgn0000014   ZI   5;0;0;0;0;0;0;0;0;0;0;0;0;0;0;0;0;0;0;0   \n",
       "4  FBgn0000015  RAL   3;0;0;0;0;1;0;0;0;0;0;0;0;0;0;0;0;0;0;0   \n",
       "\n",
       "                                      DAF4f    p0    pi    di    d0 chr  \\\n",
       "0  19;5;5;2;0;1;0;1;1;0;1;1;1;0;0;0;1;0;0;1  39.0  43.0  26.0  31.0  2R   \n",
       "1  57;7;4;3;1;2;2;2;1;0;0;0;0;0;1;0;1;0;0;0  81.0  78.0  25.0  32.0  2R   \n",
       "2   1;0;1;1;0;0;0;0;0;0;0;0;0;0;0;0;0;1;0;0   4.0   2.0   1.0  20.0  3R   \n",
       "3  11;0;1;1;0;1;0;0;0;0;0;0;0;0;1;0;1;0;0;1  17.0   5.0   1.0  18.0  3R   \n",
       "4   4;0;3;1;0;0;1;0;0;0;1;0;0;1;1;0;0;0;0;0  12.0   4.0   0.0   3.0  3R   \n",
       "\n",
       "    name    mi   m0    recomb  \n",
       "0      a  2539  667  2.169284  \n",
       "1      a  2539  667  2.169284  \n",
       "2  abd-A  1516    0  0.761699  \n",
       "3  abd-A  1516    0  0.761699  \n",
       "4  Abd-B  1292    0  0.435257  "
      ]
     },
     "execution_count": 24,
     "metadata": {},
     "output_type": "execute_result"
    }
   ],
   "source": [
    "mktData.head()"
   ]
  },
  {
   "cell_type": "code",
   "execution_count": 26,
   "metadata": {
    "ExecuteTime": {
     "end_time": "2019-03-07T11:58:58.528889Z",
     "start_time": "2019-03-07T11:58:58.082766Z"
    },
    "hidden": true
   },
   "outputs": [],
   "source": [
    "mktData.to_csv('/home/jmurga/mkt/201902/results/dmelData.tab',sep='\\t',header=True,index=False)"
   ]
  }
 ],
 "metadata": {
  "kernelspec": {
   "display_name": "Python 3",
   "language": "python",
   "name": "python3"
  },
  "language_info": {
   "codemirror_mode": {
    "name": "ipython",
    "version": 3
   },
   "file_extension": ".py",
   "mimetype": "text/x-python",
   "name": "python",
   "nbconvert_exporter": "python",
   "pygments_lexer": "ipython3",
   "version": "3.6.7"
  },
  "toc": {
   "base_numbering": 1,
   "nav_menu": {},
   "number_sections": true,
   "sideBar": true,
   "skip_h1_title": false,
   "title_cell": "Table of Contents",
   "title_sidebar": "Contents",
   "toc_cell": false,
   "toc_position": {
    "height": "calc(100% - 180px)",
    "left": "10px",
    "top": "150px",
    "width": "165px"
   },
   "toc_section_display": true,
   "toc_window_display": true
  },
  "varInspector": {
   "cols": {
    "lenName": 16,
    "lenType": 16,
    "lenVar": 40
   },
   "kernels_config": {
    "python": {
     "delete_cmd_postfix": "",
     "delete_cmd_prefix": "del ",
     "library": "var_list.py",
     "varRefreshCmd": "print(var_dic_list())"
    },
    "r": {
     "delete_cmd_postfix": ") ",
     "delete_cmd_prefix": "rm(",
     "library": "var_list.r",
     "varRefreshCmd": "cat(var_dic_list()) "
    }
   },
   "oldHeight": 122.85,
   "position": {
    "height": "307px",
    "left": "1010px",
    "right": "20px",
    "top": "120px",
    "width": "250px"
   },
   "types_to_exclude": [
    "module",
    "function",
    "builtin_function_or_method",
    "instance",
    "_Feature"
   ],
   "varInspector_section_display": "none",
   "window_display": false
  }
 },
 "nbformat": 4,
 "nbformat_minor": 2
}
