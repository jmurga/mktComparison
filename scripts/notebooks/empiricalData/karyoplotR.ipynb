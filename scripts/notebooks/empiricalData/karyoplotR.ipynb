{
 "cells": [
  {
   "cell_type": "code",
   "execution_count": null,
   "metadata": {},
   "outputs": [],
   "source": [
    "mktTableAfr = pd.read_csv(PATH + '/results/genes/mktTableAfr.tsv',sep='\\t')\n",
    "mktTableZi = pd.read_csv(PATH + '/results/genes/mktTableZi.tsv',sep='\\t')"
   ]
  },
  {
   "cell_type": "code",
   "execution_count": null,
   "metadata": {},
   "outputs": [],
   "source": [
    "library(biomaRt)\n",
    "library(regioneR)\n",
    "gene.symbols <- c(\"ENSG00000066735.14_3\",\"ENSG00000074370.17_3\",\"ENSG00000099866.14_3\",\"ENSG00000109501.13_4\",\"ENSG00000110427.14_3\",\"ENSG00000137411.16_3\",\"ENSG00000153531.13_3\",\"ENSG00000161847.13_3\",\"ENSG00000171105.13_3\",\"ENSG00000188112.8_3\")\n",
    "\n",
    "ensembl <- useEnsembl(biomart=\"ensembl\", dataset=\"hsapiens_gene_ensembl\")\n",
    "genes <- toGRanges(getBM(attributes=c('chromosome_name', 'start_position', 'end_position', 'hgnc_symbol'),\n",
    "               filters = 'hgnc_symbol', values =gene.symbols, mart = ensembl))\n",
    "seqlevelsStyle(genes) <- \"UCSC\"\n",
    "genesR\n"
   ]
  },
  {
   "cell_type": "code",
   "execution_count": null,
   "metadata": {},
   "outputs": [],
   "source": [
    "\n",
    "library(karyoploteR) \n",
    "kp <- plotKaryotype(genome=\"hg19\")\n",
    "kpPlotMarkers(kp, data=genes, labels=genes$hgnc_symbol)\n"
   ]
  }
 ],
 "metadata": {
  "kernelspec": {
   "display_name": "R",
   "language": "R",
   "name": "ir"
  },
  "language_info": {
   "codemirror_mode": "r",
   "file_extension": ".r",
   "mimetype": "text/x-r-source",
   "name": "R",
   "pygments_lexer": "r",
   "version": "4.0.2"
  }
 },
 "nbformat": 4,
 "nbformat_minor": 4
}
