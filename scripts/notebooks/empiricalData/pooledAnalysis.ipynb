{
 "cells": [
  {
   "cell_type": "markdown",
   "metadata": {},
   "source": [
    "Load libraries"
   ]
  },
  {
   "cell_type": "code",
   "execution_count": 11,
   "metadata": {},
   "outputs": [],
   "source": [
    "import numpy as np\n",
    "import pandas as pd\n",
    "import pickle as pkl\n",
    "import warnings\n",
    "from tqdm import tqdm\n",
    "\n",
    "PATH =  \"/home/jmurga/mkt/201902\"\n",
    "import sys\n",
    "sys.path.insert(0, PATH + '/scripts/src/')\n",
    "from mktAnalysis import *"
   ]
  },
  {
   "cell_type": "markdown",
   "metadata": {},
   "source": [
    "Load main data"
   ]
  },
  {
   "cell_type": "code",
   "execution_count": 2,
   "metadata": {},
   "outputs": [],
   "source": [
    "dmelDataset  = pd.read_csv(PATH + \"/results/dsimDmelSitesBinned.tsv\",sep='\\t')\n",
    "humanDataset = pd.read_csv(PATH + \"/results/afrEur.tsv\",sep='\\t')"
   ]
  },
  {
   "cell_type": "code",
   "execution_count": 3,
   "metadata": {},
   "outputs": [],
   "source": [
    "%load_ext rpy2.ipython"
   ]
  },
  {
   "cell_type": "markdown",
   "metadata": {
    "tags": []
   },
   "source": [
    "# Resampling analysis"
   ]
  },
  {
   "cell_type": "markdown",
   "metadata": {
    "heading_collapsed": "true",
    "tags": []
   },
   "source": [
    "## Zi"
   ]
  },
  {
   "cell_type": "code",
   "execution_count": null,
   "metadata": {},
   "outputs": [],
   "source": [
    "alphasZi = []\n",
    "binnedZi = []\n",
    "with warnings.catch_warnings():\n",
    "    warnings.simplefilter('ignore')\n",
    "    for i in tqdm(np.array([1,2,5,10,25,50,75,100,250,500,750,1000])):\n",
    "        a, b = sampleAnalysis(df = dmelDataset,population=\"ZI\",sample=i,replicas=1000,dofe=PATH + \"/rawData/dofe/pooled\",nthreads=20)\n",
    "        a['bins'] = i; b['bins'] = i\n",
    "        alphasZi.append(a)\n",
    "        binnedZi.append(b)\n",
    "alphasZi = pd.concat(alphasZi)\n",
    "binnedZi = pd.concat(binnedZi)"
   ]
  },
  {
   "cell_type": "code",
   "execution_count": null,
   "metadata": {},
   "outputs": [],
   "source": [
    "pkl.dump([alphasZi,binnedZi],open(PATH + \"/results/pooled/ziPooled.pkl\", \"wb\" ))"
   ]
  },
  {
   "cell_type": "markdown",
   "metadata": {},
   "source": [
    "Creating bootstrap analysis to test Grapes uncertainity"
   ]
  },
  {
   "cell_type": "code",
   "execution_count": null,
   "metadata": {},
   "outputs": [],
   "source": [
    "grapesBootstrap(bins = np.array([1,2,5,10,25,50,75,100,250,500,750,1000]), replicas = 100, path = PATH + \"/rawData/dofe/pooled/zi/\")"
   ]
  },
  {
   "cell_type": "markdown",
   "metadata": {},
   "source": [
    "**Execute grapes before continue**"
   ]
  },
  {
   "cell_type": "code",
   "execution_count": null,
   "metadata": {},
   "outputs": [],
   "source": [
    "df = list()\n",
    "for i in np.array([1,2,5,10,25,50,75,100,250,500,750,1000]):\n",
    "    tmp = grapesOutput(PATH + \"/rawData/dofe/pooled/zi/\"+str(i)+\"/bootstrap/\",\"GammaZero\",7)\n",
    "    tmp['bins'] = i\n",
    "    tmp['pop']  = 'ZI'\n",
    "    df.append(tmp)\n",
    "grapesZi = pd.concat(df)\n",
    "grapesZi.to_csv(PATH + \"/results/pooled/bootstrap/grapesBootstrapZi.tsv\",sep='\\t',index=False)"
   ]
  },
  {
   "cell_type": "markdown",
   "metadata": {
    "tags": []
   },
   "source": [
    "## Afr"
   ]
  },
  {
   "cell_type": "code",
   "execution_count": null,
   "metadata": {},
   "outputs": [],
   "source": [
    "alphasAfr = []\n",
    "binnedAfr = []\n",
    "with warnings.catch_warnings():\n",
    "    warnings.simplefilter('ignore')\n",
    "    for i in tqdm(np.array([1,2,5,10,25,50,75,100,250,500,750,1000,2500,5000])):\n",
    "        a, b = sampleAnalysis(df = humanDataset,population=\"AFR\",sample=i,replicas=1000,dofe=PATH + \"/rawData/dofe/pooled\",nthreads=20)\n",
    "        alphasAfr.append(a)\n",
    "        binnedAfr.append(b)\n",
    "alphasAfr = pd.concat(alphasAfr)\n",
    "binnedAfr = pd.concat(binnedAfr)"
   ]
  },
  {
   "cell_type": "code",
   "execution_count": null,
   "metadata": {},
   "outputs": [],
   "source": [
    "pkl.dump([alphasAfr,binnedAfr],open(PATH + \"/results/pooled/afrPooled.pkl\", \"wb\" ))"
   ]
  },
  {
   "cell_type": "markdown",
   "metadata": {},
   "source": [
    "Creating bootstrap analysis to test Grapes uncertainity"
   ]
  },
  {
   "cell_type": "code",
   "execution_count": null,
   "metadata": {},
   "outputs": [],
   "source": [
    "grapesBootstrap(bins = np.array([1,2,5,10,25,50,75,100,250,500,750,1000,2500,5000]), replicas = 100, path = PATH + \"/rawData/dofe/pooled/afr/\")"
   ]
  },
  {
   "cell_type": "markdown",
   "metadata": {},
   "source": [
    "**Execute grapes before continue**"
   ]
  },
  {
   "cell_type": "code",
   "execution_count": null,
   "metadata": {},
   "outputs": [],
   "source": [
    "df = list()\n",
    "for i in np.array([1,2,5,10,25,50,75,100,250,500,750,1000]):\n",
    "    tmp = grapesOutput(PATH + \"/rawData/dofe/pooled/afr/\"+str(i)+\"/bootstrap/\",\"GammaZero\",7)\n",
    "    tmp['bins'] = i\n",
    "    tmp['pop']  = 'AFR'\n",
    "    df.append(tmp)\n",
    "grapesAfr = pd.concat(df)\n",
    "grapesAfr.to_csv(PATH + \"/results/pooled/bootstrap/grapesBootstrapAfr.tsv\",sep='\\t',index=False)"
   ]
  },
  {
   "cell_type": "markdown",
   "metadata": {
    "heading_collapsed": "true",
    "tags": []
   },
   "source": [
    "## Eur"
   ]
  },
  {
   "cell_type": "code",
   "execution_count": null,
   "metadata": {},
   "outputs": [],
   "source": [
    "alphasEur = []\n",
    "binnedEur = []\n",
    "with warnings.catch_warnings():\n",
    "    warnings.simplefilter('ignore')\n",
    "    for i in tqdm(np.array([1,2,5,10,25,50,75,100,250,500,750,1000])):\n",
    "        a, b = sampleAnalysis(df = humanDataset,population=\"EUR\",sample=i,replicas=1000,dofe=PATH + \"/rawData/dofe/pooled\",nthreads=20)\n",
    "        alphasEur.append(a)\n",
    "        binnedEur.append(b)\n",
    "alphasEur = pd.concat(alphasEur)\n",
    "binnedEur = pd.concat(binnedEur)"
   ]
  },
  {
   "cell_type": "code",
   "execution_count": null,
   "metadata": {},
   "outputs": [],
   "source": [
    "pkl.dump([alphasEur,binnedEur],open(PATH + \"/results/pooled/eurPooled.pkl\", \"wb\" ))"
   ]
  },
  {
   "cell_type": "markdown",
   "metadata": {
    "heading_collapsed": "true",
    "hidden": true,
    "tags": []
   },
   "source": [
    "## Plot"
   ]
  },
  {
   "cell_type": "markdown",
   "metadata": {},
   "source": [
    "Loading data from pickle and formating to plot in R"
   ]
  },
  {
   "cell_type": "code",
   "execution_count": 4,
   "metadata": {},
   "outputs": [],
   "source": [
    "alphas, binned = loadPickleAlphas(PATH + \"/results/pooled/*.pkl\")"
   ]
  },
  {
   "cell_type": "markdown",
   "metadata": {
    "heading_collapsed": "true",
    "tags": []
   },
   "source": [
    "### ZI"
   ]
  },
  {
   "cell_type": "code",
   "execution_count": 22,
   "metadata": {},
   "outputs": [],
   "source": [
    "alphasZi = alphas['zi']; binnedZi = binned['zi']"
   ]
  },
  {
   "cell_type": "code",
   "execution_count": 23,
   "metadata": {},
   "outputs": [
    {
     "name": "stderr",
     "output_type": "stream",
     "text": [
      "100%|██████████| 12/12 [00:58<00:00,  4.85s/it]\n"
     ]
    }
   ],
   "source": [
    "grapesPooledZi = []\n",
    "for i in tqdm(np.array(glob.glob(PATH + \"/rawData/dofe/pooled/zi/*\"))):\n",
    "    tmp,tmp2,tmp3 = grapesOutput(i,\"GammaZero\",\"ZI\",5)\n",
    "    tmp['bins'] = int(i.split('/')[-1])\n",
    "    tmp['pop'] = 'ZI'\n",
    "    grapesPooledZi.append(tmp)\n",
    "grapesPooledZi = pd.concat(grapesPooledZi)\n",
    "grapesPooledZi.sort_values('bins',inplace=True)"
   ]
  },
  {
   "cell_type": "code",
   "execution_count": 44,
   "metadata": {},
   "outputs": [],
   "source": [
    "dfZi = pd.concat([pd.melt(grapesPooledZi,id_vars=['test','bins','pop'],value_vars='alpha'),alphasZi])\n",
    "dfZi.bins = dfZi.bins.astype(str)\n",
    "dfZi.bins = pd.Categorical(dfZi.bins,categories=dfZi.bins.unique())"
   ]
  },
  {
   "cell_type": "code",
   "execution_count": 45,
   "metadata": {},
   "outputs": [
    {
     "name": "stderr",
     "output_type": "stream",
     "text": [
      "R[write to console]: Saving 14 x 6.67 in image\n",
      "\n",
      "R[write to console]: Saving 14 x 6.67 in image\n",
      "\n"
     ]
    },
    {
     "data": {
      "image/png": "[encoded data removed]"
     },
     "metadata": {},
     "output_type": "display_data"
    }
   ],
   "source": [
    "%%R -i binnedZi -i dfZi -i grapesPooledZi -i PATH\n",
    "\n",
    "library(cowplot)\n",
    "\n",
    "binnedZi = as.data.table(binnedZi)\n",
    "grapesPooledZi = as.data.table(grapesPooledZi)\n",
    "grapesPooledZi[['bins']] = as.factor(grapesPooledZi[['bins']])\n",
    "dfZi = as.data.table(dfZi)\n",
    "\n",
    "ci = ggplot(grapesPooledZi,aes(x = bins, y = alpha_range, fill=bins)) + geom_boxplot(show.legend=F) + labs(x = \"Bins\", y=expression(paste('CI ',alpha))) + theme_bw() + scale_fill_manual(values=c(rep(\"#e2bd9a\",length(grapesPooledZi[['bins']])))) + theme(strip.text=element_text(size=14),axis.text.x = element_text(size=12,angle=90),axis.text.y = element_text(size=12),axis.title=element_text(size=14)) + ggtitle(\"\") + geom_hline(yintercept=0.25,linetype='dashed')\n",
    "\n",
    "d = dfZi[test == 'imp2' | test == 'asymp1' | test == 'grapes']\n",
    "d$test = factor(d$test,levels=c('imp2','asymp1','grapes'))\n",
    "levels(d$test) = c('impMKT','aMKT','Grapes')\n",
    "\n",
    "p = ggplot(d) + geom_boxplot(aes(x = bins, y = value, fill=test),alpha=0.8,show.legend=T) + labs(x='',y=expression(alpha)) + theme_bw() + ylim(c(0,1)) + scale_fill_manual(values=c(\"#30504f\",\"#ab2710\",\"#e2bd9a\"),name = \"Test\", labels = c(\"impMKT\", \"aMKT\",\"Grapes\")) + theme(strip.text=element_text(size=14),axis.text.x = element_text(size=14,angle=45,hjust=1,vjust=1),axis.title=element_text(size=14),legend.position=\"bottom\",legend.text=element_text(size=14))\n",
    "p = p + facet_wrap(~test)\n",
    "\n",
    "\n",
    "fraction = binnedZi[test=='imp2']\n",
    "fraction[['TRUE']] = fraction[['count']]/1000\n",
    "fraction[['FALSE']]= 1 - fraction[['TRUE']]\n",
    "fraction = melt(fraction,id.vars=c('test','pop','bins'),measure.vars=c('TRUE','FALSE'))\n",
    "\n",
    "pFraction = ggplot(fraction) + geom_bar(stat=\"identity\", aes(x=as.factor(bins), y=value,fill=variable),alpha=0.8, color=\"black\") + theme_bw() + theme(strip.text=element_text(size=14),axis.text.x = element_text(size=12,angle=45,hjust=1,vjust=1),axis.text.y = element_text(size=8),axis.title=element_text(size=14),legend.position=\"top\") + xlab(\"Bins\") + ylab(\"Proportion\") + scale_fill_manual(values=c(\"#30504f\",\"gray90\"),name = \"\", labels = c(\"True\", \"False\")) + scale_y_continuous(breaks=seq(0,1,0.5))\n",
    "\n",
    "fraction2 = binnedZi[test=='asymp1']\n",
    "fraction2[['TRUE']] = fraction2[['count']]/1000\n",
    "fraction2[['FALSE']]= 1 - fraction2[['TRUE']]\n",
    "fraction2 = melt(fraction2,id.vars=c('test','pop','bins'),measure.vars=c('TRUE','FALSE'))\n",
    "\n",
    "pFraction2 = ggplot(fraction2) + geom_bar(stat=\"identity\", aes(x=as.factor(bins), y=value,fill=variable),alpha=0.8, color=\"black\") + theme_bw() + theme(strip.text=element_text(size=14),axis.text.x = element_text(size=12,angle=45,hjust=1,vjust=1),axis.text.y = element_text(size=8),axis.title=element_text(size=14),legend.position=\"top\") + xlab(\"Bins\") + ylab(\"Proportion\") + scale_fill_manual(values=c(\"#ab2710\",\"gray90\"),name = \"\", labels = c(\"True\", \"False\")) + scale_y_continuous(breaks=seq(0,1,0.5))\n",
    "\n",
    "tmp = plot_grid(pFraction,pFraction2,ci,ncol = 1,rel_heights = c(0.5,0.5,1),labels=c('B','C','D'))\n",
    "pgrid = plot_grid(p,tmp,ncol=2,rel_widths = c(2, 1),labels=c('A',''))\n",
    "\n",
    "ggsave(pgrid,filename=paste0(PATH,\"/results/pooled/ziPooled.svg\"),dpi=600,width=14)\n",
    "ggsave(pgrid,filename=paste0(PATH,\"/results/pooled/ziPooled.png\"),dpi=600,width=14)\n",
    "\n",
    "pgrid"
   ]
  },
  {
   "cell_type": "markdown",
   "metadata": {
    "heading_collapsed": "true",
    "tags": []
   },
   "source": [
    "### AFR"
   ]
  },
  {
   "cell_type": "code",
   "execution_count": 6,
   "metadata": {},
   "outputs": [],
   "source": [
    "alphasAfr = alphas['afr']; binnedAfr = binned['afr']"
   ]
  },
  {
   "cell_type": "code",
   "execution_count": 19,
   "metadata": {
    "tags": []
   },
   "outputs": [
    {
     "name": "stderr",
     "output_type": "stream",
     "text": [
      "100%|██████████| 12/12 [00:58<00:00,  4.91s/it]\n"
     ]
    }
   ],
   "source": [
    "grapesPooledAfr = []\n",
    "for i in tqdm(np.array(glob.glob(PATH + \"/rawData/dofe/pooled/afr/*\"))):\n",
    "    tmp,tmp2,tmp3 = grapesOutput(i,\"GammaZero\",\"afr\",5)\n",
    "    tmp['bins'] = int(i.split('/')[-1])\n",
    "    tmp['pop'] = 'afr'\n",
    "    grapesPooledAfr.append(tmp)\n",
    "grapesPooledAfr = pd.concat(grapesPooledAfr)\n",
    "grapesPooledAfr.sort_values('bins',inplace=True)"
   ]
  },
  {
   "cell_type": "code",
   "execution_count": 20,
   "metadata": {},
   "outputs": [],
   "source": [
    "dfAfr = pd.concat([pd.melt(grapesPooledAfr,id_vars=['test','bins','pop'],value_vars='alpha'),alphasAfr])\n",
    "dfAfr.bins = dfAfr.bins.astype(str)\n",
    "dfAfr.bins = pd.Categorical(dfAfr.bins,categories=dfAfr.bins.unique())"
   ]
  },
  {
   "cell_type": "code",
   "execution_count": 21,
   "metadata": {},
   "outputs": [
    {
     "name": "stderr",
     "output_type": "stream",
     "text": [
      "R[write to console]: Saving 14 x 6.67 in image\n",
      "\n",
      "R[write to console]: Saving 14 x 6.67 in image\n",
      "\n"
     ]
    },
    {
     "data": {
      "image/png": "[encoded data removed]"
     },
     "metadata": {},
     "output_type": "display_data"
    }
   ],
   "source": [
    "%%R -i binnedAfr -i dfAfr -i grapesPooledAfr -i PATH\n",
    "\n",
    "library(cowplot)\n",
    "\n",
    "binnedAfr = as.data.table(binnedAfr)\n",
    "grapesPooledAfr = as.data.table(grapesPooledAfr)\n",
    "grapesPooledAfr[['bins']] = as.factor(grapesPooledAfr[['bins']])\n",
    "dfAfr = as.data.table(dfAfr)\n",
    "\n",
    "ci = ggplot(grapesPooledAfr,aes(x = bins, y = alpha_range, fill=bins)) + geom_boxplot(show.legend=F) + labs(x = \"Bins\", y=expression(paste('CI ',alpha))) + theme_bw() + scale_fill_manual(values=c(rep(\"#e2bd9a\",length(grapesPooledAfr[['bins']])))) + theme(strip.text=element_text(size=14),axis.text.x = element_text(size=12,angle=90),axis.text.y = element_text(size=12),axis.title=element_text(size=14)) + ggtitle(\"\") + geom_hline(yintercept=0.25,linetype='dashed')\n",
    "\n",
    "d = dfAfr[test == 'imp2' | test == 'asymp1' | test == 'grapes']\n",
    "d$test = factor(d$test,levels=c('imp2','asymp1','grapes'))\n",
    "levels(d$test) = c('impMKT','aMKT','Grapes')\n",
    "\n",
    "p = ggplot(d) + geom_boxplot(aes(x = bins, y = value, fill=test),alpha=0.8,show.legend=T) + labs(x='',y=expression(alpha)) + theme_bw() + ylim(c(0,1)) + scale_fill_manual(values=c(\"#30504f\",\"#ab2710\",\"#e2bd9a\"),name = \"Test\", labels = c(\"impMKT\", \"aMKT\",\"Grapes\")) + theme(strip.text=element_text(size=14),axis.text.x = element_text(size=14,angle=45,hjust=1,vjust=1),axis.title=element_text(size=14),legend.position=\"bottom\",legend.text=element_text(size=14))\n",
    "p = p + facet_wrap(~test)\n",
    "\n",
    "\n",
    "fraction = binnedAfr[test=='imp2']\n",
    "fraction[['TRUE']] = fraction[['count']]/1000\n",
    "fraction[['FALSE']]= 1 - fraction[['TRUE']]\n",
    "fraction = melt(fraction,id.vars=c('test','pop','bins'),measure.vars=c('TRUE','FALSE'))\n",
    "\n",
    "pFraction = ggplot(fraction) + geom_bar(stat=\"identity\", aes(x=as.factor(bins), y=value,fill=variable),alpha=0.8, color=\"black\") + theme_bw() + theme(strip.text=element_text(size=14),axis.text.x = element_text(size=12,angle=45,hjust=1,vjust=1),axis.text.y = element_text(size=8),axis.title=element_text(size=14),legend.position=\"top\") + xlab(\"Bins\") + ylab(\"Proportion\") + scale_fill_manual(values=c(\"#30504f\",\"gray90\"),name = \"\", labels = c(\"True\", \"False\")) + scale_y_continuous(breaks=seq(0,1,0.5))\n",
    "\n",
    "fraction2 = binnedAfr[test=='asymp1']\n",
    "fraction2[['TRUE']] = fraction2[['count']]/1000\n",
    "fraction2[['FALSE']]= 1 - fraction2[['TRUE']]\n",
    "fraction2 = melt(fraction2,id.vars=c('test','pop','bins'),measure.vars=c('TRUE','FALSE'))\n",
    "\n",
    "pFraction2 = ggplot(fraction2) + geom_bar(stat=\"identity\", aes(x=as.factor(bins), y=value,fill=variable),alpha=0.8, color=\"black\") + theme_bw() + theme(strip.text=element_text(size=14),axis.text.x = element_text(size=12,angle=45,hjust=1,vjust=1),axis.text.y = element_text(size=8),axis.title=element_text(size=14),legend.position=\"top\") + xlab(\"Bins\") + ylab(\"Proportion\") + scale_fill_manual(values=c(\"#ab2710\",\"gray90\"),name = \"\", labels = c(\"True\", \"False\")) + scale_y_continuous(breaks=seq(0,1,0.5))\n",
    "\n",
    "tmp = plot_grid(pFraction,pFraction2,ci,ncol = 1,rel_heights = c(0.5,0.5,1),labels=c('B','C','D'))\n",
    "pgrid = plot_grid(p,tmp,ncol=2,rel_widths = c(2, 1),labels=c('A',''))\n",
    "\n",
    "ggsave(pgrid,filename=paste0(PATH,\"/results/pooled/afrPooled.svg\"),dpi=600,width=14)\n",
    "ggsave(pgrid,filename=paste0(PATH,\"/results/pooled/afrPooled.png\"),dpi=600,width=14)\n",
    "\n",
    "pgrid"
   ]
  },
  {
   "cell_type": "code",
   "execution_count": 143,
   "metadata": {},
   "outputs": [
    {
     "data": {
      "text/html": [
       "<div>\n",
       "<style scoped>\n",
       "    .dataframe tbody tr th:only-of-type {\n",
       "        vertical-align: middle;\n",
       "    }\n",
       "\n",
       "    .dataframe tbody tr th {\n",
       "        vertical-align: top;\n",
       "    }\n",
       "\n",
       "    .dataframe thead th {\n",
       "        text-align: right;\n",
       "    }\n",
       "</style>\n",
       "<table border=\"1\" class=\"dataframe\">\n",
       "  <thead>\n",
       "    <tr style=\"text-align: right;\">\n",
       "      <th></th>\n",
       "      <th>test</th>\n",
       "      <th>bins</th>\n",
       "      <th>pop</th>\n",
       "      <th>count</th>\n",
       "      <th>mean</th>\n",
       "      <th>std</th>\n",
       "      <th>min</th>\n",
       "      <th>5%</th>\n",
       "      <th>50%</th>\n",
       "      <th>95%</th>\n",
       "      <th>max</th>\n",
       "    </tr>\n",
       "  </thead>\n",
       "  <tbody>\n",
       "    <tr>\n",
       "      <th>0</th>\n",
       "      <td>asymp1</td>\n",
       "      <td>1</td>\n",
       "      <td>AFR</td>\n",
       "      <td>0.0</td>\n",
       "      <td>NaN</td>\n",
       "      <td>NaN</td>\n",
       "      <td>NaN</td>\n",
       "      <td>NaN</td>\n",
       "      <td>NaN</td>\n",
       "      <td>NaN</td>\n",
       "      <td>NaN</td>\n",
       "    </tr>\n",
       "    <tr>\n",
       "      <th>1</th>\n",
       "      <td>asymp1</td>\n",
       "      <td>1</td>\n",
       "      <td>ZI</td>\n",
       "      <td>1.0</td>\n",
       "      <td>0.887922</td>\n",
       "      <td>NaN</td>\n",
       "      <td>0.887922</td>\n",
       "      <td>0.887922</td>\n",
       "      <td>0.887922</td>\n",
       "      <td>0.887922</td>\n",
       "      <td>0.887922</td>\n",
       "    </tr>\n",
       "    <tr>\n",
       "      <th>2</th>\n",
       "      <td>asymp1</td>\n",
       "      <td>2</td>\n",
       "      <td>AFR</td>\n",
       "      <td>0.0</td>\n",
       "      <td>NaN</td>\n",
       "      <td>NaN</td>\n",
       "      <td>NaN</td>\n",
       "      <td>NaN</td>\n",
       "      <td>NaN</td>\n",
       "      <td>NaN</td>\n",
       "      <td>NaN</td>\n",
       "    </tr>\n",
       "    <tr>\n",
       "      <th>3</th>\n",
       "      <td>asymp1</td>\n",
       "      <td>2</td>\n",
       "      <td>ZI</td>\n",
       "      <td>3.0</td>\n",
       "      <td>0.876362</td>\n",
       "      <td>0.017385</td>\n",
       "      <td>0.864337</td>\n",
       "      <td>0.864748</td>\n",
       "      <td>0.868453</td>\n",
       "      <td>0.893511</td>\n",
       "      <td>0.896295</td>\n",
       "    </tr>\n",
       "    <tr>\n",
       "      <th>4</th>\n",
       "      <td>asymp1</td>\n",
       "      <td>5</td>\n",
       "      <td>AFR</td>\n",
       "      <td>0.0</td>\n",
       "      <td>NaN</td>\n",
       "      <td>NaN</td>\n",
       "      <td>NaN</td>\n",
       "      <td>NaN</td>\n",
       "      <td>NaN</td>\n",
       "      <td>NaN</td>\n",
       "      <td>NaN</td>\n",
       "    </tr>\n",
       "    <tr>\n",
       "      <th>...</th>\n",
       "      <td>...</td>\n",
       "      <td>...</td>\n",
       "      <td>...</td>\n",
       "      <td>...</td>\n",
       "      <td>...</td>\n",
       "      <td>...</td>\n",
       "      <td>...</td>\n",
       "      <td>...</td>\n",
       "      <td>...</td>\n",
       "      <td>...</td>\n",
       "      <td>...</td>\n",
       "    </tr>\n",
       "    <tr>\n",
       "      <th>237</th>\n",
       "      <td>std</td>\n",
       "      <td>500</td>\n",
       "      <td>ZI</td>\n",
       "      <td>1000.0</td>\n",
       "      <td>0.375069</td>\n",
       "      <td>0.049926</td>\n",
       "      <td>0.215000</td>\n",
       "      <td>0.289950</td>\n",
       "      <td>0.375000</td>\n",
       "      <td>0.455050</td>\n",
       "      <td>0.514000</td>\n",
       "    </tr>\n",
       "    <tr>\n",
       "      <th>238</th>\n",
       "      <td>std</td>\n",
       "      <td>750</td>\n",
       "      <td>AFR</td>\n",
       "      <td>1000.0</td>\n",
       "      <td>-0.436287</td>\n",
       "      <td>0.059938</td>\n",
       "      <td>-0.652000</td>\n",
       "      <td>-0.532000</td>\n",
       "      <td>-0.436000</td>\n",
       "      <td>-0.340000</td>\n",
       "      <td>-0.249000</td>\n",
       "    </tr>\n",
       "    <tr>\n",
       "      <th>239</th>\n",
       "      <td>std</td>\n",
       "      <td>750</td>\n",
       "      <td>ZI</td>\n",
       "      <td>1000.0</td>\n",
       "      <td>0.378642</td>\n",
       "      <td>0.039108</td>\n",
       "      <td>0.259000</td>\n",
       "      <td>0.312950</td>\n",
       "      <td>0.379000</td>\n",
       "      <td>0.441050</td>\n",
       "      <td>0.505000</td>\n",
       "    </tr>\n",
       "    <tr>\n",
       "      <th>240</th>\n",
       "      <td>std</td>\n",
       "      <td>1000</td>\n",
       "      <td>AFR</td>\n",
       "      <td>1000.0</td>\n",
       "      <td>-0.438247</td>\n",
       "      <td>0.051546</td>\n",
       "      <td>-0.596000</td>\n",
       "      <td>-0.525000</td>\n",
       "      <td>-0.438000</td>\n",
       "      <td>-0.356000</td>\n",
       "      <td>-0.263000</td>\n",
       "    </tr>\n",
       "    <tr>\n",
       "      <th>241</th>\n",
       "      <td>std</td>\n",
       "      <td>1000</td>\n",
       "      <td>ZI</td>\n",
       "      <td>1000.0</td>\n",
       "      <td>0.379062</td>\n",
       "      <td>0.034200</td>\n",
       "      <td>0.273000</td>\n",
       "      <td>0.322950</td>\n",
       "      <td>0.380000</td>\n",
       "      <td>0.435000</td>\n",
       "      <td>0.478000</td>\n",
       "    </tr>\n",
       "  </tbody>\n",
       "</table>\n",
       "<p>242 rows × 11 columns</p>\n",
       "</div>"
      ],
      "text/plain": [
       "       test  bins  pop   count      mean       std       min        5%  \\\n",
       "0    asymp1     1  AFR     0.0       NaN       NaN       NaN       NaN   \n",
       "1    asymp1     1   ZI     1.0  0.887922       NaN  0.887922  0.887922   \n",
       "2    asymp1     2  AFR     0.0       NaN       NaN       NaN       NaN   \n",
       "3    asymp1     2   ZI     3.0  0.876362  0.017385  0.864337  0.864748   \n",
       "4    asymp1     5  AFR     0.0       NaN       NaN       NaN       NaN   \n",
       "..      ...   ...  ...     ...       ...       ...       ...       ...   \n",
       "237     std   500   ZI  1000.0  0.375069  0.049926  0.215000  0.289950   \n",
       "238     std   750  AFR  1000.0 -0.436287  0.059938 -0.652000 -0.532000   \n",
       "239     std   750   ZI  1000.0  0.378642  0.039108  0.259000  0.312950   \n",
       "240     std  1000  AFR  1000.0 -0.438247  0.051546 -0.596000 -0.525000   \n",
       "241     std  1000   ZI  1000.0  0.379062  0.034200  0.273000  0.322950   \n",
       "\n",
       "          50%       95%       max  \n",
       "0         NaN       NaN       NaN  \n",
       "1    0.887922  0.887922  0.887922  \n",
       "2         NaN       NaN       NaN  \n",
       "3    0.868453  0.893511  0.896295  \n",
       "4         NaN       NaN       NaN  \n",
       "..        ...       ...       ...  \n",
       "237  0.375000  0.455050  0.514000  \n",
       "238 -0.436000 -0.340000 -0.249000  \n",
       "239  0.379000  0.441050  0.505000  \n",
       "240 -0.438000 -0.356000 -0.263000  \n",
       "241  0.380000  0.435000  0.478000  \n",
       "\n",
       "[242 rows x 11 columns]"
      ]
     },
     "execution_count": 143,
     "metadata": {},
     "output_type": "execute_result"
    }
   ],
   "source": [
    "tmp = pd.concat([dfZi,dfAfr]).groupby(['test','bins','pop']).value.describe(percentiles=[0.05,0.5,0.95]).reset_index();tmp"
   ]
  },
  {
   "cell_type": "code",
   "execution_count": 144,
   "metadata": {},
   "outputs": [],
   "source": [
    "df = tmp[(tmp.test == 'imp2') | (tmp.test == 'asymp1') | (tmp.test == 'grapes')]\n",
    "tmpCi = np.round(df[['mean']],3).astype(str).values + \" (\" + np.round(df[['5%']],3).astype(str).values + \" - \" + np.round(df[['95%']],3).astype(str) + \")\"\n",
    "dfPooled = pd.concat([df.loc[:,['test','pop','bins']],tmpCi],axis=1)\n",
    "\n",
    "dfPooled['pop'] = dfPooled['pop'].str.upper()\n",
    "\n",
    "dfPooled = pd.pivot_table(dfPooled.sort_values(['pop','test','bins']),index=['pop','test'],columns='bins',values=['95%'],aggfunc=lambda x: ' '.join(x))\n",
    "\n",
    "dfPooled.to_csv(PATH + \"/results/pooled/dfPooled.tsv\",sep='\\t',index=True)"
   ]
  },
  {
   "cell_type": "code",
   "execution_count": 142,
   "metadata": {},
   "outputs": [
    {
     "data": {
      "text/html": [
       "<div>\n",
       "<style scoped>\n",
       "    .dataframe tbody tr th:only-of-type {\n",
       "        vertical-align: middle;\n",
       "    }\n",
       "\n",
       "    .dataframe tbody tr th {\n",
       "        vertical-align: top;\n",
       "    }\n",
       "\n",
       "    .dataframe thead th {\n",
       "        text-align: right;\n",
       "    }\n",
       "</style>\n",
       "<table border=\"1\" class=\"dataframe\">\n",
       "  <thead>\n",
       "    <tr style=\"text-align: right;\">\n",
       "      <th></th>\n",
       "      <th></th>\n",
       "      <th></th>\n",
       "      <th>count</th>\n",
       "      <th>mean</th>\n",
       "      <th>std</th>\n",
       "      <th>min</th>\n",
       "      <th>25%</th>\n",
       "      <th>50%</th>\n",
       "      <th>75%</th>\n",
       "      <th>max</th>\n",
       "    </tr>\n",
       "    <tr>\n",
       "      <th>test</th>\n",
       "      <th>bins</th>\n",
       "      <th>pop</th>\n",
       "      <th></th>\n",
       "      <th></th>\n",
       "      <th></th>\n",
       "      <th></th>\n",
       "      <th></th>\n",
       "      <th></th>\n",
       "      <th></th>\n",
       "      <th></th>\n",
       "    </tr>\n",
       "  </thead>\n",
       "  <tbody>\n",
       "    <tr>\n",
       "      <th rowspan=\"24\" valign=\"top\">grapes</th>\n",
       "      <th rowspan=\"2\" valign=\"top\">1</th>\n",
       "      <th>AFR</th>\n",
       "      <td>705.0</td>\n",
       "      <td>1.117312</td>\n",
       "      <td>0.890850</td>\n",
       "      <td>0.0000</td>\n",
       "      <td>0.000000</td>\n",
       "      <td>1.26740</td>\n",
       "      <td>1.811500</td>\n",
       "      <td>2.3715</td>\n",
       "    </tr>\n",
       "    <tr>\n",
       "      <th>ZI</th>\n",
       "      <td>583.0</td>\n",
       "      <td>1.055210</td>\n",
       "      <td>0.670519</td>\n",
       "      <td>0.0000</td>\n",
       "      <td>0.559650</td>\n",
       "      <td>1.06730</td>\n",
       "      <td>1.520700</td>\n",
       "      <td>2.3715</td>\n",
       "    </tr>\n",
       "    <tr>\n",
       "      <th rowspan=\"2\" valign=\"top\">2</th>\n",
       "      <th>AFR</th>\n",
       "      <td>940.0</td>\n",
       "      <td>1.205276</td>\n",
       "      <td>0.708670</td>\n",
       "      <td>0.0000</td>\n",
       "      <td>0.812700</td>\n",
       "      <td>1.26730</td>\n",
       "      <td>1.646600</td>\n",
       "      <td>2.3715</td>\n",
       "    </tr>\n",
       "    <tr>\n",
       "      <th>ZI</th>\n",
       "      <td>952.0</td>\n",
       "      <td>0.900864</td>\n",
       "      <td>0.465217</td>\n",
       "      <td>0.0000</td>\n",
       "      <td>0.597575</td>\n",
       "      <td>0.84910</td>\n",
       "      <td>1.155300</td>\n",
       "      <td>2.3715</td>\n",
       "    </tr>\n",
       "    <tr>\n",
       "      <th rowspan=\"2\" valign=\"top\">5</th>\n",
       "      <th>AFR</th>\n",
       "      <td>998.0</td>\n",
       "      <td>0.942269</td>\n",
       "      <td>0.353399</td>\n",
       "      <td>0.0000</td>\n",
       "      <td>0.727200</td>\n",
       "      <td>0.89110</td>\n",
       "      <td>1.109000</td>\n",
       "      <td>2.3715</td>\n",
       "    </tr>\n",
       "    <tr>\n",
       "      <th>ZI</th>\n",
       "      <td>1000.0</td>\n",
       "      <td>0.496199</td>\n",
       "      <td>0.195752</td>\n",
       "      <td>0.0000</td>\n",
       "      <td>0.365000</td>\n",
       "      <td>0.47900</td>\n",
       "      <td>0.599200</td>\n",
       "      <td>1.6466</td>\n",
       "    </tr>\n",
       "    <tr>\n",
       "      <th rowspan=\"2\" valign=\"top\">10</th>\n",
       "      <th>AFR</th>\n",
       "      <td>1000.0</td>\n",
       "      <td>0.616544</td>\n",
       "      <td>0.178319</td>\n",
       "      <td>0.1820</td>\n",
       "      <td>0.496800</td>\n",
       "      <td>0.60605</td>\n",
       "      <td>0.714000</td>\n",
       "      <td>1.8115</td>\n",
       "    </tr>\n",
       "    <tr>\n",
       "      <th>ZI</th>\n",
       "      <td>1000.0</td>\n",
       "      <td>0.312559</td>\n",
       "      <td>0.097303</td>\n",
       "      <td>0.0900</td>\n",
       "      <td>0.238900</td>\n",
       "      <td>0.30510</td>\n",
       "      <td>0.375900</td>\n",
       "      <td>0.7140</td>\n",
       "    </tr>\n",
       "    <tr>\n",
       "      <th rowspan=\"2\" valign=\"top\">25</th>\n",
       "      <th>AFR</th>\n",
       "      <td>1000.0</td>\n",
       "      <td>0.362880</td>\n",
       "      <td>0.069476</td>\n",
       "      <td>0.1640</td>\n",
       "      <td>0.320000</td>\n",
       "      <td>0.36300</td>\n",
       "      <td>0.407925</td>\n",
       "      <td>0.6130</td>\n",
       "    </tr>\n",
       "    <tr>\n",
       "      <th>ZI</th>\n",
       "      <td>1000.0</td>\n",
       "      <td>0.182845</td>\n",
       "      <td>0.039554</td>\n",
       "      <td>0.0820</td>\n",
       "      <td>0.154750</td>\n",
       "      <td>0.18095</td>\n",
       "      <td>0.209900</td>\n",
       "      <td>0.3249</td>\n",
       "    </tr>\n",
       "    <tr>\n",
       "      <th rowspan=\"2\" valign=\"top\">50</th>\n",
       "      <th>AFR</th>\n",
       "      <td>1000.0</td>\n",
       "      <td>0.250917</td>\n",
       "      <td>0.036690</td>\n",
       "      <td>0.1320</td>\n",
       "      <td>0.226000</td>\n",
       "      <td>0.25150</td>\n",
       "      <td>0.276000</td>\n",
       "      <td>0.4030</td>\n",
       "    </tr>\n",
       "    <tr>\n",
       "      <th>ZI</th>\n",
       "      <td>1000.0</td>\n",
       "      <td>0.124482</td>\n",
       "      <td>0.020831</td>\n",
       "      <td>0.0750</td>\n",
       "      <td>0.109825</td>\n",
       "      <td>0.12400</td>\n",
       "      <td>0.138000</td>\n",
       "      <td>0.2200</td>\n",
       "    </tr>\n",
       "    <tr>\n",
       "      <th rowspan=\"2\" valign=\"top\">75</th>\n",
       "      <th>AFR</th>\n",
       "      <td>1000.0</td>\n",
       "      <td>0.203456</td>\n",
       "      <td>0.024217</td>\n",
       "      <td>0.1270</td>\n",
       "      <td>0.189000</td>\n",
       "      <td>0.20310</td>\n",
       "      <td>0.220000</td>\n",
       "      <td>0.2761</td>\n",
       "    </tr>\n",
       "    <tr>\n",
       "      <th>ZI</th>\n",
       "      <td>1000.0</td>\n",
       "      <td>0.100695</td>\n",
       "      <td>0.013847</td>\n",
       "      <td>0.0610</td>\n",
       "      <td>0.091000</td>\n",
       "      <td>0.10100</td>\n",
       "      <td>0.111000</td>\n",
       "      <td>0.1440</td>\n",
       "    </tr>\n",
       "    <tr>\n",
       "      <th rowspan=\"2\" valign=\"top\">100</th>\n",
       "      <th>AFR</th>\n",
       "      <td>1000.0</td>\n",
       "      <td>0.175601</td>\n",
       "      <td>0.019044</td>\n",
       "      <td>0.1110</td>\n",
       "      <td>0.162000</td>\n",
       "      <td>0.17600</td>\n",
       "      <td>0.189000</td>\n",
       "      <td>0.2301</td>\n",
       "    </tr>\n",
       "    <tr>\n",
       "      <th>ZI</th>\n",
       "      <td>1000.0</td>\n",
       "      <td>0.086970</td>\n",
       "      <td>0.010317</td>\n",
       "      <td>0.0569</td>\n",
       "      <td>0.080000</td>\n",
       "      <td>0.08700</td>\n",
       "      <td>0.094000</td>\n",
       "      <td>0.1230</td>\n",
       "    </tr>\n",
       "    <tr>\n",
       "      <th rowspan=\"2\" valign=\"top\">250</th>\n",
       "      <th>AFR</th>\n",
       "      <td>1000.0</td>\n",
       "      <td>0.111530</td>\n",
       "      <td>0.007982</td>\n",
       "      <td>0.0850</td>\n",
       "      <td>0.107000</td>\n",
       "      <td>0.11100</td>\n",
       "      <td>0.117000</td>\n",
       "      <td>0.1330</td>\n",
       "    </tr>\n",
       "    <tr>\n",
       "      <th>ZI</th>\n",
       "      <td>1000.0</td>\n",
       "      <td>0.055196</td>\n",
       "      <td>0.004128</td>\n",
       "      <td>0.0440</td>\n",
       "      <td>0.052000</td>\n",
       "      <td>0.05500</td>\n",
       "      <td>0.058000</td>\n",
       "      <td>0.0700</td>\n",
       "    </tr>\n",
       "    <tr>\n",
       "      <th rowspan=\"2\" valign=\"top\">500</th>\n",
       "      <th>AFR</th>\n",
       "      <td>1000.0</td>\n",
       "      <td>0.080525</td>\n",
       "      <td>0.004117</td>\n",
       "      <td>0.0680</td>\n",
       "      <td>0.078000</td>\n",
       "      <td>0.08010</td>\n",
       "      <td>0.083000</td>\n",
       "      <td>0.0929</td>\n",
       "    </tr>\n",
       "    <tr>\n",
       "      <th>ZI</th>\n",
       "      <td>1000.0</td>\n",
       "      <td>0.040044</td>\n",
       "      <td>0.002131</td>\n",
       "      <td>0.0340</td>\n",
       "      <td>0.038000</td>\n",
       "      <td>0.04000</td>\n",
       "      <td>0.042000</td>\n",
       "      <td>0.0460</td>\n",
       "    </tr>\n",
       "    <tr>\n",
       "      <th rowspan=\"2\" valign=\"top\">750</th>\n",
       "      <th>AFR</th>\n",
       "      <td>1000.0</td>\n",
       "      <td>0.067182</td>\n",
       "      <td>0.002680</td>\n",
       "      <td>0.0600</td>\n",
       "      <td>0.066000</td>\n",
       "      <td>0.06700</td>\n",
       "      <td>0.069000</td>\n",
       "      <td>0.0750</td>\n",
       "    </tr>\n",
       "    <tr>\n",
       "      <th>ZI</th>\n",
       "      <td>1000.0</td>\n",
       "      <td>0.033474</td>\n",
       "      <td>0.001448</td>\n",
       "      <td>0.0300</td>\n",
       "      <td>0.032000</td>\n",
       "      <td>0.03400</td>\n",
       "      <td>0.034000</td>\n",
       "      <td>0.0380</td>\n",
       "    </tr>\n",
       "    <tr>\n",
       "      <th rowspan=\"2\" valign=\"top\">1000</th>\n",
       "      <th>AFR</th>\n",
       "      <td>1000.0</td>\n",
       "      <td>0.059406</td>\n",
       "      <td>0.002005</td>\n",
       "      <td>0.0540</td>\n",
       "      <td>0.058000</td>\n",
       "      <td>0.06000</td>\n",
       "      <td>0.060900</td>\n",
       "      <td>0.0660</td>\n",
       "    </tr>\n",
       "    <tr>\n",
       "      <th>ZI</th>\n",
       "      <td>1000.0</td>\n",
       "      <td>0.029666</td>\n",
       "      <td>0.001148</td>\n",
       "      <td>0.0280</td>\n",
       "      <td>0.028900</td>\n",
       "      <td>0.03000</td>\n",
       "      <td>0.030000</td>\n",
       "      <td>0.0340</td>\n",
       "    </tr>\n",
       "  </tbody>\n",
       "</table>\n",
       "</div>"
      ],
      "text/plain": [
       "                  count      mean       std     min       25%      50%  \\\n",
       "test   bins pop                                                          \n",
       "grapes 1    AFR   705.0  1.117312  0.890850  0.0000  0.000000  1.26740   \n",
       "            ZI    583.0  1.055210  0.670519  0.0000  0.559650  1.06730   \n",
       "       2    AFR   940.0  1.205276  0.708670  0.0000  0.812700  1.26730   \n",
       "            ZI    952.0  0.900864  0.465217  0.0000  0.597575  0.84910   \n",
       "       5    AFR   998.0  0.942269  0.353399  0.0000  0.727200  0.89110   \n",
       "            ZI   1000.0  0.496199  0.195752  0.0000  0.365000  0.47900   \n",
       "       10   AFR  1000.0  0.616544  0.178319  0.1820  0.496800  0.60605   \n",
       "            ZI   1000.0  0.312559  0.097303  0.0900  0.238900  0.30510   \n",
       "       25   AFR  1000.0  0.362880  0.069476  0.1640  0.320000  0.36300   \n",
       "            ZI   1000.0  0.182845  0.039554  0.0820  0.154750  0.18095   \n",
       "       50   AFR  1000.0  0.250917  0.036690  0.1320  0.226000  0.25150   \n",
       "            ZI   1000.0  0.124482  0.020831  0.0750  0.109825  0.12400   \n",
       "       75   AFR  1000.0  0.203456  0.024217  0.1270  0.189000  0.20310   \n",
       "            ZI   1000.0  0.100695  0.013847  0.0610  0.091000  0.10100   \n",
       "       100  AFR  1000.0  0.175601  0.019044  0.1110  0.162000  0.17600   \n",
       "            ZI   1000.0  0.086970  0.010317  0.0569  0.080000  0.08700   \n",
       "       250  AFR  1000.0  0.111530  0.007982  0.0850  0.107000  0.11100   \n",
       "            ZI   1000.0  0.055196  0.004128  0.0440  0.052000  0.05500   \n",
       "       500  AFR  1000.0  0.080525  0.004117  0.0680  0.078000  0.08010   \n",
       "            ZI   1000.0  0.040044  0.002131  0.0340  0.038000  0.04000   \n",
       "       750  AFR  1000.0  0.067182  0.002680  0.0600  0.066000  0.06700   \n",
       "            ZI   1000.0  0.033474  0.001448  0.0300  0.032000  0.03400   \n",
       "       1000 AFR  1000.0  0.059406  0.002005  0.0540  0.058000  0.06000   \n",
       "            ZI   1000.0  0.029666  0.001148  0.0280  0.028900  0.03000   \n",
       "\n",
       "                      75%     max  \n",
       "test   bins pop                    \n",
       "grapes 1    AFR  1.811500  2.3715  \n",
       "            ZI   1.520700  2.3715  \n",
       "       2    AFR  1.646600  2.3715  \n",
       "            ZI   1.155300  2.3715  \n",
       "       5    AFR  1.109000  2.3715  \n",
       "            ZI   0.599200  1.6466  \n",
       "       10   AFR  0.714000  1.8115  \n",
       "            ZI   0.375900  0.7140  \n",
       "       25   AFR  0.407925  0.6130  \n",
       "            ZI   0.209900  0.3249  \n",
       "       50   AFR  0.276000  0.4030  \n",
       "            ZI   0.138000  0.2200  \n",
       "       75   AFR  0.220000  0.2761  \n",
       "            ZI   0.111000  0.1440  \n",
       "       100  AFR  0.189000  0.2301  \n",
       "            ZI   0.094000  0.1230  \n",
       "       250  AFR  0.117000  0.1330  \n",
       "            ZI   0.058000  0.0700  \n",
       "       500  AFR  0.083000  0.0929  \n",
       "            ZI   0.042000  0.0460  \n",
       "       750  AFR  0.069000  0.0750  \n",
       "            ZI   0.034000  0.0380  \n",
       "       1000 AFR  0.060900  0.0660  \n",
       "            ZI   0.030000  0.0340  "
      ]
     },
     "execution_count": 142,
     "metadata": {},
     "output_type": "execute_result"
    }
   ],
   "source": [
    "grapesPooled = pd.concat([grapesPooledZi,grapesPooledAfr])\n",
    "grapesPooled['pop'] = grapesPooled['pop'].str.upper()\n",
    "\n",
    "grapesPooled.groupby(['test','bins','pop']).alpha_range.describe()"
   ]
  }
 ],
 "metadata": {
  "kernelspec": {
   "display_name": "Python 3",
   "language": "python",
   "name": "python3"
  },
  "language_info": {
   "codemirror_mode": {
    "name": "ipython",
    "version": 3
   },
   "file_extension": ".py",
   "mimetype": "text/x-python",
   "name": "python",
   "nbconvert_exporter": "python",
   "pygments_lexer": "ipython3",
   "version": "3.8.5"
  },
  "toc": {
   "base_numbering": 1,
   "nav_menu": {},
   "number_sections": true,
   "sideBar": true,
   "skip_h1_title": false,
   "title_cell": "Table of Contents",
   "title_sidebar": "Contents",
   "toc_cell": false,
   "toc_position": {
    "height": "calc(100% - 180px)",
    "left": "10px",
    "top": "150px",
    "width": "165px"
   },
   "toc_section_display": true,
   "toc_window_display": true
  },
  "toc-autonumbering": true,
  "varInspector": {
   "cols": {
    "lenName": 16,
    "lenType": 16,
    "lenVar": 40
   },
   "kernels_config": {
    "python": {
     "delete_cmd_postfix": "",
     "delete_cmd_prefix": "del ",
     "library": "var_list.py",
     "varRefreshCmd": "print(var_dic_list())"
    },
    "r": {
     "delete_cmd_postfix": ") ",
     "delete_cmd_prefix": "rm(",
     "library": "var_list.r",
     "varRefreshCmd": "cat(var_dic_list()) "
    }
   },
   "types_to_exclude": [
    "module",
    "function",
    "builtin_function_or_method",
    "instance",
    "_Feature"
   ],
   "window_display": false
  }
 },
 "nbformat": 4,
 "nbformat_minor": 4
}
