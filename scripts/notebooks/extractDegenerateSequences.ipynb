{
 "cells": [
  {
   "cell_type": "markdown",
   "metadata": {},
   "source": [
    "### Drosophila melanogaster genes "
   ]
  },
  {
   "cell_type": "markdown",
   "metadata": {},
   "source": [
    "To execute bash code we created a snippets through nbextensions containing the following paths in order to avoid copy and paste cell contains. %%bash magic do not recognize previous variables. Adding mkdir command to create necesary paths"
   ]
  },
  {
   "cell_type": "code",
   "execution_count": null,
   "metadata": {
    "ExecuteTime": {
     "end_time": "2019-02-16T14:59:36.033456Z",
     "start_time": "2019-02-16T14:59:36.021246Z"
    }
   },
   "outputs": [],
   "source": [
    "%%bash\n",
    "DATA='/home/jmurga/mkt/201902/rawData/annotations'\n",
    "BASIC='/home/jmurga/mkt/201902/rawData/annotations/basicAnnotation'\n",
    "CDS='/home/jmurga/mkt/201902/rawData/annotations/cds'\n",
    "GENES='/home/jmurga/mkt/201902/rawData/annotations/genes'\n",
    "TEMPORAL='/home/jmurga/mkt/201902/rawData/annotations/tmp'\n",
    "\n",
    "mkdir -p ${DATA}\n",
    "mkdir -p ${BASIC}\n",
    "mkdir -p ${CDS}\n",
    "mkdir -p ${GENES}\n",
    "mkdir -p ${TEMPORAL}"
   ]
  },
  {
   "cell_type": "markdown",
   "metadata": {},
   "source": [
    "Defining global path to python. In this case these variables will be stored after one execution"
   ]
  },
  {
   "cell_type": "code",
   "execution_count": null,
   "metadata": {
    "ExecuteTime": {
     "end_time": "2019-02-18T10:58:09.115494Z",
     "start_time": "2019-02-18T10:58:09.110867Z"
    }
   },
   "outputs": [],
   "source": [
    "SRC='/home/jmurga/mkt/201902/scripts/src'\n",
    "DATA='/home/jmurga/mkt/201902/rawData'"
   ]
  },
  {
   "cell_type": "markdown",
   "metadata": {},
   "source": [
    "Required libraries"
   ]
  },
  {
   "cell_type": "code",
   "execution_count": null,
   "metadata": {
    "ExecuteTime": {
     "end_time": "2019-02-17T09:27:45.812805Z",
     "start_time": "2019-02-17T09:27:45.653586Z"
    }
   },
   "outputs": [],
   "source": [
    "import os\n",
    "import re\n",
    "import sys\n",
    "import numpy as np\n",
    "import pandas as pd\n",
    "from numpy import array \n",
    "from pyfaidx import Fasta"
   ]
  },
  {
   "cell_type": "markdown",
   "metadata": {
    "heading_collapsed": true
   },
   "source": [
    "#### Download Flybase annotation"
   ]
  },
  {
   "cell_type": "code",
   "execution_count": null,
   "metadata": {
    "ExecuteTime": {
     "end_time": "2019-02-16T15:00:16.932169Z",
     "start_time": "2019-02-16T14:59:49.290829Z"
    },
    "hidden": true
   },
   "outputs": [],
   "source": [
    "%%bash\n",
    "DATA='/home/jmurga/mkt/201902/rawData/annotations'\n",
    "\n",
    "cd ${DATA}\n",
    "# Flybase annotation\n",
    "wget ftp://ftp.flybase.net/genomes/Drosophila_melanogaster/dmel_r5.57_FB2014_03/gff/dmel-all-no-analysis-r5.57.gff.gz\n",
    "gunzip dmel-all-no-analysis-r5.57.gff.gz"
   ]
  },
  {
   "cell_type": "markdown",
   "metadata": {
    "heading_collapsed": true
   },
   "source": [
    "#### Parsing and cleaning flybase annotation to execute all operations by chr\n",
    "Next operation will be faster due to grep on smaller files. Space is not a problem in our server right now. Each folder contain an specific file foreach chromosome. "
   ]
  },
  {
   "cell_type": "code",
   "execution_count": null,
   "metadata": {
    "ExecuteTime": {
     "end_time": "2019-02-16T15:01:13.993165Z",
     "start_time": "2019-02-16T15:01:05.675233Z"
    },
    "hidden": true
   },
   "outputs": [],
   "source": [
    "%%bash\n",
    "DATA='/home/jmurga/mkt/201902/rawData/annotations'\n",
    "BASIC='/home/jmurga/mkt/201902/rawData/annotations/basicAnnotation'\n",
    "CDS='/home/jmurga/mkt/201902/rawData/annotations/cds'\n",
    "GENES='/home/jmurga/mkt/201902/rawData/annotations/genes'\n",
    "TEMPORAL='/home/jmurga/mkt/201902/rawData/annotations/tmp'\n",
    "\n",
    "mkdir -p ${BASIC}\n",
    "mkdir -p ${CDS}\n",
    "mkdir -p ${GENES}\n",
    "mkdir -p ${TEMPORAL}\n",
    "\n",
    "# Extract sequences f\n",
    "# Extract annotations from gff file\n",
    "sed -e '/^>/,$d' ${DATA}/dmel-all-no-analysis-r5.57.gff | sed -e '/^2LHet/d' -e  '/2RHet/d' -e '/3LHet/d' -e '/3RHet/d' -e  '/^4\\t/d' -e '/dmel_mitochondrion_genome/d' -e '/^U\\t/d' -e '/^Uextra\\t/d' -e  '/^XHet\\t/d' -e '/^YHet\\t/d' -e'/\\tCG/d' > ${DATA}/dmelFiltered.gff\n",
    "# Extract genes information\n",
    "grep -P \"\\tgene\\t\" ${DATA}/dmelFiltered.gff  > ${DATA}/dmelFilteredGenes.gff\n",
    "# Extract CDS information. Only protein coding genes\n",
    "grep -P \"\\tCDS\\t\" ${DATA}/dmelFiltered.gff  > ${DATA}/dmelFilteredCds.gff\n",
    "# Coding gene list. gene_id always on column 9, 3th field\n",
    "cut -f1,9 ${DATA}/dmelFilteredCds.gff | tr ';' '\\t' | cut -f1,2 | sort -u | sort -k1,1 > ${DATA}/codingGeneList.txt\n",
    "\n",
    "\n",
    "CHR=( 2L 2R 3L 3R X )\n",
    "# Parse gff file by chr\n",
    "for chrNumber in \"${CHR[@]}\"\n",
    "do\n",
    "    grep -P \"${chrNumber}\\t\"  ${DATA}/dmelFilteredGenes.gff | sort -k4,4n > ${BASIC}/gencode.v27lift37.basic.annotation.chr${chrNumber}.gff3 \n",
    "    grep -P \"${chrNumber}\\t\"  ${DATA}/dmelFilteredCds.gff | sort -k1,1 -k4,4n > ${CDS}/dmelFilteredCdsChr${chrNumber}.gff3 \n",
    "    grep -P \"${chrNumber}\\t\"  ${DATA}/dmelFilteredGenes.gff | sort -k1,1 -k4,4n > ${GENES}/dmelFilteredGenesChr${chrNumber}.gff3 \n",
    "done\n",
    "\n",
    "rm ${DATA}/dmel-all-no-analysis-r5.57.gff"
   ]
  },
  {
   "cell_type": "markdown",
   "metadata": {
    "heading_collapsed": true
   },
   "source": [
    "#### Basic cleaned gene file\n",
    "This file will include information about chromosomes, start coordinates, end coordinates strand, gene id and gene name. It will be and perform calculations on gene coordinates. Kind of gff file easier to work with"
   ]
  },
  {
   "cell_type": "code",
   "execution_count": null,
   "metadata": {
    "ExecuteTime": {
     "end_time": "2019-02-16T15:23:44.379526Z",
     "start_time": "2019-02-16T15:22:35.547591Z"
    },
    "hidden": true
   },
   "outputs": [],
   "source": [
    "%%bash\n",
    "DATA='/home/jmurga/mkt/201902/rawData/annotations'\n",
    "GENES='/home/jmurga/mkt/201902/rawData/annotations/genes'\n",
    "touch ${DATA}/flybaseGenesCleaned.tab \n",
    "printf \"chr\\tstartGene\\tendGene\\tstrand\\tid\\tname\\n\" > ${DATA}/flybaseGenesCleaned.tab\n",
    "\n",
    "time while read LINE;\n",
    "do \n",
    "    CHR=$(echo ${LINE} | cut -d' ' -f1)\n",
    "    GENE=$(echo ${LINE} | cut -d' ' -f2 | sed 's/-cds//g')\n",
    "    # echo $GENE\n",
    "\n",
    "    fgrep `echo \"${GENE};\"`  ${GENES}/dmelFilteredGenesChr${CHR}.gff3 | fgrep ${CHR} |  cut -f1,4,5,7,9 | tr ';' '\\t' | cut -f1,2,3,4,5,6 \n",
    "    \n",
    "done < ${DATA}/codingGeneList.txt | tr ' ' '\\t' | sed 's/ID=//g' | sed 's/Name=//g' | sort -k1,1 -k2,2n >> ${DATA}/flybaseGenesCleaned.tab"
   ]
  },
  {
   "cell_type": "code",
   "execution_count": null,
   "metadata": {
    "ExecuteTime": {
     "end_time": "2019-02-18T10:58:16.286831Z",
     "start_time": "2019-02-18T10:58:16.185761Z"
    },
    "hidden": true
   },
   "outputs": [],
   "source": [
    "dfGenes = pd.read_csv(DATA + '/annotations/flybaseGenesCleaned.tab',header = 0,sep='\\t')\n",
    "dfGenes.head()"
   ]
  },
  {
   "cell_type": "markdown",
   "metadata": {
    "ExecuteTime": {
     "end_time": "2019-01-29T15:16:03.643881Z",
     "start_time": "2019-01-29T15:16:03.602413Z"
    },
    "hidden": true
   },
   "source": [
    "File to merge features annotated with gene name instead of gene id"
   ]
  },
  {
   "cell_type": "code",
   "execution_count": null,
   "metadata": {
    "ExecuteTime": {
     "end_time": "2019-02-18T10:58:18.298611Z",
     "start_time": "2019-02-18T10:58:18.237590Z"
    },
    "hidden": true
   },
   "outputs": [],
   "source": [
    "idName = dfGenes[['id','name']]\n",
    "idName.to_csv(DATA + '/annotations/idName.tab',sep='\\t',index=False,header=True)"
   ]
  },
  {
   "cell_type": "markdown",
   "metadata": {},
   "source": [
    "#### Extracting CDS coordinates from largest transcript by gene\n",
    "From the largest transcript we recover id, size, and CDS coordinates. Moreover we save number of transcripts too.  \n",
    "Coordinates will be used to recover CDS sequences and to calcute Derived Allele Frequencies from 0fold and 4fold degenerate sequences"
   ]
  },
  {
   "cell_type": "markdown",
   "metadata": {
    "heading_collapsed": true
   },
   "source": [
    "##### Raw cds coordinates"
   ]
  },
  {
   "cell_type": "code",
   "execution_count": null,
   "metadata": {
    "ExecuteTime": {
     "end_time": "2019-02-16T15:26:53.634726Z",
     "start_time": "2019-02-16T15:26:53.404821Z"
    },
    "code_folding": [],
    "hidden": true
   },
   "outputs": [],
   "source": [
    "%%bash\n",
    "DATA='/home/jmurga/mkt/201902/rawData/annotations'\n",
    "CDS='/home/jmurga/mkt/201902/rawData/annotations/cds'\n",
    "TEMPORAL='/home/jmurga/mkt/201902/rawData/annotations/tmp'\n",
    "\n",
    "touch ${DATA}/cdsCoordinates.tab\n",
    "printf \"name\\tchr\\tnumberOfTranscript\\ttranscript\\ttranscriptSize\\tcoordinates\\n\" > ${DATA}/cdsCoordinates.tab\n",
    "\n",
    "count=0\n",
    "time tail -n+2 ${DATA}/flybaseGenesCleaned.tab | while read LINE;\n",
    "do \n",
    "    echo '*************'    \n",
    "    CHR=$(echo ${LINE} | cut -d' ' -f1)\n",
    "    GENE=$(echo ${LINE} | cut -d' ' -f6)\n",
    "    \n",
    "    printf ${count}\n",
    "    # fgrep ${GENE} ${CDS}/dmelFilteredCdsChr${CHR}.gff3 | cut -f9 | cut -d';' -f2 | cut -d'=' -f2 | sort -u > ${TEMPORAL}/transcriptTmp.tab\n",
    "    \n",
    "    fgrep `echo \"Name=${GENE}-cds;\"` ${CDS}/dmelFilteredCdsChr${CHR}.gff3 | grep -P \"${CHR}\\t\" | cut -f9 | tr ';' '\\n' | fgrep Parent | sort -u | tr ',' '\\n' | cut -d'=' -f2 | sort -u > ${TEMPORAL}/transcriptTmp.tab\n",
    "\n",
    "    largestTranscript=$(while read transcript; do fgrep ${transcript} ${CDS}/dmelFilteredCdsChr${CHR}.gff3 | awk '{print $5-$4}' | awk -v transcript=\"$transcript\"  '{sum+=$1} END{print transcript\"\\t\"sum}' ;done < ${TEMPORAL}/transcriptTmp.tab | sort -nrk2,2 | head -1 )\n",
    "    \n",
    "    paste <(echo $GENE) <(echo $CHR) <(wc -l ${TEMPORAL}/transcriptTmp.tab | cut -d' ' -f1) <(echo $largestTranscript | cut -d' ' -f1) <(echo $largestTranscript | cut -d' ' -f2) <(fgrep `echo ${largestTranscript} | cut -d' ' -f1` ${CDS}/dmelFilteredCdsChr${CHR}.gff3  | cut -f4,5 | sort -k1,1n | awk '{printf $1\",\"$2\",\"}' | sed 's/.$//') >> ${DATA}/cdsCoordinates.tab\n",
    "    \n",
    "    (( count++ ))\n",
    "\n",
    "done \n"
   ]
  },
  {
   "cell_type": "markdown",
   "metadata": {},
   "source": [
    "##### Recoding fasta sequences"
   ]
  },
  {
   "cell_type": "markdown",
   "metadata": {},
   "source": [
    "Opening cdsCoordinates file to extract fasta sequence using pyfaidx"
   ]
  },
  {
   "cell_type": "code",
   "execution_count": null,
   "metadata": {
    "ExecuteTime": {
     "end_time": "2019-02-18T11:09:15.695816Z",
     "start_time": "2019-02-18T11:09:15.583788Z"
    },
    "scrolled": true
   },
   "outputs": [],
   "source": [
    "dfGenes = pd.read_csv(DATA + '/annotations/flybaseGenesCleaned.tab',header = 0,usecols=['id','name','chr','strand'],sep='\\t')\n",
    "\n",
    "cds = pd.read_csv(DATA + '/annotations/cdsCoordinates.tab',header=0,usecols=['name','chr','coordinates'],sep='\\t')\n",
    "\n",
    "cds = pd.merge(cds, dfGenes,  how='inner', left_on=['chr','name'], right_on = ['chr','name'])"
   ]
  },
  {
   "cell_type": "code",
   "execution_count": null,
   "metadata": {
    "ExecuteTime": {
     "end_time": "2019-02-18T16:15:27.858853Z",
     "start_time": "2019-02-18T16:18:47.241Z"
    }
   },
   "outputs": [],
   "source": [
    "cds.shape"
   ]
  },
  {
   "cell_type": "code",
   "execution_count": null,
   "metadata": {
    "ExecuteTime": {
     "end_time": "2019-02-17T11:57:44.849383Z",
     "start_time": "2019-02-17T11:57:44.840545Z"
    }
   },
   "outputs": [],
   "source": [
    "sys.path.insert(0, SRC)\n",
    "from reverseComplement import reverseComplement\n",
    "from degen import degenerate"
   ]
  },
  {
   "cell_type": "code",
   "execution_count": null,
   "metadata": {
    "ExecuteTime": {
     "end_time": "2019-02-17T12:01:14.694547Z",
     "start_time": "2019-02-17T12:01:14.633743Z"
    },
    "code_folding": [
     29,
     61
    ],
    "hide_input": false,
    "scrolled": true
   },
   "outputs": [],
   "source": [
    "# Rewrite file each execution\n",
    "# multifasta = open(DATA + '/annotations/fop/cds.fa', 'w')\n",
    "for index, row in cds[(cds['chr']=='2L')].iterrows():\n",
    "# for index, row in cds.iterrows():\n",
    "    # Convert CDS list into numeric array\n",
    "    print(index)\n",
    "    coordinates = array(row['coordinates'].split(',')).astype(int).tolist()\n",
    "    coordinates =  [coordinates[i:i+2] for i in range(0, len(coordinates), 2)]\n",
    "    \n",
    "    # Open ref and outgroup\n",
    "    ref = Fasta(DATA + '/fastas/ref/Chr' + row['chr'] +'.fasta')\n",
    "    outgroup = Fasta(DATA + '/fastas/outgroup/dsim/Simulans_Chr' + row['chr'] +'.seq')\n",
    "    \n",
    "    ## Extract ref and outgroup seq\n",
    "    refSeq = ref.get_spliced_seq(row['chr'], coordinates).seq.upper()\n",
    "    outgroupSeq = outgroup.get_spliced_seq('dsim' + row['chr'], coordinates).seq.upper()\n",
    "   \n",
    "    # Open population multifasta\n",
    "    popFasta = Fasta(DATA + '/fastas/alignments/RAL/' + 'RAL_' + 'Chr' + row['chr'] +'.seq')\n",
    "    \n",
    "    #Extract samples\n",
    "    samples = list(popFasta.keys())\n",
    "\n",
    "    # Open variables and file to write\n",
    "#     multifasta = open(DATA + '/fastas/genes/RAL/' + row['id'] +'.fa', 'w')\n",
    "    ## Empty matrix to append ref, pop and outgroup\n",
    "    matrix0f=np.empty([len(samples)+2,len(refSeq)],dtype='str')\n",
    "    matrix4f=np.empty([len(samples)+2,len(refSeq)],dtype='str')\n",
    "\n",
    "    if(row['strand'] == '-'):\n",
    "    #     if((len(refSeq)/3).is_integer()):\n",
    "        refSeq = reverseComplement(refSeq)\n",
    "        refSeq0f,refSeq4f = degenerate(refSeq)\n",
    "        outgroupSeq = reverseComplement(outgroupSeq)\n",
    "        \n",
    "        matrix4f[0] = list(refSeq4f)\n",
    "        matrix0f[0] = list(refSeq0f)\n",
    "        matrix4f[len(matrix4f)-1] = list(outgroupSeq)\n",
    "        matrix0f[len(matrix0f)-1] = list(outgroupSeq)\n",
    "        \n",
    "        deleteIndex = []\n",
    "        for i in range(0,len(samples),1):\n",
    "            tmp = popFasta.get_spliced_seq(samples[i], coordinates).seq.upper()\n",
    "            tmp = reverseComplement(tmp)\n",
    "            if(tmp == 'N' * len(tmp)):\n",
    "                deleteIndex.append(i+1)\n",
    "            else:\n",
    "                matrix4f[i+1] = list(tmp)\n",
    "                matrix0f[i+1] = list(tmp)\n",
    "            # aln += '>' + i + '\\n' + tmp + '\\n'\n",
    "        # Delete lines with only N\n",
    "        matrix4f = np.delete(matrix4f,deleteIndex,0)\n",
    "        matrix0f = np.delete(matrix0f,deleteIndex,0)\n",
    "        \n",
    "        # Iter by matrix column to degenerate all sequences based on reference sequence\n",
    "        for j in range(0,matrix4f.shape[1],1):\n",
    "            # print(j)\n",
    "            if(matrix4f[0][j] == 'N'):\n",
    "                matrix4f[:,j]='N'\n",
    "            if(matrix0f[0][j]=='N'):\n",
    "                matrix0f[:,j]='N'       \n",
    "    else:\n",
    "\n",
    "        refSeq0f,refSeq4f = degenerate(refSeq)\n",
    "\n",
    "        matrix4f[0] = list(refSeq4f)\n",
    "        matrix4f[len(matrix4f)-1] = list(outgroupSeq)\n",
    "        \n",
    "        matrix0f[0] = list(refSeq0f)\n",
    "        matrix0f[len(matrix0f)-1] = list(outgroupSeq)\n",
    "        \n",
    "        # Iter by row matrix to input sequences\n",
    "        deleteIndex = []\n",
    "        for i in range(0,len(samples),1):\n",
    "            tmp = popFasta.get_spliced_seq(samples[i], coordinates).seq.upper()\n",
    "            if(tmp == 'N' * len(tmp)):\n",
    "#                 print(tmp)\n",
    "                # Save lines index with only N\n",
    "                deleteIndex.append(i+1)\n",
    "            else:\n",
    "                matrix4f[i+1] = list(tmp)\n",
    "                matrix0f[i+1] = list(tmp)\n",
    "            # aln += '>' + i + '\\n' + tmp + '\\n'\n",
    "        # Delete lines with only N\n",
    "        matrix4f = np.delete(matrix4f,deleteIndex,0)\n",
    "        matrix0f = np.delete(matrix0f,deleteIndex,0)\n",
    "                \n",
    "        # Iter by matrix column to degenerate all sequences based on reference sequence\n",
    "        for j in range(0,matrix4f.shape[1],1):\n",
    "            # print(j)\n",
    "            if(matrix4f[0][j] == 'N'):\n",
    "                matrix4f[:,j]='N'\n",
    "            if(matrix0f[0][j]=='N'):\n",
    "                matrix0f[:,j]='N'\n",
    "        \n",
    "    df4f = pd.DataFrame(matrix4f)\n",
    "    df4f = df4f.loc[:,df4f.iloc[0]!='N']\n",
    "    div = [] \n",
    "    daf = []\n",
    "    for i in df4f.columns:\n",
    "\n",
    "        if(len(df4f.loc[:,i][df4f.loc[:,i] != 'N']) < 160):\n",
    "            continue\n",
    "        else:\n",
    "\n",
    "            df4f = df4f.loc[:,i][df4f.loc[:,i] != 'N'].sample(160,replace=False)\n",
    "\n",
    "            if((df4f.loc[len(df4f)-1,i] != df4f.loc[0,i]) & (len(df4f.loc[1:len(df4f)-2,i].unique()[df4f.loc[0:len(df4f)-2,i].unique()!='N'])==1)): \n",
    "                div.append(i) \n",
    "            else:\n",
    "\n",
    "                AA = df4f.loc[len(df4f)-1,i]\n",
    "                AN = len(df4f.loc[1:len(df4f)-1,i])\n",
    "                AC = df4f.loc[1:len(df4f)-1,i]\n",
    "                totalAlleles = AC[AC!='N'].unique()\n",
    "                AC = AC[AC!='N'].value_counts()\n",
    "\n",
    "                if(len(totalAlleles) == 1):\n",
    "                    af = 0\n",
    "                else:\n",
    "                    af = AC.sort_values(ascending=False)\n",
    "                    af = AC.drop(AA)[0]/AN\n",
    "                    daf.append(af)\n",
    "                    print(row['id'],daf,len(div))"
   ]
  },
  {
   "cell_type": "markdown",
   "metadata": {},
   "source": [
    "##### N calls distributions"
   ]
  },
  {
   "cell_type": "code",
   "execution_count": null,
   "metadata": {
    "code_folding": [
     2
    ]
   },
   "outputs": [],
   "source": [
    "# for index, row in cds[(cds['chr']=='2L')].iterrows():\n",
    "    \n",
    "for index, row in cds.iterrows():\n",
    "    print(index)\n",
    "    # Convert CDS list into numeric array\n",
    "    coordinates = array(row['coordinates'].split(',')).astype(int).tolist()\n",
    "    coordinates =  [coordinates[i:i+2] for i in range(0, len(coordinates), 2)]\n",
    "    \n",
    "    \n",
    "    # Open ref and outgroup\n",
    "    ref = Fasta(DATA + '/fastas/ref/Chr' + row['chr'] +'.fasta')  \n",
    "    ## Extract ref and outgroup seq\n",
    "    refSeq = ref.get_spliced_seq(row['chr'], coordinates).seq.upper()    \n",
    "\n",
    "    if('N' not in refSeq):\n",
    "\n",
    "        # Open population multifasta\n",
    "        popFasta = Fasta(DATA + '/fastas/alignments/RAL/' + 'RAL_' + 'Chr' + row['chr'] +'.seq')\n",
    "\n",
    "        #Extract samples\n",
    "        samples = list(popFasta.keys())\n",
    "\n",
    "        matrix4f = np.empty([len(samples)+1,len(refSeq)],dtype='str')\n",
    "        matrix0f = np.empty([len(samples)+1,len(refSeq)],dtype='str')\n",
    "\n",
    "\n",
    "        if((len(refSeq)/3).is_integer()):        \n",
    "\n",
    "            if(row['strand'] == '-'):            \n",
    "                refSeq = reverseComplement(refSeq)\n",
    "                refSeq0f,refSeq4f = degenerate(refSeq)\n",
    "                matrix4f[0] = list(refSeq4f)\n",
    "                matrix0f[0] = list(refSeq0f)\n",
    "\n",
    "                for i in range(0,len(samples),1):\n",
    "                    tmp = popFasta.get_spliced_seq(samples[i], coordinates).seq.upper()\n",
    "                    tmp = reverseComplement(tmp)\n",
    "                    matrix4f[i+1] = list(tmp)\n",
    "                    matrix0f[i+1] = list(tmp)\n",
    "\n",
    "                for j in range(0,matrix4f.shape[1],1):\n",
    "                    # print(j)\n",
    "                    if(matrix4f[0][j] == 'N'):\n",
    "                        matrix4f[:,j]='N'\n",
    "                    if(matrix0f[0][j]=='N'):\n",
    "                        matrix0f[:,j]='N'    \n",
    "\n",
    "            else:\n",
    "                refSeq0f,refSeq4f = degenerate(refSeq)\n",
    "                matrix4f[0] = list(refSeq4f)\n",
    "                matrix0f[0] = list(refSeq0f)\n",
    "\n",
    "                for i in range(0,len(samples),1):\n",
    "                    tmp = popFasta.get_spliced_seq(samples[i], coordinates).seq.upper()\n",
    "                    matrix4f[i+1] = list(tmp)\n",
    "\n",
    "                for j in range(0,matrix4f.shape[1],1):\n",
    "                    # print(j)\n",
    "                    if(matrix4f[0][j] == 'N'):\n",
    "                        matrix4f[:,j]='N'\n",
    "                    if(matrix0f[0][j]=='N'):\n",
    "                        matrix0f[:,j]='N'\n",
    "            \n",
    "            df4f = pd.DataFrame(matrix4f)\n",
    "            df4f = df4f.loc[:,df4f.iloc[0]!='N']\n",
    "            df4f.to_csv(DATA + '/fastas/genes/RAL/fourFold/' + row['id'] + '_4fold.fa',index=False)\n",
    "            \n",
    "            df0f = pd.DataFrame(matrix0f)\n",
    "            df0f = df0f.loc[:,df0f.iloc[0]!='N']\n",
    "            df0f.to_csv(DATA + '/fastas/genes/RAL/zeroFold/' + row['id'] + '_0fold.fa',index=False)\n",
    "\n",
    "#             print(df4f)\n",
    "    else:\n",
    "        continue"
   ]
  },
  {
   "cell_type": "markdown",
   "metadata": {},
   "source": [
    "Four fold positions"
   ]
  },
  {
   "cell_type": "code",
   "execution_count": null,
   "metadata": {
    "ExecuteTime": {
     "end_time": "2019-02-18T15:00:17.322852Z",
     "start_time": "2019-02-18T14:55:50.572209Z"
    }
   },
   "outputs": [],
   "source": [
    "path ='/home/jmurga/mkt/201902/rawData/fastas/genes/RAL/fourFold/' # use your path\n",
    "allFiles = glob.glob(path + \"/*.fa\")\n",
    "\n",
    "counts = pd.DataFrame()\n",
    "\n",
    "for file_ in allFiles:\n",
    "    df = pd.read_csv(file_,index_col=None, header=0, skiprows=[0])\n",
    "    tmp = df.apply(lambda x: x.value_counts()).dropna()\n",
    "    tmp = tmp.loc['N',:].value_counts().reset_index()\n",
    "    counts = counts.append(tmp)\n",
    "#     counts.append(tmp)\n",
    "#     counts = counts\n",
    "counts = counts.groupby(['index']).sum()"
   ]
  },
  {
   "cell_type": "markdown",
   "metadata": {
    "ExecuteTime": {
     "end_time": "2019-02-18T16:13:58.664336Z",
     "start_time": "2019-02-18T16:13:58.658024Z"
    }
   },
   "source": [
    "Zero fold positions"
   ]
  },
  {
   "cell_type": "code",
   "execution_count": null,
   "metadata": {},
   "outputs": [],
   "source": [
    "path =r'/home/jmurga/mkt/201902/rawData/fastas/genes/RAL/fourFold' # use your path\n",
    "allFiles = glob.glob(path + \"/*.fa\")\n",
    "\n",
    "counts = pd.DataFrame()\n",
    "\n",
    "for file_ in allFiles:\n",
    "    print(file_)\n",
    "    df = pd.read_csv(file_,index_col=None, header=0, skiprows=[0])\n",
    "    tmp = df.apply(lambda x: x.value_counts()).dropna()\n",
    "    tmp = tmp.loc['N',:].value_counts().reset_index()\n",
    "    counts = counts.append(tmp)\n",
    "#     counts.append(tmp)\n",
    "#     counts = counts\n",
    "countsGrouped = counts.groupby(['index']).sum().sort('index').reset_index()"
   ]
  }
 ],
 "metadata": {
  "kernelspec": {
   "display_name": "Python 3",
   "language": "python",
   "name": "python3"
  },
  "language_info": {
   "codemirror_mode": {
    "name": "ipython",
    "version": 3
   },
   "file_extension": ".py",
   "mimetype": "text/x-python",
   "name": "python",
   "nbconvert_exporter": "python",
   "pygments_lexer": "ipython3",
   "version": "3.6.7"
  },
  "toc": {
   "base_numbering": 1,
   "nav_menu": {},
   "number_sections": true,
   "sideBar": true,
   "skip_h1_title": false,
   "title_cell": "Table of Contents",
   "title_sidebar": "Contents",
   "toc_cell": false,
   "toc_position": {
    "height": "calc(100% - 180px)",
    "left": "10px",
    "top": "150px",
    "width": "165px"
   },
   "toc_section_display": true,
   "toc_window_display": true
  },
  "varInspector": {
   "cols": {
    "lenName": 16,
    "lenType": 16,
    "lenVar": 40
   },
   "kernels_config": {
    "python": {
     "delete_cmd_postfix": "",
     "delete_cmd_prefix": "del ",
     "library": "var_list.py",
     "varRefreshCmd": "print(var_dic_list())"
    },
    "r": {
     "delete_cmd_postfix": ") ",
     "delete_cmd_prefix": "rm(",
     "library": "var_list.r",
     "varRefreshCmd": "cat(var_dic_list()) "
    }
   },
   "oldHeight": 122.85,
   "position": {
    "height": "307px",
    "left": "1010px",
    "right": "20px",
    "top": "120px",
    "width": "250px"
   },
   "types_to_exclude": [
    "module",
    "function",
    "builtin_function_or_method",
    "instance",
    "_Feature"
   ],
   "varInspector_section_display": "none",
   "window_display": false
  }
 },
 "nbformat": 4,
 "nbformat_minor": 2
}
