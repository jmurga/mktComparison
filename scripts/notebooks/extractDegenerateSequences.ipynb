{
 "cells": [
  {
   "cell_type": "markdown",
   "metadata": {},
   "source": [
    "### Drosophila melanogaster genes "
   ]
  },
  {
   "cell_type": "markdown",
   "metadata": {},
   "source": [
    "To execute bash code we created a snippets through nbextensions containing the following paths in order to avoid copy and paste cell contains. %%bash magic do not recognize previous variables. Adding mkdir command to create necesary paths"
   ]
  },
  {
   "cell_type": "code",
   "execution_count": null,
   "metadata": {
    "ExecuteTime": {
     "end_time": "2019-02-16T14:59:36.033456Z",
     "start_time": "2019-02-16T14:59:36.021246Z"
    }
   },
   "outputs": [],
   "source": [
    "%%bash\n",
    "DATA='/home/jmurga/mkt/201902/rawData/annotations'\n",
    "BASIC='/home/jmurga/mkt/201902/rawData/annotations/basicAnnotation'\n",
    "CDS='/home/jmurga/mkt/201902/rawData/annotations/cds'\n",
    "GENES='/home/jmurga/mkt/201902/rawData/annotations/genes'\n",
    "TEMPORAL='/home/jmurga/mkt/201902/rawData/annotations/tmp'\n",
    "\n",
    "mkdir -p ${DATA}\n",
    "mkdir -p ${BASIC}\n",
    "mkdir -p ${CDS}\n",
    "mkdir -p ${GENES}\n",
    "mkdir -p ${TEMPORAL}"
   ]
  },
  {
   "cell_type": "markdown",
   "metadata": {},
   "source": [
    "Defining global path to python. In this case these variables will be stored after one execution"
   ]
  },
  {
   "cell_type": "code",
   "execution_count": 7,
   "metadata": {
    "ExecuteTime": {
     "end_time": "2019-02-20T14:20:20.573290Z",
     "start_time": "2019-02-20T14:20:20.569431Z"
    }
   },
   "outputs": [],
   "source": [
    "SRC='/home/jmurga/mkt/201902/scripts/src'\n",
    "DATA='/home/jmurga/mkt/201902/rawData'"
   ]
  },
  {
   "cell_type": "markdown",
   "metadata": {},
   "source": [
    "Required libraries"
   ]
  },
  {
   "cell_type": "code",
   "execution_count": 8,
   "metadata": {
    "ExecuteTime": {
     "end_time": "2019-02-20T14:20:21.829118Z",
     "start_time": "2019-02-20T14:20:21.819743Z"
    }
   },
   "outputs": [],
   "source": [
    "import os\n",
    "import re\n",
    "import sys\n",
    "import numpy as np\n",
    "import pandas as pd\n",
    "from numpy import array \n",
    "from pyfaidx import Fasta"
   ]
  },
  {
   "cell_type": "markdown",
   "metadata": {
    "heading_collapsed": true
   },
   "source": [
    "#### Download Flybase annotation"
   ]
  },
  {
   "cell_type": "code",
   "execution_count": null,
   "metadata": {
    "ExecuteTime": {
     "end_time": "2019-02-16T15:00:16.932169Z",
     "start_time": "2019-02-16T14:59:49.290829Z"
    },
    "hidden": true
   },
   "outputs": [],
   "source": [
    "%%bash\n",
    "DATA='/home/jmurga/mkt/201902/rawData/annotations'\n",
    "\n",
    "cd ${DATA}\n",
    "# Flybase annotation\n",
    "wget ftp://ftp.flybase.net/genomes/Drosophila_melanogaster/dmel_r5.57_FB2014_03/gff/dmel-all-no-analysis-r5.57.gff.gz\n",
    "gunzip dmel-all-no-analysis-r5.57.gff.gz"
   ]
  },
  {
   "cell_type": "markdown",
   "metadata": {},
   "source": [
    "#### Parsing and cleaning flybase annotation to execute all operations by chr\n",
    "Next operation will be faster due to grep on smaller files. Space is not a problem in our server right now. Each folder contain an specific file foreach chromosome. "
   ]
  },
  {
   "cell_type": "code",
   "execution_count": null,
   "metadata": {
    "ExecuteTime": {
     "end_time": "2019-02-16T15:01:13.993165Z",
     "start_time": "2019-02-16T15:01:05.675233Z"
    }
   },
   "outputs": [],
   "source": [
    "%%bash\n",
    "DATA='/home/jmurga/mkt/201902/rawData/annotations'\n",
    "BASIC='/home/jmurga/mkt/201902/rawData/annotations/basicAnnotation'\n",
    "CDS='/home/jmurga/mkt/201902/rawData/annotations/cds'\n",
    "GENES='/home/jmurga/mkt/201902/rawData/annotations/genes'\n",
    "TEMPORAL='/home/jmurga/mkt/201902/rawData/annotations/tmp'\n",
    "\n",
    "mkdir -p ${BASIC}\n",
    "mkdir -p ${CDS}\n",
    "mkdir -p ${GENES}\n",
    "mkdir -p ${TEMPORAL}\n",
    "\n",
    "# Extract sequences f\n",
    "# Extract annotations from gff file\n",
    "sed -e '/^>/,$d' ${DATA}/dmel-all-no-analysis-r5.57.gff | sed -e '/^2LHet/d' -e  '/2RHet/d' -e '/3LHet/d' -e '/3RHet/d' -e  '/^4\\t/d' -e '/dmel_mitochondrion_genome/d' -e '/^U\\t/d' -e '/^Uextra\\t/d' -e  '/^XHet\\t/d' -e '/^YHet\\t/d' -e'/\\tCG/d' > ${DATA}/dmelFiltered.gff\n",
    "# Extract genes information\n",
    "grep -P \"\\tgene\\t\" ${DATA}/dmelFiltered.gff  > ${DATA}/dmelFilteredGenes.gff\n",
    "# Extract CDS information. Only protein coding genes\n",
    "grep -P \"\\tCDS\\t\" ${DATA}/dmelFiltered.gff  > ${DATA}/dmelFilteredCds.gff\n",
    "# Coding gene list. gene_id always on column 9, 3th field\n",
    "cut -f1,9 ${DATA}/dmelFilteredCds.gff | tr ';' '\\t' | cut -f1,2 | sort -u | sort -k1,1 > ${DATA}/codingGeneList.txt\n",
    "\n",
    "\n",
    "CHR=( 2L 2R 3L 3R X )\n",
    "# Parse gff file by chr\n",
    "for chrNumber in \"${CHR[@]}\"\n",
    "do\n",
    "    grep -P \"${chrNumber}\\t\"  ${DATA}/dmelFilteredGenes.gff | sort -k4,4n > ${BASIC}/gencode.v27lift37.basic.annotation.chr${chrNumber}.gff3 \n",
    "    grep -P \"${chrNumber}\\t\"  ${DATA}/dmelFilteredCds.gff | sort -k1,1 -k4,4n > ${CDS}/dmelFilteredCdsChr${chrNumber}.gff3 \n",
    "    grep -P \"${chrNumber}\\t\"  ${DATA}/dmelFilteredGenes.gff | sort -k1,1 -k4,4n > ${GENES}/dmelFilteredGenesChr${chrNumber}.gff3 \n",
    "done\n",
    "\n",
    "rm ${DATA}/dmel-all-no-analysis-r5.57.gff"
   ]
  },
  {
   "cell_type": "markdown",
   "metadata": {},
   "source": [
    "#### Basic cleaned gene file\n",
    "This file will include information about chromosomes, start coordinates, end coordinates strand, gene id and gene name. It will be and perform calculations on gene coordinates. Kind of gff file easier to work with"
   ]
  },
  {
   "cell_type": "code",
   "execution_count": null,
   "metadata": {
    "ExecuteTime": {
     "end_time": "2019-02-16T15:23:44.379526Z",
     "start_time": "2019-02-16T15:22:35.547591Z"
    }
   },
   "outputs": [],
   "source": [
    "%%bash\n",
    "DATA='/home/jmurga/mkt/201902/rawData/annotations'\n",
    "GENES='/home/jmurga/mkt/201902/rawData/annotations/genes'\n",
    "touch ${DATA}/flybaseGenesCleaned.tab \n",
    "printf \"chr\\tstartGene\\tendGene\\tstrand\\tid\\tname\\n\" > ${DATA}/flybaseGenesCleaned.tab\n",
    "\n",
    "time while read LINE;\n",
    "do \n",
    "    CHR=$(echo ${LINE} | cut -d' ' -f1)\n",
    "    GENE=$(echo ${LINE} | cut -d' ' -f2 | sed 's/-cds//g')\n",
    "    # echo $GENE\n",
    "\n",
    "    fgrep `echo \"${GENE};\"`  ${GENES}/dmelFilteredGenesChr${CHR}.gff3 | fgrep ${CHR} |  cut -f1,4,5,7,9 | tr ';' '\\t' | cut -f1,2,3,4,5,6 \n",
    "    \n",
    "done < ${DATA}/codingGeneList.txt | tr ' ' '\\t' | sed 's/ID=//g' | sed 's/Name=//g' | sort -k1,1 -k2,2n >> ${DATA}/flybaseGenesCleaned.tab"
   ]
  },
  {
   "cell_type": "code",
   "execution_count": null,
   "metadata": {
    "ExecuteTime": {
     "end_time": "2019-02-18T10:58:16.286831Z",
     "start_time": "2019-02-18T10:58:16.185761Z"
    }
   },
   "outputs": [],
   "source": [
    "dfGenes = pd.read_csv(DATA + '/annotations/flybaseGenesCleaned.tab',header = 0,sep='\\t')\n",
    "dfGenes.head()"
   ]
  },
  {
   "cell_type": "markdown",
   "metadata": {
    "ExecuteTime": {
     "end_time": "2019-01-29T15:16:03.643881Z",
     "start_time": "2019-01-29T15:16:03.602413Z"
    }
   },
   "source": [
    "File to merge features annotated with gene name instead of gene id"
   ]
  },
  {
   "cell_type": "code",
   "execution_count": null,
   "metadata": {
    "ExecuteTime": {
     "end_time": "2019-02-18T10:58:18.298611Z",
     "start_time": "2019-02-18T10:58:18.237590Z"
    }
   },
   "outputs": [],
   "source": [
    "idName = dfGenes[['id','name']]\n",
    "idName.to_csv(DATA + '/annotations/idName.tab',sep='\\t',index=False,header=True)"
   ]
  },
  {
   "cell_type": "markdown",
   "metadata": {},
   "source": [
    "#### Extracting CDS coordinates from largest transcript by gene\n",
    "From the largest transcript we recover id, size, and CDS coordinates. Moreover we save number of transcripts too.  \n",
    "Coordinates will be used to recover CDS sequences and to calcute Derived Allele Frequencies from 0fold and 4fold degenerate sequences"
   ]
  },
  {
   "cell_type": "markdown",
   "metadata": {
    "heading_collapsed": true
   },
   "source": [
    "##### Raw cds coordinates"
   ]
  },
  {
   "cell_type": "code",
   "execution_count": null,
   "metadata": {
    "ExecuteTime": {
     "end_time": "2019-02-16T15:26:53.634726Z",
     "start_time": "2019-02-16T15:26:53.404821Z"
    },
    "code_folding": [],
    "hidden": true
   },
   "outputs": [],
   "source": [
    "%%bash\n",
    "DATA='/home/jmurga/mkt/201902/rawData/annotations'\n",
    "CDS='/home/jmurga/mkt/201902/rawData/annotations/cds'\n",
    "TEMPORAL='/home/jmurga/mkt/201902/rawData/annotations/tmp'\n",
    "\n",
    "touch ${DATA}/cdsCoordinates.tab\n",
    "printf \"name\\tchr\\tnumberOfTranscript\\ttranscript\\ttranscriptSize\\tcoordinates\\n\" > ${DATA}/cdsCoordinates.tab\n",
    "\n",
    "count=0\n",
    "time tail -n+2 ${DATA}/flybaseGenesCleaned.tab | while read LINE;\n",
    "do \n",
    "    echo '*************'    \n",
    "    CHR=$(echo ${LINE} | cut -d' ' -f1)\n",
    "    GENE=$(echo ${LINE} | cut -d' ' -f6)\n",
    "    \n",
    "    printf ${count}\n",
    "    # fgrep ${GENE} ${CDS}/dmelFilteredCdsChr${CHR}.gff3 | cut -f9 | cut -d';' -f2 | cut -d'=' -f2 | sort -u > ${TEMPORAL}/transcriptTmp.tab\n",
    "    \n",
    "    fgrep `echo \"Name=${GENE}-cds;\"` ${CDS}/dmelFilteredCdsChr${CHR}.gff3 | grep -P \"${CHR}\\t\" | cut -f9 | tr ';' '\\n' | fgrep Parent | sort -u | tr ',' '\\n' | cut -d'=' -f2 | sort -u > ${TEMPORAL}/transcriptTmp.tab\n",
    "\n",
    "    largestTranscript=$(while read transcript; do fgrep ${transcript} ${CDS}/dmelFilteredCdsChr${CHR}.gff3 | awk '{print $5-$4}' | awk -v transcript=\"$transcript\"  '{sum+=$1} END{print transcript\"\\t\"sum}' ;done < ${TEMPORAL}/transcriptTmp.tab | sort -nrk2,2 | head -1 )\n",
    "    \n",
    "    paste <(echo $GENE) <(echo $CHR) <(wc -l ${TEMPORAL}/transcriptTmp.tab | cut -d' ' -f1) <(echo $largestTranscript | cut -d' ' -f1) <(echo $largestTranscript | cut -d' ' -f2) <(fgrep `echo ${largestTranscript} | cut -d' ' -f1` ${CDS}/dmelFilteredCdsChr${CHR}.gff3  | cut -f4,5 | sort -k1,1n | awk '{printf $1\",\"$2\",\"}' | sed 's/.$//') >> ${DATA}/cdsCoordinates.tab\n",
    "    \n",
    "    (( count++ ))\n",
    "\n",
    "done \n"
   ]
  },
  {
   "cell_type": "markdown",
   "metadata": {},
   "source": [
    "##### N calls distributions"
   ]
  },
  {
   "cell_type": "markdown",
   "metadata": {
    "heading_collapsed": true
   },
   "source": [
    "###### N calls distribution by lines"
   ]
  },
  {
   "cell_type": "code",
   "execution_count": null,
   "metadata": {
    "ExecuteTime": {
     "end_time": "2019-02-20T12:07:49.458651Z",
     "start_time": "2019-02-20T12:07:49.437387Z"
    },
    "code_folding": [],
    "hidden": true
   },
   "outputs": [],
   "source": [
    "nCallsX = []\n",
    "\n",
    "for index, row in cds[cds['chr']=='X'].iterrows():\n",
    "    print(index)\n",
    "    # Convert CDS list into numeric array\n",
    "    coordinates = array(row['coordinates'].split(',')).astype(int).tolist()\n",
    "    coordinates =  [coordinates[i:i+2] for i in range(0, len(coordinates), 2)]\n",
    "    \n",
    "    \n",
    "    # Open ref and outgroup\n",
    "    ref = Fasta(DATA + '/fastas/ref/Chr' + row['chr'] +'.fasta')  \n",
    "    ## Extract ref and outgroup seq\n",
    "    refSeq = ref.get_spliced_seq(row['chr'], coordinates).seq.upper()    \n",
    "\n",
    "    if(('N' not in refSeq) and (len(refSeq)/3).is_integer()):\n",
    "\n",
    "        # Open population multifasta\n",
    "        popFasta = Fasta(DATA + '/fastas/alignments/RAL/' + 'RAL_' + 'Chr' + row['chr'] +'.seq')\n",
    "\n",
    "        #Extract samples\n",
    "        samples = list(popFasta.keys())\n",
    "\n",
    "        deletedIndex = 0\n",
    "        if(row['strand'] == '-'):            \n",
    "\n",
    "            for i in range(0,len(samples),1):\n",
    "                tmp = popFasta.get_spliced_seq(samples[i], coordinates).seq.upper()\n",
    "                tmp = reverseComplement(tmp)\n",
    "                if(tmp == ('N' * len(refSeq))):\n",
    "                    deletedIndex+=1\n",
    "\n",
    "        else:\n",
    "\n",
    "            for i in range(0,len(samples),1):\n",
    "                tmp = popFasta.get_spliced_seq(samples[i], coordinates).seq.upper()\n",
    "                if(tmp == 'N' * len(tmp)):\n",
    "                    # Save lines index with only N\n",
    "                    deletedIndex+=1\n",
    "        nCallsX.append(deletedIndex)\n",
    "    else:\n",
    "        continue"
   ]
  },
  {
   "cell_type": "code",
   "execution_count": null,
   "metadata": {
    "hidden": true
   },
   "outputs": [],
   "source": [
    "nCalls = pd.DataFrame(nCalls).value_counts().reset_index()\n"
   ]
  },
  {
   "cell_type": "markdown",
   "metadata": {},
   "source": [
    "###### N call distrubitution by position"
   ]
  },
  {
   "cell_type": "code",
   "execution_count": null,
   "metadata": {
    "ExecuteTime": {
     "end_time": "2019-02-20T12:11:27.134297Z",
     "start_time": "2019-02-20T12:11:27.110133Z"
    },
    "code_folding": []
   },
   "outputs": [],
   "source": [
    "nCallsByPositions = []\n",
    "\n",
    "for index, row in cds[(cds['chr']=='2L')].iterrows():\n",
    "    \n",
    "# for index, row in cds.iterrows():\n",
    "    print(row['id'])\n",
    "    # Convert CDS list into numeric array\n",
    "    coordinates = array(row['coordinates'].split(',')).astype(int).tolist()\n",
    "    coordinates =  [coordinates[i:i+2] for i in range(0, len(coordinates), 2)]\n",
    "    \n",
    "    # Open ref and outgroup\n",
    "    ref = Fasta(DATA + '/fastas/ref/Chr' + row['chr'] +'.fasta')  \n",
    "    ## Extract ref and outgroup seq\n",
    "    refSeq = ref.get_spliced_seq(row['chr'], coordinates).seq.upper()    \n",
    "\n",
    "    if(('N' not in refSeq) and (len(refSeq)/3).is_integer()):\n",
    "        # Open population multifasta\n",
    "        popFasta = Fasta(DATA + '/fastas/alignments/RAL/' + 'RAL_' + 'Chr' + row['chr'] +'.seq')\n",
    "\n",
    "        #Extract samples\n",
    "        samples = list(popFasta.keys())\n",
    "\n",
    "        matrixDna = np.empty([len(samples)+1,len(refSeq)],dtype='str')\n",
    "            \n",
    "        if(row['strand'] == '-'):            \n",
    "            refSeq = reverseComplement(refSeq)\n",
    "            matrixDna[0] = list(refSeq)\n",
    "\n",
    "\n",
    "            for i in range(0,len(samples),1):\n",
    "                tmp = popFasta.get_spliced_seq(samples[i], coordinates).seq.upper()\n",
    "                tmp = reverseComplement(tmp)\n",
    "                matrixDna[i+1] = list(tmp)\n",
    "\n",
    "\n",
    "        else:\n",
    "            matrixDna[0] = list(refSeq)\n",
    "\n",
    "            for i in range(0,len(samples),1):\n",
    "                tmp = popFasta.get_spliced_seq(samples[i], coordinates).seq.upper()\n",
    "                matrixDna[i+1] = list(tmp)\n",
    "\n",
    "        # Count occurences\n",
    "        df = pd.DataFrame(matrixDna)\n",
    "        for i in df.columns:\n",
    "            nCallsByPositions.append(df[i].value_counts()['N'])\n",
    "\n",
    "    else:\n",
    "        continue"
   ]
  },
  {
   "cell_type": "markdown",
   "metadata": {},
   "source": [
    "##### Recoding fasta sequences"
   ]
  },
  {
   "cell_type": "markdown",
   "metadata": {},
   "source": [
    "Opening cdsCoordinates file to extract fasta sequence using pyfaidx"
   ]
  },
  {
   "cell_type": "code",
   "execution_count": 9,
   "metadata": {
    "ExecuteTime": {
     "end_time": "2019-02-20T14:20:30.393525Z",
     "start_time": "2019-02-20T14:20:30.277364Z"
    },
    "scrolled": true
   },
   "outputs": [],
   "source": [
    "dfGenes = pd.read_csv(DATA + '/annotations/flybaseGenesCleaned.tab',header = 0,usecols=['id','name','chr','strand'],sep='\\t')\n",
    "\n",
    "cds = pd.read_csv(DATA + '/annotations/cdsCoordinates.tab',header=0,usecols=['name','chr','coordinates'],sep='\\t')\n",
    "\n",
    "cds = pd.merge(cds, dfGenes,  how='inner', left_on=['chr','name'], right_on = ['chr','name'])"
   ]
  },
  {
   "cell_type": "code",
   "execution_count": 10,
   "metadata": {
    "ExecuteTime": {
     "end_time": "2019-02-20T14:20:31.181915Z",
     "start_time": "2019-02-20T14:20:31.167725Z"
    }
   },
   "outputs": [
    {
     "data": {
      "text/plain": [
       "(13753, 5)"
      ]
     },
     "execution_count": 10,
     "metadata": {},
     "output_type": "execute_result"
    }
   ],
   "source": [
    "cds.shape"
   ]
  },
  {
   "cell_type": "code",
   "execution_count": 11,
   "metadata": {
    "ExecuteTime": {
     "end_time": "2019-02-20T14:20:31.903261Z",
     "start_time": "2019-02-20T14:20:31.899457Z"
    }
   },
   "outputs": [],
   "source": [
    "import sys\n",
    "sys.path.insert(0, SRC)\n",
    "from reverseComplement import reverseComplement\n",
    "from degenerate import degenerate\n",
    "from dafResampling import dafResampling"
   ]
  },
  {
   "cell_type": "code",
   "execution_count": null,
   "metadata": {
    "ExecuteTime": {
     "end_time": "2019-02-17T12:01:14.694547Z",
     "start_time": "2019-02-17T12:01:14.633743Z"
    },
    "code_folding": [],
    "hide_input": false,
    "scrolled": true
   },
   "outputs": [],
   "source": [
    "# Rewrite file each execution\n",
    "columns = ['id','rawDerivedAllele','type']\n",
    "dmelDaf = pd.DataFrame(columns=columns)\n",
    "columns = ['id','div','type']\n",
    "dmelDiv = pd.DataFrame(columns=columns)\n",
    "\n",
    "import time\n",
    "start_time = time.time()\n",
    "for index, row in cds[(cds['chr']=='2L')].head(26).iterrows():\n",
    "# for index, row in cds.iterrows():\n",
    "    # Convert CDS list into numeric array\n",
    "    print(index,row['id'])\n",
    "    coordinates = array(row['coordinates'].split(',')).astype(int).tolist()\n",
    "    coordinates =  [coordinates[i:i+2] for i in range(0, len(coordinates), 2)]\n",
    "    \n",
    "    # Open ref and outgroup\n",
    "    ref = Fasta(DATA + '/fastas/ref/Chr' + row['chr'] +'.fasta')\n",
    "    outgroup = Fasta(DATA + '/fastas/outgroup/dsim/Simulans_Chr' + row['chr'] +'.seq')\n",
    "    \n",
    "    ## Extract ref and outgroup seq\n",
    "    refSeq = ref.get_spliced_seq(row['chr'], coordinates).seq.upper()\n",
    "    outgroupSeq = outgroup.get_spliced_seq('dsim' + row['chr'], coordinates).seq.upper()\n",
    "   \n",
    "    # Open population multifasta\n",
    "    popFasta = Fasta(DATA + '/fastas/alignments/RAL/' + 'RAL_' + 'Chr' + row['chr'] +'.seq')\n",
    "    \n",
    "    #Extract samples\n",
    "    samples = list(popFasta.keys())\n",
    "\n",
    "    # Open variables and file to write\n",
    "#     multifasta = open(DATA + '/fastas/genes/RAL/' + row['id'] +'.fa', 'w')\n",
    "    ## Empty matrix to append ref, pop\n",
    "    matrix0f=np.empty([len(samples)+1,len(refSeq)],dtype='str')\n",
    "    matrix4f=np.empty([len(samples)+1,len(refSeq)],dtype='str')\n",
    "    \n",
    "    # Outgroup sequences to pd.DataFrame\n",
    "    outgroup = np.empty([1,len(refSeq)],dtype='str')\n",
    "    \n",
    "    if(row['strand'] == '-'):\n",
    "    #     if((len(refSeq)/3).is_integer()):\n",
    "        refSeq = reverseComplement(refSeq)\n",
    "        refSeq0f,refSeq4f = degenerate(refSeq)\n",
    "        outgroupSeq = reverseComplement(outgroupSeq)\n",
    "\n",
    "        matrix4f[0] = list(refSeq4f)        \n",
    "        matrix0f[0] = list(refSeq0f)\n",
    "        \n",
    "        # Iter by row matrix to input sequences\n",
    "        deleteIndex = []\n",
    "        for i in range(0,len(samples),1):\n",
    "            tmp = popFasta.get_spliced_seq(samples[i], coordinates).seq.upper()\n",
    "            tmp = reverseComplement(tmp)\n",
    "            if(tmp == ('N' * len(tmp))):\n",
    "                deleteIndex.append(i+1)\n",
    "            else:\n",
    "                matrix4f[i+1] = list(tmp)\n",
    "                matrix0f[i+1] = list(tmp)\n",
    "                \n",
    "        matrix4f = np.delete(matrix4f,deleteIndex,0)\n",
    "        matrix0f = np.delete(matrix0f,deleteIndex,0)\n",
    "        \n",
    "    else:\n",
    "\n",
    "        refSeq0f,refSeq4f = degenerate(refSeq)\n",
    "       \n",
    "        matrix4f[0] = list(refSeq4f)        \n",
    "        matrix0f[0] = list(refSeq0f)\n",
    "        \n",
    "        \n",
    "        # Iter by row matrix to input sequences\n",
    "        deleteIndex = []\n",
    "        for i in range(0,len(samples),1):\n",
    "            tmp = popFasta.get_spliced_seq(samples[i], coordinates).seq.upper()\n",
    "            if(tmp == ('N' * len(tmp))):\n",
    "                deleteIndex.append(i+1)\n",
    "            else:\n",
    "                matrix4f[i+1] = list(tmp)\n",
    "                matrix0f[i+1] = list(tmp)\n",
    "                \n",
    "        matrix4f = np.delete(matrix4f,deleteIndex,0)\n",
    "        matrix0f = np.delete(matrix0f,deleteIndex,0)\n",
    "        # Iter by matrix column to degenerate all sequences based on reference sequence\n",
    "    \n",
    "    # OutputSeq to pd.DataFrame\n",
    "    outgroup[0] = list(outgroupSeq)\n",
    "    outgroupDf = pd.DataFrame(outgroup)\n",
    "    # 0-4fold positions to pd.DataFrame\n",
    "    df4f = pd.DataFrame(matrix4f)\n",
    "    df4f = df4f.loc[:,df4f.iloc[0]!='N']\n",
    "    df0f = pd.DataFrame(matrix0f)\n",
    "    df0f = df0f.loc[:,df0f.iloc[0]!='N']\n",
    "    \n",
    "    daf4f,div4f = dafWithResampling(id=row['id'],data=df4f,outgroup=outgroupDf,resamplingValue=160,type='4fold')\n",
    "#     daf0f,div0f = dafWithResampling(id=row['id'],data=df0f,outgroup=outgroupDf,resamplingValue=160,type='0fold')\n",
    "    \n",
    "    dmelDaf = pd.concat([dmelDaf,daf4f])\n",
    "    dmelDiv = pd.concat([dmelDiv,div4f])\n",
    "dmelDaf.to_csv('/home/jmurga/testDaf.csv',sep='\\t',header=True,index=False)\n",
    "print(\"--- %s seconds ---\" % (time.time() - start_time))\n"
   ]
  },
  {
   "cell_type": "code",
   "execution_count": null,
   "metadata": {},
   "outputs": [],
   "source": [
    "    if(df4f.shape[0] < 160):\n",
    "#         print(df4f.shape)\n",
    "        continue\n",
    "    else:\n",
    "        print(len(refSeq))\n",
    "        # Delete reference sequence\n",
    "        ref = df4f.iloc[[0]]\n",
    "        outgroupToDf = outgroupToDf.loc[:,df4f.columns].rename(index={0:206})\n",
    "        \n",
    "        for j in df4f.columns:\n",
    "            div4f = 0\n",
    "            if(df4f[[j]][df4f[[j]] != 'N'].dropna().shape[0] < 160):\n",
    "                continue\n",
    "            else:\n",
    "                #Sampling\n",
    "                tmp = df4f[[j]][df4f[[j]]!='N'].dropna().sample(160,replace=False)\n",
    "                # Merging outgroup\n",
    "                tmp = pd.concat([tmp,outgroupToDf[[j]]])\n",
    "                pos = pd.concat([ref[[j]],tmp]).reset_index(drop=True)\n",
    "                \n",
    "                if(pos.loc[len(pos)-1,j]=='N' or pos.loc[len(pos)-1,j]=='-'):\n",
    "                    continue\n",
    "                elif((pos.loc[len(pos)-1,j] != pos.loc[0,j]) & (len(pos.loc[1:len(pos)-2,j].unique())==1)): \n",
    "                    div4f = 1\n",
    "                    \n",
    "                else:\n",
    "\n",
    "                    AA = pos.loc[len(pos)-1,j]\n",
    "                    AN = 160\n",
    "                    AC = pos.loc[1:len(pos)-2,j].value_counts()\n",
    "\n",
    "                    if(AA not in AC.index):\n",
    "                        continue\n",
    "                    else:\n",
    "                        AC = AC[AC!=AC[AA]]\n",
    "                        if(len(AC) == 0):\n",
    "                            af=0\n",
    "                        else:\n",
    "                            af=AC[0]/AN\n",
    "            tmp = pd.Series({'id':row['id'],'rawDerivedAllele':af,'div':div4f,'type':'4fold'})\n",
    "            dmelDaf = pd.concat([dmelDaf,tmp])"
   ]
  }
 ],
 "metadata": {
  "kernelspec": {
   "display_name": "Python 3",
   "language": "python",
   "name": "python3"
  },
  "language_info": {
   "codemirror_mode": {
    "name": "ipython",
    "version": 3
   },
   "file_extension": ".py",
   "mimetype": "text/x-python",
   "name": "python",
   "nbconvert_exporter": "python",
   "pygments_lexer": "ipython3",
   "version": "3.6.8"
  },
  "toc": {
   "base_numbering": 1,
   "nav_menu": {},
   "number_sections": true,
   "sideBar": true,
   "skip_h1_title": false,
   "title_cell": "Table of Contents",
   "title_sidebar": "Contents",
   "toc_cell": false,
   "toc_position": {
    "height": "calc(100% - 180px)",
    "left": "10px",
    "top": "150px",
    "width": "165px"
   },
   "toc_section_display": true,
   "toc_window_display": true
  },
  "varInspector": {
   "cols": {
    "lenName": 16,
    "lenType": 16,
    "lenVar": 40
   },
   "kernels_config": {
    "python": {
     "delete_cmd_postfix": "",
     "delete_cmd_prefix": "del ",
     "library": "var_list.py",
     "varRefreshCmd": "print(var_dic_list())"
    },
    "r": {
     "delete_cmd_postfix": ") ",
     "delete_cmd_prefix": "rm(",
     "library": "var_list.r",
     "varRefreshCmd": "cat(var_dic_list()) "
    }
   },
   "oldHeight": 122.85,
   "position": {
    "height": "307px",
    "left": "1010px",
    "right": "20px",
    "top": "120px",
    "width": "250px"
   },
   "types_to_exclude": [
    "module",
    "function",
    "builtin_function_or_method",
    "instance",
    "_Feature"
   ],
   "varInspector_section_display": "none",
   "window_display": false
  }
 },
 "nbformat": 4,
 "nbformat_minor": 2
}
