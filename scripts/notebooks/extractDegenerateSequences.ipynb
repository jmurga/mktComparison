{
 "cells": [
  {
   "cell_type": "markdown",
   "metadata": {},
   "source": [
    "Defining global path to python. In this case these variables will be stored after one execution"
   ]
  },
  {
   "cell_type": "code",
   "execution_count": 5,
   "metadata": {
    "ExecuteTime": {
     "end_time": "2019-02-28T13:52:10.608758Z",
     "start_time": "2019-02-28T13:52:10.605044Z"
    }
   },
   "outputs": [],
   "source": [
    "SRC='/home/jmurga/mkt/201902/scripts/src'\n",
    "DATA='/home/jmurga/mkt/201902/rawData'"
   ]
  },
  {
   "cell_type": "markdown",
   "metadata": {},
   "source": [
    "Required libraries"
   ]
  },
  {
   "cell_type": "code",
   "execution_count": 6,
   "metadata": {
    "ExecuteTime": {
     "end_time": "2019-02-28T13:52:12.367171Z",
     "start_time": "2019-02-28T13:52:12.355423Z"
    }
   },
   "outputs": [],
   "source": [
    "SRC='/home/jmurga/mkt/201902/scripts/src'\n",
    "DATA='/home/jmurga/mkt/201902/rawData'\n",
    "import os\n",
    "import re\n",
    "import sys\n",
    "import numpy as np\n",
    "import pandas as pd\n",
    "from numpy import array \n",
    "from pyfaidx import Fasta\n",
    "sys.path.insert(0, SRC)\n",
    "from reverseComplement import reverseComplement\n",
    "from degenerate import degenerate\n",
    "from dafResampling import dafWithResampling"
   ]
  },
  {
   "cell_type": "markdown",
   "metadata": {
    "heading_collapsed": true
   },
   "source": [
    "### Drosophila melanogaster genes "
   ]
  },
  {
   "cell_type": "markdown",
   "metadata": {
    "hidden": true
   },
   "source": [
    "To execute bash code we created a snippets through nbextensions containing the following paths in order to avoid copy and paste cell contains. %%bash magic do not recognize previous variables. Adding mkdir command to create necesary paths"
   ]
  },
  {
   "cell_type": "code",
   "execution_count": null,
   "metadata": {
    "ExecuteTime": {
     "end_time": "2019-02-16T14:59:36.033456Z",
     "start_time": "2019-02-16T14:59:36.021246Z"
    },
    "hidden": true
   },
   "outputs": [],
   "source": [
    "%%bash\n",
    "DATA='/home/jmurga/mkt/201902/rawData/annotations'\n",
    "BASIC='/home/jmurga/mkt/201902/rawData/annotations/basicAnnotation'\n",
    "CDS='/home/jmurga/mkt/201902/rawData/annotations/cds'\n",
    "GENES='/home/jmurga/mkt/201902/rawData/annotations/genes'\n",
    "TEMPORAL='/home/jmurga/mkt/201902/rawData/annotations/tmp'\n",
    "\n",
    "mkdir -p ${DATA}\n",
    "mkdir -p ${BASIC}\n",
    "mkdir -p ${CDS}\n",
    "mkdir -p ${GENES}\n",
    "mkdir -p ${TEMPORAL}"
   ]
  },
  {
   "cell_type": "markdown",
   "metadata": {
    "heading_collapsed": true,
    "hidden": true
   },
   "source": [
    "#### Download Flybase annotation"
   ]
  },
  {
   "cell_type": "code",
   "execution_count": null,
   "metadata": {
    "ExecuteTime": {
     "end_time": "2019-02-16T15:00:16.932169Z",
     "start_time": "2019-02-16T14:59:49.290829Z"
    },
    "hidden": true
   },
   "outputs": [],
   "source": [
    "%%bash\n",
    "DATA='/home/jmurga/mkt/201902/rawData/annotations'\n",
    "\n",
    "cd ${DATA}\n",
    "# Flybase annotation\n",
    "wget ftp://ftp.flybase.net/genomes/Drosophila_melanogaster/dmel_r5.57_FB2014_03/gff/dmel-all-no-analysis-r5.57.gff.gz\n",
    "gunzip dmel-all-no-analysis-r5.57.gff.gz"
   ]
  },
  {
   "cell_type": "markdown",
   "metadata": {
    "hidden": true
   },
   "source": [
    "#### Parsing and cleaning flybase annotation to execute all operations by chr\n",
    "Next operation will be faster due to grep on smaller files. Space is not a problem in our server right now. Each folder contain an specific file foreach chromosome. "
   ]
  },
  {
   "cell_type": "code",
   "execution_count": null,
   "metadata": {
    "ExecuteTime": {
     "end_time": "2019-02-16T15:01:13.993165Z",
     "start_time": "2019-02-16T15:01:05.675233Z"
    },
    "hidden": true
   },
   "outputs": [],
   "source": [
    "%%bash\n",
    "DATA='/home/jmurga/mkt/201902/rawData/annotations'\n",
    "BASIC='/home/jmurga/mkt/201902/rawData/annotations/basicAnnotation'\n",
    "CDS='/home/jmurga/mkt/201902/rawData/annotations/cds'\n",
    "GENES='/home/jmurga/mkt/201902/rawData/annotations/genes'\n",
    "TEMPORAL='/home/jmurga/mkt/201902/rawData/annotations/tmp'\n",
    "\n",
    "mkdir -p ${BASIC}\n",
    "mkdir -p ${CDS}\n",
    "mkdir -p ${GENES}\n",
    "mkdir -p ${TEMPORAL}\n",
    "\n",
    "# Extract sequences f\n",
    "# Extract annotations from gff file\n",
    "sed -e '/^>/,$d' ${DATA}/dmel-all-no-analysis-r5.57.gff | sed -e '/^2LHet/d' -e  '/2RHet/d' -e '/3LHet/d' -e '/3RHet/d' -e  '/^4\\t/d' -e '/dmel_mitochondrion_genome/d' -e '/^U\\t/d' -e '/^Uextra\\t/d' -e  '/^XHet\\t/d' -e '/^YHet\\t/d' -e'/\\tCG/d' > ${DATA}/dmelFiltered.gff\n",
    "# Extract genes information\n",
    "grep -P \"\\tgene\\t\" ${DATA}/dmelFiltered.gff  > ${DATA}/dmelFilteredGenes.gff\n",
    "# Extract CDS information. Only protein coding genes\n",
    "grep -P \"\\tCDS\\t\" ${DATA}/dmelFiltered.gff  > ${DATA}/dmelFilteredCds.gff\n",
    "# Coding gene list. gene_id always on column 9, 3th field\n",
    "cut -f1,9 ${DATA}/dmelFilteredCds.gff | tr ';' '\\t' | cut -f1,2 | sort -u | sort -k1,1 > ${DATA}/codingGeneList.txt\n",
    "\n",
    "\n",
    "CHR=( 2L 2R 3L 3R X )\n",
    "# Parse gff file by chr\n",
    "for chrNumber in \"${CHR[@]}\"\n",
    "do\n",
    "    grep -P \"${chrNumber}\\t\"  ${DATA}/dmelFilteredGenes.gff | sort -k4,4n > ${BASIC}/gencode.v27lift37.basic.annotation.chr${chrNumber}.gff3 \n",
    "    grep -P \"${chrNumber}\\t\"  ${DATA}/dmelFilteredCds.gff | sort -k1,1 -k4,4n > ${CDS}/dmelFilteredCdsChr${chrNumber}.gff3 \n",
    "    grep -P \"${chrNumber}\\t\"  ${DATA}/dmelFilteredGenes.gff | sort -k1,1 -k4,4n > ${GENES}/dmelFilteredGenesChr${chrNumber}.gff3 \n",
    "done\n",
    "\n",
    "rm ${DATA}/dmel-all-no-analysis-r5.57.gff"
   ]
  },
  {
   "cell_type": "markdown",
   "metadata": {
    "hidden": true
   },
   "source": [
    "#### Basic cleaned gene file\n",
    "This file will include information about chromosomes, start coordinates, end coordinates strand, gene id and gene name. It will be and perform calculations on gene coordinates. Kind of gff file easier to work with"
   ]
  },
  {
   "cell_type": "code",
   "execution_count": null,
   "metadata": {
    "ExecuteTime": {
     "end_time": "2019-02-16T15:23:44.379526Z",
     "start_time": "2019-02-16T15:22:35.547591Z"
    },
    "hidden": true
   },
   "outputs": [],
   "source": [
    "%%bash\n",
    "DATA='/home/jmurga/mkt/201902/rawData/annotations'\n",
    "GENES='/home/jmurga/mkt/201902/rawData/annotations/genes'\n",
    "touch ${DATA}/flybaseGenesCleaned.tab \n",
    "printf \"chr\\tstartGene\\tendGene\\tstrand\\tid\\tname\\n\" > ${DATA}/flybaseGenesCleaned.tab\n",
    "\n",
    "time while read LINE;\n",
    "do \n",
    "    CHR=$(echo ${LINE} | cut -d' ' -f1)\n",
    "    GENE=$(echo ${LINE} | cut -d' ' -f2 | sed 's/-cds//g')\n",
    "    # echo $GENE\n",
    "\n",
    "    fgrep `echo \"${GENE};\"`  ${GENES}/dmelFilteredGenesChr${CHR}.gff3 | fgrep ${CHR} |  cut -f1,4,5,7,9 | tr ';' '\\t' | cut -f1,2,3,4,5,6 \n",
    "    \n",
    "done < ${DATA}/codingGeneList.txt | tr ' ' '\\t' | sed 's/ID=//g' | sed 's/Name=//g' | sort -k1,1 -k2,2n >> ${DATA}/flybaseGenesCleaned.tab"
   ]
  },
  {
   "cell_type": "code",
   "execution_count": null,
   "metadata": {
    "ExecuteTime": {
     "end_time": "2019-02-18T10:58:16.286831Z",
     "start_time": "2019-02-18T10:58:16.185761Z"
    },
    "hidden": true
   },
   "outputs": [],
   "source": [
    "dfGenes = pd.read_csv(DATA + '/annotations/flybaseGenesCleaned.tab',header = 0,sep='\\t')\n",
    "dfGenes.head()"
   ]
  },
  {
   "cell_type": "markdown",
   "metadata": {
    "ExecuteTime": {
     "end_time": "2019-01-29T15:16:03.643881Z",
     "start_time": "2019-01-29T15:16:03.602413Z"
    },
    "hidden": true
   },
   "source": [
    "File to merge features annotated with gene name instead of gene id"
   ]
  },
  {
   "cell_type": "code",
   "execution_count": null,
   "metadata": {
    "ExecuteTime": {
     "end_time": "2019-02-18T10:58:18.298611Z",
     "start_time": "2019-02-18T10:58:18.237590Z"
    },
    "hidden": true
   },
   "outputs": [],
   "source": [
    "idName = dfGenes[['id','name']]\n",
    "idName.to_csv(DATA + '/annotations/idName.tab',sep='\\t',index=False,header=True)"
   ]
  },
  {
   "cell_type": "markdown",
   "metadata": {},
   "source": [
    "### Extracting CDS coordinates from largest transcript by gene\n",
    "From the largest transcript we recover id, size, and CDS coordinates. Moreover we save number of transcripts too.  \n",
    "Coordinates will be used to recover CDS sequences and to calcute Derived Allele Frequencies from 0fold and 4fold degenerate sequences"
   ]
  },
  {
   "cell_type": "markdown",
   "metadata": {
    "heading_collapsed": true
   },
   "source": [
    "#### Raw cds coordinates"
   ]
  },
  {
   "cell_type": "code",
   "execution_count": null,
   "metadata": {
    "ExecuteTime": {
     "end_time": "2019-02-16T15:26:53.634726Z",
     "start_time": "2019-02-16T15:26:53.404821Z"
    },
    "code_folding": [],
    "hidden": true
   },
   "outputs": [],
   "source": [
    "%%bash\n",
    "DATA='/home/jmurga/mkt/201902/rawData/annotations'\n",
    "CDS='/home/jmurga/mkt/201902/rawData/annotations/cds'\n",
    "TEMPORAL='/home/jmurga/mkt/201902/rawData/annotations/tmp'\n",
    "\n",
    "touch ${DATA}/cdsCoordinates.tab\n",
    "printf \"name\\tchr\\ttranscript\\ttranscriptSize\\tcoordinates\\n\" > ${DATA}/cdsCoordinates.tab\n",
    "\n",
    "count=0\n",
    "time tail -n+2 ${DATA}/flybaseGenesCleaned.tab | while read LINE;\n",
    "do \n",
    "    echo '*************'    \n",
    "    CHR=$(echo ${LINE} | cut -d' ' -f1)\n",
    "    GENE=$(echo ${LINE} | cut -d' ' -f6)\n",
    "    \n",
    "    printf \"${GENE} ${CHR}\"\n",
    "    # fgrep ${GENE} ${CDS}/dmelFilteredCdsChr${CHR}.gff3 | cut -f9 | cut -d';' -f2 | cut -d'=' -f2 | sort -u > ${TEMPORAL}/transcriptTmp.tab\n",
    "    \n",
    "    fgrep `echo \"Name=${GENE}-cds;\"` ${CDS}/dmelFilteredCdsChr${CHR}.gff3 | grep -P \"${CHR}\\t\" | cut -f9 | tr ';' '\\n' | fgrep Parent | sort -u | tr ',' '\\n' | cut -d'=' -f2 | sort -u > ${TEMPORAL}/transcriptTmp.tab\n",
    "\n",
    "    while read transcript; do fgrep ${transcript} ${CDS}/dmelFilteredCdsChr${CHR}.gff3 | awk '{print $4,$5,$5-$4}' | awk -v gene=\"${GENE}\" -v chr=\"${CHR}\" -v transcript=\"$transcript\" '{sum+=$1} {printf $1\",\"$2\",\"} END{print \"\\t\"gene\"\\t\"chr\"\\t\"transcript\"\\t\"sum}' | awk '{print $2,$3,$4,$5,$1}' | sed 's/,$//' |tr ' ' '\\t' >> ${DATA}/cdsCoordinates.tab ;done < ${TEMPORAL}/transcriptTmp.tab \n",
    "    \n",
    "#     paste <(echo $GENE) <(echo $CHR) <(wc -l ${TEMPORAL}/transcriptTmp.tab | cut -d' ' -f1) <(echo $largestTranscript | cut -d' ' -f1) <(echo $largestTranscript | cut -d' ' -f2) <(fgrep `echo ${largestTranscript} | cut -d' ' -f1` ${CDS}/dmelFilteredCdsChr${CHR}.gff3  | cut -f4,5 | sort -k1,1n | awk '{printf $1\",\"$2\",\"}' | sed 's/.$//') >> ${DATA}/cdsCoordinates.tab\n",
    "    \n",
    "    (( count++ ))\n",
    "\n",
    "done \n"
   ]
  },
  {
   "cell_type": "markdown",
   "metadata": {
    "hidden": true
   },
   "source": [
    "Recode all cds positions and aggregate all positions to annotate all posible functional duplicated sites as 0fold if required"
   ]
  },
  {
   "cell_type": "code",
   "execution_count": null,
   "metadata": {
    "hidden": true
   },
   "outputs": [],
   "source": [
    "sys.path.insert(0, SRC)\n",
    "from reverseComplement import reverseComplement\n",
    "from degenerancy import degenerate"
   ]
  },
  {
   "cell_type": "code",
   "execution_count": null,
   "metadata": {
    "hidden": true
   },
   "outputs": [],
   "source": [
    "dfGenes = pd.read_csv(DATA + '/annotations/flybaseGenesCleaned.tab',header = 0,usecols=['id','name','chr','strand'],sep='\\t')\n",
    "cds = pd.read_csv(DATA + '/annotations/cdsCoordinates.tab',header=0,sep='\\t')\n",
    "cds = pd.merge(cds, dfGenes,  how='inner', left_on=['chr','name'], right_on = ['chr','name'])"
   ]
  },
  {
   "cell_type": "code",
   "execution_count": null,
   "metadata": {
    "hidden": true
   },
   "outputs": [],
   "source": [
    "# Rewrite file each execution\n",
    "total = []\n",
    "chrNumber = cds['chr'].unique()\n",
    "import time\n",
    "for j in chrNumber:\n",
    "    start_time = time.time()\n",
    "    degeneratePositions = pd.DataFrame()\n",
    "    print(j)\n",
    "    for index, row in cds[cds['chr']==j].iterrows():\n",
    "#         print(index,row['id'])\n",
    "        chrFile = Fasta(DATA + '/fastas/ref/Chr' + row['chr'] +'.fasta')\n",
    "        # Convert CDS list into numeric array\n",
    "        coordinates = array(row['coordinates'].split(',')).astype(int).tolist()\n",
    "        coordinates =  [coordinates[i:i+2] for i in range(0, len(coordinates), 2)]\n",
    "        # Extract all CDS positions in a list in order to merge with degenerate sequences (same length -> same index)\n",
    "        positions=[]\n",
    "        for i in range(0,len(coordinates),1):\n",
    "            positions.append(list(range(coordinates[i][0],coordinates[i][1]+1)))  \n",
    "        allPositions = [item for sublist in positions for item in sublist]\n",
    "        # Extract cds sequences\n",
    "        seq = chrFile.get_spliced_seq(row['chr'].replace('chr',''), coordinates).seq.upper()\n",
    "    #     print(len(seq))\n",
    "        if(row['strand'] == '-'):\n",
    "            seq = reverseComplement(seq)\n",
    "            allPositions = allPositions[::-1]\n",
    "        if((len(seq)/3).is_integer() and seq[0:3]=='ATG'):\n",
    "            m = degenerate(seq)\n",
    "            degenerateDF = pd.DataFrame({'m':list(m),'POS':allPositions})\n",
    "            degeneratePositions = pd.concat([degeneratePositions,degenerateDF])\n",
    "    total.append(degeneratePositions)\n",
    "    print(\"--- %s seconds ---\" % (time.time() - start_time))"
   ]
  },
  {
   "cell_type": "code",
   "execution_count": null,
   "metadata": {
    "hidden": true
   },
   "outputs": [],
   "source": [
    "for i in range(0,len(total),1): \n",
    "    print(i)\n",
    "    tmp = total[i].groupby(['chr','POS'])['m'].apply(lambda x: ','.join(x)).reset_index()\n",
    "    tmp.to_csv('/home/jmurga/degeneracyDmelPositions.tab',mode='a',index=False,sep='\\t')\n",
    "#     totalGrouped.append(tmp) "
   ]
  },
  {
   "cell_type": "markdown",
   "metadata": {
    "hidden": true
   },
   "source": [
    "Cleaning positions degenerancy based on most constrain posibility"
   ]
  },
  {
   "cell_type": "code",
   "execution_count": null,
   "metadata": {
    "hidden": true
   },
   "outputs": [],
   "source": [
    "degeneracyPositions = pd.read_csv('/home/jmurga/positiveSelectionHuman/201901/rawData/dmel/degeneracyDmelPositions.tab',sep='\\t',header=0)\n",
    "degeneracyPositions['newType'] = np.nan"
   ]
  },
  {
   "cell_type": "code",
   "execution_count": null,
   "metadata": {
    "code_folding": [
     0
    ],
    "hidden": true
   },
   "outputs": [],
   "source": [
    "def foldPositions(x):\n",
    "    if('0' in x):\n",
    "        return('0fold')\n",
    "    elif('4' in x and '0' not in x and '2' not in x and '3' not in x):\n",
    "        return('4fold')\n",
    "    elif('2' in x and '0' not in x):\n",
    "        return('2fold')\n",
    "    elif('2' not in x and '0' not in x and '4' not in x) :\n",
    "        return('3fold')\n",
    "    else:\n",
    "        return(x)"
   ]
  },
  {
   "cell_type": "code",
   "execution_count": null,
   "metadata": {
    "hidden": true
   },
   "outputs": [],
   "source": [
    "degeneracyPositions['newType'] = degeneracyPositions['type'].apply(foldPositions)"
   ]
  },
  {
   "cell_type": "code",
   "execution_count": null,
   "metadata": {
    "hidden": true
   },
   "outputs": [],
   "source": [
    "df = degeneracyPositions[(degeneracyPositions['newType']=='0fold') | (degeneracyPositions['newType']=='4fold')]"
   ]
  },
  {
   "cell_type": "code",
   "execution_count": null,
   "metadata": {
    "hidden": true
   },
   "outputs": [],
   "source": [
    "df.to_csv('/home/jmurga/positiveSelectionHuman/201901/rawData/dmel/zeroFourFoldPositions.tab',header=True,index=False,sep='\\t')"
   ]
  },
  {
   "cell_type": "markdown",
   "metadata": {},
   "source": [
    "#### N calls distributions"
   ]
  },
  {
   "cell_type": "markdown",
   "metadata": {
    "heading_collapsed": true
   },
   "source": [
    "##### N calls distribution by lines"
   ]
  },
  {
   "cell_type": "code",
   "execution_count": null,
   "metadata": {
    "ExecuteTime": {
     "end_time": "2019-02-20T12:07:49.458651Z",
     "start_time": "2019-02-20T12:07:49.437387Z"
    },
    "code_folding": [],
    "hidden": true
   },
   "outputs": [],
   "source": [
    "nCallsX = []\n",
    "\n",
    "for index, row in cds[cds['chr']=='X'].iterrows():\n",
    "    print(index)\n",
    "    # Convert CDS list into numeric array\n",
    "    coordinates = array(row['coordinates'].split(',')).astype(int).tolist()\n",
    "    coordinates =  [coordinates[i:i+2] for i in range(0, len(coordinates), 2)]\n",
    "    \n",
    "    \n",
    "    # Open ref and outgroup\n",
    "    ref = Fasta(DATA + '/fastas/ref/Chr' + row['chr'] +'.fasta')  \n",
    "    ## Extract ref and outgroup seq\n",
    "    refSeq = ref.get_spliced_seq(row['chr'], coordinates).seq.upper()    \n",
    "\n",
    "    if(('N' not in refSeq) and (len(refSeq)/3).is_integer()):\n",
    "\n",
    "        # Open population multifasta\n",
    "        popFasta = Fasta(DATA + '/fastas/alignments/RAL/' + 'RAL_' + 'Chr' + row['chr'] +'.seq')\n",
    "\n",
    "        #Extract samples\n",
    "        samples = list(popFasta.keys())\n",
    "\n",
    "        deletedIndex = 0\n",
    "        if(row['strand'] == '-'):            \n",
    "\n",
    "            for i in range(0,len(samples),1):\n",
    "                tmp = popFasta.get_spliced_seq(samples[i], coordinates).seq.upper()\n",
    "                tmp = reverseComplement(tmp)\n",
    "                if(tmp == ('N' * len(refSeq))):\n",
    "                    deletedIndex+=1\n",
    "\n",
    "        else:\n",
    "\n",
    "            for i in range(0,len(samples),1):\n",
    "                tmp = popFasta.get_spliced_seq(samples[i], coordinates).seq.upper()\n",
    "                if(tmp == 'N' * len(tmp)):\n",
    "                    # Save lines index with only N\n",
    "                    deletedIndex+=1\n",
    "        nCallsX.append(deletedIndex)\n",
    "    else:\n",
    "        continue"
   ]
  },
  {
   "cell_type": "code",
   "execution_count": null,
   "metadata": {
    "hidden": true
   },
   "outputs": [],
   "source": [
    "nCalls = pd.DataFrame(nCalls).value_counts().reset_index()"
   ]
  },
  {
   "cell_type": "markdown",
   "metadata": {
    "heading_collapsed": true
   },
   "source": [
    "##### N call distrubitution by position"
   ]
  },
  {
   "cell_type": "code",
   "execution_count": null,
   "metadata": {
    "hidden": true
   },
   "outputs": [],
   "source": [
    "dfGenes = pd.read_csv(DATA + '/annotations/flybaseGenesCleaned.tab',header = 0,sep='\\t')"
   ]
  },
  {
   "cell_type": "code",
   "execution_count": null,
   "metadata": {
    "ExecuteTime": {
     "end_time": "2019-02-20T12:11:27.134297Z",
     "start_time": "2019-02-20T12:11:27.110133Z"
    },
    "code_folding": [],
    "hidden": true
   },
   "outputs": [],
   "source": [
    "nCallsByPositions = []\n",
    "for index, row in dfGenes.iterrows():    \n",
    "# for index, row in cds.iterrows():\n",
    "    print(row['id'])\n",
    "    # Convert CDS list into numeric array\n",
    "#     coordinates = array(row['coordinates'].split(',')).astype(int).tolist()\n",
    "#     coordinates =  [coordinates[i:i+2] for i in range(0, len(coordinates), 2)]\n",
    "    # Open ref and outgroup\n",
    "    ref = Fasta(DATA + '/fastas/ref/Chr' + row['chr'] +'.fasta')  \n",
    "    ## Extract ref and outgroup seq\n",
    "#     refSeq = ref.get_spliced_seq(row['chr'],[row['startGene'],row['endGene']]).seq.upper()    \n",
    "    refSeq = ref.get_seq(row['chr'],row['startGene'],row['endGene']).seq.upper()    \n",
    "#     if(('N' not in refSeq) and (len(refSeq)/3).is_integer()):\n",
    "    if('N' not in refSeq):\n",
    "        # Open population multifasta\n",
    "        popFasta = Fasta(DATA + '/fastas/alignments/RAL/' + 'RAL_' + 'Chr' + row['chr'] +'.seq')\n",
    "        #Extract samples\n",
    "        samples = list(popFasta.keys())\n",
    "        matrixDna = np.empty([len(samples)+1,len(refSeq)],dtype='str')\n",
    "        if(row['strand'] == '-'):            \n",
    "            refSeq = reverseComplement(refSeq)\n",
    "            matrixDna[0] = list(refSeq)\n",
    "            for i in range(0,len(samples),1):\n",
    "#                 tmp = popFasta.get_spliced_seq(samples[i], coordinates).seq.upper()\n",
    "                tmp = popFasta.get_seq(samples[i], row['startGene'],row['endGene']).seq.upper()\n",
    "                tmp = reverseComplement(tmp)\n",
    "                matrixDna[i+1] = list(tmp)\n",
    "        else:\n",
    "            matrixDna[0] = list(refSeq)\n",
    "            for i in range(0,len(samples),1):\n",
    "                tmp = popFasta.get_seq(samples[i],row['startGene'],row['endGene']).seq.upper()\n",
    "                matrixDna[i+1] = list(tmp)\n",
    "        # Count occurences\n",
    "        df = pd.DataFrame(matrixDna)\n",
    "        for i in df.columns:\n",
    "            nCallsByPositions.append(df[i].value_counts()['N'])\n",
    "    else:\n",
    "        continue"
   ]
  },
  {
   "cell_type": "code",
   "execution_count": null,
   "metadata": {
    "hidden": true
   },
   "outputs": [],
   "source": [
    "nCalls = pd.Series(nCallsByPositions).value_counts().reset_index()\n",
    "nCalls = pd.DataFrame(nCalls)"
   ]
  },
  {
   "cell_type": "code",
   "execution_count": null,
   "metadata": {
    "hidden": true
   },
   "outputs": [],
   "source": [
    "nCalls.to_csv('/home/jmurga/mkt/201902/rawData/nCallsByPositionsAllGenes.tab')"
   ]
  },
  {
   "cell_type": "markdown",
   "metadata": {},
   "source": [
    "#### SFS, Pi and P0"
   ]
  },
  {
   "cell_type": "markdown",
   "metadata": {},
   "source": [
    "Opening cdsCoordinates file to extract fasta sequence using pyfaidx"
   ]
  },
  {
   "cell_type": "code",
   "execution_count": 10,
   "metadata": {
    "ExecuteTime": {
     "end_time": "2019-02-28T13:54:38.318387Z",
     "start_time": "2019-02-28T13:54:37.055325Z"
    }
   },
   "outputs": [
    {
     "name": "stdout",
     "output_type": "stream",
     "text": [
      "usage: sfsDivergence.py [-h] --genes GENES --cds CDS --outgroup {dsim,dyak}\r\n",
      "                        --population POPULATION --sampling SAMPLING\r\n",
      "                        [--seed SEED] [--path PATH]\r\n",
      "\r\n",
      "Extract alleles frequencies from multi-FASTA aligment\r\n",
      "\r\n",
      "optional arguments:\r\n",
      "  -h, --help            show this help message and exit\r\n",
      "  --genes GENES         File basic gene information.\r\n",
      "  --cds CDS             File all transcript coordinates by genes.\r\n",
      "  --outgroup {dsim,dyak}\r\n",
      "                        Select outgroup to compute diverenge and derived\r\n",
      "                        allele frequency\r\n",
      "  --population POPULATION\r\n",
      "                        Select population to extract\r\n",
      "  --sampling SAMPLING   Resampling size\r\n",
      "  --seed SEED           Input seed\r\n",
      "  --path PATH           Path to output file\r\n"
     ]
    }
   ],
   "source": [
    "!python /home/jmurga/mkt/201902/scripts/src/sfsDivergence.py --help"
   ]
  },
  {
   "cell_type": "markdown",
   "metadata": {},
   "source": [
    "##### American populations"
   ]
  },
  {
   "cell_type": "code",
   "execution_count": null,
   "metadata": {
    "ExecuteTime": {
     "end_time": "2019-02-28T13:56:02.032818Z",
     "start_time": "2019-02-28T13:55:55.955286Z"
    }
   },
   "outputs": [],
   "source": [
    "!python /home/jmurga/mkt/201902/scripts/src/sfsDivergence.py --genes flybaseGenesCleaned.tab --cds cdsCoordinates.tab --population RAL --sampling 160 --outgroup dsim"
   ]
  },
  {
   "cell_type": "code",
   "execution_count": null,
   "metadata": {
    "ExecuteTime": {
     "end_time": "2019-02-28T13:56:02.032818Z",
     "start_time": "2019-02-28T13:55:55.955286Z"
    }
   },
   "outputs": [],
   "source": [
    "!python /home/jmurga/mkt/201902/scripts/src/sfsDivergence.py --genes flybaseGenesCleaned.tab --cds cdsCoordinates.tab --population USI --sampling 160 --outgroup dsim"
   ]
  },
  {
   "cell_type": "code",
   "execution_count": null,
   "metadata": {
    "ExecuteTime": {
     "end_time": "2019-02-28T13:56:02.032818Z",
     "start_time": "2019-02-28T13:55:55.955286Z"
    }
   },
   "outputs": [],
   "source": [
    "!python /home/jmurga/mkt/201902/scripts/src/sfsDivergence.py --genes flybaseGenesCleaned.tab --cds cdsCoordinates.tab --population USW --sampling 160 --outgroup dsim"
   ]
  },
  {
   "cell_type": "markdown",
   "metadata": {},
   "source": [
    "##### African populations"
   ]
  },
  {
   "cell_type": "code",
   "execution_count": null,
   "metadata": {},
   "outputs": [],
   "source": [
    "!python /home/jmurga/mkt/201902/scripts/src/sfsDivergence.py --genes flybaseGenesCleaned.tab --cds cdsCoordinates.tab --population CO --sampling 160 --outgroup dsim"
   ]
  },
  {
   "cell_type": "code",
   "execution_count": null,
   "metadata": {},
   "outputs": [],
   "source": [
    "!python /home/jmurga/mkt/201902/scripts/src/sfsDivergence.py --genes flybaseGenesCleaned.tab --cds cdsCoordinates.tab --population EA --sampling 160 --outgroup dsim"
   ]
  },
  {
   "cell_type": "code",
   "execution_count": null,
   "metadata": {},
   "outputs": [],
   "source": [
    "!python /home/jmurga/mkt/201902/scripts/src/sfsDivergence.py --genes flybaseGenesCleaned.tab --cds cdsCoordinates.tab --population EF --sampling 160 --outgroup dsim"
   ]
  },
  {
   "cell_type": "code",
   "execution_count": null,
   "metadata": {},
   "outputs": [],
   "source": [
    "!python /home/jmurga/mkt/201902/scripts/src/sfsDivergence.py --genes flybaseGenesCleaned.tab --cds cdsCoordinates.tab --population EG --sampling 160 --outgroup dsim"
   ]
  },
  {
   "cell_type": "code",
   "execution_count": null,
   "metadata": {},
   "outputs": [],
   "source": [
    "!python /home/jmurga/mkt/201902/scripts/src/sfsDivergence.py --genes flybaseGenesCleaned.tab --cds cdsCoordinates.tab --population GA --sampling 160 --outgroup dsim"
   ]
  },
  {
   "cell_type": "code",
   "execution_count": null,
   "metadata": {},
   "outputs": [],
   "source": [
    "!python /home/jmurga/mkt/201902/scripts/src/sfsDivergence.py --genes flybaseGenesCleaned.tab --cds cdsCoordinates.tab --population RG --sampling 160 --outgroup dsim"
   ]
  },
  {
   "cell_type": "code",
   "execution_count": null,
   "metadata": {},
   "outputs": [],
   "source": [
    "!python /home/jmurga/mkt/201902/scripts/src/sfsDivergence.py --genes flybaseGenesCleaned.tab --cds cdsCoordinates.tab --population SP --sampling 160 --outgroup dsim"
   ]
  },
  {
   "cell_type": "code",
   "execution_count": null,
   "metadata": {},
   "outputs": [],
   "source": [
    "!python /home/jmurga/mkt/201902/scripts/src/sfsDivergence.py --genes flybaseGenesCleaned.tab --cds cdsCoordinates.tab --population SD --sampling 160 --outgroup dsim"
   ]
  },
  {
   "cell_type": "code",
   "execution_count": null,
   "metadata": {},
   "outputs": [],
   "source": [
    "!python /home/jmurga/mkt/201902/scripts/src/sfsDivergence.py --genes flybaseGenesCleaned.tab --cds cdsCoordinates.tab --population ZI --sampling 160 --outgroup dsim"
   ]
  },
  {
   "cell_type": "code",
   "execution_count": null,
   "metadata": {},
   "outputs": [],
   "source": [
    "!python /home/jmurga/mkt/201902/scripts/src/sfsDivergence.py --genes flybaseGenesCleaned.tab --cds cdsCoordinates.tab --population GA --sampling 160 --outgroup dsim"
   ]
  },
  {
   "cell_type": "markdown",
   "metadata": {},
   "source": [
    "##### Asia"
   ]
  },
  {
   "cell_type": "code",
   "execution_count": null,
   "metadata": {},
   "outputs": [],
   "source": [
    "!python /home/jmurga/mkt/201902/scripts/src/sfsDivergence.py --genes flybaseGenesCleaned.tab --cds cdsCoordinates.tab --population CHB --sampling 160 --outgroup dsim"
   ]
  },
  {
   "cell_type": "markdown",
   "metadata": {},
   "source": [
    "##### Europe"
   ]
  },
  {
   "cell_type": "code",
   "execution_count": null,
   "metadata": {},
   "outputs": [],
   "source": [
    "!python /home/jmurga/mkt/201902/scripts/src/sfsDivergence.py --genes flybaseGenesCleaned.tab --cds cdsCoordinates.tab --population FR --sampling 160 --outgroup dsim"
   ]
  },
  {
   "cell_type": "code",
   "execution_count": null,
   "metadata": {},
   "outputs": [],
   "source": [
    "!python /home/jmurga/mkt/201902/scripts/src/sfsDivergence.py --genes flybaseGenesCleaned.tab --cds cdsCoordinates.tab --population NTH --sampling 160 --outgroup dsim"
   ]
  },
  {
   "cell_type": "markdown",
   "metadata": {},
   "source": [
    "##### Raw code"
   ]
  },
  {
   "cell_type": "code",
   "execution_count": null,
   "metadata": {
    "ExecuteTime": {
     "end_time": "2019-02-17T12:01:14.694547Z",
     "start_time": "2019-02-17T12:01:14.633743Z"
    },
    "code_folding": [
     45
    ],
    "hide_input": false,
    "scrolled": true
   },
   "outputs": [],
   "source": [
    "# Rewrite file each execution\n",
    "columns = ['id','rawDerivedAllele','type']\n",
    "dmelDaf = pd.DataFrame(columns=columns)\n",
    "columns = ['id','div','type']\n",
    "dmelDiv = pd.DataFrame(columns=columns)\n",
    "# os.remove('/home/jmurga/mkt/201902/dmelFourFoldSites.tab')\n",
    "# os.remove('/home/jmurga/mkt/201902/dmelZeroFoldSites.tab')          \n",
    "import time\n",
    "start = time.time()\n",
    "for index, row in cds.head(1).iterrows():\n",
    "# for index, row in cds.iterrows():\n",
    "    # Convert CDS list into numeric array\n",
    "    start_time = time.time()\n",
    "    print(index,row['id'])\n",
    "    coordinates = array(row['coordinates'].split(',')).astype(int).tolist()\n",
    "    coordinates =  [coordinates[i:i+2] for i in range(0, len(coordinates), 2)]\n",
    "    # Open ref and outgroup\n",
    "    ref = Fasta(DATA + '/fastas/ref/Chr' + row['chr'] +'.fasta')\n",
    "    outgroup = Fasta(DATA + '/fastas/outgroup/dsim/Chr' + row['chr'] +'_dsim.fasta')\n",
    "    ## Extract ref and outgroup seq\n",
    "    refSeq = ref.get_spliced_seq(row['chr'], coordinates).seq.upper()\n",
    "    outgroupSeq = outgroup.get_spliced_seq('Dsimulans', coordinates).seq.upper()\n",
    "    if((len(refSeq)/3).is_integer()): \n",
    "        # Open population multifasta\n",
    "        popFasta = Fasta(DATA + '/fastas/alignments/RAL/' + 'RAL_' + 'Chr' + row['chr'] +'.seq')\n",
    "        #Extract samples\n",
    "        samples = list(popFasta.keys())\n",
    "        # Open variables and file to write\n",
    "    #     multifasta = open(DATA + '/fastas/genes/RAL/' + row['id'] +'.fa', 'w')   \n",
    "        positions=[]\n",
    "        for i in range(0,len(coordinates),1):\n",
    "            positions.append(list(range(coordinates[i][0],coordinates[i][1]+1)))  \n",
    "        allPositions = [str(item) for sublist in positions for item in sublist]\n",
    "        ## Empty matrix to append ref, pop\n",
    "        matrix0f=np.empty([len(samples)+2,len(refSeq)],dtype='str')\n",
    "        matrix4f=np.empty([len(samples)+2,len(refSeq)],dtype='str')\n",
    "        # Outgroup sequences to pd.DataFrame\n",
    "        outgroup = np.empty([1,len(refSeq)],dtype='str')\n",
    "        if(row['strand'] == '-'):\n",
    "        #     if((len(refSeq)/3).is_integer()):\n",
    "            refSeq = reverseComplement(refSeq)\n",
    "            refSeq0f,refSeq4f = degenerate(refSeq)\n",
    "            outgroupSeq = reverseComplement(outgroupSeq)\n",
    "            matrix4f[0] = list(refSeq4f)        \n",
    "            matrix0f[0] = list(refSeq0f)\n",
    "            # Iter by row matrix to input sequences\n",
    "            deleteIndex = []\n",
    "            for i in range(0,len(samples),1):\n",
    "                tmp = popFasta.get_spliced_seq(samples[i], coordinates).seq.upper()\n",
    "                tmp = reverseComplement(tmp)\n",
    "                if(tmp == ('N' * len(tmp))):\n",
    "                    deleteIndex.append(i+1)\n",
    "                else:\n",
    "                    matrix4f[i+1] = list(tmp)\n",
    "                    matrix0f[i+1] = list(tmp)\n",
    "            matrix4f = np.delete(matrix4f,deleteIndex,0)\n",
    "            matrix0f = np.delete(matrix0f,deleteIndex,0)\n",
    "        else:\n",
    "            refSeq0f,refSeq4f = degenerate(refSeq)\n",
    "            matrix4f[0] = list(refSeq4f)        \n",
    "            matrix0f[0] = list(refSeq0f)\n",
    "            # Iter by row matrix to input sequences\n",
    "            deleteIndex = []\n",
    "            for i in range(0,len(samples),1):\n",
    "                tmp = popFasta.get_spliced_seq(samples[i], coordinates).seq.upper()\n",
    "                if(tmp == ('N' * len(tmp))):\n",
    "                    deleteIndex.append(i+1)\n",
    "                else:\n",
    "                    matrix4f[i+1] = list(tmp)\n",
    "                    matrix0f[i+1] = list(tmp)\n",
    "\n",
    "            matrix4f = np.delete(matrix4f,deleteIndex,0)\n",
    "            matrix0f = np.delete(matrix0f,deleteIndex,0)\n",
    "            # Iter by matrix column to degenerate all sequences based on reference sequence\n",
    "        # OutputSeq to pd.DataFrame\n",
    "        matrix4f[len(matrix4f)-1] = list(outgroupSeq)\n",
    "        matrix0f[len(matrix4f)-1] = list(outgroupSeq)\n",
    "        # 0-4fold positions to pd.DataFrame\n",
    "        df4f = pd.DataFrame(matrix4f)\n",
    "        df4f.columns = allPositions\n",
    "        df4f = df4f.loc[:,df4f.iloc[0]!='N']   \n",
    "        df4f = df4f.transpose()\n",
    "        \n",
    "        df0f = pd.DataFrame(matrix0f)\n",
    "        df0f.columns = allPositions\n",
    "        df0f = df0f.loc[:,df0f.iloc[0]!='N'] \n",
    "        df0f = df0f.transpose()\n",
    "\n",
    "        dmelFourFoldDafDiv = dafWithResampling(id=row['id'],data=df4f,resamplingValue=160,type='4fold')\n",
    "        dmelZeroFoldDafDiv = dafWithResampling(id=row['id'],data=df0f,resamplingValue=160,type='0fold')\n",
    "        \n",
    "        dmelFourFoldDafDiv.to_csv('/home/jmurga/mkt/201902/dmelFourFoldSites.tab',sep='\\t',header=False,mode='a',index=False)\n",
    "        dmelZeroFoldDafDiv.to_csv('/home/jmurga/mkt/201902/dmelZeroFoldSites.tab',sep='\\t',header=False,mode='a',index=False)\n",
    "        \n",
    "    else:\n",
    "        dmelFourFoldDafDiv = pd.DataFrame({'id':row['id'],'POS':0,'rawDerivedAllele':0,'div':0,'type':'4fold'},index=[0])\n",
    "        dmelZeroFoldDafDiv = pd.DataFrame({'id':row['id'],'POS':0,'rawDerivedAllele':0,'div':0,'type':'0fold'},index=[0])\n",
    "        dmelFourFoldDafDiv.to_csv('/home/jmurga/mkt/201902/dmelFourFoldSites.tab',sep='\\t',header=False,mode='a',index=False)\n",
    "        dmelZeroFoldDafDiv.to_csv('/home/jmurga/mkt/201902/dmelZeroFoldSites.tab',sep='\\t',header=False,mode='a',index=False)\n",
    "    print(\"--- %s seconds ---\" % (time.time() - start_time))\n",
    "print(\"--- %s seconds ---\" % (time.time() - start))\n"
   ]
  },
  {
   "cell_type": "markdown",
   "metadata": {
    "heading_collapsed": true
   },
   "source": [
    "#### Extracting mi and m0"
   ]
  },
  {
   "cell_type": "code",
   "execution_count": null,
   "metadata": {
    "code_folding": [
     0
    ],
    "hidden": true
   },
   "outputs": [],
   "source": [
    "def degenerate(data):\n",
    "        \n",
    "        #DEGENERANCY DICTIONARIES\n",
    "        degenerateCodonTable = {\"TTC\":'002',\"TTT\":'002',#PHE 002\n",
    "                                                \"TTA\":'002',\"TTG\":'002',#LEU 002\n",
    "                                                \"CTT\":'204',\"CTC\":'204',\"CTA\":'204',\"CTG\":'204',#LUE 204\n",
    "                                                \"ATG\":'000',#MET 000\n",
    "                                                \"ATT\":'003',\"ATC\":'003',\"ATA\":'003',#ILE 003\n",
    "                                                \"GTC\":'004',\"GTT\":'004',\"GTA\":'004',\"GTG\":'004',#VAL 004\n",
    "                                                \"TCT\":'004',\"TCA\":'004',\"TCC\":'004',\"TCG\":'004',#SER 004\n",
    "                                                \"CCT\":'004',\"CCA\":'004',\"CCC\":'004',\"CCG\":'004',#PRO 004\n",
    "                                                \"ACT\":'004',\"ACA\":'004',\"ACC\":'004',\"ACG\":'004',#THR 004\n",
    "                                                \"GCT\":'004',\"GCA\":'004',\"GCC\":'004',\"GCG\":'004',#ALA 004\n",
    "                                                \"TAT\":'002',\"TAC\":'002',#TYR 002\n",
    "                                                \"TAA\":'000',\"TAG\":'000',\"TGA\":'000',#STOP 000\n",
    "                                                \"CAT\":'002',\"CAC\":'002',#HIS 002\n",
    "                                                \"CAA\":'002',\"CAG\":'002',#GLN 002\n",
    "                                                \"AAT\":'002',\"AAC\":'002',#ASN 002\n",
    "                                                \"AAG\":'002',\"AAA\":'002',#LYS 002\n",
    "                                                \"GAT\":'002',\"GAC\":'002',#ASP 002\n",
    "                                                \"GAA\":'002',\"GAG\":'002',#GLU 002\n",
    "                                                \"TGT\":'002',\"TGC\":'002',#CYS 002\n",
    "                                                \"TGG\":'000',#TRP 000\n",
    "                                                \"CGT\":'204',\"CGG\":'204',\"CGA\":'204',\"CGC\":'204',#ARG 204\n",
    "                                                \"AGA\":'002',\"AGG\":'002',#ARG 002\n",
    "                                                \"AGT\":'002',\"AGC\":'002',#SER 002\n",
    "                                                \"GGT\":'004',\"GGA\":'004',\"GGC\":'004',\"GGG\":'004',#GLY 004                        \n",
    "                \n",
    "        }\n",
    "        \n",
    "        degenerancy = ''\n",
    "        for i in range(0, len(data),3):\n",
    "                codon = data[i:i+3]\n",
    "                degenerancy += degenerateCodonTable[codon]\n",
    "        return(degenerancy)"
   ]
  },
  {
   "cell_type": "code",
   "execution_count": null,
   "metadata": {
    "hidden": true
   },
   "outputs": [],
   "source": [
    "dfGenes = pd.read_csv('/home/jmurga/positiveSelectionHuman/201901/rawData/dmel/annotations/flybaseGenesCleaned.tab',header = 0,usecols=['id','name','chr','strand'],sep='\\t')\n",
    "cds = pd.read_csv('/home/jmurga/mkt/201902/rawData/annotations/cdsLargest.tab',header=0,sep='\\t')\n",
    "cds = pd.merge(cds, dfGenes,  how='inner', left_on=['chr','name'], right_on = ['chr','name'])\n",
    "degeneratePositions = pd.read_csv('/home/jmurga/positiveSelectionHuman/201901/rawData/dmel/annotations/zeroFourFoldPositions.tab',header=0,sep='\\t')"
   ]
  },
  {
   "cell_type": "code",
   "execution_count": null,
   "metadata": {
    "hidden": true
   },
   "outputs": [],
   "source": [
    "# Rewrite file each execution\n",
    "columns = ['id','mi','m0']\n",
    "totalFoldPositions = pd.DataFrame(columns=columns)\n",
    "for j in cds['chr'].unique():\n",
    "    print(j)\n",
    "    chrPositions = degeneratePositions[degeneratePositions['chr']==j]\n",
    "    for index, row in cds[cds['chr']==j].iterrows():\n",
    "        print(index,row['id'])\n",
    "        chrFile = Fasta('/home/jmurga/positiveSelectionHuman/201901/rawData/dmel/refFastas/' + row['chr'] +'.fa')\n",
    "    #     Convert CDS list into numeric array\n",
    "        coordinates = array(row['coordinates'].split(',')).astype(int).tolist()\n",
    "        coordinates =  [coordinates[i:i+2] for i in range(0, len(coordinates), 2)]\n",
    "        # Extract all CDS positions in a list in order to merge with degenerate sequences (same length -> same index)\n",
    "        positions=[]\n",
    "        for i in range(0,len(coordinates),1):\n",
    "            positions.append(list(range(coordinates[i][0],coordinates[i][1]+1)))  \n",
    "        allPositions = [item for sublist in positions for item in sublist]\n",
    "        # Extract cds sequences\n",
    "        seq = chrFile.get_spliced_seq(row['chr'].replace('chr',''), coordinates).seq.upper()\n",
    "    #     print(len(seq))\n",
    "        if(row['strand'] == '-'):\n",
    "            seq = reverseComplement(seq)\n",
    "            allPositions = allPositions[::-1]\n",
    "        if((len(seq)/3).is_integer() and seq[0:3]=='ATG'):\n",
    "            m = degenerate(seq)\n",
    "            tmp = pd.DataFrame({'pos':allPositions,'m':list(m)})\n",
    "            tmp['chr']=row['chr']\n",
    "            tmp = pd.merge(chrPositions,tmp,on=['chr','pos'],how='right')              \n",
    "            tmp['m']=tmp.apply(lambda x: '0' if x['newType']=='0fold' else '4' if x['newType']=='4fold' else x['m'],axis=1)\n",
    "            counts = tmp['m'].value_counts()\n",
    "            if(counts.shape[0]<4 or '4' not in counts.index):\n",
    "                m0=0\n",
    "                mi=counts['0']\n",
    "            else:\n",
    "                m0=counts['4']\n",
    "                mi=counts['0']\n",
    "            data = pd.DataFrame({'id':row['id'],'mi':mi,'m0':m0},index=[0])\n",
    "            totalFoldPositions = totalFoldPositions.append(data,ignore_index=True)\n",
    "        else:\n",
    "            data = pd.DataFrame({'id':row['id'],'mi':0,'m0':0},index=[0])\n",
    "            totalFoldPositions = totalFoldPositions.append(data,ignore_index=True)"
   ]
  }
 ],
 "metadata": {
  "kernelspec": {
   "display_name": "Python 3",
   "language": "python",
   "name": "python3"
  },
  "language_info": {
   "codemirror_mode": {
    "name": "ipython",
    "version": 3
   },
   "file_extension": ".py",
   "mimetype": "text/x-python",
   "name": "python",
   "nbconvert_exporter": "python",
   "pygments_lexer": "ipython3",
   "version": "3.6.8"
  },
  "toc": {
   "base_numbering": 1,
   "nav_menu": {},
   "number_sections": true,
   "sideBar": true,
   "skip_h1_title": false,
   "title_cell": "Table of Contents",
   "title_sidebar": "Contents",
   "toc_cell": false,
   "toc_position": {
    "height": "calc(100% - 180px)",
    "left": "10px",
    "top": "150px",
    "width": "165px"
   },
   "toc_section_display": true,
   "toc_window_display": false
  },
  "varInspector": {
   "cols": {
    "lenName": 16,
    "lenType": 16,
    "lenVar": 40
   },
   "kernels_config": {
    "python": {
     "delete_cmd_postfix": "",
     "delete_cmd_prefix": "del ",
     "library": "var_list.py",
     "varRefreshCmd": "print(var_dic_list())"
    },
    "r": {
     "delete_cmd_postfix": ") ",
     "delete_cmd_prefix": "rm(",
     "library": "var_list.r",
     "varRefreshCmd": "cat(var_dic_list()) "
    }
   },
   "oldHeight": 122.85,
   "position": {
    "height": "307px",
    "left": "1010px",
    "right": "20px",
    "top": "120px",
    "width": "250px"
   },
   "types_to_exclude": [
    "module",
    "function",
    "builtin_function_or_method",
    "instance",
    "_Feature"
   ],
   "varInspector_section_display": "none",
   "window_display": false
  }
 },
 "nbformat": 4,
 "nbformat_minor": 2
}
