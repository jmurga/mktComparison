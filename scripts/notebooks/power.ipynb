{
 "cells": [
  {
   "cell_type": "code",
   "execution_count": 1,
   "metadata": {
    "ExecuteTime": {
     "end_time": "2019-05-16T08:27:11.994054Z",
     "start_time": "2019-05-16T08:27:11.757Z"
    },
    "scrolled": true
   },
   "outputs": [
    {
     "name": "stderr",
     "output_type": "stream",
     "text": [
      "\n",
      "Attaching package: ‘cowplot’\n",
      "\n",
      "The following object is masked from ‘package:ggplot2’:\n",
      "\n",
      "    ggsave\n",
      "\n",
      "\n",
      "Attaching package: ‘gridExtra’\n",
      "\n",
      "The following object is masked from ‘package:dplyr’:\n",
      "\n",
      "    combine\n",
      "\n"
     ]
    }
   ],
   "source": [
    "library(data.table)\n",
    "library(dplyr)\n",
    "library(ggplot2)\n",
    "library(cowplot)\n",
    "library(gridExtra)\n",
    "source('/home/jmurga/mkt/201902/scripts/src/plotStyle.R')\n",
    "source('/home/jmurga/mkt/201902/scripts/src/minimumNumberPi.R')\n",
    "# dir.create('/home/jmurga/mkt/201902/results/power/', recursive = T)"
   ]
  },
  {
   "cell_type": "markdown",
   "metadata": {
    "heading_collapsed": true
   },
   "source": [
    "### Changing divergence"
   ]
  },
  {
   "cell_type": "code",
   "execution_count": null,
   "metadata": {
    "ExecuteTime": {
     "end_time": "2019-03-08T11:51:35.207188Z",
     "start_time": "2019-03-08T11:55:12.019Z"
    },
    "hidden": true
   },
   "outputs": [],
   "source": [
    "options(repr.plot.width=5, repr.plot.height=5)"
   ]
  },
  {
   "cell_type": "markdown",
   "metadata": {
    "heading_collapsed": true,
    "hidden": true
   },
   "source": [
    "#### Ratio divergence 0.1"
   ]
  },
  {
   "cell_type": "code",
   "execution_count": 2,
   "metadata": {
    "ExecuteTime": {
     "end_time": "2019-05-16T08:30:30.517524Z",
     "start_time": "2019-05-16T08:27:53.407Z"
    },
    "code_folding": [],
    "collapsed": true,
    "hidden": true
   },
   "outputs": [
    {
     "name": "stderr",
     "output_type": "stream",
     "text": [
      "Warning message in data.table::data.table(...):\n",
      "“Item 1 is of size 10 but maximum size is 25 (recycled leaving remainder of 5 items)”Warning message in data.table::data.table(...):\n",
      "“Item 1 is of size 10 but maximum size is 25 (recycled leaving remainder of 5 items)”Warning message in data.table::data.table(...):\n",
      "“Item 1 is of size 10 but maximum size is 33 (recycled leaving remainder of 3 items)”"
     ]
    }
   ],
   "source": [
    "divRatio <- list()\n",
    "for(i in c(0.1,0.25,0.5,0.75,1,1.5,2,5,10)){\n",
    "    \n",
    "    ratio <- createCombinations(listLengthToExpand=100,ratioD=0.1,ratioP=i)\n",
    "    polDiv <- tableToIter(data=ratio,iterations=length(ratio$Di),combinations = 'polymorphism')\n",
    "    \n",
    "    divRatio[[paste0(i)]] <- ratio \n",
    "    \n",
    "    assign(paste0('div',i), polDiv$plot)\n",
    "    customLegend <- polDiv$legend\n",
    "}\n",
    "\n",
    "p <- plot_grid(div0.1,div0.25,div0.5,div0.75,div1,div1.5,div2,div5,div10)\n",
    "p <- plot_grid(p, customLegend, ncol=2, rel_widths=c(1,.1))\n",
    "ggsave(p,file='/home/jmurga/mkt/201902/results/power/div0.1.svg',width = 14,height = 13)\n",
    "save(divRatio,file='/home/jmurga/mkt/201902/results/power/div0.1.RData')"
   ]
  },
  {
   "cell_type": "markdown",
   "metadata": {
    "heading_collapsed": true,
    "hidden": true
   },
   "source": [
    "#### Ratio divergence 0.25"
   ]
  },
  {
   "cell_type": "code",
   "execution_count": 9,
   "metadata": {
    "ExecuteTime": {
     "end_time": "2019-05-16T09:06:06.669353Z",
     "start_time": "2019-05-16T09:02:41.580Z"
    },
    "code_folding": [],
    "collapsed": true,
    "hidden": true
   },
   "outputs": [
    {
     "name": "stderr",
     "output_type": "stream",
     "text": [
      "Warning message in data.table::data.table(...):\n",
      "“Item 2 is of size 10 but maximum size is 25 (recycled leaving remainder of 5 items)”Warning message in data.table::data.table(...):\n",
      "“Item 1 is of size 25 but maximum size is 33 (recycled leaving remainder of 8 items)”Warning message in data.table::data.table(...):\n",
      "“Item 2 is of size 20 but maximum size is 25 (recycled leaving remainder of 5 items)”Warning message in data.table::data.table(...):\n",
      "“Item 2 is of size 10 but maximum size is 25 (recycled leaving remainder of 5 items)”"
     ]
    }
   ],
   "source": [
    "divRatio <- list()\n",
    "for(i in c(0.1,0.25,0.5,0.75,1,1.5,2,5,10)){\n",
    "   \n",
    "    ratio <- createCombinations(listLengthToExpand=100,ratioD=0.25,ratioP=i)\n",
    "    polDiv <- tableToIter(data=ratio,iterations=length(ratio$Di),combinations = 'polymorphism')\n",
    "    assign(paste0('div',i), polDiv$plot)\n",
    "    \n",
    "    divRatio[[paste0(i)]] <- ratio \n",
    "\n",
    "    customLegend <- polDiv$legend\n",
    "}\n",
    "\n",
    "p <- plot_grid(div0.1,div0.25,div0.5,div0.75,div1,div1.5,div2,div5,div10)\n",
    "p <- plot_grid(p, customLegend, ncol=2, rel_widths=c(1,.1))\n",
    "ggsave(p,file='/home/jmurga/mkt/201902/results/power/div0.25.svg',width = 14,height = 13)\n",
    "save(divRatio,file='/home/jmurga/mkt/201902/results/power/div0.25.RData')"
   ]
  },
  {
   "cell_type": "markdown",
   "metadata": {
    "heading_collapsed": true,
    "hidden": true
   },
   "source": [
    "#### Ratio divergence 0.5"
   ]
  },
  {
   "cell_type": "code",
   "execution_count": 11,
   "metadata": {
    "ExecuteTime": {
     "end_time": "2019-05-16T09:13:03.264058Z",
     "start_time": "2019-05-16T09:08:02.797Z"
    },
    "code_folding": [],
    "hidden": true,
    "scrolled": true
   },
   "outputs": [
    {
     "name": "stderr",
     "output_type": "stream",
     "text": [
      "Warning message in data.table::data.table(...):\n",
      "“Item 2 is of size 33 but maximum size is 50 (recycled leaving remainder of 17 items)”Warning message in data.table::data.table(...):\n",
      "“Item 2 is of size 20 but maximum size is 50 (recycled leaving remainder of 10 items)”"
     ]
    }
   ],
   "source": [
    "divRatio <- list()\n",
    "for(i in c(0.1,0.25,0.5,0.75,1,1.5,2,5,10)){\n",
    "   \n",
    "    ratio <- createCombinations(listLengthToExpand=100,ratioD=0.5,ratioP=i)\n",
    "    polDiv <- tableToIter(data=ratio,iterations=length(ratio$Di),combinations = 'polymorphism')\n",
    "    assign(paste0('div',i), polDiv$plot)\n",
    "\n",
    "    divRatio[[paste0(i)]] <- ratio \n",
    "\n",
    "    customLegend <- polDiv$legend\n",
    "}\n",
    "\n",
    "p <- plot_grid(div0.1,div0.25,div0.5,div0.75,div1,div1.5,div2,div5,div10)\n",
    "p <- plot_grid(p, customLegend, ncol=2, rel_widths=c(1,.1))\n",
    "ggsave(p,file='/home/jmurga/mkt/201902/results/power/div0.5.svg',width = 14,height = 13)\n",
    "save(divRatio,file='/home/jmurga/mkt/201902/results/power/div0.5.RData')"
   ]
  },
  {
   "cell_type": "markdown",
   "metadata": {
    "heading_collapsed": true,
    "hidden": true
   },
   "source": [
    "#### Ratio divergence 0.75"
   ]
  },
  {
   "cell_type": "code",
   "execution_count": 12,
   "metadata": {
    "ExecuteTime": {
     "end_time": "2019-05-16T09:22:26.565936Z",
     "start_time": "2019-05-16T09:18:43.849Z"
    },
    "code_folding": [],
    "hidden": true,
    "scrolled": true
   },
   "outputs": [
    {
     "name": "stderr",
     "output_type": "stream",
     "text": [
      "Warning message in data.table::data.table(...):\n",
      "“Item 2 is of size 10 but maximum size is 25 (recycled leaving remainder of 5 items)”Warning message in data.table::data.table(...):\n",
      "“Item 1 is of size 25 but maximum size is 33 (recycled leaving remainder of 8 items)”Warning message in data.table::data.table(...):\n",
      "“Item 2 is of size 20 but maximum size is 25 (recycled leaving remainder of 5 items)”Warning message in data.table::data.table(...):\n",
      "“Item 2 is of size 10 but maximum size is 25 (recycled leaving remainder of 5 items)”"
     ]
    }
   ],
   "source": [
    "divRatio <- list()\n",
    "for(i in c(0.1,0.25,0.5,0.75,1,1.5,2,5,10)){\n",
    "   \n",
    "    ratio <- createCombinations(listLengthToExpand=100,ratioD=0.75,ratioP=i)\n",
    "    polDiv <- tableToIter(data=ratio,iterations=length(ratio$Di),combinations = 'polymorphism')\n",
    "    assign(paste0('div',i), polDiv$plot)\n",
    "\n",
    "    divRatio[[paste0(i)]] <- ratio \n",
    "\n",
    "    customLegend <- polDiv$legend\n",
    "}\n",
    "\n",
    "p <- plot_grid(div0.1,div0.25,div0.5,div0.75,div1,div1.5,div2,div5,div10)\n",
    "p <- plot_grid(p, customLegend, ncol=2, rel_widths=c(1,.1))\n",
    "ggsave(p,file='/home/jmurga/mkt/201902/results/power/div0.75.svg',width = 14,height = 13)\n",
    "save(divRatio,file='/home/jmurga/mkt/201902/results/power/div0.75.RData')"
   ]
  },
  {
   "cell_type": "markdown",
   "metadata": {
    "heading_collapsed": true,
    "hidden": true
   },
   "source": [
    "#### Ratio divergence 1"
   ]
  },
  {
   "cell_type": "code",
   "execution_count": 13,
   "metadata": {
    "ExecuteTime": {
     "end_time": "2019-05-16T10:04:43.992229Z",
     "start_time": "2019-05-16T09:43:53.113Z"
    },
    "code_folding": [],
    "hidden": true,
    "scrolled": true
   },
   "outputs": [
    {
     "name": "stderr",
     "output_type": "stream",
     "text": [
      "Warning message in data.table::data.table(...):\n",
      "“Item 2 is of size 33 but maximum size is 100 (recycled leaving remainder of 1 items)”"
     ]
    }
   ],
   "source": [
    "divRatio <- list()\n",
    "\n",
    "for(i in c(0.1,0.25,0.5,0.75,1,1.5,2,5,10)){\n",
    "   \n",
    "    ratio <- createCombinations(listLengthToExpand=100,ratioD=1,ratioP=i)\n",
    "    polDiv <- tableToIter(data=ratio,iterations=length(ratio$Di),combinations = 'polymorphism')\n",
    "    assign(paste0('div',i), polDiv$plot)\n",
    "\n",
    "    divRatio[[paste0(i)]] <- ratio \n",
    "\n",
    "    customLegend <- polDiv$legend\n",
    "}\n",
    "\n",
    "p <- plot_grid(div0.1,div0.25,div0.5,div0.75,div1,div1.5,div2,div5,div10)\n",
    "p <- plot_grid(p, customLegend, ncol=2, rel_widths=c(1,.1))\n",
    "ggsave(p,file='/home/jmurga/mkt/201902/results/power/div1.svg',width = 14,height = 13)\n",
    "save(divRatio,file='/home/jmurga/mkt/201902/results/power/div1.RData')"
   ]
  },
  {
   "cell_type": "markdown",
   "metadata": {
    "heading_collapsed": true,
    "hidden": true
   },
   "source": [
    "#### Ratio divergence 1.5"
   ]
  },
  {
   "cell_type": "code",
   "execution_count": 14,
   "metadata": {
    "ExecuteTime": {
     "end_time": "2019-05-16T10:13:42.051092Z",
     "start_time": "2019-05-16T10:10:07.200Z"
    },
    "code_folding": [],
    "hidden": true,
    "scrolled": true
   },
   "outputs": [
    {
     "name": "stderr",
     "output_type": "stream",
     "text": [
      "Warning message in data.table::data.table(...):\n",
      "“Item 2 is of size 10 but maximum size is 33 (recycled leaving remainder of 3 items)”Warning message in data.table::data.table(...):\n",
      "“Item 2 is of size 25 but maximum size is 33 (recycled leaving remainder of 8 items)”Warning message in data.table::data.table(...):\n",
      "“Item 1 is of size 33 but maximum size is 50 (recycled leaving remainder of 17 items)”Warning message in data.table::data.table(...):\n",
      "“Item 2 is of size 25 but maximum size is 33 (recycled leaving remainder of 8 items)”Warning message in data.table::data.table(...):\n",
      "“Item 1 is of size 33 but maximum size is 100 (recycled leaving remainder of 1 items)”Warning message in data.table::data.table(...):\n",
      "“Item 1 is of size 33 but maximum size is 50 (recycled leaving remainder of 17 items)”Warning message in data.table::data.table(...):\n",
      "“Item 2 is of size 20 but maximum size is 33 (recycled leaving remainder of 13 items)”Warning message in data.table::data.table(...):\n",
      "“Item 2 is of size 10 but maximum size is 33 (recycled leaving remainder of 3 items)”"
     ]
    }
   ],
   "source": [
    "divRatio <- list()\n",
    "\n",
    "for(i in c(0.1,0.25,0.5,0.75,1,1.5,2,5,10)){\n",
    "   \n",
    "    ratio <- createCombinations(listLengthToExpand=100,ratioD=1.5,ratioP=i)\n",
    "    polDiv <- tableToIter(data=ratio,iterations=length(ratio$Di),combinations = 'polymorphism')\n",
    "    assign(paste0('div',i), polDiv$plot)\n",
    "\n",
    "    divRatio[[paste0(i)]] <- ratio \n",
    "\n",
    "    \n",
    "    customLegend <- polDiv$legend\n",
    "}\n",
    "\n",
    "p <- plot_grid(div0.1,div0.25,div0.5,div0.75,div1,div1.5,div2,div5,div10)\n",
    "p <- plot_grid(p, customLegend, ncol=2, rel_widths=c(1,.1))\n",
    "ggsave(p,file='/home/jmurga/mkt/201902/results/power/div1.5.svg',width = 14,height = 13)\n",
    "save(divRatio,file='/home/jmurga/mkt/201902/results/power/div1.5.RData')"
   ]
  },
  {
   "cell_type": "markdown",
   "metadata": {
    "heading_collapsed": true,
    "hidden": true
   },
   "source": [
    "#### Ratio divergence 2"
   ]
  },
  {
   "cell_type": "code",
   "execution_count": 15,
   "metadata": {
    "ExecuteTime": {
     "end_time": "2019-05-16T10:42:23.712548Z",
     "start_time": "2019-05-16T10:37:46.504Z"
    },
    "code_folding": [],
    "hidden": true,
    "scrolled": true
   },
   "outputs": [
    {
     "name": "stderr",
     "output_type": "stream",
     "text": [
      "Warning message in data.table::data.table(...):\n",
      "“Item 2 is of size 33 but maximum size is 50 (recycled leaving remainder of 17 items)”Warning message in data.table::data.table(...):\n",
      "“Item 2 is of size 20 but maximum size is 50 (recycled leaving remainder of 10 items)”"
     ]
    }
   ],
   "source": [
    "divRatio <- list()\n",
    "\n",
    "for(i in c(0.1,0.25,0.5,0.75,1,1.5,2,5,10)){\n",
    "   \n",
    "    ratio <- createCombinations(listLengthToExpand=100,ratioD=2,ratioP=i)\n",
    "    polDiv <- tableToIter(data=ratio,iterations=length(ratio$Di),combinations = 'polymorphism')\n",
    "    assign(paste0('div',i), polDiv$plot)\n",
    "    divRatio[[paste0(i)]] <- ratio \n",
    "\n",
    "    customLegend <- polDiv$legend\n",
    "}\n",
    "\n",
    "p <- plot_grid(div0.1,div0.25,div0.5,div0.75,div1,div1.5,div2,div5,div10)\n",
    "p <- plot_grid(p, customLegend, ncol=2, rel_widths=c(1,.1))\n",
    "ggsave(p,file='/home/jmurga/mkt/201902/results/power/div2.svg',width = 14,height = 13)\n",
    "save(divRatio,file='/home/jmurga/mkt/201902/results/power/div2.RData')"
   ]
  },
  {
   "cell_type": "markdown",
   "metadata": {
    "heading_collapsed": true,
    "hidden": true
   },
   "source": [
    "#### Ratio divergence 5"
   ]
  },
  {
   "cell_type": "code",
   "execution_count": 16,
   "metadata": {
    "ExecuteTime": {
     "end_time": "2019-05-16T14:54:38.799537Z",
     "start_time": "2019-05-16T14:18:39.719Z"
    },
    "code_folding": [],
    "hidden": true,
    "scrolled": true
   },
   "outputs": [
    {
     "name": "stderr",
     "output_type": "stream",
     "text": [
      "Warning message in data.table::data.table(...):\n",
      "“Item 1 is of size 20 but maximum size is 25 (recycled leaving remainder of 5 items)”Warning message in data.table::data.table(...):\n",
      "“Item 1 is of size 20 but maximum size is 50 (recycled leaving remainder of 10 items)”Warning message in data.table::data.table(...):\n",
      "“Item 1 is of size 20 but maximum size is 25 (recycled leaving remainder of 5 items)”Warning message in data.table::data.table(...):\n",
      "“Item 1 is of size 20 but maximum size is 33 (recycled leaving remainder of 13 items)”Warning message in data.table::data.table(...):\n",
      "“Item 1 is of size 20 but maximum size is 50 (recycled leaving remainder of 10 items)”"
     ]
    }
   ],
   "source": [
    "divRatio <- list()\n",
    "\n",
    "for(i in c(0.1,0.25,0.5,0.75,1,1.5,2,5,10)){\n",
    "   \n",
    "    ratio <- createCombinations(listLengthToExpand=100,ratioD=5,ratioP=i)\n",
    "    polDiv <- tableToIter(data=ratio,iterations=length(ratio$Di),combinations = 'polymorphism')\n",
    "    assign(paste0('div',i), polDiv$plot)\n",
    "    divRatio[[paste0(i)]] <- ratio \n",
    "\n",
    "    customLegend <- polDiv$legend\n",
    "}\n",
    "\n",
    "p <- plot_grid(div0.1,div0.25,div0.5,div0.75,div1,div1.5,div2,div5,div10)\n",
    "p <- plot_grid(p, customLegend, ncol=2, rel_widths=c(1,.1))\n",
    "ggsave(p,file='/home/jmurga/mkt/201902/results/power/div5.svg',width = 14,height = 13)\n",
    "save(divRatio,file='/home/jmurga/mkt/201902/results/power/div5.RData')"
   ]
  },
  {
   "cell_type": "markdown",
   "metadata": {
    "hidden": true
   },
   "source": [
    "#### Ratio divergence 10"
   ]
  },
  {
   "cell_type": "code",
   "execution_count": 17,
   "metadata": {
    "ExecuteTime": {
     "end_time": "2019-05-16T15:43:30.402876Z",
     "start_time": "2019-05-16T15:06:32.111Z"
    },
    "code_folding": [],
    "hidden": true,
    "scrolled": true
   },
   "outputs": [
    {
     "name": "stderr",
     "output_type": "stream",
     "text": [
      "Warning message in data.table::data.table(...):\n",
      "“Item 1 is of size 10 but maximum size is 25 (recycled leaving remainder of 5 items)”Warning message in data.table::data.table(...):\n",
      "“Item 1 is of size 10 but maximum size is 25 (recycled leaving remainder of 5 items)”Warning message in data.table::data.table(...):\n",
      "“Item 1 is of size 10 but maximum size is 33 (recycled leaving remainder of 3 items)”"
     ]
    }
   ],
   "source": [
    "divRatio <- list()\n",
    "\n",
    "for(i in c(0.1,0.25,0.5,0.75,1,1.5,2,5,10)){\n",
    "   \n",
    "    ratio <- createCombinations(listLengthToExpand=100,ratioD=10,ratioP=i)\n",
    "    polDiv <- tableToIter(data=ratio,iterations=length(ratio$Di),combinations = 'polymorphism')\n",
    "    assign(paste0('div',i), polDiv$plot)\n",
    "    divRatio[[paste0(i)]] <- ratio \n",
    "\n",
    "    customLegend <- polDiv$legend\n",
    "    \n",
    "}\n",
    "\n",
    "p <- plot_grid(div0.1,div0.25,div0.5,div0.75,div1,div1.5,div2,div5,div10)\n",
    "p <- plot_grid(p, customLegend, ncol=2, rel_widths=c(1,.1))\n",
    "ggsave(p,file='/home/jmurga/mkt/201902/results/power/div10.svg',width = 14,height = 13)\n",
    "save(divRatio,file='/home/jmurga/mkt/201902/results/power/div10.RData')"
   ]
  },
  {
   "cell_type": "markdown",
   "metadata": {},
   "source": [
    "### Power to detect selection"
   ]
  },
  {
   "cell_type": "code",
   "execution_count": 1,
   "metadata": {
    "ExecuteTime": {
     "end_time": "2019-11-15T16:56:37.007365Z",
     "start_time": "2019-11-15T16:56:35.788Z"
    },
    "scrolled": true
   },
   "outputs": [
    {
     "name": "stderr",
     "output_type": "stream",
     "text": [
      "\n",
      "Attaching package: ‘dplyr’\n",
      "\n",
      "The following objects are masked from ‘package:data.table’:\n",
      "\n",
      "    between, first, last\n",
      "\n",
      "The following objects are masked from ‘package:stats’:\n",
      "\n",
      "    filter, lag\n",
      "\n",
      "The following objects are masked from ‘package:base’:\n",
      "\n",
      "    intersect, setdiff, setequal, union\n",
      "\n",
      "\n",
      "Attaching package: ‘cowplot’\n",
      "\n",
      "The following object is masked from ‘package:ggplot2’:\n",
      "\n",
      "    ggsave\n",
      "\n",
      "\n",
      "Attaching package: ‘gridExtra’\n",
      "\n",
      "The following object is masked from ‘package:dplyr’:\n",
      "\n",
      "    combine\n",
      "\n"
     ]
    }
   ],
   "source": [
    "library(data.table)\n",
    "library(dplyr)\n",
    "library(ggplot2)\n",
    "library(cowplot)\n",
    "library(data.table)\n",
    "library(gridExtra)\n",
    "library(lattice)\n",
    "source('/home/jmurga/mkt/201902/scripts/src/plotStyle.R')\n",
    "source('/home/jmurga/mkt/201902/scripts/src/minimumNumberPi.R')"
   ]
  },
  {
   "cell_type": "markdown",
   "metadata": {},
   "source": [
    "The power to detect selection will depend on the following factors:\n",
    "\n",
    "1. The species you are analyzing. The level of polymorphism in the fly genome is more than two times higher than that in the human genome ([Wang, et al. 2015](https://academic.oup.com/database/article/doi/10.1093/database/bav079/2433212)).\n",
    "\n",
    "2. The population species you are analyzing. Colonizing populations are expected to have lower levels of polymorphism reducing the power of the MK test by lowering the counts of P<sub>N</sub> and P<sub>S</sub>. In <i>Drosophila</i>, the Malawi population sequenced by the DPGP exhibited >40% more polymorphism genome-wide than the North-American one sequenced by the DGRP ([Langley et al. 2012](https://www.genetics.org/content/192/2/533.long), [Parsch et al. 2009](https://academic.oup.com/mbe/article/26/3/691/979205)). The same trend is observed in human populations ([Gomez et al 2014](https://cshperspectives.cshlp.org/content/6/7/a008524)).\n",
    "\n",
    "3. The segregation of slightly deleterious non-synonymous mutations ([Charlesworth and Eyre-Walker 2008](https://academic.oup.com/mbe/article/25/6/1007/1124281)). \n",
    "\n",
    "4. The time of divergence between species."
   ]
  },
  {
   "cell_type": "code",
   "execution_count": 3,
   "metadata": {
    "ExecuteTime": {
     "end_time": "2019-11-15T16:58:12.224691Z",
     "start_time": "2019-11-15T16:58:10.987Z"
    }
   },
   "outputs": [],
   "source": [
    "dmelData <- fread(file = \"/home/jmurga/mkt/201902/results/dsimDmelData.tab\", header = TRUE, sep = \"\\t\")\n",
    "dmelDataRAL <- dmelData %>% filter(pop == \"RAL\")\n",
    "dmelDataZI <- dmelData %>% filter(pop == \"ZI\")\n",
    "\n",
    "humanData <- fread(file = \"/home/jmurga/mkt/201902/results/humanData.tab\", header = TRUE, sep = \"\\t\")\n",
    "humanDataCEU <- humanData %>% filter(pop == \"CEU\")\n",
    "humanDataYRI <- humanData %>% filter(pop == \"YRI\")"
   ]
  },
  {
   "cell_type": "markdown",
   "metadata": {},
   "source": [
    "| | Di | D0 | P0 | Pi | mi | m0 | Coding length |\n",
    "|-----|----------------------------|----------------------------|----------------------------|----------------------------|----------------------------|----------------------------|-------------------------------------------|\n",
    "| RAL | ```r sum(dmelDataRALVAR$di)``` | ```r sum(dmelDataRALVAR$d0)``` | ```r sum(dmelDataRALVAR$p0)``` | ```r sum(dmelDataRALVAR$pi)``` | ```r sum(dmelDataRALVAR$mi)``` | ```r sum(dmelDataRALVAR$m0)``` | ```r sum(dmelDataRALVAR$mi+dmelDataRALVAR$m0)``` |\n",
    "| ZI | ```r sum(dmelDataZIVAR$di)``` | ```r sum(dmelDataZIVAR$d0)``` | ```r sum(dmelDataZIVAR$p0)``` | ```r sum(dmelDataZIVAR$pi)``` | ```r sum(dmelDataZIVAR$mi)``` | ```r sum(dmelDataZIVAR$m0)``` | ```r sum(dmelDataZIVAR$mi+dmelDataZIVAR$m0)``` |\n",
    "| CEU | ```r sum(humanDataCEUVAR$di)``` | ```r sum(humanDataCEUVAR$d0)``` | ```r sum(humanDataCEUVAR$p0)``` | ```r sum(humanDataCEUVAR$pi)``` | ```r sum(humanDataCEUVAR$mi)``` | ```r sum(humanDataCEUVAR$m0)``` | ```r sum(humanDataCEUVAR$mi+humanDataCEUVAR$m0)``` |\n",
    "| YRI | ```r sum(humanDataYRIVAR$di)``` | ```r sum(humanDataYRIVAR$d0)``` | ```r sum(humanDataYRIVAR$p0)``` | ```r sum(humanDataYRIVAR$pi)``` | ```r sum(humanDataYRIVAR$mi)``` | ```r sum(humanDataYRIVAR$m0)``` | ```r sum(humanDataYRIVAR$mi+humanDataYRIVAR$m0)``` |\n"
   ]
  },
  {
   "cell_type": "markdown",
   "metadata": {},
   "source": [
    "Ratio divergence (D0/Di): 0.25 and ratio polymorphism (P0/Pi): 0.5. "
   ]
  },
  {
   "cell_type": "code",
   "execution_count": 5,
   "metadata": {
    "ExecuteTime": {
     "end_time": "2019-11-15T17:03:34.552471Z",
     "start_time": "2019-11-15T17:02:20.329Z"
    }
   },
   "outputs": [],
   "source": [
    "divRatio <- list()\n",
    "\n",
    "for(i in c(0.5)){\n",
    "    \n",
    "    ratio <- createCombinations(listLengthToExpand=200,ratioD=0.25,ratioP=i)\n",
    "    polDiv <- tableToIter(data=ratio,iterations=length(ratio$Di),combinations = 'polymorphism')\n",
    "    \n",
    "    divRatio[[paste0(i)]] <- ratio \n",
    "    \n",
    "    assign(paste0('div',i), polDiv$plot)\n",
    "}\n",
    "\n",
    "df.m1  <- div0.5$data\n",
    "df.m1 <- df.m1[,c(\"nd\", \"np\", \"pvalue\")]\n",
    "\n",
    "par(mfrow=c(2,1))\n",
    "\n",
    "# create data.frame\n",
    "elevation.df = data.frame(x = df.m1$np,\n",
    "                          y = df.m1$nd, \n",
    "                          z = df.m1$pvalue)\n",
    "\n",
    "\n",
    "elevation.loess = loess(z ~ x*y, data = elevation.df, degree = 2, span = 0.25)\n",
    "\n",
    "# The expand.grid function creates an array of all combinations of the x and y values \n",
    "# that we specify in a list. We choose a range every foot from 10 to 300 feet to create a fine grid:\n",
    "\n",
    "elevation.fit = expand.grid(list(x = seq(3, 300, 1), y = seq(5, 250, 1)))\n",
    "\n",
    "# The predict function is then used to estimate the surface height at all of these combinations\n",
    "# covering our grid region. This is saved as an object z which will be used by the base graphics function:\n",
    "\n",
    "z = predict(elevation.loess, newdata = elevation.fit)\n",
    "\n",
    "#Lattice Graphics\n",
    "\n",
    "# The lattice pckg xpect the data in a different format so we make use of the as.numeric function \n",
    "# to convert from a table of heights to a single column and append to the object we create based \n",
    "# on all combinations of x and y coordinates:\n",
    "\n",
    "elevation.fit$Height = as.numeric(z)\n",
    "\n",
    "elevation.fit$Height[elevation.fit$Height<0]=0\n",
    "\n",
    "# function levelplot for this type of graphical dispaly. We use the data stored in the object elevation.fit\n",
    "# to create the graph with lattice graphics.\n",
    "\n",
    "contourplot(Height ~ x*y, data = elevation.fit, add =T,\n",
    "            xlab = list(\"Total number of polymorphic sites (P ratio = 0.5)\",cex=0.8),\n",
    "            ylab = list(\"Total number of divergent sites (D ratio = 0.25)\",cex=0.8),\n",
    "            colorkey = F,\n",
    "            #            labels = TRUE,\n",
    "            #            contour = TRUE,\n",
    "            region = TRUE, alpha.regions=0.7,\n",
    "            at = c(0,  0.01, 0.05, 0.1, 1),\n",
    "            #at = c(seq(0,100,20),101),\n",
    "            labels = list(cex=0.7),\n",
    "            col.regions = colorRampPalette(brewer.pal(10, \"Spectral\"))(100),\n",
    "            lwd=1.5,lty=3,cex=0.8\n",
    "            )"
   ]
  },
  {
   "cell_type": "markdown",
   "metadata": {
    "ExecuteTime": {
     "end_time": "2019-11-15T17:03:34.559240Z",
     "start_time": "2019-11-15T17:02:33.880Z"
    }
   },
   "source": [
    "Fixing a number of polymorphic sites, e.g. 201, with a ratio P0/Pi of 0.5, see how increasing the divergence increase your power to detect selection:"
   ]
  },
  {
   "cell_type": "code",
   "execution_count": null,
   "metadata": {
    "ExecuteTime": {
     "end_time": "2019-11-15T17:03:34.565369Z",
     "start_time": "2019-11-15T17:02:44.664Z"
    }
   },
   "outputs": [],
   "source": [
    "ggplot(div0.5$data[div0.5$data$np==201,], aes(x=nd, y = pvalue)) +\n",
    "         geom_line(color=\"red4\") +\n",
    "  labs(y = \"P-value\", x = \"Total number of divergent sites\\n(D ratio = 0.25)\") +\n",
    "  themePublication() +\n",
    "  geom_hline(yintercept = 0.05) + annotate(x=10, y=0.065, geom=\"text\", label=\"P-value = 0.05\") +\n",
    "  geom_hline(yintercept = 0.001, linetype=\"dashed\") + annotate(x=10, y=0.015, geom=\"text\", label=\"P-value = 0.01\")"
   ]
  }
 ],
 "metadata": {
  "kernelspec": {
   "display_name": "R",
   "language": "R",
   "name": "ir"
  },
  "language_info": {
   "codemirror_mode": "r",
   "file_extension": ".r",
   "mimetype": "text/x-r-source",
   "name": "R",
   "pygments_lexer": "r",
   "version": "3.5.1"
  },
  "toc": {
   "base_numbering": 1,
   "nav_menu": {},
   "number_sections": true,
   "sideBar": true,
   "skip_h1_title": false,
   "title_cell": "Table of Contents",
   "title_sidebar": "Contents",
   "toc_cell": false,
   "toc_position": {
    "height": "calc(100% - 180px)",
    "left": "10px",
    "top": "150px",
    "width": "165px"
   },
   "toc_section_display": true,
   "toc_window_display": true
  },
  "varInspector": {
   "cols": {
    "lenName": 16,
    "lenType": 16,
    "lenVar": 40
   },
   "kernels_config": {
    "python": {
     "delete_cmd_postfix": "",
     "delete_cmd_prefix": "del ",
     "library": "var_list.py",
     "varRefreshCmd": "print(var_dic_list())"
    },
    "r": {
     "delete_cmd_postfix": ") ",
     "delete_cmd_prefix": "rm(",
     "library": "var_list.r",
     "varRefreshCmd": "cat(var_dic_list()) "
    }
   },
   "types_to_exclude": [
    "module",
    "function",
    "builtin_function_or_method",
    "instance",
    "_Feature"
   ],
   "window_display": false
  }
 },
 "nbformat": 4,
 "nbformat_minor": 2
}
