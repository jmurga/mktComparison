{
 "cells": [
  {
   "cell_type": "code",
   "execution_count": 1,
   "metadata": {
    "ExecuteTime": {
     "end_time": "2019-03-07T11:15:43.925745Z",
     "start_time": "2019-03-07T11:19:11.833Z"
    }
   },
   "outputs": [
    {
     "name": "stderr",
     "output_type": "stream",
     "text": [
      "\n",
      "Attaching package: ‘cowplot’\n",
      "\n",
      "The following object is masked from ‘package:ggplot2’:\n",
      "\n",
      "    ggsave\n",
      "\n"
     ]
    }
   ],
   "source": [
    "library(data.table)\n",
    "library(dplyr)\n",
    "library(ggplot2)\n",
    "library(cowplot)\n",
    "source('/home/jmurga/mkt/201902/scripts/src/plotStyle.R')\n",
    "source('/home/jmurga/mkt/201902/scripts/src/minimumNumberPi.R')"
   ]
  },
  {
   "cell_type": "code",
   "execution_count": 2,
   "metadata": {
    "ExecuteTime": {
     "end_time": "2019-03-07T11:15:44.755511Z",
     "start_time": "2019-03-07T11:19:21.833Z"
    }
   },
   "outputs": [],
   "source": [
    "options(repr.plot.width=6, repr.plot.height=4)"
   ]
  },
  {
   "cell_type": "code",
   "execution_count": null,
   "metadata": {
    "ExecuteTime": {
     "end_time": "2019-02-19T09:08:36.124308Z",
     "start_time": "2019-02-19T09:12:16.597Z"
    }
   },
   "outputs": [],
   "source": [
    "load('/home/jmurga/mkt/201902/rawData/popflydata.RData')\n",
    "dataset <- popflydata[pop=='RAL']"
   ]
  },
  {
   "cell_type": "code",
   "execution_count": null,
   "metadata": {
    "ExecuteTime": {
     "end_time": "2019-02-19T09:08:50.605151Z",
     "start_time": "2019-02-19T09:12:17.273Z"
    }
   },
   "outputs": [],
   "source": [
    "dataset %>% head"
   ]
  },
  {
   "cell_type": "code",
   "execution_count": null,
   "metadata": {
    "ExecuteTime": {
     "end_time": "2019-02-19T09:09:04.644416Z",
     "start_time": "2019-02-19T09:12:34.728Z"
    }
   },
   "outputs": [],
   "source": [
    "setwd('/home/jmurga/mkt/201902/rawData/simulations/baseline')\n",
    "listDiv <- lapply(list.files(pattern = 'div',recursive=T),fread,sep='\\t',header=T)\n",
    "listDiv <- do.call(rbind,listDiv) %>% as.data.table\n",
    "listDiv %>% head"
   ]
  },
  {
   "cell_type": "markdown",
   "metadata": {},
   "source": [
    "##### Dmel divergence"
   ]
  },
  {
   "cell_type": "code",
   "execution_count": null,
   "metadata": {
    "ExecuteTime": {
     "end_time": "2019-02-18T21:56:47.189910Z",
     "start_time": "2019-02-18T21:56:30.110Z"
    },
    "scrolled": true
   },
   "outputs": [],
   "source": [
    "Di <- round(mean(dataset$di))\n",
    "D0 <- round(mean(dataset$d0))"
   ]
  },
  {
   "cell_type": "code",
   "execution_count": null,
   "metadata": {
    "ExecuteTime": {
     "end_time": "2019-02-18T22:04:58.556884Z",
     "start_time": "2019-02-18T22:04:50.185Z"
    }
   },
   "outputs": [],
   "source": [
    "ralDiv <- tableToIter(Di,D0,100)\n",
    "ralDiv$results %>% head\n",
    "ralDiv$plot"
   ]
  },
  {
   "cell_type": "markdown",
   "metadata": {},
   "source": [
    "##### Changing divergence"
   ]
  },
  {
   "cell_type": "markdown",
   "metadata": {},
   "source": [
    "###### Precomputed ratios"
   ]
  },
  {
   "cell_type": "code",
   "execution_count": null,
   "metadata": {
    "ExecuteTime": {
     "end_time": "2019-02-19T10:28:32.571359Z",
     "start_time": "2019-02-19T10:32:13.436Z"
    }
   },
   "outputs": [],
   "source": [
    "divergenceCombination <- read.table(\"/home/jmurga/mkt/Minimum_number_Pi/divergence_combinations\",header=T,sep=\"\\t\")\n",
    "divergenceCombination %>% head"
   ]
  },
  {
   "cell_type": "code",
   "execution_count": null,
   "metadata": {
    "ExecuteTime": {
     "end_time": "2019-02-19T10:32:45.893614Z",
     "start_time": "2019-02-19T10:36:02.734Z"
    }
   },
   "outputs": [],
   "source": [
    "output <- tableToIter(data=divergenceCombination,iterations=100,combinations='divergence')\n",
    "output$results %>% head"
   ]
  },
  {
   "cell_type": "markdown",
   "metadata": {},
   "source": [
    "###### Manual combinations"
   ]
  },
  {
   "cell_type": "code",
   "execution_count": null,
   "metadata": {
    "ExecuteTime": {
     "end_time": "2019-02-25T09:28:05.923670Z",
     "start_time": "2019-02-25T09:31:45.339Z"
    }
   },
   "outputs": [],
   "source": [
    "options(repr.plot.width=5, repr.plot.height=5)"
   ]
  },
  {
   "cell_type": "markdown",
   "metadata": {},
   "source": [
    "Ratio divergence 0.1"
   ]
  },
  {
   "cell_type": "code",
   "execution_count": null,
   "metadata": {
    "ExecuteTime": {
     "end_time": "2019-02-25T09:34:35.113405Z",
     "start_time": "2019-02-25T09:37:38.358Z"
    },
    "code_folding": [
     0
    ],
    "scrolled": true
   },
   "outputs": [],
   "source": [
    "for(i in c(0.1,0.25,0.5,0.75,1,1.5,2,5,10)){\n",
    "    print(i)\n",
    "    ratio <- createCombinations(listLengthToExpand=100,ratioD=0.1,ratioP=i)\n",
    "    polDiv <- tableToIter(data=ratio,iterations=length(ratio$Di),combinations = 'polymorphism')\n",
    "    assign(paste0('div',i), polDiv$plot)\n",
    "}\n",
    "p<-grid.arrange(div0.1,div0.25,div0.5,div0.75,div1,div1.5,div2,div5,div10,mylegend)\n",
    "ggsave(p,file='/home/jmurga/mkt/201902/results/div0.1.svg',width = 28,height = 26)"
   ]
  },
  {
   "cell_type": "markdown",
   "metadata": {},
   "source": [
    "Ratio divergence 0.25"
   ]
  },
  {
   "cell_type": "code",
   "execution_count": null,
   "metadata": {
    "ExecuteTime": {
     "end_time": "2019-02-25T09:34:35.113405Z",
     "start_time": "2019-02-25T09:37:38.358Z"
    },
    "code_folding": [],
    "scrolled": false
   },
   "outputs": [],
   "source": [
    "for(i in c(0.1,0.25,0.5,0.75,1,1.5,2,5,10)){\n",
    "    print(i)\n",
    "    ratio <- createCombinations(listLengthToExpand=100,ratioD=0.25,ratioP=i)\n",
    "    polDiv <- tableToIter(data=ratio,iterations=length(ratio$Di),combinations = 'polymorphism')\n",
    "    assign(paste0('div',i), polDiv$plot)\n",
    "}\n",
    "p <- grid.arrange(div0.1,div0.25,div0.5,div0.75,div1,div1.5,div2,div5,div10)\n",
    "ggsave(p,file='/home/jmurga/mkt/201902/results/div0.25.svg',width = 28,height = 26)"
   ]
  },
  {
   "cell_type": "markdown",
   "metadata": {},
   "source": [
    "Ratio divergence 0.5"
   ]
  },
  {
   "cell_type": "code",
   "execution_count": null,
   "metadata": {
    "ExecuteTime": {
     "end_time": "2019-02-25T09:34:35.113405Z",
     "start_time": "2019-02-25T09:37:38.358Z"
    },
    "code_folding": [],
    "scrolled": true
   },
   "outputs": [],
   "source": [
    "for(i in c(0.1,0.25,0.5,0.75,1,1.5,2,5,10)){\n",
    "    print(i)\n",
    "    ratio <- createCombinations(listLengthToExpand=100,ratioD=0.5,ratioP=i)\n",
    "    polDiv <- tableToIter(data=ratio,iterations=length(ratio$Di),combinations = 'polymorphism')\n",
    "    assign(paste0('div',i), polDiv$plot)\n",
    "}\n",
    "p<-grid.arrange(div0.1,div0.25,div0.5,div0.75,div1,div1.5,div2,div5,div10)\n",
    "ggsave(p,file='/home/jmurga/mkt/201902/results/div0.5.svg',width = 28,height = 26)"
   ]
  },
  {
   "cell_type": "markdown",
   "metadata": {},
   "source": [
    "Ratio divergence 0.75"
   ]
  },
  {
   "cell_type": "code",
   "execution_count": null,
   "metadata": {
    "ExecuteTime": {
     "end_time": "2019-02-25T09:34:35.113405Z",
     "start_time": "2019-02-25T09:37:38.358Z"
    },
    "code_folding": [],
    "scrolled": true
   },
   "outputs": [],
   "source": [
    "for(i in c(0.1,0.25,0.5,0.75,1,1.5,2,5,10)){\n",
    "    print(i)\n",
    "    ratio <- createCombinations(listLengthToExpand=100,ratioD=0.75,ratioP=i)\n",
    "    polDiv <- tableToIter(data=ratio,iterations=length(ratio$Di),combinations = 'polymorphism')\n",
    "    assign(paste0('div',i), polDiv$plot)\n",
    "}\n",
    "p<-grid.arrange(div0.1,div0.25,div0.5,div0.75,div1,div1.5,div2,div5,div10)\n",
    "ggsave(p,file='/home/jmurga/mkt/201902/results/div0.75.svg',width = 28,height = 26)"
   ]
  },
  {
   "cell_type": "markdown",
   "metadata": {},
   "source": [
    "Ratio divergence 1"
   ]
  },
  {
   "cell_type": "code",
   "execution_count": null,
   "metadata": {
    "ExecuteTime": {
     "end_time": "2019-02-25T09:34:35.113405Z",
     "start_time": "2019-02-25T09:37:38.358Z"
    },
    "code_folding": [],
    "scrolled": true
   },
   "outputs": [],
   "source": [
    "for(i in c(0.1,0.25,0.5,0.75,1,1.5,2,5,10)){\n",
    "    print(i)\n",
    "    ratio <- createCombinations(listLengthToExpand=100,ratioD=1,ratioP=i)\n",
    "    polDiv <- tableToIter(data=ratio,iterations=length(ratio$Di),combinations = 'polymorphism')\n",
    "    assign(paste0('div',i), polDiv$plot)\n",
    "}\n",
    "grid.arrange(div0.1,div0.25,div0.5,div0.75,div1,div1.5,div2,div5,div10)\n",
    "ggsave(p,file='/home/jmurga/mkt/201902/results/div1.svg',width = 28,height = 26)"
   ]
  },
  {
   "cell_type": "markdown",
   "metadata": {},
   "source": [
    "Ratio divergence 1.5"
   ]
  },
  {
   "cell_type": "code",
   "execution_count": null,
   "metadata": {
    "ExecuteTime": {
     "end_time": "2019-02-25T09:34:35.113405Z",
     "start_time": "2019-02-25T09:37:38.358Z"
    },
    "code_folding": [],
    "scrolled": true
   },
   "outputs": [],
   "source": [
    "for(i in c(0.1,0.25,0.5,0.75,1,1.5,2,5,10)){\n",
    "    print(i)\n",
    "    ratio <- createCombinations(listLengthToExpand=100,ratioD=1.5,ratioP=i)\n",
    "    polDiv <- tableToIter(data=ratio,iterations=length(ratio$Di),combinations = 'polymorphism')\n",
    "    assign(paste0('div',i), polDiv$plot)\n",
    "}\n",
    "p<-grid.arrange(div0.1,div0.25,div0.5,div0.75,div1,div1.5,div2,div5,div10)\n",
    "ggsave(p,file='/home/jmurga/mkt/201902/results/div1.5.svg',width = 28,height = 26)"
   ]
  },
  {
   "cell_type": "markdown",
   "metadata": {},
   "source": [
    "Ratio divergence 2"
   ]
  },
  {
   "cell_type": "code",
   "execution_count": null,
   "metadata": {
    "ExecuteTime": {
     "end_time": "2019-02-25T09:34:35.113405Z",
     "start_time": "2019-02-25T09:37:38.358Z"
    },
    "code_folding": [],
    "scrolled": true
   },
   "outputs": [],
   "source": [
    "for(i in c(0.1,0.25,0.5,0.75,1,1.5,2,5,10)){\n",
    "    print(i)\n",
    "    ratio <- createCombinations(listLengthToExpand=100,ratioD=2,ratioP=i)\n",
    "    polDiv <- tableToIter(data=ratio,iterations=length(ratio$Di),combinations = 'polymorphism')\n",
    "    assign(paste0('div',i), polDiv$plot)\n",
    "}\n",
    "p<-grid.arrange(div0.1,div0.25,div0.5,div0.75,div1,div1.5,div2,div5,div10)\n",
    "ggsave(p,file='/home/jmurga/mkt/201902/results/div2.svg',width = 28,height = 26)"
   ]
  },
  {
   "cell_type": "markdown",
   "metadata": {},
   "source": [
    "Ratio divergence 5"
   ]
  },
  {
   "cell_type": "code",
   "execution_count": null,
   "metadata": {
    "ExecuteTime": {
     "end_time": "2019-02-25T09:34:35.113405Z",
     "start_time": "2019-02-25T09:37:38.358Z"
    },
    "code_folding": [],
    "scrolled": true
   },
   "outputs": [],
   "source": [
    "for(i in c(0.1,0.25,0.5,0.75,1,1.5,2,5,10)){\n",
    "    print(i)\n",
    "    ratio <- createCombinations(listLengthToExpand=100,ratioD=5,ratioP=i)\n",
    "    polDiv <- tableToIter(data=ratio,iterations=length(ratio$Di),combinations = 'polymorphism')\n",
    "    assign(paste0('div',i), polDiv$plot)\n",
    "}\n",
    "grid.arrange(div0.1,div0.25,div0.5,div0.75,div1,div1.5,div2,div5,div10)\n",
    "p<-grid.arrange(div0.1,div0.25,div0.5,div0.75,div1,div1.5,div2,div5,div10)\n",
    "ggsave(p,file='/home/jmurga/mkt/201902/results/div5.svg',width = 28,height = 26)\n"
   ]
  },
  {
   "cell_type": "markdown",
   "metadata": {},
   "source": [
    "Ratio divergence 10"
   ]
  },
  {
   "cell_type": "code",
   "execution_count": null,
   "metadata": {
    "ExecuteTime": {
     "end_time": "2019-02-25T10:05:35.249277Z",
     "start_time": "2019-02-25T10:09:03.997Z"
    },
    "code_folding": [],
    "scrolled": true
   },
   "outputs": [],
   "source": [
    "for(i in c(0.1,0.25,0.5,0.75,1,1.5,2,5,10)){\n",
    "    print(i)\n",
    "    ratio <- createCombinations(listLengthToExpand=100,ratioD=10,ratioP=i)\n",
    "    polDiv <- tableToIter(data=ratio,iterations=length(ratio$Di),combinations = 'polymorphism')\n",
    "    assign(paste0('div',i), polDiv$plot)\n",
    "}\n",
    "p<-grid.arrange(div0.1,div0.25,div0.5,div0.75,div1,div1.5,div2,div5,div10)\n",
    "ggsave(p,file='/home/jmurga/mkt/201902/results/div10.png',width = 28,height = 26)\n"
   ]
  }
 ],
 "metadata": {
  "kernelspec": {
   "display_name": "R",
   "language": "R",
   "name": "ir"
  },
  "language_info": {
   "codemirror_mode": "r",
   "file_extension": ".r",
   "mimetype": "text/x-r-source",
   "name": "R",
   "pygments_lexer": "r",
   "version": "3.5.2"
  },
  "toc": {
   "base_numbering": 1,
   "nav_menu": {},
   "number_sections": true,
   "sideBar": true,
   "skip_h1_title": false,
   "title_cell": "Table of Contents",
   "title_sidebar": "Contents",
   "toc_cell": false,
   "toc_position": {},
   "toc_section_display": true,
   "toc_window_display": false
  },
  "varInspector": {
   "cols": {
    "lenName": 16,
    "lenType": 16,
    "lenVar": 40
   },
   "kernels_config": {
    "python": {
     "delete_cmd_postfix": "",
     "delete_cmd_prefix": "del ",
     "library": "var_list.py",
     "varRefreshCmd": "print(var_dic_list())"
    },
    "r": {
     "delete_cmd_postfix": ") ",
     "delete_cmd_prefix": "rm(",
     "library": "var_list.r",
     "varRefreshCmd": "cat(var_dic_list()) "
    }
   },
   "types_to_exclude": [
    "module",
    "function",
    "builtin_function_or_method",
    "instance",
    "_Feature"
   ],
   "window_display": false
  }
 },
 "nbformat": 4,
 "nbformat_minor": 2
}
