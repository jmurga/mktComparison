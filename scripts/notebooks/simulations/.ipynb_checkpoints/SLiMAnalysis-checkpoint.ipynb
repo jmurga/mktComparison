{
 "cells": [
  {
   "cell_type": "markdown",
   "metadata": {},
   "source": [
    "Loading libraries"
   ]
  },
  {
   "cell_type": "code",
   "execution_count": 2,
   "metadata": {
    "ExecuteTime": {
     "end_time": "2019-10-11T07:56:46.510194Z",
     "start_time": "2019-10-11T07:56:45.868Z"
    }
   },
   "outputs": [],
   "source": [
    "import numpy as np\n",
    "import pandas as pd\n",
    "import pickle as pkl\n",
    "\n",
    "PATH =  \"/home/jmurga/mkt/201902/\"\n",
    "import sys\n",
    "sys.path.insert(0, PATH + '/scripts/src/')\n",
    "from mktAnalysis import *"
   ]
  },
  {
   "cell_type": "code",
   "execution_count": 3,
   "metadata": {},
   "outputs": [],
   "source": [
    "%load_ext rpy2.ipython"
   ]
  },
  {
   "cell_type": "markdown",
   "metadata": {
    "tags": []
   },
   "source": [
    "# Estimating $\\alpha$ for each simulated scenario"
   ]
  },
  {
   "cell_type": "markdown",
   "metadata": {
    "tags": []
   },
   "source": [
    "## Base"
   ]
  },
  {
   "cell_type": "code",
   "execution_count": 3,
   "metadata": {
    "ExecuteTime": {
     "end_time": "2019-10-11T07:58:07.450954Z",
     "start_time": "2019-10-11T07:56:52.325Z"
    },
    "code_folding": [],
    "scrolled": true
   },
   "outputs": [
    {
     "name": "stderr",
     "output_type": "stream",
     "text": [
      "100%|██████████| 100/100 [00:00<00:00, 118.91it/s]\n"
     ]
    }
   ],
   "source": [
    "parseBootstrapPolDiv(PATH + \"/rawData/simulations/base\",20)"
   ]
  },
  {
   "cell_type": "code",
   "execution_count": 2,
   "metadata": {},
   "outputs": [],
   "source": [
    "base, basePlot, baseError, p = mktOnsimulatedData(PATH + \"rawData/simulations/base\",7)\n",
    "pkl.dump([base,basePlot,baseError], open(PATH + \"results/simulations/base.pkl\", \"wb\" ))"
   ]
  },
  {
   "cell_type": "markdown",
   "metadata": {
    "tags": []
   },
   "source": [
    "## $\\rho$ = 0.01"
   ]
  },
  {
   "cell_type": "code",
   "execution_count": null,
   "metadata": {
    "ExecuteTime": {
     "end_time": "2019-10-11T07:58:07.450954Z",
     "start_time": "2019-10-11T07:56:52.325Z"
    },
    "code_folding": [],
    "scrolled": true
   },
   "outputs": [],
   "source": [
    "parseBootstrapPolDiv(PATH + \"/rawData/simulations/rho_0.01\",20)"
   ]
  },
  {
   "cell_type": "code",
   "execution_count": 3,
   "metadata": {},
   "outputs": [],
   "source": [
    "rho1, rho1Plot, rho1Error, p = mktOnsimulatedData(PATH + \"rawData/simulations/rho_0.01\",7)\n",
    "pkl.dump([rho1,rho1Plot,rho1Error], open(PATH + \"results/simulations/rho1.pkl\", \"wb\" ))"
   ]
  },
  {
   "cell_type": "markdown",
   "metadata": {
    "tags": []
   },
   "source": [
    "## $\\rho$ = 0.0001"
   ]
  },
  {
   "cell_type": "code",
   "execution_count": null,
   "metadata": {
    "ExecuteTime": {
     "end_time": "2019-05-20T15:12:55.696624Z",
     "start_time": "2019-05-20T15:06:32.838Z"
    },
    "code_folding": []
   },
   "outputs": [],
   "source": [
    "parseBootstrapPolDiv(PATH + \"/rawData/simulations/rho_0.0001\",20)"
   ]
  },
  {
   "cell_type": "code",
   "execution_count": 4,
   "metadata": {},
   "outputs": [],
   "source": [
    "rho2, rho2Plot, rho2Error, p = mktOnsimulatedData(PATH + \"rawData/simulations/rho_0.0001\",7)\n",
    "pkl.dump([rho2,rho2Plot,rho2Error], open(PATH + \"results/simulations/rho2.pkl\", \"wb\" ))"
   ]
  },
  {
   "cell_type": "markdown",
   "metadata": {
    "tags": []
   },
   "source": [
    "## $\\theta$ = 0.01"
   ]
  },
  {
   "cell_type": "code",
   "execution_count": null,
   "metadata": {
    "ExecuteTime": {
     "end_time": "2019-05-20T15:12:55.696624Z",
     "start_time": "2019-05-20T15:06:32.838Z"
    },
    "code_folding": []
   },
   "outputs": [],
   "source": [
    "parseBootstrapPolDiv(PATH + \"/rawData/simulations/theta_0.01\",7)"
   ]
  },
  {
   "cell_type": "code",
   "execution_count": 5,
   "metadata": {},
   "outputs": [],
   "source": [
    "theta1, theta1Plot, theta1Error, p = mktOnsimulatedData(PATH + \"rawData/simulations/theta_0.01\",7)\n",
    "pkl.dump([theta1,theta1Plot,theta1Error], open(PATH + \"results/simulations/theta1.pkl\", \"wb\" ))"
   ]
  },
  {
   "cell_type": "markdown",
   "metadata": {
    "tags": []
   },
   "source": [
    "## $\\theta$ = 0.0001"
   ]
  },
  {
   "cell_type": "code",
   "execution_count": null,
   "metadata": {
    "ExecuteTime": {
     "end_time": "2019-05-20T15:12:55.696624Z",
     "start_time": "2019-05-20T15:06:32.838Z"
    },
    "code_folding": []
   },
   "outputs": [],
   "source": [
    "parseBootstrapPolDiv(PATH + \"/rawData/simulations/theta_0.0001\",20)"
   ]
  },
  {
   "cell_type": "code",
   "execution_count": 6,
   "metadata": {},
   "outputs": [],
   "source": [
    "theta2, theta2Plot, theta2Error, p = mktOnsimulatedData(PATH + \"rawData/simulations/theta_0.0001\",7)\n",
    "pkl.dump([theta2,theta2Plot,theta2Error], open(PATH + \"results/simulations/theta2.pkl\", \"wb\" ))"
   ]
  },
  {
   "cell_type": "markdown",
   "metadata": {
    "tags": []
   },
   "source": [
    "## 28k genes"
   ]
  },
  {
   "cell_type": "code",
   "execution_count": null,
   "metadata": {
    "ExecuteTime": {
     "end_time": "2019-05-20T15:12:55.696624Z",
     "start_time": "2019-05-20T15:06:32.838Z"
    },
    "code_folding": []
   },
   "outputs": [],
   "source": [
    "parseBootstrapPolDiv(PATH + \"/rawData/simulations/genes_28k\",7)"
   ]
  },
  {
   "cell_type": "code",
   "execution_count": 7,
   "metadata": {},
   "outputs": [],
   "source": [
    "genes1, genes1Plot, genes1Error, p = mktOnsimulatedData(PATH + \"rawData/simulations/genes_28k\",7)\n",
    "pkl.dump([genes1, genes1Plot, genes1Error], open(PATH + \"results/simulations/genes1.pkl\", \"wb\" ))"
   ]
  },
  {
   "cell_type": "markdown",
   "metadata": {
    "tags": []
   },
   "source": [
    "## 1k genes"
   ]
  },
  {
   "cell_type": "code",
   "execution_count": null,
   "metadata": {
    "ExecuteTime": {
     "end_time": "2019-05-20T15:12:55.696624Z",
     "start_time": "2019-05-20T15:06:32.838Z"
    },
    "code_folding": []
   },
   "outputs": [],
   "source": [
    "parseBootstrapPolDiv(PATH + \"/rawData/simulations/genes_1k\",7)"
   ]
  },
  {
   "cell_type": "code",
   "execution_count": 8,
   "metadata": {},
   "outputs": [],
   "source": [
    "genes2, genes2Plot, genes2Error, p = mktOnsimulatedData(PATH + \"rawData/simulations/genes_1k\",7)\n",
    "pkl.dump([genes2, genes2Plot, genes2Error], open(PATH + \"results/simulations/genes2.pkl\", \"wb\" ))"
   ]
  },
  {
   "cell_type": "markdown",
   "metadata": {
    "tags": []
   },
   "source": [
    "## $2Nes_{+} = 500$"
   ]
  },
  {
   "cell_type": "code",
   "execution_count": null,
   "metadata": {
    "ExecuteTime": {
     "end_time": "2019-05-20T15:12:55.696624Z",
     "start_time": "2019-05-20T15:06:32.838Z"
    },
    "code_folding": []
   },
   "outputs": [],
   "source": [
    "parseBootstrapPolDiv(PATH + \"/rawData/simulations/2nes_pos_500\",7)"
   ]
  },
  {
   "cell_type": "code",
   "execution_count": 9,
   "metadata": {},
   "outputs": [],
   "source": [
    "sb1, sb1Plot, sb1Error, p = mktOnsimulatedData(PATH + \"rawData/simulations/2nes_pos_500\",7)\n",
    "pkl.dump([sb1, sb1Plot, sb1Error], open(PATH + \"results/simulations/2nes_pos_500.pkl\", \"wb\" ))"
   ]
  },
  {
   "cell_type": "markdown",
   "metadata": {
    "tags": []
   },
   "source": [
    "## $2Nes_{+} = 100$"
   ]
  },
  {
   "cell_type": "code",
   "execution_count": null,
   "metadata": {
    "ExecuteTime": {
     "end_time": "2019-05-20T15:12:55.696624Z",
     "start_time": "2019-05-20T15:06:32.838Z"
    },
    "code_folding": []
   },
   "outputs": [],
   "source": [
    "parseBootstrapPolDiv(PATH + \"/rawData/simulations/2nes_pos_100\",7)"
   ]
  },
  {
   "cell_type": "code",
   "execution_count": 10,
   "metadata": {},
   "outputs": [],
   "source": [
    "sb2, sb2Plot, sb2Error, p = mktOnsimulatedData(PATH + \"rawData/simulations/2nes_pos_100\",7)\n",
    "pkl.dump([sb2, sb2Plot, sb2Error], open(PATH + \"results/simulations/2nes_pos_100.pkl\", \"wb\" ))"
   ]
  },
  {
   "cell_type": "markdown",
   "metadata": {
    "tags": []
   },
   "source": [
    "## $2Nes_{-} = -1000$"
   ]
  },
  {
   "cell_type": "code",
   "execution_count": null,
   "metadata": {
    "ExecuteTime": {
     "end_time": "2019-05-20T15:12:55.696624Z",
     "start_time": "2019-05-20T15:06:32.838Z"
    },
    "code_folding": []
   },
   "outputs": [],
   "source": [
    "parseBootstrapPolDiv(PATH + \"/rawData/simulations/2nes_neg_1000\",7)"
   ]
  },
  {
   "cell_type": "code",
   "execution_count": 11,
   "metadata": {},
   "outputs": [],
   "source": [
    "sd1, sd1Plot, sd1Error, p = mktOnsimulatedData(PATH + \"rawData/simulations/2nes_neg_1000\",7)\n",
    "pkl.dump([sd1, sd1Plot, sd1Error], open(PATH + \"results/simulations/2nes_neg_1000.pkl\", \"wb\" ))"
   ]
  },
  {
   "cell_type": "markdown",
   "metadata": {
    "tags": []
   },
   "source": [
    "## $2Nes_{-} = -500$"
   ]
  },
  {
   "cell_type": "code",
   "execution_count": null,
   "metadata": {
    "ExecuteTime": {
     "end_time": "2019-05-20T15:12:55.696624Z",
     "start_time": "2019-05-20T15:06:32.838Z"
    },
    "code_folding": []
   },
   "outputs": [],
   "source": [
    "parseBootstrapPolDiv(PATH + \"/rawData/simulations/2nes_neg_500\",7)"
   ]
  },
  {
   "cell_type": "code",
   "execution_count": 12,
   "metadata": {},
   "outputs": [],
   "source": [
    "sd2, sd2Plot, sd2Error, p = mktOnsimulatedData(PATH + \"rawData/simulations/2nes_neg_500\",7)\n",
    "pkl.dump([sd2, sd2Plot, sd2Error], open(PATH + \"results/simulations/2nes_neg_500.pkl\", \"wb\" ))"
   ]
  },
  {
   "cell_type": "markdown",
   "metadata": {
    "hidden": true,
    "tags": []
   },
   "source": [
    "## $\\beta = 0.1$"
   ]
  },
  {
   "cell_type": "code",
   "execution_count": null,
   "metadata": {
    "ExecuteTime": {
     "end_time": "2019-05-20T15:12:55.696624Z",
     "start_time": "2019-05-20T15:06:32.838Z"
    },
    "code_folding": []
   },
   "outputs": [],
   "source": [
    "parseBootstrapPolDiv(PATH + \"/rawData/simulations/shape_0.1\",7)"
   ]
  },
  {
   "cell_type": "code",
   "execution_count": 13,
   "metadata": {},
   "outputs": [],
   "source": [
    "shape1, shape1Plot, shape1Error, p = mktOnsimulatedData(PATH + \"rawData/simulations/shape_0.1\",7)\n",
    "pkl.dump([shape1, shape1Plot, shape1Error], open(PATH + \"results/simulations/shape_0.1.pkl\", \"wb\" ))"
   ]
  },
  {
   "cell_type": "markdown",
   "metadata": {
    "hidden": true,
    "tags": []
   },
   "source": [
    "## $\\beta = 0.2$"
   ]
  },
  {
   "cell_type": "code",
   "execution_count": null,
   "metadata": {
    "ExecuteTime": {
     "end_time": "2019-05-20T15:12:55.696624Z",
     "start_time": "2019-05-20T15:06:32.838Z"
    },
    "code_folding": []
   },
   "outputs": [],
   "source": [
    "parseBootstrapPolDiv(PATH + \"/rawData/simulations/shape_0.2\",7)"
   ]
  },
  {
   "cell_type": "code",
   "execution_count": 14,
   "metadata": {},
   "outputs": [],
   "source": [
    "shape2, shape2Plot, shape2Error, p = mktOnsimulatedData(PATH + \"rawData/simulations/shape_0.2\",7)\n",
    "pkl.dump([shape2, shape2Plot, shape2Error], open(PATH + \"results/simulations/shape_0.2.pkl\", \"wb\" ))"
   ]
  },
  {
   "cell_type": "markdown",
   "metadata": {},
   "source": [
    "## Weaky selection"
   ]
  },
  {
   "cell_type": "code",
   "execution_count": null,
   "metadata": {
    "ExecuteTime": {
     "end_time": "2019-05-20T15:12:55.696624Z",
     "start_time": "2019-05-20T15:06:32.838Z"
    },
    "code_folding": []
   },
   "outputs": [],
   "source": [
    "parseBootstrapPolDiv(PATH + \"/rawData/simulations/base_weakly\",7)"
   ]
  },
  {
   "cell_type": "code",
   "execution_count": null,
   "metadata": {},
   "outputs": [],
   "source": [
    "base_weakly, base_weaklyPlot, base_weaklyError, p = mktOnsimulatedData(PATH + \"rawData/simulations/base_weakly\",7)\n",
    "pkl.dump([base_weakly, base_weaklyPlot, base_weaklyError], open(PATH + \"results/simulations/base_weakly.pkl\", \"wb\" ))"
   ]
  },
  {
   "cell_type": "markdown",
   "metadata": {},
   "source": [
    "## Weaky + bgs selection"
   ]
  },
  {
   "cell_type": "code",
   "execution_count": null,
   "metadata": {
    "ExecuteTime": {
     "end_time": "2019-05-20T15:12:55.696624Z",
     "start_time": "2019-05-20T15:06:32.838Z"
    },
    "code_folding": []
   },
   "outputs": [],
   "source": [
    "parseBootstrapPolDiv(PATH + \"/rawData/simulations/base_weakly_bgs\",20)"
   ]
  },
  {
   "cell_type": "code",
   "execution_count": null,
   "metadata": {},
   "outputs": [],
   "source": [
    "base_weakly_bgs, base_weakly_bgs_Plot, base_weakly_bgs_Error, p = mktOnsimulatedData(PATH + \"rawData/simulations/base_weakly_bgs\",7)\n",
    "pkl.dump([base_weakly_bgs, base_weakly_bgs_Plot, base_weakly_bgs_Error], open(PATH + \"results/simulations/base_weakly_bgs.pkl\", \"wb\" ))"
   ]
  },
  {
   "cell_type": "markdown",
   "metadata": {
    "tags": []
   },
   "source": [
    "# Output"
   ]
  },
  {
   "cell_type": "markdown",
   "metadata": {},
   "source": [
    "Subset simulation tables"
   ]
  },
  {
   "cell_type": "code",
   "execution_count": 4,
   "metadata": {},
   "outputs": [],
   "source": [
    "results = glob.glob(PATH + 'results/simulations/*pkl')\n",
    "dataPlot = []; error = []\n",
    "for i in results:\n",
    "    f = pkl.load(open(i,'rb'))\n",
    "    dataPlot.append(f[1])\n",
    "    error.append(f[0])\n",
    "\n",
    "dataPlot = pd.concat(dataPlot)\n",
    "error    = pd.concat(error)"
   ]
  },
  {
   "cell_type": "markdown",
   "metadata": {
    "ExecuteTime": {
     "end_time": "2019-05-21T09:28:10.353931Z",
     "start_time": "2019-05-21T09:28:10.283Z"
    },
    "hidden": true,
    "tags": []
   },
   "source": [
    "## Plot"
   ]
  },
  {
   "cell_type": "code",
   "execution_count": 17,
   "metadata": {},
   "outputs": [],
   "source": [
    "dataPlot.simulation = pd.Categorical(dataPlot.simulation,categories=['base','rho_0.01', 'rho_0.0001', 'theta_0.01', 'theta_0.0001','genes_28k', 'genes_1k', 'pb_1', 'pb_2', '2nes_pos_500','2nes_pos_100', '2nes_neg_1000', '2nes_neg_500', 'shape_0.1','shape_0.2'],ordered=False)\n",
    "\n",
    "dataPlot = dataPlot[(dataPlot.variable != 'emkt2') & (dataPlot.variable != 'fww2') & (dataPlot.variable != 'imp2') & (dataPlot.variable != 'asymp2')]"
   ]
  },
  {
   "cell_type": "code",
   "execution_count": 18,
   "metadata": {},
   "outputs": [],
   "source": [
    "dataPlot.simulation = dataPlot.simulation.cat.rename_categories({'base': 'Baseline','rho_0.01':'ρ = 0.01','rho_0.0001':'ρ = 0.0001','theta_0.01':'θ = 0.01','theta_0.0001':'θ = 0.0001','genes_28k':'28k genes','genes_1k':'1k genes','pb_1':'Higher beneficial fixation','pb_2':'Lower beneficial fixation','2nes_pos_500':'2Nes+ = 500','2nes_pos_100':'2Nes+ = 100','2nes_neg_1000':'2Nes- = -1000','2nes_neg_500':'2Nes- = -500','shape_0.1':'β = 0.1','shape_0.2':'β = 0.2'})\n",
    "dataPlot.variable = dataPlot.variable.cat.rename_categories({'std':'MKT','emkt1': 'eMKT 0.05','emkt3': 'eMKT 0.25','fww1': 'fwwMKT 0.05','fww3': 'fwwMKT 0.25','imp1': 'impMKT 0.05','imp3': 'impMKT 0.25','asymp1':'aMKT','grapes':'Grapes','trueAlpha': 'True α'})"
   ]
  },
  {
   "cell_type": "code",
   "execution_count": 19,
   "metadata": {},
   "outputs": [],
   "source": [
    "d = dataPlot"
   ]
  },
  {
   "cell_type": "code",
   "execution_count": 27,
   "metadata": {
    "tags": []
   },
   "outputs": [
    {
     "data": {
      "image/png": "[encoded data removed]"
     },
     "metadata": {},
     "output_type": "display_data"
    }
   ],
   "source": [
    "%%R -i d -i PATH\n",
    "d = as.data.table(d)\n",
    "\n",
    "d = d[variable !=  'eMKT 0.05' & variable !=  'fwwMKT 0.05' & variable !=  'impMKT 0.05']\n",
    "d = d[simulation ==  'β = 0.1' | simulation ==  'β = 0.2' | simulation == 'Baseline']\n",
    "\n",
    "d$simulation = factor(d$simulation,levels=c('β = 0.1','β = 0.2','Baseline'))\n",
    "\n",
    "p = ggplot(d) + geom_boxplot(aes(x=variable,y=value,fill=variable),show.legend = FALSE) + facet_wrap(~simulation,ncol=12) +  theme_bw() + theme(strip.text=element_text(size=14),axis.text.x = element_text(size=12,angle=90),axis.text.y = element_text(size=12),axis.title=element_text(size=14)) + scale_fill_manual(values=c(\"#30504f\",\"#e2bd9a\",\"#ab2710\",\"#53cf53\",\"#AEB782\",\"#5C8FCE\",'black')) + ylab(expression(alpha)) + xlab(\"\")\n",
    "\n",
    "ggsave(p,filename=paste0(PATH,'/results/simulations/beta.svg'),height=7,width=10,dpi=600)\n",
    "ggsave(p,filename=paste0(PATH,'/results/simulations/beta.png'),height=7,width=10,dpi=600)\n",
    "\n",
    "cairo_pdf(paste0(PATH,'/results/simulations/beta.pdf'))\n",
    "print(p)\n",
    "dev.off()\n",
    "\n",
    "p"
   ]
  },
  {
   "cell_type": "code",
   "execution_count": 28,
   "metadata": {
    "tags": []
   },
   "outputs": [
    {
     "data": {
      "image/png": "[encoded data removed]"
     },
     "metadata": {},
     "output_type": "display_data"
    }
   ],
   "source": [
    "%%R -i d -i PATH\n",
    "d = as.data.table(d)\n",
    "d$variable %>% unique\n",
    "\n",
    "\n",
    "d = d[variable ==  'fwwMKT 0.05' | variable ==  'impMKT 0.05'  | variable ==  'fwwMKT 0.25' | variable ==  'impMKT 0.25'  | variable=='aMKT' | variable=='Grapes' | variable == 'True α']\n",
    "d = d[ simulation == 'Baseline']\n",
    "\n",
    "p = ggplot(d) + geom_boxplot(aes(x=variable,y=value,fill=variable),show.legend = FALSE) + facet_wrap(~simulation,ncol=12) +  theme_bw() + theme(strip.text=element_text(size=14),axis.text.x = element_text(size=12,angle=90),axis.text.y = element_text(size=12),axis.title=element_text(size=14)) + scale_fill_manual(values=c(\"#30504f\",\"#e2bd9a\",\"#ab2710\",\"#53cf53\",\"#AEB782\",\"#5C8FCE\",'black')) + ylab(expression(alpha)) + xlab(\"\")\n",
    "\n",
    "cairo_pdf(paste0(PATH,'/results/simulations/cutoffImprovement.pdf'))\n",
    "print(p)\n",
    "dev.off()\n",
    "\n",
    "ggsave(p,filename=paste0(PATH,'/results/simulations/cutoffImprovement.png'),height=7,width=10,dpi=600)\n",
    "p"
   ]
  },
  {
   "cell_type": "code",
   "execution_count": 29,
   "metadata": {},
   "outputs": [
    {
     "data": {
      "image/png": "[encoded data removed]"
     },
     "metadata": {},
     "output_type": "display_data"
    }
   ],
   "source": [
    "%%R -i d -i PATH\n",
    "d = as.data.table(d)\n",
    "d$variable %>% unique\n",
    "\n",
    "d = d[variable ==  'fwwMKT 0.05' | variable ==  'impMKT 0.05'  | variable ==  'fwwMKT 0.25' | variable ==  'impMKT 0.25'  | variable=='aMKT' | variable=='Grapes' | variable == 'True α']\n",
    "d = d[simulation == 'θ = 0.0001' | simulation ==  '1k genes']\n",
    "\n",
    "p = ggplot(d) + geom_boxplot(aes(x=variable,y=value,fill=variable),show.legend = FALSE) + facet_wrap(~simulation,ncol=12) +  theme_bw() + theme(strip.text=element_text(size=14),axis.text.x = element_text(size=12,angle=90),axis.text.y = element_text(size=12),axis.title=element_text(size=14)) + scale_fill_manual(values=c(\"#30504f\",\"#e2bd9a\",\"#ab2710\",\"#53cf53\",\"#AEB782\",\"#5C8FCE\",'black')) + ylab(expression(alpha)) + xlab(\"\")\n",
    "\n",
    "\n",
    "cairo_pdf(paste0(PATH,'/results/simulations/lowPolScenarios.pdf'))\n",
    "print(p)\n",
    "dev.off()\n",
    "\n",
    "ggsave(p,filename=paste0(PATH,'/results/simulations/lowPolScenarios.png'),height=7,width=10,dpi=600)\n",
    "\n",
    "p"
   ]
  },
  {
   "cell_type": "code",
   "execution_count": 40,
   "metadata": {
    "tags": []
   },
   "outputs": [],
   "source": [
    "%%R -i dataPlot -i PATH\n",
    "\n",
    "library(cowplot)\n",
    "library(gridExtra)\n",
    "dataPlot = as.data.table(dataPlot)\n",
    "\n",
    "base = dataPlot[simulation=='Baseline']\n",
    "sim = dataPlot[simulation!='Baseline']\n",
    "\n",
    "p = ggplot(dataPlot) + geom_boxplot(aes(x=variable,y=value,fill=variable)) + facet_wrap(~simulation,ncol=4) + theme_bw() + theme(legend.position='none',axis.text.x = element_text(angle=90))\n",
    "p1 = ggplot(base) + geom_boxplot(aes(x=variable,y=value,fill=variable)) + facet_wrap(~simulation,ncol=4) + theme_bw() + theme(strip.text=element_text(size=14),axis.text.x = element_text(size=12,angle=90),axis.text.y = element_text(size=12),axis.title=element_text(size=14)) + ylab(expression(alpha)) + xlab(\"\")\n",
    "p2 = ggplot(sim) + geom_boxplot(aes(x=variable,y=value,fill=variable), show.legend = FALSE) + facet_wrap(~simulation,ncol=4) + theme_bw() +  theme(strip.text=element_text(size=20),axis.text.x = element_text(size=18,angle=90),axis.text.y = element_text(size=18),axis.title=element_text(size=20)) + ylab(expression(alpha)) + xlab(\"\")\n",
    "\n",
    "\n",
    "cairo_pdf(paste0(PATH,'/results/simulations/base.pdf'))\n",
    "print(p1)\n",
    "dev.off()\n",
    "ggsave(p1,filename=paste0(PATH,'/results/simulations/base.png'),height=7,width=7,dpi=600)\n",
    "\n",
    "\n",
    "cairo_pdf(paste0(PATH,'/results/simulations/simulations.pdf'),height=14,width=20)\n",
    "print(p2)\n",
    "dev.off()\n",
    "ggsave(p2,filename=paste0(PATH,'/results/simulations/simulations.png'),height=14,width=20,dpi=600)\n"
   ]
  },
  {
   "cell_type": "markdown",
   "metadata": {
    "heading_collapsed": "true",
    "tags": []
   },
   "source": [
    "## Tables"
   ]
  },
  {
   "cell_type": "code",
   "execution_count": 255,
   "metadata": {},
   "outputs": [
    {
     "data": {
      "text/html": [
       "<div>\n",
       "<style scoped>\n",
       "    .dataframe tbody tr th:only-of-type {\n",
       "        vertical-align: middle;\n",
       "    }\n",
       "\n",
       "    .dataframe tbody tr th {\n",
       "        vertical-align: top;\n",
       "    }\n",
       "\n",
       "    .dataframe thead th {\n",
       "        text-align: right;\n",
       "    }\n",
       "</style>\n",
       "<table border=\"1\" class=\"dataframe\">\n",
       "  <thead>\n",
       "    <tr style=\"text-align: right;\">\n",
       "      <th></th>\n",
       "      <th>simulation</th>\n",
       "      <th>std</th>\n",
       "      <th>emkt1</th>\n",
       "      <th>emkt2</th>\n",
       "      <th>emkt3</th>\n",
       "      <th>fww1</th>\n",
       "      <th>fww2</th>\n",
       "      <th>fww3</th>\n",
       "      <th>imp1</th>\n",
       "      <th>imp2</th>\n",
       "      <th>imp3</th>\n",
       "      <th>asymp1</th>\n",
       "      <th>asymp2</th>\n",
       "      <th>grapes</th>\n",
       "      <th>trueAlpha</th>\n",
       "    </tr>\n",
       "  </thead>\n",
       "  <tbody>\n",
       "    <tr>\n",
       "      <th>0</th>\n",
       "      <td>2nes_neg_1000</td>\n",
       "      <td>-0.34742</td>\n",
       "      <td>-0.14398</td>\n",
       "      <td>-0.13859</td>\n",
       "      <td>-0.17820</td>\n",
       "      <td>-0.07527</td>\n",
       "      <td>0.13070</td>\n",
       "      <td>0.19991</td>\n",
       "      <td>-0.07527</td>\n",
       "      <td>0.13070</td>\n",
       "      <td>0.25029</td>\n",
       "      <td>0.268850</td>\n",
       "      <td>0.278071</td>\n",
       "      <td>0.35460</td>\n",
       "      <td>0.31581</td>\n",
       "    </tr>\n",
       "    <tr>\n",
       "      <th>1</th>\n",
       "      <td>2nes_neg_500</td>\n",
       "      <td>-0.42792</td>\n",
       "      <td>-0.22342</td>\n",
       "      <td>-0.21253</td>\n",
       "      <td>-0.25632</td>\n",
       "      <td>-0.15469</td>\n",
       "      <td>0.06838</td>\n",
       "      <td>0.12658</td>\n",
       "      <td>-0.15469</td>\n",
       "      <td>0.06838</td>\n",
       "      <td>0.19119</td>\n",
       "      <td>0.215080</td>\n",
       "      <td>0.239310</td>\n",
       "      <td>0.29545</td>\n",
       "      <td>0.26762</td>\n",
       "    </tr>\n",
       "    <tr>\n",
       "      <th>2</th>\n",
       "      <td>2nes_pos_100</td>\n",
       "      <td>-0.27466</td>\n",
       "      <td>-0.06587</td>\n",
       "      <td>-0.05625</td>\n",
       "      <td>-0.09726</td>\n",
       "      <td>0.00094</td>\n",
       "      <td>0.21126</td>\n",
       "      <td>0.27499</td>\n",
       "      <td>0.00094</td>\n",
       "      <td>0.21126</td>\n",
       "      <td>0.34204</td>\n",
       "      <td>0.333070</td>\n",
       "      <td>0.341550</td>\n",
       "      <td>0.42222</td>\n",
       "      <td>0.36565</td>\n",
       "    </tr>\n",
       "    <tr>\n",
       "      <th>3</th>\n",
       "      <td>2nes_pos_500</td>\n",
       "      <td>-0.21654</td>\n",
       "      <td>-0.02157</td>\n",
       "      <td>-0.02535</td>\n",
       "      <td>-0.07531</td>\n",
       "      <td>0.04365</td>\n",
       "      <td>0.22190</td>\n",
       "      <td>0.24813</td>\n",
       "      <td>0.04365</td>\n",
       "      <td>0.22190</td>\n",
       "      <td>0.30281</td>\n",
       "      <td>0.332780</td>\n",
       "      <td>0.361222</td>\n",
       "      <td>0.42096</td>\n",
       "      <td>0.36576</td>\n",
       "    </tr>\n",
       "    <tr>\n",
       "      <th>4</th>\n",
       "      <td>base</td>\n",
       "      <td>-0.27256</td>\n",
       "      <td>-0.07750</td>\n",
       "      <td>-0.07978</td>\n",
       "      <td>-0.11233</td>\n",
       "      <td>-0.01230</td>\n",
       "      <td>0.16979</td>\n",
       "      <td>0.24162</td>\n",
       "      <td>-0.01230</td>\n",
       "      <td>0.16979</td>\n",
       "      <td>0.28290</td>\n",
       "      <td>0.305130</td>\n",
       "      <td>0.334260</td>\n",
       "      <td>0.38443</td>\n",
       "      <td>0.35805</td>\n",
       "    </tr>\n",
       "    <tr>\n",
       "      <th>5</th>\n",
       "      <td>genes_1k</td>\n",
       "      <td>-0.22328</td>\n",
       "      <td>-0.01188</td>\n",
       "      <td>-0.02614</td>\n",
       "      <td>-0.05525</td>\n",
       "      <td>0.05494</td>\n",
       "      <td>0.21171</td>\n",
       "      <td>0.28798</td>\n",
       "      <td>0.05494</td>\n",
       "      <td>0.21171</td>\n",
       "      <td>0.34487</td>\n",
       "      <td>0.511020</td>\n",
       "      <td>0.540627</td>\n",
       "      <td>0.41917</td>\n",
       "      <td>0.39316</td>\n",
       "    </tr>\n",
       "    <tr>\n",
       "      <th>6</th>\n",
       "      <td>genes_28k</td>\n",
       "      <td>-0.25298</td>\n",
       "      <td>-0.07816</td>\n",
       "      <td>-0.06406</td>\n",
       "      <td>-0.10695</td>\n",
       "      <td>-0.01722</td>\n",
       "      <td>0.18252</td>\n",
       "      <td>0.22346</td>\n",
       "      <td>-0.01722</td>\n",
       "      <td>0.18252</td>\n",
       "      <td>0.24865</td>\n",
       "      <td>0.264040</td>\n",
       "      <td>0.280050</td>\n",
       "      <td>0.36838</td>\n",
       "      <td>0.35322</td>\n",
       "    </tr>\n",
       "    <tr>\n",
       "      <th>7</th>\n",
       "      <td>rho_0.0001</td>\n",
       "      <td>-0.25597</td>\n",
       "      <td>-0.07820</td>\n",
       "      <td>-0.06915</td>\n",
       "      <td>-0.10683</td>\n",
       "      <td>-0.01278</td>\n",
       "      <td>0.18491</td>\n",
       "      <td>0.24753</td>\n",
       "      <td>-0.01278</td>\n",
       "      <td>0.18491</td>\n",
       "      <td>0.29527</td>\n",
       "      <td>0.367570</td>\n",
       "      <td>0.361300</td>\n",
       "      <td>0.37892</td>\n",
       "      <td>0.34354</td>\n",
       "    </tr>\n",
       "    <tr>\n",
       "      <th>8</th>\n",
       "      <td>rho_0.01</td>\n",
       "      <td>-0.26643</td>\n",
       "      <td>-0.07665</td>\n",
       "      <td>-0.05544</td>\n",
       "      <td>-0.09680</td>\n",
       "      <td>-0.01650</td>\n",
       "      <td>0.19379</td>\n",
       "      <td>0.24914</td>\n",
       "      <td>-0.01650</td>\n",
       "      <td>0.19379</td>\n",
       "      <td>0.28303</td>\n",
       "      <td>0.297260</td>\n",
       "      <td>0.302889</td>\n",
       "      <td>0.39843</td>\n",
       "      <td>0.36592</td>\n",
       "    </tr>\n",
       "    <tr>\n",
       "      <th>9</th>\n",
       "      <td>shape_0.1</td>\n",
       "      <td>0.26255</td>\n",
       "      <td>0.29323</td>\n",
       "      <td>0.29266</td>\n",
       "      <td>0.28738</td>\n",
       "      <td>0.30597</td>\n",
       "      <td>0.34333</td>\n",
       "      <td>0.35979</td>\n",
       "      <td>0.30597</td>\n",
       "      <td>0.34333</td>\n",
       "      <td>0.37633</td>\n",
       "      <td>0.394659</td>\n",
       "      <td>0.399779</td>\n",
       "      <td>0.42565</td>\n",
       "      <td>0.39328</td>\n",
       "    </tr>\n",
       "    <tr>\n",
       "      <th>10</th>\n",
       "      <td>shape_0.2</td>\n",
       "      <td>0.05729</td>\n",
       "      <td>0.14702</td>\n",
       "      <td>0.15438</td>\n",
       "      <td>0.13389</td>\n",
       "      <td>0.17816</td>\n",
       "      <td>0.28648</td>\n",
       "      <td>0.31487</td>\n",
       "      <td>0.17816</td>\n",
       "      <td>0.28648</td>\n",
       "      <td>0.36113</td>\n",
       "      <td>0.367230</td>\n",
       "      <td>0.381040</td>\n",
       "      <td>0.41244</td>\n",
       "      <td>0.37975</td>\n",
       "    </tr>\n",
       "    <tr>\n",
       "      <th>11</th>\n",
       "      <td>theta_0.0001</td>\n",
       "      <td>-0.22649</td>\n",
       "      <td>-0.02879</td>\n",
       "      <td>-0.00924</td>\n",
       "      <td>-0.05936</td>\n",
       "      <td>0.02807</td>\n",
       "      <td>0.23526</td>\n",
       "      <td>0.26977</td>\n",
       "      <td>0.02807</td>\n",
       "      <td>0.23526</td>\n",
       "      <td>0.32715</td>\n",
       "      <td>0.525186</td>\n",
       "      <td>0.439620</td>\n",
       "      <td>0.39680</td>\n",
       "      <td>0.37693</td>\n",
       "    </tr>\n",
       "    <tr>\n",
       "      <th>12</th>\n",
       "      <td>theta_0.01</td>\n",
       "      <td>-0.30846</td>\n",
       "      <td>-0.11925</td>\n",
       "      <td>-0.15059</td>\n",
       "      <td>-0.19049</td>\n",
       "      <td>-0.02449</td>\n",
       "      <td>0.17182</td>\n",
       "      <td>0.22394</td>\n",
       "      <td>-0.02449</td>\n",
       "      <td>0.17182</td>\n",
       "      <td>0.25796</td>\n",
       "      <td>0.249880</td>\n",
       "      <td>0.258770</td>\n",
       "      <td>0.38052</td>\n",
       "      <td>0.28190</td>\n",
       "    </tr>\n",
       "  </tbody>\n",
       "</table>\n",
       "</div>"
      ],
      "text/plain": [
       "       simulation      std    emkt1    emkt2    emkt3     fww1     fww2  \\\n",
       "0   2nes_neg_1000 -0.34742 -0.14398 -0.13859 -0.17820 -0.07527  0.13070   \n",
       "1    2nes_neg_500 -0.42792 -0.22342 -0.21253 -0.25632 -0.15469  0.06838   \n",
       "2    2nes_pos_100 -0.27466 -0.06587 -0.05625 -0.09726  0.00094  0.21126   \n",
       "3    2nes_pos_500 -0.21654 -0.02157 -0.02535 -0.07531  0.04365  0.22190   \n",
       "4            base -0.27256 -0.07750 -0.07978 -0.11233 -0.01230  0.16979   \n",
       "5        genes_1k -0.22328 -0.01188 -0.02614 -0.05525  0.05494  0.21171   \n",
       "6       genes_28k -0.25298 -0.07816 -0.06406 -0.10695 -0.01722  0.18252   \n",
       "7      rho_0.0001 -0.25597 -0.07820 -0.06915 -0.10683 -0.01278  0.18491   \n",
       "8        rho_0.01 -0.26643 -0.07665 -0.05544 -0.09680 -0.01650  0.19379   \n",
       "9       shape_0.1  0.26255  0.29323  0.29266  0.28738  0.30597  0.34333   \n",
       "10      shape_0.2  0.05729  0.14702  0.15438  0.13389  0.17816  0.28648   \n",
       "11   theta_0.0001 -0.22649 -0.02879 -0.00924 -0.05936  0.02807  0.23526   \n",
       "12     theta_0.01 -0.30846 -0.11925 -0.15059 -0.19049 -0.02449  0.17182   \n",
       "\n",
       "       fww3     imp1     imp2     imp3    asymp1    asymp2   grapes  trueAlpha  \n",
       "0   0.19991 -0.07527  0.13070  0.25029  0.268850  0.278071  0.35460    0.31581  \n",
       "1   0.12658 -0.15469  0.06838  0.19119  0.215080  0.239310  0.29545    0.26762  \n",
       "2   0.27499  0.00094  0.21126  0.34204  0.333070  0.341550  0.42222    0.36565  \n",
       "3   0.24813  0.04365  0.22190  0.30281  0.332780  0.361222  0.42096    0.36576  \n",
       "4   0.24162 -0.01230  0.16979  0.28290  0.305130  0.334260  0.38443    0.35805  \n",
       "5   0.28798  0.05494  0.21171  0.34487  0.511020  0.540627  0.41917    0.39316  \n",
       "6   0.22346 -0.01722  0.18252  0.24865  0.264040  0.280050  0.36838    0.35322  \n",
       "7   0.24753 -0.01278  0.18491  0.29527  0.367570  0.361300  0.37892    0.34354  \n",
       "8   0.24914 -0.01650  0.19379  0.28303  0.297260  0.302889  0.39843    0.36592  \n",
       "9   0.35979  0.30597  0.34333  0.37633  0.394659  0.399779  0.42565    0.39328  \n",
       "10  0.31487  0.17816  0.28648  0.36113  0.367230  0.381040  0.41244    0.37975  \n",
       "11  0.26977  0.02807  0.23526  0.32715  0.525186  0.439620  0.39680    0.37693  \n",
       "12  0.22394 -0.02449  0.17182  0.25796  0.249880  0.258770  0.38052    0.28190  "
      ]
     },
     "execution_count": 255,
     "metadata": {},
     "output_type": "execute_result"
    }
   ],
   "source": [
    "meanError = error.groupby(['simulation']).mean().reset_index();meanError"
   ]
  },
  {
   "cell_type": "code",
   "execution_count": 256,
   "metadata": {},
   "outputs": [],
   "source": [
    "meanError = meanError.iloc[:,[0,1,2,4,5,7,8,10,11,13,14]]"
   ]
  },
  {
   "cell_type": "code",
   "execution_count": 257,
   "metadata": {},
   "outputs": [],
   "source": [
    "dfError = pd.concat([meanError['simulation'],meanError.iloc[:,1:10].apply(lambda row: np.abs(meanError['trueAlpha'] - row ))],axis=1)"
   ]
  },
  {
   "cell_type": "code",
   "execution_count": 258,
   "metadata": {},
   "outputs": [],
   "source": [
    "meanError.columns = ['Simulations','MKT','eMKT 0.05','eMKT 0.25','fwwMKT 0.05','fwwMKT 0.25','impMKT 0.05','impMKT 0.25','aMKT','Grapes','True α']"
   ]
  },
  {
   "cell_type": "code",
   "execution_count": 266,
   "metadata": {},
   "outputs": [],
   "source": [
    "meanError.to_csv(PATH + \"/results/simulations/meanAlphas.tsv\",sep='\\t',index=False,float_format='%.3f')"
   ]
  },
  {
   "cell_type": "code",
   "execution_count": 260,
   "metadata": {},
   "outputs": [
    {
     "data": {
      "text/html": [
       "<div>\n",
       "<style scoped>\n",
       "    .dataframe tbody tr th:only-of-type {\n",
       "        vertical-align: middle;\n",
       "    }\n",
       "\n",
       "    .dataframe tbody tr th {\n",
       "        vertical-align: top;\n",
       "    }\n",
       "\n",
       "    .dataframe thead th {\n",
       "        text-align: right;\n",
       "    }\n",
       "</style>\n",
       "<table border=\"1\" class=\"dataframe\">\n",
       "  <thead>\n",
       "    <tr style=\"text-align: right;\">\n",
       "      <th></th>\n",
       "      <th>Simulations</th>\n",
       "      <th>MKT</th>\n",
       "      <th>eMKT 0.05</th>\n",
       "      <th>eMKT 0.25</th>\n",
       "      <th>fwwMKT 0.05</th>\n",
       "      <th>fwwMKT 0.25</th>\n",
       "      <th>impMKT 0.05</th>\n",
       "      <th>impMKT 0.25</th>\n",
       "      <th>aMKT</th>\n",
       "      <th>Grapes</th>\n",
       "      <th>True α</th>\n",
       "    </tr>\n",
       "  </thead>\n",
       "  <tbody>\n",
       "    <tr>\n",
       "      <th>0</th>\n",
       "      <td>2nes_neg_1000</td>\n",
       "      <td>-0.34742</td>\n",
       "      <td>-0.14398</td>\n",
       "      <td>-0.17820</td>\n",
       "      <td>-0.07527</td>\n",
       "      <td>0.19991</td>\n",
       "      <td>-0.07527</td>\n",
       "      <td>0.25029</td>\n",
       "      <td>0.268850</td>\n",
       "      <td>0.35460</td>\n",
       "      <td>0.31581</td>\n",
       "    </tr>\n",
       "    <tr>\n",
       "      <th>1</th>\n",
       "      <td>2nes_neg_500</td>\n",
       "      <td>-0.42792</td>\n",
       "      <td>-0.22342</td>\n",
       "      <td>-0.25632</td>\n",
       "      <td>-0.15469</td>\n",
       "      <td>0.12658</td>\n",
       "      <td>-0.15469</td>\n",
       "      <td>0.19119</td>\n",
       "      <td>0.215080</td>\n",
       "      <td>0.29545</td>\n",
       "      <td>0.26762</td>\n",
       "    </tr>\n",
       "    <tr>\n",
       "      <th>2</th>\n",
       "      <td>2nes_pos_100</td>\n",
       "      <td>-0.27466</td>\n",
       "      <td>-0.06587</td>\n",
       "      <td>-0.09726</td>\n",
       "      <td>0.00094</td>\n",
       "      <td>0.27499</td>\n",
       "      <td>0.00094</td>\n",
       "      <td>0.34204</td>\n",
       "      <td>0.333070</td>\n",
       "      <td>0.42222</td>\n",
       "      <td>0.36565</td>\n",
       "    </tr>\n",
       "    <tr>\n",
       "      <th>3</th>\n",
       "      <td>2nes_pos_500</td>\n",
       "      <td>-0.21654</td>\n",
       "      <td>-0.02157</td>\n",
       "      <td>-0.07531</td>\n",
       "      <td>0.04365</td>\n",
       "      <td>0.24813</td>\n",
       "      <td>0.04365</td>\n",
       "      <td>0.30281</td>\n",
       "      <td>0.332780</td>\n",
       "      <td>0.42096</td>\n",
       "      <td>0.36576</td>\n",
       "    </tr>\n",
       "    <tr>\n",
       "      <th>4</th>\n",
       "      <td>base</td>\n",
       "      <td>-0.27256</td>\n",
       "      <td>-0.07750</td>\n",
       "      <td>-0.11233</td>\n",
       "      <td>-0.01230</td>\n",
       "      <td>0.24162</td>\n",
       "      <td>-0.01230</td>\n",
       "      <td>0.28290</td>\n",
       "      <td>0.305130</td>\n",
       "      <td>0.38443</td>\n",
       "      <td>0.35805</td>\n",
       "    </tr>\n",
       "    <tr>\n",
       "      <th>5</th>\n",
       "      <td>genes_1k</td>\n",
       "      <td>-0.22328</td>\n",
       "      <td>-0.01188</td>\n",
       "      <td>-0.05525</td>\n",
       "      <td>0.05494</td>\n",
       "      <td>0.28798</td>\n",
       "      <td>0.05494</td>\n",
       "      <td>0.34487</td>\n",
       "      <td>0.511020</td>\n",
       "      <td>0.41917</td>\n",
       "      <td>0.39316</td>\n",
       "    </tr>\n",
       "    <tr>\n",
       "      <th>6</th>\n",
       "      <td>genes_28k</td>\n",
       "      <td>-0.25298</td>\n",
       "      <td>-0.07816</td>\n",
       "      <td>-0.10695</td>\n",
       "      <td>-0.01722</td>\n",
       "      <td>0.22346</td>\n",
       "      <td>-0.01722</td>\n",
       "      <td>0.24865</td>\n",
       "      <td>0.264040</td>\n",
       "      <td>0.36838</td>\n",
       "      <td>0.35322</td>\n",
       "    </tr>\n",
       "    <tr>\n",
       "      <th>7</th>\n",
       "      <td>rho_0.0001</td>\n",
       "      <td>-0.25597</td>\n",
       "      <td>-0.07820</td>\n",
       "      <td>-0.10683</td>\n",
       "      <td>-0.01278</td>\n",
       "      <td>0.24753</td>\n",
       "      <td>-0.01278</td>\n",
       "      <td>0.29527</td>\n",
       "      <td>0.367570</td>\n",
       "      <td>0.37892</td>\n",
       "      <td>0.34354</td>\n",
       "    </tr>\n",
       "    <tr>\n",
       "      <th>8</th>\n",
       "      <td>rho_0.01</td>\n",
       "      <td>-0.26643</td>\n",
       "      <td>-0.07665</td>\n",
       "      <td>-0.09680</td>\n",
       "      <td>-0.01650</td>\n",
       "      <td>0.24914</td>\n",
       "      <td>-0.01650</td>\n",
       "      <td>0.28303</td>\n",
       "      <td>0.297260</td>\n",
       "      <td>0.39843</td>\n",
       "      <td>0.36592</td>\n",
       "    </tr>\n",
       "    <tr>\n",
       "      <th>9</th>\n",
       "      <td>shape_0.1</td>\n",
       "      <td>0.26255</td>\n",
       "      <td>0.29323</td>\n",
       "      <td>0.28738</td>\n",
       "      <td>0.30597</td>\n",
       "      <td>0.35979</td>\n",
       "      <td>0.30597</td>\n",
       "      <td>0.37633</td>\n",
       "      <td>0.394659</td>\n",
       "      <td>0.42565</td>\n",
       "      <td>0.39328</td>\n",
       "    </tr>\n",
       "    <tr>\n",
       "      <th>10</th>\n",
       "      <td>shape_0.2</td>\n",
       "      <td>0.05729</td>\n",
       "      <td>0.14702</td>\n",
       "      <td>0.13389</td>\n",
       "      <td>0.17816</td>\n",
       "      <td>0.31487</td>\n",
       "      <td>0.17816</td>\n",
       "      <td>0.36113</td>\n",
       "      <td>0.367230</td>\n",
       "      <td>0.41244</td>\n",
       "      <td>0.37975</td>\n",
       "    </tr>\n",
       "    <tr>\n",
       "      <th>11</th>\n",
       "      <td>theta_0.0001</td>\n",
       "      <td>-0.22649</td>\n",
       "      <td>-0.02879</td>\n",
       "      <td>-0.05936</td>\n",
       "      <td>0.02807</td>\n",
       "      <td>0.26977</td>\n",
       "      <td>0.02807</td>\n",
       "      <td>0.32715</td>\n",
       "      <td>0.525186</td>\n",
       "      <td>0.39680</td>\n",
       "      <td>0.37693</td>\n",
       "    </tr>\n",
       "    <tr>\n",
       "      <th>12</th>\n",
       "      <td>theta_0.01</td>\n",
       "      <td>-0.30846</td>\n",
       "      <td>-0.11925</td>\n",
       "      <td>-0.19049</td>\n",
       "      <td>-0.02449</td>\n",
       "      <td>0.22394</td>\n",
       "      <td>-0.02449</td>\n",
       "      <td>0.25796</td>\n",
       "      <td>0.249880</td>\n",
       "      <td>0.38052</td>\n",
       "      <td>0.28190</td>\n",
       "    </tr>\n",
       "  </tbody>\n",
       "</table>\n",
       "</div>"
      ],
      "text/plain": [
       "      Simulations      MKT  eMKT 0.05  eMKT 0.25  fwwMKT 0.05  fwwMKT 0.25  \\\n",
       "0   2nes_neg_1000 -0.34742   -0.14398   -0.17820     -0.07527      0.19991   \n",
       "1    2nes_neg_500 -0.42792   -0.22342   -0.25632     -0.15469      0.12658   \n",
       "2    2nes_pos_100 -0.27466   -0.06587   -0.09726      0.00094      0.27499   \n",
       "3    2nes_pos_500 -0.21654   -0.02157   -0.07531      0.04365      0.24813   \n",
       "4            base -0.27256   -0.07750   -0.11233     -0.01230      0.24162   \n",
       "5        genes_1k -0.22328   -0.01188   -0.05525      0.05494      0.28798   \n",
       "6       genes_28k -0.25298   -0.07816   -0.10695     -0.01722      0.22346   \n",
       "7      rho_0.0001 -0.25597   -0.07820   -0.10683     -0.01278      0.24753   \n",
       "8        rho_0.01 -0.26643   -0.07665   -0.09680     -0.01650      0.24914   \n",
       "9       shape_0.1  0.26255    0.29323    0.28738      0.30597      0.35979   \n",
       "10      shape_0.2  0.05729    0.14702    0.13389      0.17816      0.31487   \n",
       "11   theta_0.0001 -0.22649   -0.02879   -0.05936      0.02807      0.26977   \n",
       "12     theta_0.01 -0.30846   -0.11925   -0.19049     -0.02449      0.22394   \n",
       "\n",
       "    impMKT 0.05  impMKT 0.25      aMKT   Grapes   True α  \n",
       "0      -0.07527      0.25029  0.268850  0.35460  0.31581  \n",
       "1      -0.15469      0.19119  0.215080  0.29545  0.26762  \n",
       "2       0.00094      0.34204  0.333070  0.42222  0.36565  \n",
       "3       0.04365      0.30281  0.332780  0.42096  0.36576  \n",
       "4      -0.01230      0.28290  0.305130  0.38443  0.35805  \n",
       "5       0.05494      0.34487  0.511020  0.41917  0.39316  \n",
       "6      -0.01722      0.24865  0.264040  0.36838  0.35322  \n",
       "7      -0.01278      0.29527  0.367570  0.37892  0.34354  \n",
       "8      -0.01650      0.28303  0.297260  0.39843  0.36592  \n",
       "9       0.30597      0.37633  0.394659  0.42565  0.39328  \n",
       "10      0.17816      0.36113  0.367230  0.41244  0.37975  \n",
       "11      0.02807      0.32715  0.525186  0.39680  0.37693  \n",
       "12     -0.02449      0.25796  0.249880  0.38052  0.28190  "
      ]
     },
     "execution_count": 260,
     "metadata": {},
     "output_type": "execute_result"
    }
   ],
   "source": [
    "meanError"
   ]
  },
  {
   "cell_type": "code",
   "execution_count": 261,
   "metadata": {},
   "outputs": [
    {
     "data": {
      "text/html": [
       "<div>\n",
       "<style scoped>\n",
       "    .dataframe tbody tr th:only-of-type {\n",
       "        vertical-align: middle;\n",
       "    }\n",
       "\n",
       "    .dataframe tbody tr th {\n",
       "        vertical-align: top;\n",
       "    }\n",
       "\n",
       "    .dataframe thead th {\n",
       "        text-align: right;\n",
       "    }\n",
       "</style>\n",
       "<table border=\"1\" class=\"dataframe\">\n",
       "  <thead>\n",
       "    <tr style=\"text-align: right;\">\n",
       "      <th></th>\n",
       "      <th>simulation</th>\n",
       "      <th>std</th>\n",
       "      <th>emkt1</th>\n",
       "      <th>emkt3</th>\n",
       "      <th>fww1</th>\n",
       "      <th>fww3</th>\n",
       "      <th>imp1</th>\n",
       "      <th>imp3</th>\n",
       "      <th>asymp1</th>\n",
       "      <th>grapes</th>\n",
       "    </tr>\n",
       "  </thead>\n",
       "  <tbody>\n",
       "    <tr>\n",
       "      <th>0</th>\n",
       "      <td>2nes_neg_1000</td>\n",
       "      <td>0.66323</td>\n",
       "      <td>0.45979</td>\n",
       "      <td>0.49401</td>\n",
       "      <td>0.39108</td>\n",
       "      <td>0.11590</td>\n",
       "      <td>0.39108</td>\n",
       "      <td>0.06552</td>\n",
       "      <td>0.046960</td>\n",
       "      <td>0.03879</td>\n",
       "    </tr>\n",
       "    <tr>\n",
       "      <th>1</th>\n",
       "      <td>2nes_neg_500</td>\n",
       "      <td>0.69554</td>\n",
       "      <td>0.49104</td>\n",
       "      <td>0.52394</td>\n",
       "      <td>0.42231</td>\n",
       "      <td>0.14104</td>\n",
       "      <td>0.42231</td>\n",
       "      <td>0.07643</td>\n",
       "      <td>0.052540</td>\n",
       "      <td>0.02783</td>\n",
       "    </tr>\n",
       "    <tr>\n",
       "      <th>2</th>\n",
       "      <td>2nes_pos_100</td>\n",
       "      <td>0.64031</td>\n",
       "      <td>0.43152</td>\n",
       "      <td>0.46291</td>\n",
       "      <td>0.36471</td>\n",
       "      <td>0.09066</td>\n",
       "      <td>0.36471</td>\n",
       "      <td>0.02361</td>\n",
       "      <td>0.032580</td>\n",
       "      <td>0.05657</td>\n",
       "    </tr>\n",
       "    <tr>\n",
       "      <th>3</th>\n",
       "      <td>2nes_pos_500</td>\n",
       "      <td>0.58230</td>\n",
       "      <td>0.38733</td>\n",
       "      <td>0.44107</td>\n",
       "      <td>0.32211</td>\n",
       "      <td>0.11763</td>\n",
       "      <td>0.32211</td>\n",
       "      <td>0.06295</td>\n",
       "      <td>0.032980</td>\n",
       "      <td>0.05520</td>\n",
       "    </tr>\n",
       "    <tr>\n",
       "      <th>4</th>\n",
       "      <td>base</td>\n",
       "      <td>0.63061</td>\n",
       "      <td>0.43555</td>\n",
       "      <td>0.47038</td>\n",
       "      <td>0.37035</td>\n",
       "      <td>0.11643</td>\n",
       "      <td>0.37035</td>\n",
       "      <td>0.07515</td>\n",
       "      <td>0.052920</td>\n",
       "      <td>0.02638</td>\n",
       "    </tr>\n",
       "    <tr>\n",
       "      <th>5</th>\n",
       "      <td>genes_1k</td>\n",
       "      <td>0.61644</td>\n",
       "      <td>0.40504</td>\n",
       "      <td>0.44841</td>\n",
       "      <td>0.33822</td>\n",
       "      <td>0.10518</td>\n",
       "      <td>0.33822</td>\n",
       "      <td>0.04829</td>\n",
       "      <td>0.117860</td>\n",
       "      <td>0.02601</td>\n",
       "    </tr>\n",
       "    <tr>\n",
       "      <th>6</th>\n",
       "      <td>genes_28k</td>\n",
       "      <td>0.60620</td>\n",
       "      <td>0.43138</td>\n",
       "      <td>0.46017</td>\n",
       "      <td>0.37044</td>\n",
       "      <td>0.12976</td>\n",
       "      <td>0.37044</td>\n",
       "      <td>0.10457</td>\n",
       "      <td>0.089180</td>\n",
       "      <td>0.01516</td>\n",
       "    </tr>\n",
       "    <tr>\n",
       "      <th>7</th>\n",
       "      <td>rho_0.0001</td>\n",
       "      <td>0.59951</td>\n",
       "      <td>0.42174</td>\n",
       "      <td>0.45037</td>\n",
       "      <td>0.35632</td>\n",
       "      <td>0.09601</td>\n",
       "      <td>0.35632</td>\n",
       "      <td>0.04827</td>\n",
       "      <td>0.024030</td>\n",
       "      <td>0.03538</td>\n",
       "    </tr>\n",
       "    <tr>\n",
       "      <th>8</th>\n",
       "      <td>rho_0.01</td>\n",
       "      <td>0.63235</td>\n",
       "      <td>0.44257</td>\n",
       "      <td>0.46272</td>\n",
       "      <td>0.38242</td>\n",
       "      <td>0.11678</td>\n",
       "      <td>0.38242</td>\n",
       "      <td>0.08289</td>\n",
       "      <td>0.068660</td>\n",
       "      <td>0.03251</td>\n",
       "    </tr>\n",
       "    <tr>\n",
       "      <th>9</th>\n",
       "      <td>shape_0.1</td>\n",
       "      <td>0.13073</td>\n",
       "      <td>0.10005</td>\n",
       "      <td>0.10590</td>\n",
       "      <td>0.08731</td>\n",
       "      <td>0.03349</td>\n",
       "      <td>0.08731</td>\n",
       "      <td>0.01695</td>\n",
       "      <td>0.001379</td>\n",
       "      <td>0.03237</td>\n",
       "    </tr>\n",
       "    <tr>\n",
       "      <th>10</th>\n",
       "      <td>shape_0.2</td>\n",
       "      <td>0.32246</td>\n",
       "      <td>0.23273</td>\n",
       "      <td>0.24586</td>\n",
       "      <td>0.20159</td>\n",
       "      <td>0.06488</td>\n",
       "      <td>0.20159</td>\n",
       "      <td>0.01862</td>\n",
       "      <td>0.012520</td>\n",
       "      <td>0.03269</td>\n",
       "    </tr>\n",
       "    <tr>\n",
       "      <th>11</th>\n",
       "      <td>theta_0.0001</td>\n",
       "      <td>0.60342</td>\n",
       "      <td>0.40572</td>\n",
       "      <td>0.43629</td>\n",
       "      <td>0.34886</td>\n",
       "      <td>0.10716</td>\n",
       "      <td>0.34886</td>\n",
       "      <td>0.04978</td>\n",
       "      <td>0.148256</td>\n",
       "      <td>0.01987</td>\n",
       "    </tr>\n",
       "    <tr>\n",
       "      <th>12</th>\n",
       "      <td>theta_0.01</td>\n",
       "      <td>0.59036</td>\n",
       "      <td>0.40115</td>\n",
       "      <td>0.47239</td>\n",
       "      <td>0.30639</td>\n",
       "      <td>0.05796</td>\n",
       "      <td>0.30639</td>\n",
       "      <td>0.02394</td>\n",
       "      <td>0.032020</td>\n",
       "      <td>0.09862</td>\n",
       "    </tr>\n",
       "  </tbody>\n",
       "</table>\n",
       "</div>"
      ],
      "text/plain": [
       "       simulation      std    emkt1    emkt3     fww1     fww3     imp1  \\\n",
       "0   2nes_neg_1000  0.66323  0.45979  0.49401  0.39108  0.11590  0.39108   \n",
       "1    2nes_neg_500  0.69554  0.49104  0.52394  0.42231  0.14104  0.42231   \n",
       "2    2nes_pos_100  0.64031  0.43152  0.46291  0.36471  0.09066  0.36471   \n",
       "3    2nes_pos_500  0.58230  0.38733  0.44107  0.32211  0.11763  0.32211   \n",
       "4            base  0.63061  0.43555  0.47038  0.37035  0.11643  0.37035   \n",
       "5        genes_1k  0.61644  0.40504  0.44841  0.33822  0.10518  0.33822   \n",
       "6       genes_28k  0.60620  0.43138  0.46017  0.37044  0.12976  0.37044   \n",
       "7      rho_0.0001  0.59951  0.42174  0.45037  0.35632  0.09601  0.35632   \n",
       "8        rho_0.01  0.63235  0.44257  0.46272  0.38242  0.11678  0.38242   \n",
       "9       shape_0.1  0.13073  0.10005  0.10590  0.08731  0.03349  0.08731   \n",
       "10      shape_0.2  0.32246  0.23273  0.24586  0.20159  0.06488  0.20159   \n",
       "11   theta_0.0001  0.60342  0.40572  0.43629  0.34886  0.10716  0.34886   \n",
       "12     theta_0.01  0.59036  0.40115  0.47239  0.30639  0.05796  0.30639   \n",
       "\n",
       "       imp3    asymp1   grapes  \n",
       "0   0.06552  0.046960  0.03879  \n",
       "1   0.07643  0.052540  0.02783  \n",
       "2   0.02361  0.032580  0.05657  \n",
       "3   0.06295  0.032980  0.05520  \n",
       "4   0.07515  0.052920  0.02638  \n",
       "5   0.04829  0.117860  0.02601  \n",
       "6   0.10457  0.089180  0.01516  \n",
       "7   0.04827  0.024030  0.03538  \n",
       "8   0.08289  0.068660  0.03251  \n",
       "9   0.01695  0.001379  0.03237  \n",
       "10  0.01862  0.012520  0.03269  \n",
       "11  0.04978  0.148256  0.01987  \n",
       "12  0.02394  0.032020  0.09862  "
      ]
     },
     "execution_count": 261,
     "metadata": {},
     "output_type": "execute_result"
    }
   ],
   "source": [
    "dfError"
   ]
  },
  {
   "cell_type": "code",
   "execution_count": 262,
   "metadata": {},
   "outputs": [],
   "source": [
    "dfError.columns = ['Simulations','MKT','eMKT 0.05','eMKT 0.25','fwwMKT 0.05','fwwMKT 0.25','impMKT 0.05','impMKT 0.25','aMKT','Grapes']"
   ]
  },
  {
   "cell_type": "code",
   "execution_count": 265,
   "metadata": {},
   "outputs": [],
   "source": [
    "dfError.to_csv(PATH + \"/results/simulations/meanAlphaError.tsv\",sep='\\t',index=False,float_format='%.3f')"
   ]
  }
 ],
 "metadata": {
  "kernelspec": {
   "display_name": "Python 3",
   "language": "python",
   "name": "python3"
  },
  "language_info": {
   "codemirror_mode": {
    "name": "ipython",
    "version": 3
   },
   "file_extension": ".py",
   "mimetype": "text/x-python",
   "name": "python",
   "nbconvert_exporter": "python",
   "pygments_lexer": "ipython3",
   "version": "3.8.5"
  },
  "toc": {
   "base_numbering": 1,
   "nav_menu": {},
   "number_sections": true,
   "sideBar": true,
   "skip_h1_title": false,
   "title_cell": "Table of Contents",
   "title_sidebar": "Contents",
   "toc_cell": false,
   "toc_position": {
    "height": "calc(100% - 180px)",
    "left": "10px",
    "top": "150px",
    "width": "194px"
   },
   "toc_section_display": true,
   "toc_window_display": true
  },
  "varInspector": {
   "cols": {
    "lenName": 16,
    "lenType": 16,
    "lenVar": 40
   },
   "kernels_config": {
    "python": {
     "delete_cmd_postfix": "",
     "delete_cmd_prefix": "del ",
     "library": "var_list.py",
     "varRefreshCmd": "print(var_dic_list())"
    },
    "r": {
     "delete_cmd_postfix": ") ",
     "delete_cmd_prefix": "rm(",
     "library": "var_list.r",
     "varRefreshCmd": "cat(var_dic_list()) "
    }
   },
   "types_to_exclude": [
    "module",
    "function",
    "builtin_function_or_method",
    "instance",
    "_Feature"
   ],
   "window_display": false
  }
 },
 "nbformat": 4,
 "nbformat_minor": 4
}
