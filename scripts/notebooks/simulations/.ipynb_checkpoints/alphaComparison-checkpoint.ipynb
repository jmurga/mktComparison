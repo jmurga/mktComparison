{
 "cells": [
  {
   "cell_type": "code",
   "execution_count": 1,
   "metadata": {
    "scrolled": true
   },
   "outputs": [
    {
     "data": {
      "text/html": [
       "<style type='text/css'>\n",
       ".datatable table.frame { margin-bottom: 0; }\n",
       ".datatable table.frame thead { border-bottom: none; }\n",
       ".datatable table.frame tr.coltypes td {  color: #FFFFFF;  line-height: 6px;  padding: 0 0.5em;}\n",
       ".datatable .bool    { background: #DDDD99; }\n",
       ".datatable .object  { background: #565656; }\n",
       ".datatable .int     { background: #5D9E5D; }\n",
       ".datatable .float   { background: #4040CC; }\n",
       ".datatable .str     { background: #CC4040; }\n",
       ".datatable .row_index {  background: var(--jp-border-color3);  border-right: 1px solid var(--jp-border-color0);  color: var(--jp-ui-font-color3);  font-size: 9px;}\n",
       ".datatable .frame tr.coltypes .row_index {  background: var(--jp-border-color0);}\n",
       ".datatable th:nth-child(2) { padding-left: 12px; }\n",
       ".datatable .hellipsis {  color: var(--jp-cell-editor-border-color);}\n",
       ".datatable .vellipsis {  background: var(--jp-layout-color0);  color: var(--jp-cell-editor-border-color);}\n",
       ".datatable .na {  color: var(--jp-cell-editor-border-color);  font-size: 80%;}\n",
       ".datatable .footer { font-size: 9px; }\n",
       ".datatable .frame_dimensions {  background: var(--jp-border-color3);  border-top: 1px solid var(--jp-border-color0);  color: var(--jp-ui-font-color3);  display: inline-block;  opacity: 0.6;  padding: 1px 10px 1px 5px;}\n",
       ".datatable .frame thead tr.colnames {  background-image: url('data:image/png;base64,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');  background-repeat: repeat-x;  background-size: 14px;  height: 28px;}\n",
       "</style>\n"
      ],
      "text/plain": [
       "<IPython.core.display.HTML object>"
      ]
     },
     "metadata": {},
     "output_type": "display_data"
    }
   ],
   "source": [
    "import numpy as np\n",
    "import pandas as pd\n",
    "\n",
    "PATH =  \"/home/jmurga/mkt/201902\"\n",
    "import sys\n",
    "sys.path.insert(0, PATH + '/scripts/src/geneAnalysis.py')"
   ]
  },
  {
   "cell_type": "markdown",
   "metadata": {},
   "source": [
    "# imputedMK\n"
   ]
  },
  {
   "cell_type": "markdown",
   "metadata": {},
   "source": [
    "Actualmente, los alelos ligeramente deletéreos ($P_{wd}$) los obtenemos igualando la ratio $P_i/P_0$ a partir de una frecuencia $f$. Se incluye un valor $P_{wd}$ en el cálculo de $\\alpha$:\n",
    "\n",
    "$\\frac{P_{i<f} - P_{wd < f}}{P_{0<f}} \\approx \\frac{P_{i>f} - P_{wd > f}}{P_{0>f}}$\n",
    "\n",
    "\n",
    "$P_{wd <f} = P_{i < f} - \\left(\\frac{\\left(P_{i > f } - P_{wd < f}\\right) \\cdot P_{0 f}}{P_{0 >f}}\\right)$\n",
    "\n",
    "Para poder hacer esta imputación hacemos varias asunciones básicas:\n",
    "- Por su propia naturaleza, los alelos ligeramente deletéreos ($P_{wd}$) no estarán segregando a partir de una frequencia $f$: $P_{wd >f} \\to 0$\n",
    "- La ratio $P_i/P_0$ a partir de la frecuencia $f$ únicamente incluyes alelos neutros y efectivamente neutros.\n",
    "- El valor de $\\alpha$ a partir de la frecuencia $f$, debe ser aproximadamente el valor real de $\\alpha$: \n",
    "\n",
    "$\\alpha_{true} \\approx \\alpha_{imputed} \\approx 1 - \\frac{(P_{i} - P_{wd < f}) \\cdot D_0}{P_{0} \\cdot D_i}$\n",
    "\n",
    "\n",
    "- Para que esto ocurra, la ratio $P_i/P_0$ por debajo de la frecuencia $f$ ha de ser mucho mayor que la ratio $P_i/P_0$ encima de dicha frecuencia y por tanto: $P_{wd <f} \\neq 0$"
   ]
  },
  {
   "cell_type": "markdown",
   "metadata": {},
   "source": [
    "Para imputar el exceso de alelos en frecuencias altas, (alelos a punto de fijarse) entiendo que las asunciones serán las mismas:\n",
    "\n",
    "- Existe un exceso de alelos a punto de fijarse que ($P_h$) sólo los veremos segregando a partir de una frequencia elevada $f \\prime$: $P_{h < f \\prime} \\to 0$\n",
    "- Para que esto ocurra, la ratio $P_i/P_0$ por encima de la frecuencia $f\\prime$ ha de ser mucho mayor que la ratio $P_i/P_0$ por debajo de dicha frecuencia y por lo tanto:  $P_{h >f\\prime} \\neq 0$\n"
   ]
  },
  {
   "cell_type": "markdown",
   "metadata": {},
   "source": [
    "$\\frac{P_{i<f\\prime} - P_{h < f\\prime}}{P_{0<f\\prime}} \\approx \\frac{P_{i>f} - P_{h > f\\prime}}{P_{0>f\\prime}}$\n",
    "\n",
    "$P_{h > f\\prime} = P_{i>f\\prime} - \\left(\\frac{\\left(P_{i < f\\prime} - P_{h < f\\prime}\\right) \\cdot P_{0 > f\\prime}}{P_{0 <f\\prime}}\\right)$"
   ]
  },
  {
   "cell_type": "markdown",
   "metadata": {},
   "source": [
    "La ecuación de $\\alpha$ pasaría a ser:\n",
    "\n",
    "$\\alpha_{true} \\approx \\alpha_{imputed} \\approx 1 - \\frac{(P_{i} - P_{wd < f} - P_{h > f\\prime}) \\cdot D_0}{P_{0} \\cdot D_i}$"
   ]
  },
  {
   "cell_type": "markdown",
   "metadata": {},
   "source": [
    "**Resumiendo:**\n",
    "- **El método supone que el exceso en la ratio $P_i/P_0$ por debajo de la frecuencia $f$ y por encima de la frecuencia $f\\prime$ son los causantes de distorsionar el valor verdadero de $\\alpha$.**\n",
    "- **La ratio $P_i/P_0$ entre las frecuencias $f$ y $f\\prime$ contiene únicamente alelos neutros o efectivamente neutros.**\n",
    "- **Utilizaremos la ratio $P_i/P_0$ entre las frecuencias $f$ y $f\\prime$ como la ratio neutra esperada para imputar los alelos ligeramente deletéreos y los alelos a punto de fijarse**\n",
    "- **Los alelos a punto de fijarse ($P_h$) podrían incluirse a $D_i$**"
   ]
  },
  {
   "cell_type": "markdown",
   "metadata": {},
   "source": [
    "Función"
   ]
  },
  {
   "cell_type": "markdown",
   "metadata": {},
   "source": [
    "```python\n",
    "def imputedMKT(daf, div, low,high=None):\n",
    "\n",
    "    output = np.zeros(1)\n",
    "\n",
    "    pi = np.sum(daf[:,1])\n",
    "    p0 = np.sum(daf[:,2])\n",
    "    di = div[0]\n",
    "    d0 = div[1]\n",
    "    # mi = m[0]\n",
    "    # m0 = m[1]\n",
    "    \n",
    "    toFix = 0\n",
    "    deleterious = 0\n",
    "    piHigh = 0\n",
    "    p0High = 0\n",
    "    \n",
    "    ### Estimating slightly deleterious with pi/p0 ratio\n",
    "    fltLow = (daf[:, 0] <= l)\n",
    "    piLow   = daf[fltLow][:,1].sum()\n",
    "    p0Low   = daf[fltLow][:,2].sum()\n",
    "\n",
    "    ### Estimation including high frequency alleles\n",
    "    if (high is None):\n",
    "        fltInter = (daf[:, 0] >= low) & (daf[:, 0] <= 1)\n",
    "        piInter = daf[fltInter][:, 1].sum()\n",
    "        p0Inter = daf[fltInter][:, 2].sum()\n",
    "    ### Estimation without high frequency allels\n",
    "    else:\n",
    "        fltInter = (daf[:, 0] >= low) & (daf[:, 0] < high)\n",
    "        piInter = daf[fltInter][:, 1].sum()\n",
    "        p0Inter = daf[fltInter][:, 2].sum()\n",
    "\n",
    "        fltHigh = (daf[:, 0] >= high)\n",
    "        piHigh  = daf[fltHigh][:, 1].sum()\n",
    "        p0High  = daf[fltHigh][:, 2].sum()\n",
    "\n",
    "        toFix = piHigh - (piInter*p0High/p0Inter)\n",
    "        ### If Pi/P0 at high frequencies < Pi/P0 at intermediate frequencies the estimation is negative\n",
    "        if toFix < 0:\n",
    "            toFix = 0\n",
    "        # di = round(di + abs(toFix),3)\n",
    "\n",
    "    ratioP0       = p0Low / p0Inter\n",
    "    deleterious   = piLow - (piInter * ratioP0)\n",
    "    piNeutral     = round(pi - deleterious - toFix,3)\n",
    "\n",
    "    # output['alpha'] = 1 - (((pi - deleterious) / p0) * (d0 / di))\n",
    "    output[0] = round(1 - ((piNeutral/p0) * (d0 / di)),3)\n",
    "\n",
    "    r1 = round(piLow/p0Low,3)\n",
    "    r2 = round(piInter/p0Inter,3)\n",
    "    try:\n",
    "        r3 = round(piHigh/p0High,3)\n",
    "    except:\n",
    "        r3 = np.nan\n",
    "    return output, np.array([pi, piNeutral, p0, r1,r2,r3,di, d0])\n",
    "```"
   ]
  },
  {
   "cell_type": "markdown",
   "metadata": {},
   "source": [
    "# Simulaciones"
   ]
  },
  {
   "cell_type": "markdown",
   "metadata": {},
   "source": [
    "Incluyo 6 ejemplos. 4 de ellos son réplicas de [este artículo](https://www.g3journal.org/content/10/7/2317.abstract), aquí la simulaciones se basan en los datos proteícos de *Drosophila melanogaster*. He rescalado el tamaño poblacional, los coeficientes de selección y el número de generaciones (mantiendo los mismos períodos de burn-in y equilibrio) para tener los resultados rápidamente. De los 4 ejemplos dos son exactamente los mismos (y se obtienen los mismos resultados) y para otros dos he cambiado el parámetro de forma de la función gamma, ya que el imputedMK debe estar sesgado según la forma y/o la fuerza de selección. \n",
    "\n",
    "La diferencia entre estas simulaciones y las mías es que éstas asumen que las mutaciones beneficiosas son poco frecuentes y con un coeficiente de selección fuerte. Las mías, incluyen selección débil y efecto de LD (los genes que Tom Booker simula en SLiM no están separados por regiones neutras ni deletéreas, por lo que entiendo que los sitios evolucionan de forma independiente. Los únicos patrones de LD que se crean han de ser dentro del propio gen entre los sitios 0 y 4-fold)"
   ]
  },
  {
   "cell_type": "markdown",
   "metadata": {},
   "source": [
    "## Alphas"
   ]
  },
  {
   "cell_type": "code",
   "execution_count": 2,
   "metadata": {},
   "outputs": [],
   "source": [
    "simulations = np.array(['Nes500_pA0.0001_shape0.2','Nes500_pA0.0001_shape0.3','Nes50_pA0.001_shape0.2','Nes50_pA0.001_shape0.3','noDemog_0.4_0.1_0.999','noDemog_0.4_0.2_0.999','noDemog_0.4_0.3_0.999'])"
   ]
  },
  {
   "cell_type": "code",
   "execution_count": 3,
   "metadata": {},
   "outputs": [],
   "source": [
    "n = 20\n",
    "nn = (2*n) - 1"
   ]
  },
  {
   "cell_type": "code",
   "execution_count": 4,
   "metadata": {},
   "outputs": [
    {
     "name": "stdout",
     "output_type": "stream",
     "text": [
      "Nes500_pA0.0001_shape0.2\n"
     ]
    },
    {
     "name": "stderr",
     "output_type": "stream",
     "text": [
      "/home/jmurga/mkt/202004/scripts/src/slimParser.py:293: VisibleDeprecationWarning: Creating an ndarray from ragged nested sequences (which is a list-or-tuple of lists-or-tuples-or ndarrays with different lengths or shapes) is deprecated. If you meant to do this, you must specify 'dtype=object' when creating the ndarray\n"
     ]
    },
    {
     "name": "stdout",
     "output_type": "stream",
     "text": [
      "Nes500_pA0.0001_shape0.3\n",
      "Nes50_pA0.001_shape0.2\n",
      "Nes50_pA0.001_shape0.3\n",
      "noDemog_0.4_0.1_0.999\n",
      "noDemog_0.4_0.2_0.999\n",
      "noDemog_0.4_0.3_0.999\n"
     ]
    }
   ],
   "source": [
    "alphaCompare,dataPlot,data=compareAlphas(simulations,nn)"
   ]
  },
  {
   "cell_type": "markdown",
   "metadata": {},
   "source": [
    "La siguiente tabla muestra los resultados del aMK, aMK usando un *cutoff* de [0,0.9], imputedMK usando un *cutoff* de [0.15,1], imputedMK usando un *cutoff* de [0.15,0.9]. Los resultados son los esperados, el imputedMK es muy dependiente de la forma en la que se acumulan los alelos ligeramente deletéreos. Si la forma de la DFE es muy leptocúrtica, entonces la limpieza es tan buena como el aMK. "
   ]
  },
  {
   "cell_type": "code",
   "execution_count": 5,
   "metadata": {},
   "outputs": [
    {
     "data": {
      "text/html": [
       "<div>\n",
       "<style scoped>\n",
       "    .dataframe tbody tr th:only-of-type {\n",
       "        vertical-align: middle;\n",
       "    }\n",
       "\n",
       "    .dataframe tbody tr th {\n",
       "        vertical-align: top;\n",
       "    }\n",
       "\n",
       "    .dataframe thead th {\n",
       "        text-align: right;\n",
       "    }\n",
       "</style>\n",
       "<table border=\"1\" class=\"dataframe\">\n",
       "  <thead>\n",
       "    <tr style=\"text-align: right;\">\n",
       "      <th></th>\n",
       "      <th>analysis</th>\n",
       "      <th>amk</th>\n",
       "      <th>amk cutoff</th>\n",
       "      <th>imputed mk</th>\n",
       "      <th>imputed mk high frequencies</th>\n",
       "      <th>true alpha</th>\n",
       "    </tr>\n",
       "  </thead>\n",
       "  <tbody>\n",
       "    <tr>\n",
       "      <th>0</th>\n",
       "      <td>Nes500_pA0.0001_shape0.2</td>\n",
       "      <td>0.126</td>\n",
       "      <td>0.130</td>\n",
       "      <td>0.041</td>\n",
       "      <td>0.038</td>\n",
       "      <td>0.163</td>\n",
       "    </tr>\n",
       "    <tr>\n",
       "      <th>1</th>\n",
       "      <td>Nes500_pA0.0001_shape0.3</td>\n",
       "      <td>0.253</td>\n",
       "      <td>0.258</td>\n",
       "      <td>0.118</td>\n",
       "      <td>0.114</td>\n",
       "      <td>0.282</td>\n",
       "    </tr>\n",
       "    <tr>\n",
       "      <th>2</th>\n",
       "      <td>Nes50_pA0.001_shape0.2</td>\n",
       "      <td>0.126</td>\n",
       "      <td>0.130</td>\n",
       "      <td>0.041</td>\n",
       "      <td>0.038</td>\n",
       "      <td>0.163</td>\n",
       "    </tr>\n",
       "    <tr>\n",
       "      <th>3</th>\n",
       "      <td>Nes50_pA0.001_shape0.3</td>\n",
       "      <td>0.227</td>\n",
       "      <td>0.236</td>\n",
       "      <td>0.136</td>\n",
       "      <td>0.133</td>\n",
       "      <td>0.337</td>\n",
       "    </tr>\n",
       "    <tr>\n",
       "      <th>4</th>\n",
       "      <td>noDemog_0.4_0.1_0.999</td>\n",
       "      <td>0.314</td>\n",
       "      <td>0.323</td>\n",
       "      <td>0.294</td>\n",
       "      <td>0.295</td>\n",
       "      <td>0.401</td>\n",
       "    </tr>\n",
       "    <tr>\n",
       "      <th>5</th>\n",
       "      <td>noDemog_0.4_0.2_0.999</td>\n",
       "      <td>0.245</td>\n",
       "      <td>0.259</td>\n",
       "      <td>0.251</td>\n",
       "      <td>0.254</td>\n",
       "      <td>0.386</td>\n",
       "    </tr>\n",
       "    <tr>\n",
       "      <th>6</th>\n",
       "      <td>noDemog_0.4_0.3_0.999</td>\n",
       "      <td>0.205</td>\n",
       "      <td>0.213</td>\n",
       "      <td>0.206</td>\n",
       "      <td>0.209</td>\n",
       "      <td>0.370</td>\n",
       "    </tr>\n",
       "  </tbody>\n",
       "</table>\n",
       "</div>"
      ],
      "text/plain": [
       "                   analysis    amk  amk cutoff  imputed mk  \\\n",
       "0  Nes500_pA0.0001_shape0.2  0.126       0.130       0.041   \n",
       "1  Nes500_pA0.0001_shape0.3  0.253       0.258       0.118   \n",
       "2    Nes50_pA0.001_shape0.2  0.126       0.130       0.041   \n",
       "3    Nes50_pA0.001_shape0.3  0.227       0.236       0.136   \n",
       "4     noDemog_0.4_0.1_0.999  0.314       0.323       0.294   \n",
       "5     noDemog_0.4_0.2_0.999  0.245       0.259       0.251   \n",
       "6     noDemog_0.4_0.3_0.999  0.205       0.213       0.206   \n",
       "\n",
       "   imputed mk high frequencies  true alpha  \n",
       "0                        0.038       0.163  \n",
       "1                        0.114       0.282  \n",
       "2                        0.038       0.163  \n",
       "3                        0.133       0.337  \n",
       "4                        0.295       0.401  \n",
       "5                        0.254       0.386  \n",
       "6                        0.209       0.370  "
      ]
     },
     "execution_count": 5,
     "metadata": {},
     "output_type": "execute_result"
    }
   ],
   "source": [
    "alphaCompare"
   ]
  },
  {
   "cell_type": "markdown",
   "metadata": {},
   "source": [
    "Respecto a la imputación de los alelos a punto de fijarse, en muchos casos el resultado es equivalente o ligeramente más elevado. Cuando es equivalente es debido a que la ratio $P_i/P_0$ encima del umbral escogido es menor que la ratio intermedia. Esto nos puede decir que el decrecimiento de $\\alpha_x$ a elevadas frecuencias no únicamente se debe a una acumulación de alelos seleccionados, sino que posiblemente por LD, también en alelos neutros. Esto explicaría por un lado el decrecimiento de $\\alpha_x$ y en segundo lugar por qué la ratio $P_i/P_0$ no es mayor que en frecuencias intermedias a pesar de dicho decrecimiento en algunas simulaciones.\n"
   ]
  },
  {
   "cell_type": "code",
   "execution_count": 6,
   "metadata": {},
   "outputs": [
    {
     "data": {
      "text/html": [
       "<div>\n",
       "<style scoped>\n",
       "    .dataframe tbody tr th:only-of-type {\n",
       "        vertical-align: middle;\n",
       "    }\n",
       "\n",
       "    .dataframe tbody tr th {\n",
       "        vertical-align: top;\n",
       "    }\n",
       "\n",
       "    .dataframe thead th {\n",
       "        text-align: right;\n",
       "    }\n",
       "</style>\n",
       "<table border=\"1\" class=\"dataframe\">\n",
       "  <thead>\n",
       "    <tr style=\"text-align: right;\">\n",
       "      <th></th>\n",
       "      <th>analysis</th>\n",
       "      <th>cutoff</th>\n",
       "      <th>pi</th>\n",
       "      <th>piNeutral</th>\n",
       "      <th>p0</th>\n",
       "      <th>piLow/p0Low</th>\n",
       "      <th>piInter/p0Inter</th>\n",
       "      <th>piHigh/p0High</th>\n",
       "      <th>di</th>\n",
       "      <th>d0</th>\n",
       "    </tr>\n",
       "  </thead>\n",
       "  <tbody>\n",
       "    <tr>\n",
       "      <th>0</th>\n",
       "      <td>Nes500_pA0.0001_shape0.2</td>\n",
       "      <td>[0.15-1]</td>\n",
       "      <td>139515.0</td>\n",
       "      <td>105652.206</td>\n",
       "      <td>239147.0</td>\n",
       "      <td>0.684</td>\n",
       "      <td>0.442</td>\n",
       "      <td>nan</td>\n",
       "      <td>411520.0</td>\n",
       "      <td>893401.0</td>\n",
       "    </tr>\n",
       "    <tr>\n",
       "      <th>1</th>\n",
       "      <td>Nes500_pA0.0001_shape0.2</td>\n",
       "      <td>[0.15-0.9]</td>\n",
       "      <td>139515.0</td>\n",
       "      <td>105932.963</td>\n",
       "      <td>239147.0</td>\n",
       "      <td>0.684</td>\n",
       "      <td>0.444</td>\n",
       "      <td>0.407</td>\n",
       "      <td>411520.0</td>\n",
       "      <td>893401.0</td>\n",
       "    </tr>\n",
       "    <tr>\n",
       "      <th>2</th>\n",
       "      <td>Nes500_pA0.0001_shape0.3</td>\n",
       "      <td>[0.15-1]</td>\n",
       "      <td>87650.0</td>\n",
       "      <td>55726.264</td>\n",
       "      <td>238271.0</td>\n",
       "      <td>0.465</td>\n",
       "      <td>0.234</td>\n",
       "      <td>nan</td>\n",
       "      <td>237109.0</td>\n",
       "      <td>893813.0</td>\n",
       "    </tr>\n",
       "    <tr>\n",
       "      <th>3</th>\n",
       "      <td>Nes500_pA0.0001_shape0.3</td>\n",
       "      <td>[0.15-0.9]</td>\n",
       "      <td>87650.0</td>\n",
       "      <td>56032.726</td>\n",
       "      <td>238271.0</td>\n",
       "      <td>0.465</td>\n",
       "      <td>0.236</td>\n",
       "      <td>0.196</td>\n",
       "      <td>237109.0</td>\n",
       "      <td>893813.0</td>\n",
       "    </tr>\n",
       "    <tr>\n",
       "      <th>4</th>\n",
       "      <td>Nes50_pA0.001_shape0.2</td>\n",
       "      <td>[0.15-1]</td>\n",
       "      <td>139515.0</td>\n",
       "      <td>105652.206</td>\n",
       "      <td>239147.0</td>\n",
       "      <td>0.684</td>\n",
       "      <td>0.442</td>\n",
       "      <td>nan</td>\n",
       "      <td>411520.0</td>\n",
       "      <td>893401.0</td>\n",
       "    </tr>\n",
       "    <tr>\n",
       "      <th>5</th>\n",
       "      <td>Nes50_pA0.001_shape0.2</td>\n",
       "      <td>[0.15-0.9]</td>\n",
       "      <td>139515.0</td>\n",
       "      <td>105932.963</td>\n",
       "      <td>239147.0</td>\n",
       "      <td>0.684</td>\n",
       "      <td>0.444</td>\n",
       "      <td>0.407</td>\n",
       "      <td>411520.0</td>\n",
       "      <td>893401.0</td>\n",
       "    </tr>\n",
       "    <tr>\n",
       "      <th>6</th>\n",
       "      <td>Nes50_pA0.001_shape0.3</td>\n",
       "      <td>[0.15-1]</td>\n",
       "      <td>92135.0</td>\n",
       "      <td>60064.86</td>\n",
       "      <td>251740.0</td>\n",
       "      <td>0.462</td>\n",
       "      <td>0.239</td>\n",
       "      <td>nan</td>\n",
       "      <td>245603.0</td>\n",
       "      <td>889739.0</td>\n",
       "    </tr>\n",
       "    <tr>\n",
       "      <th>7</th>\n",
       "      <td>Nes50_pA0.001_shape0.3</td>\n",
       "      <td>[0.15-0.9]</td>\n",
       "      <td>92135.0</td>\n",
       "      <td>60226.95</td>\n",
       "      <td>251740.0</td>\n",
       "      <td>0.462</td>\n",
       "      <td>0.24</td>\n",
       "      <td>0.22</td>\n",
       "      <td>245603.0</td>\n",
       "      <td>889739.0</td>\n",
       "    </tr>\n",
       "    <tr>\n",
       "      <th>8</th>\n",
       "      <td>noDemog_0.4_0.1_0.999</td>\n",
       "      <td>[0.15-1]</td>\n",
       "      <td>295093.0</td>\n",
       "      <td>174498.5</td>\n",
       "      <td>179719.0</td>\n",
       "      <td>1.856</td>\n",
       "      <td>0.971</td>\n",
       "      <td>nan</td>\n",
       "      <td>3747559.0</td>\n",
       "      <td>2724423.0</td>\n",
       "    </tr>\n",
       "    <tr>\n",
       "      <th>9</th>\n",
       "      <td>noDemog_0.4_0.1_0.999</td>\n",
       "      <td>[0.15-0.9]</td>\n",
       "      <td>295093.0</td>\n",
       "      <td>174217.132</td>\n",
       "      <td>179719.0</td>\n",
       "      <td>1.856</td>\n",
       "      <td>0.969</td>\n",
       "      <td>1.001</td>\n",
       "      <td>3747559.0</td>\n",
       "      <td>2724423.0</td>\n",
       "    </tr>\n",
       "    <tr>\n",
       "      <th>10</th>\n",
       "      <td>noDemog_0.4_0.2_0.999</td>\n",
       "      <td>[0.15-1]</td>\n",
       "      <td>297362.0</td>\n",
       "      <td>180452.163</td>\n",
       "      <td>181723.0</td>\n",
       "      <td>1.825</td>\n",
       "      <td>0.996</td>\n",
       "      <td>nan</td>\n",
       "      <td>3612881.0</td>\n",
       "      <td>2726576.0</td>\n",
       "    </tr>\n",
       "    <tr>\n",
       "      <th>11</th>\n",
       "      <td>noDemog_0.4_0.2_0.999</td>\n",
       "      <td>[0.15-0.9]</td>\n",
       "      <td>297362.0</td>\n",
       "      <td>179708.551</td>\n",
       "      <td>181723.0</td>\n",
       "      <td>1.825</td>\n",
       "      <td>0.992</td>\n",
       "      <td>1.069</td>\n",
       "      <td>3612881.0</td>\n",
       "      <td>2726576.0</td>\n",
       "    </tr>\n",
       "    <tr>\n",
       "      <th>12</th>\n",
       "      <td>noDemog_0.4_0.3_0.999</td>\n",
       "      <td>[0.15-1]</td>\n",
       "      <td>299989.0</td>\n",
       "      <td>185572.671</td>\n",
       "      <td>182733.0</td>\n",
       "      <td>1.826</td>\n",
       "      <td>1.018</td>\n",
       "      <td>nan</td>\n",
       "      <td>3488561.0</td>\n",
       "      <td>2727914.0</td>\n",
       "    </tr>\n",
       "    <tr>\n",
       "      <th>13</th>\n",
       "      <td>noDemog_0.4_0.3_0.999</td>\n",
       "      <td>[0.15-0.9]</td>\n",
       "      <td>299989.0</td>\n",
       "      <td>184812.994</td>\n",
       "      <td>182733.0</td>\n",
       "      <td>1.826</td>\n",
       "      <td>1.014</td>\n",
       "      <td>1.09</td>\n",
       "      <td>3488561.0</td>\n",
       "      <td>2727914.0</td>\n",
       "    </tr>\n",
       "  </tbody>\n",
       "</table>\n",
       "</div>"
      ],
      "text/plain": [
       "                    analysis      cutoff        pi   piNeutral        p0  \\\n",
       "0   Nes500_pA0.0001_shape0.2    [0.15-1]  139515.0  105652.206  239147.0   \n",
       "1   Nes500_pA0.0001_shape0.2  [0.15-0.9]  139515.0  105932.963  239147.0   \n",
       "2   Nes500_pA0.0001_shape0.3    [0.15-1]   87650.0   55726.264  238271.0   \n",
       "3   Nes500_pA0.0001_shape0.3  [0.15-0.9]   87650.0   56032.726  238271.0   \n",
       "4     Nes50_pA0.001_shape0.2    [0.15-1]  139515.0  105652.206  239147.0   \n",
       "5     Nes50_pA0.001_shape0.2  [0.15-0.9]  139515.0  105932.963  239147.0   \n",
       "6     Nes50_pA0.001_shape0.3    [0.15-1]   92135.0    60064.86  251740.0   \n",
       "7     Nes50_pA0.001_shape0.3  [0.15-0.9]   92135.0    60226.95  251740.0   \n",
       "8      noDemog_0.4_0.1_0.999    [0.15-1]  295093.0    174498.5  179719.0   \n",
       "9      noDemog_0.4_0.1_0.999  [0.15-0.9]  295093.0  174217.132  179719.0   \n",
       "10     noDemog_0.4_0.2_0.999    [0.15-1]  297362.0  180452.163  181723.0   \n",
       "11     noDemog_0.4_0.2_0.999  [0.15-0.9]  297362.0  179708.551  181723.0   \n",
       "12     noDemog_0.4_0.3_0.999    [0.15-1]  299989.0  185572.671  182733.0   \n",
       "13     noDemog_0.4_0.3_0.999  [0.15-0.9]  299989.0  184812.994  182733.0   \n",
       "\n",
       "   piLow/p0Low piInter/p0Inter piHigh/p0High         di         d0  \n",
       "0        0.684           0.442           nan   411520.0   893401.0  \n",
       "1        0.684           0.444         0.407   411520.0   893401.0  \n",
       "2        0.465           0.234           nan   237109.0   893813.0  \n",
       "3        0.465           0.236         0.196   237109.0   893813.0  \n",
       "4        0.684           0.442           nan   411520.0   893401.0  \n",
       "5        0.684           0.444         0.407   411520.0   893401.0  \n",
       "6        0.462           0.239           nan   245603.0   889739.0  \n",
       "7        0.462            0.24          0.22   245603.0   889739.0  \n",
       "8        1.856           0.971           nan  3747559.0  2724423.0  \n",
       "9        1.856           0.969         1.001  3747559.0  2724423.0  \n",
       "10       1.825           0.996           nan  3612881.0  2726576.0  \n",
       "11       1.825           0.992         1.069  3612881.0  2726576.0  \n",
       "12       1.826           1.018           nan  3488561.0  2727914.0  \n",
       "13       1.826           1.014          1.09  3488561.0  2727914.0  "
      ]
     },
     "execution_count": 6,
     "metadata": {},
     "output_type": "execute_result"
    }
   ],
   "source": [
    "data"
   ]
  },
  {
   "cell_type": "markdown",
   "metadata": {},
   "source": [
    "En los casos donde la ratio $P_i/P_0$ se comporta según nuestras premisas, si conseguimos un aumento  $\\alpha$. Ahora bien, teniendo que el método imputedMK trabaja al igual que la aproximación original (números crudos de $P_i$, $P_0$, $D_i$ y $D_0$ corregidos), a no ser que la acumulación a elevadas frecuencias sea muy elevada, la correción es mínima. La correción del aMK cuando se eliminan frecuencias altas tampoco es remarcable."
   ]
  },
  {
   "cell_type": "code",
   "execution_count": 7,
   "metadata": {},
   "outputs": [
    {
     "data": {
      "image/png": "[encoded data removed]",
      "text/plain": [
       "<Figure size 1000x700 with 4 Axes>"
      ]
     },
     "metadata": {},
     "output_type": "display_data"
    },
    {
     "data": {
      "text/plain": [
       "<ggplot: (8763245595944)>"
      ]
     },
     "execution_count": 7,
     "metadata": {},
     "output_type": "execute_result"
    }
   ],
   "source": [
    "plt.options.figure_size = (10,7)\n",
    "ggplot(dataPlot[dataPlot.analysis.str.contains('shape')]) + geom_line(aes(x='f',y='alpha'),colour='#ab2710') + facet_wrap('~analysis',ncol=2)"
   ]
  },
  {
   "cell_type": "code",
   "execution_count": 7,
   "metadata": {},
   "outputs": [
    {
     "data": {
      "image/png": "[encoded data removed]",
      "text/plain": [
       "<Figure size 1000x400 with 3 Axes>"
      ]
     },
     "metadata": {},
     "output_type": "display_data"
    },
    {
     "data": {
      "text/plain": [
       "<ggplot: (8781160113405)>"
      ]
     },
     "execution_count": 7,
     "metadata": {},
     "output_type": "execute_result"
    }
   ],
   "source": [
    "plt.options.figure_size = (10,4)\n",
    "ggplot(dataPlot[dataPlot.analysis.str.contains('noDemog')]) + geom_line(aes(x='f',y='alpha'),colour='#ab2710') + facet_wrap('~analysis',ncol=3)"
   ]
  }
 ],
 "metadata": {
  "kernelspec": {
   "display_name": "Python 3",
   "language": "python",
   "name": "python3"
  },
  "language_info": {
   "codemirror_mode": {
    "name": "ipython",
    "version": 3
   },
   "file_extension": ".py",
   "mimetype": "text/x-python",
   "name": "python",
   "nbconvert_exporter": "python",
   "pygments_lexer": "ipython3",
   "version": "3.8.5"
  }
 },
 "nbformat": 4,
 "nbformat_minor": 4
}
