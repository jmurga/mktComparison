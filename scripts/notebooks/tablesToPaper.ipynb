{
 "cells": [
  {
   "cell_type": "code",
   "execution_count": 16,
   "metadata": {},
   "outputs": [
    {
     "name": "stderr",
     "output_type": "stream",
     "text": [
      "\n",
      "Attaching package: ‘data.table’\n",
      "\n",
      "The following objects are masked from ‘package:reshape2’:\n",
      "\n",
      "    dcast, melt\n",
      "\n",
      "The following objects are masked from ‘package:dplyr’:\n",
      "\n",
      "    between, first, last\n",
      "\n"
     ]
    }
   ],
   "source": [
    "library(dplyr)\n",
    "library(reshape2)\n",
    "library(data.table)"
   ]
  },
  {
   "cell_type": "markdown",
   "metadata": {},
   "source": [
    "### RAL concatenation table. Including analyzable genes, mean and sd by binned categories"
   ]
  },
  {
   "cell_type": "code",
   "execution_count": 1,
   "metadata": {},
   "outputs": [],
   "source": [
    "ralConcat <- lapply(list.files(pattern=\"*RAL*\",include.dirs=T,full.names=T,path='/home/jmurga/mktComparison/results/concatenation'),load,.GlobalEnv)"
   ]
  },
  {
   "cell_type": "code",
   "execution_count": 2,
   "metadata": {},
   "outputs": [],
   "source": [
    "dataPlot<- rbind(outputRAL1,\n",
    "                outputRAL2,\n",
    "                outputRAL5,\n",
    "                outputRAL10,\n",
    "                outputRAL25,\n",
    "                outputRAL50,\n",
    "                outputRAL75,\n",
    "                outputRAL100,\n",
    "                outputRAL250,\n",
    "                outputRAL500,\n",
    "                outputRAL750,\n",
    "                outputRAL1000)\n",
    "\n",
    "dataPlot[['bins']] <- factor(dataPlot[['bins']], levels = unique(dataPlot$bin))"
   ]
  },
  {
   "cell_type": "code",
   "execution_count": 31,
   "metadata": {},
   "outputs": [
    {
     "data": {
      "text/html": [
       "<table>\n",
       "<thead><tr><th scope=col>bins</th><th scope=col>meanSd</th><th scope=col>all</th></tr></thead>\n",
       "<tbody>\n",
       "\t<tr><td>1             </td><td>0.856 (±0)    </td><td>5/3500        </td></tr>\n",
       "\t<tr><td>2             </td><td>0.629 (±0.247)</td><td>10/3500       </td></tr>\n",
       "\t<tr><td>5             </td><td>0.493 (±0.394)</td><td>116/3500      </td></tr>\n",
       "\t<tr><td>10            </td><td>0.52 (±0.286) </td><td>677/3500      </td></tr>\n",
       "\t<tr><td>25            </td><td>0.53 (±0.193) </td><td>2535/3500     </td></tr>\n",
       "\t<tr><td>50            </td><td>0.553 (±0.124)</td><td>3233/3500     </td></tr>\n",
       "\t<tr><td>75            </td><td>0.568 (±0.095)</td><td>3398/3500     </td></tr>\n",
       "\t<tr><td>100           </td><td>0.574 (±0.081)</td><td>3449/3500     </td></tr>\n",
       "\t<tr><td>250           </td><td>0.586 (±0.051)</td><td>3500/3500     </td></tr>\n",
       "\t<tr><td>500           </td><td>0.591 (±0.035)</td><td>3500/3500     </td></tr>\n",
       "\t<tr><td>750           </td><td>0.593 (±0.028)</td><td>3500/3500     </td></tr>\n",
       "\t<tr><td>1000          </td><td>0.594 (±0.024)</td><td>3500/3500     </td></tr>\n",
       "</tbody>\n",
       "</table>\n"
      ],
      "text/latex": [
       "\\begin{tabular}{r|lll}\n",
       " bins & meanSd & all\\\\\n",
       "\\hline\n",
       "\t 1              & 0.856 (±0)     & 5/3500        \\\\\n",
       "\t 2              & 0.629 (±0.247) & 10/3500       \\\\\n",
       "\t 5              & 0.493 (±0.394) & 116/3500      \\\\\n",
       "\t 10             & 0.52 (±0.286)  & 677/3500      \\\\\n",
       "\t 25             & 0.53 (±0.193)  & 2535/3500     \\\\\n",
       "\t 50             & 0.553 (±0.124) & 3233/3500     \\\\\n",
       "\t 75             & 0.568 (±0.095) & 3398/3500     \\\\\n",
       "\t 100            & 0.574 (±0.081) & 3449/3500     \\\\\n",
       "\t 250            & 0.586 (±0.051) & 3500/3500     \\\\\n",
       "\t 500            & 0.591 (±0.035) & 3500/3500     \\\\\n",
       "\t 750            & 0.593 (±0.028) & 3500/3500     \\\\\n",
       "\t 1000           & 0.594 (±0.024) & 3500/3500     \\\\\n",
       "\\end{tabular}\n"
      ],
      "text/markdown": [
       "\n",
       "bins | meanSd | all | \n",
       "|---|---|---|---|---|---|---|---|---|---|---|---|\n",
       "| 1              | 0.856 (±0)     | 5/3500         | \n",
       "| 2              | 0.629 (±0.247) | 10/3500        | \n",
       "| 5              | 0.493 (±0.394) | 116/3500       | \n",
       "| 10             | 0.52 (±0.286)  | 677/3500       | \n",
       "| 25             | 0.53 (±0.193)  | 2535/3500      | \n",
       "| 50             | 0.553 (±0.124) | 3233/3500      | \n",
       "| 75             | 0.568 (±0.095) | 3398/3500      | \n",
       "| 100            | 0.574 (±0.081) | 3449/3500      | \n",
       "| 250            | 0.586 (±0.051) | 3500/3500      | \n",
       "| 500            | 0.591 (±0.035) | 3500/3500      | \n",
       "| 750            | 0.593 (±0.028) | 3500/3500      | \n",
       "| 1000           | 0.594 (±0.024) | 3500/3500      | \n",
       "\n",
       "\n"
      ],
      "text/plain": [
       "   bins meanSd         all      \n",
       "1  1    0.856 (±0)     5/3500   \n",
       "2  2    0.629 (±0.247) 10/3500  \n",
       "3  5    0.493 (±0.394) 116/3500 \n",
       "4  10   0.52 (±0.286)  677/3500 \n",
       "5  25   0.53 (±0.193)  2535/3500\n",
       "6  50   0.553 (±0.124) 3233/3500\n",
       "7  75   0.568 (±0.095) 3398/3500\n",
       "8  100  0.574 (±0.081) 3449/3500\n",
       "9  250  0.586 (±0.051) 3500/3500\n",
       "10 500  0.591 (±0.035) 3500/3500\n",
       "11 750  0.593 (±0.028) 3500/3500\n",
       "12 1000 0.594 (±0.024) 3500/3500"
      ]
     },
     "metadata": {},
     "output_type": "display_data"
    }
   ],
   "source": [
    "ralConcatTableToPaper <- dataPlot %>% group_by(bins) %>% summarize(mean=round(mean(alphaAsymptotic1,na.rm=T),3),sd=round(sd(alphaAsymptotic1,na.rm=T),3),analyzable=sum(!is.na(alphaAsymptotic1))) %>% mutate(meanSd=paste0(mean,' (±',sd,')'),all=paste0(analyzable,'/3500')) %>% select(bins,meanSd,all)\n",
    "\n",
    "ralConcatTableToPaper"
   ]
  },
  {
   "cell_type": "code",
   "execution_count": 32,
   "metadata": {},
   "outputs": [],
   "source": [
    "fwrite(ralConcatTableToPaper,file='/home/jmurga/mktComparison/results/concatenation/ralConcatTableToPaper.tab',sep='\\t')"
   ]
  },
  {
   "cell_type": "markdown",
   "metadata": {},
   "source": [
    "### CEU concatenation table. Including analyzable genes, mean and sd by binned categories"
   ]
  },
  {
   "cell_type": "code",
   "execution_count": 35,
   "metadata": {},
   "outputs": [],
   "source": [
    "ceuConcat <- lapply(list.files(pattern=\"*CEU*\",include.dirs=T,full.names=T,path='/home/jmurga/mktComparison/results/concatenation'),load,.GlobalEnv)"
   ]
  },
  {
   "cell_type": "code",
   "execution_count": 36,
   "metadata": {},
   "outputs": [],
   "source": [
    "dataPlot<- rbind(outputCEU1,\n",
    "                outputCEU2,\n",
    "                outputCEU5,\n",
    "                outputCEU10,\n",
    "                outputCEU25,\n",
    "                outputCEU50,\n",
    "                outputCEU75,\n",
    "                outputCEU100,\n",
    "                outputCEU250,\n",
    "                outputCEU500,\n",
    "                outputCEU750,\n",
    "                outputCEU1000)\n",
    "\n",
    "dataPlot[['bins']] <- factor(dataPlot[['bins']], levels = unique(dataPlot$bin))"
   ]
  },
  {
   "cell_type": "code",
   "execution_count": 40,
   "metadata": {},
   "outputs": [
    {
     "data": {
      "text/html": [
       "<table>\n",
       "<thead><tr><th scope=col>bins</th><th scope=col>meanSd</th><th scope=col>all</th></tr></thead>\n",
       "<tbody>\n",
       "\t<tr><td>1              </td><td>NaN (±NA)      </td><td>0/3500         </td></tr>\n",
       "\t<tr><td>2              </td><td>NaN (±NA)      </td><td>0/3500         </td></tr>\n",
       "\t<tr><td>5              </td><td>NaN (±NA)      </td><td>0/3500         </td></tr>\n",
       "\t<tr><td>10             </td><td>NaN (±NA)      </td><td>0/3500         </td></tr>\n",
       "\t<tr><td>25             </td><td>NaN (±NA)      </td><td>0/3500         </td></tr>\n",
       "\t<tr><td>50             </td><td>0.476 (±NA)    </td><td>1/3500         </td></tr>\n",
       "\t<tr><td>75             </td><td>0.121 (±0.627) </td><td>17/3500        </td></tr>\n",
       "\t<tr><td>100            </td><td>0.137 (±0.413) </td><td>87/3500        </td></tr>\n",
       "\t<tr><td>250            </td><td>-0.195 (±0.419)</td><td>1100/3500      </td></tr>\n",
       "\t<tr><td>500            </td><td>-0.094 (±0.298)</td><td>1511/3500      </td></tr>\n",
       "\t<tr><td>750            </td><td>-0.024 (±0.19) </td><td>1659/3500      </td></tr>\n",
       "\t<tr><td>1000           </td><td>0.004 (±0.161) </td><td>1758/3500      </td></tr>\n",
       "</tbody>\n",
       "</table>\n"
      ],
      "text/latex": [
       "\\begin{tabular}{r|lll}\n",
       " bins & meanSd & all\\\\\n",
       "\\hline\n",
       "\t 1               & NaN (±NA)       & 0/3500         \\\\\n",
       "\t 2               & NaN (±NA)       & 0/3500         \\\\\n",
       "\t 5               & NaN (±NA)       & 0/3500         \\\\\n",
       "\t 10              & NaN (±NA)       & 0/3500         \\\\\n",
       "\t 25              & NaN (±NA)       & 0/3500         \\\\\n",
       "\t 50              & 0.476 (±NA)     & 1/3500         \\\\\n",
       "\t 75              & 0.121 (±0.627)  & 17/3500        \\\\\n",
       "\t 100             & 0.137 (±0.413)  & 87/3500        \\\\\n",
       "\t 250             & -0.195 (±0.419) & 1100/3500      \\\\\n",
       "\t 500             & -0.094 (±0.298) & 1511/3500      \\\\\n",
       "\t 750             & -0.024 (±0.19)  & 1659/3500      \\\\\n",
       "\t 1000            & 0.004 (±0.161)  & 1758/3500      \\\\\n",
       "\\end{tabular}\n"
      ],
      "text/markdown": [
       "\n",
       "bins | meanSd | all | \n",
       "|---|---|---|---|---|---|---|---|---|---|---|---|\n",
       "| 1               | NaN (±NA)       | 0/3500          | \n",
       "| 2               | NaN (±NA)       | 0/3500          | \n",
       "| 5               | NaN (±NA)       | 0/3500          | \n",
       "| 10              | NaN (±NA)       | 0/3500          | \n",
       "| 25              | NaN (±NA)       | 0/3500          | \n",
       "| 50              | 0.476 (±NA)     | 1/3500          | \n",
       "| 75              | 0.121 (±0.627)  | 17/3500         | \n",
       "| 100             | 0.137 (±0.413)  | 87/3500         | \n",
       "| 250             | -0.195 (±0.419) | 1100/3500       | \n",
       "| 500             | -0.094 (±0.298) | 1511/3500       | \n",
       "| 750             | -0.024 (±0.19)  | 1659/3500       | \n",
       "| 1000            | 0.004 (±0.161)  | 1758/3500       | \n",
       "\n",
       "\n"
      ],
      "text/plain": [
       "   bins meanSd          all      \n",
       "1  1    NaN (±NA)       0/3500   \n",
       "2  2    NaN (±NA)       0/3500   \n",
       "3  5    NaN (±NA)       0/3500   \n",
       "4  10   NaN (±NA)       0/3500   \n",
       "5  25   NaN (±NA)       0/3500   \n",
       "6  50   0.476 (±NA)     1/3500   \n",
       "7  75   0.121 (±0.627)  17/3500  \n",
       "8  100  0.137 (±0.413)  87/3500  \n",
       "9  250  -0.195 (±0.419) 1100/3500\n",
       "10 500  -0.094 (±0.298) 1511/3500\n",
       "11 750  -0.024 (±0.19)  1659/3500\n",
       "12 1000 0.004 (±0.161)  1758/3500"
      ]
     },
     "metadata": {},
     "output_type": "display_data"
    }
   ],
   "source": [
    "ceuConcatTableToPaper <- dataPlot %>% group_by(bins) %>% summarize(mean=round(mean(alphaAsymptotic1,na.rm=T),3),sd=round(sd(alphaAsymptotic1,na.rm=T),3),analyzable=sum(!is.na(alphaAsymptotic1))) %>% mutate(meanSd=paste0(mean,' (±',sd,')'),all=paste0(analyzable,'/3500')) %>% select(bins,meanSd,all)\n",
    "\n",
    "ceuConcatTableToPaper"
   ]
  },
  {
   "cell_type": "code",
   "execution_count": 41,
   "metadata": {},
   "outputs": [],
   "source": [
    "fwrite(ceuConcatTableToPaper,file='/home/jmurga/mktComparison/results/concatenation/ceuConcatTableToPaper.tab',sep='\\t')"
   ]
  },
  {
   "cell_type": "markdown",
   "metadata": {},
   "source": [
    "### Alpha table"
   ]
  },
  {
   "cell_type": "markdown",
   "metadata": {},
   "source": [
    "Python code"
   ]
  },
  {
   "cell_type": "code",
   "execution_count": 71,
   "metadata": {},
   "outputs": [],
   "source": [
    "df <- fread('/home/jmurga/mktComparison/results/alphaTables/alphaTableV2.tab',sep='\\t')\n",
    "# dfPivoted = df.pivot_table(index=['pop','type'],columns='test', values=['N','mean','sd']) \n"
   ]
  }
 ],
 "metadata": {
  "kernelspec": {
   "display_name": "R",
   "language": "R",
   "name": "ir"
  },
  "language_info": {
   "codemirror_mode": "r",
   "file_extension": ".r",
   "mimetype": "text/x-r-source",
   "name": "R",
   "pygments_lexer": "r",
   "version": "3.5.1"
  }
 },
 "nbformat": 4,
 "nbformat_minor": 2
}
