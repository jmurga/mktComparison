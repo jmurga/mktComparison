{
 "cells": [
  {
   "cell_type": "code",
   "execution_count": null,
   "metadata": {},
   "outputs": [],
   "source": [
    "library(dplyr)\n",
    "library(reshape2)\n",
    "library(data.table)"
   ]
  },
  {
   "cell_type": "markdown",
   "metadata": {},
   "source": [
    "### RAL concatenation table. Including analyzable genes, mean and sd by binned categories"
   ]
  },
  {
   "cell_type": "code",
   "execution_count": null,
   "metadata": {},
   "outputs": [],
   "source": [
    "ralConcat <- lapply(list.files(pattern=\"*RAL*\",include.dirs=T,full.names=T,path='/home/jmurga/mktComparison/results/concatenation'),load,.GlobalEnv)\n",
    "dataPlot<- rbind(outputRAL1,\n",
    "                outputRAL2,\n",
    "                outputRAL5,\n",
    "                outputRAL10,\n",
    "                outputRAL25,\n",
    "                outputRAL50,\n",
    "                outputRAL75,\n",
    "                outputRAL100,\n",
    "                outputRAL250,\n",
    "                outputRAL500,\n",
    "                outputRAL750,\n",
    "                outputRAL1000)\n",
    "\n",
    "dataPlot[['bins']] <- factor(dataPlot[['bins']], levels = unique(dataPlot$bin))"
   ]
  },
  {
   "cell_type": "code",
   "execution_count": null,
   "metadata": {},
   "outputs": [],
   "source": [
    "dataPlot<- rbind(outputRAL1,\n",
    "                outputRAL2,\n",
    "                outputRAL5,\n",
    "                outputRAL10,\n",
    "                outputRAL25,\n",
    "                outputRAL50,\n",
    "                outputRAL75,\n",
    "                outputRAL100,\n",
    "                outputRAL250,\n",
    "                outputRAL500,\n",
    "                outputRAL750,\n",
    "                outputRAL1000)\n",
    "\n",
    "dataPlot[['bins']] <- factor(dataPlot[['bins']], levels = unique(dataPlot$bin))"
   ]
  },
  {
   "cell_type": "code",
   "execution_count": null,
   "metadata": {},
   "outputs": [],
   "source": [
    "ralConcatTableToPaper <- dataPlot %>% group_by(bins) %>% summarize(mean=round(mean(alphaAsymptotic1,na.rm=T),3),sd=round(sd(alphaAsymptotic1,na.rm=T),3),analyzable=sum(!is.na(alphaAsymptotic1))) %>% mutate(meanSd=paste0(mean,' (±',sd,')'),all=paste0(analyzable,'/3500')) %>% select(bins,meanSd,all)\n",
    "\n",
    "ralConcatTableToPaper"
   ]
  },
  {
   "cell_type": "code",
   "execution_count": null,
   "metadata": {},
   "outputs": [],
   "source": [
    "fwrite(ralConcatTableToPaper,file='/home/jmurga/mktComparison/results/concatenation/ralConcatTableToPaper.tab',sep='\\t')"
   ]
  },
  {
   "cell_type": "markdown",
   "metadata": {},
   "source": [
    "### CEU concatenation table. Including analyzable genes, mean and sd by binned categories"
   ]
  },
  {
   "cell_type": "code",
   "execution_count": null,
   "metadata": {},
   "outputs": [],
   "source": [
    "ceuConcat <- lapply(list.files(pattern=\"*CEU*\",include.dirs=T,full.names=T,path='/home/jmurga/mktComparison/results/concatenation'),load,.GlobalEnv)"
   ]
  },
  {
   "cell_type": "code",
   "execution_count": null,
   "metadata": {},
   "outputs": [],
   "source": [
    "dataPlot<- rbind(outputCEU1,\n",
    "                outputCEU2,\n",
    "                outputCEU5,\n",
    "                outputCEU10,\n",
    "                outputCEU25,\n",
    "                outputCEU50,\n",
    "                outputCEU75,\n",
    "                outputCEU100,\n",
    "                outputCEU250,\n",
    "                outputCEU500,\n",
    "                outputCEU750,\n",
    "                outputCEU1000)\n",
    "\n",
    "dataPlot[['bins']] <- factor(dataPlot[['bins']], levels = unique(dataPlot$bin))"
   ]
  },
  {
   "cell_type": "code",
   "execution_count": null,
   "metadata": {},
   "outputs": [],
   "source": [
    "ceuConcatTableToPaper <- dataPlot %>% group_by(bins) %>% summarize(mean=round(mean(alphaAsymptotic1,na.rm=T),3),sd=round(sd(alphaAsymptotic1,na.rm=T),3),analyzable=sum(!is.na(alphaAsymptotic1))) %>% mutate(meanSd=paste0(mean,' (±',sd,')'),all=paste0(analyzable,'/3500')) %>% select(bins,meanSd,all)\n",
    "\n",
    "ceuConcatTableToPaper"
   ]
  },
  {
   "cell_type": "code",
   "execution_count": null,
   "metadata": {},
   "outputs": [],
   "source": [
    "fwrite(ceuConcatTableToPaper,file='/home/jmurga/mktComparison/results/concatenation/ceuConcatTableToPaper.tab',sep='\\t')"
   ]
  },
  {
   "cell_type": "markdown",
   "metadata": {},
   "source": [
    "### Alpha table"
   ]
  },
  {
   "cell_type": "markdown",
   "metadata": {},
   "source": [
    "Python code"
   ]
  },
  {
   "cell_type": "code",
   "execution_count": null,
   "metadata": {},
   "outputs": [],
   "source": [
    "```python\n",
    "df = pd.read_csv('/home/jmurga/mktComparison/results/alphaTables/alphaTableV2.tab',sep='\\t')\n",
    "\n",
    "dfPivoted = round(df.pivot_table(index=['pop','type'],columns='test', values=['N','mean','sd']).fillna(0),3)\n",
    "\n",
    "dfPivoted.keys()\n",
    "\n",
    "\n",
    "dfN = dfPivoted['N'][['standardMKT','eMKT0.1','FWW0.1', 'aMKT']]\n",
    "dfMean = dfPivoted['mean'][['standardMKT','eMKT0.1','FWW0.1', 'aMKT']].astype(str) + ' (±'+ dfPivoted['sd'][['standardMKT','eMKT0.1','FWW0.1', 'aMKT']].astype(str) + ')'\n",
    "\n",
    "dfConcat=pd.concat([dfN,dfMean],axis=1)\n",
    "dfConcat.to_csv('/home/jmurga/mktComparison/results/alphaTables/alphaPivoted.tab',sep='\\t',na_rep=0,decimal=\",\") \n",
    "```"
   ]
  },
  {
   "cell_type": "markdown",
   "metadata": {},
   "source": [
    "#### Effect of recombination"
   ]
  },
  {
   "cell_type": "markdown",
   "metadata": {},
   "source": [
    "RAL"
   ]
  },
  {
   "cell_type": "code",
   "execution_count": null,
   "metadata": {},
   "outputs": [],
   "source": [
    "ralRecomb <- lapply(list.files(pattern=\"*Ral.RData\",include.dirs=T,full.names=T,path='/home/jmurga/mktComparison/results/concatenation/binRecomb'),load,.GlobalEnv)\n",
    "data <- fread('/home/jmurga/mktComparison/results/dsimDmelData.tab', header = T, sep = \"\\t\")\n",
    "data <- subset(data, data$pop == \"RAL\")\n",
    "\n",
    "quantiles <- with(data, cut(recomb, breaks=quantile(recomb,probs=seq(0,1, by=0.2), na.rm=TRUE), include.lowest=TRUE))\n"
   ]
  },
  {
   "cell_type": "code",
   "execution_count": null,
   "metadata": {},
   "outputs": [],
   "source": [
    "outputRec1RAL$group <- 1; outputRec2RAL$group <- 2; outputRec3RAL$group <- 3; outputRec4RAL$group <- 4; outputRec5RAL$group <- 5\n",
    "\n",
    "outputRecRAL <- rbind(outputRec1RAL,outputRec2RAL,outputRec3RAL,outputRec4RAL,outputRec5RAL)\n"
   ]
  },
  {
   "cell_type": "code",
   "execution_count": null,
   "metadata": {},
   "outputs": [],
   "source": [
    "ralRecombTable <- outputRecRAL %>% group_by(group) %>% summarize(meanAlphaStandard=round(mean(alphaStandard,na.rm=T),3),sdAlphaStandard=round(sd(alphaStandard,na.rm=T),3),\n",
    "\tmeanAlphaFww1=round(mean(alphaFww1,na.rm=T),3),sdAlphaFww1=round(sd(alphaFww1,na.rm=T),3),\n",
    "\tmeanAlphaFww2=round(mean(alphaFww2,na.rm=T),3),sdAlphaFww2=round(sd(alphaFww2,na.rm=T),3),meanAlphaEmkt1=round(mean(alphaEmkt1,na.rm=T),3),sdAlphaEmkt1=round(sd(alphaEmkt1,na.rm=T),3),\n",
    "\tmeanAlphaEmkt2=round(mean(alphaEmkt2,na.rm=T),3),sdAlphaEmkt2=round(sd(alphaEmkt2,na.rm=T),3),\n",
    "\tmeanAlphaAsymptotic1=round(mean(alphaAsymptotic1,na.rm=T),3),sdAlphaAsymptotic1=round(sd(alphaAsymptotic1,na.rm=T),3)) %>% \n",
    "\tmutate(\n",
    "\tmeanSdAlphaStandard=paste0(meanAlphaStandard,' (±',sdAlphaStandard,')'),\n",
    "\tmeanSdAlphaFww1=paste0(meanAlphaFww1,' (±',sdAlphaFww1,')'),\n",
    "\tmeanSdAlphaFww2=paste0(meanAlphaFww2,' (±',sdAlphaFww2,')'),\n",
    "\tmeanSdAlphaEmkt1=paste0(meanAlphaEmkt1,' (±',sdAlphaEmkt1,')'),\n",
    "\tmeanSdAlphaEmkt2=paste0(meanAlphaEmkt2,' (±',sdAlphaEmkt2,')'),\n",
    "\tmeanSdAlphaAsymptotic1=paste0(meanAlphaAsymptotic1,' (±',sdAlphaAsymptotic1,')')) %>% select(meanSdAlphaStandard,meanSdAlphaFww1,meanSdAlphaFww2,meanSdAlphaEmkt1,meanSdAlphaEmkt2,meanSdAlphaAsymptotic1)\n",
    "\n",
    "\t\n",
    "ralRecombTable$quantiles <- levels(quantiles)"
   ]
  },
  {
   "cell_type": "code",
   "execution_count": null,
   "metadata": {},
   "outputs": [],
   "source": [
    "fwrite(ralRecombTable,file='/home/jmurga/mktComparison/results/concatenation/binRecomb/ralRecombTable.tab',sep='\\t')"
   ]
  },
  {
   "cell_type": "markdown",
   "metadata": {},
   "source": [
    "CEU"
   ]
  },
  {
   "cell_type": "code",
   "execution_count": null,
   "metadata": {},
   "outputs": [],
   "source": [
    "ceuRecomb <- lapply(list.files(pattern=\"*Ceu.RData\",include.dirs=T,full.names=T,path='/home/jmurga/mktComparison/results/concatenation/binRecomb'),load,.GlobalEnv)\n",
    "data <- fread('/home/jmurga/mktComparison/results/humanData.tab', header = T, sep = \"\\t\")\n",
    "data <- subset(data, data$pop == \"CEU\")\n",
    "\n",
    "quantiles <- with(data, cut(recomb, breaks=quantile(recomb,probs=seq(0,1, by=0.2), na.rm=TRUE), include.lowest=TRUE))"
   ]
  },
  {
   "cell_type": "code",
   "execution_count": null,
   "metadata": {},
   "outputs": [],
   "source": [
    "outputRec1Ceu$group <- 1; outputRec2Ceu$group <- 2; outputRec3Ceu$group <- 3; outputRec4Ceu$group <- 4; outputRec5Ceu$group <- 5\n",
    "\n",
    "outputRecCeu <- rbind(outputRec1Ceu,outputRec2Ceu,outputRec3Ceu,outputRec4Ceu,outputRec5Ceu)\n",
    "\n",
    "\n"
   ]
  },
  {
   "cell_type": "code",
   "execution_count": null,
   "metadata": {},
   "outputs": [],
   "source": [
    "ceuRecombTable <- outputRecCeu %>% group_by(group) %>% summarize(meanAlphaStandard=round(mean(alphaStandard,na.rm=T),3),sdAlphaStandard=round(sd(alphaStandard,na.rm=T),3),\n",
    "\tmeanAlphaFww1=round(mean(alphaFww1,na.rm=T),3),sdAlphaFww1=round(sd(alphaFww1,na.rm=T),3),\n",
    "\tmeanAlphaFww2=round(mean(alphaFww2,na.rm=T),3),sdAlphaFww2=round(sd(alphaFww2,na.rm=T),3),meanAlphaEmkt1=round(mean(alphaEmkt1,na.rm=T),3),sdAlphaEmkt1=round(sd(alphaEmkt1,na.rm=T),3),\n",
    "\tmeanAlphaEmkt2=round(mean(alphaEmkt2,na.rm=T),3),sdAlphaEmkt2=round(sd(alphaEmkt2,na.rm=T),3),\n",
    "\tmeanAlphaAsymptotic1=round(mean(alphaAsymptotic1,na.rm=T),3),sdAlphaAsymptotic1=round(sd(alphaAsymptotic1,na.rm=T),3)) %>% \n",
    "\tmutate(\n",
    "\tmeanSdAlphaStandard=paste0(meanAlphaStandard,' (±',sdAlphaStandard,')'),\n",
    "\tmeanSdAlphaFww1=paste0(meanAlphaFww1,' (±',sdAlphaFww1,')'),\n",
    "\tmeanSdAlphaFww2=paste0(meanAlphaFww2,' (±',sdAlphaFww2,')'),\n",
    "\tmeanSdAlphaEmkt1=paste0(meanAlphaEmkt1,' (±',sdAlphaEmkt1,')'),\n",
    "\tmeanSdAlphaEmkt2=paste0(meanAlphaEmkt2,' (±',sdAlphaEmkt2,')'),\n",
    "\tmeanSdAlphaAsymptotic1=paste0(meanAlphaAsymptotic1,' (±',sdAlphaAsymptotic1,')')) %>% select(meanSdAlphaStandard,meanSdAlphaFww1,meanSdAlphaFww2,meanSdAlphaEmkt1,meanSdAlphaEmkt2,meanSdAlphaAsymptotic1)\n",
    "\n",
    "\t\n",
    "ceuRecombTable$quantiles <- levels(quantiles)"
   ]
  },
  {
   "cell_type": "code",
   "execution_count": null,
   "metadata": {},
   "outputs": [],
   "source": [
    "fwrite(ceuRecombTable,file='/home/jmurga/mktComparison/results/concatenation/binRecomb/ceuRecombTable.tab',sep='\\t')"
   ]
  }
 ],
 "metadata": {
  "kernelspec": {
   "display_name": "R",
   "language": "R",
   "name": "ir"
  },
  "language_info": {
   "codemirror_mode": "r",
   "file_extension": ".r",
   "mimetype": "text/x-r-source",
   "name": "R",
   "pygments_lexer": "r",
   "version": "3.5.1"
  }
 },
 "nbformat": 4,
 "nbformat_minor": 2
}
