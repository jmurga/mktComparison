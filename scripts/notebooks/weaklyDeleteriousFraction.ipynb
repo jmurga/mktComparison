{
 "cells": [
  {
   "cell_type": "code",
   "execution_count": null,
   "metadata": {
    "ExecuteTime": {
     "end_time": "2019-07-02T09:02:52.640628Z",
     "start_time": "2019-07-02T09:02:52.610Z"
    }
   },
   "outputs": [],
   "source": [
    "X11.options(type='Xlib')"
   ]
  },
  {
   "cell_type": "code",
   "execution_count": null,
   "metadata": {
    "ExecuteTime": {
     "end_time": "2019-07-02T09:20:38.332882Z",
     "start_time": "2019-07-02T09:20:38.302Z"
    },
    "scrolled": true
   },
   "outputs": [],
   "source": [
    "library(repr)\n",
    "library(iMKT)\n",
    "library(dplyr)  \n",
    "library(data.table)\n",
    "library(ggplot2)\n",
    "library(cowplot)\n",
    "source('/home/jmurga/mkt/201902/scripts/src/concatenation.R')\n",
    "source('/home/jmurga/mkt/201902/scripts/src/plotStyle.R')\n",
    "PopFlyData <- fread('/home/jmurga/mkt/201902/results/dmelData.tab', header = T, sep = \"\\t\")\n",
    "PopHumanData <- fread('/home/jmurga/mkt/201902/results/humanData.tab', header = T, sep = \"\\t\")"
   ]
  },
  {
   "cell_type": "code",
   "execution_count": null,
   "metadata": {
    "ExecuteTime": {
     "end_time": "2019-07-02T09:20:47.825533Z",
     "start_time": "2019-07-02T09:20:39.645Z"
    }
   },
   "outputs": [],
   "source": [
    "PopFlyData <- fread('/home/jmurga/mkt/201902/results/dmelData.tab', header = T, sep = \"\\t\")\n",
    "PopHumanData <- fread('/home/jmurga/mkt/201902/results/humanData.tab', header = T, sep = \"\\t\")"
   ]
  },
  {
   "cell_type": "markdown",
   "metadata": {},
   "source": [
    "**Estimating new weakly deleterious fractions through differents concatenated subset of genes. *b* is defined as the area under the asymptotic curve from 0 to frequency value where alpha is equal to the lowest value on confidence intervals. *wdOnConcatenation()* returns a list of N subset containing CI values and *b* estimations after 100 replicas.**"
   ]
  },
  {
   "cell_type": "markdown",
   "metadata": {},
   "source": [
    "### Ral"
   ]
  },
  {
   "cell_type": "code",
   "execution_count": null,
   "metadata": {
    "ExecuteTime": {
     "start_time": "2019-07-02T09:22:02.220Z"
    }
   },
   "outputs": [],
   "source": [
    "options(repr.plot.width=5, repr.plot.height=5)"
   ]
  },
  {
   "cell_type": "code",
   "execution_count": null,
   "metadata": {
    "ExecuteTime": {
     "end_time": "2019-07-02T09:03:46.950295Z",
     "start_time": "2019-07-02T09:03:00.102Z"
    }
   },
   "outputs": [],
   "source": [
    "outRal <- wdOnConcatenation(sizes=c(1000),pop='RAL',data=PopFlyData)\n",
    "# outRal <- wdOnConcatenation(sizes=c(500,750,1000,2500,5000,7500),pop='RAL',data=PopFlyData)\n",
    "\n",
    "# save(outRal,file='/home/jmurga/mkt/201902/results/b/ciRal.RData')\n",
    "# load('/home/jmurga/mkt/201902/results/b/ciRal.RData')"
   ]
  },
  {
   "cell_type": "code",
   "execution_count": null,
   "metadata": {
    "ExecuteTime": {
     "end_time": "2019-07-02T09:18:45.155085Z",
     "start_time": "2019-07-02T09:18:41.725Z"
    }
   },
   "outputs": [],
   "source": [
    "ciValuesRal <- data.table()\n",
    "\n",
    "for(i in names(outRal)){\n",
    "    # Save plots\n",
    "    svg(paste0('/home/jmurga/mkt/201902/results/b/wdRal',i,'.svg'))\n",
    "    print(outRal[[i]][['plot']])\n",
    "    dev.off()\n",
    "   \n",
    "    # Save mean CI and sd by subset\n",
    "    tmp <- data.table(mean(outRal[[i]][['ci']][,1],na.rm=T),mean(outRal[[i]][['ci']][,3]-outRal[[i]][['ci']][,2],na.rm=T),sd(outRal[[i]][['ci']][,3]-outRal[[i]][['ci']][,2],na.rm=T),as.numeric(i),'RAL')\n",
    "    ciValuesRal <- rbind(ciValuesRal,tmp)\n",
    "    \n",
    "}\n",
    "\n",
    "colnames(ciValuesRal) <- c('alphaMean','meanCi','sdCi','subsetLength','pop');ciValuesRal"
   ]
  },
  {
   "cell_type": "markdown",
   "metadata": {
    "heading_collapsed": true
   },
   "source": [
    "#### One iteration"
   ]
  },
  {
   "cell_type": "code",
   "execution_count": null,
   "metadata": {
    "ExecuteTime": {
     "start_time": "2019-07-02T09:22:04.736Z"
    },
    "hidden": true
   },
   "outputs": [],
   "source": [
    "# Subset genes and create list of 3500 subset\n",
    "genes <- unique(PopFlyData[['id']]) %>% as.matrix()\n",
    "set.seed(13753)\n",
    "subsetGenes <- sample(genes,size=5000)\n",
    "\n",
    "bootSamplesBin <- samplingGenes(geneList = subsetGenes,B=3500,bins=5000)\n",
    "data=PopFlyData;sampling = bootSamplesBin;bins = 5000;population='RAL'\n",
    "\n",
    "data <- data %>% as.data.table;data <- data[pop==population];data$id <- as.character(data$id)\n",
    "\n",
    "# Define local variables and select iteration\n",
    "output <- data.frame()\n",
    "xlow <- 0; xhigh <- 1; i<-10\n",
    "\n",
    "sampling[[i]] <- sampling[[i]] %>% as.data.frame\n",
    "colnames(sampling[[i]]) <- 'id'\n",
    "\n",
    "# SubsetData and create Daf/Div variables\n",
    "subsetData <- merge(sampling[[i]],data,by='id',all.x=T)\n",
    "\n",
    "divergence <- subsetData[,c('mi', 'di', 'm0', 'd0')]\n",
    "colnames(divergence) <- c('mi', 'Di', 'm0', 'D0')\n",
    "divergence <- divergence %>% summarize(mi=sum(mi),Di=sum(Di),m0=sum(m0),D0=sum(D0))\n",
    "\n",
    "sfs0f <- as.data.frame(subsetData[['DAF0f']])\n",
    "colnames(sfs0f) <- 'sfs0f'\n",
    "sfs0f <- cSplit(sfs0f, 'sfs0f', ';') %>% colSums\n",
    "sfs0f <- as.numeric(sfs0f)\n",
    "\n",
    "sfs4f <- as.data.frame(subsetData[['DAF4f']]) \n",
    "colnames(sfs4f) <- 'sfs4f'\n",
    "sfs4f <- cSplit(sfs4f, 'sfs4f', ';') %>% colSums\n",
    "sfs4f <- as.numeric(sfs4f)\n",
    "\n",
    "daf <- cbind(daf=seq(0.05,1,0.05), sfs0f, sfs4f) %>% as.data.frame\n",
    "colnames(daf) <- c('daf','Pi','P0')\n",
    "\n",
    "D0 <- divergence$D0\n",
    "Di <- divergence$Di\n",
    "Pi <- sum(daf$Pi)\n",
    "P0 <- sum(daf$P0)\n",
    "\n",
    "# Execute iMKT and plot results\n",
    "resultsRal <- iMKT(daf=daf,div=divergence,xlow=xlow,xhigh=xhigh,plot=T);resultsRal"
   ]
  },
  {
   "cell_type": "markdown",
   "metadata": {},
   "source": [
    "### CEU"
   ]
  },
  {
   "cell_type": "code",
   "execution_count": null,
   "metadata": {
    "ExecuteTime": {
     "end_time": "2019-07-02T09:20:15.081713Z",
     "start_time": "2019-07-02T09:19:18.541Z"
    }
   },
   "outputs": [],
   "source": [
    "outCeu <- wdOnConcatenation(sizes=c(5000),pop='CEU',data=PopHumanData)\n",
    "# outCeu <- wdOnConcatenation(sizes=c(1000,2500,5000,7500),pop='CEU',data=PopHumanData)\n",
    "# save(outCeu,file='/home/jmurga/mkt/201902/results/b/ciCeu.RData')\n",
    "load('/home/jmurga/mkt/201902/results/b/ciCeu.RData')"
   ]
  },
  {
   "cell_type": "code",
   "execution_count": null,
   "metadata": {},
   "outputs": [],
   "source": [
    "ciValuesCeu <- data.table()\n",
    "\n",
    "for(i in names(outCeu)){\n",
    "    # Save plots\n",
    "    svg(paste0('/home/jmurga/mkt/201902/results/b/wdCeu',i,'.svg'))\n",
    "    print(outCeu[[i]]['plot'])\n",
    "    dev.off()\n",
    "    \n",
    "    # Save mean CI and sd by subset\n",
    "    tmp <- data.table(mean(outCeu[[i]][['ci']][,1],na.rm=T),mean(outCeu[[i]][['ci']][,3]-outCeu[[i]][['ci']][,2],na.rm=T),sd(outCeu[[i]][['ci']][,3]-outCeu[[i]][['ci']][,2],na.rm=T),as.numeric(i),'Ceu')\n",
    "    ciValuesCeu <- rbind(ciValuesCeu,tmp)\n",
    "    \n",
    "}\n",
    "\n",
    "colnames(ciValuesCeu) <- c('alphaMean','meanCi','sdCi','subsetLength','pop');ciValuesCeu"
   ]
  },
  {
   "cell_type": "markdown",
   "metadata": {
    "heading_collapsed": true
   },
   "source": [
    "#### One iteration"
   ]
  },
  {
   "cell_type": "code",
   "execution_count": null,
   "metadata": {
    "ExecuteTime": {
     "start_time": "2019-07-02T09:22:04.736Z"
    },
    "hidden": true
   },
   "outputs": [],
   "source": [
    "# Subset genes and create list of 3500 subset\n",
    "genes <- unique(PopHumanData[['id']]) %>% as.matrix()\n",
    "set.seed(13753)\n",
    "subsetGenes <- sample(genes,size=5000)\n",
    "\n",
    "bootSamplesBin <- samplingGenes(geneList = subsetGenes,B=3500,bins=5000)\n",
    "data=PopHumanData;sampling = bootSamplesBin;bins = 5000;population='CEU'\n",
    "\n",
    "data <- data %>% as.data.table;data <- data[pop==population];data$id <- as.character(data$id)\n",
    "\n",
    "# Define local variables and select iteration\n",
    "output <- data.frame()\n",
    "xlow <- 0; xhigh <- 1; i<-10\n",
    "\n",
    "sampling[[i]] <- sampling[[i]] %>% as.data.frame\n",
    "colnames(sampling[[i]]) <- 'id'\n",
    "\n",
    "# SubsetData and create Daf/Div variables\n",
    "subsetData <- merge(sampling[[i]],data,by='id',all.x=T)\n",
    "\n",
    "divergence <- subsetData[,c('mi', 'di', 'm0', 'd0')]\n",
    "colnames(divergence) <- c('mi', 'Di', 'm0', 'D0')\n",
    "divergence <- divergence %>% summarize(mi=sum(mi),Di=sum(Di),m0=sum(m0),D0=sum(D0))\n",
    "\n",
    "sfs0f <- as.data.frame(subsetData[['DAF0f']])\n",
    "colnames(sfs0f) <- 'sfs0f'\n",
    "sfs0f <- cSplit(sfs0f, 'sfs0f', ';') %>% colSums\n",
    "sfs0f <- as.numeric(sfs0f)\n",
    "\n",
    "sfs4f <- as.data.frame(subsetData[['DAF4f']]) \n",
    "colnames(sfs4f) <- 'sfs4f'\n",
    "sfs4f <- cSplit(sfs4f, 'sfs4f', ';') %>% colSums\n",
    "sfs4f <- as.numeric(sfs4f)\n",
    "\n",
    "daf <- cbind(daf=seq(0.05,1,0.05), sfs0f, sfs4f) %>% as.data.frame\n",
    "colnames(daf) <- c('daf','Pi','P0')\n",
    "\n",
    "D0 <- divergence$D0\n",
    "Di <- divergence$Di\n",
    "Pi <- sum(daf$Pi)\n",
    "P0 <- sum(daf$P0)\n",
    "\n",
    "# Execute iMKT and plot results\n",
    "resultsCeu <- iMKT(daf=daf,div=divergence,xlow=xlow,xhigh=xhigh,plot=T);resultsCeu"
   ]
  },
  {
   "cell_type": "markdown",
   "metadata": {
    "heading_collapsed": true
   },
   "source": [
    "### Merge and save CI values"
   ]
  },
  {
   "cell_type": "code",
   "execution_count": null,
   "metadata": {
    "hidden": true
   },
   "outputs": [],
   "source": [
    "ciValues <- rbind(ciValuesRal,ciValuesCeu);ciValues\n",
    "fwrite(ciValues,file=)"
   ]
  }
 ],
 "metadata": {
  "kernelspec": {
   "display_name": "R",
   "language": "R",
   "name": "ir"
  },
  "language_info": {
   "codemirror_mode": "r",
   "file_extension": ".r",
   "mimetype": "text/x-r-source",
   "name": "R",
   "pygments_lexer": "r",
   "version": "3.5.1"
  },
  "toc": {
   "base_numbering": 1,
   "nav_menu": {},
   "number_sections": true,
   "sideBar": true,
   "skip_h1_title": false,
   "title_cell": "Table of Contents",
   "title_sidebar": "Contents",
   "toc_cell": false,
   "toc_position": {},
   "toc_section_display": true,
   "toc_window_display": false
  },
  "varInspector": {
   "cols": {
    "lenName": 16,
    "lenType": 16,
    "lenVar": 40
   },
   "kernels_config": {
    "python": {
     "delete_cmd_postfix": "",
     "delete_cmd_prefix": "del ",
     "library": "var_list.py",
     "varRefreshCmd": "print(var_dic_list())"
    },
    "r": {
     "delete_cmd_postfix": ") ",
     "delete_cmd_prefix": "rm(",
     "library": "var_list.r",
     "varRefreshCmd": "cat(var_dic_list()) "
    }
   },
   "types_to_exclude": [
    "module",
    "function",
    "builtin_function_or_method",
    "instance",
    "_Feature"
   ],
   "window_display": false
  }
 },
 "nbformat": 4,
 "nbformat_minor": 2
}
